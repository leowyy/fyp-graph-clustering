{
 "cells": [
  {
   "cell_type": "markdown",
   "metadata": {},
   "source": [
    "# Residual Gated Graph ConvNets\n",
    "### Xavier Bresson, Jan. 15 2018"
   ]
  },
  {
   "cell_type": "code",
   "execution_count": 1,
   "metadata": {},
   "outputs": [
    {
     "name": "stdout",
     "output_type": "stream",
     "text": [
      "cuda not available\n",
      "cuda not available\n"
     ]
    }
   ],
   "source": [
    "import torch\n",
    "from torch.autograd import Variable\n",
    "import torch.nn.functional as F\n",
    "import torch.nn as nn\n",
    "import pdb \n",
    "import time\n",
    "import numpy as np\n",
    "import pickle\n",
    "\n",
    "if torch.cuda.is_available():\n",
    "    print('cuda available')\n",
    "    dtypeFloat = torch.cuda.FloatTensor\n",
    "    dtypeLong = torch.cuda.LongTensor\n",
    "    #torch.cuda.manual_seed(1)\n",
    "else:\n",
    "    print('cuda not available')\n",
    "    dtypeFloat = torch.FloatTensor\n",
    "    dtypeLong = torch.LongTensor\n",
    "    #torch.manual_seed(1)\n",
    "    \n",
    "import core.block as block\n",
    "import core.graph_generator as g\n",
    "from core.GraphConvNet import GraphConvNet\n",
    "\n",
    "from sklearn.metrics import confusion_matrix"
   ]
  },
  {
   "cell_type": "code",
   "execution_count": 2,
   "metadata": {},
   "outputs": [],
   "source": [
    "\n",
    "#################\n",
    "# select task and task parameters\n",
    "#################\n",
    "\n",
    "\n",
    "# subgraph matching\n",
    "if 2==1:\n",
    "    task_parameters = {}\n",
    "    task_parameters['flag_task'] = 'matching'\n",
    "    task_parameters['nb_communities'] = 10\n",
    "    task_parameters['nb_clusters_target'] = 2\n",
    "    task_parameters['Voc'] = 3\n",
    "    task_parameters['size_min'] = 15\n",
    "    task_parameters['size_max'] = 25\n",
    "    task_parameters['size_subgraph'] = 20\n",
    "    task_parameters['p'] = 0.5\n",
    "    task_parameters['q'] = 0.1\n",
    "    task_parameters['W0'] = block.random_graph(task_parameters['size_subgraph'],task_parameters['p'])\n",
    "    task_parameters['u0'] = np.random.randint(task_parameters['Voc'],size=task_parameters['size_subgraph'])\n",
    "\n",
    "    \n",
    "# semi-supervised clustering\n",
    "if 1==1:\n",
    "    task_parameters = {}\n",
    "    task_parameters['flag_task'] = 'clustering'\n",
    "    task_parameters['nb_communities'] = 10\n",
    "    task_parameters['nb_clusters_target'] = task_parameters['nb_communities']\n",
    "    task_parameters['Voc'] = task_parameters['nb_communities'] + 1\n",
    "    task_parameters['size_min'] = 5\n",
    "    task_parameters['size_max'] = 25\n",
    "    task_parameters['p'] = 0.5\n",
    "    task_parameters['q'] = 0.1  \n",
    "    \n",
    "#print(task_parameters)"
   ]
  },
  {
   "cell_type": "code",
   "execution_count": 3,
   "metadata": {},
   "outputs": [],
   "source": [
    "\n",
    "#################\n",
    "# network and optimization parameters\n",
    "#################\n",
    "\n",
    "# network parameters\n",
    "net_parameters = {}\n",
    "net_parameters['Voc'] = task_parameters['Voc']\n",
    "net_parameters['D'] = 50\n",
    "net_parameters['nb_clusters_target'] = task_parameters['nb_clusters_target']\n",
    "net_parameters['H'] = 50\n",
    "net_parameters['L'] = 10\n",
    "#print(net_parameters)\n",
    "\n",
    "\n",
    "# optimization parameters\n",
    "opt_parameters = {}\n",
    "opt_parameters['learning_rate'] = 0.00075   # ADAM\n",
    "opt_parameters['max_iters'] = 5000   \n",
    "opt_parameters['batch_iters'] = 100\n",
    "if 2==1: # fast debugging\n",
    "    opt_parameters['max_iters'] = 101 \n",
    "    opt_parameters['batch_iters'] = 10\n",
    "opt_parameters['decay_rate'] = 1.25   \n",
    "#print(opt_parameters)\n"
   ]
  },
  {
   "cell_type": "code",
   "execution_count": 4,
   "metadata": {},
   "outputs": [],
   "source": [
    "#print(result)"
   ]
  },
  {
   "cell_type": "markdown",
   "metadata": {},
   "source": [
    "## Load model and test"
   ]
  },
  {
   "cell_type": "code",
   "execution_count": 5,
   "metadata": {},
   "outputs": [
    {
     "data": {
      "text/plain": [
       "{'Voc': 11, 'D': 50, 'nb_clusters_target': 10, 'H': 50, 'L': 10}"
      ]
     },
     "execution_count": 5,
     "metadata": {},
     "output_type": "execute_result"
    }
   ],
   "source": [
    "net_parameters"
   ]
  },
  {
   "cell_type": "code",
   "execution_count": 6,
   "metadata": {},
   "outputs": [
    {
     "name": "stdout",
     "output_type": "stream",
     "text": [
      "\n",
      "nb of hidden layers= 10\n",
      "dim of layers (w/ embed dim)= [50, 50, 50, 50, 50, 50, 50, 50, 50, 50, 50]\n",
      "\n",
      "\n"
     ]
    }
   ],
   "source": [
    "net = GraphConvNet(net_parameters, task_parameters)"
   ]
  },
  {
   "cell_type": "code",
   "execution_count": 7,
   "metadata": {},
   "outputs": [],
   "source": [
    "filename = 'data/checkpoint.pth.tar'\n",
    "checkpoint = torch.load(filename)\n",
    "net.load_state_dict(checkpoint['state_dict'])\n",
    "#net.eval()"
   ]
  },
  {
   "cell_type": "code",
   "execution_count": 8,
   "metadata": {},
   "outputs": [],
   "source": [
    "task_parameters['flag_task'] = 'clustering'\n",
    "task_parameters['nb_communities'] = 10\n",
    "task_parameters['nb_clusters_target'] = task_parameters['nb_communities']\n",
    "task_parameters['Voc'] = task_parameters['nb_communities'] + 1\n",
    "task_parameters['size_min'] = 20\n",
    "task_parameters['size_max'] = 30"
   ]
  },
  {
   "cell_type": "code",
   "execution_count": 9,
   "metadata": {},
   "outputs": [
    {
     "name": "stdout",
     "output_type": "stream",
     "text": [
      "(248, 248)\n"
     ]
    }
   ],
   "source": [
    "test_x = g.graph_semi_super_clu(task_parameters)\n",
    "test_y = test_x.target\n",
    "test_y = Variable( torch.LongTensor(test_y).type(dtypeLong) , requires_grad=False) \n",
    "\n",
    "print(test_x.adj_matrix.shape)"
   ]
  },
  {
   "cell_type": "code",
   "execution_count": 10,
   "metadata": {},
   "outputs": [
    {
     "name": "stdout",
     "output_type": "stream",
     "text": [
      "torch.FloatTensor\n",
      "torch.Size([248, 50])\n",
      "torch.FloatTensor\n",
      "torch.FloatTensor\n",
      "torch.Size([248, 50])\n",
      "torch.FloatTensor\n",
      "torch.FloatTensor\n",
      "torch.Size([248, 50])\n",
      "torch.FloatTensor\n",
      "torch.FloatTensor\n",
      "torch.Size([248, 50])\n",
      "torch.FloatTensor\n",
      "torch.FloatTensor\n",
      "torch.Size([248, 50])\n",
      "torch.FloatTensor\n"
     ]
    },
    {
     "name": "stderr",
     "output_type": "stream",
     "text": [
      "/Users/signapoop/anaconda3/envs/py36/lib/python3.6/site-packages/torch/nn/functional.py:1006: UserWarning: nn.functional.sigmoid is deprecated. Use torch.sigmoid instead.\n",
      "  warnings.warn(\"nn.functional.sigmoid is deprecated. Use torch.sigmoid instead.\")\n"
     ]
    }
   ],
   "source": [
    "# forward, loss\n",
    "y = net.forward(test_x)\n",
    "labels = test_y.data.cpu().numpy()"
   ]
  },
  {
   "cell_type": "code",
   "execution_count": 11,
   "metadata": {},
   "outputs": [],
   "source": [
    "C = np.argmax( torch.nn.Softmax(dim=0)(y).data.cpu().numpy() , axis=1)"
   ]
  },
  {
   "cell_type": "code",
   "execution_count": 12,
   "metadata": {},
   "outputs": [
    {
     "data": {
      "text/plain": [
       "array([3, 3, 3, 2, 3, 1, 3, 5, 8, 0, 0, 3, 1, 4, 8, 2, 0, 7, 6, 6, 7, 4,\n",
       "       8, 1, 0, 2, 3, 5, 4, 1, 4, 4, 8, 8, 9, 7, 5, 6, 6, 1, 5, 5, 3, 8,\n",
       "       9, 8, 8, 2, 6, 2, 6, 6, 9, 7, 1, 8, 4, 2, 0, 7, 8, 9, 9, 3, 2, 9,\n",
       "       0, 4, 4, 6, 7, 9, 6, 0, 5, 4, 2, 5, 8, 1, 6, 0, 3, 9, 1, 1, 2, 5,\n",
       "       0, 4, 8, 9, 0, 6, 4, 7, 8, 1, 1, 3, 2, 0, 5, 6, 9, 4, 4, 7, 1, 5,\n",
       "       6, 8, 1, 6, 7, 8, 5, 9, 4, 2, 8, 2, 4, 0, 1, 7, 9, 5, 7, 8, 2, 3,\n",
       "       2, 9, 2, 6, 9, 7, 5, 4, 7, 5, 1, 5, 0, 3, 4, 8, 0, 6, 0, 0, 0, 8,\n",
       "       3, 8, 2, 7, 6, 5, 5, 7, 6, 7, 2, 5, 9, 6, 8, 1, 5, 5, 9, 4, 3, 1,\n",
       "       5, 0, 3, 3, 5, 9, 5, 1, 2, 6, 1, 6, 8, 7, 1, 4, 9, 0, 8, 2, 2, 7,\n",
       "       3, 5, 5, 6, 3, 8, 5, 6, 9, 7, 5, 7, 8, 8, 1, 0, 6, 1, 4, 9, 6, 5,\n",
       "       4, 0, 4, 1, 0, 4, 4, 3, 4, 3, 9, 7, 4, 9, 3, 1, 4, 0, 8, 0, 1, 2,\n",
       "       9, 3, 4, 4, 1, 1])"
      ]
     },
     "execution_count": 12,
     "metadata": {},
     "output_type": "execute_result"
    }
   ],
   "source": [
    "C"
   ]
  },
  {
   "cell_type": "code",
   "execution_count": 13,
   "metadata": {},
   "outputs": [],
   "source": [
    "S = test_y.data.cpu().numpy()"
   ]
  },
  {
   "cell_type": "code",
   "execution_count": 14,
   "metadata": {},
   "outputs": [
    {
     "data": {
      "text/plain": [
       "array([3, 3, 3, 2, 3, 1, 3, 5, 8, 0, 0, 3, 1, 4, 8, 2, 0, 7, 6, 6, 7, 4,\n",
       "       8, 1, 0, 2, 3, 5, 4, 1, 4, 4, 8, 8, 7, 7, 5, 6, 6, 1, 5, 5, 3, 8,\n",
       "       9, 8, 8, 2, 6, 2, 6, 6, 9, 7, 1, 8, 4, 2, 0, 7, 8, 9, 9, 3, 2, 9,\n",
       "       0, 4, 4, 6, 7, 9, 6, 0, 5, 4, 2, 5, 8, 1, 6, 0, 3, 9, 1, 1, 2, 5,\n",
       "       0, 4, 8, 7, 0, 6, 4, 7, 8, 1, 1, 3, 2, 0, 5, 6, 9, 4, 4, 7, 1, 5,\n",
       "       6, 8, 1, 6, 7, 8, 5, 9, 4, 2, 8, 2, 4, 0, 1, 7, 9, 5, 7, 8, 2, 3,\n",
       "       2, 9, 2, 6, 9, 7, 5, 4, 7, 5, 1, 8, 0, 3, 4, 8, 0, 6, 0, 0, 0, 8,\n",
       "       3, 8, 2, 7, 6, 5, 5, 7, 6, 7, 2, 5, 9, 6, 8, 1, 5, 5, 9, 4, 3, 1,\n",
       "       5, 0, 3, 3, 5, 9, 5, 1, 2, 6, 1, 6, 8, 7, 1, 4, 9, 0, 8, 2, 2, 7,\n",
       "       3, 5, 5, 6, 3, 8, 5, 6, 9, 7, 5, 7, 8, 8, 1, 0, 6, 1, 4, 9, 6, 5,\n",
       "       4, 0, 4, 1, 0, 4, 4, 3, 4, 3, 9, 7, 4, 9, 3, 1, 4, 0, 8, 0, 1, 2,\n",
       "       9, 3, 4, 4, 1, 1])"
      ]
     },
     "execution_count": 14,
     "metadata": {},
     "output_type": "execute_result"
    }
   ],
   "source": [
    "S"
   ]
  },
  {
   "cell_type": "code",
   "execution_count": 15,
   "metadata": {},
   "outputs": [],
   "source": [
    "# CM = confusion_matrix(y_true=S, y_pred=C).astype(np.float32)\n",
    "# nb_classes = CM.shape[0]\n",
    "# for r in range(nb_classes):\n",
    "#     cluster = np.where(S==r)[0]\n",
    "#     CM[r,:] /= cluster.shape[0]"
   ]
  },
  {
   "cell_type": "code",
   "execution_count": 16,
   "metadata": {},
   "outputs": [
    {
     "data": {
      "text/plain": [
       "array([[24,  0,  0,  0,  0,  0,  0,  0,  0,  0],\n",
       "       [ 0, 27,  0,  0,  0,  0,  0,  0,  0,  0],\n",
       "       [ 0,  0, 21,  0,  0,  0,  0,  0,  0,  0],\n",
       "       [ 0,  0,  0, 23,  0,  0,  0,  0,  0,  0],\n",
       "       [ 0,  0,  0,  0, 29,  0,  0,  0,  0,  0],\n",
       "       [ 0,  0,  0,  0,  0, 27,  0,  0,  0,  0],\n",
       "       [ 0,  0,  0,  0,  0,  0, 25,  0,  0,  0],\n",
       "       [ 0,  0,  0,  0,  0,  0,  0, 21,  0,  2],\n",
       "       [ 0,  0,  0,  0,  0,  1,  0,  0, 27,  0],\n",
       "       [ 0,  0,  0,  0,  0,  0,  0,  0,  0, 21]])"
      ]
     },
     "execution_count": 16,
     "metadata": {},
     "output_type": "execute_result"
    }
   ],
   "source": [
    "CM = confusion_matrix(y_true=S, y_pred=C)\n",
    "CM"
   ]
  },
  {
   "cell_type": "code",
   "execution_count": 17,
   "metadata": {},
   "outputs": [],
   "source": [
    "E_start = test_x.edge_to_starting_vertex\n",
    "E_start = torch.from_numpy(E_start.toarray()).type(dtypeFloat)"
   ]
  },
  {
   "cell_type": "code",
   "execution_count": 18,
   "metadata": {},
   "outputs": [
    {
     "data": {
      "text/plain": [
       "torch.Size([8810, 248])"
      ]
     },
     "execution_count": 18,
     "metadata": {},
     "output_type": "execute_result"
    }
   ],
   "source": [
    "E_start.shape"
   ]
  },
  {
   "cell_type": "code",
   "execution_count": 19,
   "metadata": {},
   "outputs": [
    {
     "data": {
      "text/plain": [
       "torch.Size([8810, 248])"
      ]
     },
     "execution_count": 19,
     "metadata": {},
     "output_type": "execute_result"
    }
   ],
   "source": [
    "E_end = test_x.edge_to_ending_vertex \n",
    "E_end = torch.from_numpy(E_end.toarray()).type(dtypeFloat)\n",
    "E_end.shape"
   ]
  },
  {
   "cell_type": "code",
   "execution_count": 20,
   "metadata": {},
   "outputs": [
    {
     "data": {
      "text/plain": [
       "array([3, 3, 3, 2, 3, 1, 3, 5, 8, 0, 0, 3, 1, 4, 8, 2, 0, 7, 6, 6, 7, 4,\n",
       "       8, 1, 0, 2, 3, 5, 4, 1, 4, 4, 8, 8, 7, 7, 5, 6, 6, 1, 5, 5, 3, 8,\n",
       "       9, 8, 8, 2, 6, 2, 6, 6, 9, 7, 1, 8, 4, 2, 0, 7, 8, 9, 9, 3, 2, 9,\n",
       "       0, 4, 4, 6, 7, 9, 6, 0, 5, 4, 2, 5, 8, 1, 6, 0, 3, 9, 1, 1, 2, 5,\n",
       "       0, 4, 8, 7, 0, 6, 4, 7, 8, 1, 1, 3, 2, 0, 5, 6, 9, 4, 4, 7, 1, 5,\n",
       "       6, 8, 1, 6, 7, 8, 5, 9, 4, 2, 8, 2, 4, 0, 1, 7, 9, 5, 7, 8, 2, 3,\n",
       "       2, 9, 2, 6, 9, 7, 5, 4, 7, 5, 1, 8, 0, 3, 4, 8, 0, 6, 0, 0, 0, 8,\n",
       "       3, 8, 2, 7, 6, 5, 5, 7, 6, 7, 2, 5, 9, 6, 8, 1, 5, 5, 9, 4, 3, 1,\n",
       "       5, 0, 3, 3, 5, 9, 5, 1, 2, 6, 1, 6, 8, 7, 1, 4, 9, 0, 8, 2, 2, 7,\n",
       "       3, 5, 5, 6, 3, 8, 5, 6, 9, 7, 5, 7, 8, 8, 1, 0, 6, 1, 4, 9, 6, 5,\n",
       "       4, 0, 4, 1, 0, 4, 4, 3, 4, 3, 9, 7, 4, 9, 3, 1, 4, 0, 8, 0, 1, 2,\n",
       "       9, 3, 4, 4, 1, 1])"
      ]
     },
     "execution_count": 20,
     "metadata": {},
     "output_type": "execute_result"
    }
   ],
   "source": [
    "test_x.target.numpy()"
   ]
  },
  {
   "cell_type": "code",
   "execution_count": 21,
   "metadata": {},
   "outputs": [],
   "source": [
    "# Extract embeddings"
   ]
  },
  {
   "cell_type": "code",
   "execution_count": 22,
   "metadata": {},
   "outputs": [],
   "source": [
    "all_X = [net.tracker[i].detach().numpy() for i in range(len(net.tracker))]\n",
    "y = test_x.target.numpy()\n",
    "import pickle\n",
    "filename = 'data/embedding.pkl'\n",
    "with open(filename, 'wb') as f:\n",
    "    pickle.dump([all_X, y], f)"
   ]
  },
  {
   "cell_type": "code",
   "execution_count": 23,
   "metadata": {},
   "outputs": [
    {
     "name": "stdout",
     "output_type": "stream",
     "text": [
      "(248, 50)\n",
      "(248,)\n"
     ]
    }
   ],
   "source": [
    "print(all_X[0].shape)\n",
    "print(y.shape)"
   ]
  },
  {
   "cell_type": "code",
   "execution_count": 24,
   "metadata": {},
   "outputs": [
    {
     "name": "stdout",
     "output_type": "stream",
     "text": [
      "torch.FloatTensor\n",
      "torch.Size([248, 50])\n",
      "torch.FloatTensor\n",
      "torch.FloatTensor\n",
      "torch.Size([248, 50])\n",
      "torch.FloatTensor\n",
      "torch.FloatTensor\n",
      "torch.Size([248, 50])\n",
      "torch.FloatTensor\n",
      "torch.FloatTensor\n",
      "torch.Size([248, 50])\n",
      "torch.FloatTensor\n"
     ]
    },
    {
     "name": "stderr",
     "output_type": "stream",
     "text": [
      "/Users/signapoop/anaconda3/envs/py36/lib/python3.6/site-packages/torch/nn/functional.py:1006: UserWarning: nn.functional.sigmoid is deprecated. Use torch.sigmoid instead.\n",
      "  warnings.warn(\"nn.functional.sigmoid is deprecated. Use torch.sigmoid instead.\")\n"
     ]
    },
    {
     "name": "stdout",
     "output_type": "stream",
     "text": [
      "torch.FloatTensor\n",
      "torch.Size([248, 50])\n",
      "torch.FloatTensor\n"
     ]
    },
    {
     "data": {
      "text/plain": [
       "torch.Size([248, 10])"
      ]
     },
     "execution_count": 24,
     "metadata": {},
     "output_type": "execute_result"
    }
   ],
   "source": [
    "y = net.forward(test_x)\n",
    "y.shape"
   ]
  },
  {
   "cell_type": "code",
   "execution_count": 25,
   "metadata": {},
   "outputs": [
    {
     "data": {
      "text/plain": [
       "tensor([ 4,  0,  0,  0,  0,  0,  0,  0,  0,  0,  0,  0,  0,  0,  0,  0,  0,  0,\n",
       "         0,  0,  0,  0,  0,  0,  0,  0,  0,  0,  0,  0,  0,  0,  0,  0,  0,  0,\n",
       "         0,  0,  0,  0,  6,  0,  0,  0,  0,  0,  0,  0,  0,  0,  0,  0,  0,  0,\n",
       "         0,  0,  0,  0,  0,  0,  0,  0,  0,  0,  0,  0,  0,  0,  0,  0,  0,  0,\n",
       "         0,  0,  0,  0,  0,  0,  0,  0,  0,  0,  0,  0,  0,  0,  0,  0,  0,  0,\n",
       "         0,  0,  0,  0,  0,  0,  0,  0,  2,  0,  0,  0,  0,  0,  0,  0,  0,  0,\n",
       "         0,  0,  0,  0,  0,  0,  0,  9,  0,  0,  0,  0,  0,  0,  0,  0,  0,  0,\n",
       "         0,  0,  0,  0,  0,  0,  0,  0,  0,  0,  0,  0,  0,  0,  0,  0,  0,  0,\n",
       "         0,  0,  0,  0,  0,  0,  0,  0,  0,  0,  0,  0,  0,  0,  0,  0,  0,  0,\n",
       "         0,  0,  0,  0,  0,  0,  0,  0,  0,  0,  0,  0,  0,  0,  0,  1,  0,  0,\n",
       "         0,  0,  0,  0,  0,  0,  0,  0,  0,  8,  0,  0,  0,  0,  0,  3,  0,  0,\n",
       "         0,  0,  0,  0,  0,  0,  0,  0, 10,  0,  0,  0,  0,  0,  0,  0,  7,  0,\n",
       "         0,  0,  0,  0,  0,  0,  0,  0,  0,  0,  0,  0,  0,  0,  0,  0,  0,  0,\n",
       "         0,  0,  0,  0,  0,  0,  0,  0,  0,  0,  5,  0,  0,  0])"
      ]
     },
     "execution_count": 25,
     "metadata": {},
     "output_type": "execute_result"
    }
   ],
   "source": [
    "test_x.signal"
   ]
  },
  {
   "cell_type": "code",
   "execution_count": null,
   "metadata": {},
   "outputs": [],
   "source": []
  }
 ],
 "metadata": {
  "kernelspec": {
   "display_name": "Python (py36)",
   "language": "python",
   "name": "py36"
  },
  "language_info": {
   "codemirror_mode": {
    "name": "ipython",
    "version": 3
   },
   "file_extension": ".py",
   "mimetype": "text/x-python",
   "name": "python",
   "nbconvert_exporter": "python",
   "pygments_lexer": "ipython3",
   "version": "3.6.6"
  }
 },
 "nbformat": 4,
 "nbformat_minor": 1
}
