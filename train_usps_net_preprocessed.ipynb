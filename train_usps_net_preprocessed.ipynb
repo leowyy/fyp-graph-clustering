{
 "cells": [
  {
   "cell_type": "code",
   "execution_count": 1,
   "metadata": {},
   "outputs": [
    {
     "name": "stdout",
     "output_type": "stream",
     "text": [
      "cuda available\n"
     ]
    }
   ],
   "source": [
    "%matplotlib inline\n",
    "import matplotlib.pyplot as plt\n",
    "\n",
    "import os\n",
    "import time\n",
    "from timeit import default_timer as timer\n",
    "import torch\n",
    "from torch.autograd import Variable\n",
    "\n",
    "import numpy as np\n",
    "import pickle\n",
    "import pathlib\n",
    "\n",
    "if torch.cuda.is_available():\n",
    "    print('cuda available')\n",
    "    dtypeFloat = torch.cuda.FloatTensor\n",
    "    dtypeLong = torch.cuda.LongTensor\n",
    "else:\n",
    "    print('cuda not available')\n",
    "    dtypeFloat = torch.FloatTensor\n",
    "    dtypeLong = torch.LongTensor"
   ]
  },
  {
   "cell_type": "code",
   "execution_count": 2,
   "metadata": {},
   "outputs": [],
   "source": [
    "from core.SimpleConvNet import SimpleConvNet\n",
    "from core.GraphConvNet2 import GraphConvNet2\n",
    "from core.DataEmbeddingGraph import DataEmbeddingGraph\n",
    "from util.mnist_data_loader import get_train_set, get_test_set\n",
    "from util.plot_embedding import plot_embedding, plot_embedding_subplot\n",
    "from util.draw_random_subset import draw_random_subset\n",
    "from util.evaluation_metrics import evaluate_net_metrics, evaluate_embedding_metrics"
   ]
  },
  {
   "cell_type": "code",
   "execution_count": 3,
   "metadata": {},
   "outputs": [],
   "source": [
    "def save_checkpoint(state, filename):\n",
    "    torch.save(state, filename)"
   ]
  },
  {
   "cell_type": "code",
   "execution_count": 4,
   "metadata": {},
   "outputs": [],
   "source": [
    "task_parameters = {}\n",
    "task_parameters['net_type'] = 'graph_net'\n",
    "task_parameters['reduction_method'] = 'preprocessed_tsne'\n",
    "task_parameters['loss_function'] = 'pairwise_loss'\n",
    "task_parameters['n_components'] = 2\n",
    "\n",
    "net_parameters = {}\n",
    "net_parameters['n_components'] = task_parameters['n_components']\n",
    "net_parameters['D'] = 784 # input dimension\n",
    "net_parameters['H'] = 50 # number of hidden units\n",
    "net_parameters['L'] = 10 # number of hidden layers\n",
    "net_parameters['n_channels'] = 1 # for conv net\n",
    "net_parameters['n_units_1'] = net_parameters['n_units_2'] = net_parameters['H'] # for conv net"
   ]
  },
  {
   "cell_type": "code",
   "execution_count": 5,
   "metadata": {},
   "outputs": [
    {
     "name": "stdout",
     "output_type": "stream",
     "text": [
      "GraphConvNet2(\n",
      "  (gnn_cells): ModuleList(\n",
      "    (0): GraphConvNetCell(\n",
      "      (Ui1): Linear(in_features=784, out_features=50, bias=False)\n",
      "      (Uj1): Linear(in_features=784, out_features=50, bias=False)\n",
      "      (Vi1): Linear(in_features=784, out_features=50, bias=False)\n",
      "      (Vj1): Linear(in_features=784, out_features=50, bias=False)\n",
      "      (Ui2): Linear(in_features=50, out_features=50, bias=False)\n",
      "      (Uj2): Linear(in_features=50, out_features=50, bias=False)\n",
      "      (Vi2): Linear(in_features=50, out_features=50, bias=False)\n",
      "      (Vj2): Linear(in_features=50, out_features=50, bias=False)\n",
      "      (bn1): BatchNorm1d(50, eps=1e-05, momentum=0.1, affine=True, track_running_stats=True)\n",
      "      (bn2): BatchNorm1d(50, eps=1e-05, momentum=0.1, affine=True, track_running_stats=True)\n",
      "      (R): Linear(in_features=784, out_features=50, bias=False)\n",
      "    )\n",
      "    (1): GraphConvNetCell(\n",
      "      (Ui1): Linear(in_features=50, out_features=50, bias=False)\n",
      "      (Uj1): Linear(in_features=50, out_features=50, bias=False)\n",
      "      (Vi1): Linear(in_features=50, out_features=50, bias=False)\n",
      "      (Vj1): Linear(in_features=50, out_features=50, bias=False)\n",
      "      (Ui2): Linear(in_features=50, out_features=50, bias=False)\n",
      "      (Uj2): Linear(in_features=50, out_features=50, bias=False)\n",
      "      (Vi2): Linear(in_features=50, out_features=50, bias=False)\n",
      "      (Vj2): Linear(in_features=50, out_features=50, bias=False)\n",
      "      (bn1): BatchNorm1d(50, eps=1e-05, momentum=0.1, affine=True, track_running_stats=True)\n",
      "      (bn2): BatchNorm1d(50, eps=1e-05, momentum=0.1, affine=True, track_running_stats=True)\n",
      "      (R): Linear(in_features=50, out_features=50, bias=False)\n",
      "    )\n",
      "    (2): GraphConvNetCell(\n",
      "      (Ui1): Linear(in_features=50, out_features=50, bias=False)\n",
      "      (Uj1): Linear(in_features=50, out_features=50, bias=False)\n",
      "      (Vi1): Linear(in_features=50, out_features=50, bias=False)\n",
      "      (Vj1): Linear(in_features=50, out_features=50, bias=False)\n",
      "      (Ui2): Linear(in_features=50, out_features=50, bias=False)\n",
      "      (Uj2): Linear(in_features=50, out_features=50, bias=False)\n",
      "      (Vi2): Linear(in_features=50, out_features=50, bias=False)\n",
      "      (Vj2): Linear(in_features=50, out_features=50, bias=False)\n",
      "      (bn1): BatchNorm1d(50, eps=1e-05, momentum=0.1, affine=True, track_running_stats=True)\n",
      "      (bn2): BatchNorm1d(50, eps=1e-05, momentum=0.1, affine=True, track_running_stats=True)\n",
      "      (R): Linear(in_features=50, out_features=50, bias=False)\n",
      "    )\n",
      "    (3): GraphConvNetCell(\n",
      "      (Ui1): Linear(in_features=50, out_features=50, bias=False)\n",
      "      (Uj1): Linear(in_features=50, out_features=50, bias=False)\n",
      "      (Vi1): Linear(in_features=50, out_features=50, bias=False)\n",
      "      (Vj1): Linear(in_features=50, out_features=50, bias=False)\n",
      "      (Ui2): Linear(in_features=50, out_features=50, bias=False)\n",
      "      (Uj2): Linear(in_features=50, out_features=50, bias=False)\n",
      "      (Vi2): Linear(in_features=50, out_features=50, bias=False)\n",
      "      (Vj2): Linear(in_features=50, out_features=50, bias=False)\n",
      "      (bn1): BatchNorm1d(50, eps=1e-05, momentum=0.1, affine=True, track_running_stats=True)\n",
      "      (bn2): BatchNorm1d(50, eps=1e-05, momentum=0.1, affine=True, track_running_stats=True)\n",
      "      (R): Linear(in_features=50, out_features=50, bias=False)\n",
      "    )\n",
      "    (4): GraphConvNetCell(\n",
      "      (Ui1): Linear(in_features=50, out_features=50, bias=False)\n",
      "      (Uj1): Linear(in_features=50, out_features=50, bias=False)\n",
      "      (Vi1): Linear(in_features=50, out_features=50, bias=False)\n",
      "      (Vj1): Linear(in_features=50, out_features=50, bias=False)\n",
      "      (Ui2): Linear(in_features=50, out_features=50, bias=False)\n",
      "      (Uj2): Linear(in_features=50, out_features=50, bias=False)\n",
      "      (Vi2): Linear(in_features=50, out_features=50, bias=False)\n",
      "      (Vj2): Linear(in_features=50, out_features=50, bias=False)\n",
      "      (bn1): BatchNorm1d(50, eps=1e-05, momentum=0.1, affine=True, track_running_stats=True)\n",
      "      (bn2): BatchNorm1d(50, eps=1e-05, momentum=0.1, affine=True, track_running_stats=True)\n",
      "      (R): Linear(in_features=50, out_features=50, bias=False)\n",
      "    )\n",
      "  )\n",
      "  (fc): Linear(in_features=50, out_features=2, bias=True)\n",
      ")\n"
     ]
    }
   ],
   "source": [
    "if task_parameters['net_type'] == 'graph_net':\n",
    "    net = GraphConvNet2(net_parameters)\n",
    "elif task_parameters['net_type'] == 'conv_net':\n",
    "    net = SimpleConvNet(net_parameters)\n",
    "if torch.cuda.is_available():\n",
    "    net.cuda()\n",
    "print(net)"
   ]
  },
  {
   "cell_type": "code",
   "execution_count": 6,
   "metadata": {},
   "outputs": [],
   "source": [
    "# optimization parameters\n",
    "opt_parameters = {}\n",
    "opt_parameters['learning_rate'] = 0.00075   # ADAM\n",
    "opt_parameters['max_iters'] = 200   \n",
    "opt_parameters['batch_iters'] = 10\n",
    "opt_parameters['max_train_size'] = 7291  \n",
    "opt_parameters['save_flag'] = True\n",
    "\n",
    "if 2==1: # fast debugging\n",
    "    opt_parameters['max_iters'] = 5 \n",
    "    opt_parameters['batch_iters'] = 1\n",
    "    opt_parameters['save_flag'] = False\n",
    "\n",
    "opt_parameters['decay_rate'] = 1.25   "
   ]
  },
  {
   "cell_type": "code",
   "execution_count": 7,
   "metadata": {},
   "outputs": [],
   "source": [
    "if opt_parameters['save_flag']: \n",
    "    checkpoint_interval = opt_parameters['max_iters']/5\n",
    "    checkpoint_root = 'results/usps_' + task_parameters['reduction_method'] + '2/'\n",
    "    pathlib.Path(checkpoint_root).mkdir(exist_ok=True) # create the directory if it doesn't exist"
   ]
  },
  {
   "cell_type": "markdown",
   "metadata": {},
   "source": [
    "## Prepare data"
   ]
  },
  {
   "cell_type": "code",
   "execution_count": 8,
   "metadata": {},
   "outputs": [],
   "source": [
    "# Pre-processed train data\n",
    "parent_dir = os.path.abspath('..')\n",
    "filename = parent_dir + '/data/set_7291_usps_tsne.pkl'\n",
    "with open(filename, 'rb') as f:\n",
    "    [inputs, labels, X_emb] = pickle.load(f)"
   ]
  },
  {
   "cell_type": "code",
   "execution_count": 9,
   "metadata": {},
   "outputs": [],
   "source": [
    "all_train_data = []\n",
    "num_train_samples = 0\n",
    "while num_train_samples <= opt_parameters['max_train_size']:\n",
    "    # Draw a random training batch of variable size\n",
    "    num_samples = np.random.randint(200, 500)\n",
    "    inputs_subset = inputs[num_train_samples:num_train_samples+num_samples]\n",
    "    labels_subset = labels[num_train_samples:num_train_samples+num_samples]\n",
    "    X_emb_subset = X_emb[num_train_samples:num_train_samples+num_samples]\n",
    "    \n",
    "    # Package into graph block\n",
    "    G = DataEmbeddingGraph(inputs_subset, labels_subset, 'spectral')\n",
    "    G.target = X_emb_subset\n",
    "    \n",
    "    all_train_data.append(G)\n",
    "    num_train_samples += num_samples  "
   ]
  },
  {
   "cell_type": "code",
   "execution_count": 10,
   "metadata": {},
   "outputs": [
    {
     "name": "stdout",
     "output_type": "stream",
     "text": [
      "Dataset sizes = [241, 243, 323, 434, 288, 333, 242, 424, 357, 314, 226, 335, 435, 407, 269, 471, 370, 290, 399, 318, 303, 269]\n",
      "Total number of samples = 7291\n"
     ]
    }
   ],
   "source": [
    "dataset_sizes = [len(G.labels) for G in all_train_data]\n",
    "print(\"Dataset sizes = {}\".format(dataset_sizes))\n",
    "print(\"Total number of samples = {}\".format(sum(dataset_sizes)))"
   ]
  },
  {
   "cell_type": "code",
   "execution_count": null,
   "metadata": {},
   "outputs": [],
   "source": [
    "all_train_data = all_train_data[:len(all_train_data)-1]"
   ]
  },
  {
   "cell_type": "code",
   "execution_count": null,
   "metadata": {},
   "outputs": [],
   "source": [
    "dataset_sizes = [len(G.labels) for G in all_train_data]\n",
    "print(\"Dataset sizes = {}\".format(dataset_sizes))\n",
    "print(\"Total number of samples = {}\".format(sum(dataset_sizes)))"
   ]
  },
  {
   "cell_type": "code",
   "execution_count": 11,
   "metadata": {},
   "outputs": [],
   "source": [
    "# Test set\n",
    "filename = parent_dir + '/data/set_100_usps_spectral_size_200_500.pkl'\n",
    "with open(filename, 'rb') as f:\n",
    "    [all_test_data] = pickle.load(f)"
   ]
  },
  {
   "cell_type": "markdown",
   "metadata": {},
   "source": [
    "## Train net"
   ]
  },
  {
   "cell_type": "code",
   "execution_count": 12,
   "metadata": {},
   "outputs": [
    {
     "name": "stderr",
     "output_type": "stream",
     "text": [
      "/home/leowyaoyang/miniconda3/lib/python3.6/site-packages/ipykernel_launcher.py:39: UserWarning: invalid index of a 0-dim tensor. This will be an error in PyTorch 0.5. Use tensor.item() to convert a 0-dim tensor to a Python number\n"
     ]
    },
    {
     "name": "stdout",
     "output_type": "stream",
     "text": [
      "\n",
      "iteration= 0, loss(10iter)= 1631.16320801, lr= 0.00075000, time(10iter)= 3.87\n",
      "Trust = 0.7610, 1-NN = 0.4270, time to compute = 0.20s\n",
      "\n",
      "iteration= 10, loss(10iter)= 487.86465454, lr= 0.00075000, time(10iter)= 58.53\n",
      "Trust = 0.8494, 1-NN = 0.7538, time to compute = 0.20s\n",
      "\n",
      "iteration= 20, loss(10iter)= 85.83869934, lr= 0.00075000, time(10iter)= 58.03\n",
      "Trust = 0.8714, 1-NN = 0.7700, time to compute = 0.20s\n",
      "\n",
      "iteration= 30, loss(10iter)= 39.70128250, lr= 0.00075000, time(10iter)= 58.42\n",
      "Trust = 0.8803, 1-NN = 0.7882, time to compute = 0.20s\n",
      "\n",
      "iteration= 40, loss(10iter)= 28.51106453, lr= 0.00075000, time(10iter)= 58.85\n",
      "Trust = 0.8803, 1-NN = 0.7877, time to compute = 0.21s\n",
      "\n",
      "iteration= 50, loss(10iter)= 16.16175461, lr= 0.00075000, time(10iter)= 63.05\n",
      "Trust = 0.8800, 1-NN = 0.7883, time to compute = 0.22s\n",
      "\n",
      "iteration= 60, loss(10iter)= 15.25123215, lr= 0.00075000, time(10iter)= 63.05\n",
      "Trust = 0.8836, 1-NN = 0.7968, time to compute = 0.21s\n",
      "\n",
      "iteration= 70, loss(10iter)= 18.35150719, lr= 0.00060000, time(10iter)= 63.03\n",
      "Trust = 0.8884, 1-NN = 0.8083, time to compute = 0.21s\n",
      "\n",
      "iteration= 80, loss(10iter)= 9.70130157, lr= 0.00060000, time(10iter)= 63.09\n",
      "Trust = 0.8862, 1-NN = 0.7997, time to compute = 0.22s\n",
      "\n",
      "iteration= 90, loss(10iter)= 7.11564016, lr= 0.00060000, time(10iter)= 63.12\n",
      "Trust = 0.8852, 1-NN = 0.7960, time to compute = 0.22s\n",
      "\n",
      "iteration= 100, loss(10iter)= 8.28667355, lr= 0.00048000, time(10iter)= 63.29\n",
      "Trust = 0.8848, 1-NN = 0.7973, time to compute = 0.22s\n",
      "\n",
      "iteration= 110, loss(10iter)= 9.60659122, lr= 0.00038400, time(10iter)= 63.69\n",
      "Trust = 0.8815, 1-NN = 0.8014, time to compute = 0.22s\n",
      "\n",
      "iteration= 120, loss(10iter)= 7.20296049, lr= 0.00038400, time(10iter)= 63.59\n",
      "Trust = 0.8847, 1-NN = 0.7977, time to compute = 0.21s\n",
      "\n",
      "iteration= 130, loss(10iter)= 5.94215393, lr= 0.00038400, time(10iter)= 63.41\n",
      "Trust = 0.8843, 1-NN = 0.7986, time to compute = 0.21s\n",
      "\n",
      "iteration= 140, loss(10iter)= 7.68442392, lr= 0.00030720, time(10iter)= 63.26\n",
      "Trust = 0.8840, 1-NN = 0.7971, time to compute = 0.22s\n",
      "\n",
      "iteration= 150, loss(10iter)= 5.52730846, lr= 0.00030720, time(10iter)= 63.18\n",
      "Trust = 0.8852, 1-NN = 0.8011, time to compute = 0.21s\n",
      "\n",
      "iteration= 160, loss(10iter)= 4.41581535, lr= 0.00030720, time(10iter)= 62.61\n",
      "Trust = 0.8833, 1-NN = 0.7979, time to compute = 0.22s\n",
      "\n",
      "iteration= 170, loss(10iter)= 6.19176102, lr= 0.00024576, time(10iter)= 63.22\n",
      "Trust = 0.8806, 1-NN = 0.7857, time to compute = 0.21s\n",
      "\n",
      "iteration= 180, loss(10iter)= 13.31868935, lr= 0.00019661, time(10iter)= 62.92\n",
      "Trust = 0.8828, 1-NN = 0.7939, time to compute = 0.22s\n",
      "\n",
      "iteration= 190, loss(10iter)= 6.73462772, lr= 0.00019661, time(10iter)= 63.56\n",
      "Trust = 0.8850, 1-NN = 0.8009, time to compute = 0.22s\n"
     ]
    }
   ],
   "source": [
    "# Optimization parameters\n",
    "learning_rate = opt_parameters['learning_rate']\n",
    "max_iters = opt_parameters['max_iters']\n",
    "batch_iters = opt_parameters['batch_iters']\n",
    "decay_rate = opt_parameters['decay_rate']\n",
    "\n",
    "# Optimizer\n",
    "global_lr = learning_rate\n",
    "global_step = 0\n",
    "lr = learning_rate\n",
    "optimizer = net.update(lr) \n",
    "\n",
    "# Statistics\n",
    "t_start = time.time()\n",
    "t_start_total = time.time()\n",
    "average_loss_old = 1e10\n",
    "running_loss = 0.0\n",
    "running_total = 0\n",
    "tab_results = []\n",
    "    \n",
    "for iteration in range(max_iters):\n",
    "    net.train()\n",
    "    for G in all_train_data:\n",
    "        # Forward pass\n",
    "        y_pred = net.forward(G)\n",
    "\n",
    "        # Target embedding matrix\n",
    "        y_true = G.target\n",
    "        y_true = Variable(torch.FloatTensor(y_true).type(dtypeFloat) , requires_grad=False) \n",
    "\n",
    "        # Compute overall loss \n",
    "        if task_parameters['loss_function'] == 'pairwise_loss':\n",
    "            loss = net.pairwise_loss(y_pred, y_true, G.adj_matrix)\n",
    "        elif task_parameters['loss_function'] == 'composite_loss':\n",
    "            loss1 = net.loss(y_pred, y_true)\n",
    "            loss2 = net.pairwise_loss(y_pred, y_true, G.adj_matrix)\n",
    "            loss = 0.5*loss1 + 0.5*loss2\n",
    "            \n",
    "        loss_train = loss.data[0]\n",
    "        running_loss += loss_train\n",
    "        running_total += 1\n",
    "\n",
    "        # Backprop\n",
    "        loss.backward()\n",
    "        optimizer.step()\n",
    "        optimizer.zero_grad()\n",
    "\n",
    "    # learning rate, print results\n",
    "    if not iteration%batch_iters:\n",
    "\n",
    "        # time\n",
    "        t_stop = time.time() - t_start\n",
    "        t_start = time.time()\n",
    "\n",
    "        # update learning rate \n",
    "        average_loss = running_loss/ running_total\n",
    "        if average_loss > 0.99* average_loss_old:\n",
    "            lr /= decay_rate\n",
    "        average_loss_old = average_loss\n",
    "        optimizer = net.update_learning_rate(optimizer, lr)\n",
    "        running_loss = 0.0\n",
    "        running_total = 0\n",
    "\n",
    "        # print results\n",
    "        print('\\niteration= %d, loss(%diter)= %.8f, lr= %.8f, time(%diter)= %.2f' %\n",
    "              (iteration, batch_iters, average_loss, lr, batch_iters, t_stop))\n",
    "            \n",
    "        # validate on test set\n",
    "        #######################\n",
    "        trustworthiness, one_nn, time_elapsed = evaluate_net_metrics(all_test_data, net)\n",
    "        print(\"Trust = {:.4f}, 1-NN = {:.4f}, time to compute = {:.2f}s\".format(trustworthiness, one_nn, time_elapsed))\n",
    "        \n",
    "        tab_results.append([iteration, average_loss, trustworthiness, one_nn, time.time()-t_start_total])\n",
    "    \n",
    "    if opt_parameters['save_flag'] and not (iteration+1)%checkpoint_interval:\n",
    "        filename = checkpoint_root + task_parameters['net_type'] + str(int((iteration+1)/checkpoint_interval)) + '.pkl'\n",
    "        save_checkpoint({\n",
    "            'state_dict': net.state_dict(),\n",
    "            'optimizer' : optimizer.state_dict(),\n",
    "        }, filename)"
   ]
  },
  {
   "cell_type": "code",
   "execution_count": 13,
   "metadata": {},
   "outputs": [],
   "source": [
    "# Save metadata \n",
    "if opt_parameters['save_flag']:\n",
    "    metadata_filename = checkpoint_root + \"experiment_metadata.txt\"\n",
    "    with open(metadata_filename, 'w') as f:\n",
    "        f.write('-----------------------\\n')\n",
    "        f.write('\\n'.join([\"%s = %s\" % (k,v) for k,v in task_parameters.items()]))\n",
    "        \n",
    "        f.write('\\n-----------------------\\n')\n",
    "        f.write('\\n'.join([\"%s = %s\" % (k,v) for k,v in net_parameters.items()]))\n",
    "        \n",
    "        f.write('\\n-----------------------\\n')\n",
    "        f.write('\\n'.join([\"%s = %s\" % (k,v) for k,v in opt_parameters.items()]))"
   ]
  },
  {
   "cell_type": "code",
   "execution_count": 33,
   "metadata": {},
   "outputs": [],
   "source": [
    "# Save logs \n",
    "if opt_parameters['save_flag']:\n",
    "    logs_filename = checkpoint_root + \"experiment_logs.txt\"\n",
    "    with open(logs_filename, 'wb') as f:\n",
    "        pickle.dump(tab_results, f)"
   ]
  },
  {
   "cell_type": "code",
   "execution_count": 21,
   "metadata": {},
   "outputs": [],
   "source": [
    "# Plot results\n",
    "iterations = [res[0] for res in tab_results]\n",
    "loss_score = [float(res[1]) for res in tab_results]\n",
    "trust_score = [res[2] for res in tab_results]\n",
    "nn_score = [res[3] for res in tab_results]\n",
    "max_loss = max(loss_score)\n",
    "loss_score = [res/max_loss for res in loss_score]"
   ]
  },
  {
   "cell_type": "code",
   "execution_count": 29,
   "metadata": {},
   "outputs": [
    {
     "data": {
      "text/plain": [
       "Text(0.5,0,'Iteration')"
      ]
     },
     "execution_count": 29,
     "metadata": {},
     "output_type": "execute_result"
    },
    {
     "data": {
      "image/png": "[encoded data removed]",
      "text/plain": [
       "<Figure size 1050x750 with 1 Axes>"
      ]
     },
     "metadata": {
      "needs_background": "light"
     },
     "output_type": "display_data"
    }
   ],
   "source": [
    "f, axarr = plt.subplots(1, 1, sharex='col', sharey='row', figsize=(7,5), dpi=150)\n",
    "plt.plot(iterations, loss_score, label='Training loss')\n",
    "plt.plot(iterations, trust_score, label='Trustworthiness')\n",
    "plt.plot(iterations, nn_score, label='1-NN accuracy')\n",
    "plt.grid()\n",
    "plt.legend()\n",
    "plt.title('200 iterations on USPS data')\n",
    "plt.xlabel('Iteration')"
   ]
  },
  {
   "cell_type": "markdown",
   "metadata": {},
   "source": [
    "## On test data"
   ]
  },
  {
   "cell_type": "code",
   "execution_count": 16,
   "metadata": {},
   "outputs": [],
   "source": [
    "# inputs, labels = draw_random_subset(test_data, num_samples=500)\n",
    "# G = DataEmbeddingGraph(inputs, labels, task_parameters['reduction_method'])\n",
    "# net_time_start = timer()\n",
    "# if torch.cuda.is_available():   \n",
    "#     y_pred = net.forward(G).cpu().detach().numpy()\n",
    "# else:    \n",
    "#     y_pred = net.forward(G).detach().numpy()\n",
    "# net_time_end = timer()\n",
    "\n",
    "# f, axarr = plt.subplots(1, 2, sharex='col', sharey='row', figsize=(10, 3), dpi=150)\n",
    "# reduction_title = task_parameters['reduction_method'] + \"\\n time elapsed = {:.2f}s\".format(G.time_to_compute) \n",
    "# cnn_title = \"Graph CNN\" + \"\\n time elapsed = {:.2f}s\".format(net_time_end - net_time_start) \n",
    "# plot_embedding_subplot(axarr[0], G.target, G.labels.numpy(), reduction_title)\n",
    "# plot_embedding_subplot(axarr[1], y_pred, G.labels.numpy(), cnn_title)"
   ]
  },
  {
   "cell_type": "code",
   "execution_count": 32,
   "metadata": {},
   "outputs": [
    {
     "data": {
      "text/plain": [
       "'results/usps_preprocessed_tsne2/graph_net5.pkl'"
      ]
     },
     "execution_count": 32,
     "metadata": {},
     "output_type": "execute_result"
    }
   ],
   "source": [
    "filename"
   ]
  },
  {
   "cell_type": "code",
   "execution_count": null,
   "metadata": {},
   "outputs": [],
   "source": []
  }
 ],
 "metadata": {
  "kernelspec": {
   "display_name": "Python 3",
   "language": "python",
   "name": "python3"
  },
  "language_info": {
   "codemirror_mode": {
    "name": "ipython",
    "version": 3
   },
   "file_extension": ".py",
   "mimetype": "text/x-python",
   "name": "python",
   "nbconvert_exporter": "python",
   "pygments_lexer": "ipython3",
   "version": "3.6.6"
  }
 },
 "nbformat": 4,
 "nbformat_minor": 2
}
