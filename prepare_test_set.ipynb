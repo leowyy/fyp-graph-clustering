{
 "cells": [
  {
   "cell_type": "code",
   "execution_count": 1,
   "metadata": {},
   "outputs": [],
   "source": [
    "%matplotlib inline\n",
    "import matplotlib.pyplot as plt\n",
    "\n",
    "import time\n",
    "from timeit import default_timer as timer\n",
    "import torch\n",
    "\n",
    "import numpy as np\n",
    "import pickle"
   ]
  },
  {
   "cell_type": "code",
   "execution_count": 2,
   "metadata": {},
   "outputs": [
    {
     "name": "stdout",
     "output_type": "stream",
     "text": [
      "cuda not available\n"
     ]
    }
   ],
   "source": [
    "from core.DimReduction import DimReduction\n",
    "from core.GraphConvNet2 import GraphConvNet2\n",
    "from core.DataEmbeddingGraph import DataEmbeddingGraph\n",
    "from util.mnist_data_loader import get_train_set, get_test_set\n",
    "from util.plot_embedding import plot_embedding, plot_embedding_subplot\n",
    "from util.draw_random_subset import draw_random_subset"
   ]
  },
  {
   "cell_type": "code",
   "execution_count": 3,
   "metadata": {},
   "outputs": [],
   "source": [
    "# Load Mnist dataset\n",
    "data_dir = 'data/mnist'\n",
    "train_data = get_train_set(data_dir)\n",
    "test_data = get_test_set(data_dir)"
   ]
  },
  {
   "cell_type": "code",
   "execution_count": 4,
   "metadata": {},
   "outputs": [],
   "source": [
    "num_datasets = 100\n",
    "all_test_data = []\n",
    "for i in range(num_datasets):\n",
    "    num_samples = np.random.randint(200, 500)\n",
    "    inputs, labels = draw_random_subset(test_data, num_samples=num_samples)\n",
    "    \n",
    "    # Unroll image vector\n",
    "    X_train = inputs.view(inputs.shape[0], -1).numpy()\n",
    "\n",
    "    # Package into graph block\n",
    "    G = DataEmbeddingGraph(X_train, labels, 'spectral')\n",
    "\n",
    "    all_test_data.append(G)"
   ]
  },
  {
   "cell_type": "code",
   "execution_count": 5,
   "metadata": {},
   "outputs": [],
   "source": [
    "with open('data/mnist_test_spectral.pkl', 'wb') as f:\n",
    "    pickle.dump([all_test_data], f)"
   ]
  },
  {
   "cell_type": "code",
   "execution_count": null,
   "metadata": {},
   "outputs": [],
   "source": []
  }
 ],
 "metadata": {
  "kernelspec": {
   "display_name": "Python (py36)",
   "language": "python",
   "name": "py36"
  },
  "language_info": {
   "codemirror_mode": {
    "name": "ipython",
    "version": 3
   },
   "file_extension": ".py",
   "mimetype": "text/x-python",
   "name": "python",
   "nbconvert_exporter": "python",
   "pygments_lexer": "ipython3",
   "version": "3.6.6"
  }
 },
 "nbformat": 4,
 "nbformat_minor": 2
}
