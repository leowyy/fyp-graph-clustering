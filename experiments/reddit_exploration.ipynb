{
 "cells": [
  {
   "cell_type": "code",
   "execution_count": 1,
   "metadata": {},
   "outputs": [
    {
     "data": {
      "text/plain": [
       "'/Users/signapoop/Desktop/fyp-graph-clustering'"
      ]
     },
     "execution_count": 1,
     "metadata": {},
     "output_type": "execute_result"
    }
   ],
   "source": [
    "import os\n",
    "os.chdir('..')\n",
    "os.getcwd()"
   ]
  },
  {
   "cell_type": "code",
   "execution_count": 2,
   "metadata": {},
   "outputs": [],
   "source": [
    "%matplotlib inline\n",
    "import matplotlib.pyplot as plt\n",
    "\n",
    "import pickle \n",
    "import numpy as np\n",
    "import pandas as pd\n",
    "import torch\n",
    "import os\n",
    "from timeit import default_timer as timer\n",
    "import networkx as nx\n",
    "import scipy.sparse as sp"
   ]
  },
  {
   "cell_type": "code",
   "execution_count": 3,
   "metadata": {},
   "outputs": [
    {
     "name": "stdout",
     "output_type": "stream",
     "text": [
      "cuda not available\n",
      "cuda not available\n"
     ]
    }
   ],
   "source": [
    "from core.SimpleNet import SimpleNet\n",
    "from core.GraphConvNet import GraphConvNet\n",
    "from core.EmbeddingDataSet import EmbeddingDataSet\n",
    "from core.GraphDataBlock import GraphDataBlock\n",
    "from util.plot_graph_embedding import plot_graph_embedding\n",
    "from util.evaluation_metrics import evaluate_viz_metrics, trustworthiness, neighborhood_preservation\n",
    "from util.network_utils import get_net_projection, _get_net_projection\n",
    "from util.graph_utils import get_shortest_path_matrix, neighbor_sampling"
   ]
  },
  {
   "cell_type": "code",
   "execution_count": 4,
   "metadata": {},
   "outputs": [],
   "source": [
    "from sklearn.manifold import TSNE"
   ]
  },
  {
   "cell_type": "code",
   "execution_count": 5,
   "metadata": {},
   "outputs": [
    {
     "name": "stdout",
     "output_type": "stream",
     "text": [
      "cuda not available\n"
     ]
    }
   ],
   "source": [
    "if torch.cuda.is_available():\n",
    "    dtypeFloat = torch.cuda.FloatTensor\n",
    "    dtypeLong = torch.cuda.LongTensor\n",
    "    print('cuda available')\n",
    "    device = 'cuda'\n",
    "else:\n",
    "    dtypeFloat = torch.FloatTensor\n",
    "    dtypeLong = torch.LongTensor\n",
    "    print('cuda not available')\n",
    "    device = 'cpu'"
   ]
  },
  {
   "cell_type": "code",
   "execution_count": 6,
   "metadata": {},
   "outputs": [
    {
     "name": "stdout",
     "output_type": "stream",
     "text": [
      "Data blocks of length:  [23699]\n",
      "Time to create all data (s) = 0.0975\n",
      "Name of dataset = reddit_full\n",
      "Input dimension = 602\n",
      "Number of training samples = 23699\n",
      "Training labels = True\n"
     ]
    }
   ],
   "source": [
    "dataset_name = 'reddit_full'\n",
    "parent_dir = os.path.abspath('..')\n",
    "input_dir = os.path.join(parent_dir, 'data')\n",
    "dataset = EmbeddingDataSet(dataset_name, input_dir, train=True)\n",
    "dataset.create_all_data(n_batches=1, shuffle=False)\n",
    "dataset.summarise()"
   ]
  },
  {
   "cell_type": "code",
   "execution_count": 8,
   "metadata": {},
   "outputs": [],
   "source": [
    "X = dataset.inputs"
   ]
  },
  {
   "cell_type": "code",
   "execution_count": 9,
   "metadata": {},
   "outputs": [
    {
     "data": {
      "text/plain": [
       "array([ 2.29590437e-13,  1.57702133e-13,  8.10965474e-17,  2.44042705e-17,\n",
       "       -4.16070121e-17,  5.72936731e-18,  1.80032368e-17, -8.10450159e-18,\n",
       "       -3.31675557e-18,  2.00668396e-17, -9.54035693e-18,  2.54284593e-17,\n",
       "        9.76428478e-17, -2.06969295e-17,  7.80889810e-17, -5.57266466e-17,\n",
       "        4.28859305e-17, -8.59077169e-17,  7.00500649e-17,  5.01190811e-17,\n",
       "       -3.98104362e-17,  2.75623324e-17,  5.15080896e-17,  4.83318745e-17,\n",
       "       -1.93899029e-17,  3.61423294e-18,  4.46309750e-17, -6.24936712e-18,\n",
       "        2.98648541e-18,  6.24468244e-18,  2.96891785e-17, -5.49934938e-17,\n",
       "       -1.34965717e-17,  2.98086379e-17,  3.02677369e-17, -3.56691764e-17,\n",
       "        2.92089985e-17, -2.01207135e-17,  7.96396110e-19,  6.32432205e-19,\n",
       "       -2.64142923e-17,  3.27927810e-17, -1.02828792e-18,  3.76367432e-17,\n",
       "       -4.21293542e-17,  1.67278318e-17,  1.06119782e-17, -2.67917021e-17,\n",
       "        3.28864747e-17,  2.04252179e-17,  2.61405312e-18,  1.02594558e-18,\n",
       "        1.40821571e-17,  1.43632381e-17,  4.48933172e-17,  1.23441397e-17,\n",
       "       -1.87738671e-17, -9.33376241e-17,  8.13823131e-17, -6.58432196e-17,\n",
       "       -1.22409596e-16, -2.33812529e-17,  1.43358912e-16,  2.85250348e-17,\n",
       "       -4.00399856e-17,  8.54134828e-18,  1.36839590e-17,  7.98328542e-18,\n",
       "       -2.17462985e-17,  1.50190937e-17,  4.01067424e-17,  1.20461939e-16,\n",
       "        7.13477221e-17, -6.87711465e-18, -8.58093385e-17,  1.30215449e-16,\n",
       "        9.95963606e-17, -1.18944101e-17, -1.81062998e-17, -6.42738508e-17,\n",
       "        8.77909595e-18,  8.65260950e-18, -1.86501915e-16, -4.87207032e-17,\n",
       "       -2.97898992e-17,  1.04563296e-16, -4.34949393e-17,  4.51322360e-17,\n",
       "       -8.52225820e-17, -4.31459304e-18, -1.01491315e-16, -3.34451231e-17,\n",
       "       -3.95340399e-17,  1.56421565e-17,  6.92396148e-17, -8.78846531e-18,\n",
       "       -3.56972845e-17, -3.86366303e-17,  4.86551177e-17, -7.85246565e-17,\n",
       "        3.31253935e-17,  5.01331351e-17,  8.45140237e-17, -1.00776901e-16,\n",
       "       -1.16520949e-16,  1.49113460e-17, -1.46349497e-17,  4.01945802e-18,\n",
       "        6.67942102e-17, -8.78928513e-17, -2.52832342e-17, -6.54965530e-17,\n",
       "        1.18855092e-16, -3.61540411e-18, -7.49174506e-17, -5.70945741e-17,\n",
       "       -1.86872005e-17,  2.85484582e-17, -1.24548153e-16,  7.05091639e-17,\n",
       "       -7.60417745e-17, -1.49162649e-16, -9.31596062e-17,  6.90943896e-17,\n",
       "        6.62414176e-18, -2.69697200e-17,  3.04644936e-17, -1.49235262e-16,\n",
       "        1.37776527e-17, -1.00973657e-16,  2.19477399e-17,  2.34140456e-17,\n",
       "        4.86598023e-17, -3.29497179e-17, -5.96008795e-18, -4.14125977e-18,\n",
       "       -8.85686168e-17, -3.77743558e-17, -1.16531490e-17,  6.44407426e-18,\n",
       "        1.18522480e-18,  2.85402600e-17,  4.96201624e-17, -5.68720516e-18,\n",
       "        2.57001709e-17,  7.55405134e-17,  1.38783734e-17, -1.77490927e-17,\n",
       "       -2.68713417e-17, -7.60183511e-17, -1.83030565e-17, -3.33549430e-18,\n",
       "        3.08673763e-17,  6.08259241e-17,  9.81441089e-18,  9.76428478e-17,\n",
       "       -4.33239484e-17,  6.31171733e-17,  1.48808956e-17,  3.60322393e-17,\n",
       "       -4.05693548e-18, -3.56217440e-17,  4.90509734e-17,  2.95603497e-17,\n",
       "        3.94098958e-17, -7.44489823e-17,  1.73382387e-16, -9.20469940e-17,\n",
       "        1.38048239e-16, -1.80781917e-17,  4.69967399e-17,  1.50387694e-16,\n",
       "        1.98747676e-17, -8.77487973e-17, -4.00189045e-17,  2.19571092e-17,\n",
       "        5.43376381e-17,  1.13111671e-17, -2.24864784e-17, -3.45870146e-17,\n",
       "        3.50203478e-17, -3.52803477e-17,  3.71963830e-17, -2.01394522e-17,\n",
       "        9.07938413e-17, -2.53511621e-17,  2.91199895e-17, -4.99712208e-17,\n",
       "       -1.95257588e-17,  2.37513428e-17,  1.34731483e-17, -1.21333290e-18,\n",
       "       -1.43023372e-17,  3.05628719e-17,  5.29052963e-17,  1.09313564e-16,\n",
       "       -1.32974727e-16,  2.16291814e-17, -1.21989145e-17,  1.98443172e-17,\n",
       "        8.28814117e-17,  3.40283662e-17,  9.89498744e-17, -2.73491794e-17,\n",
       "       -1.98484163e-17,  1.15899057e-17,  1.09691852e-17,  2.63466572e-17,\n",
       "       -7.52770000e-17, -4.58161998e-17, -3.86954816e-17, -1.01657621e-18,\n",
       "        4.06396250e-17,  3.60017889e-17, -1.43233268e-17, -3.43855732e-18,\n",
       "       -8.07639350e-18, -2.30281449e-17, -8.60388880e-17, -1.83639574e-17,\n",
       "        1.53282828e-17, -3.87938599e-17,  6.55855620e-17, -5.85304294e-17,\n",
       "        2.96985479e-17,  1.23113469e-17, -1.32154907e-17,  1.56187331e-17,\n",
       "        5.10443060e-17, -1.17433291e-17, -5.03509729e-17,  9.49257317e-17,\n",
       "        5.74857451e-17, -3.82504367e-17, -5.30704314e-17, -1.15243202e-18,\n",
       "       -2.76431432e-17,  2.11771095e-17,  1.02313477e-17, -1.30252926e-16,\n",
       "        1.79376512e-17, -1.83182817e-17,  3.81380043e-17,  2.62693599e-17,\n",
       "       -9.34406872e-17,  3.13077365e-17,  1.60216159e-17,  1.79057954e-16,\n",
       "       -5.92745620e-17,  4.06349404e-17, -1.35451753e-17, -6.34756979e-17,\n",
       "        1.97623352e-17, -5.19016030e-17,  3.50906180e-17, -1.08216177e-18,\n",
       "        2.27207126e-17, -1.02414637e-16,  4.38205248e-17,  9.21945615e-18,\n",
       "       -3.29614296e-17,  2.38825139e-17, -3.63390860e-17,  1.48504451e-17,\n",
       "       -6.17441220e-18,  2.67495399e-17, -9.82565413e-17, -4.15601653e-17,\n",
       "       -4.14875527e-17,  7.33504241e-18, -3.15841328e-17, -6.55129494e-17,\n",
       "       -2.87534131e-17, -4.59754790e-17,  3.20760245e-17, -3.60632753e-17,\n",
       "       -8.93134814e-18,  8.26471775e-17, -3.31078259e-17,  3.63636806e-17,\n",
       "       -1.58635078e-17,  5.07819637e-17,  1.28008963e-17, -5.53858360e-17,\n",
       "        4.41554796e-17, -5.55216918e-17,  3.44417894e-17, -1.24858514e-17,\n",
       "       -1.61276068e-17,  4.40734977e-17,  9.53801459e-18,  7.00348397e-17,\n",
       "       -1.79833269e-17, -4.60363799e-17, -2.74053956e-19, -8.06037774e-17,\n",
       "        1.66868409e-17, -3.38046725e-17, -2.51942252e-17,  6.59579943e-17,\n",
       "       -1.73860298e-17,  8.61981672e-19,  8.41900779e-15,  4.80273701e-17,\n",
       "        2.90120779e-15,  2.01796000e-15,  3.91411121e-16, -2.87742599e-15,\n",
       "       -8.79057342e-16,  8.52869964e-16, -3.59264592e-15,  2.02211531e-15,\n",
       "        1.92409300e-15, -3.73610057e-17,  2.71815146e-15, -9.91756761e-16,\n",
       "       -7.31963449e-15,  8.26356532e-15, -6.25237001e-15, -2.87055883e-15,\n",
       "        1.75423225e-16, -1.23113469e-17, -5.07443926e-15,  6.88446960e-16,\n",
       "       -4.09103177e-15, -9.41548437e-15, -3.39480356e-15,  9.02644487e-15,\n",
       "       -1.54297062e-16, -3.38120626e-15,  2.43289642e-16, -5.51461178e-15,\n",
       "       -1.72042172e-15,  1.61183077e-15,  2.16490913e-17, -4.52970900e-15,\n",
       "        2.89746238e-15, -6.62037059e-16, -1.00478533e-14,  9.19017688e-16,\n",
       "        1.13837797e-18,  1.09145853e-15,  1.95032254e-15, -1.52949161e-15,\n",
       "       -1.96861272e-15,  1.48914361e-16,  4.58934970e-17,  5.18355489e-16,\n",
       "       -4.04967422e-16,  3.65311580e-17, -5.20262155e-16, -1.39699121e-15,\n",
       "        3.14467779e-15,  5.14593480e-15, -3.37982311e-16, -9.90669914e-17,\n",
       "       -2.45910254e-15, -1.07447515e-14,  5.02047639e-15,  9.58520809e-15,\n",
       "        3.65887796e-15, -5.50833460e-15,  1.24360766e-14, -3.07684124e-15,\n",
       "       -9.87020781e-15, -1.11161812e-14,  1.48879226e-16,  5.75708190e-15,\n",
       "        5.38710437e-16, -2.86500456e-15,  4.53017981e-15, -1.20584490e-14,\n",
       "       -1.14687598e-15, -3.06902953e-16, -6.79419576e-15, -7.29567233e-15,\n",
       "        1.27106178e-14, -6.64548050e-15, -3.75298388e-15, -1.96946416e-15,\n",
       "       -1.65086824e-15,  2.49836721e-15,  1.59023842e-14,  5.14078608e-15,\n",
       "       -1.23432496e-15,  5.49672156e-15,  8.06205837e-16, -2.61677023e-16,\n",
       "        3.93374987e-15, -1.19695525e-15,  2.30600710e-15,  1.94446669e-15,\n",
       "        2.37996887e-15,  2.64929599e-15,  3.88713446e-15,  4.81162854e-15,\n",
       "       -4.33109718e-15, -2.53404341e-15, -7.12679420e-15,  7.32857755e-16,\n",
       "       -5.07786376e-15,  1.21297218e-15, -7.14577653e-15, -1.08800510e-14,\n",
       "       -3.93194814e-15,  3.94905894e-16,  3.10481582e-15,  1.57748033e-15,\n",
       "        1.72546244e-15, -6.87226132e-15,  1.72761740e-16, -1.25839955e-16,\n",
       "        8.55732305e-15,  9.96956759e-16,  1.10883074e-14, -5.50163082e-15,\n",
       "       -1.88987608e-15, -5.29281107e-15,  1.03642990e-14,  5.06261980e-16,\n",
       "       -1.54558935e-15, -4.32013971e-15,  1.13551563e-15,  2.06475061e-15,\n",
       "        5.73794028e-16,  1.65141634e-15,  2.83685664e-16, -2.65566013e-15,\n",
       "        2.51339802e-15,  1.30073503e-15, -1.79555936e-15, -1.75631577e-15,\n",
       "       -9.29729684e-15,  3.66660696e-16, -2.46137461e-15, -4.97920902e-15,\n",
       "        3.06903656e-15, -9.06973368e-16, -1.86150095e-15, -4.90129806e-15,\n",
       "        2.32572493e-15,  2.38961932e-15,  1.09720429e-14, -2.00824865e-15,\n",
       "        4.55725962e-16,  5.90925914e-17,  1.18759056e-15,  3.36500780e-16,\n",
       "       -1.05392602e-15,  2.88243860e-16, -7.35587285e-15, -3.62467978e-16,\n",
       "       -2.15397040e-16, -7.83836475e-15,  1.59266339e-15,  5.01784360e-15,\n",
       "       -2.09606772e-15, -7.13238771e-15, -1.12853282e-16, -2.66876084e-15,\n",
       "       -3.65469923e-15, -5.29485945e-15, -1.50378559e-15,  3.64871220e-16,\n",
       "        1.33589826e-15,  5.95751137e-17,  4.89563662e-15, -2.82657376e-16,\n",
       "        1.46964127e-15,  6.51058505e-16,  5.42910724e-15,  7.77835396e-16,\n",
       "       -4.63253311e-15,  3.66810679e-18,  2.19761759e-15, -7.94694399e-16,\n",
       "       -1.66460548e-15, -1.50292126e-15, -8.42727625e-16,  3.65657310e-15,\n",
       "       -4.49305136e-15, -1.67135435e-15,  8.65485815e-16,  1.04914413e-15,\n",
       "        6.27255279e-15,  1.48025677e-15,  3.80443107e-16,  2.57381169e-16,\n",
       "       -3.27653756e-15,  1.72424443e-15,  3.42749679e-15,  1.79844278e-15,\n",
       "        4.85375145e-15,  7.07550160e-15, -2.53535044e-17,  1.56117541e-14,\n",
       "        3.32252124e-15, -7.66569905e-15,  1.39014689e-15,  1.23753397e-15,\n",
       "       -1.57557250e-15,  1.09064491e-14, -2.88485327e-15,  4.87385050e-15,\n",
       "       -4.26042406e-15,  1.10477849e-14,  2.10965798e-15, -8.54842215e-16,\n",
       "        4.43363084e-15, -7.32600097e-15, -3.81370674e-16,  1.57082574e-15,\n",
       "       -2.68134390e-15, -2.04912719e-15,  6.08528610e-16, -1.35602834e-16,\n",
       "        4.12754771e-15,  3.14677418e-15,  6.62007780e-15, -6.82605160e-16,\n",
       "        2.70952695e-16,  2.14658734e-15, -2.72512695e-16, -9.15266428e-15,\n",
       "        1.09142134e-15, -1.94732903e-16,  2.56027764e-15,  3.16977071e-15,\n",
       "        1.07087169e-15,  7.01074523e-15, -4.13357689e-16, -9.18184283e-15,\n",
       "       -2.61094249e-15, -2.25110027e-15,  4.20335056e-15,  7.36863159e-16,\n",
       "       -5.66799796e-16,  9.69401454e-17,  7.64525743e-15,  1.50041027e-16,\n",
       "        5.45104561e-15,  8.94488688e-16, -4.91189013e-18,  2.66939328e-15,\n",
       "       -4.13294446e-15,  2.53214143e-16,  3.62174248e-15,  4.90882166e-16,\n",
       "       -5.33463124e-15,  9.37254573e-16, -2.43349958e-16, -3.28843578e-15,\n",
       "       -1.61074217e-15,  4.07401115e-16, -2.29713431e-16, -5.55151625e-15,\n",
       "        3.15173761e-16, -8.16187022e-15, -1.87864689e-15,  3.26290045e-15,\n",
       "        9.41293941e-16, -9.69768733e-15, -4.83045628e-15,  1.19037795e-17,\n",
       "        3.88158779e-16, -1.24768931e-14, -8.17376932e-15, -2.73563938e-15,\n",
       "       -3.57181782e-15,  9.13564717e-16, -9.44745967e-16, -1.31560193e-14,\n",
       "       -1.08175795e-14,  1.03376841e-15, -1.29546242e-15,  1.14615454e-16,\n",
       "       -1.27468819e-15,  2.54952746e-15,  7.20127129e-16, -9.52760523e-15,\n",
       "        3.56869796e-15, -1.47243334e-15, -1.27082333e-15, -4.55359386e-15,\n",
       "        2.03421819e-16,  2.16961724e-16,  1.93349750e-15,  4.10237690e-17,\n",
       "       -3.76169505e-15, -1.08379368e-14, -5.21671542e-15,  6.49879019e-15,\n",
       "        2.79065864e-15,  1.03641584e-16,  4.93011354e-16,  3.49828703e-17,\n",
       "        6.45212020e-16, -2.89110527e-15, -7.73962100e-15, -5.91816941e-15,\n",
       "        2.24959590e-15,  6.20111489e-17])"
      ]
     },
     "execution_count": 9,
     "metadata": {},
     "output_type": "execute_result"
    }
   ],
   "source": [
    "np.mean(X, axis=0)"
   ]
  },
  {
   "cell_type": "code",
   "execution_count": 10,
   "metadata": {},
   "outputs": [
    {
     "name": "stdout",
     "output_type": "stream",
     "text": [
      "Initial set of 50 points was expanded to 3060 points\n"
     ]
    }
   ],
   "source": [
    "sampled_block = dataset.get_sample_block(n_initial=50, sample_neighbors=True, verbose=1)"
   ]
  },
  {
   "cell_type": "code",
   "execution_count": 11,
   "metadata": {},
   "outputs": [
    {
     "data": {
      "text/plain": [
       "(3060, 602)"
      ]
     },
     "execution_count": 11,
     "metadata": {},
     "output_type": "execute_result"
    }
   ],
   "source": [
    "X_sampled = sampled_block.inputs.numpy()\n",
    "X_sampled.shape"
   ]
  },
  {
   "cell_type": "code",
   "execution_count": 12,
   "metadata": {},
   "outputs": [],
   "source": [
    "embedder = TSNE(n_components=2, perplexity=30, metric='cosine', verbose=0)\n",
    "y_pred_tsne_cos = embedder.fit_transform(X_sampled)"
   ]
  },
  {
   "cell_type": "code",
   "execution_count": 13,
   "metadata": {},
   "outputs": [],
   "source": [
    "embedder = TSNE(n_components=2, perplexity=30, metric='euclidean', verbose=0)\n",
    "y_pred_tsne_euc = embedder.fit_transform(X_sampled)"
   ]
  },
  {
   "cell_type": "code",
   "execution_count": 14,
   "metadata": {},
   "outputs": [
    {
     "name": "stdout",
     "output_type": "stream",
     "text": [
      "One NN accuracy = 0.5078\n",
      "Avg graph distance = 2.0880\n",
      "Avg feature distance = 0.5050\n",
      "Total distance = 2.5930\n"
     ]
    }
   ],
   "source": [
    "res = evaluate_viz_metrics(y_pred_tsne_cos, sampled_block, verbose=1)"
   ]
  },
  {
   "cell_type": "code",
   "execution_count": 15,
   "metadata": {},
   "outputs": [
    {
     "name": "stdout",
     "output_type": "stream",
     "text": [
      "One NN accuracy = 0.4624\n",
      "Avg graph distance = 1.8456\n",
      "Avg feature distance = 0.8565\n",
      "Total distance = 2.7022\n"
     ]
    }
   ],
   "source": [
    "res = evaluate_viz_metrics(y_pred_tsne_euc, sampled_block, verbose=1)"
   ]
  },
  {
   "cell_type": "code",
   "execution_count": null,
   "metadata": {},
   "outputs": [],
   "source": [
    "feats = X_sampled\n",
    "feats[:,0] = np.log(X_sampled[:,0]+1.0)\n",
    "feats[:,1] = np.log(X_sampled[:,1]-min(np.min(X_sampled[:,1]), -1))"
   ]
  },
  {
   "cell_type": "code",
   "execution_count": null,
   "metadata": {},
   "outputs": [],
   "source": [
    "embedder = TSNE(n_components=2, perplexity=30, metric='cosine', verbose=0)\n",
    "y_pred_tsne_cos_second = embedder.fit_transform(feats)"
   ]
  },
  {
   "cell_type": "code",
   "execution_count": null,
   "metadata": {},
   "outputs": [],
   "source": [
    "res = evaluate_viz_metrics(y_pred_tsne_cos_second, sampled_block, verbose=1)"
   ]
  },
  {
   "cell_type": "code",
   "execution_count": null,
   "metadata": {},
   "outputs": [],
   "source": [
    "embedder = TSNE(n_components=2, perplexity=30, metric='euclidean', verbose=0)\n",
    "y_pred_tsne_euc_second = embedder.fit_transform(feats)"
   ]
  },
  {
   "cell_type": "code",
   "execution_count": null,
   "metadata": {},
   "outputs": [],
   "source": [
    "res = evaluate_viz_metrics(y_pred_tsne_euc_second, sampled_block, verbose=1)"
   ]
  },
  {
   "cell_type": "code",
   "execution_count": null,
   "metadata": {},
   "outputs": [],
   "source": [
    "np.mean(feats, axis=0)"
   ]
  },
  {
   "cell_type": "code",
   "execution_count": null,
   "metadata": {},
   "outputs": [],
   "source": [
    "from sklearn.preprocessing import StandardScaler\n",
    "scaler = StandardScaler()\n",
    "Z = scaler.fit_transform(X_sampled)"
   ]
  },
  {
   "cell_type": "code",
   "execution_count": null,
   "metadata": {},
   "outputs": [],
   "source": [
    "np.mean(Z, axis=0)"
   ]
  },
  {
   "cell_type": "code",
   "execution_count": null,
   "metadata": {},
   "outputs": [],
   "source": [
    "embedder = TSNE(n_components=2, perplexity=30, metric='cosine', verbose=0)\n",
    "y_pred_tsne_cos_third = embedder.fit_transform(Z)"
   ]
  },
  {
   "cell_type": "code",
   "execution_count": null,
   "metadata": {},
   "outputs": [],
   "source": [
    "res = evaluate_viz_metrics(y_pred_tsne_cos_third, sampled_block, verbose=1)"
   ]
  },
  {
   "cell_type": "code",
   "execution_count": null,
   "metadata": {},
   "outputs": [],
   "source": [
    "embedder = TSNE(n_components=2, perplexity=30, metric='euclidean', verbose=0)\n",
    "y_pred_tsne_euc_third = embedder.fit_transform(Z)"
   ]
  },
  {
   "cell_type": "code",
   "execution_count": null,
   "metadata": {},
   "outputs": [],
   "source": [
    "res = evaluate_viz_metrics(y_pred_tsne_euc_third, sampled_block, verbose=1)"
   ]
  },
  {
   "cell_type": "code",
   "execution_count": null,
   "metadata": {},
   "outputs": [],
   "source": [
    "from sklearn.preprocessing import StandardScaler\n",
    "scaler = StandardScaler()\n",
    "Z = scaler.fit_transform(X)"
   ]
  },
  {
   "cell_type": "code",
   "execution_count": null,
   "metadata": {},
   "outputs": [],
   "source": [
    "Z.shape"
   ]
  },
  {
   "cell_type": "code",
   "execution_count": null,
   "metadata": {},
   "outputs": [],
   "source": [
    "import pickle\n",
    "with open('reddit_full.pkl', 'wb') as f:\n",
    "    pickle.dump([Z, dataset.labels, dataset.adj_matrix], f)"
   ]
  },
  {
   "cell_type": "code",
   "execution_count": null,
   "metadata": {},
   "outputs": [],
   "source": [
    "dataset_name = 'reddit_full'\n",
    "parent_dir = os.path.abspath('..')\n",
    "input_dir = os.path.join(parent_dir, 'data')\n",
    "dataset = EmbeddingDataSet(dataset_name, input_dir, train=True)\n",
    "dataset.create_all_data(n_batches=1, shuffle=False)\n",
    "dataset.summarise()"
   ]
  },
  {
   "cell_type": "code",
   "execution_count": null,
   "metadata": {},
   "outputs": [],
   "source": [
    "np.mean(dataset.inputs.toarray(), axis=0)"
   ]
  },
  {
   "cell_type": "code",
   "execution_count": null,
   "metadata": {},
   "outputs": [],
   "source": []
  }
 ],
 "metadata": {
  "kernelspec": {
   "display_name": "Python (py36)",
   "language": "python",
   "name": "py36"
  },
  "language_info": {
   "codemirror_mode": {
    "name": "ipython",
    "version": 3
   },
   "file_extension": ".py",
   "mimetype": "text/x-python",
   "name": "python",
   "nbconvert_exporter": "python",
   "pygments_lexer": "ipython3",
   "version": "3.6.7"
  }
 },
 "nbformat": 4,
 "nbformat_minor": 2
}
