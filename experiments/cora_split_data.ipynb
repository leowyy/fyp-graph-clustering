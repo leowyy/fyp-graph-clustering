{
 "cells": [
  {
   "cell_type": "code",
   "execution_count": 1,
   "metadata": {},
   "outputs": [
    {
     "data": {
      "text/plain": [
       "'/Users/signapoop/Desktop/fyp-graph-clustering'"
      ]
     },
     "execution_count": 1,
     "metadata": {},
     "output_type": "execute_result"
    }
   ],
   "source": [
    "import os\n",
    "os.chdir('..')\n",
    "os.getcwd()"
   ]
  },
  {
   "cell_type": "code",
   "execution_count": 2,
   "metadata": {},
   "outputs": [],
   "source": [
    "import pickle \n",
    "import numpy as np\n",
    "import torch\n",
    "import os"
   ]
  },
  {
   "cell_type": "code",
   "execution_count": 3,
   "metadata": {},
   "outputs": [],
   "source": [
    "from core.SimpleNet import SimpleNet\n",
    "from core.OldGraphConvNet2 import OldGraphConvNet2\n",
    "from core.DataEmbeddingGraph import DataEmbeddingGraph\n",
    "from core.EmbeddingDataSet import EmbeddingDataSet\n",
    "from util.plot_embedding import plot_embedding, plot_embedding_subplot\n",
    "from util.evaluation_metrics import evaluate_net_metrics, evaluate_embedding_metrics\n",
    "from core.DimReduction import DimReduction"
   ]
  },
  {
   "cell_type": "code",
   "execution_count": 4,
   "metadata": {},
   "outputs": [
    {
     "name": "stdout",
     "output_type": "stream",
     "text": [
      "Name of dataset = cora\n",
      "Input dimension = 1433\n",
      "Number of training samples = 2708\n",
      "Training labels = True\n",
      "Graph information = True\n"
     ]
    }
   ],
   "source": [
    "dataset_name = 'cora'\n",
    "parent_dir = os.path.abspath('..')\n",
    "input_dir = os.path.join(parent_dir, 'data')\n",
    "dataset = EmbeddingDataSet(dataset_name, input_dir)\n",
    "dataset.create_all_train_data(shuffle=True)\n",
    "dataset.summarise()"
   ]
  },
  {
   "cell_type": "code",
   "execution_count": 5,
   "metadata": {},
   "outputs": [
    {
     "name": "stdout",
     "output_type": "stream",
     "text": [
      "torch.Size([2708, 1433])\n",
      "torch.Size([2708])\n",
      "(2708, 2)\n",
      "(2708, 2708)\n"
     ]
    }
   ],
   "source": [
    "print(dataset.inputs.shape)\n",
    "print(dataset.labels.shape)\n",
    "print(dataset.X_emb.shape)\n",
    "print(dataset.adj_matrix.shape)"
   ]
  },
  {
   "cell_type": "code",
   "execution_count": 6,
   "metadata": {},
   "outputs": [],
   "source": [
    "all_indices = np.arange(0, dataset.inputs.shape[0])\n",
    "np.random.shuffle(all_indices)"
   ]
  },
  {
   "cell_type": "code",
   "execution_count": 7,
   "metadata": {},
   "outputs": [],
   "source": [
    "n_train = int(0.8*dataset.inputs.shape[0])\n",
    "train_idx = all_indices[:n_train]\n",
    "test_idx = all_indices[n_train:]"
   ]
  },
  {
   "cell_type": "code",
   "execution_count": 8,
   "metadata": {},
   "outputs": [
    {
     "name": "stdout",
     "output_type": "stream",
     "text": [
      "2166\n",
      "542\n"
     ]
    }
   ],
   "source": [
    "print(len(train_idx))\n",
    "print(len(test_idx))"
   ]
  },
  {
   "cell_type": "code",
   "execution_count": 9,
   "metadata": {},
   "outputs": [],
   "source": [
    "X_train = dataset.inputs[train_idx]\n",
    "labels_train = dataset.labels[train_idx]\n",
    "X_emb_train = dataset.X_emb[train_idx]\n",
    "W_train = dataset.adj_matrix[:, train_idx][train_idx, :]"
   ]
  },
  {
   "cell_type": "code",
   "execution_count": 12,
   "metadata": {},
   "outputs": [],
   "source": [
    "X_test = dataset.inputs[test_idx]\n",
    "labels_test = dataset.labels[test_idx]\n",
    "X_emb_test = dataset.X_emb[test_idx]\n",
    "W_test = dataset.adj_matrix[:, test_idx][test_idx, :]"
   ]
  },
  {
   "cell_type": "code",
   "execution_count": 15,
   "metadata": {},
   "outputs": [
    {
     "data": {
      "text/plain": [
       "(2708, 2708)"
      ]
     },
     "execution_count": 15,
     "metadata": {},
     "output_type": "execute_result"
    }
   ],
   "source": [
    "X_full = dataset.inputs[all_indices]\n",
    "labels_full = dataset.labels[all_indices]\n",
    "X_emb_full = dataset.X_emb[all_indices]\n",
    "W_full = dataset.adj_matrix[:, all_indices][all_indices, :]\n",
    "W_full.shape"
   ]
  },
  {
   "cell_type": "code",
   "execution_count": 16,
   "metadata": {},
   "outputs": [],
   "source": [
    "def save_output(fname, X, labels, X_emb, W):\n",
    "    output_dir = os.path.join(input_dir, 'cora')\n",
    "    fname = os.path.join(output_dir, fname)\n",
    "\n",
    "    with open(fname, 'wb') as f:\n",
    "        pickle.dump([X, labels, X_emb, W], f)"
   ]
  },
  {
   "cell_type": "code",
   "execution_count": 17,
   "metadata": {},
   "outputs": [],
   "source": [
    "save_output('cora_train.pkl', X_train, labels_train, X_emb_train, W_train)"
   ]
  },
  {
   "cell_type": "code",
   "execution_count": 18,
   "metadata": {},
   "outputs": [],
   "source": [
    "save_output('cora_full.pkl', X_full, labels_full, X_emb_full, W_full)"
   ]
  },
  {
   "cell_type": "code",
   "execution_count": 19,
   "metadata": {},
   "outputs": [],
   "source": [
    "save_output('cora_test.pkl', X_test, labels_test, X_emb_test, W_test)"
   ]
  },
  {
   "cell_type": "code",
   "execution_count": null,
   "metadata": {},
   "outputs": [],
   "source": []
  }
 ],
 "metadata": {
  "kernelspec": {
   "display_name": "Python (py36)",
   "language": "python",
   "name": "py36"
  },
  "language_info": {
   "codemirror_mode": {
    "name": "ipython",
    "version": 3
   },
   "file_extension": ".py",
   "mimetype": "text/x-python",
   "name": "python",
   "nbconvert_exporter": "python",
   "pygments_lexer": "ipython3",
   "version": "3.6.7"
  }
 },
 "nbformat": 4,
 "nbformat_minor": 2
}
