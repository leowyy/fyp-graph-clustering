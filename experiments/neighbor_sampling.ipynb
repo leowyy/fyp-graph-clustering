{
 "cells": [
  {
   "cell_type": "code",
   "execution_count": 1,
   "metadata": {},
   "outputs": [
    {
     "data": {
      "text/plain": [
       "'/Users/signapoop/Desktop/fyp-graph-clustering'"
      ]
     },
     "execution_count": 1,
     "metadata": {},
     "output_type": "execute_result"
    }
   ],
   "source": [
    "import os\n",
    "os.chdir('..')\n",
    "os.getcwd()"
   ]
  },
  {
   "cell_type": "code",
   "execution_count": 2,
   "metadata": {},
   "outputs": [],
   "source": [
    "import pickle \n",
    "import numpy as np\n",
    "import torch\n",
    "import os"
   ]
  },
  {
   "cell_type": "code",
   "execution_count": 4,
   "metadata": {},
   "outputs": [],
   "source": [
    "from core.EmbeddingDataSet import EmbeddingDataSet"
   ]
  },
  {
   "cell_type": "code",
   "execution_count": 5,
   "metadata": {},
   "outputs": [
    {
     "name": "stdout",
     "output_type": "stream",
     "text": [
      "Name of dataset = cora\n",
      "Input dimension = 1433\n",
      "Number of training samples = 2485\n",
      "Training labels = True\n",
      "Graph information = True\n"
     ]
    }
   ],
   "source": [
    "dataset_name = 'cora'\n",
    "parent_dir = os.path.abspath('..')\n",
    "input_dir = os.path.join(parent_dir, 'data')\n",
    "dataset = EmbeddingDataSet(dataset_name, input_dir)\n",
    "dataset.create_all_data(n_batches=1, shuffle=True)\n",
    "dataset.summarise()"
   ]
  },
  {
   "cell_type": "code",
   "execution_count": 16,
   "metadata": {},
   "outputs": [],
   "source": [
    "%matplotlib inline \n",
    "import matplotlib.pyplot as plt"
   ]
  },
  {
   "cell_type": "code",
   "execution_count": 116,
   "metadata": {},
   "outputs": [],
   "source": [
    "D = np.sum(dataset.adj_matrix, axis=1)"
   ]
  },
  {
   "cell_type": "code",
   "execution_count": 118,
   "metadata": {},
   "outputs": [
    {
     "data": {
      "text/plain": [
       "5.0796780684104625"
      ]
     },
     "execution_count": 118,
     "metadata": {},
     "output_type": "execute_result"
    }
   ],
   "source": [
    "np.average(D)"
   ]
  },
  {
   "cell_type": "code",
   "execution_count": 20,
   "metadata": {},
   "outputs": [
    {
     "data": {
      "text/plain": [
       "[<matplotlib.lines.Line2D at 0x1a2580a160>]"
      ]
     },
     "execution_count": 20,
     "metadata": {},
     "output_type": "execute_result"
    },
    {
     "data": {
      "image/png": "[encoded data removed]",
      "text/plain": [
       "<Figure size 432x288 with 1 Axes>"
      ]
     },
     "metadata": {},
     "output_type": "display_data"
    }
   ],
   "source": [
    "plt.plot(list(range(len(D))), D)"
   ]
  },
  {
   "cell_type": "code",
   "execution_count": 40,
   "metadata": {},
   "outputs": [],
   "source": [
    "A = dataset.adj_matrix\n",
    "np.fill_diagonal(A, 1)"
   ]
  },
  {
   "cell_type": "code",
   "execution_count": 41,
   "metadata": {},
   "outputs": [],
   "source": [
    "two_hop_A = np.matmul(A, A)"
   ]
  },
  {
   "cell_type": "code",
   "execution_count": 42,
   "metadata": {},
   "outputs": [],
   "source": [
    "two_hop_D = np.sum(two_hop_A, axis=1)"
   ]
  },
  {
   "cell_type": "code",
   "execution_count": 43,
   "metadata": {},
   "outputs": [
    {
     "data": {
      "text/plain": [
       "[<matplotlib.lines.Line2D at 0x1a30967080>]"
      ]
     },
     "execution_count": 43,
     "metadata": {},
     "output_type": "execute_result"
    },
    {
     "data": {
      "image/png": "[encoded data removed]",
      "text/plain": [
       "<Figure size 432x288 with 1 Axes>"
      ]
     },
     "metadata": {},
     "output_type": "display_data"
    }
   ],
   "source": [
    "plt.plot(list(range(len(D))), two_hop_D)"
   ]
  },
  {
   "cell_type": "code",
   "execution_count": 44,
   "metadata": {},
   "outputs": [
    {
     "data": {
      "text/plain": [
       "array([[1, 0, 0, ..., 0, 0, 0],\n",
       "       [0, 1, 0, ..., 0, 0, 0],\n",
       "       [0, 0, 1, ..., 0, 0, 0],\n",
       "       ...,\n",
       "       [0, 0, 0, ..., 1, 0, 0],\n",
       "       [0, 0, 0, ..., 0, 1, 0],\n",
       "       [0, 0, 0, ..., 0, 0, 1]])"
      ]
     },
     "execution_count": 44,
     "metadata": {},
     "output_type": "execute_result"
    }
   ],
   "source": [
    "A"
   ]
  },
  {
   "cell_type": "code",
   "execution_count": 117,
   "metadata": {},
   "outputs": [
    {
     "name": "stdout",
     "output_type": "stream",
     "text": [
      "1941\n"
     ]
    }
   ],
   "source": [
    "n_batch = 200\n",
    "# Select random subset of nodes\n",
    "all_indices = np.arange(0, len(D))\n",
    "batch_indices = np.random.choice(all_indices, size=n_batch, replace=False)\n",
    "neighbors = np.unique(np.nonzero(two_hop_A[batch_indices,:])[1])\n",
    "print(len(neighbors))"
   ]
  },
  {
   "cell_type": "code",
   "execution_count": 46,
   "metadata": {},
   "outputs": [
    {
     "data": {
      "text/plain": [
       "array([1037, 1945, 1169,  781,  920, 1109, 2116, 1025, 1791,  203, 1686,\n",
       "         47, 1546,  319, 1174, 1173, 2032, 2111, 2085,   99, 2216,  436,\n",
       "        338,  184, 1371, 1921, 2081, 1287,  362, 1468, 1559,  572, 1117,\n",
       "       1406,    1,  538, 2384, 1570,  456, 1722, 1346, 1337,  975,   37,\n",
       "       1000, 2034, 1282, 2255,  631, 2046])"
      ]
     },
     "execution_count": 46,
     "metadata": {},
     "output_type": "execute_result"
    }
   ],
   "source": [
    "batch_indices"
   ]
  },
  {
   "cell_type": "code",
   "execution_count": 52,
   "metadata": {},
   "outputs": [
    {
     "data": {
      "text/plain": [
       "array([ 281,  673, 1037, 1074, 1404,  379,  414, 1217, 1360, 1386, 1945,\n",
       "       2172, 1143, 1169, 2124, 2438,  198,  739,  781,  976, 1002, 1714,\n",
       "         16,  914,  920,  327, 1109, 1257, 2459,   81,  739, 1557, 2116,\n",
       "       2309,  903, 1025, 1190, 1609,  689,  871,  958, 1012, 1325, 1557,\n",
       "       1791, 1957,  203, 1815, 1207, 1686,   47, 1085, 1349, 2453,  359,\n",
       "        676, 1408, 1546,  281,  319,  402,  645, 2041, 1174, 1216, 2178,\n",
       "        580, 1173,  528,  554, 1108, 2032, 1756, 2111,  994, 2085, 2088,\n",
       "         99,  739,  992, 1773, 2096, 2255,  769, 1379, 2216, 2371,   35,\n",
       "        436, 1361, 1528, 2171,  338,  940, 1612, 2313, 2416,  184,  555,\n",
       "       1498, 1505, 1506, 2128,  673, 1371, 1483, 2455,  221, 1921, 1620,\n",
       "       2081,  536, 1287, 1704, 2097,  362,  739, 1764, 2218, 2223, 2255,\n",
       "       2356, 1468, 2154, 2227, 2235,  688,  896, 1559, 1633, 1662, 1679,\n",
       "       1745,  343,  572, 1234, 2244, 1075, 1117,   69,  578,  953, 1003,\n",
       "       1406, 1739, 1969, 1974, 1981,    1,  144,  626, 1308, 1337, 1602,\n",
       "       2014, 2164, 2284,  217,  231,  331,  430,  538,  739,  933, 1428,\n",
       "       1606,  914, 1598, 2384,  739,  836, 1267, 1456, 1570,  456, 1019,\n",
       "        805, 1455, 1722,   12, 1147, 1346, 1660, 1831, 1986,    1,  626,\n",
       "       1168, 1337,  584,  975, 1269, 1483, 1560, 1721, 2120,   37, 1840,\n",
       "       1958,  160, 1000, 1171, 1220, 1601, 2290,  156,  219,  821, 1168,\n",
       "       1558, 2034, 1282, 2357,   99,  362,  739, 2255,  309,  631, 1518,\n",
       "       2241,  739, 2046, 2381])"
      ]
     },
     "execution_count": 52,
     "metadata": {},
     "output_type": "execute_result"
    }
   ],
   "source": [
    "np.nonzero(A[batch_indices,:])[1]"
   ]
  },
  {
   "cell_type": "code",
   "execution_count": 54,
   "metadata": {},
   "outputs": [],
   "source": [
    "neighbors = np.unique(np.nonzero(A[batch_indices,:])[1])"
   ]
  },
  {
   "cell_type": "code",
   "execution_count": 55,
   "metadata": {},
   "outputs": [],
   "source": [
    "for i in batch_indices:\n",
    "    if i not in neighbors:\n",
    "        print(\"ouch\")"
   ]
  },
  {
   "cell_type": "code",
   "execution_count": 128,
   "metadata": {},
   "outputs": [
    {
     "data": {
      "text/plain": [
       "2485"
      ]
     },
     "execution_count": 128,
     "metadata": {},
     "output_type": "execute_result"
    }
   ],
   "source": [
    "A.shape[0]"
   ]
  },
  {
   "cell_type": "code",
   "execution_count": 145,
   "metadata": {},
   "outputs": [],
   "source": [
    "def sample_neighborhood(A, batch_indices, D_layers):\n",
    "    # A: the full adjacency matrix\n",
    "    # batch_indices: subset of all vertices \n",
    "    # D_layers: sampling strategy per layer\n",
    "    selected_indices = set(batch_indices)\n",
    "    #D_layers = [5, 10]\n",
    "    for i in batch_indices:\n",
    "        one_hop_neighbors = np.nonzero(A[i, :])[0]\n",
    "        if len(one_hop_neighbors) > D_layers[0]:\n",
    "            one_hop_neighbors = np.random.choice(one_hop_neighbors, size=D_layers[0], replace=False)\n",
    "        selected_indices = selected_indices.union(one_hop_neighbors)\n",
    "        for j in one_hop_neighbors:\n",
    "            two_hop_neighbors = np.nonzero(A[j, :])[0]\n",
    "            if len(two_hop_neighbors) > D_layers[1]:\n",
    "                two_hop_neighbors = np.random.choice(two_hop_neighbors, size=D_layers[1], replace=False)\n",
    "            selected_indices = selected_indices.union(two_hop_neighbors)\n",
    "    return selected_indices np.array(list(all_batch_indices[0]))"
   ]
  },
  {
   "cell_type": "code",
   "execution_count": 151,
   "metadata": {},
   "outputs": [],
   "source": [
    "def split_graph_batches(batch_size, A, shuffle=False, sampling=True):\n",
    "    np.fill_diagonal(A, 1)\n",
    "    all_indices = np.arange(0, A.shape[0])\n",
    "    if shuffle: np.random.shuffle(all_indices)\n",
    "    all_batch_indices = [all_indices[i:i+batch_size] for i in np.arange(0, A.shape[0],batch_size)]\n",
    "    if sampling:\n",
    "        D_layers = [5, 10]\n",
    "        all_batch_indices = [sample_neighborhood(A, idx, D_layers) for idx in all_batch_indices]\n",
    "    return all_batch_indices"
   ]
  },
  {
   "cell_type": "code",
   "execution_count": 156,
   "metadata": {},
   "outputs": [
    {
     "name": "stdout",
     "output_type": "stream",
     "text": [
      "[1072, 1079, 1081, 1021, 1119, 1035, 1081, 1102, 1119, 1075, 1129, 1042, 1025, 1077, 1106, 1039, 1000, 1089, 1112, 1062, 1065, 1078, 1033, 1026, 935]\n"
     ]
    }
   ],
   "source": [
    "batch_size = 100\n",
    "all_batch_indices = split_graph_batches(batch_size, A)\n",
    "print([len(i) for i in all_batch_indices])"
   ]
  },
  {
   "cell_type": "code",
   "execution_count": 160,
   "metadata": {},
   "outputs": [
    {
     "data": {
      "text/plain": [
       "array([   0,    1,    2, ..., 2481, 2482, 2484])"
      ]
     },
     "execution_count": 160,
     "metadata": {},
     "output_type": "execute_result"
    }
   ],
   "source": [
    "np.array(list(all_batch_indices[0]))"
   ]
  },
  {
   "cell_type": "code",
   "execution_count": null,
   "metadata": {},
   "outputs": [],
   "source": []
  }
 ],
 "metadata": {
  "kernelspec": {
   "display_name": "Python (py36)",
   "language": "python",
   "name": "py36"
  },
  "language_info": {
   "codemirror_mode": {
    "name": "ipython",
    "version": 3
   },
   "file_extension": ".py",
   "mimetype": "text/x-python",
   "name": "python",
   "nbconvert_exporter": "python",
   "pygments_lexer": "ipython3",
   "version": "3.6.7"
  }
 },
 "nbformat": 4,
 "nbformat_minor": 2
}
