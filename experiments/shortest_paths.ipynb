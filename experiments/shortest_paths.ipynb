{
 "cells": [
  {
   "cell_type": "code",
   "execution_count": 1,
   "metadata": {},
   "outputs": [
    {
     "data": {
      "text/plain": [
       "'/Users/leowyy/Desktop/fyp-graph-clustering'"
      ]
     },
     "execution_count": 1,
     "metadata": {},
     "output_type": "execute_result"
    }
   ],
   "source": [
    "import os\n",
    "os.chdir('..')\n",
    "os.getcwd()"
   ]
  },
  {
   "cell_type": "code",
   "execution_count": 2,
   "metadata": {},
   "outputs": [],
   "source": [
    "import pickle \n",
    "import numpy as np\n",
    "import networkx as nx\n",
    "import time\n",
    "import scipy.sparse as sp"
   ]
  },
  {
   "cell_type": "code",
   "execution_count": 3,
   "metadata": {},
   "outputs": [],
   "source": [
    "from core.EmbeddingDataSet import EmbeddingDataSet\n",
    "from util.graph_utils import get_shortest_path_matrix"
   ]
  },
  {
   "cell_type": "code",
   "execution_count": 4,
   "metadata": {},
   "outputs": [],
   "source": [
    "MAX_DISTANCE = 1e6\n",
    "\n",
    "def get_shortest_path_matrix(adj, cutoff=MAX_DISTANCE, verbose=0):\n",
    "    n = adj.shape[0]\n",
    "    if verbose:\n",
    "        print(\"Computing all pairs shortest path lengths for {} nodes...\".format(n))\n",
    "    t_start = time.time()\n",
    "    G = nx.from_numpy_matrix(adj)\n",
    "    path_lengths = dict(nx.all_pairs_shortest_path_length(G, cutoff=cutoff))\n",
    "    path_lengths_matrix = np.array([[path_lengths[i].get(k, cutoff) for k in range(n)] for i in range(n)])\n",
    "\n",
    "    t_elapsed = time.time() - t_start\n",
    "    if verbose:\n",
    "        print(\"Time to compute shortest paths (s) = {:.4f}\".format(t_elapsed))\n",
    "    return path_lengths_matrix"
   ]
  },
  {
   "cell_type": "code",
   "execution_count": 5,
   "metadata": {},
   "outputs": [
    {
     "name": "stdout",
     "output_type": "stream",
     "text": [
      "Data blocks of length:  [18333]\n",
      "Time to create all data (s) = 0.2496\n",
      "Name of dataset = ms_academic\n",
      "Input dimension = 6805\n",
      "Number of training samples = 18333\n",
      "Training labels = True\n"
     ]
    }
   ],
   "source": [
    "dataset_name = 'ms_academic'\n",
    "parent_dir = os.path.abspath('..')\n",
    "input_dir = os.path.join(parent_dir, 'data')\n",
    "dataset = EmbeddingDataSet(dataset_name, input_dir, train=True)\n",
    "dataset.create_all_data(n_batches=1, shuffle=False)\n",
    "dataset.summarise()"
   ]
  },
  {
   "cell_type": "code",
   "execution_count": 6,
   "metadata": {},
   "outputs": [
    {
     "data": {
      "text/plain": [
       "(18333, 18333)"
      ]
     },
     "execution_count": 6,
     "metadata": {},
     "output_type": "execute_result"
    }
   ],
   "source": [
    "dataset.adj_matrix.shape"
   ]
  },
  {
   "cell_type": "code",
   "execution_count": 7,
   "metadata": {},
   "outputs": [],
   "source": [
    "adj = dataset.adj_matrix.toarray()"
   ]
  },
  {
   "cell_type": "code",
   "execution_count": 9,
   "metadata": {},
   "outputs": [
    {
     "name": "stdout",
     "output_type": "stream",
     "text": [
      "Computing all pairs shortest path lengths for 18333 nodes...\n",
      "Time to compute shortest paths (s) = 580.8831\n",
      "0.04759812818066173\n"
     ]
    }
   ],
   "source": [
    "cutoff = 4\n",
    "path_lengths_matrix = get_shortest_path_matrix(adj, cutoff=cutoff, verbose=1)\n",
    "path_lengths_matrix[path_lengths_matrix==cutoff] = 0\n",
    "foo = sp.csr_matrix(path_lengths_matrix)\n",
    "print(foo.nnz/np.prod(path_lengths_matrix.shape))\n",
    "np.save('data/{}_cutoff_{}.npy'.format(dataset_name, cutoff), foo)"
   ]
  },
  {
   "cell_type": "code",
   "execution_count": 10,
   "metadata": {},
   "outputs": [
    {
     "name": "stdout",
     "output_type": "stream",
     "text": [
      "Computing all pairs shortest path lengths for 18333 nodes...\n",
      "Time to compute shortest paths (s) = 1249.4200\n",
      "0.22353649017863905\n"
     ]
    }
   ],
   "source": [
    "cutoff = 5\n",
    "path_lengths_matrix = get_shortest_path_matrix(adj, cutoff=cutoff, verbose=1)\n",
    "path_lengths_matrix[path_lengths_matrix==cutoff] = 0\n",
    "foo = sp.csr_matrix(path_lengths_matrix)\n",
    "print(foo.nnz/np.prod(path_lengths_matrix.shape))\n",
    "np.save('data/{}_cutoff_{}.npy'.format(dataset_name, cutoff), foo)"
   ]
  },
  {
   "cell_type": "code",
   "execution_count": 19,
   "metadata": {},
   "outputs": [
    {
     "name": "stdout",
     "output_type": "stream",
     "text": [
      "Computing all pairs shortest path lengths for 2708 nodes...\n",
      "Time to compute shortest paths (s) = 23.2980\n",
      "0.8418946870043135\n"
     ]
    }
   ],
   "source": [
    "cutoff = MAX_DISTANCE\n",
    "path_lengths_matrix = get_shortest_path_matrix(adj, cutoff=cutoff, verbose=1)\n",
    "path_lengths_matrix[path_lengths_matrix==cutoff] = 0\n",
    "foo = sp.csr_matrix(path_lengths_matrix)\n",
    "print(foo.nnz/np.prod(path_lengths_matrix.shape))\n",
    "np.save('data/{}_cutoff_{}.npy'.format(dataset_name, cutoff), foo)"
   ]
  },
  {
   "cell_type": "code",
   "execution_count": 14,
   "metadata": {},
   "outputs": [
    {
     "name": "stdout",
     "output_type": "stream",
     "text": [
      "Computing all pairs shortest path lengths for 19717 nodes...\n",
      "Time to compute shortest paths (s) = 1696.0858\n",
      "0.7965918589961019\n"
     ]
    }
   ],
   "source": [
    "cutoff = 8\n",
    "path_lengths_matrix = get_shortest_path_matrix(adj, cutoff=cutoff, verbose=1)\n",
    "path_lengths_matrix[path_lengths_matrix==cutoff] = 0\n",
    "foo = sp.csr_matrix(path_lengths_matrix)\n",
    "print(foo.nnz/np.prod(path_lengths_matrix.shape))\n",
    "np.save('data/{}_cutoff_{}.npy'.format(dataset_name, cutoff), foo)"
   ]
  },
  {
   "cell_type": "code",
   "execution_count": 54,
   "metadata": {},
   "outputs": [],
   "source": [
    "path = \"/Users/leowyy/Desktop/data/pubmed_test/pubmed_full_cutoff_5.npy\""
   ]
  },
  {
   "cell_type": "code",
   "execution_count": 55,
   "metadata": {},
   "outputs": [
    {
     "data": {
      "text/plain": [
       "(19717, 19717)"
      ]
     },
     "execution_count": 55,
     "metadata": {},
     "output_type": "execute_result"
    }
   ],
   "source": [
    "foo = np.load(path).item()\n",
    "foo.shape"
   ]
  },
  {
   "cell_type": "code",
   "execution_count": 56,
   "metadata": {},
   "outputs": [
    {
     "data": {
      "text/plain": [
       "(19717, 19717)"
      ]
     },
     "execution_count": 56,
     "metadata": {},
     "output_type": "execute_result"
    }
   ],
   "source": [
    "bar = sp.csr_matrix(foo)\n",
    "bar.shape"
   ]
  },
  {
   "cell_type": "code",
   "execution_count": 57,
   "metadata": {},
   "outputs": [],
   "source": [
    "np.save(path, bar)"
   ]
  },
  {
   "cell_type": "code",
   "execution_count": null,
   "metadata": {},
   "outputs": [],
   "source": []
  }
 ],
 "metadata": {
  "kernelspec": {
   "display_name": "Python (py36)",
   "language": "python",
   "name": "py36"
  },
  "language_info": {
   "codemirror_mode": {
    "name": "ipython",
    "version": 3
   },
   "file_extension": ".py",
   "mimetype": "text/x-python",
   "name": "python",
   "nbconvert_exporter": "python",
   "pygments_lexer": "ipython3",
   "version": "3.6.7"
  }
 },
 "nbformat": 4,
 "nbformat_minor": 2
}
