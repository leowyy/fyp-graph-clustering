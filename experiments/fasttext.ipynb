{
 "cells": [
  {
   "cell_type": "code",
   "execution_count": 1,
   "metadata": {},
   "outputs": [
    {
     "data": {
      "text/plain": [
       "'/Users/signapoop/Desktop/fyp-graph-clustering'"
      ]
     },
     "execution_count": 1,
     "metadata": {},
     "output_type": "execute_result"
    }
   ],
   "source": [
    "import os\n",
    "os.chdir('..')\n",
    "os.getcwd()"
   ]
  },
  {
   "cell_type": "code",
   "execution_count": 2,
   "metadata": {},
   "outputs": [],
   "source": [
    "%matplotlib inline\n",
    "import pickle\n",
    "import numpy as np\n",
    "import matplotlib.pyplot as plt\n",
    "import nltk\n",
    "from sklearn.manifold import TSNE\n",
    "\n",
    "from core.DimReduction import DimReduction"
   ]
  },
  {
   "cell_type": "code",
   "execution_count": 3,
   "metadata": {},
   "outputs": [
    {
     "data": {
      "text/html": [
       "\n",
       "    <div class=\"bk-root\">\n",
       "        <a href=\"https://bokeh.pydata.org\" target=\"_blank\" class=\"bk-logo bk-logo-small bk-logo-notebook\"></a>\n",
       "        <span id=\"a2a5f6c7-b2d9-4045-9e08-a3ea758ed652\">Loading BokehJS ...</span>\n",
       "    </div>"
      ]
     },
     "metadata": {},
     "output_type": "display_data"
    },
    {
     "data": {
      "application/javascript": [
       "\n",
       "(function(root) {\n",
       "  function now() {\n",
       "    return new Date();\n",
       "  }\n",
       "\n",
       "  var force = true;\n",
       "\n",
       "  if (typeof (root._bokeh_onload_callbacks) === \"undefined\" || force === true) {\n",
       "    root._bokeh_onload_callbacks = [];\n",
       "    root._bokeh_is_loading = undefined;\n",
       "  }\n",
       "\n",
       "  var JS_MIME_TYPE = 'application/javascript';\n",
       "  var HTML_MIME_TYPE = 'text/html';\n",
       "  var EXEC_MIME_TYPE = 'application/vnd.bokehjs_exec.v0+json';\n",
       "  var CLASS_NAME = 'output_bokeh rendered_html';\n",
       "\n",
       "  /**\n",
       "   * Render data to the DOM node\n",
       "   */\n",
       "  function render(props, node) {\n",
       "    var script = document.createElement(\"script\");\n",
       "    node.appendChild(script);\n",
       "  }\n",
       "\n",
       "  /**\n",
       "   * Handle when an output is cleared or removed\n",
       "   */\n",
       "  function handleClearOutput(event, handle) {\n",
       "    var cell = handle.cell;\n",
       "\n",
       "    var id = cell.output_area._bokeh_element_id;\n",
       "    var server_id = cell.output_area._bokeh_server_id;\n",
       "    // Clean up Bokeh references\n",
       "    if (id != null && id in Bokeh.index) {\n",
       "      Bokeh.index[id].model.document.clear();\n",
       "      delete Bokeh.index[id];\n",
       "    }\n",
       "\n",
       "    if (server_id !== undefined) {\n",
       "      // Clean up Bokeh references\n",
       "      var cmd = \"from bokeh.io.state import curstate; print(curstate().uuid_to_server['\" + server_id + \"'].get_sessions()[0].document.roots[0]._id)\";\n",
       "      cell.notebook.kernel.execute(cmd, {\n",
       "        iopub: {\n",
       "          output: function(msg) {\n",
       "            var id = msg.content.text.trim();\n",
       "            if (id in Bokeh.index) {\n",
       "              Bokeh.index[id].model.document.clear();\n",
       "              delete Bokeh.index[id];\n",
       "            }\n",
       "          }\n",
       "        }\n",
       "      });\n",
       "      // Destroy server and session\n",
       "      var cmd = \"import bokeh.io.notebook as ion; ion.destroy_server('\" + server_id + \"')\";\n",
       "      cell.notebook.kernel.execute(cmd);\n",
       "    }\n",
       "  }\n",
       "\n",
       "  /**\n",
       "   * Handle when a new output is added\n",
       "   */\n",
       "  function handleAddOutput(event, handle) {\n",
       "    var output_area = handle.output_area;\n",
       "    var output = handle.output;\n",
       "\n",
       "    // limit handleAddOutput to display_data with EXEC_MIME_TYPE content only\n",
       "    if ((output.output_type != \"display_data\") || (!output.data.hasOwnProperty(EXEC_MIME_TYPE))) {\n",
       "      return\n",
       "    }\n",
       "\n",
       "    var toinsert = output_area.element.find(\".\" + CLASS_NAME.split(' ')[0]);\n",
       "\n",
       "    if (output.metadata[EXEC_MIME_TYPE][\"id\"] !== undefined) {\n",
       "      toinsert[toinsert.length - 1].firstChild.textContent = output.data[JS_MIME_TYPE];\n",
       "      // store reference to embed id on output_area\n",
       "      output_area._bokeh_element_id = output.metadata[EXEC_MIME_TYPE][\"id\"];\n",
       "    }\n",
       "    if (output.metadata[EXEC_MIME_TYPE][\"server_id\"] !== undefined) {\n",
       "      var bk_div = document.createElement(\"div\");\n",
       "      bk_div.innerHTML = output.data[HTML_MIME_TYPE];\n",
       "      var script_attrs = bk_div.children[0].attributes;\n",
       "      for (var i = 0; i < script_attrs.length; i++) {\n",
       "        toinsert[toinsert.length - 1].firstChild.setAttribute(script_attrs[i].name, script_attrs[i].value);\n",
       "      }\n",
       "      // store reference to server id on output_area\n",
       "      output_area._bokeh_server_id = output.metadata[EXEC_MIME_TYPE][\"server_id\"];\n",
       "    }\n",
       "  }\n",
       "\n",
       "  function register_renderer(events, OutputArea) {\n",
       "\n",
       "    function append_mime(data, metadata, element) {\n",
       "      // create a DOM node to render to\n",
       "      var toinsert = this.create_output_subarea(\n",
       "        metadata,\n",
       "        CLASS_NAME,\n",
       "        EXEC_MIME_TYPE\n",
       "      );\n",
       "      this.keyboard_manager.register_events(toinsert);\n",
       "      // Render to node\n",
       "      var props = {data: data, metadata: metadata[EXEC_MIME_TYPE]};\n",
       "      render(props, toinsert[toinsert.length - 1]);\n",
       "      element.append(toinsert);\n",
       "      return toinsert\n",
       "    }\n",
       "\n",
       "    /* Handle when an output is cleared or removed */\n",
       "    events.on('clear_output.CodeCell', handleClearOutput);\n",
       "    events.on('delete.Cell', handleClearOutput);\n",
       "\n",
       "    /* Handle when a new output is added */\n",
       "    events.on('output_added.OutputArea', handleAddOutput);\n",
       "\n",
       "    /**\n",
       "     * Register the mime type and append_mime function with output_area\n",
       "     */\n",
       "    OutputArea.prototype.register_mime_type(EXEC_MIME_TYPE, append_mime, {\n",
       "      /* Is output safe? */\n",
       "      safe: true,\n",
       "      /* Index of renderer in `output_area.display_order` */\n",
       "      index: 0\n",
       "    });\n",
       "  }\n",
       "\n",
       "  // register the mime type if in Jupyter Notebook environment and previously unregistered\n",
       "  if (root.Jupyter !== undefined) {\n",
       "    var events = require('base/js/events');\n",
       "    var OutputArea = require('notebook/js/outputarea').OutputArea;\n",
       "\n",
       "    if (OutputArea.prototype.mime_types().indexOf(EXEC_MIME_TYPE) == -1) {\n",
       "      register_renderer(events, OutputArea);\n",
       "    }\n",
       "  }\n",
       "\n",
       "  \n",
       "  if (typeof (root._bokeh_timeout) === \"undefined\" || force === true) {\n",
       "    root._bokeh_timeout = Date.now() + 5000;\n",
       "    root._bokeh_failed_load = false;\n",
       "  }\n",
       "\n",
       "  var NB_LOAD_WARNING = {'data': {'text/html':\n",
       "     \"<div style='background-color: #fdd'>\\n\"+\n",
       "     \"<p>\\n\"+\n",
       "     \"BokehJS does not appear to have successfully loaded. If loading BokehJS from CDN, this \\n\"+\n",
       "     \"may be due to a slow or bad network connection. Possible fixes:\\n\"+\n",
       "     \"</p>\\n\"+\n",
       "     \"<ul>\\n\"+\n",
       "     \"<li>re-rerun `output_notebook()` to attempt to load from CDN again, or</li>\\n\"+\n",
       "     \"<li>use INLINE resources instead, as so:</li>\\n\"+\n",
       "     \"</ul>\\n\"+\n",
       "     \"<code>\\n\"+\n",
       "     \"from bokeh.resources import INLINE\\n\"+\n",
       "     \"output_notebook(resources=INLINE)\\n\"+\n",
       "     \"</code>\\n\"+\n",
       "     \"</div>\"}};\n",
       "\n",
       "  function display_loaded() {\n",
       "    var el = document.getElementById(\"a2a5f6c7-b2d9-4045-9e08-a3ea758ed652\");\n",
       "    if (el != null) {\n",
       "      el.textContent = \"BokehJS is loading...\";\n",
       "    }\n",
       "    if (root.Bokeh !== undefined) {\n",
       "      if (el != null) {\n",
       "        el.textContent = \"BokehJS \" + root.Bokeh.version + \" successfully loaded.\";\n",
       "      }\n",
       "    } else if (Date.now() < root._bokeh_timeout) {\n",
       "      setTimeout(display_loaded, 100)\n",
       "    }\n",
       "  }\n",
       "\n",
       "\n",
       "  function run_callbacks() {\n",
       "    try {\n",
       "      root._bokeh_onload_callbacks.forEach(function(callback) { callback() });\n",
       "    }\n",
       "    finally {\n",
       "      delete root._bokeh_onload_callbacks\n",
       "    }\n",
       "    console.info(\"Bokeh: all callbacks have finished\");\n",
       "  }\n",
       "\n",
       "  function load_libs(js_urls, callback) {\n",
       "    root._bokeh_onload_callbacks.push(callback);\n",
       "    if (root._bokeh_is_loading > 0) {\n",
       "      console.log(\"Bokeh: BokehJS is being loaded, scheduling callback at\", now());\n",
       "      return null;\n",
       "    }\n",
       "    if (js_urls == null || js_urls.length === 0) {\n",
       "      run_callbacks();\n",
       "      return null;\n",
       "    }\n",
       "    console.log(\"Bokeh: BokehJS not loaded, scheduling load and callback at\", now());\n",
       "    root._bokeh_is_loading = js_urls.length;\n",
       "    for (var i = 0; i < js_urls.length; i++) {\n",
       "      var url = js_urls[i];\n",
       "      var s = document.createElement('script');\n",
       "      s.src = url;\n",
       "      s.async = false;\n",
       "      s.onreadystatechange = s.onload = function() {\n",
       "        root._bokeh_is_loading--;\n",
       "        if (root._bokeh_is_loading === 0) {\n",
       "          console.log(\"Bokeh: all BokehJS libraries loaded\");\n",
       "          run_callbacks()\n",
       "        }\n",
       "      };\n",
       "      s.onerror = function() {\n",
       "        console.warn(\"failed to load library \" + url);\n",
       "      };\n",
       "      console.log(\"Bokeh: injecting script tag for BokehJS library: \", url);\n",
       "      document.getElementsByTagName(\"head\")[0].appendChild(s);\n",
       "    }\n",
       "  };var element = document.getElementById(\"a2a5f6c7-b2d9-4045-9e08-a3ea758ed652\");\n",
       "  if (element == null) {\n",
       "    console.log(\"Bokeh: ERROR: autoload.js configured with elementid 'a2a5f6c7-b2d9-4045-9e08-a3ea758ed652' but no matching script tag was found. \")\n",
       "    return false;\n",
       "  }\n",
       "\n",
       "  var js_urls = [\"https://cdn.pydata.org/bokeh/release/bokeh-0.13.0.min.js\", \"https://cdn.pydata.org/bokeh/release/bokeh-widgets-0.13.0.min.js\", \"https://cdn.pydata.org/bokeh/release/bokeh-tables-0.13.0.min.js\", \"https://cdn.pydata.org/bokeh/release/bokeh-gl-0.13.0.min.js\"];\n",
       "\n",
       "  var inline_js = [\n",
       "    function(Bokeh) {\n",
       "      Bokeh.set_log_level(\"info\");\n",
       "    },\n",
       "    \n",
       "    function(Bokeh) {\n",
       "      \n",
       "    },\n",
       "    function(Bokeh) {\n",
       "      console.log(\"Bokeh: injecting CSS: https://cdn.pydata.org/bokeh/release/bokeh-0.13.0.min.css\");\n",
       "      Bokeh.embed.inject_css(\"https://cdn.pydata.org/bokeh/release/bokeh-0.13.0.min.css\");\n",
       "      console.log(\"Bokeh: injecting CSS: https://cdn.pydata.org/bokeh/release/bokeh-widgets-0.13.0.min.css\");\n",
       "      Bokeh.embed.inject_css(\"https://cdn.pydata.org/bokeh/release/bokeh-widgets-0.13.0.min.css\");\n",
       "      console.log(\"Bokeh: injecting CSS: https://cdn.pydata.org/bokeh/release/bokeh-tables-0.13.0.min.css\");\n",
       "      Bokeh.embed.inject_css(\"https://cdn.pydata.org/bokeh/release/bokeh-tables-0.13.0.min.css\");\n",
       "    }\n",
       "  ];\n",
       "\n",
       "  function run_inline_js() {\n",
       "    \n",
       "    if ((root.Bokeh !== undefined) || (force === true)) {\n",
       "      for (var i = 0; i < inline_js.length; i++) {\n",
       "        inline_js[i].call(root, root.Bokeh);\n",
       "      }if (force === true) {\n",
       "        display_loaded();\n",
       "      }} else if (Date.now() < root._bokeh_timeout) {\n",
       "      setTimeout(run_inline_js, 100);\n",
       "    } else if (!root._bokeh_failed_load) {\n",
       "      console.log(\"Bokeh: BokehJS failed to load within specified timeout.\");\n",
       "      root._bokeh_failed_load = true;\n",
       "    } else if (force !== true) {\n",
       "      var cell = $(document.getElementById(\"a2a5f6c7-b2d9-4045-9e08-a3ea758ed652\")).parents('.cell').data().cell;\n",
       "      cell.output_area.append_execute_result(NB_LOAD_WARNING)\n",
       "    }\n",
       "\n",
       "  }\n",
       "\n",
       "  if (root._bokeh_is_loading === 0) {\n",
       "    console.log(\"Bokeh: BokehJS loaded, going straight to plotting\");\n",
       "    run_inline_js();\n",
       "  } else {\n",
       "    load_libs(js_urls, function() {\n",
       "      console.log(\"Bokeh: BokehJS plotting callback run at\", now());\n",
       "      run_inline_js();\n",
       "    });\n",
       "  }\n",
       "}(window));"
      ],
      "application/vnd.bokehjs_load.v0+json": "\n(function(root) {\n  function now() {\n    return new Date();\n  }\n\n  var force = true;\n\n  if (typeof (root._bokeh_onload_callbacks) === \"undefined\" || force === true) {\n    root._bokeh_onload_callbacks = [];\n    root._bokeh_is_loading = undefined;\n  }\n\n  \n\n  \n  if (typeof (root._bokeh_timeout) === \"undefined\" || force === true) {\n    root._bokeh_timeout = Date.now() + 5000;\n    root._bokeh_failed_load = false;\n  }\n\n  var NB_LOAD_WARNING = {'data': {'text/html':\n     \"<div style='background-color: #fdd'>\\n\"+\n     \"<p>\\n\"+\n     \"BokehJS does not appear to have successfully loaded. If loading BokehJS from CDN, this \\n\"+\n     \"may be due to a slow or bad network connection. Possible fixes:\\n\"+\n     \"</p>\\n\"+\n     \"<ul>\\n\"+\n     \"<li>re-rerun `output_notebook()` to attempt to load from CDN again, or</li>\\n\"+\n     \"<li>use INLINE resources instead, as so:</li>\\n\"+\n     \"</ul>\\n\"+\n     \"<code>\\n\"+\n     \"from bokeh.resources import INLINE\\n\"+\n     \"output_notebook(resources=INLINE)\\n\"+\n     \"</code>\\n\"+\n     \"</div>\"}};\n\n  function display_loaded() {\n    var el = document.getElementById(\"a2a5f6c7-b2d9-4045-9e08-a3ea758ed652\");\n    if (el != null) {\n      el.textContent = \"BokehJS is loading...\";\n    }\n    if (root.Bokeh !== undefined) {\n      if (el != null) {\n        el.textContent = \"BokehJS \" + root.Bokeh.version + \" successfully loaded.\";\n      }\n    } else if (Date.now() < root._bokeh_timeout) {\n      setTimeout(display_loaded, 100)\n    }\n  }\n\n\n  function run_callbacks() {\n    try {\n      root._bokeh_onload_callbacks.forEach(function(callback) { callback() });\n    }\n    finally {\n      delete root._bokeh_onload_callbacks\n    }\n    console.info(\"Bokeh: all callbacks have finished\");\n  }\n\n  function load_libs(js_urls, callback) {\n    root._bokeh_onload_callbacks.push(callback);\n    if (root._bokeh_is_loading > 0) {\n      console.log(\"Bokeh: BokehJS is being loaded, scheduling callback at\", now());\n      return null;\n    }\n    if (js_urls == null || js_urls.length === 0) {\n      run_callbacks();\n      return null;\n    }\n    console.log(\"Bokeh: BokehJS not loaded, scheduling load and callback at\", now());\n    root._bokeh_is_loading = js_urls.length;\n    for (var i = 0; i < js_urls.length; i++) {\n      var url = js_urls[i];\n      var s = document.createElement('script');\n      s.src = url;\n      s.async = false;\n      s.onreadystatechange = s.onload = function() {\n        root._bokeh_is_loading--;\n        if (root._bokeh_is_loading === 0) {\n          console.log(\"Bokeh: all BokehJS libraries loaded\");\n          run_callbacks()\n        }\n      };\n      s.onerror = function() {\n        console.warn(\"failed to load library \" + url);\n      };\n      console.log(\"Bokeh: injecting script tag for BokehJS library: \", url);\n      document.getElementsByTagName(\"head\")[0].appendChild(s);\n    }\n  };var element = document.getElementById(\"a2a5f6c7-b2d9-4045-9e08-a3ea758ed652\");\n  if (element == null) {\n    console.log(\"Bokeh: ERROR: autoload.js configured with elementid 'a2a5f6c7-b2d9-4045-9e08-a3ea758ed652' but no matching script tag was found. \")\n    return false;\n  }\n\n  var js_urls = [\"https://cdn.pydata.org/bokeh/release/bokeh-0.13.0.min.js\", \"https://cdn.pydata.org/bokeh/release/bokeh-widgets-0.13.0.min.js\", \"https://cdn.pydata.org/bokeh/release/bokeh-tables-0.13.0.min.js\", \"https://cdn.pydata.org/bokeh/release/bokeh-gl-0.13.0.min.js\"];\n\n  var inline_js = [\n    function(Bokeh) {\n      Bokeh.set_log_level(\"info\");\n    },\n    \n    function(Bokeh) {\n      \n    },\n    function(Bokeh) {\n      console.log(\"Bokeh: injecting CSS: https://cdn.pydata.org/bokeh/release/bokeh-0.13.0.min.css\");\n      Bokeh.embed.inject_css(\"https://cdn.pydata.org/bokeh/release/bokeh-0.13.0.min.css\");\n      console.log(\"Bokeh: injecting CSS: https://cdn.pydata.org/bokeh/release/bokeh-widgets-0.13.0.min.css\");\n      Bokeh.embed.inject_css(\"https://cdn.pydata.org/bokeh/release/bokeh-widgets-0.13.0.min.css\");\n      console.log(\"Bokeh: injecting CSS: https://cdn.pydata.org/bokeh/release/bokeh-tables-0.13.0.min.css\");\n      Bokeh.embed.inject_css(\"https://cdn.pydata.org/bokeh/release/bokeh-tables-0.13.0.min.css\");\n    }\n  ];\n\n  function run_inline_js() {\n    \n    if ((root.Bokeh !== undefined) || (force === true)) {\n      for (var i = 0; i < inline_js.length; i++) {\n        inline_js[i].call(root, root.Bokeh);\n      }if (force === true) {\n        display_loaded();\n      }} else if (Date.now() < root._bokeh_timeout) {\n      setTimeout(run_inline_js, 100);\n    } else if (!root._bokeh_failed_load) {\n      console.log(\"Bokeh: BokehJS failed to load within specified timeout.\");\n      root._bokeh_failed_load = true;\n    } else if (force !== true) {\n      var cell = $(document.getElementById(\"a2a5f6c7-b2d9-4045-9e08-a3ea758ed652\")).parents('.cell').data().cell;\n      cell.output_area.append_execute_result(NB_LOAD_WARNING)\n    }\n\n  }\n\n  if (root._bokeh_is_loading === 0) {\n    console.log(\"Bokeh: BokehJS loaded, going straight to plotting\");\n    run_inline_js();\n  } else {\n    load_libs(js_urls, function() {\n      console.log(\"Bokeh: BokehJS plotting callback run at\", now());\n      run_inline_js();\n    });\n  }\n}(window));"
     },
     "metadata": {},
     "output_type": "display_data"
    }
   ],
   "source": [
    "import bokeh.plotting as bp\n",
    "from bokeh.plotting import save, show\n",
    "from bokeh.models.glyphs import Text\n",
    "from bokeh.models import HoverTool\n",
    "from bokeh.io import output_notebook\n",
    "from bokeh.transform import linear_cmap\n",
    "from bokeh.palettes import Spectral6\n",
    "\n",
    "output_notebook()"
   ]
  },
  {
   "cell_type": "code",
   "execution_count": 4,
   "metadata": {},
   "outputs": [],
   "source": [
    "STOP_WORDS = nltk.corpus.stopwords.words()"
   ]
  },
  {
   "cell_type": "code",
   "execution_count": 5,
   "metadata": {},
   "outputs": [],
   "source": [
    "# The words in the file are arranged in descending order of popularity\n",
    "filename = '/Users/signapoop/Desktop/data/wiki-news-300d-1M.vec'\n",
    "max_samples = 4000\n",
    "n_dim = 300\n",
    "labels = []\n",
    "i = 0\n",
    "X = np.zeros((max_samples, n_dim))\n",
    "with open(filename, \"r\") as f:\n",
    "    for line in f:\n",
    "        if i == max_samples: break\n",
    "        all_features = line.split(' ')\n",
    "        label = all_features[0]\n",
    "        if len(all_features) != n_dim+1 or not label.isalpha() or label.lower() in STOP_WORDS or len(label)<=2:\n",
    "            continue\n",
    "        \n",
    "        labels.append(label)\n",
    "        X[i] = np.array([float(x) for x in all_features[1:]])\n",
    "        i += 1"
   ]
  },
  {
   "cell_type": "code",
   "execution_count": 6,
   "metadata": {},
   "outputs": [
    {
     "data": {
      "text/plain": [
       "(4000, 300)"
      ]
     },
     "execution_count": 6,
     "metadata": {},
     "output_type": "execute_result"
    }
   ],
   "source": [
    "X.shape"
   ]
  },
  {
   "cell_type": "code",
   "execution_count": 7,
   "metadata": {},
   "outputs": [],
   "source": [
    "# Shuffle rows in the array\n",
    "idx = np.random.permutation(len(labels))\n",
    "X = X[idx]\n",
    "labels = [labels[i] for i in idx]\n",
    "# np.random.shuffle(X)"
   ]
  },
  {
   "cell_type": "code",
   "execution_count": 8,
   "metadata": {},
   "outputs": [],
   "source": [
    "n_train = 3000\n",
    "X_train = X[:n_train]\n",
    "labels_train = labels[:n_train]\n",
    "X_test = X[n_train:]\n",
    "labels_test = labels[n_train:]"
   ]
  },
  {
   "cell_type": "code",
   "execution_count": 9,
   "metadata": {},
   "outputs": [],
   "source": [
    "# dim_red = DimReduction(n_components=2)\n",
    "# X_emb = dim_red.fit_transform(X_train, 'tsne')\n",
    "# print(X_emb.shape)"
   ]
  },
  {
   "cell_type": "code",
   "execution_count": 10,
   "metadata": {},
   "outputs": [
    {
     "name": "stdout",
     "output_type": "stream",
     "text": [
      "[t-SNE] Computing 46 nearest neighbors...\n",
      "[t-SNE] Indexed 3000 samples in 0.022s...\n",
      "[t-SNE] Computed neighbors for 3000 samples in 4.203s...\n",
      "[t-SNE] Computed conditional probabilities for sample 1000 / 3000\n",
      "[t-SNE] Computed conditional probabilities for sample 2000 / 3000\n",
      "[t-SNE] Computed conditional probabilities for sample 3000 / 3000\n",
      "[t-SNE] Mean sigma: 0.565958\n",
      "[t-SNE] KL divergence after 250 iterations with early exaggeration: 102.063530\n",
      "[t-SNE] Error after 2500 iterations: 1.953880\n",
      "(3000, 3)\n"
     ]
    }
   ],
   "source": [
    "embedder = TSNE(perplexity=15, n_components=3, init='pca', n_iter=2500, random_state=23, verbose=1)\n",
    "X_emb = embedder.fit_transform(X_train)\n",
    "print(X_emb.shape)"
   ]
  },
  {
   "cell_type": "code",
   "execution_count": null,
   "metadata": {},
   "outputs": [],
   "source": [
    "with open('/Users/signapoop/Desktop/data/fasttext_train_tsne.pkl', 'rb') as f:\n",
    "    X_, labels_train, X_emb = pickle.load(f)"
   ]
  },
  {
   "cell_type": "code",
   "execution_count": 11,
   "metadata": {},
   "outputs": [],
   "source": [
    "n_plot = 500\n",
    "X_plot = X_emb[:n_plot]\n",
    "labels_plot = labels_train[:n_plot]"
   ]
  },
  {
   "cell_type": "code",
   "execution_count": 12,
   "metadata": {},
   "outputs": [
    {
     "data": {
      "text/html": [
       "\n",
       "\n",
       "\n",
       "\n",
       "\n",
       "\n",
       "  <div class=\"bk-root\" id=\"bf5d075a-b8c4-4fe1-8424-4970ef63ff5d\"></div>\n"
      ]
     },
     "metadata": {},
     "output_type": "display_data"
    },
    {
     "data": {
      "application/javascript": [
       "(function(root) {\n",
       "  function embed_document(root) {\n",
       "    \n",
       "  var docs_json = {\"c30a2ddb-b69a-48ce-8316-2dbefa9e45e3\":{\"roots\":{\"references\":[{\"attributes\":{\"text_color\":{\"field\":\"colors\",\"transform\":{\"id\":\"360c6f0f-213a-44ed-8ecf-3f357971110a\",\"type\":\"LinearColorMapper\"}},\"text_font_size\":{\"value\":\"10px\"},\"x\":{\"field\":\"x\"},\"y\":{\"field\":\"y\"}},\"id\":\"9f94956e-e7fb-44c4-a493-62accf365720\",\"type\":\"Text\"},{\"attributes\":{},\"id\":\"26c69d8e-d55f-415c-9ad9-3d0cbd912173\",\"type\":\"WheelZoomTool\"},{\"attributes\":{\"text_alpha\":{\"value\":0.1},\"text_color\":{\"value\":\"black\"},\"text_font_size\":{\"value\":\"10px\"},\"x\":{\"field\":\"x\"},\"y\":{\"field\":\"y\"}},\"id\":\"6b3fa502-ed61-409d-ba0c-3d6291088a96\",\"type\":\"Text\"},{\"attributes\":{},\"id\":\"7a2fb151-2a5f-4899-965a-94bb660e83e1\",\"type\":\"UnionRenderers\"},{\"attributes\":{\"callback\":null,\"renderers\":\"auto\"},\"id\":\"4c2dcddd-4ddd-437e-b736-7c8d40c47be2\",\"type\":\"HoverTool\"},{\"attributes\":{\"plot\":null,\"text\":\"fast text visualisation\"},\"id\":\"373c2f85-bcf5-454b-928c-0257445975d0\",\"type\":\"Title\"},{\"attributes\":{},\"id\":\"f4532ba5-7465-4e9a-a866-d7043997bca2\",\"type\":\"Selection\"},{\"attributes\":{\"data_source\":{\"id\":\"a093422f-f538-4ff1-b128-eb699cf861f8\",\"type\":\"ColumnDataSource\"},\"glyph\":{\"id\":\"9f94956e-e7fb-44c4-a493-62accf365720\",\"type\":\"Text\"},\"hover_glyph\":null,\"muted_glyph\":null,\"nonselection_glyph\":{\"id\":\"6b3fa502-ed61-409d-ba0c-3d6291088a96\",\"type\":\"Text\"},\"selection_glyph\":null,\"view\":{\"id\":\"f7790eca-d185-437e-b73c-283ec3afacab\",\"type\":\"CDSView\"}},\"id\":\"98d71223-1089-4082-acc7-45775c8582f9\",\"type\":\"GlyphRenderer\"},{\"attributes\":{\"callback\":null,\"data\":{\"colors\":{\"__ndarray__\":\"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\",\"dtype\":\"float32\",\"shape\":[500]},\"text\":[\"merged\",\"setting\",\"pop\",\"Day\",\"guys\",\"order\",\"cases\",\"Melbourne\",\"since\",\"perfect\",\"notability\",\"lower\",\"guy\",\"search\",\"pleasure\",\"ship\",\"scale\",\"needs\",\"fall\",\"threats\",\"Maybe\",\"writers\",\"Richard\",\"successfully\",\"part\",\"entity\",\"defeated\",\"team\",\"guidance\",\"button\",\"external\",\"Austria\",\"central\",\"desk\",\"partnership\",\"call\",\"films\",\"return\",\"physicians\",\"Pakistan\",\"civilians\",\"charges\",\"upset\",\"winners\",\"far\",\"James\",\"gun\",\"operate\",\"described\",\"dress\",\"biography\",\"posted\",\"considered\",\"sessions\",\"Prince\",\"mechanisms\",\"starts\",\"base\",\"Art\",\"Libya\",\"Online\",\"paper\",\"devices\",\"simply\",\"limited\",\"past\",\"artists\",\"males\",\"democracy\",\"warning\",\"disaster\",\"created\",\"besides\",\"Free\",\"greater\",\"Mexican\",\"altogether\",\"Anthony\",\"sets\",\"fit\",\"waiting\",\"resolution\",\"event\",\"suit\",\"limit\",\"participants\",\"start\",\"subjects\",\"neither\",\"employee\",\"ultimately\",\"measured\",\"Democrats\",\"informative\",\"join\",\"key\",\"transmission\",\"Jeff\",\"Edward\",\"ends\",\"issues\",\"desired\",\"Force\",\"opinion\",\"directed\",\"lived\",\"guideline\",\"username\",\"titles\",\"Chairman\",\"landscape\",\"take\",\"Park\",\"capital\",\"frequency\",\"drawn\",\"add\",\"looked\",\"spend\",\"amid\",\"mentioned\",\"additional\",\"literature\",\"fellow\",\"cover\",\"heart\",\"Atlanta\",\"drive\",\"opportunities\",\"joining\",\"support\",\"Nations\",\"continuing\",\"reflects\",\"Massachusetts\",\"stop\",\"evidence\",\"statistics\",\"citizens\",\"best\",\"horses\",\"digital\",\"figures\",\"fresh\",\"possible\",\"happening\",\"Three\",\"Lawrence\",\"appearance\",\"renamed\",\"courses\",\"load\",\"test\",\"week\",\"stating\",\"biology\",\"one\",\"presented\",\"percentage\",\"historic\",\"explained\",\"rights\",\"election\",\"flight\",\"dispute\",\"Kevin\",\"April\",\"trees\",\"unique\",\"seek\",\"dollar\",\"cuts\",\"Yes\",\"Third\",\"purpose\",\"round\",\"somewhat\",\"functions\",\"telling\",\"reliable\",\"ordered\",\"types\",\"articles\",\"paintings\",\"personality\",\"core\",\"contest\",\"theme\",\"Australia\",\"welfare\",\"Jesus\",\"asked\",\"voted\",\"failed\",\"marketing\",\"representation\",\"permission\",\"Turkish\",\"describing\",\"contents\",\"Lewis\",\"enterprise\",\"national\",\"choices\",\"quotes\",\"showed\",\"brand\",\"pictures\",\"well\",\"three\",\"Andrew\",\"Wikipedia\",\"prisoners\",\"organizations\",\"accuracy\",\"feet\",\"grew\",\"urban\",\"usual\",\"subsequent\",\"crisis\",\"responsibility\",\"general\",\"cell\",\"terrorism\",\"love\",\"felt\",\"highly\",\"mother\",\"King\",\"computer\",\"fuel\",\"successful\",\"Although\",\"low\",\"theater\",\"damage\",\"weapon\",\"assessment\",\"Two\",\"dialogue\",\"math\",\"population\",\"proved\",\"engineer\",\"addressed\",\"Hollywood\",\"Tim\",\"deficit\",\"China\",\"Tennessee\",\"techniques\",\"Westminster\",\"technology\",\"happened\",\"flexibility\",\"Black\",\"agenda\",\"highway\",\"working\",\"violent\",\"partner\",\"formation\",\"looking\",\"Norway\",\"spokesman\",\"chief\",\"silly\",\"Early\",\"rejected\",\"personal\",\"physical\",\"provision\",\"aware\",\"hearing\",\"gene\",\"outstanding\",\"Act\",\"requiring\",\"thing\",\"promotion\",\"guarantee\",\"Kelly\",\"rare\",\"respectively\",\"blood\",\"person\",\"row\",\"women\",\"play\",\"ceremony\",\"Stephen\",\"alcohol\",\"tough\",\"implementing\",\"cited\",\"ground\",\"operates\",\"simple\",\"exhibition\",\"exposure\",\"less\",\"Rome\",\"processing\",\"letter\",\"lie\",\"infection\",\"village\",\"knows\",\"fund\",\"months\",\"continue\",\"life\",\"throw\",\"describes\",\"guide\",\"treated\",\"owned\",\"priority\",\"French\",\"occur\",\"drug\",\"lines\",\"counter\",\"Line\",\"Harry\",\"collection\",\"involving\",\"grade\",\"capture\",\"leave\",\"universal\",\"building\",\"participation\",\"officials\",\"studied\",\"complaints\",\"receiving\",\"category\",\"Friday\",\"contribute\",\"proper\",\"membership\",\"Palestinian\",\"effort\",\"natural\",\"remain\",\"exist\",\"texts\",\"female\",\"Malaysia\",\"medicine\",\"illegal\",\"established\",\"refused\",\"signature\",\"bridge\",\"Lincoln\",\"risk\",\"smaller\",\"insurance\",\"rates\",\"injury\",\"money\",\"online\",\"closely\",\"conference\",\"sharing\",\"although\",\"connections\",\"installed\",\"immediate\",\"car\",\"program\",\"repeat\",\"existing\",\"Welsh\",\"signing\",\"Blue\",\"Canadian\",\"ago\",\"given\",\"retirement\",\"BBC\",\"September\",\"plays\",\"December\",\"scientists\",\"knowledge\",\"objectives\",\"anyway\",\"Valley\",\"usage\",\"everywhere\",\"restored\",\"Gary\",\"UTC\",\"Patrick\",\"sentences\",\"youth\",\"hold\",\"tildes\",\"despite\",\"River\",\"Paul\",\"establishing\",\"Apple\",\"wins\",\"stream\",\"denied\",\"documentary\",\"takes\",\"parents\",\"Earth\",\"shopping\",\"industries\",\"duty\",\"generated\",\"via\",\"centuries\",\"granted\",\"check\",\"citing\",\"space\",\"international\",\"afternoon\",\"remaining\",\"ban\",\"economics\",\"Hotel\",\"content\",\"appreciated\",\"death\",\"long\",\"sure\",\"Paris\",\"Review\",\"wild\",\"According\",\"numerous\",\"pain\",\"respect\",\"zone\",\"belief\",\"steps\",\"camp\",\"Family\",\"history\",\"quickly\",\"whereas\",\"provisions\",\"slow\",\"titled\",\"journalist\",\"versus\",\"saying\",\"begin\",\"gets\",\"raise\",\"office\",\"Station\",\"responses\",\"gives\",\"reporters\",\"period\",\"Labour\",\"without\",\"region\",\"sense\",\"Test\",\"instruments\",\"routine\",\"deletion\",\"year\",\"models\",\"fees\",\"understand\",\"classical\",\"Could\",\"uniform\",\"New\",\"resulting\",\"Next\",\"Edinburgh\",\"propaganda\",\"fear\",\"Maria\",\"payments\",\"negotiations\",\"Rose\",\"fourth\",\"telephone\",\"passes\",\"charge\",\"execution\",\"rule\",\"hired\",\"substantial\",\"specifically\",\"date\"],\"x\":{\"__ndarray__\":\"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\",\"dtype\":\"float32\",\"shape\":[500]},\"y\":{\"__ndarray__\":\"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\",\"dtype\":\"float32\",\"shape\":[500]}},\"selected\":{\"id\":\"f4532ba5-7465-4e9a-a866-d7043997bca2\",\"type\":\"Selection\"},\"selection_policy\":{\"id\":\"7a2fb151-2a5f-4899-965a-94bb660e83e1\",\"type\":\"UnionRenderers\"}},\"id\":\"a093422f-f538-4ff1-b128-eb699cf861f8\",\"type\":\"ColumnDataSource\"},{\"attributes\":{},\"id\":\"2d3215fb-396c-4896-b37a-4ee6396cfac8\",\"type\":\"ResetTool\"},{\"attributes\":{\"overlay\":{\"id\":\"ad08bbc4-535c-4199-85e2-8e0da237b879\",\"type\":\"BoxAnnotation\"}},\"id\":\"3a0b4d6c-814e-419b-80e4-932d6c2a190d\",\"type\":\"BoxZoomTool\"},{\"attributes\":{},\"id\":\"c5fbba91-db79-4298-af86-3d0fcc3a4c5a\",\"type\":\"SaveTool\"},{\"attributes\":{\"source\":{\"id\":\"a093422f-f538-4ff1-b128-eb699cf861f8\",\"type\":\"ColumnDataSource\"}},\"id\":\"f7790eca-d185-437e-b73c-283ec3afacab\",\"type\":\"CDSView\"},{\"attributes\":{\"callback\":null},\"id\":\"ef7b2480-355c-4d15-aa53-d2c67f22e3f6\",\"type\":\"DataRange1d\"},{\"attributes\":{},\"id\":\"8857bb12-78c8-4a93-8e04-d12d20d017f0\",\"type\":\"LinearScale\"},{\"attributes\":{},\"id\":\"ae864389-43c3-4090-80f5-4cd057c93917\",\"type\":\"LinearScale\"},{\"attributes\":{\"active_drag\":\"auto\",\"active_inspect\":\"auto\",\"active_multi\":null,\"active_scroll\":\"auto\",\"active_tap\":\"auto\",\"tools\":[{\"id\":\"7038b044-7ea0-4557-93bc-8b421ad85522\",\"type\":\"PanTool\"},{\"id\":\"26c69d8e-d55f-415c-9ad9-3d0cbd912173\",\"type\":\"WheelZoomTool\"},{\"id\":\"3a0b4d6c-814e-419b-80e4-932d6c2a190d\",\"type\":\"BoxZoomTool\"},{\"id\":\"2d3215fb-396c-4896-b37a-4ee6396cfac8\",\"type\":\"ResetTool\"},{\"id\":\"4c2dcddd-4ddd-437e-b736-7c8d40c47be2\",\"type\":\"HoverTool\"},{\"id\":\"c5fbba91-db79-4298-af86-3d0fcc3a4c5a\",\"type\":\"SaveTool\"}]},\"id\":\"ecd7cf1e-3a4b-48da-8708-f67828e86e8f\",\"type\":\"Toolbar\"},{\"attributes\":{\"high\":79.38733673095703,\"low\":-75.47183227539062,\"palette\":[\"#3288bd\",\"#99d594\",\"#e6f598\",\"#fee08b\",\"#fc8d59\",\"#d53e4f\"]},\"id\":\"360c6f0f-213a-44ed-8ecf-3f357971110a\",\"type\":\"LinearColorMapper\"},{\"attributes\":{},\"id\":\"7038b044-7ea0-4557-93bc-8b421ad85522\",\"type\":\"PanTool\"},{\"attributes\":{\"callback\":null},\"id\":\"bd555fd0-077e-4673-8fa1-2b3e301e5674\",\"type\":\"DataRange1d\"},{\"attributes\":{\"min_border\":1,\"plot_width\":800,\"renderers\":[{\"id\":\"ad08bbc4-535c-4199-85e2-8e0da237b879\",\"type\":\"BoxAnnotation\"},{\"id\":\"98d71223-1089-4082-acc7-45775c8582f9\",\"type\":\"GlyphRenderer\"}],\"title\":{\"id\":\"373c2f85-bcf5-454b-928c-0257445975d0\",\"type\":\"Title\"},\"toolbar\":{\"id\":\"ecd7cf1e-3a4b-48da-8708-f67828e86e8f\",\"type\":\"Toolbar\"},\"x_range\":{\"id\":\"ef7b2480-355c-4d15-aa53-d2c67f22e3f6\",\"type\":\"DataRange1d\"},\"x_scale\":{\"id\":\"ae864389-43c3-4090-80f5-4cd057c93917\",\"type\":\"LinearScale\"},\"y_range\":{\"id\":\"bd555fd0-077e-4673-8fa1-2b3e301e5674\",\"type\":\"DataRange1d\"},\"y_scale\":{\"id\":\"8857bb12-78c8-4a93-8e04-d12d20d017f0\",\"type\":\"LinearScale\"}},\"id\":\"f7810b8e-742a-4ac8-8cf4-e478268d4cd6\",\"subtype\":\"Figure\",\"type\":\"Plot\"},{\"attributes\":{\"bottom_units\":\"screen\",\"fill_alpha\":{\"value\":0.5},\"fill_color\":{\"value\":\"lightgrey\"},\"left_units\":\"screen\",\"level\":\"overlay\",\"line_alpha\":{\"value\":1.0},\"line_color\":{\"value\":\"black\"},\"line_dash\":[4,4],\"line_width\":{\"value\":2},\"plot\":null,\"render_mode\":\"css\",\"right_units\":\"screen\",\"top_units\":\"screen\"},\"id\":\"ad08bbc4-535c-4199-85e2-8e0da237b879\",\"type\":\"BoxAnnotation\"}],\"root_ids\":[\"f7810b8e-742a-4ac8-8cf4-e478268d4cd6\"]},\"title\":\"Bokeh Application\",\"version\":\"0.13.0\"}};\n",
       "  var render_items = [{\"docid\":\"c30a2ddb-b69a-48ce-8316-2dbefa9e45e3\",\"roots\":{\"f7810b8e-742a-4ac8-8cf4-e478268d4cd6\":\"bf5d075a-b8c4-4fe1-8424-4970ef63ff5d\"}}];\n",
       "  root.Bokeh.embed.embed_items_notebook(docs_json, render_items);\n",
       "\n",
       "  }\n",
       "  if (root.Bokeh !== undefined) {\n",
       "    embed_document(root);\n",
       "  } else {\n",
       "    var attempts = 0;\n",
       "    var timer = setInterval(function(root) {\n",
       "      if (root.Bokeh !== undefined) {\n",
       "        embed_document(root);\n",
       "        clearInterval(timer);\n",
       "      }\n",
       "      attempts++;\n",
       "      if (attempts > 100) {\n",
       "        console.log(\"Bokeh: ERROR: Unable to run BokehJS code because BokehJS library is missing\")\n",
       "        clearInterval(timer);\n",
       "      }\n",
       "    }, 10, root)\n",
       "  }\n",
       "})(window);"
      ],
      "application/vnd.bokehjs_exec.v0+json": ""
     },
     "metadata": {
      "application/vnd.bokehjs_exec.v0+json": {
       "id": "f7810b8e-742a-4ac8-8cf4-e478268d4cd6"
      }
     },
     "output_type": "display_data"
    }
   ],
   "source": [
    "title = 'fast text visualisation'\n",
    "\n",
    "plot_fig = bp.figure(plot_width=800, plot_height=600,\n",
    "                     title=title,\n",
    "                     tools=\"pan, wheel_zoom, box_zoom, reset, hover, previewsave\",\n",
    "                     x_axis_type=None, y_axis_type=None, min_border=1)\n",
    "\n",
    "# Use the third dimension as the color map\n",
    "if X_plot.shape[1] == 3:\n",
    "    colors = X_plot[:,2]\n",
    "    mapper = linear_cmap(field_name='colors', palette=Spectral6 ,low=min(colors) ,high=max(colors))\n",
    "    source = bp.ColumnDataSource(dict(x=X_plot[:,0], y=X_plot[:,1], text=labels_plot, colors=colors))\n",
    "    plot_fig.text(\"x\", \"y\", text=\"text\", text_font_size='10px', text_color=mapper, source=source)\n",
    "else:\n",
    "    source = bp.ColumnDataSource(dict(x=X_plot[:,0], y=X_plot[:,1], text=labels_plot))\n",
    "    plot_fig.text(\"x\", \"y\", text=\"text\", text_font_size='10px', source=source)\n",
    "\n",
    "show(plot_fig)"
   ]
  },
  {
   "cell_type": "markdown",
   "metadata": {},
   "source": [
    "## On test data"
   ]
  },
  {
   "cell_type": "code",
   "execution_count": 13,
   "metadata": {},
   "outputs": [
    {
     "name": "stdout",
     "output_type": "stream",
     "text": [
      "[t-SNE] Computing 46 nearest neighbors...\n",
      "[t-SNE] Indexed 1000 samples in 0.005s...\n",
      "[t-SNE] Computed neighbors for 1000 samples in 0.510s...\n",
      "[t-SNE] Computed conditional probabilities for sample 1000 / 1000\n",
      "[t-SNE] Mean sigma: 0.549858\n",
      "[t-SNE] KL divergence after 250 iterations with early exaggeration: 133.171921\n",
      "[t-SNE] Error after 2500 iterations: 2.040648\n",
      "(1000, 3)\n"
     ]
    }
   ],
   "source": [
    "embedder = TSNE(perplexity=15, n_components=3, init='pca', n_iter=2500, random_state=23, verbose=1)\n",
    "test_X_emb = embedder.fit_transform(X_test)\n",
    "print(test_X_emb.shape)"
   ]
  },
  {
   "cell_type": "code",
   "execution_count": 16,
   "metadata": {},
   "outputs": [],
   "source": [
    "n_plot = 500\n",
    "test_X_plot = test_X_emb[:n_plot]\n",
    "test_labels_plot = labels_test[:n_plot]"
   ]
  },
  {
   "cell_type": "code",
   "execution_count": 17,
   "metadata": {},
   "outputs": [
    {
     "data": {
      "text/html": [
       "\n",
       "\n",
       "\n",
       "\n",
       "\n",
       "\n",
       "  <div class=\"bk-root\" id=\"ae617685-6522-407d-89d0-14d3bd566914\"></div>\n"
      ]
     },
     "metadata": {},
     "output_type": "display_data"
    },
    {
     "data": {
      "application/javascript": [
       "(function(root) {\n",
       "  function embed_document(root) {\n",
       "    \n",
       "  var docs_json = {\"c3a69301-00d8-4771-b775-4a184ee4a05b\":{\"roots\":{\"references\":[{\"attributes\":{\"plot\":null,\"text\":\"fast text visualisation\"},\"id\":\"9ceb40e4-428d-4730-9f0b-4ee29826c307\",\"type\":\"Title\"},{\"attributes\":{\"callback\":null},\"id\":\"be57261f-4b40-4d82-8ac2-d6a9b74bc973\",\"type\":\"DataRange1d\"},{\"attributes\":{\"bottom_units\":\"screen\",\"fill_alpha\":{\"value\":0.5},\"fill_color\":{\"value\":\"lightgrey\"},\"left_units\":\"screen\",\"level\":\"overlay\",\"line_alpha\":{\"value\":1.0},\"line_color\":{\"value\":\"black\"},\"line_dash\":[4,4],\"line_width\":{\"value\":2},\"plot\":null,\"render_mode\":\"css\",\"right_units\":\"screen\",\"top_units\":\"screen\"},\"id\":\"f3ef2363-0d6b-4ef7-af93-311190aad431\",\"type\":\"BoxAnnotation\"},{\"attributes\":{},\"id\":\"f3d899d4-53d1-4b5e-9bfc-ec8da054866a\",\"type\":\"Selection\"},{\"attributes\":{},\"id\":\"ff1a2d9f-c413-474d-8432-e3b2dacb615e\",\"type\":\"LinearScale\"},{\"attributes\":{},\"id\":\"e8c3a394-1522-44a3-a502-c7d0863a443f\",\"type\":\"UnionRenderers\"},{\"attributes\":{\"data_source\":{\"id\":\"c3313997-7a10-4bdd-b47c-4a1a6e37d8c0\",\"type\":\"ColumnDataSource\"},\"glyph\":{\"id\":\"23083902-b4f2-45ee-b822-5646eda7aeb3\",\"type\":\"Text\"},\"hover_glyph\":null,\"muted_glyph\":null,\"nonselection_glyph\":{\"id\":\"f033ef50-6d6a-4e87-b67d-0baf12d1b778\",\"type\":\"Text\"},\"selection_glyph\":null,\"view\":{\"id\":\"f2cab534-82bd-4d23-a496-c06c0d1ec434\",\"type\":\"CDSView\"}},\"id\":\"058d0c54-4e5c-44d2-84e4-a259f906e207\",\"type\":\"GlyphRenderer\"},{\"attributes\":{},\"id\":\"b3fc4dcf-f2bd-44ee-a942-bab9a675f762\",\"type\":\"PanTool\"},{\"attributes\":{\"active_drag\":\"auto\",\"active_inspect\":\"auto\",\"active_multi\":null,\"active_scroll\":\"auto\",\"active_tap\":\"auto\",\"tools\":[{\"id\":\"b3fc4dcf-f2bd-44ee-a942-bab9a675f762\",\"type\":\"PanTool\"},{\"id\":\"12a80d3c-7fc0-4cc3-8f03-daeb058ce8de\",\"type\":\"WheelZoomTool\"},{\"id\":\"815ed5e9-6d22-455e-bf39-a7e3f4d88c83\",\"type\":\"BoxZoomTool\"},{\"id\":\"f79331f5-b78c-4104-ab47-7fb7d01faef0\",\"type\":\"ResetTool\"},{\"id\":\"be27e61c-960b-43bf-951b-ff8f6ca61a72\",\"type\":\"HoverTool\"},{\"id\":\"0bdac5d7-1a42-4c3c-8f64-3699c89bc218\",\"type\":\"SaveTool\"}]},\"id\":\"a410a37c-167b-4bd0-ab00-abf01a625e24\",\"type\":\"Toolbar\"},{\"attributes\":{\"text_alpha\":{\"value\":0.1},\"text_color\":{\"value\":\"black\"},\"text_font_size\":{\"value\":\"10px\"},\"x\":{\"field\":\"x\"},\"y\":{\"field\":\"y\"}},\"id\":\"f033ef50-6d6a-4e87-b67d-0baf12d1b778\",\"type\":\"Text\"},{\"attributes\":{\"source\":{\"id\":\"c3313997-7a10-4bdd-b47c-4a1a6e37d8c0\",\"type\":\"ColumnDataSource\"}},\"id\":\"f2cab534-82bd-4d23-a496-c06c0d1ec434\",\"type\":\"CDSView\"},{\"attributes\":{\"callback\":null},\"id\":\"38fabdd3-14a4-4fa4-aa5c-7fcdb9f44921\",\"type\":\"DataRange1d\"},{\"attributes\":{\"overlay\":{\"id\":\"f3ef2363-0d6b-4ef7-af93-311190aad431\",\"type\":\"BoxAnnotation\"}},\"id\":\"815ed5e9-6d22-455e-bf39-a7e3f4d88c83\",\"type\":\"BoxZoomTool\"},{\"attributes\":{},\"id\":\"12a80d3c-7fc0-4cc3-8f03-daeb058ce8de\",\"type\":\"WheelZoomTool\"},{\"attributes\":{\"min_border\":1,\"plot_width\":800,\"renderers\":[{\"id\":\"f3ef2363-0d6b-4ef7-af93-311190aad431\",\"type\":\"BoxAnnotation\"},{\"id\":\"058d0c54-4e5c-44d2-84e4-a259f906e207\",\"type\":\"GlyphRenderer\"}],\"title\":{\"id\":\"9ceb40e4-428d-4730-9f0b-4ee29826c307\",\"type\":\"Title\"},\"toolbar\":{\"id\":\"a410a37c-167b-4bd0-ab00-abf01a625e24\",\"type\":\"Toolbar\"},\"x_range\":{\"id\":\"38fabdd3-14a4-4fa4-aa5c-7fcdb9f44921\",\"type\":\"DataRange1d\"},\"x_scale\":{\"id\":\"63d9488e-3c3d-434d-b7c2-80e8a68c3495\",\"type\":\"LinearScale\"},\"y_range\":{\"id\":\"be57261f-4b40-4d82-8ac2-d6a9b74bc973\",\"type\":\"DataRange1d\"},\"y_scale\":{\"id\":\"ff1a2d9f-c413-474d-8432-e3b2dacb615e\",\"type\":\"LinearScale\"}},\"id\":\"f491a22a-637c-42ba-bda2-0a793e435441\",\"subtype\":\"Figure\",\"type\":\"Plot\"},{\"attributes\":{},\"id\":\"f79331f5-b78c-4104-ab47-7fb7d01faef0\",\"type\":\"ResetTool\"},{\"attributes\":{\"high\":173.4170379638672,\"low\":-174.4158477783203,\"palette\":[\"#3288bd\",\"#99d594\",\"#e6f598\",\"#fee08b\",\"#fc8d59\",\"#d53e4f\"]},\"id\":\"c2eed19a-5f94-4fd6-a98e-5ea7e9a39444\",\"type\":\"LinearColorMapper\"},{\"attributes\":{\"text_color\":{\"field\":\"colors\",\"transform\":{\"id\":\"c2eed19a-5f94-4fd6-a98e-5ea7e9a39444\",\"type\":\"LinearColorMapper\"}},\"text_font_size\":{\"value\":\"10px\"},\"x\":{\"field\":\"x\"},\"y\":{\"field\":\"y\"}},\"id\":\"23083902-b4f2-45ee-b822-5646eda7aeb3\",\"type\":\"Text\"},{\"attributes\":{},\"id\":\"0bdac5d7-1a42-4c3c-8f64-3699c89bc218\",\"type\":\"SaveTool\"},{\"attributes\":{\"callback\":null,\"renderers\":\"auto\"},\"id\":\"be27e61c-960b-43bf-951b-ff8f6ca61a72\",\"type\":\"HoverTool\"},{\"attributes\":{},\"id\":\"63d9488e-3c3d-434d-b7c2-80e8a68c3495\",\"type\":\"LinearScale\"},{\"attributes\":{\"callback\":null,\"data\":{\"colors\":{\"__ndarray__\":\"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\",\"dtype\":\"float32\",\"shape\":[500]},\"text\":[\"Ross\",\"baseball\",\"businesses\",\"vessel\",\"Jack\",\"extension\",\"Club\",\"locations\",\"certain\",\"challenging\",\"advance\",\"tested\",\"animals\",\"border\",\"Ohio\",\"proven\",\"appeal\",\"decline\",\"create\",\"series\",\"saw\",\"prepared\",\"month\",\"different\",\"jobs\",\"ancient\",\"fashion\",\"Business\",\"magazines\",\"skill\",\"seasons\",\"harm\",\"High\",\"Beijing\",\"extent\",\"connected\",\"skills\",\"Video\",\"review\",\"begins\",\"Indian\",\"assigned\",\"interest\",\"Sydney\",\"thinking\",\"case\",\"Power\",\"Denmark\",\"sexual\",\"concrete\",\"administration\",\"error\",\"colleagues\",\"frequently\",\"recognized\",\"arrest\",\"Music\",\"called\",\"leg\",\"climate\",\"considering\",\"reader\",\"environment\",\"ages\",\"interview\",\"internal\",\"classification\",\"factors\",\"Italy\",\"sides\",\"reading\",\"purchase\",\"give\",\"challenge\",\"estate\",\"killing\",\"distributed\",\"reach\",\"clubs\",\"protected\",\"unit\",\"mean\",\"Hamas\",\"red\",\"Taylor\",\"headquarters\",\"corporations\",\"documented\",\"Stop\",\"crowd\",\"unlike\",\"show\",\"distribution\",\"protecting\",\"Little\",\"progress\",\"Philip\",\"innovation\",\"dropped\",\"easy\",\"reply\",\"decide\",\"laws\",\"covers\",\"boy\",\"flights\",\"God\",\"protest\",\"governor\",\"relief\",\"eggs\",\"streets\",\"entire\",\"director\",\"extremely\",\"caused\",\"machine\",\"wind\",\"big\",\"expect\",\"shop\",\"northern\",\"Pennsylvania\",\"featuring\",\"careful\",\"page\",\"drama\",\"Tory\",\"aircraft\",\"May\",\"waters\",\"claim\",\"literally\",\"attended\",\"aggressive\",\"campus\",\"bring\",\"Bridge\",\"couple\",\"recently\",\"details\",\"document\",\"previous\",\"assets\",\"constructive\",\"violations\",\"household\",\"ABC\",\"serious\",\"Military\",\"game\",\"application\",\"set\",\"Radio\",\"George\",\"heavy\",\"cast\",\"facilities\",\"eventually\",\"professor\",\"everything\",\"morning\",\"contributions\",\"attention\",\"skin\",\"serving\",\"lab\",\"pitch\",\"merely\",\"regional\",\"accepted\",\"musician\",\"Project\",\"Kennedy\",\"elections\",\"presence\",\"informed\",\"educational\",\"represented\",\"Summer\",\"new\",\"Louis\",\"suffering\",\"Major\",\"Science\",\"developed\",\"lawyer\",\"championship\",\"eastern\",\"indicate\",\"attitude\",\"represents\",\"learn\",\"Sweden\",\"Columbia\",\"desire\",\"provide\",\"went\",\"apart\",\"salary\",\"plan\",\"coast\",\"festival\",\"deals\",\"hitting\",\"generally\",\"ridiculous\",\"visits\",\"Wisconsin\",\"hope\",\"speak\",\"fighting\",\"early\",\"restrictions\",\"colour\",\"outside\",\"wearing\",\"movement\",\"conflicts\",\"recovery\",\"opponents\",\"USA\",\"Many\",\"unnecessary\",\"historian\",\"BLP\",\"depression\",\"Ryan\",\"land\",\"bill\",\"situation\",\"economic\",\"designer\",\"several\",\"patient\",\"expanded\",\"bringing\",\"crucial\",\"science\",\"notes\",\"crossing\",\"Seattle\",\"Roger\",\"minute\",\"delay\",\"opening\",\"Joseph\",\"investors\",\"maintaining\",\"tree\",\"text\",\"let\",\"tells\",\"chair\",\"actually\",\"mobile\",\"tax\",\"John\",\"Mississippi\",\"parameter\",\"sentence\",\"legitimate\",\"role\",\"significance\",\"context\",\"found\",\"rich\",\"require\",\"deaths\",\"first\",\"spiritual\",\"effectively\",\"competitive\",\"stands\",\"experienced\",\"points\",\"San\",\"involvement\",\"Time\",\"sections\",\"shops\",\"activities\",\"visiting\",\"forget\",\"households\",\"adopted\",\"Arab\",\"prominent\",\"machines\",\"received\",\"performed\",\"affairs\",\"costs\",\"maintain\",\"basis\",\"confusing\",\"Manchester\",\"design\",\"Oklahoma\",\"mentions\",\"Sarah\",\"creative\",\"determination\",\"common\",\"diff\",\"diversity\",\"Monday\",\"editing\",\"essay\",\"allegedly\",\"burning\",\"necessary\",\"five\",\"point\",\"studio\",\"demands\",\"colors\",\"episode\",\"log\",\"practices\",\"broadcast\",\"dry\",\"experts\",\"child\",\"organization\",\"Library\",\"email\",\"gas\",\"representatives\",\"permanent\",\"Master\",\"ten\",\"launch\",\"uploaded\",\"Joe\",\"Arts\",\"chemistry\",\"Though\",\"driving\",\"valuable\",\"Red\",\"rationale\",\"operators\",\"demand\",\"Oxford\",\"clear\",\"fans\",\"contains\",\"grow\",\"conducted\",\"fraud\",\"west\",\"especially\",\"section\",\"blind\",\"aside\",\"catch\",\"crew\",\"true\",\"pay\",\"draw\",\"atmosphere\",\"happy\",\"June\",\"representing\",\"evaluation\",\"faith\",\"Minnesota\",\"concentration\",\"videos\",\"agriculture\",\"plane\",\"day\",\"entirely\",\"trip\",\"recommendations\",\"notices\",\"exists\",\"season\",\"strange\",\"audio\",\"ready\",\"London\",\"daughter\",\"Administration\",\"used\",\"community\",\"held\",\"product\",\"choice\",\"values\",\"irrelevant\",\"dinner\",\"rally\",\"preparation\",\"returns\",\"meetings\",\"warm\",\"million\",\"learning\",\"made\",\"impact\",\"Hungary\",\"letters\",\"great\",\"depth\",\"service\",\"magazine\",\"Division\",\"appropriate\",\"sex\",\"treatment\",\"finds\",\"shots\",\"West\",\"forum\",\"plans\",\"pages\",\"incident\",\"improve\",\"Well\",\"transportation\",\"Islam\",\"large\",\"amongst\",\"position\",\"emerging\",\"administrator\",\"wait\",\"unconstructive\",\"instructions\",\"enforcement\",\"mayor\",\"publication\",\"disability\",\"father\",\"claims\",\"soil\",\"elements\",\"believed\",\"thanks\",\"Several\",\"engaged\",\"Secretary\",\"eat\",\"eating\",\"Theatre\",\"server\",\"officer\",\"wing\",\"discovered\",\"Greek\",\"appeared\",\"needed\",\"producer\",\"cost\",\"episodes\",\"planet\",\"tried\",\"Commons\",\"shared\",\"ones\",\"consent\",\"describe\",\"affected\",\"troops\",\"cultures\",\"cutting\",\"dollars\",\"sourcing\",\"already\",\"Navy\",\"Council\",\"directly\",\"reduced\",\"request\",\"terms\",\"territory\",\"together\",\"Michigan\",\"defending\",\"suddenly\",\"females\",\"became\",\"winner\",\"discussion\",\"hear\",\"URL\",\"written\",\"colleges\",\"States\",\"military\",\"trained\",\"mark\",\"leaving\",\"parameters\",\"coal\",\"Long\",\"cities\",\"temple\"],\"x\":{\"__ndarray__\":\"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\",\"dtype\":\"float32\",\"shape\":[500]},\"y\":{\"__ndarray__\":\"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\",\"dtype\":\"float32\",\"shape\":[500]}},\"selected\":{\"id\":\"f3d899d4-53d1-4b5e-9bfc-ec8da054866a\",\"type\":\"Selection\"},\"selection_policy\":{\"id\":\"e8c3a394-1522-44a3-a502-c7d0863a443f\",\"type\":\"UnionRenderers\"}},\"id\":\"c3313997-7a10-4bdd-b47c-4a1a6e37d8c0\",\"type\":\"ColumnDataSource\"}],\"root_ids\":[\"f491a22a-637c-42ba-bda2-0a793e435441\"]},\"title\":\"Bokeh Application\",\"version\":\"0.13.0\"}};\n",
       "  var render_items = [{\"docid\":\"c3a69301-00d8-4771-b775-4a184ee4a05b\",\"roots\":{\"f491a22a-637c-42ba-bda2-0a793e435441\":\"ae617685-6522-407d-89d0-14d3bd566914\"}}];\n",
       "  root.Bokeh.embed.embed_items_notebook(docs_json, render_items);\n",
       "\n",
       "  }\n",
       "  if (root.Bokeh !== undefined) {\n",
       "    embed_document(root);\n",
       "  } else {\n",
       "    var attempts = 0;\n",
       "    var timer = setInterval(function(root) {\n",
       "      if (root.Bokeh !== undefined) {\n",
       "        embed_document(root);\n",
       "        clearInterval(timer);\n",
       "      }\n",
       "      attempts++;\n",
       "      if (attempts > 100) {\n",
       "        console.log(\"Bokeh: ERROR: Unable to run BokehJS code because BokehJS library is missing\")\n",
       "        clearInterval(timer);\n",
       "      }\n",
       "    }, 10, root)\n",
       "  }\n",
       "})(window);"
      ],
      "application/vnd.bokehjs_exec.v0+json": ""
     },
     "metadata": {
      "application/vnd.bokehjs_exec.v0+json": {
       "id": "f491a22a-637c-42ba-bda2-0a793e435441"
      }
     },
     "output_type": "display_data"
    }
   ],
   "source": [
    "title = 'fast text visualisation'\n",
    "\n",
    "plot_fig = bp.figure(plot_width=800, plot_height=600,\n",
    "                     title=title,\n",
    "                     tools=\"pan, wheel_zoom, box_zoom, reset, hover, previewsave\",\n",
    "                     x_axis_type=None, y_axis_type=None, min_border=1)\n",
    "\n",
    "# Use the third dimension as the color map\n",
    "if test_X_plot.shape[1] == 3:\n",
    "    colors = test_X_plot[:,2]\n",
    "    mapper = linear_cmap(field_name='colors', palette=Spectral6 ,low=min(colors) ,high=max(colors))\n",
    "    source = bp.ColumnDataSource(dict(x=test_X_plot[:,0], y=test_X_plot[:,1], text=test_labels_plot, colors=colors))\n",
    "    plot_fig.text(\"x\", \"y\", text=\"text\", text_font_size='10px', text_color=mapper, source=source)\n",
    "else:\n",
    "    source = bp.ColumnDataSource(dict(x=test_X_plot[:,0], y=test_X_plot[:,1], text=test_labels_plot))\n",
    "    plot_fig.text(\"x\", \"y\", text=\"text\", text_font_size='10px', source=source)\n",
    "\n",
    "show(plot_fig)"
   ]
  },
  {
   "cell_type": "markdown",
   "metadata": {},
   "source": [
    "## Save data"
   ]
  },
  {
   "cell_type": "code",
   "execution_count": 18,
   "metadata": {},
   "outputs": [
    {
     "name": "stdout",
     "output_type": "stream",
     "text": [
      "(3000, 300)\n"
     ]
    }
   ],
   "source": [
    "print(X_train.shape)\n",
    "inputs = X_train\n",
    "labels = []\n",
    "with open('fasttext_train_tsne.pkl', 'wb') as f:\n",
    "    pickle.dump([inputs, labels_train, X_emb], f)"
   ]
  },
  {
   "cell_type": "code",
   "execution_count": 19,
   "metadata": {},
   "outputs": [
    {
     "name": "stdout",
     "output_type": "stream",
     "text": [
      "(1000, 300)\n"
     ]
    }
   ],
   "source": [
    "print(X_test.shape)\n",
    "inputs = X_test\n",
    "labels = []\n",
    "with open('fasttext_test_tsne.pkl', 'wb') as f:\n",
    "    pickle.dump([inputs, labels_test, test_X_emb], f)"
   ]
  },
  {
   "cell_type": "code",
   "execution_count": null,
   "metadata": {},
   "outputs": [],
   "source": []
  }
 ],
 "metadata": {
  "kernelspec": {
   "display_name": "Python 3",
   "language": "python",
   "name": "python3"
  },
  "language_info": {
   "codemirror_mode": {
    "name": "ipython",
    "version": 3
   },
   "file_extension": ".py",
   "mimetype": "text/x-python",
   "name": "python",
   "nbconvert_exporter": "python",
   "pygments_lexer": "ipython3",
   "version": "3.6.6"
  }
 },
 "nbformat": 4,
 "nbformat_minor": 2
}
