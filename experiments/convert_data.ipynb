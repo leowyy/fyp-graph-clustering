{
 "cells": [
  {
   "cell_type": "code",
   "execution_count": 1,
   "metadata": {},
   "outputs": [
    {
     "data": {
      "text/plain": [
       "'/Users/signapoop/Desktop/fyp-graph-clustering'"
      ]
     },
     "execution_count": 1,
     "metadata": {},
     "output_type": "execute_result"
    }
   ],
   "source": [
    "import os\n",
    "os.chdir('..')\n",
    "os.getcwd()"
   ]
  },
  {
   "cell_type": "code",
   "execution_count": 2,
   "metadata": {},
   "outputs": [],
   "source": [
    "%matplotlib inline\n",
    "import matplotlib.pyplot as plt\n",
    "\n",
    "import pickle \n",
    "import numpy as np\n",
    "import pandas as pd\n",
    "import torch\n",
    "import os\n",
    "from timeit import default_timer as timer\n",
    "import networkx as nx\n",
    "import scipy.sparse as sp"
   ]
  },
  {
   "cell_type": "code",
   "execution_count": 3,
   "metadata": {},
   "outputs": [],
   "source": [
    "from core.EmbeddingDataSet import EmbeddingDataSet\n",
    "from core.GraphDataBlock import GraphDataBlock"
   ]
  },
  {
   "cell_type": "code",
   "execution_count": 63,
   "metadata": {},
   "outputs": [
    {
     "name": "stdout",
     "output_type": "stream",
     "text": [
      "Data blocks of length:  [55334]\n",
      "Time to create all data (s) = 0.4205\n",
      "Name of dataset = reddit_test\n",
      "Input dimension = 602\n",
      "Number of training samples = 55334\n",
      "Training labels = True\n"
     ]
    }
   ],
   "source": [
    "dataset_name = 'reddit_test'\n",
    "parent_dir = os.path.abspath('..')\n",
    "input_dir = os.path.join(parent_dir, 'data')\n",
    "dataset = EmbeddingDataSet(dataset_name, input_dir, train=True)\n",
    "dataset.create_all_data(n_batches=1, shuffle=False)\n",
    "dataset.summarise()"
   ]
  },
  {
   "cell_type": "code",
   "execution_count": 64,
   "metadata": {},
   "outputs": [
    {
     "name": "stdout",
     "output_type": "stream",
     "text": [
      "(55334, 602)\n",
      "55334\n",
      "(55334, 55334)\n"
     ]
    }
   ],
   "source": [
    "print(dataset.inputs.shape)\n",
    "print(len(dataset.labels))\n",
    "print(dataset.adj_matrix.shape)"
   ]
  },
  {
   "cell_type": "code",
   "execution_count": 65,
   "metadata": {},
   "outputs": [
    {
     "data": {
      "text/plain": [
       "array([[ 2.76121381,  3.51401294, -0.94269743, ..., -0.22735964,\n",
       "         0.27362608, -0.40100911],\n",
       "       [-0.24396839, -0.1961025 , -0.05843355, ...,  0.06941389,\n",
       "         0.24827524,  0.25882556],\n",
       "       [-0.71172419, -0.58276388, -0.17510535, ..., -0.76102937,\n",
       "        -0.50193927,  1.39916178],\n",
       "       ...,\n",
       "       [-0.52520928, -0.96942525,  0.2018864 , ...,  0.64377226,\n",
       "         0.13026628,  1.32726385],\n",
       "       [-0.24396839, -0.35658147, -0.22048894, ...,  0.00778838,\n",
       "        -0.3666105 ,  0.33776654],\n",
       "       [-0.3728155 ,  0.19055887, -0.10349861, ..., -0.87750852,\n",
       "         0.44574836,  0.35144756]])"
      ]
     },
     "execution_count": 65,
     "metadata": {},
     "output_type": "execute_result"
    }
   ],
   "source": [
    "dataset.inputs"
   ]
  },
  {
   "cell_type": "code",
   "execution_count": 66,
   "metadata": {},
   "outputs": [
    {
     "data": {
      "text/plain": [
       "<55334x55334 sparse matrix of type '<class 'numpy.int64'>'\n",
       "\twith 1615610 stored elements in Compressed Sparse Row format>"
      ]
     },
     "execution_count": 66,
     "metadata": {},
     "output_type": "execute_result"
    }
   ],
   "source": [
    "dataset.adj_matrix"
   ]
  },
  {
   "cell_type": "code",
   "execution_count": 67,
   "metadata": {},
   "outputs": [],
   "source": [
    "outfile = 'new_data/{}.npz'.format(dataset_name)\n",
    "np.savez(outfile, inputs=dataset.inputs, labels=dataset.labels, adj_matrix=dataset.adj_matrix)"
   ]
  },
  {
   "cell_type": "code",
   "execution_count": 68,
   "metadata": {},
   "outputs": [],
   "source": [
    "npzfile = np.load(outfile)"
   ]
  },
  {
   "cell_type": "code",
   "execution_count": 69,
   "metadata": {},
   "outputs": [
    {
     "data": {
      "text/plain": [
       "['inputs', 'labels', 'adj_matrix']"
      ]
     },
     "execution_count": 69,
     "metadata": {},
     "output_type": "execute_result"
    }
   ],
   "source": [
    "npzfile.files"
   ]
  },
  {
   "cell_type": "code",
   "execution_count": 70,
   "metadata": {},
   "outputs": [
    {
     "data": {
      "text/plain": [
       "array([[ 2.76121381,  3.51401294, -0.94269743, ..., -0.22735964,\n",
       "         0.27362608, -0.40100911],\n",
       "       [-0.24396839, -0.1961025 , -0.05843355, ...,  0.06941389,\n",
       "         0.24827524,  0.25882556],\n",
       "       [-0.71172419, -0.58276388, -0.17510535, ..., -0.76102937,\n",
       "        -0.50193927,  1.39916178],\n",
       "       ...,\n",
       "       [-0.52520928, -0.96942525,  0.2018864 , ...,  0.64377226,\n",
       "         0.13026628,  1.32726385],\n",
       "       [-0.24396839, -0.35658147, -0.22048894, ...,  0.00778838,\n",
       "        -0.3666105 ,  0.33776654],\n",
       "       [-0.3728155 ,  0.19055887, -0.10349861, ..., -0.87750852,\n",
       "         0.44574836,  0.35144756]])"
      ]
     },
     "execution_count": 70,
     "metadata": {},
     "output_type": "execute_result"
    }
   ],
   "source": [
    "npzfile['inputs']"
   ]
  },
  {
   "cell_type": "code",
   "execution_count": 75,
   "metadata": {},
   "outputs": [
    {
     "data": {
      "text/plain": [
       "<55334x55334 sparse matrix of type '<class 'numpy.int64'>'\n",
       "\twith 1615610 stored elements in Compressed Sparse Row format>"
      ]
     },
     "execution_count": 75,
     "metadata": {},
     "output_type": "execute_result"
    }
   ],
   "source": [
    "npzfile['adj_matrix'].item()"
   ]
  },
  {
   "cell_type": "code",
   "execution_count": 76,
   "metadata": {},
   "outputs": [],
   "source": [
    "class NewEmbeddingDataSet(EmbeddingDataSet):\n",
    "    \"\"\"\n",
    "    Attributes:\n",
    "        name (str): name of dataset\n",
    "        data_dir (str): path to dataset folder\n",
    "        train_dir (str): path to training data file\n",
    "        test_dir (str): path to test data file\n",
    "        input_dim (int): number of data features per node\n",
    "        is_labelled (Boolean): whether underlying class labels are present\n",
    "        all_data (list[GraphDataBlock]): data inputs packaged into blocks\n",
    "        all_indices (np.array): input sequence when packaging data into blocks\n",
    "\n",
    "        inputs (scipy csr matrix): data feature matrix of size n x f\n",
    "        labels (np.array): data class label matrix of size n x 1\n",
    "        adj_matrix (scipy csr matrix): adjacency matrix of size n x n\n",
    "    \"\"\"\n",
    "\n",
    "    train_dir = {'cora_test': 'cora_test.npz',\n",
    "                 'cora_third_test': 'cora_test.npz',\n",
    "                 'pubmed_test': 'pubmed_test.npz',\n",
    "                 'citeseer_test': 'citeseer_test.npz',\n",
    "                 'reddit_full': 'reddit_full.npz',\n",
    "                 'reddit_test': 'reddit_test.npz',\n",
    "                 'cora_ml': 'cora_ml.npz',\n",
    "                 'ms_academic': 'ms_academic.npz'}\n",
    "\n",
    "    test_dir = train_dir\n",
    "\n",
    "    def __init__(self, name, data_dir, train=True):\n",
    "        self.name = name\n",
    "        self.data_dir = data_dir\n",
    "        self.train_dir = NewEmbeddingDataSet.train_dir[name]\n",
    "        self.test_dir = NewEmbeddingDataSet.test_dir[name]\n",
    "        self.is_labelled = False\n",
    "\n",
    "        self.all_data = []\n",
    "\n",
    "        # Extract data from file contents\n",
    "        data_root = os.path.join(self.data_dir, self.name)\n",
    "        if train:\n",
    "            fname = os.path.join(data_root, self.train_dir)\n",
    "        else:\n",
    "            assert self.test_dir is not None\n",
    "            fname = os.path.join(data_root, self.test_dir)\n",
    "        npzfile = np.load(fname)\n",
    "\n",
    "        self.inputs = npzfile['inputs']\n",
    "        self.adj_matrix = npzfile['adj_matrix'].item()\n",
    "        self.is_labelled = 'labels' in npzfile.files\n",
    "        if self.is_labelled:\n",
    "            self.labels = npzfile['labels']\n",
    "\n",
    "        self.input_dim = self.inputs.shape[1]\n",
    "\n",
    "        self.all_indices = np.arange(0, self.inputs.shape[0])\n",
    "\n",
    "        # Convert adj to csr matrix\n",
    "        self.adj_matrix = sp.csr_matrix(self.adj_matrix)"
   ]
  },
  {
   "cell_type": "code",
   "execution_count": 78,
   "metadata": {},
   "outputs": [
    {
     "ename": "IndexError",
     "evalue": "tuple index out of range",
     "output_type": "error",
     "traceback": [
      "\u001b[0;31m---------------------------------------------------------------------------\u001b[0m",
      "\u001b[0;31mIndexError\u001b[0m                                Traceback (most recent call last)",
      "\u001b[0;32m<ipython-input-78-c3e383b4b591>\u001b[0m in \u001b[0;36m<module>\u001b[0;34m()\u001b[0m\n\u001b[0;32m----> 1\u001b[0;31m \u001b[0mdataset\u001b[0m \u001b[0;34m=\u001b[0m \u001b[0mNewEmbeddingDataSet\u001b[0m\u001b[0;34m(\u001b[0m\u001b[0;34m'cora_test'\u001b[0m\u001b[0;34m,\u001b[0m \u001b[0minput_dir\u001b[0m\u001b[0;34m,\u001b[0m \u001b[0mtrain\u001b[0m\u001b[0;34m=\u001b[0m\u001b[0;32mTrue\u001b[0m\u001b[0;34m)\u001b[0m\u001b[0;34m\u001b[0m\u001b[0;34m\u001b[0m\u001b[0m\n\u001b[0m\u001b[1;32m      2\u001b[0m \u001b[0mdataset\u001b[0m\u001b[0;34m.\u001b[0m\u001b[0mcreate_all_data\u001b[0m\u001b[0;34m(\u001b[0m\u001b[0mn_batches\u001b[0m\u001b[0;34m=\u001b[0m\u001b[0;36m1\u001b[0m\u001b[0;34m,\u001b[0m \u001b[0mshuffle\u001b[0m\u001b[0;34m=\u001b[0m\u001b[0;32mFalse\u001b[0m\u001b[0;34m)\u001b[0m\u001b[0;34m\u001b[0m\u001b[0;34m\u001b[0m\u001b[0m\n\u001b[1;32m      3\u001b[0m \u001b[0mdataset\u001b[0m\u001b[0;34m.\u001b[0m\u001b[0msummarise\u001b[0m\u001b[0;34m(\u001b[0m\u001b[0;34m)\u001b[0m\u001b[0;34m\u001b[0m\u001b[0;34m\u001b[0m\u001b[0m\n",
      "\u001b[0;32m<ipython-input-76-ec151f95ce45>\u001b[0m in \u001b[0;36m__init__\u001b[0;34m(self, name, data_dir, train)\u001b[0m\n\u001b[1;32m     51\u001b[0m             \u001b[0mself\u001b[0m\u001b[0;34m.\u001b[0m\u001b[0mlabels\u001b[0m \u001b[0;34m=\u001b[0m \u001b[0mnpzfile\u001b[0m\u001b[0;34m[\u001b[0m\u001b[0;34m'labels'\u001b[0m\u001b[0;34m]\u001b[0m\u001b[0;34m\u001b[0m\u001b[0;34m\u001b[0m\u001b[0m\n\u001b[1;32m     52\u001b[0m \u001b[0;34m\u001b[0m\u001b[0m\n\u001b[0;32m---> 53\u001b[0;31m         \u001b[0mself\u001b[0m\u001b[0;34m.\u001b[0m\u001b[0minput_dim\u001b[0m \u001b[0;34m=\u001b[0m \u001b[0mself\u001b[0m\u001b[0;34m.\u001b[0m\u001b[0minputs\u001b[0m\u001b[0;34m.\u001b[0m\u001b[0mshape\u001b[0m\u001b[0;34m[\u001b[0m\u001b[0;36m1\u001b[0m\u001b[0;34m]\u001b[0m\u001b[0;34m\u001b[0m\u001b[0;34m\u001b[0m\u001b[0m\n\u001b[0m\u001b[1;32m     54\u001b[0m \u001b[0;34m\u001b[0m\u001b[0m\n\u001b[1;32m     55\u001b[0m         \u001b[0mself\u001b[0m\u001b[0;34m.\u001b[0m\u001b[0mall_indices\u001b[0m \u001b[0;34m=\u001b[0m \u001b[0mnp\u001b[0m\u001b[0;34m.\u001b[0m\u001b[0marange\u001b[0m\u001b[0;34m(\u001b[0m\u001b[0;36m0\u001b[0m\u001b[0;34m,\u001b[0m \u001b[0mself\u001b[0m\u001b[0;34m.\u001b[0m\u001b[0minputs\u001b[0m\u001b[0;34m.\u001b[0m\u001b[0mshape\u001b[0m\u001b[0;34m[\u001b[0m\u001b[0;36m0\u001b[0m\u001b[0;34m]\u001b[0m\u001b[0;34m)\u001b[0m\u001b[0;34m\u001b[0m\u001b[0;34m\u001b[0m\u001b[0m\n",
      "\u001b[0;31mIndexError\u001b[0m: tuple index out of range"
     ]
    }
   ],
   "source": [
    "dataset = NewEmbeddingDataSet('cora_test', input_dir, train=True)\n",
    "dataset.create_all_data(n_batches=1, shuffle=False)\n",
    "dataset.summarise()"
   ]
  },
  {
   "cell_type": "code",
   "execution_count": 79,
   "metadata": {},
   "outputs": [
    {
     "ename": "ValueError",
     "evalue": "can only convert an array of size 1 to a Python scalar",
     "output_type": "error",
     "traceback": [
      "\u001b[0;31m---------------------------------------------------------------------------\u001b[0m",
      "\u001b[0;31mValueError\u001b[0m                                Traceback (most recent call last)",
      "\u001b[0;32m<ipython-input-79-8b32dbbdb09f>\u001b[0m in \u001b[0;36m<module>\u001b[0;34m()\u001b[0m\n\u001b[0;32m----> 1\u001b[0;31m \u001b[0mdataset\u001b[0m\u001b[0;34m.\u001b[0m\u001b[0minputs\u001b[0m\u001b[0;34m.\u001b[0m\u001b[0mitem\u001b[0m\u001b[0;34m(\u001b[0m\u001b[0;34m)\u001b[0m\u001b[0;34m\u001b[0m\u001b[0;34m\u001b[0m\u001b[0m\n\u001b[0m",
      "\u001b[0;31mValueError\u001b[0m: can only convert an array of size 1 to a Python scalar"
     ]
    }
   ],
   "source": [
    "dataset.inputs.item()"
   ]
  },
  {
   "cell_type": "code",
   "execution_count": null,
   "metadata": {},
   "outputs": [],
   "source": []
  }
 ],
 "metadata": {
  "kernelspec": {
   "display_name": "Python (py36)",
   "language": "python",
   "name": "py36"
  },
  "language_info": {
   "codemirror_mode": {
    "name": "ipython",
    "version": 3
   },
   "file_extension": ".py",
   "mimetype": "text/x-python",
   "name": "python",
   "nbconvert_exporter": "python",
   "pygments_lexer": "ipython3",
   "version": "3.6.7"
  }
 },
 "nbformat": 4,
 "nbformat_minor": 2
}
