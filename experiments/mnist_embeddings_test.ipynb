{
 "cells": [
  {
   "cell_type": "code",
   "execution_count": 1,
   "metadata": {},
   "outputs": [
    {
     "data": {
      "text/plain": [
       "'/home/leowyaoyang/fyp-graph-clustering'"
      ]
     },
     "execution_count": 1,
     "metadata": {},
     "output_type": "execute_result"
    }
   ],
   "source": [
    "import os\n",
    "os.chdir('..')\n",
    "os.getcwd()"
   ]
  },
  {
   "cell_type": "code",
   "execution_count": 2,
   "metadata": {},
   "outputs": [],
   "source": [
    "%matplotlib inline\n",
    "import matplotlib.pyplot as plt\n",
    "from matplotlib.offsetbox import OffsetImage, AnnotationBbox\n",
    "\n",
    "import pickle \n",
    "import numpy as np\n",
    "import pandas as pd\n",
    "import torch\n",
    "import os\n",
    "from timeit import default_timer as timer"
   ]
  },
  {
   "cell_type": "code",
   "execution_count": 3,
   "metadata": {},
   "outputs": [],
   "source": [
    "from core.GraphConvNet2 import GraphConvNet2\n",
    "from core.DataEmbeddingGraph import DataEmbeddingGraph"
   ]
  },
  {
   "cell_type": "code",
   "execution_count": 4,
   "metadata": {},
   "outputs": [
    {
     "name": "stdout",
     "output_type": "stream",
     "text": [
      "cuda available\n"
     ]
    }
   ],
   "source": [
    "if torch.cuda.is_available():\n",
    "    print('cuda available')\n",
    "    device = 'cuda'\n",
    "else:\n",
    "    print('cuda not available')\n",
    "    device = 'cpu'"
   ]
  },
  {
   "cell_type": "code",
   "execution_count": 11,
   "metadata": {},
   "outputs": [],
   "source": [
    "parent_dir = os.path.abspath('..')\n",
    "test_file = '/data/mnist_embeddings/usps_embeddings_test.pkl'\n",
    "with open(parent_dir+test_file, 'rb') as f:\n",
    "    [inputs, labels, X_emb] = pickle.load(f)"
   ]
  },
  {
   "cell_type": "code",
   "execution_count": 12,
   "metadata": {},
   "outputs": [
    {
     "name": "stdout",
     "output_type": "stream",
     "text": [
      "(1860, 64)\n",
      "1860\n",
      "(1860, 2)\n"
     ]
    }
   ],
   "source": [
    "print(inputs.shape)\n",
    "print(len(labels))\n",
    "print(X_emb.shape)"
   ]
  },
  {
   "cell_type": "code",
   "execution_count": 13,
   "metadata": {},
   "outputs": [],
   "source": [
    "G = DataEmbeddingGraph(inputs, [])"
   ]
  },
  {
   "cell_type": "code",
   "execution_count": 8,
   "metadata": {},
   "outputs": [],
   "source": [
    "net_parameters = {}\n",
    "net_parameters['n_components'] = 2\n",
    "net_parameters['D'] = 64 # input dimension\n",
    "net_parameters['H'] = 50 # number of hidden units\n",
    "net_parameters['L'] = 10 # number of hidden layers\n",
    "net_parameters['n_channels'] = 1\n",
    "net_parameters['n_units_1'] = net_parameters['n_units_2'] = net_parameters['H']"
   ]
  },
  {
   "cell_type": "code",
   "execution_count": 9,
   "metadata": {},
   "outputs": [],
   "source": [
    "# Graph net\n",
    "net = GraphConvNet2(net_parameters)\n",
    "if torch.cuda.is_available(): net.cuda()\n",
    "root = 'results/mnist_embeddings_preprocessed_tsne1/'\n",
    "filename = root + 'graph_net5.pkl'\n",
    "checkpoint = torch.load(filename, map_location=device)\n",
    "net.load_state_dict(checkpoint['state_dict'])"
   ]
  },
  {
   "cell_type": "code",
   "execution_count": 14,
   "metadata": {},
   "outputs": [],
   "source": [
    "# Net\n",
    "if torch.cuda.is_available():   \n",
    "    y_pred = net.forward(G).cpu().detach().numpy()\n",
    "else:    \n",
    "    y_pred = net.forward(G).detach().numpy()"
   ]
  },
  {
   "cell_type": "code",
   "execution_count": 16,
   "metadata": {},
   "outputs": [],
   "source": [
    "from util.plot_bokeh_embedding import plot_embedding"
   ]
  },
  {
   "cell_type": "code",
   "execution_count": 21,
   "metadata": {},
   "outputs": [],
   "source": [
    "target_names = [str(i) for i in range(10)]\n",
    "named_labels = [target_names[l] for l in labels]"
   ]
  },
  {
   "cell_type": "code",
   "execution_count": 23,
   "metadata": {},
   "outputs": [
    {
     "data": {
      "text/html": [
       "\n",
       "    <div class=\"bk-root\">\n",
       "        <a href=\"https://bokeh.pydata.org\" target=\"_blank\" class=\"bk-logo bk-logo-small bk-logo-notebook\"></a>\n",
       "        <span id=\"75914298-7140-4c00-9c1b-422158fe4bbd\">Loading BokehJS ...</span>\n",
       "    </div>"
      ]
     },
     "metadata": {},
     "output_type": "display_data"
    },
    {
     "data": {
      "application/javascript": [
       "\n",
       "(function(root) {\n",
       "  function now() {\n",
       "    return new Date();\n",
       "  }\n",
       "\n",
       "  var force = true;\n",
       "\n",
       "  if (typeof (root._bokeh_onload_callbacks) === \"undefined\" || force === true) {\n",
       "    root._bokeh_onload_callbacks = [];\n",
       "    root._bokeh_is_loading = undefined;\n",
       "  }\n",
       "\n",
       "  var JS_MIME_TYPE = 'application/javascript';\n",
       "  var HTML_MIME_TYPE = 'text/html';\n",
       "  var EXEC_MIME_TYPE = 'application/vnd.bokehjs_exec.v0+json';\n",
       "  var CLASS_NAME = 'output_bokeh rendered_html';\n",
       "\n",
       "  /**\n",
       "   * Render data to the DOM node\n",
       "   */\n",
       "  function render(props, node) {\n",
       "    var script = document.createElement(\"script\");\n",
       "    node.appendChild(script);\n",
       "  }\n",
       "\n",
       "  /**\n",
       "   * Handle when an output is cleared or removed\n",
       "   */\n",
       "  function handleClearOutput(event, handle) {\n",
       "    var cell = handle.cell;\n",
       "\n",
       "    var id = cell.output_area._bokeh_element_id;\n",
       "    var server_id = cell.output_area._bokeh_server_id;\n",
       "    // Clean up Bokeh references\n",
       "    if (id != null && id in Bokeh.index) {\n",
       "      Bokeh.index[id].model.document.clear();\n",
       "      delete Bokeh.index[id];\n",
       "    }\n",
       "\n",
       "    if (server_id !== undefined) {\n",
       "      // Clean up Bokeh references\n",
       "      var cmd = \"from bokeh.io.state import curstate; print(curstate().uuid_to_server['\" + server_id + \"'].get_sessions()[0].document.roots[0]._id)\";\n",
       "      cell.notebook.kernel.execute(cmd, {\n",
       "        iopub: {\n",
       "          output: function(msg) {\n",
       "            var id = msg.content.text.trim();\n",
       "            if (id in Bokeh.index) {\n",
       "              Bokeh.index[id].model.document.clear();\n",
       "              delete Bokeh.index[id];\n",
       "            }\n",
       "          }\n",
       "        }\n",
       "      });\n",
       "      // Destroy server and session\n",
       "      var cmd = \"import bokeh.io.notebook as ion; ion.destroy_server('\" + server_id + \"')\";\n",
       "      cell.notebook.kernel.execute(cmd);\n",
       "    }\n",
       "  }\n",
       "\n",
       "  /**\n",
       "   * Handle when a new output is added\n",
       "   */\n",
       "  function handleAddOutput(event, handle) {\n",
       "    var output_area = handle.output_area;\n",
       "    var output = handle.output;\n",
       "\n",
       "    // limit handleAddOutput to display_data with EXEC_MIME_TYPE content only\n",
       "    if ((output.output_type != \"display_data\") || (!output.data.hasOwnProperty(EXEC_MIME_TYPE))) {\n",
       "      return\n",
       "    }\n",
       "\n",
       "    var toinsert = output_area.element.find(\".\" + CLASS_NAME.split(' ')[0]);\n",
       "\n",
       "    if (output.metadata[EXEC_MIME_TYPE][\"id\"] !== undefined) {\n",
       "      toinsert[toinsert.length - 1].firstChild.textContent = output.data[JS_MIME_TYPE];\n",
       "      // store reference to embed id on output_area\n",
       "      output_area._bokeh_element_id = output.metadata[EXEC_MIME_TYPE][\"id\"];\n",
       "    }\n",
       "    if (output.metadata[EXEC_MIME_TYPE][\"server_id\"] !== undefined) {\n",
       "      var bk_div = document.createElement(\"div\");\n",
       "      bk_div.innerHTML = output.data[HTML_MIME_TYPE];\n",
       "      var script_attrs = bk_div.children[0].attributes;\n",
       "      for (var i = 0; i < script_attrs.length; i++) {\n",
       "        toinsert[toinsert.length - 1].firstChild.setAttribute(script_attrs[i].name, script_attrs[i].value);\n",
       "      }\n",
       "      // store reference to server id on output_area\n",
       "      output_area._bokeh_server_id = output.metadata[EXEC_MIME_TYPE][\"server_id\"];\n",
       "    }\n",
       "  }\n",
       "\n",
       "  function register_renderer(events, OutputArea) {\n",
       "\n",
       "    function append_mime(data, metadata, element) {\n",
       "      // create a DOM node to render to\n",
       "      var toinsert = this.create_output_subarea(\n",
       "        metadata,\n",
       "        CLASS_NAME,\n",
       "        EXEC_MIME_TYPE\n",
       "      );\n",
       "      this.keyboard_manager.register_events(toinsert);\n",
       "      // Render to node\n",
       "      var props = {data: data, metadata: metadata[EXEC_MIME_TYPE]};\n",
       "      render(props, toinsert[toinsert.length - 1]);\n",
       "      element.append(toinsert);\n",
       "      return toinsert\n",
       "    }\n",
       "\n",
       "    /* Handle when an output is cleared or removed */\n",
       "    events.on('clear_output.CodeCell', handleClearOutput);\n",
       "    events.on('delete.Cell', handleClearOutput);\n",
       "\n",
       "    /* Handle when a new output is added */\n",
       "    events.on('output_added.OutputArea', handleAddOutput);\n",
       "\n",
       "    /**\n",
       "     * Register the mime type and append_mime function with output_area\n",
       "     */\n",
       "    OutputArea.prototype.register_mime_type(EXEC_MIME_TYPE, append_mime, {\n",
       "      /* Is output safe? */\n",
       "      safe: true,\n",
       "      /* Index of renderer in `output_area.display_order` */\n",
       "      index: 0\n",
       "    });\n",
       "  }\n",
       "\n",
       "  // register the mime type if in Jupyter Notebook environment and previously unregistered\n",
       "  if (root.Jupyter !== undefined) {\n",
       "    var events = require('base/js/events');\n",
       "    var OutputArea = require('notebook/js/outputarea').OutputArea;\n",
       "\n",
       "    if (OutputArea.prototype.mime_types().indexOf(EXEC_MIME_TYPE) == -1) {\n",
       "      register_renderer(events, OutputArea);\n",
       "    }\n",
       "  }\n",
       "\n",
       "  \n",
       "  if (typeof (root._bokeh_timeout) === \"undefined\" || force === true) {\n",
       "    root._bokeh_timeout = Date.now() + 5000;\n",
       "    root._bokeh_failed_load = false;\n",
       "  }\n",
       "\n",
       "  var NB_LOAD_WARNING = {'data': {'text/html':\n",
       "     \"<div style='background-color: #fdd'>\\n\"+\n",
       "     \"<p>\\n\"+\n",
       "     \"BokehJS does not appear to have successfully loaded. If loading BokehJS from CDN, this \\n\"+\n",
       "     \"may be due to a slow or bad network connection. Possible fixes:\\n\"+\n",
       "     \"</p>\\n\"+\n",
       "     \"<ul>\\n\"+\n",
       "     \"<li>re-rerun `output_notebook()` to attempt to load from CDN again, or</li>\\n\"+\n",
       "     \"<li>use INLINE resources instead, as so:</li>\\n\"+\n",
       "     \"</ul>\\n\"+\n",
       "     \"<code>\\n\"+\n",
       "     \"from bokeh.resources import INLINE\\n\"+\n",
       "     \"output_notebook(resources=INLINE)\\n\"+\n",
       "     \"</code>\\n\"+\n",
       "     \"</div>\"}};\n",
       "\n",
       "  function display_loaded() {\n",
       "    var el = document.getElementById(\"75914298-7140-4c00-9c1b-422158fe4bbd\");\n",
       "    if (el != null) {\n",
       "      el.textContent = \"BokehJS is loading...\";\n",
       "    }\n",
       "    if (root.Bokeh !== undefined) {\n",
       "      if (el != null) {\n",
       "        el.textContent = \"BokehJS \" + root.Bokeh.version + \" successfully loaded.\";\n",
       "      }\n",
       "    } else if (Date.now() < root._bokeh_timeout) {\n",
       "      setTimeout(display_loaded, 100)\n",
       "    }\n",
       "  }\n",
       "\n",
       "\n",
       "  function run_callbacks() {\n",
       "    try {\n",
       "      root._bokeh_onload_callbacks.forEach(function(callback) { callback() });\n",
       "    }\n",
       "    finally {\n",
       "      delete root._bokeh_onload_callbacks\n",
       "    }\n",
       "    console.info(\"Bokeh: all callbacks have finished\");\n",
       "  }\n",
       "\n",
       "  function load_libs(js_urls, callback) {\n",
       "    root._bokeh_onload_callbacks.push(callback);\n",
       "    if (root._bokeh_is_loading > 0) {\n",
       "      console.log(\"Bokeh: BokehJS is being loaded, scheduling callback at\", now());\n",
       "      return null;\n",
       "    }\n",
       "    if (js_urls == null || js_urls.length === 0) {\n",
       "      run_callbacks();\n",
       "      return null;\n",
       "    }\n",
       "    console.log(\"Bokeh: BokehJS not loaded, scheduling load and callback at\", now());\n",
       "    root._bokeh_is_loading = js_urls.length;\n",
       "    for (var i = 0; i < js_urls.length; i++) {\n",
       "      var url = js_urls[i];\n",
       "      var s = document.createElement('script');\n",
       "      s.src = url;\n",
       "      s.async = false;\n",
       "      s.onreadystatechange = s.onload = function() {\n",
       "        root._bokeh_is_loading--;\n",
       "        if (root._bokeh_is_loading === 0) {\n",
       "          console.log(\"Bokeh: all BokehJS libraries loaded\");\n",
       "          run_callbacks()\n",
       "        }\n",
       "      };\n",
       "      s.onerror = function() {\n",
       "        console.warn(\"failed to load library \" + url);\n",
       "      };\n",
       "      console.log(\"Bokeh: injecting script tag for BokehJS library: \", url);\n",
       "      document.getElementsByTagName(\"head\")[0].appendChild(s);\n",
       "    }\n",
       "  };var element = document.getElementById(\"75914298-7140-4c00-9c1b-422158fe4bbd\");\n",
       "  if (element == null) {\n",
       "    console.log(\"Bokeh: ERROR: autoload.js configured with elementid '75914298-7140-4c00-9c1b-422158fe4bbd' but no matching script tag was found. \")\n",
       "    return false;\n",
       "  }\n",
       "\n",
       "  var js_urls = [\"https://cdn.pydata.org/bokeh/release/bokeh-0.13.0.min.js\", \"https://cdn.pydata.org/bokeh/release/bokeh-widgets-0.13.0.min.js\", \"https://cdn.pydata.org/bokeh/release/bokeh-tables-0.13.0.min.js\", \"https://cdn.pydata.org/bokeh/release/bokeh-gl-0.13.0.min.js\"];\n",
       "\n",
       "  var inline_js = [\n",
       "    function(Bokeh) {\n",
       "      Bokeh.set_log_level(\"info\");\n",
       "    },\n",
       "    \n",
       "    function(Bokeh) {\n",
       "      \n",
       "    },\n",
       "    function(Bokeh) {\n",
       "      console.log(\"Bokeh: injecting CSS: https://cdn.pydata.org/bokeh/release/bokeh-0.13.0.min.css\");\n",
       "      Bokeh.embed.inject_css(\"https://cdn.pydata.org/bokeh/release/bokeh-0.13.0.min.css\");\n",
       "      console.log(\"Bokeh: injecting CSS: https://cdn.pydata.org/bokeh/release/bokeh-widgets-0.13.0.min.css\");\n",
       "      Bokeh.embed.inject_css(\"https://cdn.pydata.org/bokeh/release/bokeh-widgets-0.13.0.min.css\");\n",
       "      console.log(\"Bokeh: injecting CSS: https://cdn.pydata.org/bokeh/release/bokeh-tables-0.13.0.min.css\");\n",
       "      Bokeh.embed.inject_css(\"https://cdn.pydata.org/bokeh/release/bokeh-tables-0.13.0.min.css\");\n",
       "    }\n",
       "  ];\n",
       "\n",
       "  function run_inline_js() {\n",
       "    \n",
       "    if ((root.Bokeh !== undefined) || (force === true)) {\n",
       "      for (var i = 0; i < inline_js.length; i++) {\n",
       "        inline_js[i].call(root, root.Bokeh);\n",
       "      }if (force === true) {\n",
       "        display_loaded();\n",
       "      }} else if (Date.now() < root._bokeh_timeout) {\n",
       "      setTimeout(run_inline_js, 100);\n",
       "    } else if (!root._bokeh_failed_load) {\n",
       "      console.log(\"Bokeh: BokehJS failed to load within specified timeout.\");\n",
       "      root._bokeh_failed_load = true;\n",
       "    } else if (force !== true) {\n",
       "      var cell = $(document.getElementById(\"75914298-7140-4c00-9c1b-422158fe4bbd\")).parents('.cell').data().cell;\n",
       "      cell.output_area.append_execute_result(NB_LOAD_WARNING)\n",
       "    }\n",
       "\n",
       "  }\n",
       "\n",
       "  if (root._bokeh_is_loading === 0) {\n",
       "    console.log(\"Bokeh: BokehJS loaded, going straight to plotting\");\n",
       "    run_inline_js();\n",
       "  } else {\n",
       "    load_libs(js_urls, function() {\n",
       "      console.log(\"Bokeh: BokehJS plotting callback run at\", now());\n",
       "      run_inline_js();\n",
       "    });\n",
       "  }\n",
       "}(window));"
      ],
      "application/vnd.bokehjs_load.v0+json": "\n(function(root) {\n  function now() {\n    return new Date();\n  }\n\n  var force = true;\n\n  if (typeof (root._bokeh_onload_callbacks) === \"undefined\" || force === true) {\n    root._bokeh_onload_callbacks = [];\n    root._bokeh_is_loading = undefined;\n  }\n\n  \n\n  \n  if (typeof (root._bokeh_timeout) === \"undefined\" || force === true) {\n    root._bokeh_timeout = Date.now() + 5000;\n    root._bokeh_failed_load = false;\n  }\n\n  var NB_LOAD_WARNING = {'data': {'text/html':\n     \"<div style='background-color: #fdd'>\\n\"+\n     \"<p>\\n\"+\n     \"BokehJS does not appear to have successfully loaded. If loading BokehJS from CDN, this \\n\"+\n     \"may be due to a slow or bad network connection. Possible fixes:\\n\"+\n     \"</p>\\n\"+\n     \"<ul>\\n\"+\n     \"<li>re-rerun `output_notebook()` to attempt to load from CDN again, or</li>\\n\"+\n     \"<li>use INLINE resources instead, as so:</li>\\n\"+\n     \"</ul>\\n\"+\n     \"<code>\\n\"+\n     \"from bokeh.resources import INLINE\\n\"+\n     \"output_notebook(resources=INLINE)\\n\"+\n     \"</code>\\n\"+\n     \"</div>\"}};\n\n  function display_loaded() {\n    var el = document.getElementById(\"75914298-7140-4c00-9c1b-422158fe4bbd\");\n    if (el != null) {\n      el.textContent = \"BokehJS is loading...\";\n    }\n    if (root.Bokeh !== undefined) {\n      if (el != null) {\n        el.textContent = \"BokehJS \" + root.Bokeh.version + \" successfully loaded.\";\n      }\n    } else if (Date.now() < root._bokeh_timeout) {\n      setTimeout(display_loaded, 100)\n    }\n  }\n\n\n  function run_callbacks() {\n    try {\n      root._bokeh_onload_callbacks.forEach(function(callback) { callback() });\n    }\n    finally {\n      delete root._bokeh_onload_callbacks\n    }\n    console.info(\"Bokeh: all callbacks have finished\");\n  }\n\n  function load_libs(js_urls, callback) {\n    root._bokeh_onload_callbacks.push(callback);\n    if (root._bokeh_is_loading > 0) {\n      console.log(\"Bokeh: BokehJS is being loaded, scheduling callback at\", now());\n      return null;\n    }\n    if (js_urls == null || js_urls.length === 0) {\n      run_callbacks();\n      return null;\n    }\n    console.log(\"Bokeh: BokehJS not loaded, scheduling load and callback at\", now());\n    root._bokeh_is_loading = js_urls.length;\n    for (var i = 0; i < js_urls.length; i++) {\n      var url = js_urls[i];\n      var s = document.createElement('script');\n      s.src = url;\n      s.async = false;\n      s.onreadystatechange = s.onload = function() {\n        root._bokeh_is_loading--;\n        if (root._bokeh_is_loading === 0) {\n          console.log(\"Bokeh: all BokehJS libraries loaded\");\n          run_callbacks()\n        }\n      };\n      s.onerror = function() {\n        console.warn(\"failed to load library \" + url);\n      };\n      console.log(\"Bokeh: injecting script tag for BokehJS library: \", url);\n      document.getElementsByTagName(\"head\")[0].appendChild(s);\n    }\n  };var element = document.getElementById(\"75914298-7140-4c00-9c1b-422158fe4bbd\");\n  if (element == null) {\n    console.log(\"Bokeh: ERROR: autoload.js configured with elementid '75914298-7140-4c00-9c1b-422158fe4bbd' but no matching script tag was found. \")\n    return false;\n  }\n\n  var js_urls = [\"https://cdn.pydata.org/bokeh/release/bokeh-0.13.0.min.js\", \"https://cdn.pydata.org/bokeh/release/bokeh-widgets-0.13.0.min.js\", \"https://cdn.pydata.org/bokeh/release/bokeh-tables-0.13.0.min.js\", \"https://cdn.pydata.org/bokeh/release/bokeh-gl-0.13.0.min.js\"];\n\n  var inline_js = [\n    function(Bokeh) {\n      Bokeh.set_log_level(\"info\");\n    },\n    \n    function(Bokeh) {\n      \n    },\n    function(Bokeh) {\n      console.log(\"Bokeh: injecting CSS: https://cdn.pydata.org/bokeh/release/bokeh-0.13.0.min.css\");\n      Bokeh.embed.inject_css(\"https://cdn.pydata.org/bokeh/release/bokeh-0.13.0.min.css\");\n      console.log(\"Bokeh: injecting CSS: https://cdn.pydata.org/bokeh/release/bokeh-widgets-0.13.0.min.css\");\n      Bokeh.embed.inject_css(\"https://cdn.pydata.org/bokeh/release/bokeh-widgets-0.13.0.min.css\");\n      console.log(\"Bokeh: injecting CSS: https://cdn.pydata.org/bokeh/release/bokeh-tables-0.13.0.min.css\");\n      Bokeh.embed.inject_css(\"https://cdn.pydata.org/bokeh/release/bokeh-tables-0.13.0.min.css\");\n    }\n  ];\n\n  function run_inline_js() {\n    \n    if ((root.Bokeh !== undefined) || (force === true)) {\n      for (var i = 0; i < inline_js.length; i++) {\n        inline_js[i].call(root, root.Bokeh);\n      }if (force === true) {\n        display_loaded();\n      }} else if (Date.now() < root._bokeh_timeout) {\n      setTimeout(run_inline_js, 100);\n    } else if (!root._bokeh_failed_load) {\n      console.log(\"Bokeh: BokehJS failed to load within specified timeout.\");\n      root._bokeh_failed_load = true;\n    } else if (force !== true) {\n      var cell = $(document.getElementById(\"75914298-7140-4c00-9c1b-422158fe4bbd\")).parents('.cell').data().cell;\n      cell.output_area.append_execute_result(NB_LOAD_WARNING)\n    }\n\n  }\n\n  if (root._bokeh_is_loading === 0) {\n    console.log(\"Bokeh: BokehJS loaded, going straight to plotting\");\n    run_inline_js();\n  } else {\n    load_libs(js_urls, function() {\n      console.log(\"Bokeh: BokehJS plotting callback run at\", now());\n      run_inline_js();\n    });\n  }\n}(window));"
     },
     "metadata": {},
     "output_type": "display_data"
    }
   ],
   "source": [
    "from bokeh.io import output_notebook\n",
    "output_notebook()"
   ]
  },
  {
   "cell_type": "code",
   "execution_count": 24,
   "metadata": {},
   "outputs": [
    {
     "data": {
      "text/html": [
       "\n",
       "\n",
       "\n",
       "\n",
       "\n",
       "\n",
       "  <div class=\"bk-root\" id=\"a715188f-1f1e-4b7f-97a2-4c170d5e1308\"></div>\n"
      ]
     },
     "metadata": {},
     "output_type": "display_data"
    },
    {
     "data": {
      "application/javascript": [
       "(function(root) {\n",
       "  function embed_document(root) {\n",
       "    \n",
       "  var docs_json = {\"cbad6000-b9cd-4d1a-ad7c-8fa945bab688\":{\"roots\":{\"references\":[{\"attributes\":{},\"id\":\"ae370042-a265-4cbe-a179-b18d381ecc9a\",\"type\":\"LinearScale\"},{\"attributes\":{},\"id\":\"56705fcb-0122-40d2-b371-fa8a5541f9f2\",\"type\":\"LinearScale\"},{\"attributes\":{\"callback\":null},\"id\":\"9106112e-55f2-4e01-93d1-70561e8c2fb9\",\"type\":\"DataRange1d\"},{\"attributes\":{\"callback\":null},\"id\":\"010ff536-c0a7-492a-a716-8a6fdfb1310f\",\"type\":\"DataRange1d\"},{\"attributes\":{\"overlay\":{\"id\":\"e45b4018-6ec8-457f-8832-7004370f84e0\",\"type\":\"BoxAnnotation\"}},\"id\":\"af2f6cb7-b54b-4e1a-b4cf-40b66f95b835\",\"type\":\"BoxZoomTool\"},{\"attributes\":{},\"id\":\"cf146381-2ad6-45ae-90f1-b90a87b056ad\",\"type\":\"WheelZoomTool\"},{\"attributes\":{},\"id\":\"8e95eaad-314c-4e22-ba64-6094933b73cc\",\"type\":\"ResetTool\"},{\"attributes\":{\"fill_color\":{\"field\":\"color\"},\"line_color\":{\"field\":\"color\"},\"x\":{\"field\":\"x\"},\"y\":{\"field\":\"y\"}},\"id\":\"6f021a7f-f25d-4b6f-97aa-ce3c802e4990\",\"type\":\"Circle\"},{\"attributes\":{\"callback\":null,\"renderers\":\"auto\"},\"id\":\"2d0f08a7-e0f9-4bba-8045-098c9bd6ad8c\",\"type\":\"HoverTool\"},{\"attributes\":{\"data_source\":{\"id\":\"dd103519-73ca-4b7d-89fa-fe6881593258\",\"type\":\"ColumnDataSource\"},\"glyph\":{\"id\":\"6f021a7f-f25d-4b6f-97aa-ce3c802e4990\",\"type\":\"Circle\"},\"hover_glyph\":null,\"muted_glyph\":null,\"nonselection_glyph\":{\"id\":\"865353a5-3e14-4515-af18-832c64f26a62\",\"type\":\"Circle\"},\"selection_glyph\":null,\"view\":{\"id\":\"7dd37a60-39d3-4759-801c-dac83ea682ac\",\"type\":\"CDSView\"}},\"id\":\"6f9953af-7b7d-4c48-9f60-405eddc4b9f0\",\"type\":\"GlyphRenderer\"},{\"attributes\":{\"items\":[{\"id\":\"ed7c30d9-1e9e-4f7f-8af3-64ebe17ec6b2\",\"type\":\"LegendItem\"}],\"label_text_font_size\":{\"value\":\"7pt\"},\"location\":[0,70],\"plot\":{\"id\":\"fb363510-2c7d-4ada-882d-bc6cc04d7a8a\",\"subtype\":\"Figure\",\"type\":\"Plot\"}},\"id\":\"705292e1-3d6a-4457-9744-06d80166a85b\",\"type\":\"Legend\"},{\"attributes\":{},\"id\":\"7e1ca240-f157-4859-83d0-3e6ce4ed8922\",\"type\":\"Selection\"},{\"attributes\":{},\"id\":\"78bb0679-ff55-40ad-a23e-60a03b0a70f8\",\"type\":\"UnionRenderers\"},{\"attributes\":{\"min_border\":1,\"plot_height\":500,\"plot_width\":700,\"renderers\":[{\"id\":\"e45b4018-6ec8-457f-8832-7004370f84e0\",\"type\":\"BoxAnnotation\"},{\"id\":\"705292e1-3d6a-4457-9744-06d80166a85b\",\"type\":\"Legend\"},{\"id\":\"6f9953af-7b7d-4c48-9f60-405eddc4b9f0\",\"type\":\"GlyphRenderer\"},{\"id\":\"705292e1-3d6a-4457-9744-06d80166a85b\",\"type\":\"Legend\"}],\"right\":[{\"id\":\"705292e1-3d6a-4457-9744-06d80166a85b\",\"type\":\"Legend\"}],\"title\":{\"id\":\"07b97777-80fb-4980-b182-ec75f3da5288\",\"type\":\"Title\"},\"toolbar\":{\"id\":\"58d59bb5-3827-4cd9-9b4d-85cdb231fb06\",\"type\":\"Toolbar\"},\"x_range\":{\"id\":\"9106112e-55f2-4e01-93d1-70561e8c2fb9\",\"type\":\"DataRange1d\"},\"x_scale\":{\"id\":\"56705fcb-0122-40d2-b371-fa8a5541f9f2\",\"type\":\"LinearScale\"},\"y_range\":{\"id\":\"010ff536-c0a7-492a-a716-8a6fdfb1310f\",\"type\":\"DataRange1d\"},\"y_scale\":{\"id\":\"ae370042-a265-4cbe-a179-b18d381ecc9a\",\"type\":\"LinearScale\"}},\"id\":\"fb363510-2c7d-4ada-882d-bc6cc04d7a8a\",\"subtype\":\"Figure\",\"type\":\"Plot\"},{\"attributes\":{},\"id\":\"c978c1a2-5fc9-4e84-902d-571a8daba9e2\",\"type\":\"SaveTool\"},{\"attributes\":{\"active_drag\":\"auto\",\"active_inspect\":\"auto\",\"active_multi\":null,\"active_scroll\":\"auto\",\"active_tap\":\"auto\",\"tools\":[{\"id\":\"b0ba603b-92ff-4888-b732-39419f52ba1c\",\"type\":\"PanTool\"},{\"id\":\"cf146381-2ad6-45ae-90f1-b90a87b056ad\",\"type\":\"WheelZoomTool\"},{\"id\":\"af2f6cb7-b54b-4e1a-b4cf-40b66f95b835\",\"type\":\"BoxZoomTool\"},{\"id\":\"8e95eaad-314c-4e22-ba64-6094933b73cc\",\"type\":\"ResetTool\"},{\"id\":\"2d0f08a7-e0f9-4bba-8045-098c9bd6ad8c\",\"type\":\"HoverTool\"},{\"id\":\"c978c1a2-5fc9-4e84-902d-571a8daba9e2\",\"type\":\"SaveTool\"}]},\"id\":\"58d59bb5-3827-4cd9-9b4d-85cdb231fb06\",\"type\":\"Toolbar\"},{\"attributes\":{\"callback\":null,\"data\":{\"color\":[\"#9467bd\",\"#c5b0d5\",\"#aec7e8\",\"#ffbb78\",\"#1f77b4\",\"#1f77b4\",\"#98df8a\",\"#ffbb78\",\"#aec7e8\",\"#1f77b4\",\"#aec7e8\",\"#c5b0d5\",\"#2ca02c\",\"#1f77b4\",\"#d62728\",\"#ffbb78\",\"#1f77b4\",\"#c5b0d5\",\"#c5b0d5\",\"#c5b0d5\",\"#ff7f0e\",\"#1f77b4\",\"#9467bd\",\"#98df8a\",\"#ffbb78\",\"#98df8a\",\"#d62728\",\"#9467bd\",\"#ff7f0e\",\"#ff9896\",\"#1f77b4\",\"#ff7f0e\",\"#d62728\",\"#ffbb78\",\"#ff7f0e\",\"#2ca02c\",\"#9467bd\",\"#2ca02c\",\"#9467bd\",\"#1f77b4\",\"#aec7e8\",\"#98df8a\",\"#2ca02c\",\"#d62728\",\"#2ca02c\",\"#ff7f0e\",\"#c5b0d5\",\"#d62728\",\"#c5b0d5\",\"#ff7f0e\",\"#1f77b4\",\"#c5b0d5\",\"#ff9896\",\"#ffbb78\",\"#d62728\",\"#2ca02c\",\"#ff7f0e\",\"#c5b0d5\",\"#ffbb78\",\"#ff9896\",\"#ff7f0e\",\"#ff7f0e\",\"#98df8a\",\"#c5b0d5\",\"#d62728\",\"#d62728\",\"#c5b0d5\",\"#1f77b4\",\"#d62728\",\"#9467bd\",\"#aec7e8\",\"#98df8a\",\"#ff9896\",\"#2ca02c\",\"#aec7e8\",\"#ff7f0e\",\"#ffbb78\",\"#1f77b4\",\"#2ca02c\",\"#1f77b4\",\"#2ca02c\",\"#98df8a\",\"#aec7e8\",\"#2ca02c\",\"#1f77b4\",\"#d62728\",\"#d62728\",\"#ff9896\",\"#98df8a\",\"#ff7f0e\",\"#ff7f0e\",\"#ff7f0e\",\"#ff9896\",\"#d62728\",\"#ffbb78\",\"#ff9896\",\"#1f77b4\",\"#2ca02c\",\"#1f77b4\",\"#c5b0d5\",\"#aec7e8\",\"#ff7f0e\",\"#98df8a\",\"#ffbb78\",\"#2ca02c\",\"#1f77b4\",\"#ffbb78\",\"#1f77b4\",\"#1f77b4\",\"#ff7f0e\",\"#9467bd\",\"#c5b0d5\",\"#aec7e8\",\"#2ca02c\",\"#1f77b4\",\"#c5b0d5\",\"#aec7e8\",\"#c5b0d5\",\"#9467bd\",\"#ffbb78\",\"#d62728\",\"#c5b0d5\",\"#ff7f0e\",\"#d62728\",\"#ff9896\",\"#2ca02c\",\"#1f77b4\",\"#98df8a\",\"#1f77b4\",\"#1f77b4\",\"#2ca02c\",\"#aec7e8\",\"#2ca02c\",\"#c5b0d5\",\"#ff7f0e\",\"#1f77b4\",\"#ff7f0e\",\"#aec7e8\",\"#9467bd\",\"#ffbb78\",\"#2ca02c\",\"#ff9896\",\"#c5b0d5\",\"#ff7f0e\",\"#2ca02c\",\"#aec7e8\",\"#ffbb78\",\"#ff9896\",\"#1f77b4\",\"#ffbb78\",\"#ff7f0e\",\"#aec7e8\",\"#1f77b4\",\"#ff7f0e\",\"#ffbb78\",\"#1f77b4\",\"#d62728\",\"#aec7e8\",\"#d62728\",\"#1f77b4\",\"#98df8a\",\"#ff9896\",\"#aec7e8\",\"#c5b0d5\",\"#2ca02c\",\"#1f77b4\",\"#1f77b4\",\"#ff9896\",\"#98df8a\",\"#9467bd\",\"#ffbb78\",\"#2ca02c\",\"#98df8a\",\"#ff9896\",\"#d62728\",\"#98df8a\",\"#ffbb78\",\"#ffbb78\",\"#2ca02c\",\"#ff7f0e\",\"#ff7f0e\",\"#1f77b4\",\"#1f77b4\",\"#2ca02c\",\"#aec7e8\",\"#1f77b4\",\"#ffbb78\",\"#ffbb78\",\"#1f77b4\",\"#ffbb78\",\"#9467bd\",\"#ff9896\",\"#ffbb78\",\"#d62728\",\"#1f77b4\",\"#c5b0d5\",\"#ffbb78\",\"#98df8a\",\"#9467bd\",\"#2ca02c\",\"#98df8a\",\"#98df8a\",\"#ffbb78\",\"#aec7e8\",\"#2ca02c\",\"#98df8a\",\"#1f77b4\",\"#98df8a\",\"#1f77b4\",\"#ff9896\",\"#d62728\",\"#2ca02c\",\"#9467bd\",\"#c5b0d5\",\"#ff9896\",\"#aec7e8\",\"#1f77b4\",\"#1f77b4\",\"#c5b0d5\",\"#98df8a\",\"#9467bd\",\"#c5b0d5\",\"#9467bd\",\"#d62728\",\"#98df8a\",\"#9467bd\",\"#ff7f0e\",\"#1f77b4\",\"#ff7f0e\",\"#ff9896\",\"#aec7e8\",\"#c5b0d5\",\"#c5b0d5\",\"#aec7e8\",\"#1f77b4\",\"#aec7e8\",\"#9467bd\",\"#ffbb78\",\"#ffbb78\",\"#2ca02c\",\"#1f77b4\",\"#ff7f0e\",\"#2ca02c\",\"#98df8a\",\"#9467bd\",\"#9467bd\",\"#1f77b4\",\"#2ca02c\",\"#ff7f0e\",\"#1f77b4\",\"#ff9896\",\"#ff7f0e\",\"#9467bd\",\"#aec7e8\",\"#c5b0d5\",\"#98df8a\",\"#2ca02c\",\"#c5b0d5\",\"#1f77b4\",\"#9467bd\",\"#ffbb78\",\"#ffbb78\",\"#98df8a\",\"#aec7e8\",\"#aec7e8\",\"#1f77b4\",\"#ff9896\",\"#98df8a\",\"#2ca02c\",\"#aec7e8\",\"#c5b0d5\",\"#ffbb78\",\"#aec7e8\",\"#ffbb78\",\"#1f77b4\",\"#ff7f0e\",\"#ffbb78\",\"#aec7e8\",\"#1f77b4\",\"#2ca02c\",\"#ff9896\",\"#c5b0d5\",\"#1f77b4\",\"#aec7e8\",\"#98df8a\",\"#2ca02c\",\"#aec7e8\",\"#1f77b4\",\"#ff9896\",\"#2ca02c\",\"#ff7f0e\",\"#1f77b4\",\"#1f77b4\",\"#aec7e8\",\"#1f77b4\",\"#ff9896\",\"#c5b0d5\",\"#d62728\",\"#1f77b4\",\"#ff9896\",\"#d62728\",\"#98df8a\",\"#ff7f0e\",\"#ff7f0e\",\"#98df8a\",\"#2ca02c\",\"#ffbb78\",\"#aec7e8\",\"#ff7f0e\",\"#d62728\",\"#1f77b4\",\"#ffbb78\",\"#c5b0d5\",\"#98df8a\",\"#2ca02c\",\"#c5b0d5\",\"#ff7f0e\",\"#2ca02c\",\"#1f77b4\",\"#ff9896\",\"#ff9896\",\"#1f77b4\",\"#d62728\",\"#aec7e8\",\"#1f77b4\",\"#1f77b4\",\"#1f77b4\",\"#ff7f0e\",\"#1f77b4\",\"#c5b0d5\",\"#ff7f0e\",\"#1f77b4\",\"#d62728\",\"#ff9896\",\"#2ca02c\",\"#ff9896\",\"#d62728\",\"#ff7f0e\",\"#2ca02c\",\"#ff9896\",\"#1f77b4\",\"#1f77b4\",\"#d62728\",\"#d62728\",\"#c5b0d5\",\"#aec7e8\",\"#9467bd\",\"#ff7f0e\",\"#9467bd\",\"#ff7f0e\",\"#98df8a\",\"#d62728\",\"#c5b0d5\",\"#2ca02c\",\"#ffbb78\",\"#1f77b4\",\"#1f77b4\",\"#ff7f0e\",\"#9467bd\",\"#aec7e8\",\"#d62728\",\"#c5b0d5\",\"#98df8a\",\"#aec7e8\",\"#98df8a\",\"#ff7f0e\",\"#9467bd\",\"#ff7f0e\",\"#d62728\",\"#aec7e8\",\"#ff9896\",\"#1f77b4\",\"#aec7e8\",\"#9467bd\",\"#ff7f0e\",\"#98df8a\",\"#ff7f0e\",\"#1f77b4\",\"#ff9896\",\"#ff7f0e\",\"#ff7f0e\",\"#1f77b4\",\"#98df8a\",\"#98df8a\",\"#ff9896\",\"#aec7e8\",\"#2ca02c\",\"#1f77b4\",\"#ff7f0e\",\"#d62728\",\"#c5b0d5\",\"#ffbb78\",\"#98df8a\",\"#d62728\",\"#ff9896\",\"#1f77b4\",\"#ff9896\",\"#1f77b4\",\"#9467bd\",\"#2ca02c\",\"#1f77b4\",\"#2ca02c\",\"#aec7e8\",\"#ff9896\",\"#1f77b4\",\"#2ca02c\",\"#c5b0d5\",\"#1f77b4\",\"#ff7f0e\",\"#d62728\",\"#ffbb78\",\"#2ca02c\",\"#ff9896\",\"#9467bd\",\"#1f77b4\",\"#2ca02c\",\"#c5b0d5\",\"#aec7e8\",\"#aec7e8\",\"#98df8a\",\"#2ca02c\",\"#1f77b4\",\"#2ca02c\",\"#d62728\",\"#1f77b4\",\"#aec7e8\",\"#1f77b4\",\"#1f77b4\",\"#c5b0d5\",\"#2ca02c\",\"#aec7e8\",\"#aec7e8\",\"#ffbb78\",\"#1f77b4\",\"#ffbb78\",\"#aec7e8\",\"#1f77b4\",\"#98df8a\",\"#aec7e8\",\"#c5b0d5\",\"#ff7f0e\",\"#c5b0d5\",\"#aec7e8\",\"#1f77b4\",\"#98df8a\",\"#ff7f0e\",\"#aec7e8\",\"#d62728\",\"#d62728\",\"#c5b0d5\",\"#ff7f0e\",\"#1f77b4\",\"#2ca02c\",\"#aec7e8\",\"#ff9896\",\"#1f77b4\",\"#1f77b4\",\"#1f77b4\",\"#9467bd\",\"#1f77b4\",\"#98df8a\",\"#98df8a\",\"#1f77b4\",\"#ffbb78\",\"#1f77b4\",\"#ff7f0e\",\"#98df8a\",\"#9467bd\",\"#1f77b4\",\"#c5b0d5\",\"#ffbb78\",\"#9467bd\",\"#1f77b4\",\"#ffbb78\",\"#1f77b4\",\"#2ca02c\",\"#aec7e8\",\"#aec7e8\",\"#c5b0d5\",\"#d62728\",\"#1f77b4\",\"#1f77b4\",\"#aec7e8\",\"#1f77b4\",\"#98df8a\",\"#ffbb78\",\"#d62728\",\"#aec7e8\",\"#1f77b4\",\"#aec7e8\",\"#aec7e8\",\"#9467bd\",\"#2ca02c\",\"#ff9896\",\"#2ca02c\",\"#1f77b4\",\"#d62728\",\"#2ca02c\",\"#1f77b4\",\"#ffbb78\",\"#aec7e8\",\"#ff7f0e\",\"#ffbb78\",\"#c5b0d5\",\"#ff7f0e\",\"#aec7e8\",\"#aec7e8\",\"#ff7f0e\",\"#1f77b4\",\"#1f77b4\",\"#ff7f0e\",\"#c5b0d5\",\"#98df8a\",\"#9467bd\",\"#ffbb78\",\"#1f77b4\",\"#ff7f0e\",\"#2ca02c\",\"#ffbb78\",\"#ffbb78\",\"#c5b0d5\",\"#9467bd\",\"#98df8a\",\"#aec7e8\",\"#9467bd\",\"#ff9896\",\"#2ca02c\",\"#1f77b4\",\"#ffbb78\",\"#aec7e8\",\"#c5b0d5\",\"#d62728\",\"#ff7f0e\",\"#98df8a\",\"#1f77b4\",\"#9467bd\",\"#ffbb78\",\"#ff9896\",\"#2ca02c\",\"#aec7e8\",\"#ffbb78\",\"#ff9896\",\"#98df8a\",\"#1f77b4\",\"#1f77b4\",\"#ff7f0e\",\"#c5b0d5\",\"#2ca02c\",\"#1f77b4\",\"#1f77b4\",\"#1f77b4\",\"#ff7f0e\",\"#98df8a\",\"#2ca02c\",\"#c5b0d5\",\"#d62728\",\"#ff7f0e\",\"#d62728\",\"#c5b0d5\",\"#1f77b4\",\"#d62728\",\"#98df8a\",\"#c5b0d5\",\"#98df8a\",\"#c5b0d5\",\"#ff7f0e\",\"#c5b0d5\",\"#c5b0d5\",\"#c5b0d5\",\"#ff7f0e\",\"#1f77b4\",\"#2ca02c\",\"#ff9896\",\"#ff7f0e\",\"#1f77b4\",\"#2ca02c\",\"#d62728\",\"#2ca02c\",\"#ff7f0e\",\"#2ca02c\",\"#1f77b4\",\"#1f77b4\",\"#d62728\",\"#aec7e8\",\"#9467bd\",\"#1f77b4\",\"#ff7f0e\",\"#1f77b4\",\"#ff7f0e\",\"#2ca02c\",\"#ff9896\",\"#ffbb78\",\"#d62728\",\"#ff7f0e\",\"#2ca02c\",\"#9467bd\",\"#c5b0d5\",\"#9467bd\",\"#ff7f0e\",\"#c5b0d5\",\"#aec7e8\",\"#1f77b4\",\"#aec7e8\",\"#ffbb78\",\"#ff7f0e\",\"#d62728\",\"#1f77b4\",\"#aec7e8\",\"#2ca02c\",\"#1f77b4\",\"#d62728\",\"#1f77b4\",\"#ffbb78\",\"#1f77b4\",\"#ffbb78\",\"#98df8a\",\"#ff9896\",\"#aec7e8\",\"#c5b0d5\",\"#ff7f0e\",\"#ff9896\",\"#ffbb78\",\"#ff7f0e\",\"#c5b0d5\",\"#ffbb78\",\"#aec7e8\",\"#9467bd\",\"#d62728\",\"#ffbb78\",\"#ff9896\",\"#d62728\",\"#1f77b4\",\"#1f77b4\",\"#1f77b4\",\"#ff7f0e\",\"#ff7f0e\",\"#1f77b4\",\"#aec7e8\",\"#ff7f0e\",\"#aec7e8\",\"#98df8a\",\"#ffbb78\",\"#c5b0d5\",\"#c5b0d5\",\"#aec7e8\",\"#2ca02c\",\"#9467bd\",\"#aec7e8\",\"#d62728\",\"#aec7e8\",\"#1f77b4\",\"#ff7f0e\",\"#2ca02c\",\"#ffbb78\",\"#2ca02c\",\"#98df8a\",\"#1f77b4\",\"#98df8a\",\"#c5b0d5\",\"#ffbb78\",\"#9467bd\",\"#ffbb78\",\"#1f77b4\",\"#ff7f0e\",\"#1f77b4\",\"#aec7e8\",\"#d62728\",\"#d62728\",\"#1f77b4\",\"#9467bd\",\"#1f77b4\",\"#ff7f0e\",\"#1f77b4\",\"#ff7f0e\",\"#ff7f0e\",\"#ff7f0e\",\"#ff7f0e\",\"#1f77b4\",\"#1f77b4\",\"#9467bd\",\"#ffbb78\",\"#d62728\",\"#ff7f0e\",\"#2ca02c\",\"#ff9896\",\"#1f77b4\",\"#98df8a\",\"#9467bd\",\"#2ca02c\",\"#d62728\",\"#ff9896\",\"#ff7f0e\",\"#2ca02c\",\"#1f77b4\",\"#c5b0d5\",\"#98df8a\",\"#ff7f0e\",\"#2ca02c\",\"#ff7f0e\",\"#aec7e8\",\"#ffbb78\",\"#ff9896\",\"#aec7e8\",\"#9467bd\",\"#aec7e8\",\"#ff7f0e\",\"#c5b0d5\",\"#ff7f0e\",\"#1f77b4\",\"#1f77b4\",\"#c5b0d5\",\"#ff7f0e\",\"#9467bd\",\"#d62728\",\"#aec7e8\",\"#1f77b4\",\"#d62728\",\"#aec7e8\",\"#d62728\",\"#1f77b4\",\"#ffbb78\",\"#d62728\",\"#98df8a\",\"#aec7e8\",\"#1f77b4\",\"#98df8a\",\"#9467bd\",\"#1f77b4\",\"#1f77b4\",\"#aec7e8\",\"#2ca02c\",\"#98df8a\",\"#c5b0d5\",\"#1f77b4\",\"#ff9896\",\"#d62728\",\"#ff7f0e\",\"#ff9896\",\"#aec7e8\",\"#98df8a\",\"#ff7f0e\",\"#c5b0d5\",\"#ff7f0e\",\"#9467bd\",\"#ff7f0e\",\"#1f77b4\",\"#d62728\",\"#98df8a\",\"#2ca02c\",\"#aec7e8\",\"#1f77b4\",\"#2ca02c\",\"#9467bd\",\"#9467bd\",\"#aec7e8\",\"#ff7f0e\",\"#c5b0d5\",\"#1f77b4\",\"#2ca02c\",\"#aec7e8\",\"#d62728\",\"#aec7e8\",\"#aec7e8\",\"#9467bd\",\"#c5b0d5\",\"#aec7e8\",\"#98df8a\",\"#aec7e8\",\"#1f77b4\",\"#aec7e8\",\"#9467bd\",\"#d62728\",\"#ff9896\",\"#ffbb78\",\"#ff7f0e\",\"#2ca02c\",\"#2ca02c\",\"#1f77b4\",\"#ff9896\",\"#aec7e8\",\"#c5b0d5\",\"#d62728\",\"#98df8a\",\"#c5b0d5\",\"#1f77b4\",\"#d62728\",\"#ff9896\",\"#d62728\",\"#aec7e8\",\"#1f77b4\",\"#c5b0d5\",\"#ff7f0e\",\"#d62728\",\"#1f77b4\",\"#d62728\",\"#9467bd\",\"#c5b0d5\",\"#ff7f0e\",\"#ff7f0e\",\"#9467bd\",\"#1f77b4\",\"#ffbb78\",\"#ff7f0e\",\"#ff7f0e\",\"#98df8a\",\"#9467bd\",\"#9467bd\",\"#d62728\",\"#ff9896\",\"#1f77b4\",\"#aec7e8\",\"#1f77b4\",\"#ffbb78\",\"#c5b0d5\",\"#aec7e8\",\"#ff9896\",\"#aec7e8\",\"#ff9896\",\"#1f77b4\",\"#9467bd\",\"#ff7f0e\",\"#1f77b4\",\"#ff9896\",\"#aec7e8\",\"#aec7e8\",\"#98df8a\",\"#aec7e8\",\"#ff7f0e\",\"#ffbb78\",\"#ff9896\",\"#2ca02c\",\"#98df8a\",\"#aec7e8\",\"#d62728\",\"#1f77b4\",\"#c5b0d5\",\"#1f77b4\",\"#2ca02c\",\"#1f77b4\",\"#1f77b4\",\"#ffbb78\",\"#d62728\",\"#2ca02c\",\"#98df8a\",\"#ffbb78\",\"#ff9896\",\"#aec7e8\",\"#ff9896\",\"#d62728\",\"#1f77b4\",\"#1f77b4\",\"#2ca02c\",\"#d62728\",\"#c5b0d5\",\"#98df8a\",\"#aec7e8\",\"#9467bd\",\"#aec7e8\",\"#d62728\",\"#aec7e8\",\"#aec7e8\",\"#9467bd\",\"#9467bd\",\"#1f77b4\",\"#9467bd\",\"#2ca02c\",\"#ff7f0e\",\"#aec7e8\",\"#ff7f0e\",\"#98df8a\",\"#1f77b4\",\"#ff9896\",\"#aec7e8\",\"#ff7f0e\",\"#98df8a\",\"#aec7e8\",\"#9467bd\",\"#ffbb78\",\"#d62728\",\"#c5b0d5\",\"#1f77b4\",\"#1f77b4\",\"#ffbb78\",\"#ffbb78\",\"#ff7f0e\",\"#c5b0d5\",\"#aec7e8\",\"#d62728\",\"#9467bd\",\"#aec7e8\",\"#aec7e8\",\"#c5b0d5\",\"#ff9896\",\"#ff9896\",\"#ff9896\",\"#d62728\",\"#d62728\",\"#9467bd\",\"#ff9896\",\"#aec7e8\",\"#1f77b4\",\"#1f77b4\",\"#ffbb78\",\"#1f77b4\",\"#1f77b4\",\"#9467bd\",\"#aec7e8\",\"#c5b0d5\",\"#c5b0d5\",\"#aec7e8\",\"#ffbb78\",\"#9467bd\",\"#1f77b4\",\"#aec7e8\",\"#1f77b4\",\"#c5b0d5\",\"#9467bd\",\"#1f77b4\",\"#c5b0d5\",\"#2ca02c\",\"#98df8a\",\"#aec7e8\",\"#ff9896\",\"#c5b0d5\",\"#ff7f0e\",\"#1f77b4\",\"#1f77b4\",\"#aec7e8\",\"#1f77b4\",\"#1f77b4\",\"#98df8a\",\"#c5b0d5\",\"#ff9896\",\"#aec7e8\",\"#d62728\",\"#aec7e8\",\"#ff9896\",\"#d62728\",\"#ff7f0e\",\"#aec7e8\",\"#d62728\",\"#1f77b4\",\"#aec7e8\",\"#ff9896\",\"#d62728\",\"#98df8a\",\"#9467bd\",\"#ff7f0e\",\"#1f77b4\",\"#ffbb78\",\"#98df8a\",\"#ff9896\",\"#aec7e8\",\"#9467bd\",\"#aec7e8\",\"#ff7f0e\",\"#98df8a\",\"#ffbb78\",\"#1f77b4\",\"#2ca02c\",\"#1f77b4\",\"#1f77b4\",\"#ff9896\",\"#2ca02c\",\"#ff7f0e\",\"#2ca02c\",\"#ff9896\",\"#1f77b4\",\"#aec7e8\",\"#ffbb78\",\"#98df8a\",\"#aec7e8\",\"#aec7e8\",\"#ff9896\",\"#ff9896\",\"#2ca02c\",\"#ffbb78\",\"#1f77b4\",\"#ff9896\",\"#ffbb78\",\"#1f77b4\",\"#aec7e8\",\"#2ca02c\",\"#c5b0d5\",\"#c5b0d5\",\"#ffbb78\",\"#ff9896\",\"#ff9896\",\"#98df8a\",\"#aec7e8\",\"#aec7e8\",\"#ff9896\",\"#ff9896\",\"#c5b0d5\",\"#c5b0d5\",\"#2ca02c\",\"#2ca02c\",\"#ff7f0e\",\"#c5b0d5\",\"#aec7e8\",\"#1f77b4\",\"#ffbb78\",\"#c5b0d5\",\"#1f77b4\",\"#aec7e8\",\"#1f77b4\",\"#9467bd\",\"#aec7e8\",\"#1f77b4\",\"#aec7e8\",\"#ffbb78\",\"#1f77b4\",\"#1f77b4\",\"#2ca02c\",\"#1f77b4\",\"#1f77b4\",\"#ff7f0e\",\"#1f77b4\",\"#2ca02c\",\"#2ca02c\",\"#c5b0d5\",\"#1f77b4\",\"#ff7f0e\",\"#1f77b4\",\"#9467bd\",\"#ff9896\",\"#c5b0d5\",\"#1f77b4\",\"#ff7f0e\",\"#1f77b4\",\"#d62728\",\"#9467bd\",\"#c5b0d5\",\"#c5b0d5\",\"#ff9896\",\"#d62728\",\"#1f77b4\",\"#aec7e8\",\"#d62728\",\"#d62728\",\"#c5b0d5\",\"#ff9896\",\"#9467bd\",\"#9467bd\",\"#2ca02c\",\"#aec7e8\",\"#aec7e8\",\"#9467bd\",\"#aec7e8\",\"#aec7e8\",\"#98df8a\",\"#aec7e8\",\"#1f77b4\",\"#9467bd\",\"#d62728\",\"#aec7e8\",\"#d62728\",\"#aec7e8\",\"#98df8a\",\"#1f77b4\",\"#1f77b4\",\"#ff7f0e\",\"#1f77b4\",\"#ffbb78\",\"#1f77b4\",\"#1f77b4\",\"#2ca02c\",\"#1f77b4\",\"#2ca02c\",\"#ff9896\",\"#d62728\",\"#aec7e8\",\"#1f77b4\",\"#ff9896\",\"#98df8a\",\"#1f77b4\",\"#ffbb78\",\"#1f77b4\",\"#c5b0d5\",\"#ff9896\",\"#ffbb78\",\"#ff9896\",\"#ffbb78\",\"#d62728\",\"#ff9896\",\"#9467bd\",\"#ffbb78\",\"#ff7f0e\",\"#2ca02c\",\"#2ca02c\",\"#98df8a\",\"#2ca02c\",\"#ff7f0e\",\"#1f77b4\",\"#aec7e8\",\"#ff7f0e\",\"#1f77b4\",\"#ff7f0e\",\"#c5b0d5\",\"#ff9896\",\"#98df8a\",\"#2ca02c\",\"#ff9896\",\"#c5b0d5\",\"#ff9896\",\"#ffbb78\",\"#98df8a\",\"#d62728\",\"#2ca02c\",\"#ffbb78\",\"#1f77b4\",\"#aec7e8\",\"#9467bd\",\"#1f77b4\",\"#aec7e8\",\"#ff9896\",\"#aec7e8\",\"#d62728\",\"#aec7e8\",\"#ff7f0e\",\"#9467bd\",\"#ff9896\",\"#ffbb78\",\"#aec7e8\",\"#ff9896\",\"#d62728\",\"#98df8a\",\"#2ca02c\",\"#2ca02c\",\"#1f77b4\",\"#1f77b4\",\"#2ca02c\",\"#ffbb78\",\"#9467bd\",\"#98df8a\",\"#c5b0d5\",\"#ffbb78\",\"#ffbb78\",\"#c5b0d5\",\"#aec7e8\",\"#d62728\",\"#c5b0d5\",\"#9467bd\",\"#2ca02c\",\"#9467bd\",\"#ff7f0e\",\"#ff7f0e\",\"#c5b0d5\",\"#ff9896\",\"#9467bd\",\"#aec7e8\",\"#aec7e8\",\"#98df8a\",\"#2ca02c\",\"#aec7e8\",\"#aec7e8\",\"#9467bd\",\"#aec7e8\",\"#c5b0d5\",\"#c5b0d5\",\"#98df8a\",\"#98df8a\",\"#ff9896\",\"#ff9896\",\"#98df8a\",\"#aec7e8\",\"#ff9896\",\"#1f77b4\",\"#aec7e8\",\"#c5b0d5\",\"#ff7f0e\",\"#d62728\",\"#98df8a\",\"#aec7e8\",\"#d62728\",\"#1f77b4\",\"#ff9896\",\"#98df8a\",\"#1f77b4\",\"#c5b0d5\",\"#1f77b4\",\"#ff9896\",\"#c5b0d5\",\"#1f77b4\",\"#d62728\",\"#aec7e8\",\"#1f77b4\",\"#d62728\",\"#c5b0d5\",\"#c5b0d5\",\"#9467bd\",\"#aec7e8\",\"#ff9896\",\"#d62728\",\"#ff9896\",\"#c5b0d5\",\"#aec7e8\",\"#1f77b4\",\"#ffbb78\",\"#ff9896\",\"#ffbb78\",\"#d62728\",\"#1f77b4\",\"#1f77b4\",\"#ff9896\",\"#1f77b4\",\"#2ca02c\",\"#2ca02c\",\"#c5b0d5\",\"#aec7e8\",\"#c5b0d5\",\"#9467bd\",\"#ffbb78\",\"#9467bd\",\"#c5b0d5\",\"#ff7f0e\",\"#ff7f0e\",\"#98df8a\",\"#aec7e8\",\"#ff7f0e\",\"#1f77b4\",\"#ff9896\",\"#9467bd\",\"#ffbb78\",\"#1f77b4\",\"#ff9896\",\"#aec7e8\",\"#aec7e8\",\"#aec7e8\",\"#ffbb78\",\"#ffbb78\",\"#aec7e8\",\"#c5b0d5\",\"#ff7f0e\",\"#1f77b4\",\"#9467bd\",\"#2ca02c\",\"#98df8a\",\"#aec7e8\",\"#ff7f0e\",\"#ff7f0e\",\"#1f77b4\",\"#ffbb78\",\"#1f77b4\",\"#ffbb78\",\"#9467bd\",\"#ffbb78\",\"#98df8a\",\"#ff9896\",\"#9467bd\",\"#ff9896\",\"#ff7f0e\",\"#d62728\",\"#2ca02c\",\"#9467bd\",\"#ffbb78\",\"#ffbb78\",\"#aec7e8\",\"#98df8a\",\"#9467bd\",\"#ffbb78\",\"#2ca02c\",\"#1f77b4\",\"#1f77b4\",\"#c5b0d5\",\"#c5b0d5\",\"#d62728\",\"#ff9896\",\"#98df8a\",\"#98df8a\",\"#d62728\",\"#9467bd\",\"#1f77b4\",\"#ff7f0e\",\"#1f77b4\",\"#d62728\",\"#aec7e8\",\"#1f77b4\",\"#1f77b4\",\"#c5b0d5\",\"#aec7e8\",\"#98df8a\",\"#9467bd\",\"#ff9896\",\"#ffbb78\",\"#1f77b4\",\"#2ca02c\",\"#9467bd\",\"#aec7e8\",\"#9467bd\",\"#aec7e8\",\"#c5b0d5\",\"#aec7e8\",\"#ff9896\",\"#9467bd\",\"#1f77b4\",\"#1f77b4\",\"#aec7e8\",\"#9467bd\",\"#ff9896\",\"#9467bd\",\"#1f77b4\",\"#1f77b4\",\"#1f77b4\",\"#aec7e8\",\"#1f77b4\",\"#ffbb78\",\"#ff7f0e\",\"#ff9896\",\"#ff7f0e\",\"#98df8a\",\"#c5b0d5\",\"#c5b0d5\",\"#ffbb78\",\"#2ca02c\",\"#ffbb78\",\"#aec7e8\",\"#ff7f0e\",\"#c5b0d5\",\"#1f77b4\",\"#ff7f0e\",\"#ffbb78\",\"#aec7e8\",\"#1f77b4\",\"#2ca02c\",\"#ff7f0e\",\"#d62728\",\"#ff7f0e\",\"#1f77b4\",\"#ffbb78\",\"#1f77b4\",\"#9467bd\",\"#aec7e8\",\"#ff9896\",\"#ff9896\",\"#2ca02c\",\"#1f77b4\",\"#aec7e8\",\"#ff9896\",\"#2ca02c\",\"#ff9896\",\"#9467bd\",\"#9467bd\",\"#ff7f0e\",\"#d62728\",\"#98df8a\",\"#2ca02c\",\"#aec7e8\",\"#2ca02c\",\"#2ca02c\",\"#aec7e8\",\"#d62728\",\"#ff7f0e\",\"#ffbb78\",\"#aec7e8\",\"#ff7f0e\",\"#1f77b4\",\"#c5b0d5\",\"#aec7e8\",\"#ffbb78\",\"#ffbb78\",\"#9467bd\",\"#2ca02c\",\"#1f77b4\",\"#9467bd\",\"#ff9896\",\"#1f77b4\",\"#ffbb78\",\"#ff7f0e\",\"#9467bd\",\"#98df8a\",\"#ff7f0e\",\"#ff9896\",\"#c5b0d5\",\"#1f77b4\",\"#98df8a\",\"#ff7f0e\",\"#9467bd\",\"#1f77b4\",\"#2ca02c\",\"#ffbb78\",\"#9467bd\",\"#1f77b4\",\"#aec7e8\",\"#1f77b4\",\"#1f77b4\",\"#ffbb78\",\"#ff9896\",\"#ff9896\",\"#9467bd\",\"#9467bd\",\"#2ca02c\",\"#ff9896\",\"#ffbb78\",\"#2ca02c\",\"#ffbb78\",\"#aec7e8\",\"#d62728\",\"#1f77b4\",\"#c5b0d5\",\"#ffbb78\",\"#9467bd\",\"#c5b0d5\",\"#c5b0d5\",\"#aec7e8\",\"#1f77b4\",\"#c5b0d5\",\"#1f77b4\",\"#ffbb78\",\"#d62728\",\"#1f77b4\",\"#ff9896\",\"#ff7f0e\",\"#9467bd\",\"#1f77b4\",\"#2ca02c\",\"#d62728\",\"#d62728\",\"#c5b0d5\",\"#aec7e8\",\"#1f77b4\",\"#c5b0d5\",\"#aec7e8\",\"#98df8a\",\"#d62728\",\"#c5b0d5\",\"#c5b0d5\",\"#d62728\",\"#c5b0d5\",\"#1f77b4\",\"#ff7f0e\",\"#ff7f0e\",\"#c5b0d5\",\"#ff7f0e\",\"#c5b0d5\",\"#98df8a\",\"#aec7e8\",\"#ff7f0e\",\"#ff7f0e\",\"#98df8a\",\"#2ca02c\",\"#d62728\",\"#aec7e8\",\"#98df8a\",\"#2ca02c\",\"#9467bd\",\"#98df8a\",\"#ff7f0e\",\"#aec7e8\",\"#d62728\",\"#ffbb78\",\"#c5b0d5\",\"#d62728\",\"#1f77b4\",\"#ff7f0e\",\"#d62728\",\"#ff9896\",\"#c5b0d5\",\"#9467bd\",\"#1f77b4\",\"#c5b0d5\",\"#1f77b4\",\"#1f77b4\",\"#2ca02c\",\"#98df8a\",\"#ff7f0e\",\"#1f77b4\",\"#ff9896\",\"#d62728\",\"#aec7e8\",\"#ff9896\",\"#c5b0d5\",\"#aec7e8\",\"#aec7e8\",\"#c5b0d5\",\"#aec7e8\",\"#ff7f0e\",\"#aec7e8\",\"#aec7e8\",\"#aec7e8\",\"#d62728\",\"#ff9896\",\"#ff7f0e\",\"#1f77b4\",\"#1f77b4\",\"#c5b0d5\",\"#ff9896\",\"#98df8a\",\"#1f77b4\",\"#1f77b4\",\"#aec7e8\",\"#aec7e8\",\"#d62728\",\"#ff7f0e\",\"#ffbb78\",\"#1f77b4\",\"#d62728\",\"#aec7e8\",\"#9467bd\",\"#ffbb78\",\"#1f77b4\",\"#2ca02c\",\"#d62728\",\"#aec7e8\",\"#9467bd\",\"#2ca02c\",\"#98df8a\",\"#ff9896\",\"#9467bd\",\"#ff7f0e\",\"#98df8a\",\"#ffbb78\",\"#d62728\",\"#2ca02c\",\"#ff7f0e\",\"#1f77b4\",\"#aec7e8\",\"#d62728\",\"#2ca02c\",\"#2ca02c\",\"#ff7f0e\",\"#ff7f0e\",\"#ff7f0e\",\"#ff9896\",\"#c5b0d5\",\"#aec7e8\",\"#aec7e8\",\"#ff7f0e\",\"#98df8a\",\"#2ca02c\",\"#d62728\",\"#2ca02c\",\"#98df8a\",\"#ffbb78\",\"#ffbb78\",\"#ff7f0e\",\"#2ca02c\",\"#98df8a\",\"#2ca02c\",\"#d62728\",\"#ff9896\",\"#ff9896\",\"#ff7f0e\",\"#aec7e8\",\"#98df8a\",\"#ff7f0e\",\"#aec7e8\",\"#2ca02c\",\"#ffbb78\",\"#ffbb78\",\"#c5b0d5\",\"#1f77b4\",\"#9467bd\",\"#98df8a\",\"#d62728\",\"#aec7e8\",\"#ff7f0e\",\"#aec7e8\",\"#c5b0d5\",\"#c5b0d5\",\"#1f77b4\",\"#d62728\",\"#ff9896\",\"#98df8a\",\"#ff9896\",\"#c5b0d5\",\"#2ca02c\",\"#c5b0d5\",\"#ffbb78\",\"#2ca02c\",\"#98df8a\",\"#2ca02c\",\"#98df8a\",\"#c5b0d5\",\"#aec7e8\",\"#aec7e8\",\"#98df8a\",\"#c5b0d5\",\"#c5b0d5\",\"#ff9896\",\"#2ca02c\",\"#ffbb78\",\"#ffbb78\",\"#c5b0d5\",\"#ff9896\",\"#c5b0d5\",\"#2ca02c\",\"#d62728\",\"#aec7e8\",\"#ff9896\",\"#c5b0d5\",\"#d62728\",\"#ffbb78\",\"#ffbb78\",\"#ff9896\",\"#ff7f0e\",\"#1f77b4\",\"#aec7e8\",\"#c5b0d5\",\"#1f77b4\",\"#aec7e8\",\"#c5b0d5\",\"#1f77b4\",\"#ff7f0e\",\"#ffbb78\",\"#1f77b4\",\"#aec7e8\",\"#aec7e8\",\"#1f77b4\",\"#ffbb78\",\"#aec7e8\",\"#1f77b4\",\"#aec7e8\",\"#aec7e8\",\"#2ca02c\",\"#d62728\",\"#aec7e8\",\"#98df8a\",\"#1f77b4\",\"#d62728\",\"#aec7e8\",\"#1f77b4\",\"#d62728\",\"#2ca02c\",\"#aec7e8\",\"#ffbb78\",\"#98df8a\",\"#ff7f0e\",\"#2ca02c\",\"#1f77b4\",\"#d62728\",\"#1f77b4\",\"#d62728\",\"#ff9896\",\"#2ca02c\",\"#98df8a\",\"#9467bd\",\"#1f77b4\",\"#ff7f0e\",\"#ff7f0e\",\"#1f77b4\",\"#2ca02c\",\"#c5b0d5\",\"#ff7f0e\",\"#98df8a\",\"#c5b0d5\",\"#aec7e8\",\"#ff9896\",\"#ffbb78\",\"#2ca02c\",\"#c5b0d5\",\"#d62728\",\"#aec7e8\",\"#ffbb78\",\"#aec7e8\",\"#d62728\",\"#aec7e8\",\"#1f77b4\",\"#9467bd\",\"#9467bd\",\"#c5b0d5\",\"#98df8a\",\"#9467bd\",\"#aec7e8\",\"#98df8a\",\"#d62728\",\"#ff7f0e\",\"#ff9896\",\"#d62728\",\"#d62728\",\"#1f77b4\",\"#1f77b4\",\"#aec7e8\",\"#d62728\",\"#9467bd\",\"#ff7f0e\",\"#aec7e8\",\"#9467bd\",\"#ff7f0e\",\"#ff9896\",\"#1f77b4\",\"#aec7e8\",\"#ff7f0e\",\"#ff7f0e\",\"#aec7e8\",\"#9467bd\",\"#ff9896\",\"#aec7e8\",\"#aec7e8\",\"#c5b0d5\",\"#aec7e8\",\"#9467bd\",\"#ff7f0e\",\"#1f77b4\",\"#c5b0d5\",\"#ff7f0e\",\"#d62728\",\"#1f77b4\",\"#98df8a\",\"#ff9896\",\"#1f77b4\",\"#ff9896\",\"#1f77b4\",\"#ffbb78\",\"#ffbb78\",\"#aec7e8\",\"#aec7e8\",\"#ff9896\",\"#2ca02c\",\"#d62728\",\"#ffbb78\",\"#ff7f0e\",\"#aec7e8\",\"#9467bd\",\"#ffbb78\",\"#98df8a\",\"#98df8a\",\"#9467bd\",\"#ff9896\",\"#aec7e8\",\"#ff7f0e\",\"#9467bd\",\"#1f77b4\",\"#ff7f0e\",\"#2ca02c\",\"#ff9896\",\"#ff7f0e\",\"#ff7f0e\",\"#ff9896\",\"#d62728\",\"#98df8a\",\"#98df8a\",\"#ffbb78\",\"#98df8a\",\"#ff7f0e\",\"#2ca02c\",\"#ffbb78\",\"#d62728\",\"#ff9896\",\"#ff7f0e\",\"#ff7f0e\",\"#1f77b4\",\"#d62728\",\"#9467bd\",\"#1f77b4\",\"#98df8a\",\"#aec7e8\",\"#d62728\",\"#d62728\",\"#1f77b4\",\"#d62728\",\"#ff9896\",\"#1f77b4\",\"#ff7f0e\",\"#1f77b4\",\"#2ca02c\",\"#2ca02c\",\"#2ca02c\",\"#1f77b4\",\"#1f77b4\",\"#ff7f0e\",\"#ff9896\",\"#ffbb78\",\"#aec7e8\",\"#98df8a\",\"#aec7e8\",\"#2ca02c\",\"#9467bd\",\"#9467bd\",\"#98df8a\",\"#aec7e8\",\"#d62728\",\"#2ca02c\",\"#d62728\",\"#2ca02c\",\"#2ca02c\",\"#ffbb78\",\"#aec7e8\",\"#c5b0d5\",\"#c5b0d5\",\"#2ca02c\",\"#ff7f0e\",\"#1f77b4\",\"#1f77b4\",\"#2ca02c\",\"#1f77b4\",\"#ff9896\",\"#1f77b4\",\"#aec7e8\",\"#2ca02c\",\"#1f77b4\",\"#1f77b4\",\"#ff9896\",\"#2ca02c\",\"#c5b0d5\",\"#aec7e8\",\"#1f77b4\",\"#1f77b4\",\"#98df8a\",\"#ff7f0e\",\"#9467bd\",\"#98df8a\",\"#ff9896\",\"#ff7f0e\",\"#2ca02c\",\"#d62728\",\"#1f77b4\",\"#2ca02c\",\"#9467bd\",\"#98df8a\",\"#d62728\",\"#ff9896\",\"#9467bd\",\"#aec7e8\",\"#aec7e8\",\"#1f77b4\",\"#2ca02c\",\"#98df8a\",\"#ff7f0e\",\"#1f77b4\",\"#1f77b4\",\"#c5b0d5\",\"#1f77b4\",\"#ff9896\",\"#aec7e8\",\"#ff9896\",\"#2ca02c\",\"#2ca02c\",\"#c5b0d5\",\"#98df8a\",\"#2ca02c\",\"#ff9896\",\"#c5b0d5\",\"#9467bd\",\"#1f77b4\",\"#ff7f0e\",\"#d62728\",\"#98df8a\",\"#2ca02c\",\"#ff9896\",\"#c5b0d5\",\"#ffbb78\",\"#d62728\",\"#2ca02c\",\"#ff9896\",\"#ff7f0e\",\"#98df8a\",\"#1f77b4\",\"#aec7e8\",\"#aec7e8\",\"#1f77b4\",\"#ff7f0e\",\"#aec7e8\",\"#2ca02c\",\"#d62728\",\"#1f77b4\",\"#ffbb78\",\"#9467bd\",\"#1f77b4\",\"#1f77b4\"],\"label\":[\"8\",\"9\",\"1\",\"3\",\"0\",\"0\",\"5\",\"3\",\"1\",\"0\",\"1\",\"9\",\"4\",\"0\",\"6\",\"3\",\"0\",\"9\",\"9\",\"9\",\"2\",\"0\",\"8\",\"5\",\"3\",\"5\",\"6\",\"8\",\"2\",\"7\",\"0\",\"2\",\"6\",\"3\",\"2\",\"4\",\"8\",\"4\",\"8\",\"0\",\"1\",\"5\",\"4\",\"6\",\"4\",\"2\",\"9\",\"6\",\"9\",\"2\",\"0\",\"9\",\"7\",\"3\",\"6\",\"4\",\"2\",\"9\",\"3\",\"7\",\"2\",\"2\",\"5\",\"9\",\"6\",\"6\",\"9\",\"0\",\"6\",\"8\",\"1\",\"5\",\"7\",\"4\",\"1\",\"2\",\"3\",\"0\",\"4\",\"0\",\"4\",\"5\",\"1\",\"4\",\"0\",\"6\",\"6\",\"7\",\"5\",\"2\",\"2\",\"2\",\"7\",\"6\",\"3\",\"7\",\"0\",\"4\",\"0\",\"9\",\"1\",\"2\",\"5\",\"3\",\"4\",\"0\",\"3\",\"0\",\"0\",\"2\",\"8\",\"9\",\"1\",\"4\",\"0\",\"9\",\"1\",\"9\",\"8\",\"3\",\"6\",\"9\",\"2\",\"6\",\"7\",\"4\",\"0\",\"5\",\"0\",\"0\",\"4\",\"1\",\"4\",\"9\",\"2\",\"0\",\"2\",\"1\",\"8\",\"3\",\"4\",\"7\",\"9\",\"2\",\"4\",\"1\",\"3\",\"7\",\"0\",\"3\",\"2\",\"1\",\"0\",\"2\",\"3\",\"0\",\"6\",\"1\",\"6\",\"0\",\"5\",\"7\",\"1\",\"9\",\"4\",\"0\",\"0\",\"7\",\"5\",\"8\",\"3\",\"4\",\"5\",\"7\",\"6\",\"5\",\"3\",\"3\",\"4\",\"2\",\"2\",\"0\",\"0\",\"4\",\"1\",\"0\",\"3\",\"3\",\"0\",\"3\",\"8\",\"7\",\"3\",\"6\",\"0\",\"9\",\"3\",\"5\",\"8\",\"4\",\"5\",\"5\",\"3\",\"1\",\"4\",\"5\",\"0\",\"5\",\"0\",\"7\",\"6\",\"4\",\"8\",\"9\",\"7\",\"1\",\"0\",\"0\",\"9\",\"5\",\"8\",\"9\",\"8\",\"6\",\"5\",\"8\",\"2\",\"0\",\"2\",\"7\",\"1\",\"9\",\"9\",\"1\",\"0\",\"1\",\"8\",\"3\",\"3\",\"4\",\"0\",\"2\",\"4\",\"5\",\"8\",\"8\",\"0\",\"4\",\"2\",\"0\",\"7\",\"2\",\"8\",\"1\",\"9\",\"5\",\"4\",\"9\",\"0\",\"8\",\"3\",\"3\",\"5\",\"1\",\"1\",\"0\",\"7\",\"5\",\"4\",\"1\",\"9\",\"3\",\"1\",\"3\",\"0\",\"2\",\"3\",\"1\",\"0\",\"4\",\"7\",\"9\",\"0\",\"1\",\"5\",\"4\",\"1\",\"0\",\"7\",\"4\",\"2\",\"0\",\"0\",\"1\",\"0\",\"7\",\"9\",\"6\",\"0\",\"7\",\"6\",\"5\",\"2\",\"2\",\"5\",\"4\",\"3\",\"1\",\"2\",\"6\",\"0\",\"3\",\"9\",\"5\",\"4\",\"9\",\"2\",\"4\",\"0\",\"7\",\"7\",\"0\",\"6\",\"1\",\"0\",\"0\",\"0\",\"2\",\"0\",\"9\",\"2\",\"0\",\"6\",\"7\",\"4\",\"7\",\"6\",\"2\",\"4\",\"7\",\"0\",\"0\",\"6\",\"6\",\"9\",\"1\",\"8\",\"2\",\"8\",\"2\",\"5\",\"6\",\"9\",\"4\",\"3\",\"0\",\"0\",\"2\",\"8\",\"1\",\"6\",\"9\",\"5\",\"1\",\"5\",\"2\",\"8\",\"2\",\"6\",\"1\",\"7\",\"0\",\"1\",\"8\",\"2\",\"5\",\"2\",\"0\",\"7\",\"2\",\"2\",\"0\",\"5\",\"5\",\"7\",\"1\",\"4\",\"0\",\"2\",\"6\",\"9\",\"3\",\"5\",\"6\",\"7\",\"0\",\"7\",\"0\",\"8\",\"4\",\"0\",\"4\",\"1\",\"7\",\"0\",\"4\",\"9\",\"0\",\"2\",\"6\",\"3\",\"4\",\"7\",\"8\",\"0\",\"4\",\"9\",\"1\",\"1\",\"5\",\"4\",\"0\",\"4\",\"6\",\"0\",\"1\",\"0\",\"0\",\"9\",\"4\",\"1\",\"1\",\"3\",\"0\",\"3\",\"1\",\"0\",\"5\",\"1\",\"9\",\"2\",\"9\",\"1\",\"0\",\"5\",\"2\",\"1\",\"6\",\"6\",\"9\",\"2\",\"0\",\"4\",\"1\",\"7\",\"0\",\"0\",\"0\",\"8\",\"0\",\"5\",\"5\",\"0\",\"3\",\"0\",\"2\",\"5\",\"8\",\"0\",\"9\",\"3\",\"8\",\"0\",\"3\",\"0\",\"4\",\"1\",\"1\",\"9\",\"6\",\"0\",\"0\",\"1\",\"0\",\"5\",\"3\",\"6\",\"1\",\"0\",\"1\",\"1\",\"8\",\"4\",\"7\",\"4\",\"0\",\"6\",\"4\",\"0\",\"3\",\"1\",\"2\",\"3\",\"9\",\"2\",\"1\",\"1\",\"2\",\"0\",\"0\",\"2\",\"9\",\"5\",\"8\",\"3\",\"0\",\"2\",\"4\",\"3\",\"3\",\"9\",\"8\",\"5\",\"1\",\"8\",\"7\",\"4\",\"0\",\"3\",\"1\",\"9\",\"6\",\"2\",\"5\",\"0\",\"8\",\"3\",\"7\",\"4\",\"1\",\"3\",\"7\",\"5\",\"0\",\"0\",\"2\",\"9\",\"4\",\"0\",\"0\",\"0\",\"2\",\"5\",\"4\",\"9\",\"6\",\"2\",\"6\",\"9\",\"0\",\"6\",\"5\",\"9\",\"5\",\"9\",\"2\",\"9\",\"9\",\"9\",\"2\",\"0\",\"4\",\"7\",\"2\",\"0\",\"4\",\"6\",\"4\",\"2\",\"4\",\"0\",\"0\",\"6\",\"1\",\"8\",\"0\",\"2\",\"0\",\"2\",\"4\",\"7\",\"3\",\"6\",\"2\",\"4\",\"8\",\"9\",\"8\",\"2\",\"9\",\"1\",\"0\",\"1\",\"3\",\"2\",\"6\",\"0\",\"1\",\"4\",\"0\",\"6\",\"0\",\"3\",\"0\",\"3\",\"5\",\"7\",\"1\",\"9\",\"2\",\"7\",\"3\",\"2\",\"9\",\"3\",\"1\",\"8\",\"6\",\"3\",\"7\",\"6\",\"0\",\"0\",\"0\",\"2\",\"2\",\"0\",\"1\",\"2\",\"1\",\"5\",\"3\",\"9\",\"9\",\"1\",\"4\",\"8\",\"1\",\"6\",\"1\",\"0\",\"2\",\"4\",\"3\",\"4\",\"5\",\"0\",\"5\",\"9\",\"3\",\"8\",\"3\",\"0\",\"2\",\"0\",\"1\",\"6\",\"6\",\"0\",\"8\",\"0\",\"2\",\"0\",\"2\",\"2\",\"2\",\"2\",\"0\",\"0\",\"8\",\"3\",\"6\",\"2\",\"4\",\"7\",\"0\",\"5\",\"8\",\"4\",\"6\",\"7\",\"2\",\"4\",\"0\",\"9\",\"5\",\"2\",\"4\",\"2\",\"1\",\"3\",\"7\",\"1\",\"8\",\"1\",\"2\",\"9\",\"2\",\"0\",\"0\",\"9\",\"2\",\"8\",\"6\",\"1\",\"0\",\"6\",\"1\",\"6\",\"0\",\"3\",\"6\",\"5\",\"1\",\"0\",\"5\",\"8\",\"0\",\"0\",\"1\",\"4\",\"5\",\"9\",\"0\",\"7\",\"6\",\"2\",\"7\",\"1\",\"5\",\"2\",\"9\",\"2\",\"8\",\"2\",\"0\",\"6\",\"5\",\"4\",\"1\",\"0\",\"4\",\"8\",\"8\",\"1\",\"2\",\"9\",\"0\",\"4\",\"1\",\"6\",\"1\",\"1\",\"8\",\"9\",\"1\",\"5\",\"1\",\"0\",\"1\",\"8\",\"6\",\"7\",\"3\",\"2\",\"4\",\"4\",\"0\",\"7\",\"1\",\"9\",\"6\",\"5\",\"9\",\"0\",\"6\",\"7\",\"6\",\"1\",\"0\",\"9\",\"2\",\"6\",\"0\",\"6\",\"8\",\"9\",\"2\",\"2\",\"8\",\"0\",\"3\",\"2\",\"2\",\"5\",\"8\",\"8\",\"6\",\"7\",\"0\",\"1\",\"0\",\"3\",\"9\",\"1\",\"7\",\"1\",\"7\",\"0\",\"8\",\"2\",\"0\",\"7\",\"1\",\"1\",\"5\",\"1\",\"2\",\"3\",\"7\",\"4\",\"5\",\"1\",\"6\",\"0\",\"9\",\"0\",\"4\",\"0\",\"0\",\"3\",\"6\",\"4\",\"5\",\"3\",\"7\",\"1\",\"7\",\"6\",\"0\",\"0\",\"4\",\"6\",\"9\",\"5\",\"1\",\"8\",\"1\",\"6\",\"1\",\"1\",\"8\",\"8\",\"0\",\"8\",\"4\",\"2\",\"1\",\"2\",\"5\",\"0\",\"7\",\"1\",\"2\",\"5\",\"1\",\"8\",\"3\",\"6\",\"9\",\"0\",\"0\",\"3\",\"3\",\"2\",\"9\",\"1\",\"6\",\"8\",\"1\",\"1\",\"9\",\"7\",\"7\",\"7\",\"6\",\"6\",\"8\",\"7\",\"1\",\"0\",\"0\",\"3\",\"0\",\"0\",\"8\",\"1\",\"9\",\"9\",\"1\",\"3\",\"8\",\"0\",\"1\",\"0\",\"9\",\"8\",\"0\",\"9\",\"4\",\"5\",\"1\",\"7\",\"9\",\"2\",\"0\",\"0\",\"1\",\"0\",\"0\",\"5\",\"9\",\"7\",\"1\",\"6\",\"1\",\"7\",\"6\",\"2\",\"1\",\"6\",\"0\",\"1\",\"7\",\"6\",\"5\",\"8\",\"2\",\"0\",\"3\",\"5\",\"7\",\"1\",\"8\",\"1\",\"2\",\"5\",\"3\",\"0\",\"4\",\"0\",\"0\",\"7\",\"4\",\"2\",\"4\",\"7\",\"0\",\"1\",\"3\",\"5\",\"1\",\"1\",\"7\",\"7\",\"4\",\"3\",\"0\",\"7\",\"3\",\"0\",\"1\",\"4\",\"9\",\"9\",\"3\",\"7\",\"7\",\"5\",\"1\",\"1\",\"7\",\"7\",\"9\",\"9\",\"4\",\"4\",\"2\",\"9\",\"1\",\"0\",\"3\",\"9\",\"0\",\"1\",\"0\",\"8\",\"1\",\"0\",\"1\",\"3\",\"0\",\"0\",\"4\",\"0\",\"0\",\"2\",\"0\",\"4\",\"4\",\"9\",\"0\",\"2\",\"0\",\"8\",\"7\",\"9\",\"0\",\"2\",\"0\",\"6\",\"8\",\"9\",\"9\",\"7\",\"6\",\"0\",\"1\",\"6\",\"6\",\"9\",\"7\",\"8\",\"8\",\"4\",\"1\",\"1\",\"8\",\"1\",\"1\",\"5\",\"1\",\"0\",\"8\",\"6\",\"1\",\"6\",\"1\",\"5\",\"0\",\"0\",\"2\",\"0\",\"3\",\"0\",\"0\",\"4\",\"0\",\"4\",\"7\",\"6\",\"1\",\"0\",\"7\",\"5\",\"0\",\"3\",\"0\",\"9\",\"7\",\"3\",\"7\",\"3\",\"6\",\"7\",\"8\",\"3\",\"2\",\"4\",\"4\",\"5\",\"4\",\"2\",\"0\",\"1\",\"2\",\"0\",\"2\",\"9\",\"7\",\"5\",\"4\",\"7\",\"9\",\"7\",\"3\",\"5\",\"6\",\"4\",\"3\",\"0\",\"1\",\"8\",\"0\",\"1\",\"7\",\"1\",\"6\",\"1\",\"2\",\"8\",\"7\",\"3\",\"1\",\"7\",\"6\",\"5\",\"4\",\"4\",\"0\",\"0\",\"4\",\"3\",\"8\",\"5\",\"9\",\"3\",\"3\",\"9\",\"1\",\"6\",\"9\",\"8\",\"4\",\"8\",\"2\",\"2\",\"9\",\"7\",\"8\",\"1\",\"1\",\"5\",\"4\",\"1\",\"1\",\"8\",\"1\",\"9\",\"9\",\"5\",\"5\",\"7\",\"7\",\"5\",\"1\",\"7\",\"0\",\"1\",\"9\",\"2\",\"6\",\"5\",\"1\",\"6\",\"0\",\"7\",\"5\",\"0\",\"9\",\"0\",\"7\",\"9\",\"0\",\"6\",\"1\",\"0\",\"6\",\"9\",\"9\",\"8\",\"1\",\"7\",\"6\",\"7\",\"9\",\"1\",\"0\",\"3\",\"7\",\"3\",\"6\",\"0\",\"0\",\"7\",\"0\",\"4\",\"4\",\"9\",\"1\",\"9\",\"8\",\"3\",\"8\",\"9\",\"2\",\"2\",\"5\",\"1\",\"2\",\"0\",\"7\",\"8\",\"3\",\"0\",\"7\",\"1\",\"1\",\"1\",\"3\",\"3\",\"1\",\"9\",\"2\",\"0\",\"8\",\"4\",\"5\",\"1\",\"2\",\"2\",\"0\",\"3\",\"0\",\"3\",\"8\",\"3\",\"5\",\"7\",\"8\",\"7\",\"2\",\"6\",\"4\",\"8\",\"3\",\"3\",\"1\",\"5\",\"8\",\"3\",\"4\",\"0\",\"0\",\"9\",\"9\",\"6\",\"7\",\"5\",\"5\",\"6\",\"8\",\"0\",\"2\",\"0\",\"6\",\"1\",\"0\",\"0\",\"9\",\"1\",\"5\",\"8\",\"7\",\"3\",\"0\",\"4\",\"8\",\"1\",\"8\",\"1\",\"9\",\"1\",\"7\",\"8\",\"0\",\"0\",\"1\",\"8\",\"7\",\"8\",\"0\",\"0\",\"0\",\"1\",\"0\",\"3\",\"2\",\"7\",\"2\",\"5\",\"9\",\"9\",\"3\",\"4\",\"3\",\"1\",\"2\",\"9\",\"0\",\"2\",\"3\",\"1\",\"0\",\"4\",\"2\",\"6\",\"2\",\"0\",\"3\",\"0\",\"8\",\"1\",\"7\",\"7\",\"4\",\"0\",\"1\",\"7\",\"4\",\"7\",\"8\",\"8\",\"2\",\"6\",\"5\",\"4\",\"1\",\"4\",\"4\",\"1\",\"6\",\"2\",\"3\",\"1\",\"2\",\"0\",\"9\",\"1\",\"3\",\"3\",\"8\",\"4\",\"0\",\"8\",\"7\",\"0\",\"3\",\"2\",\"8\",\"5\",\"2\",\"7\",\"9\",\"0\",\"5\",\"2\",\"8\",\"0\",\"4\",\"3\",\"8\",\"0\",\"1\",\"0\",\"0\",\"3\",\"7\",\"7\",\"8\",\"8\",\"4\",\"7\",\"3\",\"4\",\"3\",\"1\",\"6\",\"0\",\"9\",\"3\",\"8\",\"9\",\"9\",\"1\",\"0\",\"9\",\"0\",\"3\",\"6\",\"0\",\"7\",\"2\",\"8\",\"0\",\"4\",\"6\",\"6\",\"9\",\"1\",\"0\",\"9\",\"1\",\"5\",\"6\",\"9\",\"9\",\"6\",\"9\",\"0\",\"2\",\"2\",\"9\",\"2\",\"9\",\"5\",\"1\",\"2\",\"2\",\"5\",\"4\",\"6\",\"1\",\"5\",\"4\",\"8\",\"5\",\"2\",\"1\",\"6\",\"3\",\"9\",\"6\",\"0\",\"2\",\"6\",\"7\",\"9\",\"8\",\"0\",\"9\",\"0\",\"0\",\"4\",\"5\",\"2\",\"0\",\"7\",\"6\",\"1\",\"7\",\"9\",\"1\",\"1\",\"9\",\"1\",\"2\",\"1\",\"1\",\"1\",\"6\",\"7\",\"2\",\"0\",\"0\",\"9\",\"7\",\"5\",\"0\",\"0\",\"1\",\"1\",\"6\",\"2\",\"3\",\"0\",\"6\",\"1\",\"8\",\"3\",\"0\",\"4\",\"6\",\"1\",\"8\",\"4\",\"5\",\"7\",\"8\",\"2\",\"5\",\"3\",\"6\",\"4\",\"2\",\"0\",\"1\",\"6\",\"4\",\"4\",\"2\",\"2\",\"2\",\"7\",\"9\",\"1\",\"1\",\"2\",\"5\",\"4\",\"6\",\"4\",\"5\",\"3\",\"3\",\"2\",\"4\",\"5\",\"4\",\"6\",\"7\",\"7\",\"2\",\"1\",\"5\",\"2\",\"1\",\"4\",\"3\",\"3\",\"9\",\"0\",\"8\",\"5\",\"6\",\"1\",\"2\",\"1\",\"9\",\"9\",\"0\",\"6\",\"7\",\"5\",\"7\",\"9\",\"4\",\"9\",\"3\",\"4\",\"5\",\"4\",\"5\",\"9\",\"1\",\"1\",\"5\",\"9\",\"9\",\"7\",\"4\",\"3\",\"3\",\"9\",\"7\",\"9\",\"4\",\"6\",\"1\",\"7\",\"9\",\"6\",\"3\",\"3\",\"7\",\"2\",\"0\",\"1\",\"9\",\"0\",\"1\",\"9\",\"0\",\"2\",\"3\",\"0\",\"1\",\"1\",\"0\",\"3\",\"1\",\"0\",\"1\",\"1\",\"4\",\"6\",\"1\",\"5\",\"0\",\"6\",\"1\",\"0\",\"6\",\"4\",\"1\",\"3\",\"5\",\"2\",\"4\",\"0\",\"6\",\"0\",\"6\",\"7\",\"4\",\"5\",\"8\",\"0\",\"2\",\"2\",\"0\",\"4\",\"9\",\"2\",\"5\",\"9\",\"1\",\"7\",\"3\",\"4\",\"9\",\"6\",\"1\",\"3\",\"1\",\"6\",\"1\",\"0\",\"8\",\"8\",\"9\",\"5\",\"8\",\"1\",\"5\",\"6\",\"2\",\"7\",\"6\",\"6\",\"0\",\"0\",\"1\",\"6\",\"8\",\"2\",\"1\",\"8\",\"2\",\"7\",\"0\",\"1\",\"2\",\"2\",\"1\",\"8\",\"7\",\"1\",\"1\",\"9\",\"1\",\"8\",\"2\",\"0\",\"9\",\"2\",\"6\",\"0\",\"5\",\"7\",\"0\",\"7\",\"0\",\"3\",\"3\",\"1\",\"1\",\"7\",\"4\",\"6\",\"3\",\"2\",\"1\",\"8\",\"3\",\"5\",\"5\",\"8\",\"7\",\"1\",\"2\",\"8\",\"0\",\"2\",\"4\",\"7\",\"2\",\"2\",\"7\",\"6\",\"5\",\"5\",\"3\",\"5\",\"2\",\"4\",\"3\",\"6\",\"7\",\"2\",\"2\",\"0\",\"6\",\"8\",\"0\",\"5\",\"1\",\"6\",\"6\",\"0\",\"6\",\"7\",\"0\",\"2\",\"0\",\"4\",\"4\",\"4\",\"0\",\"0\",\"2\",\"7\",\"3\",\"1\",\"5\",\"1\",\"4\",\"8\",\"8\",\"5\",\"1\",\"6\",\"4\",\"6\",\"4\",\"4\",\"3\",\"1\",\"9\",\"9\",\"4\",\"2\",\"0\",\"0\",\"4\",\"0\",\"7\",\"0\",\"1\",\"4\",\"0\",\"0\",\"7\",\"4\",\"9\",\"1\",\"0\",\"0\",\"5\",\"2\",\"8\",\"5\",\"7\",\"2\",\"4\",\"6\",\"0\",\"4\",\"8\",\"5\",\"6\",\"7\",\"8\",\"1\",\"1\",\"0\",\"4\",\"5\",\"2\",\"0\",\"0\",\"9\",\"0\",\"7\",\"1\",\"7\",\"4\",\"4\",\"9\",\"5\",\"4\",\"7\",\"9\",\"8\",\"0\",\"2\",\"6\",\"5\",\"4\",\"7\",\"9\",\"3\",\"6\",\"4\",\"7\",\"2\",\"5\",\"0\",\"1\",\"1\",\"0\",\"2\",\"1\",\"4\",\"6\",\"0\",\"3\",\"8\",\"0\",\"0\"],\"x\":{\"__ndarray__\":\"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\",\"dtype\":\"float32\",\"shape\":[1860]},\"y\":{\"__ndarray__\":\"rS0/wT3xMsFSF5xAkcbxwWXi8UHD0OdB+lPmwG4MgMECAj3AD9wVQgu4cMBeFIbAGEs7Qth7LEIiwIZCmVGOwdDVBkKJLUDBL01ywXb0/MDXiD/CflEvQlCCGsGII5BAXVgowpId1789I0dCjobkQfE9bsInSEnBgx/iQSKETMKUulJCJ12bwdzYTcL4sSRC+HcewThZYULeXYDBaYQcQgupfMAMzr++Q30xQhV3Z0KiLzxCJJmHwjZbgMB/5C1Cqpg6wX4nS8KnveZB+SiLwJseCsLHlo7BUbNUQjFYJkInUk7CTJwjwUsyeMH1IxTC2x9/wvxGTsLeFB9C2/uKQb7XhkKd0oNC4rUnwRlmBEIU9ltCnAeQwMF7SEB4RbpA7pJzwdKgKUKlTtRAn3V3wkMudMF05ttBpMAXwq+QHEJvaR9CU3h4wdZUm791MiVCH2AMQpfbhEL64mdCOCMLwhcFdUEO/27CMtpEwqHVWcJrxSbCgEcfQqotFcGPnBbC3Cs4wjGUHkJXUb1BDyIKwVKhacBHDlDCwJs0vyJwVsHszC1C/aYFQkkmm8HsFCJCx7QrQgLbWMLjabjAYY7iv52TNMAzPDBC+azHQS7y3MAfJw7AthO0QUZlPsEavePBVflWQjDiW0GPU3zCmVdXQgw7DsIFWixCtnA7QRxJMcFOEkJCS/gpQccDJEJAyoxAFwAgQkR4fcEKrkrCBKEHQpYIQMKQjzNBBuIlwa3tt8Fl0RpCaEykwUKP0cD2hyhCp1MyQi3JZ0AFmFTB+NkQwj84/EFnuqjBR+llwtce97wsIplB0ABzwrJbEcGA18BB4veGQmAOsECNKZFC6yQkQkPaEkFyTtTBVnSoQFwLWMETvR9C4qQwQnjPFEI9hpvBUYNrwIerS8G9TZnBvMAXQgUqBsE+79HBEZ6IQu7qiT2U0rfBpmxCwWh0IkIDO/zB0TVIwpCKDEJ5v89Bc4zQQeqHc0EuZvBBgt6DwSM8ysH/ablB8axZwfcsHcGvTR7Cs3uqwSwMWEI1tBZChxoFwTd4h8EzgNBA+WeAwRdANkKPplpAGNmAwWhlksH2iwDBgJQ1Qvj+7EDkms9BXdv3wIC4CULSgATC4xtUQgk6+kEEJIzBxIcXwZbHpMGllIBAOMvUQRdSFULJExPALwqiwarzxMDpPwTBuzkfwfceSUJxV0vADWvEwJNCSsKAtDJCD3l9wlSXDcLGO+xA9WvnQG6fHUFrNl1A5vfPQT/Y1MAidiDBOTqIwfkLycEM8DdCpjmEQb3BRMJ2HTNCu875QT+KdcD2XB/Bvj0aQlXeGkI12E/C9nUmQqu5J8JpTzzCXk8JwXhowj8sDUNBAicAwWw6RULhLRvBus4AQkXwOMHfGorBDKJ4wb/RUUJjyi7A/ZqGPy638kCI7wjCU4mzQdt5IkIlOaq/reLMv+77m8FZaQi/LDXJwErMLkIpZE3CPrSIwQIfsz040OtBjXoxQosEIMIPGkbB1AOkQSgxHL9HF9rA919MQiNqnkC+WvlBWD6wwWrpEUI4tEfCYFbWQdKV4kGAquNAtZr0QSwcHcL+XDrBivdyQpSBDEIA8pjB1k1LQn7zzb40BSrCjQdKwt+zjMDQLStCa8CEwRa0qD9qEoPCmEqJQnKwzUFiPQvCXtrbwG61wL8VvyJAW+JlwfhvZcIi2xNC5/TWQfd58sEg4hLCTQERQnOQeUJiZ9vAj4APQi/3NEJcT8xBXHUgwg0I+EFxTk7B+AlnwutaEEIkcINCHqMUwjZDGEKELE3CVasAQkKtQMIlQFZCL6MUwiBWCEL57eNBeE2EQiLglELso7tAXB47wHYYE8A6p0vCF92AwW6dRcIc2xJAfaBdQnkvJEFi4yA/97+fwTbSHUJ6U/VBUaE4wsHnXcEzxDBAPFSJQr08LkBoxRfCqkPswEGoY0HsxEnCy2K5wHcEVsLxCoRCdbOPQD2oG8LhqtpBhWWvQa3xScFFV1bCw3UnwVrfTcLkySxCJEAFwiClYcJXYzrC2c0kQj9+A8F88kQ/gLyBwRDb3juBWDJCsbELQqRBYsKUjUFCoKoywRpbc8H6/E1CE29UQim4zcHTZ9hBAPgUwsO+CUJhP2LBnKwKQlM8IELDmCxCe38ywHePCsIXtWtBXbUkQgJs18B+FeZBMt4vwt2sZUL8kF7BiUEvQnSc7sF2627BltweQjirAkJq1YS+xLUAQcSYMUDxkIfB0uBQQgwBBUIIhUJCYf9qQmXIAkIxBzC/uwHVQU4HFkLZyjHBvmM9QhkY1T6ird7AqKDHwV5hLUK6gxXBbEj6P3DHS0KSbyrBU39vwNXrKMIxnHXCMVbEwNmt6b4ULRBC0/oiwSL1ccIqagvAOMWDQi7ZVUI1IWBBl49SwlO65EHahExCj5sWwWyvBsKLxr1BiIoNQlMBB0KZlHrBOu9UwVTSrMAYeanAI44bQtmT0cCD0hNCEzo6wsowcMDjHFjAjBkIQoGhvL8OoZzBYC1rwYe3IEIRdQzB2tLlQacsMkJWPAPAEoawQHAAgMHtk3ZCKNTuQQOgAUJPf6vAwxnIQcg3j8De36zBuqWDQsSLmUAyVK1Byt4wQWkKEMEEth/BbEJmQoYfjcEQvAtCwB/dQRoJS0JMyx9CkXnsQVD4wMHMKxfAJKZOwlPBV8FxzADB8KpHwnAgtb/+pR/AZJIgwr9zAkKT0h1CXCGFwpUvUMCU4rQ/7CRmwUz2FMGD2vBBC3lvwuA5KEILe83B283owHWdl0EXbmnBSfvAwPRWPD4i5YXBpN8VwiJaSEJQafhBCW3qwStNaL8GH1LB2IhsQqD7UMJhcgHB3s1Hwls2a8HHZ+PB/7CTwUQKGEKcE/i/sjPNwVIwFsLXRQdC5uETQmguzkH1NunBwGcGQUO6LEIHnQdC3KYSQjugIUKHKWrCWY27P9cILELSjrZB1ulOQoXeZcL+uXxCVpFdwT8V50G88oJCiIctQoqhAcEWQSFBPfJ0wb4PasJc20PBmDoEwf4+KUFCMxXCVAjLQV5nekLBMyjCpvxtwt6N8UEDSHBCzf2QQhUtO0JM5njCrOZDQnFt9UFNJ+9BRRhnQnoadsBa3ifBVFgbQrLdS8KPUTVCP7RnwqZuTEIyazDCVgODwRMbg0KJQHLCgz86QueEXsE82VzBZ1llwYIAWsKaKP/AVwXZvvXnD0KpZrI/2t9nwQClPcIz1WhCy+IIQki7mMCOqSJCGCFPQqehVkJtq+9BBC02wdeP0UFgta/BBARUwVvTKMKvTqM+yyYRQMACXcKH7wzCWOqhwBteT8Kaop7BupagwbDwlb/UFHi/kTWMQjlSMcFv0RPCVGFwQo4Y1UEMvVA+ncsEQhdFgMKVs3jCcL4lQo7Y078zOX/C9RjdQMxaV8H5+47BrkQ5wlsQN8GJVMpAghwfQoZ1w8DJWOXAWR6RQkVN0MB/MQFCE8JAwgVhMUIXnZzBJjMtQiCdccCIkelBeo5dwDOxTz9Ng5vBTTEawZOP4cHyugxC2s1VwiQ5BEKtGqfAC09eQijciUJyB/BBcsUOwX2fFELkfFTC62oJQvxGU8ImJ2vC1u93wv2lIMKIHLZBPK8RQqSMgMGEpILB+/9jQqw7HMKk3DtC/L0YwiG9OkKD0JfBcsAqwaxNKULPxFFCySERwjA5VsK4JE5CA7gHQoXgYMFUfZbAJqoVwtoGOkKF8ETCKD4yvw/8ocFOYBbCIp34wdB/acGTgQQ/1FdowlZIucB5rXnCRX0oQvkeDUI/qBrBNDNQwmV2TMHpgpJCALwIwA7m9UHSeINCqlykwH4PbkJwwB5CyqTJwYCqc0L6qg9C9ChSwDGqD0KNkC7ASqsIwY4AIUJi9xpCc5qYv/qKI0KVNjHBVdA4wd6yGkKUEinCcFhOQo9iP8LNKxvCOtrVPw3CsEGwMDbC4MYqwVGLVcKivUTBGUZkwgeuEELVRjxCsG0hwLLo6EHvSpHAGAMSQp62KEJx+4PBtjkwwVqWW0DwzIbCCMfzQJNWCEJgZUFCjwReQGbnbELhyfw/TnbXPxaULMH1XSxB9VSsP4owwUHN+D6/qEjuQX1PNMDYFUrBln1xQpQ1EsJkAmbBdytRwjaHdEIOqDhCPObmQSpdGMIFqiXAbvw2wcEJkkLiu2fBPJQ0wckJMELssXtC4cUNwjndfEIOIQ3AA+buQakOlcByF4HCUyRdQgdn2UFvoWFCKebgwZNJssDV1l7CUE53wr6AT8Gj0BNCaVBmwddwB8JSFoDCxuq9vrdEJ8ErsQDBHqeVQgZTFcLVQNRBygfev/ncBUK+55/A73QJwZe+QUDKqg3Cc2hYQJd2EsJZhyZCkYzmP+mhQcLiQOJBQcMHwj/8s8D9IvG/mUp3wN+jDcBwZDbCbFBTwZdjt8GsnSFCz0vLwLzMbUC0o21CUszWQYWFGcJBF+9B5loYQgA0KUKKQBpChgy/wTp/YkK8oDBCxa4fQEh+tMH5uwbChNecwLnVp8Fu8mNC18dDwge2IULq4T1C97VnQulCJ8HFygFC6+pOQoSsRMFPnkG+3fiCQjDCiD5ZA81A46Y+wWbrWcEKlPZBiR9UwbPORUIXP1PCd7Grv5Oof8I6I5E/bjArwmcjFsJwQ6K/BfwbwkJ54MCIxr9Adhf8wD2x9kCeX1JCh9ekwUoGRUJMX8tBX2C1wGG328HamFTCbAV+QLPRicCspHRCQXwBwXIaFkCSTWfAq4JIwSfDEsJ/MxvCSrsMwsPbqEFCbnRCuNUqwdMLt8F0oFFAS6PpQegkJUJ4iDHBrZYDQkuFEkJUXDHBX9sWQHw88sDUvN2/dL+yv+JPnMEgODnBIfn/QewXgb6TMPNB6yL1wIt7o0FTMtRBWHnIv8m0NkIwPZm/I3v4wKG/y8FoJMK/JoeDwvSbP0JRG9tBlnhoQEx+80GJkxZCFuexwM9tDMHykhTCy8uOv45hXEKZjUvA4UUTwhnXjkJA1SXC147vP/sxfUKso+5BcqOhQE7KDcL0jupB298wQWB7b8EfaFrCUBD1QBSDgcFBY2lCeEf7wYWyHEFG3kPBh+fUQBWRdcIUcAJCSvSlwZ2pG0IbAylC7s0fQjXzTcAVHQvCdhAoQm/AXsK4kDhC8/qpwceoJEIFd7tByFWswb3UwcHPnihAecM3wNPGqcEzHu/Ba90SQsylksEGqAhCsjsVwknwXMF4Ke1Bp+gAQMpm1UF4VjRBdF4rwNXwrcGdOA/CcLUUwirWhcEgiSHBil3NQKq/CcIVOirCHY1ZwSgCtcAz2y5CrlkUQllEP8J18UTBkXQWQNJeE0JE3L/Bzc6OQPFDIEJFEnJAnaQjQp6DSME2q6s/5PAmQn//nUAiApXBaApLQhNi+EED/VNCv2lCwl5VGkJDd0TCUsAQQglOMUJGRzpC7el0wZ1z2EFBs4bCl/AhQgSwbMFXc/vBDw/WQOzrJEJ8PlPCIuX8QaWki0KtG/vABsuRwLKaOMEbvAzCPZh7QorIy0FnFkQ++eFhQrCqgUIM5xHBiDoUwvGAIME5meFB+ZTRQfUR7EAFvp8/DKVCwZfDe0HOnOi+g3X7v+onej99+TZC/ro5wfFIgEKrXzdA749MQqiPRcCpjSHBWPJEwgikG0KERtjB9LBTwt+0qcEVnfZBrzzZQWyoRkKolclBBhs/QsxSHcIpq1lCr9WHQD1l+EHlQAzCUSr4wL2YvUF47eLAjJwmQgqpI8EdYC/Cl0pBwd1cC8L0BW3BhkJ+QgPgIsKsmovA67JtwdNjbMKLZzhC6DpHQr2sbUDEEDhCd11iwuJgI0KZ/7y/agR2wsNUBULFB27CPwIvwH4uBcLwtxbBYH3lQcgLFkJbEE3ByssQwgyhHcFiefXAbGqEQpTzIkLKsq3Bn2oCQooYE78fdl7Be5/zQfJyGT98lwbC1v8AQESEhUIH5pDAKxZzwhI30cFTkxDCNLUiwZ4lK8BkQA3CRQh4QveqekFXqytCmQxFQo22PcJM5iZCUf4eQjY4PsEVZxnBT1d3wRstl8BSMcLBBKl1wd3sTMEmfNM+HouDQkha5cDzuWbBPRc+Qoe8KMHIlGzC49pXwrFYMMHu0B/CEzNlwYrMgD8Zw5BA1tCPwJ9MO0LYDPg/aT3YwEKdfcF+WYM/Q+0owDZUZsBm6z3BXrGuwHcaHMJ67urB9O5XQTBTVsCdABXC6JEeQsREY8AEkGHArz9mwlFyhULfTbHAqV+yPyOFgkIHwP9B85MXwhF0EELbeABCYuWAwDGe8UGEO0nB4UkRwbOH/kEKkWhCTmYFvy3JvEEzEYlCWeGeQK2zPMHIqgXBnR7XPwxj78EIRIlCDdTSwfBoAMHr3b1AHaRJwsBDiMGhAh3Cy1tSwY3wQEIoryJCK9wDQmzkZME8CxZC9xtPQpfsSEIWD0HB8jyCwGnTScFl8r3Ai2+swPSCUsEeAVnBzq5BwizBSsKOjxq/x1+LQMrzMcI70cRBn0sVwmYkH8H/bjPBfGjBQYnKPcLu6K7Ae8lcPwrmO0DCDHfBXZntwRJ8F0BmZofAiSRUwhfa60F321bB5owhQvvABUIQAxPAzWFTwnRobMLcT9RBgM6jwErrwz9rTJ7Bg6WWwO/MWsJttJ3AMy7iwcCHPsCWQgjCmzSdwTUsbkJQlxZCdSULwYbNccGXl5jBQ+rFQBAwK0IdMILB2i0swYjYLkJbVwpCduYKQshXvT/ItVfBunWTQnC5H8Kmzdw/BVGcwNfOW0LYOHfBe3sKQmDhaMKURTdC/W9OQkINSEFMpOZBLGkrQpgq5EG+ArRAqmk+wOPIWsFB/hnCRQOiwaBAGEKbjyhCguW1wAQ2NsCURLTAhFWrwJvXF8GJHP8/VRUMwqyCYcE9eiZCo2ZGwuzM4768s0TBIr4cwlDeQUCVieBBwp/jQapOND8ITeBA06joQfUOtMHXpVbC+loMwhXgMMLgKJtAfHGJQc2JBcHEn6fBKncuQojo3MG1cG1ANeKFwnEo8r8L4BhCfBBuwpOy+sFYQYvA0Q8rQrBSK0J2pkrCipBXQhLzd8JwLdhB1K/LwWULBkJ3LdnACHYgQOIyCMLzO/XAfy8dQnESDUJs4Om/l2ASwhcZQUJzIPTBqZAtwWIlYcFE3DHCn4djQhHVScAk6idCbSEuQPE1F0J3iiRCF7eAwIt6e0IzO4TC6PzRwVBKk8AmdlDC04cTQov6G8FJecdAn0JowffMOsFUBizBfNQ9QtzeDULwSYHBbsILwu0eIkKUyG3BXqdrwgltPME5zxnBcB9IwrgcHsICSaFABWzNQfE4vb8bzFnC8F8tweqPAkIAtVhCHgedwdeTFsF4v8pBDUfVQCM8yUF0khtCaTi/wcBU08HnUAvCHnWAwTtUbcG4vl5CSgQawlePbMGwTCZCs3cVwWfvjj/QKnNC4uzeQb69T0D36z3BbsEIwVyfbsD+4AtAYK1pu1sWv0GENwBAp4shwg/l/cEelXRCovzUQZBeC8LBL0nCZPXqwB4eBULsMy5CPVcpwrhqcELgyA7B0cG7PyM3EUJIGUfBg1c3wMcvHD+gSmFCGXcdQRSYJMEqYntCq2znwDv/+EFzaDfCvEyAwhFzDMJDkHzCTGpZwcC3KMFEDj6/y7Vpwm4ZasK/WYG/JsvyQYXVgEIVEJpAVG2KwW3AFkISyA/B3vhoQBvtRsIAjCvA88GAQpRphsFa3irB992EQp73C0JDrBDCKBN5QqC+GcLXKEPB5XkGvxvf+kH1shnAAVz+QRc3AEKnDGRCXOnWwKnpMsK2+R5Cb8QSwlWMeELWIg+/NocewiO98MDecuk/XV6mQLOn30FVrULCGBZqwvn8CMGSKCtBsZjlvF0KikLZSBHCCcVewiUmC0IVatFBKxpIvngUB8IlrVhAKXLXQaxCJUIuHQ7AzN2nQD+2j0JedF7CAWaXwVTQG0IoA1lCgDmUQJMWZsHjIsfBtXfWQQopEkIaaGtCNSQGP6r/LUE51CtCW12DwHEqF8KNdhLBln9XwgO18kGs01DAJliMQpgqTEIgVWDCu5DdQRDaE8BZVmFCKyg3Qt5ZSkLVL2XCFF9zwpGddML1VRvCYhy2QG0Jh0DLEVzBd7JNwrDABcAVOuNBdexvQpN6V0KGFX1BiLE4webDZcFLLVXCx0sYQuSoucBSTVRCUmJQQhDM+cFxuhrCMpORwcX5JT6YG2S+hQ9UwnN8SEDUYC5C99z2wcPqzcHIaNbAJpYPQtspPMHxRz9Bk/OPQm2WNECJUkrCaUGQv0FxM8HnB1XBlsnqQbx0fkJIyJ7BvL1sv6jBDMIpUDLB64ogQjjjiD8itNXBQ7A0Qu7uJkDZUUVC2ZJTQZj8YcGf+xnALjgVv7hRC0LdjkrBTUwTwcG6JcI//SVC4og4wrK2GcFvPhrBAysLwnEVUcHyqCBCjhSCQvBr9MDm0BnC5FH1Pvx7ZEIdzJ/BkiKuweHF3sEs3EbC9WHyQfWZzr+Yi8/AmAT1QZDPkr8/HEhBcxEIQgrWVsLnbz3BuPrLQbwlrMDI3oTAxnwMQkTGJsERoag/18QbQmVb0L8ACdu/+nY8QmBEaUInDjI+YeQxwJ9d2UFP+4VC16QTQHFMKEJbvIFCvecqQoQtqkDZf0zB3stfwGjRU8IHRz5CAunMQdwyXkJsDeBBhCeEQlT9GcIsYUpCzSmbvmqowsHGsjZCdx9cwkRaTcL6duZB4tR6QvBDJMH0rEjCVfrqwOAXCsF4HSU/8I4TwpIHecEdcB5CeLc8wbY1c0KV1I7AocepwAjCR0Bfu39CFzxXPzq0IUJXtVfBFETiwGUXCsFgLapAxhcnwSCxLT4X8kRAItlYQsh6AsI8aYvBApiFQkWsf0I2nCZCdjZCQo50k0D4j35Cap9LwUHTfMK1KgFADxB8waXtVcIQ9g3CmZQFQkXmOkDsaj/CXBJBwrlaxL9IhUHB1+oswou9Ar5yQ4y/aKEaQqa5RkBebCDBHmVfwsMiob/UYArB8sFLwrjshEJ5yu5BzhltwLOYvcF87TJCuOYlwupal0GcpnjBRCWJwWRbjkAjYfJACwYfwt0CNELIsoBCOyE9waeMQcLCQsw/5jprwA6po8HjSxvAIWSZPiT5S8EhmBzCd2AvQNDVb8L5EuPAFYL/QXJieMI1hzJCauQSwhpSScIJpE7Cn0QCwmCqgkLzCuDAiS3LwQONMMEWVDfA8w9JwZWpNEIA1/HB4kBgQhKTCsKOj+HBEUhdwn5x4EG8LX1C1qbpwJJOCkLrm5O/Rm1cvRUZYkIFoIpCQE3SQULFgUI6yhHCW/HcQeGvgsKidzFCxRgwQh1oM0LGISRCDrMTQv731kHDumXCb5Uawko6mMF5RZ3A+rKaQYb+uUC55h9CEO7swD7Hi8FxIZPBwS0aP1VqgEKhzx9Cg2BqQpjpIULs1ydCveWHwUHPGkD+oJDB0DWGwaS0EUIlCk3CgRe5QYE5rUF4CkJChMMrQkmpIMIM0SBC35HPPyv+50HfEBRCTlPKQdMH88HWHRJCaJwIwVm56L/AbBVCJhb1QZ3YrEFRHzTCNw8owc1OwMBvgBzCExFXwt1cRUJqjhJBUob9QboDQUIeeQvB0VaGwBWChUJNuvPBQE0twawCMcGPMnNAdVbuQYn7I0JofinAIeyBwmuK/UErtzxCBQ9AwJv2A0IAdfrBHuC7v1b1FMJEdy1CQff/QRJRl8Ah2ozAQ/bxQVdqAsLk1WnBRb9wwQ+LAkKCF3jCG+RSQnFUW0C97DtCexMUwhjxW78ixpDBXw+HQuKaGkJ7fRrChWlnwjkds78Fm+dBK4SHv+jLksBt5ARCe4tkwqBgUED+GVRCN9NeQvrn5EHJr6jBGUVIwYtVG0KreuFB\",\"dtype\":\"float32\",\"shape\":[1860]}},\"selected\":{\"id\":\"7e1ca240-f157-4859-83d0-3e6ce4ed8922\",\"type\":\"Selection\"},\"selection_policy\":{\"id\":\"78bb0679-ff55-40ad-a23e-60a03b0a70f8\",\"type\":\"UnionRenderers\"}},\"id\":\"dd103519-73ca-4b7d-89fa-fe6881593258\",\"type\":\"ColumnDataSource\"},{\"attributes\":{\"source\":{\"id\":\"dd103519-73ca-4b7d-89fa-fe6881593258\",\"type\":\"ColumnDataSource\"}},\"id\":\"7dd37a60-39d3-4759-801c-dac83ea682ac\",\"type\":\"CDSView\"},{\"attributes\":{},\"id\":\"b0ba603b-92ff-4888-b732-39419f52ba1c\",\"type\":\"PanTool\"},{\"attributes\":{\"plot\":null,\"text\":\"\"},\"id\":\"07b97777-80fb-4980-b182-ec75f3da5288\",\"type\":\"Title\"},{\"attributes\":{\"label\":{\"field\":\"label\"},\"renderers\":[{\"id\":\"6f9953af-7b7d-4c48-9f60-405eddc4b9f0\",\"type\":\"GlyphRenderer\"}]},\"id\":\"ed7c30d9-1e9e-4f7f-8af3-64ebe17ec6b2\",\"type\":\"LegendItem\"},{\"attributes\":{\"fill_alpha\":{\"value\":0.1},\"fill_color\":{\"value\":\"#1f77b4\"},\"line_alpha\":{\"value\":0.1},\"line_color\":{\"value\":\"#1f77b4\"},\"x\":{\"field\":\"x\"},\"y\":{\"field\":\"y\"}},\"id\":\"865353a5-3e14-4515-af18-832c64f26a62\",\"type\":\"Circle\"},{\"attributes\":{\"bottom_units\":\"screen\",\"fill_alpha\":{\"value\":0.5},\"fill_color\":{\"value\":\"lightgrey\"},\"left_units\":\"screen\",\"level\":\"overlay\",\"line_alpha\":{\"value\":1.0},\"line_color\":{\"value\":\"black\"},\"line_dash\":[4,4],\"line_width\":{\"value\":2},\"plot\":null,\"render_mode\":\"css\",\"right_units\":\"screen\",\"top_units\":\"screen\"},\"id\":\"e45b4018-6ec8-457f-8832-7004370f84e0\",\"type\":\"BoxAnnotation\"}],\"root_ids\":[\"fb363510-2c7d-4ada-882d-bc6cc04d7a8a\"]},\"title\":\"Bokeh Application\",\"version\":\"0.13.0\"}};\n",
       "  var render_items = [{\"docid\":\"cbad6000-b9cd-4d1a-ad7c-8fa945bab688\",\"roots\":{\"fb363510-2c7d-4ada-882d-bc6cc04d7a8a\":\"a715188f-1f1e-4b7f-97a2-4c170d5e1308\"}}];\n",
       "  root.Bokeh.embed.embed_items_notebook(docs_json, render_items);\n",
       "\n",
       "  }\n",
       "  if (root.Bokeh !== undefined) {\n",
       "    embed_document(root);\n",
       "  } else {\n",
       "    var attempts = 0;\n",
       "    var timer = setInterval(function(root) {\n",
       "      if (root.Bokeh !== undefined) {\n",
       "        embed_document(root);\n",
       "        clearInterval(timer);\n",
       "      }\n",
       "      attempts++;\n",
       "      if (attempts > 100) {\n",
       "        console.log(\"Bokeh: ERROR: Unable to run BokehJS code because BokehJS library is missing\")\n",
       "        clearInterval(timer);\n",
       "      }\n",
       "    }, 10, root)\n",
       "  }\n",
       "})(window);"
      ],
      "application/vnd.bokehjs_exec.v0+json": ""
     },
     "metadata": {
      "application/vnd.bokehjs_exec.v0+json": {
       "id": "fb363510-2c7d-4ada-882d-bc6cc04d7a8a"
      }
     },
     "output_type": "display_data"
    }
   ],
   "source": [
    "plot_embedding(y_pred, labels, named_labels)"
   ]
  },
  {
   "cell_type": "code",
   "execution_count": null,
   "metadata": {},
   "outputs": [],
   "source": []
  }
 ],
 "metadata": {
  "kernelspec": {
   "display_name": "Python 3",
   "language": "python",
   "name": "python3"
  },
  "language_info": {
   "codemirror_mode": {
    "name": "ipython",
    "version": 3
   },
   "file_extension": ".py",
   "mimetype": "text/x-python",
   "name": "python",
   "nbconvert_exporter": "python",
   "pygments_lexer": "ipython3",
   "version": "3.6.6"
  }
 },
 "nbformat": 4,
 "nbformat_minor": 2
}
