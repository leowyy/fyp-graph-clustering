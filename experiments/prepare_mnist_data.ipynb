{
 "cells": [
  {
   "cell_type": "code",
   "execution_count": 1,
   "metadata": {},
   "outputs": [
    {
     "data": {
      "text/plain": [
       "'/home/leowyaoyang/fyp-graph-clustering'"
      ]
     },
     "execution_count": 1,
     "metadata": {},
     "output_type": "execute_result"
    }
   ],
   "source": [
    "import os\n",
    "os.chdir('..')\n",
    "os.getcwd()"
   ]
  },
  {
   "cell_type": "code",
   "execution_count": 2,
   "metadata": {},
   "outputs": [],
   "source": [
    "%matplotlib inline\n",
    "import matplotlib.pyplot as plt\n",
    "\n",
    "import os\n",
    "import numpy as np\n",
    "import pickle"
   ]
  },
  {
   "cell_type": "code",
   "execution_count": 3,
   "metadata": {},
   "outputs": [],
   "source": [
    "from core.DataEmbeddingGraph import DataEmbeddingGraph\n",
    "from util.mnist_data_loader import get_train_set, get_test_set\n",
    "from util.plot_embedding import plot_embedding, plot_embedding_subplot\n",
    "from util.draw_random_subset import draw_random_subset\n",
    "from core.DimReduction import DimReduction"
   ]
  },
  {
   "cell_type": "code",
   "execution_count": 4,
   "metadata": {},
   "outputs": [],
   "source": [
    "parent_dir = os.path.abspath('..')\n",
    "data_dir = parent_dir + '/data/mnist/'\n",
    "#inputs, labels = draw_random_usps_samples(data_dir, train=True)"
   ]
  },
  {
   "cell_type": "code",
   "execution_count": 12,
   "metadata": {},
   "outputs": [],
   "source": [
    "train_set = get_train_set(data_dir, augment=True)"
   ]
  },
  {
   "cell_type": "code",
   "execution_count": 13,
   "metadata": {},
   "outputs": [
    {
     "data": {
      "text/plain": [
       "60000"
      ]
     },
     "execution_count": 13,
     "metadata": {},
     "output_type": "execute_result"
    }
   ],
   "source": [
    "len(train_set)"
   ]
  },
  {
   "cell_type": "code",
   "execution_count": 14,
   "metadata": {},
   "outputs": [],
   "source": [
    "inputs, labels = draw_random_subset(train_set, 10000)"
   ]
  },
  {
   "cell_type": "code",
   "execution_count": 15,
   "metadata": {},
   "outputs": [],
   "source": [
    "X_unrolled = inputs.view(inputs.shape[0], -1).numpy()"
   ]
  },
  {
   "cell_type": "code",
   "execution_count": 16,
   "metadata": {},
   "outputs": [
    {
     "data": {
      "text/plain": [
       "(10000, 784)"
      ]
     },
     "execution_count": 16,
     "metadata": {},
     "output_type": "execute_result"
    }
   ],
   "source": [
    "X_unrolled.shape"
   ]
  },
  {
   "cell_type": "code",
   "execution_count": 17,
   "metadata": {},
   "outputs": [],
   "source": [
    "dim_red = DimReduction(n_components=2)\n",
    "X_emb = dim_red.fit_transform(X_unrolled, 'tsne')\n",
    "with open(data_dir+'mnist_train_tsne.pkl', 'wb') as f:\n",
    "    pickle.dump([inputs, labels, X_emb], f)"
   ]
  },
  {
   "cell_type": "markdown",
   "metadata": {},
   "source": [
    "## Test data"
   ]
  },
  {
   "cell_type": "code",
   "execution_count": 5,
   "metadata": {},
   "outputs": [
    {
     "data": {
      "text/plain": [
       "10000"
      ]
     },
     "execution_count": 5,
     "metadata": {},
     "output_type": "execute_result"
    }
   ],
   "source": [
    "test_set = get_test_set(data_dir, augment=True)\n",
    "len(test_set)"
   ]
  },
  {
   "cell_type": "code",
   "execution_count": 6,
   "metadata": {},
   "outputs": [
    {
     "data": {
      "text/plain": [
       "(3000, 784)"
      ]
     },
     "execution_count": 6,
     "metadata": {},
     "output_type": "execute_result"
    }
   ],
   "source": [
    "inputs, labels = draw_random_subset(test_set, 3000)\n",
    "X_unrolled = inputs.view(inputs.shape[0], -1).numpy()\n",
    "X_unrolled.shape"
   ]
  },
  {
   "cell_type": "code",
   "execution_count": 7,
   "metadata": {},
   "outputs": [],
   "source": [
    "dim_red = DimReduction(n_components=2)\n",
    "X_emb = dim_red.fit_transform(X_unrolled, 'tsne')\n",
    "with open(data_dir+'mnist_test_tsne.pkl', 'wb') as f:\n",
    "    pickle.dump([inputs, labels, X_emb], f)"
   ]
  },
  {
   "cell_type": "code",
   "execution_count": null,
   "metadata": {},
   "outputs": [],
   "source": [
    "# # Deprecated\n",
    "# num_datasets = 100\n",
    "# all_test_data = []\n",
    "# for i in range(num_datasets):\n",
    "#     num_samples = np.random.randint(200, 500)\n",
    "#     inputs, labels = draw_random_usps_samples(data_dir, n_samples=num_samples, train=False)\n",
    "\n",
    "#     # Package into graph block\n",
    "#     G = DataEmbeddingGraph(inputs, labels, 'spectral')\n",
    "#     all_test_data.append(G)"
   ]
  },
  {
   "cell_type": "code",
   "execution_count": null,
   "metadata": {},
   "outputs": [],
   "source": [
    "# with open('usps_test_spectral.pkl', 'wb') as f:\n",
    "#     pickle.dump([all_test_data], f)"
   ]
  },
  {
   "cell_type": "code",
   "execution_count": 8,
   "metadata": {},
   "outputs": [],
   "source": [
    "from util.plot_bokeh_embedding import plot_embedding\n",
    "target_names = [str(i) for i in range(10)]\n",
    "named_labels = [target_names[l] for l in labels]"
   ]
  },
  {
   "cell_type": "code",
   "execution_count": 9,
   "metadata": {},
   "outputs": [
    {
     "data": {
      "text/html": [
       "\n",
       "    <div class=\"bk-root\">\n",
       "        <a href=\"https://bokeh.pydata.org\" target=\"_blank\" class=\"bk-logo bk-logo-small bk-logo-notebook\"></a>\n",
       "        <span id=\"a88337e1-d586-4460-853a-d4fac1b73aef\">Loading BokehJS ...</span>\n",
       "    </div>"
      ]
     },
     "metadata": {},
     "output_type": "display_data"
    },
    {
     "data": {
      "application/javascript": [
       "\n",
       "(function(root) {\n",
       "  function now() {\n",
       "    return new Date();\n",
       "  }\n",
       "\n",
       "  var force = true;\n",
       "\n",
       "  if (typeof (root._bokeh_onload_callbacks) === \"undefined\" || force === true) {\n",
       "    root._bokeh_onload_callbacks = [];\n",
       "    root._bokeh_is_loading = undefined;\n",
       "  }\n",
       "\n",
       "  var JS_MIME_TYPE = 'application/javascript';\n",
       "  var HTML_MIME_TYPE = 'text/html';\n",
       "  var EXEC_MIME_TYPE = 'application/vnd.bokehjs_exec.v0+json';\n",
       "  var CLASS_NAME = 'output_bokeh rendered_html';\n",
       "\n",
       "  /**\n",
       "   * Render data to the DOM node\n",
       "   */\n",
       "  function render(props, node) {\n",
       "    var script = document.createElement(\"script\");\n",
       "    node.appendChild(script);\n",
       "  }\n",
       "\n",
       "  /**\n",
       "   * Handle when an output is cleared or removed\n",
       "   */\n",
       "  function handleClearOutput(event, handle) {\n",
       "    var cell = handle.cell;\n",
       "\n",
       "    var id = cell.output_area._bokeh_element_id;\n",
       "    var server_id = cell.output_area._bokeh_server_id;\n",
       "    // Clean up Bokeh references\n",
       "    if (id != null && id in Bokeh.index) {\n",
       "      Bokeh.index[id].model.document.clear();\n",
       "      delete Bokeh.index[id];\n",
       "    }\n",
       "\n",
       "    if (server_id !== undefined) {\n",
       "      // Clean up Bokeh references\n",
       "      var cmd = \"from bokeh.io.state import curstate; print(curstate().uuid_to_server['\" + server_id + \"'].get_sessions()[0].document.roots[0]._id)\";\n",
       "      cell.notebook.kernel.execute(cmd, {\n",
       "        iopub: {\n",
       "          output: function(msg) {\n",
       "            var id = msg.content.text.trim();\n",
       "            if (id in Bokeh.index) {\n",
       "              Bokeh.index[id].model.document.clear();\n",
       "              delete Bokeh.index[id];\n",
       "            }\n",
       "          }\n",
       "        }\n",
       "      });\n",
       "      // Destroy server and session\n",
       "      var cmd = \"import bokeh.io.notebook as ion; ion.destroy_server('\" + server_id + \"')\";\n",
       "      cell.notebook.kernel.execute(cmd);\n",
       "    }\n",
       "  }\n",
       "\n",
       "  /**\n",
       "   * Handle when a new output is added\n",
       "   */\n",
       "  function handleAddOutput(event, handle) {\n",
       "    var output_area = handle.output_area;\n",
       "    var output = handle.output;\n",
       "\n",
       "    // limit handleAddOutput to display_data with EXEC_MIME_TYPE content only\n",
       "    if ((output.output_type != \"display_data\") || (!output.data.hasOwnProperty(EXEC_MIME_TYPE))) {\n",
       "      return\n",
       "    }\n",
       "\n",
       "    var toinsert = output_area.element.find(\".\" + CLASS_NAME.split(' ')[0]);\n",
       "\n",
       "    if (output.metadata[EXEC_MIME_TYPE][\"id\"] !== undefined) {\n",
       "      toinsert[toinsert.length - 1].firstChild.textContent = output.data[JS_MIME_TYPE];\n",
       "      // store reference to embed id on output_area\n",
       "      output_area._bokeh_element_id = output.metadata[EXEC_MIME_TYPE][\"id\"];\n",
       "    }\n",
       "    if (output.metadata[EXEC_MIME_TYPE][\"server_id\"] !== undefined) {\n",
       "      var bk_div = document.createElement(\"div\");\n",
       "      bk_div.innerHTML = output.data[HTML_MIME_TYPE];\n",
       "      var script_attrs = bk_div.children[0].attributes;\n",
       "      for (var i = 0; i < script_attrs.length; i++) {\n",
       "        toinsert[toinsert.length - 1].firstChild.setAttribute(script_attrs[i].name, script_attrs[i].value);\n",
       "      }\n",
       "      // store reference to server id on output_area\n",
       "      output_area._bokeh_server_id = output.metadata[EXEC_MIME_TYPE][\"server_id\"];\n",
       "    }\n",
       "  }\n",
       "\n",
       "  function register_renderer(events, OutputArea) {\n",
       "\n",
       "    function append_mime(data, metadata, element) {\n",
       "      // create a DOM node to render to\n",
       "      var toinsert = this.create_output_subarea(\n",
       "        metadata,\n",
       "        CLASS_NAME,\n",
       "        EXEC_MIME_TYPE\n",
       "      );\n",
       "      this.keyboard_manager.register_events(toinsert);\n",
       "      // Render to node\n",
       "      var props = {data: data, metadata: metadata[EXEC_MIME_TYPE]};\n",
       "      render(props, toinsert[toinsert.length - 1]);\n",
       "      element.append(toinsert);\n",
       "      return toinsert\n",
       "    }\n",
       "\n",
       "    /* Handle when an output is cleared or removed */\n",
       "    events.on('clear_output.CodeCell', handleClearOutput);\n",
       "    events.on('delete.Cell', handleClearOutput);\n",
       "\n",
       "    /* Handle when a new output is added */\n",
       "    events.on('output_added.OutputArea', handleAddOutput);\n",
       "\n",
       "    /**\n",
       "     * Register the mime type and append_mime function with output_area\n",
       "     */\n",
       "    OutputArea.prototype.register_mime_type(EXEC_MIME_TYPE, append_mime, {\n",
       "      /* Is output safe? */\n",
       "      safe: true,\n",
       "      /* Index of renderer in `output_area.display_order` */\n",
       "      index: 0\n",
       "    });\n",
       "  }\n",
       "\n",
       "  // register the mime type if in Jupyter Notebook environment and previously unregistered\n",
       "  if (root.Jupyter !== undefined) {\n",
       "    var events = require('base/js/events');\n",
       "    var OutputArea = require('notebook/js/outputarea').OutputArea;\n",
       "\n",
       "    if (OutputArea.prototype.mime_types().indexOf(EXEC_MIME_TYPE) == -1) {\n",
       "      register_renderer(events, OutputArea);\n",
       "    }\n",
       "  }\n",
       "\n",
       "  \n",
       "  if (typeof (root._bokeh_timeout) === \"undefined\" || force === true) {\n",
       "    root._bokeh_timeout = Date.now() + 5000;\n",
       "    root._bokeh_failed_load = false;\n",
       "  }\n",
       "\n",
       "  var NB_LOAD_WARNING = {'data': {'text/html':\n",
       "     \"<div style='background-color: #fdd'>\\n\"+\n",
       "     \"<p>\\n\"+\n",
       "     \"BokehJS does not appear to have successfully loaded. If loading BokehJS from CDN, this \\n\"+\n",
       "     \"may be due to a slow or bad network connection. Possible fixes:\\n\"+\n",
       "     \"</p>\\n\"+\n",
       "     \"<ul>\\n\"+\n",
       "     \"<li>re-rerun `output_notebook()` to attempt to load from CDN again, or</li>\\n\"+\n",
       "     \"<li>use INLINE resources instead, as so:</li>\\n\"+\n",
       "     \"</ul>\\n\"+\n",
       "     \"<code>\\n\"+\n",
       "     \"from bokeh.resources import INLINE\\n\"+\n",
       "     \"output_notebook(resources=INLINE)\\n\"+\n",
       "     \"</code>\\n\"+\n",
       "     \"</div>\"}};\n",
       "\n",
       "  function display_loaded() {\n",
       "    var el = document.getElementById(\"a88337e1-d586-4460-853a-d4fac1b73aef\");\n",
       "    if (el != null) {\n",
       "      el.textContent = \"BokehJS is loading...\";\n",
       "    }\n",
       "    if (root.Bokeh !== undefined) {\n",
       "      if (el != null) {\n",
       "        el.textContent = \"BokehJS \" + root.Bokeh.version + \" successfully loaded.\";\n",
       "      }\n",
       "    } else if (Date.now() < root._bokeh_timeout) {\n",
       "      setTimeout(display_loaded, 100)\n",
       "    }\n",
       "  }\n",
       "\n",
       "\n",
       "  function run_callbacks() {\n",
       "    try {\n",
       "      root._bokeh_onload_callbacks.forEach(function(callback) { callback() });\n",
       "    }\n",
       "    finally {\n",
       "      delete root._bokeh_onload_callbacks\n",
       "    }\n",
       "    console.info(\"Bokeh: all callbacks have finished\");\n",
       "  }\n",
       "\n",
       "  function load_libs(js_urls, callback) {\n",
       "    root._bokeh_onload_callbacks.push(callback);\n",
       "    if (root._bokeh_is_loading > 0) {\n",
       "      console.log(\"Bokeh: BokehJS is being loaded, scheduling callback at\", now());\n",
       "      return null;\n",
       "    }\n",
       "    if (js_urls == null || js_urls.length === 0) {\n",
       "      run_callbacks();\n",
       "      return null;\n",
       "    }\n",
       "    console.log(\"Bokeh: BokehJS not loaded, scheduling load and callback at\", now());\n",
       "    root._bokeh_is_loading = js_urls.length;\n",
       "    for (var i = 0; i < js_urls.length; i++) {\n",
       "      var url = js_urls[i];\n",
       "      var s = document.createElement('script');\n",
       "      s.src = url;\n",
       "      s.async = false;\n",
       "      s.onreadystatechange = s.onload = function() {\n",
       "        root._bokeh_is_loading--;\n",
       "        if (root._bokeh_is_loading === 0) {\n",
       "          console.log(\"Bokeh: all BokehJS libraries loaded\");\n",
       "          run_callbacks()\n",
       "        }\n",
       "      };\n",
       "      s.onerror = function() {\n",
       "        console.warn(\"failed to load library \" + url);\n",
       "      };\n",
       "      console.log(\"Bokeh: injecting script tag for BokehJS library: \", url);\n",
       "      document.getElementsByTagName(\"head\")[0].appendChild(s);\n",
       "    }\n",
       "  };var element = document.getElementById(\"a88337e1-d586-4460-853a-d4fac1b73aef\");\n",
       "  if (element == null) {\n",
       "    console.log(\"Bokeh: ERROR: autoload.js configured with elementid 'a88337e1-d586-4460-853a-d4fac1b73aef' but no matching script tag was found. \")\n",
       "    return false;\n",
       "  }\n",
       "\n",
       "  var js_urls = [\"https://cdn.pydata.org/bokeh/release/bokeh-0.13.0.min.js\", \"https://cdn.pydata.org/bokeh/release/bokeh-widgets-0.13.0.min.js\", \"https://cdn.pydata.org/bokeh/release/bokeh-tables-0.13.0.min.js\", \"https://cdn.pydata.org/bokeh/release/bokeh-gl-0.13.0.min.js\"];\n",
       "\n",
       "  var inline_js = [\n",
       "    function(Bokeh) {\n",
       "      Bokeh.set_log_level(\"info\");\n",
       "    },\n",
       "    \n",
       "    function(Bokeh) {\n",
       "      \n",
       "    },\n",
       "    function(Bokeh) {\n",
       "      console.log(\"Bokeh: injecting CSS: https://cdn.pydata.org/bokeh/release/bokeh-0.13.0.min.css\");\n",
       "      Bokeh.embed.inject_css(\"https://cdn.pydata.org/bokeh/release/bokeh-0.13.0.min.css\");\n",
       "      console.log(\"Bokeh: injecting CSS: https://cdn.pydata.org/bokeh/release/bokeh-widgets-0.13.0.min.css\");\n",
       "      Bokeh.embed.inject_css(\"https://cdn.pydata.org/bokeh/release/bokeh-widgets-0.13.0.min.css\");\n",
       "      console.log(\"Bokeh: injecting CSS: https://cdn.pydata.org/bokeh/release/bokeh-tables-0.13.0.min.css\");\n",
       "      Bokeh.embed.inject_css(\"https://cdn.pydata.org/bokeh/release/bokeh-tables-0.13.0.min.css\");\n",
       "    }\n",
       "  ];\n",
       "\n",
       "  function run_inline_js() {\n",
       "    \n",
       "    if ((root.Bokeh !== undefined) || (force === true)) {\n",
       "      for (var i = 0; i < inline_js.length; i++) {\n",
       "        inline_js[i].call(root, root.Bokeh);\n",
       "      }if (force === true) {\n",
       "        display_loaded();\n",
       "      }} else if (Date.now() < root._bokeh_timeout) {\n",
       "      setTimeout(run_inline_js, 100);\n",
       "    } else if (!root._bokeh_failed_load) {\n",
       "      console.log(\"Bokeh: BokehJS failed to load within specified timeout.\");\n",
       "      root._bokeh_failed_load = true;\n",
       "    } else if (force !== true) {\n",
       "      var cell = $(document.getElementById(\"a88337e1-d586-4460-853a-d4fac1b73aef\")).parents('.cell').data().cell;\n",
       "      cell.output_area.append_execute_result(NB_LOAD_WARNING)\n",
       "    }\n",
       "\n",
       "  }\n",
       "\n",
       "  if (root._bokeh_is_loading === 0) {\n",
       "    console.log(\"Bokeh: BokehJS loaded, going straight to plotting\");\n",
       "    run_inline_js();\n",
       "  } else {\n",
       "    load_libs(js_urls, function() {\n",
       "      console.log(\"Bokeh: BokehJS plotting callback run at\", now());\n",
       "      run_inline_js();\n",
       "    });\n",
       "  }\n",
       "}(window));"
      ],
      "application/vnd.bokehjs_load.v0+json": "\n(function(root) {\n  function now() {\n    return new Date();\n  }\n\n  var force = true;\n\n  if (typeof (root._bokeh_onload_callbacks) === \"undefined\" || force === true) {\n    root._bokeh_onload_callbacks = [];\n    root._bokeh_is_loading = undefined;\n  }\n\n  \n\n  \n  if (typeof (root._bokeh_timeout) === \"undefined\" || force === true) {\n    root._bokeh_timeout = Date.now() + 5000;\n    root._bokeh_failed_load = false;\n  }\n\n  var NB_LOAD_WARNING = {'data': {'text/html':\n     \"<div style='background-color: #fdd'>\\n\"+\n     \"<p>\\n\"+\n     \"BokehJS does not appear to have successfully loaded. If loading BokehJS from CDN, this \\n\"+\n     \"may be due to a slow or bad network connection. Possible fixes:\\n\"+\n     \"</p>\\n\"+\n     \"<ul>\\n\"+\n     \"<li>re-rerun `output_notebook()` to attempt to load from CDN again, or</li>\\n\"+\n     \"<li>use INLINE resources instead, as so:</li>\\n\"+\n     \"</ul>\\n\"+\n     \"<code>\\n\"+\n     \"from bokeh.resources import INLINE\\n\"+\n     \"output_notebook(resources=INLINE)\\n\"+\n     \"</code>\\n\"+\n     \"</div>\"}};\n\n  function display_loaded() {\n    var el = document.getElementById(\"a88337e1-d586-4460-853a-d4fac1b73aef\");\n    if (el != null) {\n      el.textContent = \"BokehJS is loading...\";\n    }\n    if (root.Bokeh !== undefined) {\n      if (el != null) {\n        el.textContent = \"BokehJS \" + root.Bokeh.version + \" successfully loaded.\";\n      }\n    } else if (Date.now() < root._bokeh_timeout) {\n      setTimeout(display_loaded, 100)\n    }\n  }\n\n\n  function run_callbacks() {\n    try {\n      root._bokeh_onload_callbacks.forEach(function(callback) { callback() });\n    }\n    finally {\n      delete root._bokeh_onload_callbacks\n    }\n    console.info(\"Bokeh: all callbacks have finished\");\n  }\n\n  function load_libs(js_urls, callback) {\n    root._bokeh_onload_callbacks.push(callback);\n    if (root._bokeh_is_loading > 0) {\n      console.log(\"Bokeh: BokehJS is being loaded, scheduling callback at\", now());\n      return null;\n    }\n    if (js_urls == null || js_urls.length === 0) {\n      run_callbacks();\n      return null;\n    }\n    console.log(\"Bokeh: BokehJS not loaded, scheduling load and callback at\", now());\n    root._bokeh_is_loading = js_urls.length;\n    for (var i = 0; i < js_urls.length; i++) {\n      var url = js_urls[i];\n      var s = document.createElement('script');\n      s.src = url;\n      s.async = false;\n      s.onreadystatechange = s.onload = function() {\n        root._bokeh_is_loading--;\n        if (root._bokeh_is_loading === 0) {\n          console.log(\"Bokeh: all BokehJS libraries loaded\");\n          run_callbacks()\n        }\n      };\n      s.onerror = function() {\n        console.warn(\"failed to load library \" + url);\n      };\n      console.log(\"Bokeh: injecting script tag for BokehJS library: \", url);\n      document.getElementsByTagName(\"head\")[0].appendChild(s);\n    }\n  };var element = document.getElementById(\"a88337e1-d586-4460-853a-d4fac1b73aef\");\n  if (element == null) {\n    console.log(\"Bokeh: ERROR: autoload.js configured with elementid 'a88337e1-d586-4460-853a-d4fac1b73aef' but no matching script tag was found. \")\n    return false;\n  }\n\n  var js_urls = [\"https://cdn.pydata.org/bokeh/release/bokeh-0.13.0.min.js\", \"https://cdn.pydata.org/bokeh/release/bokeh-widgets-0.13.0.min.js\", \"https://cdn.pydata.org/bokeh/release/bokeh-tables-0.13.0.min.js\", \"https://cdn.pydata.org/bokeh/release/bokeh-gl-0.13.0.min.js\"];\n\n  var inline_js = [\n    function(Bokeh) {\n      Bokeh.set_log_level(\"info\");\n    },\n    \n    function(Bokeh) {\n      \n    },\n    function(Bokeh) {\n      console.log(\"Bokeh: injecting CSS: https://cdn.pydata.org/bokeh/release/bokeh-0.13.0.min.css\");\n      Bokeh.embed.inject_css(\"https://cdn.pydata.org/bokeh/release/bokeh-0.13.0.min.css\");\n      console.log(\"Bokeh: injecting CSS: https://cdn.pydata.org/bokeh/release/bokeh-widgets-0.13.0.min.css\");\n      Bokeh.embed.inject_css(\"https://cdn.pydata.org/bokeh/release/bokeh-widgets-0.13.0.min.css\");\n      console.log(\"Bokeh: injecting CSS: https://cdn.pydata.org/bokeh/release/bokeh-tables-0.13.0.min.css\");\n      Bokeh.embed.inject_css(\"https://cdn.pydata.org/bokeh/release/bokeh-tables-0.13.0.min.css\");\n    }\n  ];\n\n  function run_inline_js() {\n    \n    if ((root.Bokeh !== undefined) || (force === true)) {\n      for (var i = 0; i < inline_js.length; i++) {\n        inline_js[i].call(root, root.Bokeh);\n      }if (force === true) {\n        display_loaded();\n      }} else if (Date.now() < root._bokeh_timeout) {\n      setTimeout(run_inline_js, 100);\n    } else if (!root._bokeh_failed_load) {\n      console.log(\"Bokeh: BokehJS failed to load within specified timeout.\");\n      root._bokeh_failed_load = true;\n    } else if (force !== true) {\n      var cell = $(document.getElementById(\"a88337e1-d586-4460-853a-d4fac1b73aef\")).parents('.cell').data().cell;\n      cell.output_area.append_execute_result(NB_LOAD_WARNING)\n    }\n\n  }\n\n  if (root._bokeh_is_loading === 0) {\n    console.log(\"Bokeh: BokehJS loaded, going straight to plotting\");\n    run_inline_js();\n  } else {\n    load_libs(js_urls, function() {\n      console.log(\"Bokeh: BokehJS plotting callback run at\", now());\n      run_inline_js();\n    });\n  }\n}(window));"
     },
     "metadata": {},
     "output_type": "display_data"
    }
   ],
   "source": [
    "from bokeh.io import output_notebook\n",
    "output_notebook()"
   ]
  },
  {
   "cell_type": "code",
   "execution_count": 10,
   "metadata": {},
   "outputs": [
    {
     "data": {
      "text/html": [
       "\n",
       "\n",
       "\n",
       "\n",
       "\n",
       "\n",
       "  <div class=\"bk-root\" id=\"0f1f0b6f-1f8d-4ba0-8938-0a7f33ab1e78\"></div>\n"
      ]
     },
     "metadata": {},
     "output_type": "display_data"
    },
    {
     "data": {
      "application/javascript": [
       "(function(root) {\n",
       "  function embed_document(root) {\n",
       "    \n",
       "  var docs_json = {\"02ab2b3c-6190-480d-a8b3-faa606700929\":{\"roots\":{\"references\":[{\"attributes\":{\"bottom_units\":\"screen\",\"fill_alpha\":{\"value\":0.5},\"fill_color\":{\"value\":\"lightgrey\"},\"left_units\":\"screen\",\"level\":\"overlay\",\"line_alpha\":{\"value\":1.0},\"line_color\":{\"value\":\"black\"},\"line_dash\":[4,4],\"line_width\":{\"value\":2},\"plot\":null,\"render_mode\":\"css\",\"right_units\":\"screen\",\"top_units\":\"screen\"},\"id\":\"01358f2c-828e-420d-837b-8a1fd5feefbe\",\"type\":\"BoxAnnotation\"},{\"attributes\":{},\"id\":\"8511760b-0a24-4701-a6b4-c21c809bd029\",\"type\":\"LinearScale\"},{\"attributes\":{},\"id\":\"bb9861a4-5fda-4a8e-82e9-a256978aa6e0\",\"type\":\"LinearScale\"},{\"attributes\":{\"items\":[{\"id\":\"d682f93f-0f6e-40d8-b39a-9a85fc3977db\",\"type\":\"LegendItem\"}],\"label_text_font_size\":{\"value\":\"7pt\"},\"location\":[0,70],\"plot\":{\"id\":\"11080b00-ca06-479a-a04a-ec7ee7ea0f2c\",\"subtype\":\"Figure\",\"type\":\"Plot\"}},\"id\":\"aebb0d3e-fa48-4f45-aa08-72ce28022bd8\",\"type\":\"Legend\"},{\"attributes\":{\"active_drag\":\"auto\",\"active_inspect\":\"auto\",\"active_multi\":null,\"active_scroll\":\"auto\",\"active_tap\":\"auto\",\"tools\":[{\"id\":\"c59a9f57-109a-4ef4-9601-0aea40696c23\",\"type\":\"PanTool\"},{\"id\":\"3b05d4d9-f294-4cd4-b420-b32856612b2c\",\"type\":\"WheelZoomTool\"},{\"id\":\"d372ca86-5c4a-4dbb-b5f5-81365f7f0805\",\"type\":\"BoxZoomTool\"},{\"id\":\"0d009582-878a-4ed6-9f2e-9b674a162424\",\"type\":\"ResetTool\"},{\"id\":\"269f65af-e8f4-4b1f-bf8a-156468667326\",\"type\":\"HoverTool\"},{\"id\":\"fe8fe8c8-7f9c-4fbe-b92d-6409773d76ef\",\"type\":\"SaveTool\"}]},\"id\":\"a50ae9fd-0ed5-4eff-ba00-91509a6fb349\",\"type\":\"Toolbar\"},{\"attributes\":{\"callback\":null,\"data\":{\"color\":[\"#ff7f0e\",\"#aec7e8\",\"#ff7f0e\",\"#1f77b4\",\"#c5b0d5\",\"#1f77b4\",\"#d62728\",\"#ff7f0e\",\"#c5b0d5\",\"#aec7e8\",\"#ffbb78\",\"#c5b0d5\",\"#ff7f0e\",\"#d62728\",\"#ff7f0e\",\"#c5b0d5\",\"#ff9896\",\"#1f77b4\",\"#aec7e8\",\"#9467bd\",\"#ff9896\",\"#aec7e8\",\"#aec7e8\",\"#aec7e8\",\"#c5b0d5\",\"#1f77b4\",\"#ff9896\",\"#aec7e8\",\"#d62728\",\"#2ca02c\",\"#ff9896\",\"#ff9896\",\"#ff7f0e\",\"#98df8a\",\"#d62728\",\"#c5b0d5\",\"#9467bd\",\"#d62728\",\"#d62728\",\"#ff7f0e\",\"#aec7e8\",\"#98df8a\",\"#98df8a\",\"#d62728\",\"#c5b0d5\",\"#1f77b4\",\"#c5b0d5\",\"#ff7f0e\",\"#1f77b4\",\"#ff7f0e\",\"#2ca02c\",\"#ff7f0e\",\"#d62728\",\"#ff9896\",\"#ff9896\",\"#ff7f0e\",\"#98df8a\",\"#2ca02c\",\"#ff7f0e\",\"#ff7f0e\",\"#ff9896\",\"#2ca02c\",\"#ffbb78\",\"#d62728\",\"#ff7f0e\",\"#9467bd\",\"#c5b0d5\",\"#ffbb78\",\"#98df8a\",\"#ffbb78\",\"#ff9896\",\"#aec7e8\",\"#ff7f0e\",\"#ff7f0e\",\"#2ca02c\",\"#aec7e8\",\"#9467bd\",\"#aec7e8\",\"#ff7f0e\",\"#ffbb78\",\"#2ca02c\",\"#98df8a\",\"#2ca02c\",\"#c5b0d5\",\"#c5b0d5\",\"#1f77b4\",\"#ffbb78\",\"#c5b0d5\",\"#9467bd\",\"#ff7f0e\",\"#2ca02c\",\"#c5b0d5\",\"#d62728\",\"#98df8a\",\"#aec7e8\",\"#2ca02c\",\"#ff9896\",\"#c5b0d5\",\"#9467bd\",\"#d62728\",\"#c5b0d5\",\"#2ca02c\",\"#98df8a\",\"#d62728\",\"#ffbb78\",\"#ff9896\",\"#d62728\",\"#ff7f0e\",\"#9467bd\",\"#98df8a\",\"#98df8a\",\"#ff7f0e\",\"#1f77b4\",\"#c5b0d5\",\"#98df8a\",\"#2ca02c\",\"#1f77b4\",\"#2ca02c\",\"#d62728\",\"#2ca02c\",\"#ff9896\",\"#aec7e8\",\"#ff7f0e\",\"#ffbb78\",\"#d62728\",\"#ff7f0e\",\"#c5b0d5\",\"#2ca02c\",\"#c5b0d5\",\"#2ca02c\",\"#2ca02c\",\"#c5b0d5\",\"#c5b0d5\",\"#c5b0d5\",\"#ffbb78\",\"#9467bd\",\"#ffbb78\",\"#c5b0d5\",\"#ffbb78\",\"#ffbb78\",\"#ffbb78\",\"#2ca02c\",\"#ffbb78\",\"#98df8a\",\"#ffbb78\",\"#aec7e8\",\"#2ca02c\",\"#c5b0d5\",\"#c5b0d5\",\"#d62728\",\"#2ca02c\",\"#2ca02c\",\"#98df8a\",\"#1f77b4\",\"#aec7e8\",\"#c5b0d5\",\"#9467bd\",\"#ff7f0e\",\"#ffbb78\",\"#98df8a\",\"#2ca02c\",\"#ff9896\",\"#ff7f0e\",\"#98df8a\",\"#98df8a\",\"#d62728\",\"#ffbb78\",\"#c5b0d5\",\"#ffbb78\",\"#1f77b4\",\"#d62728\",\"#9467bd\",\"#98df8a\",\"#1f77b4\",\"#ffbb78\",\"#d62728\",\"#9467bd\",\"#1f77b4\",\"#ff7f0e\",\"#ff9896\",\"#aec7e8\",\"#c5b0d5\",\"#ffbb78\",\"#aec7e8\",\"#aec7e8\",\"#ff7f0e\",\"#2ca02c\",\"#aec7e8\",\"#ff7f0e\",\"#2ca02c\",\"#c5b0d5\",\"#d62728\",\"#ffbb78\",\"#9467bd\",\"#d62728\",\"#ff7f0e\",\"#aec7e8\",\"#c5b0d5\",\"#1f77b4\",\"#ff7f0e\",\"#1f77b4\",\"#98df8a\",\"#ff9896\",\"#ffbb78\",\"#d62728\",\"#c5b0d5\",\"#ff9896\",\"#ff7f0e\",\"#ff9896\",\"#d62728\",\"#ffbb78\",\"#ffbb78\",\"#ff7f0e\",\"#ff7f0e\",\"#9467bd\",\"#c5b0d5\",\"#ffbb78\",\"#9467bd\",\"#2ca02c\",\"#ffbb78\",\"#c5b0d5\",\"#ff9896\",\"#ffbb78\",\"#c5b0d5\",\"#ffbb78\",\"#aec7e8\",\"#98df8a\",\"#9467bd\",\"#ff9896\",\"#ff7f0e\",\"#9467bd\",\"#1f77b4\",\"#ff7f0e\",\"#c5b0d5\",\"#2ca02c\",\"#c5b0d5\",\"#1f77b4\",\"#2ca02c\",\"#ff7f0e\",\"#9467bd\",\"#2ca02c\",\"#98df8a\",\"#ff9896\",\"#98df8a\",\"#aec7e8\",\"#9467bd\",\"#ff7f0e\",\"#ffbb78\",\"#aec7e8\",\"#1f77b4\",\"#98df8a\",\"#2ca02c\",\"#ffbb78\",\"#ff7f0e\",\"#ffbb78\",\"#aec7e8\",\"#c5b0d5\",\"#d62728\",\"#aec7e8\",\"#98df8a\",\"#ff9896\",\"#1f77b4\",\"#aec7e8\",\"#aec7e8\",\"#c5b0d5\",\"#ff9896\",\"#ff7f0e\",\"#ff9896\",\"#98df8a\",\"#ffbb78\",\"#9467bd\",\"#d62728\",\"#1f77b4\",\"#ff9896\",\"#aec7e8\",\"#d62728\",\"#aec7e8\",\"#ff9896\",\"#1f77b4\",\"#1f77b4\",\"#aec7e8\",\"#ff9896\",\"#98df8a\",\"#ffbb78\",\"#ffbb78\",\"#2ca02c\",\"#ff7f0e\",\"#ffbb78\",\"#c5b0d5\",\"#ff7f0e\",\"#ff9896\",\"#ffbb78\",\"#c5b0d5\",\"#2ca02c\",\"#ff7f0e\",\"#ffbb78\",\"#d62728\",\"#aec7e8\",\"#ff7f0e\",\"#aec7e8\",\"#1f77b4\",\"#d62728\",\"#2ca02c\",\"#2ca02c\",\"#ff7f0e\",\"#d62728\",\"#ff7f0e\",\"#d62728\",\"#ffbb78\",\"#ff9896\",\"#98df8a\",\"#9467bd\",\"#c5b0d5\",\"#9467bd\",\"#9467bd\",\"#c5b0d5\",\"#ffbb78\",\"#1f77b4\",\"#9467bd\",\"#d62728\",\"#ff7f0e\",\"#ffbb78\",\"#ff9896\",\"#2ca02c\",\"#ff7f0e\",\"#ff9896\",\"#2ca02c\",\"#ff9896\",\"#ffbb78\",\"#d62728\",\"#98df8a\",\"#2ca02c\",\"#ff9896\",\"#2ca02c\",\"#ff9896\",\"#9467bd\",\"#ffbb78\",\"#aec7e8\",\"#ffbb78\",\"#d62728\",\"#ff9896\",\"#d62728\",\"#c5b0d5\",\"#2ca02c\",\"#2ca02c\",\"#ff7f0e\",\"#aec7e8\",\"#98df8a\",\"#c5b0d5\",\"#98df8a\",\"#c5b0d5\",\"#ff9896\",\"#ff7f0e\",\"#1f77b4\",\"#2ca02c\",\"#ffbb78\",\"#ffbb78\",\"#ff7f0e\",\"#aec7e8\",\"#d62728\",\"#d62728\",\"#ffbb78\",\"#1f77b4\",\"#ffbb78\",\"#c5b0d5\",\"#98df8a\",\"#98df8a\",\"#9467bd\",\"#aec7e8\",\"#ff7f0e\",\"#aec7e8\",\"#9467bd\",\"#1f77b4\",\"#aec7e8\",\"#ff9896\",\"#2ca02c\",\"#9467bd\",\"#9467bd\",\"#aec7e8\",\"#2ca02c\",\"#d62728\",\"#1f77b4\",\"#9467bd\",\"#9467bd\",\"#aec7e8\",\"#ff7f0e\",\"#c5b0d5\",\"#d62728\",\"#c5b0d5\",\"#ff7f0e\",\"#ffbb78\",\"#9467bd\",\"#ff9896\",\"#98df8a\",\"#2ca02c\",\"#98df8a\",\"#98df8a\",\"#aec7e8\",\"#c5b0d5\",\"#ff7f0e\",\"#1f77b4\",\"#2ca02c\",\"#ff9896\",\"#ffbb78\",\"#aec7e8\",\"#98df8a\",\"#c5b0d5\",\"#d62728\",\"#aec7e8\",\"#9467bd\",\"#98df8a\",\"#1f77b4\",\"#ffbb78\",\"#2ca02c\",\"#ff9896\",\"#d62728\",\"#ff7f0e\",\"#c5b0d5\",\"#d62728\",\"#9467bd\",\"#ff9896\",\"#aec7e8\",\"#1f77b4\",\"#2ca02c\",\"#2ca02c\",\"#c5b0d5\",\"#98df8a\",\"#9467bd\",\"#c5b0d5\",\"#1f77b4\",\"#ff9896\",\"#98df8a\",\"#ff7f0e\",\"#2ca02c\",\"#ff7f0e\",\"#ffbb78\",\"#d62728\",\"#98df8a\",\"#d62728\",\"#9467bd\",\"#9467bd\",\"#98df8a\",\"#1f77b4\",\"#2ca02c\",\"#ff9896\",\"#98df8a\",\"#1f77b4\",\"#1f77b4\",\"#ff9896\",\"#ff7f0e\",\"#aec7e8\",\"#ff7f0e\",\"#2ca02c\",\"#ff7f0e\",\"#9467bd\",\"#2ca02c\",\"#d62728\",\"#aec7e8\",\"#d62728\",\"#ff7f0e\",\"#c5b0d5\",\"#c5b0d5\",\"#1f77b4\",\"#1f77b4\",\"#aec7e8\",\"#aec7e8\",\"#9467bd\",\"#1f77b4\",\"#ff9896\",\"#ff9896\",\"#98df8a\",\"#ffbb78\",\"#aec7e8\",\"#2ca02c\",\"#ff7f0e\",\"#d62728\",\"#1f77b4\",\"#9467bd\",\"#2ca02c\",\"#9467bd\",\"#c5b0d5\",\"#ff9896\",\"#ff9896\",\"#2ca02c\",\"#aec7e8\",\"#aec7e8\",\"#aec7e8\",\"#ff7f0e\",\"#ff7f0e\",\"#2ca02c\",\"#ffbb78\",\"#d62728\",\"#ff9896\",\"#1f77b4\",\"#1f77b4\",\"#ffbb78\",\"#98df8a\",\"#aec7e8\",\"#9467bd\",\"#ff9896\",\"#aec7e8\",\"#9467bd\",\"#aec7e8\",\"#c5b0d5\",\"#ff9896\",\"#98df8a\",\"#2ca02c\",\"#d62728\",\"#c5b0d5\",\"#9467bd\",\"#ff7f0e\",\"#1f77b4\",\"#ff9896\",\"#ffbb78\",\"#ff7f0e\",\"#9467bd\",\"#c5b0d5\",\"#ffbb78\",\"#d62728\",\"#9467bd\",\"#98df8a\",\"#2ca02c\",\"#9467bd\",\"#ff7f0e\",\"#ffbb78\",\"#9467bd\",\"#1f77b4\",\"#98df8a\",\"#ffbb78\",\"#2ca02c\",\"#ffbb78\",\"#2ca02c\",\"#ffbb78\",\"#c5b0d5\",\"#9467bd\",\"#aec7e8\",\"#2ca02c\",\"#ff9896\",\"#9467bd\",\"#c5b0d5\",\"#c5b0d5\",\"#ffbb78\",\"#ff7f0e\",\"#ffbb78\",\"#aec7e8\",\"#ff7f0e\",\"#ff9896\",\"#d62728\",\"#1f77b4\",\"#ffbb78\",\"#1f77b4\",\"#c5b0d5\",\"#98df8a\",\"#2ca02c\",\"#d62728\",\"#9467bd\",\"#2ca02c\",\"#2ca02c\",\"#1f77b4\",\"#ff9896\",\"#9467bd\",\"#98df8a\",\"#ff7f0e\",\"#ffbb78\",\"#2ca02c\",\"#ffbb78\",\"#9467bd\",\"#98df8a\",\"#9467bd\",\"#ff9896\",\"#d62728\",\"#9467bd\",\"#d62728\",\"#ff7f0e\",\"#ff9896\",\"#1f77b4\",\"#98df8a\",\"#ff7f0e\",\"#ff7f0e\",\"#2ca02c\",\"#aec7e8\",\"#ff7f0e\",\"#c5b0d5\",\"#98df8a\",\"#c5b0d5\",\"#d62728\",\"#ffbb78\",\"#9467bd\",\"#ffbb78\",\"#9467bd\",\"#ff9896\",\"#2ca02c\",\"#ffbb78\",\"#ffbb78\",\"#d62728\",\"#2ca02c\",\"#d62728\",\"#aec7e8\",\"#1f77b4\",\"#c5b0d5\",\"#aec7e8\",\"#aec7e8\",\"#c5b0d5\",\"#1f77b4\",\"#1f77b4\",\"#aec7e8\",\"#9467bd\",\"#1f77b4\",\"#1f77b4\",\"#9467bd\",\"#1f77b4\",\"#2ca02c\",\"#c5b0d5\",\"#d62728\",\"#aec7e8\",\"#98df8a\",\"#9467bd\",\"#ff9896\",\"#c5b0d5\",\"#aec7e8\",\"#1f77b4\",\"#ff9896\",\"#ff7f0e\",\"#1f77b4\",\"#c5b0d5\",\"#2ca02c\",\"#c5b0d5\",\"#2ca02c\",\"#98df8a\",\"#c5b0d5\",\"#aec7e8\",\"#c5b0d5\",\"#ffbb78\",\"#1f77b4\",\"#98df8a\",\"#aec7e8\",\"#c5b0d5\",\"#ff9896\",\"#ffbb78\",\"#2ca02c\",\"#aec7e8\",\"#c5b0d5\",\"#ff9896\",\"#2ca02c\",\"#1f77b4\",\"#ff7f0e\",\"#9467bd\",\"#2ca02c\",\"#ffbb78\",\"#ff7f0e\",\"#2ca02c\",\"#2ca02c\",\"#1f77b4\",\"#aec7e8\",\"#9467bd\",\"#c5b0d5\",\"#2ca02c\",\"#ffbb78\",\"#ff9896\",\"#2ca02c\",\"#98df8a\",\"#9467bd\",\"#ffbb78\",\"#aec7e8\",\"#aec7e8\",\"#ff9896\",\"#1f77b4\",\"#aec7e8\",\"#1f77b4\",\"#ffbb78\",\"#ffbb78\",\"#1f77b4\",\"#ffbb78\",\"#c5b0d5\",\"#d62728\",\"#ffbb78\",\"#ffbb78\",\"#ff9896\",\"#aec7e8\",\"#aec7e8\",\"#1f77b4\",\"#9467bd\",\"#c5b0d5\",\"#aec7e8\",\"#2ca02c\",\"#c5b0d5\",\"#9467bd\",\"#d62728\",\"#d62728\",\"#ff9896\",\"#c5b0d5\",\"#1f77b4\",\"#aec7e8\",\"#ff9896\",\"#9467bd\",\"#d62728\",\"#ff9896\",\"#aec7e8\",\"#98df8a\",\"#ffbb78\",\"#ff9896\",\"#ff7f0e\",\"#c5b0d5\",\"#ff9896\",\"#ff7f0e\",\"#ffbb78\",\"#ff9896\",\"#ffbb78\",\"#ffbb78\",\"#c5b0d5\",\"#98df8a\",\"#2ca02c\",\"#ffbb78\",\"#ffbb78\",\"#98df8a\",\"#9467bd\",\"#c5b0d5\",\"#c5b0d5\",\"#1f77b4\",\"#ffbb78\",\"#2ca02c\",\"#c5b0d5\",\"#ff7f0e\",\"#ff7f0e\",\"#ff9896\",\"#aec7e8\",\"#98df8a\",\"#1f77b4\",\"#ff7f0e\",\"#c5b0d5\",\"#1f77b4\",\"#1f77b4\",\"#ff7f0e\",\"#aec7e8\",\"#d62728\",\"#d62728\",\"#2ca02c\",\"#1f77b4\",\"#ff9896\",\"#c5b0d5\",\"#1f77b4\",\"#98df8a\",\"#ff7f0e\",\"#98df8a\",\"#aec7e8\",\"#2ca02c\",\"#1f77b4\",\"#1f77b4\",\"#d62728\",\"#2ca02c\",\"#98df8a\",\"#aec7e8\",\"#ff9896\",\"#1f77b4\",\"#d62728\",\"#c5b0d5\",\"#c5b0d5\",\"#9467bd\",\"#d62728\",\"#98df8a\",\"#c5b0d5\",\"#2ca02c\",\"#ff7f0e\",\"#ff9896\",\"#2ca02c\",\"#d62728\",\"#2ca02c\",\"#9467bd\",\"#1f77b4\",\"#ff9896\",\"#2ca02c\",\"#2ca02c\",\"#c5b0d5\",\"#d62728\",\"#aec7e8\",\"#ff9896\",\"#ff7f0e\",\"#2ca02c\",\"#ff9896\",\"#2ca02c\",\"#1f77b4\",\"#ff9896\",\"#ff7f0e\",\"#d62728\",\"#9467bd\",\"#98df8a\",\"#d62728\",\"#98df8a\",\"#aec7e8\",\"#aec7e8\",\"#ff7f0e\",\"#d62728\",\"#9467bd\",\"#ff9896\",\"#98df8a\",\"#ff7f0e\",\"#aec7e8\",\"#1f77b4\",\"#d62728\",\"#d62728\",\"#aec7e8\",\"#ff7f0e\",\"#ff7f0e\",\"#d62728\",\"#1f77b4\",\"#ff9896\",\"#c5b0d5\",\"#aec7e8\",\"#aec7e8\",\"#aec7e8\",\"#ff7f0e\",\"#ff9896\",\"#9467bd\",\"#ff9896\",\"#ff7f0e\",\"#ffbb78\",\"#ffbb78\",\"#98df8a\",\"#ff9896\",\"#c5b0d5\",\"#1f77b4\",\"#98df8a\",\"#1f77b4\",\"#2ca02c\",\"#98df8a\",\"#98df8a\",\"#2ca02c\",\"#1f77b4\",\"#d62728\",\"#d62728\",\"#c5b0d5\",\"#aec7e8\",\"#aec7e8\",\"#ff7f0e\",\"#1f77b4\",\"#9467bd\",\"#d62728\",\"#d62728\",\"#ffbb78\",\"#ff9896\",\"#ffbb78\",\"#1f77b4\",\"#aec7e8\",\"#aec7e8\",\"#9467bd\",\"#9467bd\",\"#ff9896\",\"#2ca02c\",\"#ff9896\",\"#d62728\",\"#ff7f0e\",\"#d62728\",\"#98df8a\",\"#d62728\",\"#ff7f0e\",\"#ff9896\",\"#2ca02c\",\"#aec7e8\",\"#2ca02c\",\"#aec7e8\",\"#d62728\",\"#aec7e8\",\"#c5b0d5\",\"#9467bd\",\"#c5b0d5\",\"#9467bd\",\"#9467bd\",\"#ff7f0e\",\"#aec7e8\",\"#ffbb78\",\"#ff9896\",\"#9467bd\",\"#ff7f0e\",\"#9467bd\",\"#ff7f0e\",\"#ff7f0e\",\"#98df8a\",\"#ff9896\",\"#ff9896\",\"#2ca02c\",\"#ff7f0e\",\"#c5b0d5\",\"#1f77b4\",\"#ffbb78\",\"#ffbb78\",\"#aec7e8\",\"#ffbb78\",\"#9467bd\",\"#d62728\",\"#98df8a\",\"#c5b0d5\",\"#ff7f0e\",\"#c5b0d5\",\"#ffbb78\",\"#1f77b4\",\"#9467bd\",\"#98df8a\",\"#ffbb78\",\"#ff9896\",\"#9467bd\",\"#1f77b4\",\"#aec7e8\",\"#ffbb78\",\"#ff9896\",\"#ff9896\",\"#c5b0d5\",\"#ffbb78\",\"#ffbb78\",\"#2ca02c\",\"#d62728\",\"#ff7f0e\",\"#ff9896\",\"#ff9896\",\"#1f77b4\",\"#aec7e8\",\"#aec7e8\",\"#c5b0d5\",\"#2ca02c\",\"#1f77b4\",\"#c5b0d5\",\"#ffbb78\",\"#aec7e8\",\"#1f77b4\",\"#98df8a\",\"#d62728\",\"#aec7e8\",\"#ff7f0e\",\"#c5b0d5\",\"#aec7e8\",\"#ff9896\",\"#1f77b4\",\"#ff7f0e\",\"#ff7f0e\",\"#98df8a\",\"#1f77b4\",\"#c5b0d5\",\"#aec7e8\",\"#2ca02c\",\"#ffbb78\",\"#c5b0d5\",\"#9467bd\",\"#c5b0d5\",\"#ff9896\",\"#98df8a\",\"#ffbb78\",\"#ff7f0e\",\"#ff7f0e\",\"#9467bd\",\"#2ca02c\",\"#98df8a\",\"#d62728\",\"#9467bd\",\"#c5b0d5\",\"#1f77b4\",\"#d62728\",\"#aec7e8\",\"#1f77b4\",\"#ff7f0e\",\"#1f77b4\",\"#ff7f0e\",\"#ff9896\",\"#ff9896\",\"#1f77b4\",\"#c5b0d5\",\"#98df8a\",\"#98df8a\",\"#aec7e8\",\"#aec7e8\",\"#ff9896\",\"#d62728\",\"#ff9896\",\"#ff7f0e\",\"#ff7f0e\",\"#ff7f0e\",\"#ff9896\",\"#d62728\",\"#ffbb78\",\"#2ca02c\",\"#ff9896\",\"#1f77b4\",\"#aec7e8\",\"#c5b0d5\",\"#2ca02c\",\"#98df8a\",\"#1f77b4\",\"#1f77b4\",\"#aec7e8\",\"#aec7e8\",\"#aec7e8\",\"#ffbb78\",\"#ff7f0e\",\"#aec7e8\",\"#c5b0d5\",\"#ff9896\",\"#ff9896\",\"#ffbb78\",\"#ff9896\",\"#1f77b4\",\"#c5b0d5\",\"#ff7f0e\",\"#ff7f0e\",\"#aec7e8\",\"#c5b0d5\",\"#2ca02c\",\"#ff7f0e\",\"#ff9896\",\"#ff7f0e\",\"#d62728\",\"#9467bd\",\"#ff9896\",\"#c5b0d5\",\"#ff7f0e\",\"#1f77b4\",\"#ff9896\",\"#98df8a\",\"#ffbb78\",\"#ffbb78\",\"#d62728\",\"#2ca02c\",\"#c5b0d5\",\"#ff9896\",\"#ff7f0e\",\"#ff7f0e\",\"#ffbb78\",\"#aec7e8\",\"#1f77b4\",\"#ff7f0e\",\"#aec7e8\",\"#2ca02c\",\"#ff7f0e\",\"#c5b0d5\",\"#98df8a\",\"#c5b0d5\",\"#1f77b4\",\"#d62728\",\"#1f77b4\",\"#1f77b4\",\"#2ca02c\",\"#9467bd\",\"#ff7f0e\",\"#aec7e8\",\"#aec7e8\",\"#2ca02c\",\"#ffbb78\",\"#d62728\",\"#ff7f0e\",\"#1f77b4\",\"#aec7e8\",\"#ff9896\",\"#d62728\",\"#aec7e8\",\"#ff7f0e\",\"#c5b0d5\",\"#1f77b4\",\"#9467bd\",\"#1f77b4\",\"#2ca02c\",\"#ff7f0e\",\"#1f77b4\",\"#2ca02c\",\"#2ca02c\",\"#ffbb78\",\"#1f77b4\",\"#98df8a\",\"#2ca02c\",\"#98df8a\",\"#1f77b4\",\"#ff9896\",\"#aec7e8\",\"#c5b0d5\",\"#c5b0d5\",\"#9467bd\",\"#9467bd\",\"#9467bd\",\"#1f77b4\",\"#aec7e8\",\"#ffbb78\",\"#1f77b4\",\"#aec7e8\",\"#c5b0d5\",\"#ff7f0e\",\"#98df8a\",\"#ffbb78\",\"#c5b0d5\",\"#ff7f0e\",\"#9467bd\",\"#98df8a\",\"#c5b0d5\",\"#ff7f0e\",\"#ffbb78\",\"#d62728\",\"#ffbb78\",\"#c5b0d5\",\"#ffbb78\",\"#d62728\",\"#ffbb78\",\"#c5b0d5\",\"#ff7f0e\",\"#9467bd\",\"#aec7e8\",\"#2ca02c\",\"#98df8a\",\"#ff7f0e\",\"#98df8a\",\"#ff9896\",\"#aec7e8\",\"#9467bd\",\"#1f77b4\",\"#d62728\",\"#c5b0d5\",\"#ff9896\",\"#aec7e8\",\"#1f77b4\",\"#c5b0d5\",\"#1f77b4\",\"#d62728\",\"#ff9896\",\"#ffbb78\",\"#ff7f0e\",\"#ffbb78\",\"#c5b0d5\",\"#9467bd\",\"#ff9896\",\"#aec7e8\",\"#aec7e8\",\"#ff7f0e\",\"#ff9896\",\"#ff9896\",\"#c5b0d5\",\"#aec7e8\",\"#2ca02c\",\"#1f77b4\",\"#ffbb78\",\"#98df8a\",\"#ff7f0e\",\"#ff9896\",\"#9467bd\",\"#ff7f0e\",\"#ff9896\",\"#98df8a\",\"#ff9896\",\"#ff9896\",\"#ff9896\",\"#ff7f0e\",\"#98df8a\",\"#98df8a\",\"#d62728\",\"#9467bd\",\"#2ca02c\",\"#ff9896\",\"#ff9896\",\"#aec7e8\",\"#c5b0d5\",\"#ffbb78\",\"#c5b0d5\",\"#2ca02c\",\"#2ca02c\",\"#98df8a\",\"#c5b0d5\",\"#ff7f0e\",\"#d62728\",\"#98df8a\",\"#98df8a\",\"#98df8a\",\"#d62728\",\"#d62728\",\"#ff9896\",\"#d62728\",\"#98df8a\",\"#1f77b4\",\"#ffbb78\",\"#c5b0d5\",\"#9467bd\",\"#ff7f0e\",\"#1f77b4\",\"#c5b0d5\",\"#ff9896\",\"#1f77b4\",\"#aec7e8\",\"#ff9896\",\"#1f77b4\",\"#1f77b4\",\"#ff9896\",\"#ffbb78\",\"#1f77b4\",\"#d62728\",\"#98df8a\",\"#d62728\",\"#ffbb78\",\"#2ca02c\",\"#aec7e8\",\"#aec7e8\",\"#ff9896\",\"#d62728\",\"#aec7e8\",\"#aec7e8\",\"#aec7e8\",\"#ffbb78\",\"#ffbb78\",\"#9467bd\",\"#ff9896\",\"#1f77b4\",\"#d62728\",\"#98df8a\",\"#9467bd\",\"#98df8a\",\"#98df8a\",\"#aec7e8\",\"#ff9896\",\"#1f77b4\",\"#ffbb78\",\"#98df8a\",\"#9467bd\",\"#98df8a\",\"#d62728\",\"#d62728\",\"#1f77b4\",\"#9467bd\",\"#ffbb78\",\"#1f77b4\",\"#ffbb78\",\"#d62728\",\"#ffbb78\",\"#9467bd\",\"#c5b0d5\",\"#2ca02c\",\"#98df8a\",\"#c5b0d5\",\"#aec7e8\",\"#9467bd\",\"#ffbb78\",\"#2ca02c\",\"#aec7e8\",\"#2ca02c\",\"#9467bd\",\"#ff7f0e\",\"#ff7f0e\",\"#1f77b4\",\"#98df8a\",\"#ffbb78\",\"#1f77b4\",\"#98df8a\",\"#2ca02c\",\"#9467bd\",\"#1f77b4\",\"#c5b0d5\",\"#ffbb78\",\"#ffbb78\",\"#c5b0d5\",\"#d62728\",\"#c5b0d5\",\"#aec7e8\",\"#9467bd\",\"#d62728\",\"#ff7f0e\",\"#98df8a\",\"#1f77b4\",\"#1f77b4\",\"#ff9896\",\"#c5b0d5\",\"#ff9896\",\"#d62728\",\"#ff7f0e\",\"#98df8a\",\"#1f77b4\",\"#9467bd\",\"#aec7e8\",\"#aec7e8\",\"#ff9896\",\"#2ca02c\",\"#9467bd\",\"#2ca02c\",\"#1f77b4\",\"#98df8a\",\"#ff7f0e\",\"#98df8a\",\"#ff7f0e\",\"#98df8a\",\"#9467bd\",\"#9467bd\",\"#1f77b4\",\"#ffbb78\",\"#ffbb78\",\"#d62728\",\"#d62728\",\"#98df8a\",\"#ff9896\",\"#ff9896\",\"#ffbb78\",\"#ffbb78\",\"#ff7f0e\",\"#ff9896\",\"#1f77b4\",\"#1f77b4\",\"#ffbb78\",\"#ff9896\",\"#aec7e8\",\"#2ca02c\",\"#ffbb78\",\"#c5b0d5\",\"#aec7e8\",\"#d62728\",\"#ffbb78\",\"#9467bd\",\"#2ca02c\",\"#9467bd\",\"#9467bd\",\"#ff9896\",\"#ff9896\",\"#2ca02c\",\"#2ca02c\",\"#98df8a\",\"#98df8a\",\"#c5b0d5\",\"#ff7f0e\",\"#ff9896\",\"#ff9896\",\"#d62728\",\"#ff9896\",\"#9467bd\",\"#aec7e8\",\"#1f77b4\",\"#9467bd\",\"#1f77b4\",\"#2ca02c\",\"#d62728\",\"#d62728\",\"#2ca02c\",\"#d62728\",\"#c5b0d5\",\"#ff9896\",\"#98df8a\",\"#98df8a\",\"#d62728\",\"#ff7f0e\",\"#c5b0d5\",\"#98df8a\",\"#ff7f0e\",\"#2ca02c\",\"#1f77b4\",\"#d62728\",\"#9467bd\",\"#ffbb78\",\"#2ca02c\",\"#1f77b4\",\"#c5b0d5\",\"#ff9896\",\"#98df8a\",\"#d62728\",\"#98df8a\",\"#c5b0d5\",\"#d62728\",\"#ffbb78\",\"#ffbb78\",\"#d62728\",\"#ff9896\",\"#9467bd\",\"#aec7e8\",\"#aec7e8\",\"#ffbb78\",\"#ff7f0e\",\"#9467bd\",\"#d62728\",\"#98df8a\",\"#c5b0d5\",\"#ffbb78\",\"#aec7e8\",\"#ffbb78\",\"#c5b0d5\",\"#ffbb78\",\"#ff9896\",\"#aec7e8\",\"#1f77b4\",\"#ffbb78\",\"#ff9896\",\"#ff9896\",\"#ffbb78\",\"#c5b0d5\",\"#ff7f0e\",\"#aec7e8\",\"#c5b0d5\",\"#c5b0d5\",\"#ff9896\",\"#aec7e8\",\"#1f77b4\",\"#2ca02c\",\"#9467bd\",\"#c5b0d5\",\"#d62728\",\"#ffbb78\",\"#c5b0d5\",\"#ff7f0e\",\"#ff7f0e\",\"#2ca02c\",\"#ff7f0e\",\"#2ca02c\",\"#ff7f0e\",\"#2ca02c\",\"#ff9896\",\"#d62728\",\"#ff9896\",\"#d62728\",\"#ffbb78\",\"#ff7f0e\",\"#ff9896\",\"#ff7f0e\",\"#1f77b4\",\"#2ca02c\",\"#98df8a\",\"#c5b0d5\",\"#aec7e8\",\"#c5b0d5\",\"#aec7e8\",\"#aec7e8\",\"#2ca02c\",\"#aec7e8\",\"#9467bd\",\"#ff7f0e\",\"#9467bd\",\"#aec7e8\",\"#ffbb78\",\"#1f77b4\",\"#ff7f0e\",\"#c5b0d5\",\"#ff7f0e\",\"#ffbb78\",\"#aec7e8\",\"#98df8a\",\"#aec7e8\",\"#2ca02c\",\"#1f77b4\",\"#1f77b4\",\"#1f77b4\",\"#2ca02c\",\"#2ca02c\",\"#9467bd\",\"#ff7f0e\",\"#c5b0d5\",\"#ff7f0e\",\"#98df8a\",\"#2ca02c\",\"#1f77b4\",\"#1f77b4\",\"#2ca02c\",\"#9467bd\",\"#aec7e8\",\"#9467bd\",\"#ff7f0e\",\"#1f77b4\",\"#aec7e8\",\"#ff7f0e\",\"#aec7e8\",\"#ff9896\",\"#1f77b4\",\"#1f77b4\",\"#d62728\",\"#98df8a\",\"#c5b0d5\",\"#ffbb78\",\"#9467bd\",\"#98df8a\",\"#ff9896\",\"#9467bd\",\"#9467bd\",\"#ffbb78\",\"#aec7e8\",\"#1f77b4\",\"#ff7f0e\",\"#ff7f0e\",\"#2ca02c\",\"#2ca02c\",\"#98df8a\",\"#ffbb78\",\"#aec7e8\",\"#98df8a\",\"#aec7e8\",\"#c5b0d5\",\"#1f77b4\",\"#ff9896\",\"#98df8a\",\"#ffbb78\",\"#98df8a\",\"#1f77b4\",\"#ff9896\",\"#9467bd\",\"#9467bd\",\"#ff9896\",\"#d62728\",\"#2ca02c\",\"#2ca02c\",\"#9467bd\",\"#aec7e8\",\"#c5b0d5\",\"#ffbb78\",\"#9467bd\",\"#d62728\",\"#1f77b4\",\"#1f77b4\",\"#ff9896\",\"#ff9896\",\"#d62728\",\"#98df8a\",\"#c5b0d5\",\"#ff9896\",\"#9467bd\",\"#ffbb78\",\"#ff7f0e\",\"#d62728\",\"#9467bd\",\"#9467bd\",\"#9467bd\",\"#ff7f0e\",\"#ffbb78\",\"#9467bd\",\"#aec7e8\",\"#1f77b4\",\"#aec7e8\",\"#ffbb78\",\"#9467bd\",\"#98df8a\",\"#1f77b4\",\"#ffbb78\",\"#c5b0d5\",\"#d62728\",\"#ffbb78\",\"#aec7e8\",\"#2ca02c\",\"#98df8a\",\"#9467bd\",\"#ff7f0e\",\"#ff7f0e\",\"#ffbb78\",\"#c5b0d5\",\"#aec7e8\",\"#ff9896\",\"#98df8a\",\"#ffbb78\",\"#d62728\",\"#ff9896\",\"#98df8a\",\"#c5b0d5\",\"#ff7f0e\",\"#98df8a\",\"#ffbb78\",\"#ff9896\",\"#2ca02c\",\"#ff9896\",\"#ff7f0e\",\"#aec7e8\",\"#98df8a\",\"#d62728\",\"#d62728\",\"#1f77b4\",\"#ff9896\",\"#2ca02c\",\"#1f77b4\",\"#d62728\",\"#1f77b4\",\"#d62728\",\"#ff7f0e\",\"#9467bd\",\"#ff7f0e\",\"#98df8a\",\"#aec7e8\",\"#ffbb78\",\"#aec7e8\",\"#ffbb78\",\"#2ca02c\",\"#ff7f0e\",\"#9467bd\",\"#2ca02c\",\"#ff7f0e\",\"#aec7e8\",\"#ff9896\",\"#d62728\",\"#d62728\",\"#1f77b4\",\"#9467bd\",\"#ff7f0e\",\"#aec7e8\",\"#aec7e8\",\"#d62728\",\"#aec7e8\",\"#ff9896\",\"#ff7f0e\",\"#c5b0d5\",\"#1f77b4\",\"#aec7e8\",\"#ffbb78\",\"#2ca02c\",\"#98df8a\",\"#9467bd\",\"#9467bd\",\"#2ca02c\",\"#ff9896\",\"#2ca02c\",\"#2ca02c\",\"#aec7e8\",\"#ff9896\",\"#ff7f0e\",\"#9467bd\",\"#ffbb78\",\"#ff9896\",\"#9467bd\",\"#ff9896\",\"#98df8a\",\"#9467bd\",\"#aec7e8\",\"#ff9896\",\"#aec7e8\",\"#ff9896\",\"#98df8a\",\"#ffbb78\",\"#d62728\",\"#aec7e8\",\"#aec7e8\",\"#aec7e8\",\"#c5b0d5\",\"#1f77b4\",\"#ff7f0e\",\"#98df8a\",\"#d62728\",\"#ff7f0e\",\"#aec7e8\",\"#9467bd\",\"#c5b0d5\",\"#ff9896\",\"#98df8a\",\"#1f77b4\",\"#c5b0d5\",\"#ff7f0e\",\"#ffbb78\",\"#9467bd\",\"#1f77b4\",\"#9467bd\",\"#d62728\",\"#1f77b4\",\"#d62728\",\"#aec7e8\",\"#2ca02c\",\"#ff9896\",\"#ffbb78\",\"#2ca02c\",\"#ffbb78\",\"#2ca02c\",\"#2ca02c\",\"#ffbb78\",\"#aec7e8\",\"#ffbb78\",\"#ff9896\",\"#aec7e8\",\"#1f77b4\",\"#9467bd\",\"#98df8a\",\"#c5b0d5\",\"#d62728\",\"#ff7f0e\",\"#9467bd\",\"#c5b0d5\",\"#98df8a\",\"#ffbb78\",\"#ffbb78\",\"#aec7e8\",\"#9467bd\",\"#98df8a\",\"#ff9896\",\"#ffbb78\",\"#ffbb78\",\"#d62728\",\"#ff9896\",\"#aec7e8\",\"#ff9896\",\"#d62728\",\"#c5b0d5\",\"#9467bd\",\"#ff9896\",\"#9467bd\",\"#ff7f0e\",\"#aec7e8\",\"#ffbb78\",\"#c5b0d5\",\"#ff7f0e\",\"#c5b0d5\",\"#ff7f0e\",\"#ff9896\",\"#ff9896\",\"#c5b0d5\",\"#ff7f0e\",\"#c5b0d5\",\"#ffbb78\",\"#ff7f0e\",\"#2ca02c\",\"#c5b0d5\",\"#ff7f0e\",\"#1f77b4\",\"#2ca02c\",\"#ffbb78\",\"#ffbb78\",\"#9467bd\",\"#ff9896\",\"#aec7e8\",\"#ff9896\",\"#98df8a\",\"#98df8a\",\"#ff7f0e\",\"#9467bd\",\"#98df8a\",\"#aec7e8\",\"#ff7f0e\",\"#aec7e8\",\"#c5b0d5\",\"#aec7e8\",\"#ff7f0e\",\"#aec7e8\",\"#c5b0d5\",\"#ff9896\",\"#ff7f0e\",\"#aec7e8\",\"#ffbb78\",\"#aec7e8\",\"#ffbb78\",\"#1f77b4\",\"#98df8a\",\"#9467bd\",\"#1f77b4\",\"#1f77b4\",\"#d62728\",\"#ff7f0e\",\"#1f77b4\",\"#ff7f0e\",\"#aec7e8\",\"#ff9896\",\"#ff7f0e\",\"#2ca02c\",\"#d62728\",\"#2ca02c\",\"#c5b0d5\",\"#aec7e8\",\"#1f77b4\",\"#1f77b4\",\"#aec7e8\",\"#ffbb78\",\"#1f77b4\",\"#d62728\",\"#c5b0d5\",\"#1f77b4\",\"#9467bd\",\"#ffbb78\",\"#2ca02c\",\"#d62728\",\"#aec7e8\",\"#9467bd\",\"#9467bd\",\"#9467bd\",\"#ffbb78\",\"#9467bd\",\"#2ca02c\",\"#ffbb78\",\"#aec7e8\",\"#2ca02c\",\"#c5b0d5\",\"#ff7f0e\",\"#1f77b4\",\"#9467bd\",\"#ffbb78\",\"#d62728\",\"#1f77b4\",\"#1f77b4\",\"#ff7f0e\",\"#2ca02c\",\"#aec7e8\",\"#aec7e8\",\"#ffbb78\",\"#aec7e8\",\"#d62728\",\"#ff9896\",\"#c5b0d5\",\"#c5b0d5\",\"#d62728\",\"#d62728\",\"#9467bd\",\"#2ca02c\",\"#9467bd\",\"#98df8a\",\"#ff7f0e\",\"#9467bd\",\"#d62728\",\"#98df8a\",\"#d62728\",\"#98df8a\",\"#98df8a\",\"#ffbb78\",\"#ffbb78\",\"#98df8a\",\"#d62728\",\"#98df8a\",\"#c5b0d5\",\"#ff7f0e\",\"#aec7e8\",\"#ff7f0e\",\"#ffbb78\",\"#d62728\",\"#9467bd\",\"#ff9896\",\"#c5b0d5\",\"#ff9896\",\"#c5b0d5\",\"#ff7f0e\",\"#ff9896\",\"#1f77b4\",\"#ff9896\",\"#1f77b4\",\"#aec7e8\",\"#ffbb78\",\"#1f77b4\",\"#ff7f0e\",\"#c5b0d5\",\"#aec7e8\",\"#c5b0d5\",\"#2ca02c\",\"#98df8a\",\"#2ca02c\",\"#ff7f0e\",\"#ff9896\",\"#1f77b4\",\"#c5b0d5\",\"#c5b0d5\",\"#c5b0d5\",\"#ff9896\",\"#98df8a\",\"#ff7f0e\",\"#1f77b4\",\"#aec7e8\",\"#2ca02c\",\"#98df8a\",\"#9467bd\",\"#2ca02c\",\"#98df8a\",\"#ffbb78\",\"#2ca02c\",\"#98df8a\",\"#d62728\",\"#ff7f0e\",\"#ff9896\",\"#ff9896\",\"#ff9896\",\"#aec7e8\",\"#9467bd\",\"#2ca02c\",\"#98df8a\",\"#98df8a\",\"#ffbb78\",\"#ff9896\",\"#1f77b4\",\"#c5b0d5\",\"#ff9896\",\"#c5b0d5\",\"#98df8a\",\"#98df8a\",\"#9467bd\",\"#2ca02c\",\"#ff7f0e\",\"#c5b0d5\",\"#ff9896\",\"#ff7f0e\",\"#c5b0d5\",\"#ff7f0e\",\"#ff9896\",\"#2ca02c\",\"#d62728\",\"#d62728\",\"#ff7f0e\",\"#c5b0d5\",\"#d62728\",\"#d62728\",\"#2ca02c\",\"#c5b0d5\",\"#aec7e8\",\"#aec7e8\",\"#d62728\",\"#1f77b4\",\"#ff9896\",\"#ff7f0e\",\"#aec7e8\",\"#ff9896\",\"#c5b0d5\",\"#aec7e8\",\"#9467bd\",\"#1f77b4\",\"#ffbb78\",\"#ff9896\",\"#9467bd\",\"#9467bd\",\"#ff9896\",\"#ffbb78\",\"#ff7f0e\",\"#1f77b4\",\"#aec7e8\",\"#ff9896\",\"#1f77b4\",\"#c5b0d5\",\"#ff9896\",\"#ffbb78\",\"#2ca02c\",\"#2ca02c\",\"#ffbb78\",\"#d62728\",\"#2ca02c\",\"#aec7e8\",\"#9467bd\",\"#ff9896\",\"#ff7f0e\",\"#1f77b4\",\"#ff7f0e\",\"#ffbb78\",\"#1f77b4\",\"#9467bd\",\"#98df8a\",\"#aec7e8\",\"#d62728\",\"#d62728\",\"#aec7e8\",\"#aec7e8\",\"#d62728\",\"#d62728\",\"#aec7e8\",\"#aec7e8\",\"#ffbb78\",\"#ffbb78\",\"#9467bd\",\"#ff9896\",\"#aec7e8\",\"#9467bd\",\"#9467bd\",\"#98df8a\",\"#c5b0d5\",\"#1f77b4\",\"#aec7e8\",\"#1f77b4\",\"#ff7f0e\",\"#aec7e8\",\"#ff9896\",\"#1f77b4\",\"#ffbb78\",\"#aec7e8\",\"#ffbb78\",\"#98df8a\",\"#ff7f0e\",\"#9467bd\",\"#ff7f0e\",\"#98df8a\",\"#ff7f0e\",\"#98df8a\",\"#ffbb78\",\"#2ca02c\",\"#ffbb78\",\"#c5b0d5\",\"#d62728\",\"#2ca02c\",\"#d62728\",\"#ff9896\",\"#aec7e8\",\"#2ca02c\",\"#ffbb78\",\"#d62728\",\"#1f77b4\",\"#9467bd\",\"#98df8a\",\"#c5b0d5\",\"#d62728\",\"#ff9896\",\"#9467bd\",\"#aec7e8\",\"#1f77b4\",\"#98df8a\",\"#ff7f0e\",\"#2ca02c\",\"#d62728\",\"#1f77b4\",\"#9467bd\",\"#ff7f0e\",\"#9467bd\",\"#1f77b4\",\"#9467bd\",\"#ff9896\",\"#d62728\",\"#aec7e8\",\"#2ca02c\",\"#c5b0d5\",\"#c5b0d5\",\"#1f77b4\",\"#d62728\",\"#9467bd\",\"#c5b0d5\",\"#1f77b4\",\"#ff7f0e\",\"#ff7f0e\",\"#9467bd\",\"#d62728\",\"#2ca02c\",\"#aec7e8\",\"#c5b0d5\",\"#d62728\",\"#1f77b4\",\"#2ca02c\",\"#ff9896\",\"#d62728\",\"#aec7e8\",\"#ff9896\",\"#98df8a\",\"#98df8a\",\"#1f77b4\",\"#c5b0d5\",\"#9467bd\",\"#aec7e8\",\"#9467bd\",\"#ff7f0e\",\"#d62728\",\"#ffbb78\",\"#c5b0d5\",\"#ff9896\",\"#d62728\",\"#ff7f0e\",\"#aec7e8\",\"#c5b0d5\",\"#9467bd\",\"#ffbb78\",\"#ffbb78\",\"#1f77b4\",\"#9467bd\",\"#d62728\",\"#ff9896\",\"#2ca02c\",\"#ff7f0e\",\"#98df8a\",\"#ffbb78\",\"#1f77b4\",\"#ffbb78\",\"#9467bd\",\"#aec7e8\",\"#ff9896\",\"#ffbb78\",\"#ffbb78\",\"#aec7e8\",\"#1f77b4\",\"#aec7e8\",\"#c5b0d5\",\"#ff9896\",\"#c5b0d5\",\"#98df8a\",\"#d62728\",\"#9467bd\",\"#98df8a\",\"#ffbb78\",\"#aec7e8\",\"#ff9896\",\"#aec7e8\",\"#aec7e8\",\"#2ca02c\",\"#ff9896\",\"#9467bd\",\"#1f77b4\",\"#aec7e8\",\"#d62728\",\"#c5b0d5\",\"#d62728\",\"#aec7e8\",\"#ffbb78\",\"#1f77b4\",\"#9467bd\",\"#98df8a\",\"#ffbb78\",\"#d62728\",\"#2ca02c\",\"#98df8a\",\"#ff9896\",\"#ffbb78\",\"#ff9896\",\"#d62728\",\"#9467bd\",\"#98df8a\",\"#ff7f0e\",\"#1f77b4\",\"#ff7f0e\",\"#ff9896\",\"#2ca02c\",\"#2ca02c\",\"#d62728\",\"#9467bd\",\"#d62728\",\"#1f77b4\",\"#ffbb78\",\"#98df8a\",\"#ffbb78\",\"#aec7e8\",\"#1f77b4\",\"#98df8a\",\"#9467bd\",\"#1f77b4\",\"#aec7e8\",\"#c5b0d5\",\"#9467bd\",\"#1f77b4\",\"#9467bd\",\"#ffbb78\",\"#d62728\",\"#c5b0d5\",\"#ff9896\",\"#aec7e8\",\"#aec7e8\",\"#ff9896\",\"#ff9896\",\"#ffbb78\",\"#2ca02c\",\"#9467bd\",\"#c5b0d5\",\"#d62728\",\"#c5b0d5\",\"#ff7f0e\",\"#aec7e8\",\"#2ca02c\",\"#c5b0d5\",\"#ff9896\",\"#c5b0d5\",\"#9467bd\",\"#2ca02c\",\"#d62728\",\"#aec7e8\",\"#ffbb78\",\"#ffbb78\",\"#9467bd\",\"#aec7e8\",\"#9467bd\",\"#9467bd\",\"#98df8a\",\"#9467bd\",\"#9467bd\",\"#2ca02c\",\"#1f77b4\",\"#98df8a\",\"#98df8a\",\"#d62728\",\"#ff9896\",\"#1f77b4\",\"#ff7f0e\",\"#2ca02c\",\"#9467bd\",\"#ff7f0e\",\"#2ca02c\",\"#c5b0d5\",\"#1f77b4\",\"#c5b0d5\",\"#aec7e8\",\"#ff9896\",\"#2ca02c\",\"#2ca02c\",\"#2ca02c\",\"#ffbb78\",\"#ffbb78\",\"#ffbb78\",\"#2ca02c\",\"#c5b0d5\",\"#aec7e8\",\"#ff9896\",\"#1f77b4\",\"#9467bd\",\"#ffbb78\",\"#98df8a\",\"#aec7e8\",\"#2ca02c\",\"#ff7f0e\",\"#2ca02c\",\"#1f77b4\",\"#aec7e8\",\"#ffbb78\",\"#d62728\",\"#2ca02c\",\"#aec7e8\",\"#1f77b4\",\"#ffbb78\",\"#ff9896\",\"#ff7f0e\",\"#1f77b4\",\"#c5b0d5\",\"#1f77b4\",\"#ffbb78\",\"#d62728\",\"#1f77b4\",\"#aec7e8\",\"#ffbb78\",\"#9467bd\",\"#c5b0d5\",\"#9467bd\",\"#aec7e8\",\"#aec7e8\",\"#ff9896\",\"#ff7f0e\",\"#aec7e8\",\"#aec7e8\",\"#2ca02c\",\"#98df8a\",\"#9467bd\",\"#ffbb78\",\"#c5b0d5\",\"#1f77b4\",\"#2ca02c\",\"#aec7e8\",\"#2ca02c\",\"#ff7f0e\",\"#ff7f0e\",\"#aec7e8\",\"#1f77b4\",\"#9467bd\",\"#ffbb78\",\"#c5b0d5\",\"#c5b0d5\",\"#aec7e8\",\"#aec7e8\",\"#98df8a\",\"#2ca02c\",\"#9467bd\",\"#aec7e8\",\"#aec7e8\",\"#2ca02c\",\"#1f77b4\",\"#ff7f0e\",\"#ffbb78\",\"#d62728\",\"#ff7f0e\",\"#aec7e8\",\"#ff7f0e\",\"#1f77b4\",\"#ff9896\",\"#ff7f0e\",\"#ff9896\",\"#aec7e8\",\"#c5b0d5\",\"#1f77b4\",\"#1f77b4\",\"#2ca02c\",\"#d62728\",\"#ff7f0e\",\"#1f77b4\",\"#c5b0d5\",\"#9467bd\",\"#ff9896\",\"#ff7f0e\",\"#c5b0d5\",\"#1f77b4\",\"#ff7f0e\",\"#9467bd\",\"#d62728\",\"#ff9896\",\"#2ca02c\",\"#98df8a\",\"#d62728\",\"#aec7e8\",\"#aec7e8\",\"#ffbb78\",\"#98df8a\",\"#ffbb78\",\"#c5b0d5\",\"#1f77b4\",\"#9467bd\",\"#9467bd\",\"#aec7e8\",\"#2ca02c\",\"#aec7e8\",\"#ff9896\",\"#d62728\",\"#d62728\",\"#c5b0d5\",\"#d62728\",\"#ff9896\",\"#9467bd\",\"#2ca02c\",\"#2ca02c\",\"#2ca02c\",\"#ffbb78\",\"#c5b0d5\",\"#ffbb78\",\"#aec7e8\",\"#ffbb78\",\"#ff7f0e\",\"#ff9896\",\"#d62728\",\"#1f77b4\",\"#ffbb78\",\"#aec7e8\",\"#c5b0d5\",\"#c5b0d5\",\"#ff7f0e\",\"#9467bd\",\"#98df8a\",\"#d62728\",\"#ffbb78\",\"#2ca02c\",\"#1f77b4\",\"#ff7f0e\",\"#ff9896\",\"#ff7f0e\",\"#ffbb78\",\"#1f77b4\",\"#98df8a\",\"#d62728\",\"#1f77b4\",\"#ff7f0e\",\"#ff7f0e\",\"#ffbb78\",\"#9467bd\",\"#98df8a\",\"#ff9896\",\"#1f77b4\",\"#1f77b4\",\"#98df8a\",\"#2ca02c\",\"#1f77b4\",\"#9467bd\",\"#2ca02c\",\"#ff9896\",\"#ff9896\",\"#98df8a\",\"#98df8a\",\"#1f77b4\",\"#98df8a\",\"#9467bd\",\"#ff9896\",\"#ffbb78\",\"#d62728\",\"#98df8a\",\"#ff9896\",\"#1f77b4\",\"#c5b0d5\",\"#1f77b4\",\"#c5b0d5\",\"#9467bd\",\"#1f77b4\",\"#9467bd\",\"#9467bd\",\"#1f77b4\",\"#ffbb78\",\"#d62728\",\"#1f77b4\",\"#ffbb78\",\"#2ca02c\",\"#98df8a\",\"#9467bd\",\"#ff7f0e\",\"#9467bd\",\"#ff7f0e\",\"#9467bd\",\"#d62728\",\"#ff7f0e\",\"#2ca02c\",\"#1f77b4\",\"#d62728\",\"#2ca02c\",\"#aec7e8\",\"#9467bd\",\"#c5b0d5\",\"#9467bd\",\"#98df8a\",\"#ff9896\",\"#ff9896\",\"#aec7e8\",\"#1f77b4\",\"#ff7f0e\",\"#9467bd\",\"#d62728\",\"#2ca02c\",\"#ff9896\",\"#ffbb78\",\"#d62728\",\"#2ca02c\",\"#98df8a\",\"#d62728\",\"#c5b0d5\",\"#c5b0d5\",\"#c5b0d5\",\"#ff7f0e\",\"#9467bd\",\"#c5b0d5\",\"#9467bd\",\"#c5b0d5\",\"#2ca02c\",\"#c5b0d5\",\"#1f77b4\",\"#2ca02c\",\"#1f77b4\",\"#98df8a\",\"#1f77b4\",\"#ffbb78\",\"#ff9896\",\"#98df8a\",\"#98df8a\",\"#1f77b4\",\"#ff7f0e\",\"#aec7e8\",\"#ff7f0e\",\"#ff7f0e\",\"#d62728\",\"#2ca02c\",\"#98df8a\",\"#2ca02c\",\"#d62728\",\"#ff9896\",\"#ff9896\",\"#ff9896\",\"#d62728\",\"#aec7e8\",\"#9467bd\",\"#9467bd\",\"#ffbb78\",\"#d62728\",\"#2ca02c\",\"#d62728\",\"#d62728\",\"#ff7f0e\",\"#d62728\",\"#2ca02c\",\"#9467bd\",\"#1f77b4\",\"#ff9896\",\"#d62728\",\"#ffbb78\",\"#9467bd\",\"#aec7e8\",\"#c5b0d5\",\"#ff7f0e\",\"#ff7f0e\",\"#c5b0d5\",\"#ff7f0e\",\"#2ca02c\",\"#d62728\",\"#98df8a\",\"#ff9896\",\"#98df8a\",\"#d62728\",\"#ff9896\",\"#d62728\",\"#aec7e8\",\"#d62728\",\"#ffbb78\",\"#1f77b4\",\"#ff9896\",\"#ff7f0e\",\"#98df8a\",\"#c5b0d5\",\"#c5b0d5\",\"#ff7f0e\",\"#ff7f0e\",\"#9467bd\",\"#2ca02c\",\"#ff7f0e\",\"#2ca02c\",\"#ffbb78\",\"#9467bd\",\"#9467bd\",\"#aec7e8\",\"#ffbb78\",\"#9467bd\",\"#d62728\",\"#9467bd\",\"#9467bd\",\"#98df8a\",\"#2ca02c\",\"#1f77b4\",\"#9467bd\",\"#d62728\",\"#1f77b4\",\"#ff9896\",\"#ff9896\",\"#9467bd\",\"#98df8a\",\"#98df8a\",\"#d62728\",\"#ffbb78\",\"#98df8a\",\"#ff7f0e\",\"#2ca02c\",\"#98df8a\",\"#2ca02c\",\"#9467bd\",\"#aec7e8\",\"#9467bd\",\"#ff7f0e\",\"#2ca02c\",\"#c5b0d5\",\"#ffbb78\",\"#ff9896\",\"#9467bd\",\"#1f77b4\",\"#c5b0d5\",\"#ff9896\",\"#c5b0d5\",\"#ff7f0e\",\"#ffbb78\",\"#9467bd\",\"#ff9896\",\"#aec7e8\",\"#d62728\",\"#ff9896\",\"#98df8a\",\"#d62728\",\"#9467bd\",\"#aec7e8\",\"#ff7f0e\",\"#1f77b4\",\"#c5b0d5\",\"#1f77b4\",\"#ff7f0e\",\"#c5b0d5\",\"#d62728\",\"#c5b0d5\",\"#1f77b4\",\"#98df8a\",\"#ff7f0e\",\"#98df8a\",\"#c5b0d5\",\"#9467bd\",\"#c5b0d5\",\"#aec7e8\",\"#9467bd\",\"#aec7e8\",\"#aec7e8\",\"#c5b0d5\",\"#aec7e8\",\"#ff7f0e\",\"#c5b0d5\",\"#ffbb78\",\"#c5b0d5\",\"#d62728\",\"#ffbb78\",\"#2ca02c\",\"#2ca02c\",\"#ff7f0e\",\"#1f77b4\",\"#ff7f0e\",\"#c5b0d5\",\"#aec7e8\",\"#ff7f0e\",\"#98df8a\",\"#ff7f0e\",\"#d62728\",\"#1f77b4\",\"#1f77b4\",\"#2ca02c\",\"#ff7f0e\",\"#c5b0d5\",\"#98df8a\",\"#9467bd\",\"#2ca02c\",\"#aec7e8\",\"#aec7e8\",\"#ffbb78\",\"#c5b0d5\",\"#ffbb78\",\"#ffbb78\",\"#ff7f0e\",\"#c5b0d5\",\"#1f77b4\",\"#ff7f0e\",\"#ffbb78\",\"#9467bd\",\"#c5b0d5\",\"#aec7e8\",\"#9467bd\",\"#ffbb78\",\"#9467bd\",\"#aec7e8\",\"#2ca02c\",\"#2ca02c\",\"#98df8a\",\"#1f77b4\",\"#ff7f0e\",\"#ff9896\",\"#1f77b4\",\"#ffbb78\",\"#ff7f0e\",\"#2ca02c\",\"#c5b0d5\",\"#1f77b4\",\"#2ca02c\",\"#aec7e8\",\"#ffbb78\",\"#9467bd\",\"#d62728\",\"#98df8a\",\"#c5b0d5\",\"#9467bd\",\"#d62728\",\"#2ca02c\",\"#ffbb78\",\"#c5b0d5\",\"#2ca02c\",\"#98df8a\",\"#d62728\",\"#ffbb78\",\"#1f77b4\",\"#9467bd\",\"#c5b0d5\",\"#c5b0d5\",\"#aec7e8\",\"#ffbb78\",\"#d62728\",\"#ff9896\",\"#d62728\",\"#d62728\",\"#d62728\",\"#1f77b4\",\"#ff7f0e\",\"#9467bd\",\"#c5b0d5\",\"#c5b0d5\",\"#2ca02c\",\"#9467bd\",\"#d62728\",\"#d62728\",\"#1f77b4\",\"#aec7e8\",\"#ff9896\",\"#aec7e8\",\"#c5b0d5\",\"#1f77b4\",\"#ff7f0e\",\"#9467bd\",\"#2ca02c\",\"#d62728\",\"#1f77b4\",\"#c5b0d5\",\"#aec7e8\",\"#2ca02c\",\"#1f77b4\",\"#ffbb78\",\"#c5b0d5\",\"#aec7e8\",\"#ff9896\",\"#ff9896\",\"#9467bd\",\"#ff7f0e\",\"#c5b0d5\",\"#ff9896\",\"#ffbb78\",\"#d62728\",\"#1f77b4\",\"#d62728\",\"#2ca02c\",\"#ffbb78\",\"#c5b0d5\",\"#c5b0d5\",\"#aec7e8\",\"#ff7f0e\",\"#9467bd\",\"#ff7f0e\",\"#9467bd\",\"#d62728\",\"#aec7e8\",\"#98df8a\",\"#d62728\",\"#ff9896\",\"#ffbb78\",\"#2ca02c\",\"#9467bd\",\"#2ca02c\",\"#d62728\",\"#d62728\",\"#9467bd\",\"#98df8a\",\"#98df8a\",\"#9467bd\",\"#1f77b4\",\"#ff9896\",\"#98df8a\",\"#aec7e8\",\"#ff9896\",\"#aec7e8\",\"#2ca02c\",\"#aec7e8\",\"#ffbb78\",\"#ffbb78\",\"#ff7f0e\",\"#aec7e8\",\"#9467bd\",\"#ffbb78\",\"#98df8a\",\"#98df8a\",\"#98df8a\",\"#ff9896\",\"#ffbb78\",\"#c5b0d5\",\"#d62728\",\"#ff7f0e\",\"#c5b0d5\",\"#ff9896\",\"#d62728\",\"#aec7e8\",\"#c5b0d5\",\"#ffbb78\",\"#9467bd\",\"#c5b0d5\",\"#98df8a\",\"#ff9896\",\"#d62728\",\"#c5b0d5\",\"#ff7f0e\",\"#ffbb78\",\"#c5b0d5\",\"#1f77b4\",\"#1f77b4\",\"#98df8a\",\"#ff7f0e\",\"#1f77b4\",\"#2ca02c\",\"#ff9896\",\"#1f77b4\",\"#ff9896\",\"#aec7e8\",\"#ffbb78\",\"#aec7e8\",\"#1f77b4\",\"#9467bd\",\"#c5b0d5\",\"#1f77b4\",\"#2ca02c\",\"#ff9896\",\"#c5b0d5\",\"#2ca02c\",\"#1f77b4\",\"#c5b0d5\",\"#ffbb78\",\"#ff7f0e\",\"#c5b0d5\",\"#2ca02c\",\"#d62728\",\"#aec7e8\",\"#ff7f0e\",\"#ff9896\",\"#d62728\",\"#1f77b4\",\"#2ca02c\",\"#9467bd\",\"#98df8a\",\"#9467bd\",\"#ffbb78\",\"#aec7e8\",\"#ff7f0e\",\"#aec7e8\",\"#98df8a\",\"#ff9896\",\"#2ca02c\",\"#98df8a\",\"#ffbb78\",\"#aec7e8\",\"#aec7e8\",\"#98df8a\",\"#2ca02c\",\"#9467bd\",\"#9467bd\",\"#ff9896\",\"#ffbb78\",\"#2ca02c\",\"#ffbb78\",\"#1f77b4\",\"#2ca02c\",\"#ffbb78\",\"#d62728\",\"#c5b0d5\",\"#1f77b4\",\"#c5b0d5\",\"#98df8a\",\"#c5b0d5\",\"#2ca02c\",\"#ff7f0e\",\"#ff7f0e\",\"#ff9896\",\"#98df8a\",\"#1f77b4\",\"#ff9896\",\"#ff9896\",\"#c5b0d5\",\"#d62728\",\"#2ca02c\",\"#ff7f0e\",\"#aec7e8\",\"#aec7e8\",\"#aec7e8\",\"#2ca02c\",\"#ffbb78\",\"#ff7f0e\",\"#98df8a\",\"#aec7e8\",\"#d62728\",\"#ff9896\",\"#ffbb78\",\"#c5b0d5\",\"#c5b0d5\",\"#ff7f0e\",\"#98df8a\",\"#98df8a\",\"#2ca02c\",\"#2ca02c\",\"#d62728\",\"#c5b0d5\",\"#d62728\",\"#1f77b4\",\"#ffbb78\",\"#ffbb78\",\"#ff7f0e\",\"#d62728\",\"#ff9896\",\"#2ca02c\",\"#ff7f0e\",\"#2ca02c\",\"#d62728\",\"#1f77b4\",\"#ff7f0e\",\"#ffbb78\",\"#2ca02c\",\"#ffbb78\",\"#ff7f0e\",\"#d62728\",\"#c5b0d5\",\"#9467bd\",\"#9467bd\",\"#2ca02c\",\"#c5b0d5\",\"#c5b0d5\",\"#9467bd\",\"#1f77b4\",\"#ff7f0e\",\"#ffbb78\",\"#1f77b4\",\"#ff7f0e\",\"#1f77b4\",\"#ff9896\",\"#d62728\",\"#c5b0d5\",\"#9467bd\",\"#2ca02c\",\"#9467bd\",\"#ff7f0e\",\"#c5b0d5\",\"#ff9896\",\"#ffbb78\",\"#2ca02c\",\"#ff9896\",\"#d62728\",\"#ff7f0e\",\"#98df8a\",\"#aec7e8\",\"#c5b0d5\",\"#98df8a\",\"#ff9896\",\"#c5b0d5\",\"#ffbb78\",\"#1f77b4\",\"#98df8a\",\"#ff9896\",\"#aec7e8\",\"#aec7e8\",\"#ff9896\",\"#d62728\",\"#ff9896\",\"#d62728\",\"#1f77b4\",\"#ffbb78\",\"#d62728\",\"#ff7f0e\",\"#ff7f0e\",\"#ff7f0e\",\"#9467bd\",\"#2ca02c\",\"#ff9896\",\"#c5b0d5\",\"#aec7e8\",\"#aec7e8\",\"#c5b0d5\",\"#c5b0d5\",\"#ff7f0e\",\"#ff7f0e\",\"#98df8a\",\"#d62728\",\"#c5b0d5\",\"#c5b0d5\",\"#98df8a\",\"#ffbb78\",\"#ffbb78\",\"#c5b0d5\",\"#2ca02c\",\"#ff7f0e\",\"#1f77b4\",\"#98df8a\",\"#2ca02c\",\"#9467bd\",\"#d62728\",\"#9467bd\",\"#c5b0d5\",\"#98df8a\",\"#2ca02c\",\"#1f77b4\",\"#98df8a\",\"#98df8a\",\"#aec7e8\",\"#c5b0d5\",\"#c5b0d5\",\"#aec7e8\",\"#ffbb78\",\"#ff9896\",\"#2ca02c\",\"#ff7f0e\",\"#aec7e8\",\"#2ca02c\",\"#aec7e8\",\"#1f77b4\",\"#ff9896\",\"#c5b0d5\",\"#ff9896\",\"#ff9896\",\"#98df8a\",\"#ffbb78\",\"#ff9896\",\"#1f77b4\",\"#ffbb78\",\"#9467bd\",\"#2ca02c\",\"#c5b0d5\",\"#9467bd\",\"#9467bd\",\"#c5b0d5\",\"#c5b0d5\",\"#ff9896\",\"#9467bd\",\"#d62728\",\"#9467bd\",\"#aec7e8\",\"#c5b0d5\",\"#98df8a\",\"#c5b0d5\",\"#ff7f0e\",\"#9467bd\",\"#c5b0d5\",\"#ff7f0e\",\"#2ca02c\",\"#98df8a\",\"#2ca02c\",\"#ff9896\",\"#aec7e8\",\"#2ca02c\",\"#98df8a\",\"#ff9896\",\"#9467bd\",\"#c5b0d5\",\"#98df8a\",\"#98df8a\",\"#aec7e8\",\"#ff9896\",\"#ff7f0e\",\"#d62728\",\"#9467bd\",\"#ff9896\",\"#d62728\",\"#9467bd\",\"#c5b0d5\",\"#ff7f0e\",\"#ff7f0e\",\"#c5b0d5\",\"#ff9896\",\"#2ca02c\",\"#2ca02c\",\"#ff9896\",\"#ff7f0e\",\"#ffbb78\",\"#aec7e8\",\"#c5b0d5\",\"#98df8a\",\"#c5b0d5\",\"#ffbb78\",\"#ff9896\",\"#98df8a\",\"#aec7e8\",\"#9467bd\",\"#98df8a\",\"#1f77b4\",\"#ff9896\",\"#ff9896\",\"#2ca02c\",\"#2ca02c\",\"#1f77b4\",\"#ffbb78\",\"#ff9896\",\"#9467bd\",\"#ffbb78\",\"#ff7f0e\",\"#d62728\",\"#d62728\",\"#ff9896\",\"#c5b0d5\",\"#d62728\",\"#aec7e8\",\"#aec7e8\"],\"label\":[\"2\",\"1\",\"2\",\"0\",\"9\",\"0\",\"6\",\"2\",\"9\",\"1\",\"3\",\"9\",\"2\",\"6\",\"2\",\"9\",\"7\",\"0\",\"1\",\"8\",\"7\",\"1\",\"1\",\"1\",\"9\",\"0\",\"7\",\"1\",\"6\",\"4\",\"7\",\"7\",\"2\",\"5\",\"6\",\"9\",\"8\",\"6\",\"6\",\"2\",\"1\",\"5\",\"5\",\"6\",\"9\",\"0\",\"9\",\"2\",\"0\",\"2\",\"4\",\"2\",\"6\",\"7\",\"7\",\"2\",\"5\",\"4\",\"2\",\"2\",\"7\",\"4\",\"3\",\"6\",\"2\",\"8\",\"9\",\"3\",\"5\",\"3\",\"7\",\"1\",\"2\",\"2\",\"4\",\"1\",\"8\",\"1\",\"2\",\"3\",\"4\",\"5\",\"4\",\"9\",\"9\",\"0\",\"3\",\"9\",\"8\",\"2\",\"4\",\"9\",\"6\",\"5\",\"1\",\"4\",\"7\",\"9\",\"8\",\"6\",\"9\",\"4\",\"5\",\"6\",\"3\",\"7\",\"6\",\"2\",\"8\",\"5\",\"5\",\"2\",\"0\",\"9\",\"5\",\"4\",\"0\",\"4\",\"6\",\"4\",\"7\",\"1\",\"2\",\"3\",\"6\",\"2\",\"9\",\"4\",\"9\",\"4\",\"4\",\"9\",\"9\",\"9\",\"3\",\"8\",\"3\",\"9\",\"3\",\"3\",\"3\",\"4\",\"3\",\"5\",\"3\",\"1\",\"4\",\"9\",\"9\",\"6\",\"4\",\"4\",\"5\",\"0\",\"1\",\"9\",\"8\",\"2\",\"3\",\"5\",\"4\",\"7\",\"2\",\"5\",\"5\",\"6\",\"3\",\"9\",\"3\",\"0\",\"6\",\"8\",\"5\",\"0\",\"3\",\"6\",\"8\",\"0\",\"2\",\"7\",\"1\",\"9\",\"3\",\"1\",\"1\",\"2\",\"4\",\"1\",\"2\",\"4\",\"9\",\"6\",\"3\",\"8\",\"6\",\"2\",\"1\",\"9\",\"0\",\"2\",\"0\",\"5\",\"7\",\"3\",\"6\",\"9\",\"7\",\"2\",\"7\",\"6\",\"3\",\"3\",\"2\",\"2\",\"8\",\"9\",\"3\",\"8\",\"4\",\"3\",\"9\",\"7\",\"3\",\"9\",\"3\",\"1\",\"5\",\"8\",\"7\",\"2\",\"8\",\"0\",\"2\",\"9\",\"4\",\"9\",\"0\",\"4\",\"2\",\"8\",\"4\",\"5\",\"7\",\"5\",\"1\",\"8\",\"2\",\"3\",\"1\",\"0\",\"5\",\"4\",\"3\",\"2\",\"3\",\"1\",\"9\",\"6\",\"1\",\"5\",\"7\",\"0\",\"1\",\"1\",\"9\",\"7\",\"2\",\"7\",\"5\",\"3\",\"8\",\"6\",\"0\",\"7\",\"1\",\"6\",\"1\",\"7\",\"0\",\"0\",\"1\",\"7\",\"5\",\"3\",\"3\",\"4\",\"2\",\"3\",\"9\",\"2\",\"7\",\"3\",\"9\",\"4\",\"2\",\"3\",\"6\",\"1\",\"2\",\"1\",\"0\",\"6\",\"4\",\"4\",\"2\",\"6\",\"2\",\"6\",\"3\",\"7\",\"5\",\"8\",\"9\",\"8\",\"8\",\"9\",\"3\",\"0\",\"8\",\"6\",\"2\",\"3\",\"7\",\"4\",\"2\",\"7\",\"4\",\"7\",\"3\",\"6\",\"5\",\"4\",\"7\",\"4\",\"7\",\"8\",\"3\",\"1\",\"3\",\"6\",\"7\",\"6\",\"9\",\"4\",\"4\",\"2\",\"1\",\"5\",\"9\",\"5\",\"9\",\"7\",\"2\",\"0\",\"4\",\"3\",\"3\",\"2\",\"1\",\"6\",\"6\",\"3\",\"0\",\"3\",\"9\",\"5\",\"5\",\"8\",\"1\",\"2\",\"1\",\"8\",\"0\",\"1\",\"7\",\"4\",\"8\",\"8\",\"1\",\"4\",\"6\",\"0\",\"8\",\"8\",\"1\",\"2\",\"9\",\"6\",\"9\",\"2\",\"3\",\"8\",\"7\",\"5\",\"4\",\"5\",\"5\",\"1\",\"9\",\"2\",\"0\",\"4\",\"7\",\"3\",\"1\",\"5\",\"9\",\"6\",\"1\",\"8\",\"5\",\"0\",\"3\",\"4\",\"7\",\"6\",\"2\",\"9\",\"6\",\"8\",\"7\",\"1\",\"0\",\"4\",\"4\",\"9\",\"5\",\"8\",\"9\",\"0\",\"7\",\"5\",\"2\",\"4\",\"2\",\"3\",\"6\",\"5\",\"6\",\"8\",\"8\",\"5\",\"0\",\"4\",\"7\",\"5\",\"0\",\"0\",\"7\",\"2\",\"1\",\"2\",\"4\",\"2\",\"8\",\"4\",\"6\",\"1\",\"6\",\"2\",\"9\",\"9\",\"0\",\"0\",\"1\",\"1\",\"8\",\"0\",\"7\",\"7\",\"5\",\"3\",\"1\",\"4\",\"2\",\"6\",\"0\",\"8\",\"4\",\"8\",\"9\",\"7\",\"7\",\"4\",\"1\",\"1\",\"1\",\"2\",\"2\",\"4\",\"3\",\"6\",\"7\",\"0\",\"0\",\"3\",\"5\",\"1\",\"8\",\"7\",\"1\",\"8\",\"1\",\"9\",\"7\",\"5\",\"4\",\"6\",\"9\",\"8\",\"2\",\"0\",\"7\",\"3\",\"2\",\"8\",\"9\",\"3\",\"6\",\"8\",\"5\",\"4\",\"8\",\"2\",\"3\",\"8\",\"0\",\"5\",\"3\",\"4\",\"3\",\"4\",\"3\",\"9\",\"8\",\"1\",\"4\",\"7\",\"8\",\"9\",\"9\",\"3\",\"2\",\"3\",\"1\",\"2\",\"7\",\"6\",\"0\",\"3\",\"0\",\"9\",\"5\",\"4\",\"6\",\"8\",\"4\",\"4\",\"0\",\"7\",\"8\",\"5\",\"2\",\"3\",\"4\",\"3\",\"8\",\"5\",\"8\",\"7\",\"6\",\"8\",\"6\",\"2\",\"7\",\"0\",\"5\",\"2\",\"2\",\"4\",\"1\",\"2\",\"9\",\"5\",\"9\",\"6\",\"3\",\"8\",\"3\",\"8\",\"7\",\"4\",\"3\",\"3\",\"6\",\"4\",\"6\",\"1\",\"0\",\"9\",\"1\",\"1\",\"9\",\"0\",\"0\",\"1\",\"8\",\"0\",\"0\",\"8\",\"0\",\"4\",\"9\",\"6\",\"1\",\"5\",\"8\",\"7\",\"9\",\"1\",\"0\",\"7\",\"2\",\"0\",\"9\",\"4\",\"9\",\"4\",\"5\",\"9\",\"1\",\"9\",\"3\",\"0\",\"5\",\"1\",\"9\",\"7\",\"3\",\"4\",\"1\",\"9\",\"7\",\"4\",\"0\",\"2\",\"8\",\"4\",\"3\",\"2\",\"4\",\"4\",\"0\",\"1\",\"8\",\"9\",\"4\",\"3\",\"7\",\"4\",\"5\",\"8\",\"3\",\"1\",\"1\",\"7\",\"0\",\"1\",\"0\",\"3\",\"3\",\"0\",\"3\",\"9\",\"6\",\"3\",\"3\",\"7\",\"1\",\"1\",\"0\",\"8\",\"9\",\"1\",\"4\",\"9\",\"8\",\"6\",\"6\",\"7\",\"9\",\"0\",\"1\",\"7\",\"8\",\"6\",\"7\",\"1\",\"5\",\"3\",\"7\",\"2\",\"9\",\"7\",\"2\",\"3\",\"7\",\"3\",\"3\",\"9\",\"5\",\"4\",\"3\",\"3\",\"5\",\"8\",\"9\",\"9\",\"0\",\"3\",\"4\",\"9\",\"2\",\"2\",\"7\",\"1\",\"5\",\"0\",\"2\",\"9\",\"0\",\"0\",\"2\",\"1\",\"6\",\"6\",\"4\",\"0\",\"7\",\"9\",\"0\",\"5\",\"2\",\"5\",\"1\",\"4\",\"0\",\"0\",\"6\",\"4\",\"5\",\"1\",\"7\",\"0\",\"6\",\"9\",\"9\",\"8\",\"6\",\"5\",\"9\",\"4\",\"2\",\"7\",\"4\",\"6\",\"4\",\"8\",\"0\",\"7\",\"4\",\"4\",\"9\",\"6\",\"1\",\"7\",\"2\",\"4\",\"7\",\"4\",\"0\",\"7\",\"2\",\"6\",\"8\",\"5\",\"6\",\"5\",\"1\",\"1\",\"2\",\"6\",\"8\",\"7\",\"5\",\"2\",\"1\",\"0\",\"6\",\"6\",\"1\",\"2\",\"2\",\"6\",\"0\",\"7\",\"9\",\"1\",\"1\",\"1\",\"2\",\"7\",\"8\",\"7\",\"2\",\"3\",\"3\",\"5\",\"7\",\"9\",\"0\",\"5\",\"0\",\"4\",\"5\",\"5\",\"4\",\"0\",\"6\",\"6\",\"9\",\"1\",\"1\",\"2\",\"0\",\"8\",\"6\",\"6\",\"3\",\"7\",\"3\",\"0\",\"1\",\"1\",\"8\",\"8\",\"7\",\"4\",\"7\",\"6\",\"2\",\"6\",\"5\",\"6\",\"2\",\"7\",\"4\",\"1\",\"4\",\"1\",\"6\",\"1\",\"9\",\"8\",\"9\",\"8\",\"8\",\"2\",\"1\",\"3\",\"7\",\"8\",\"2\",\"8\",\"2\",\"2\",\"5\",\"7\",\"7\",\"4\",\"2\",\"9\",\"0\",\"3\",\"3\",\"1\",\"3\",\"8\",\"6\",\"5\",\"9\",\"2\",\"9\",\"3\",\"0\",\"8\",\"5\",\"3\",\"7\",\"8\",\"0\",\"1\",\"3\",\"7\",\"7\",\"9\",\"3\",\"3\",\"4\",\"6\",\"2\",\"7\",\"7\",\"0\",\"1\",\"1\",\"9\",\"4\",\"0\",\"9\",\"3\",\"1\",\"0\",\"5\",\"6\",\"1\",\"2\",\"9\",\"1\",\"7\",\"0\",\"2\",\"2\",\"5\",\"0\",\"9\",\"1\",\"4\",\"3\",\"9\",\"8\",\"9\",\"7\",\"5\",\"3\",\"2\",\"2\",\"8\",\"4\",\"5\",\"6\",\"8\",\"9\",\"0\",\"6\",\"1\",\"0\",\"2\",\"0\",\"2\",\"7\",\"7\",\"0\",\"9\",\"5\",\"5\",\"1\",\"1\",\"7\",\"6\",\"7\",\"2\",\"2\",\"2\",\"7\",\"6\",\"3\",\"4\",\"7\",\"0\",\"1\",\"9\",\"4\",\"5\",\"0\",\"0\",\"1\",\"1\",\"1\",\"3\",\"2\",\"1\",\"9\",\"7\",\"7\",\"3\",\"7\",\"0\",\"9\",\"2\",\"2\",\"1\",\"9\",\"4\",\"2\",\"7\",\"2\",\"6\",\"8\",\"7\",\"9\",\"2\",\"0\",\"7\",\"5\",\"3\",\"3\",\"6\",\"4\",\"9\",\"7\",\"2\",\"2\",\"3\",\"1\",\"0\",\"2\",\"1\",\"4\",\"2\",\"9\",\"5\",\"9\",\"0\",\"6\",\"0\",\"0\",\"4\",\"8\",\"2\",\"1\",\"1\",\"4\",\"3\",\"6\",\"2\",\"0\",\"1\",\"7\",\"6\",\"1\",\"2\",\"9\",\"0\",\"8\",\"0\",\"4\",\"2\",\"0\",\"4\",\"4\",\"3\",\"0\",\"5\",\"4\",\"5\",\"0\",\"7\",\"1\",\"9\",\"9\",\"8\",\"8\",\"8\",\"0\",\"1\",\"3\",\"0\",\"1\",\"9\",\"2\",\"5\",\"3\",\"9\",\"2\",\"8\",\"5\",\"9\",\"2\",\"3\",\"6\",\"3\",\"9\",\"3\",\"6\",\"3\",\"9\",\"2\",\"8\",\"1\",\"4\",\"5\",\"2\",\"5\",\"7\",\"1\",\"8\",\"0\",\"6\",\"9\",\"7\",\"1\",\"0\",\"9\",\"0\",\"6\",\"7\",\"3\",\"2\",\"3\",\"9\",\"8\",\"7\",\"1\",\"1\",\"2\",\"7\",\"7\",\"9\",\"1\",\"4\",\"0\",\"3\",\"5\",\"2\",\"7\",\"8\",\"2\",\"7\",\"5\",\"7\",\"7\",\"7\",\"2\",\"5\",\"5\",\"6\",\"8\",\"4\",\"7\",\"7\",\"1\",\"9\",\"3\",\"9\",\"4\",\"4\",\"5\",\"9\",\"2\",\"6\",\"5\",\"5\",\"5\",\"6\",\"6\",\"7\",\"6\",\"5\",\"0\",\"3\",\"9\",\"8\",\"2\",\"0\",\"9\",\"7\",\"0\",\"1\",\"7\",\"0\",\"0\",\"7\",\"3\",\"0\",\"6\",\"5\",\"6\",\"3\",\"4\",\"1\",\"1\",\"7\",\"6\",\"1\",\"1\",\"1\",\"3\",\"3\",\"8\",\"7\",\"0\",\"6\",\"5\",\"8\",\"5\",\"5\",\"1\",\"7\",\"0\",\"3\",\"5\",\"8\",\"5\",\"6\",\"6\",\"0\",\"8\",\"3\",\"0\",\"3\",\"6\",\"3\",\"8\",\"9\",\"4\",\"5\",\"9\",\"1\",\"8\",\"3\",\"4\",\"1\",\"4\",\"8\",\"2\",\"2\",\"0\",\"5\",\"3\",\"0\",\"5\",\"4\",\"8\",\"0\",\"9\",\"3\",\"3\",\"9\",\"6\",\"9\",\"1\",\"8\",\"6\",\"2\",\"5\",\"0\",\"0\",\"7\",\"9\",\"7\",\"6\",\"2\",\"5\",\"0\",\"8\",\"1\",\"1\",\"7\",\"4\",\"8\",\"4\",\"0\",\"5\",\"2\",\"5\",\"2\",\"5\",\"8\",\"8\",\"0\",\"3\",\"3\",\"6\",\"6\",\"5\",\"7\",\"7\",\"3\",\"3\",\"2\",\"7\",\"0\",\"0\",\"3\",\"7\",\"1\",\"4\",\"3\",\"9\",\"1\",\"6\",\"3\",\"8\",\"4\",\"8\",\"8\",\"7\",\"7\",\"4\",\"4\",\"5\",\"5\",\"9\",\"2\",\"7\",\"7\",\"6\",\"7\",\"8\",\"1\",\"0\",\"8\",\"0\",\"4\",\"6\",\"6\",\"4\",\"6\",\"9\",\"7\",\"5\",\"5\",\"6\",\"2\",\"9\",\"5\",\"2\",\"4\",\"0\",\"6\",\"8\",\"3\",\"4\",\"0\",\"9\",\"7\",\"5\",\"6\",\"5\",\"9\",\"6\",\"3\",\"3\",\"6\",\"7\",\"8\",\"1\",\"1\",\"3\",\"2\",\"8\",\"6\",\"5\",\"9\",\"3\",\"1\",\"3\",\"9\",\"3\",\"7\",\"1\",\"0\",\"3\",\"7\",\"7\",\"3\",\"9\",\"2\",\"1\",\"9\",\"9\",\"7\",\"1\",\"0\",\"4\",\"8\",\"9\",\"6\",\"3\",\"9\",\"2\",\"2\",\"4\",\"2\",\"4\",\"2\",\"4\",\"7\",\"6\",\"7\",\"6\",\"3\",\"2\",\"7\",\"2\",\"0\",\"4\",\"5\",\"9\",\"1\",\"9\",\"1\",\"1\",\"4\",\"1\",\"8\",\"2\",\"8\",\"1\",\"3\",\"0\",\"2\",\"9\",\"2\",\"3\",\"1\",\"5\",\"1\",\"4\",\"0\",\"0\",\"0\",\"4\",\"4\",\"8\",\"2\",\"9\",\"2\",\"5\",\"4\",\"0\",\"0\",\"4\",\"8\",\"1\",\"8\",\"2\",\"0\",\"1\",\"2\",\"1\",\"7\",\"0\",\"0\",\"6\",\"5\",\"9\",\"3\",\"8\",\"5\",\"7\",\"8\",\"8\",\"3\",\"1\",\"0\",\"2\",\"2\",\"4\",\"4\",\"5\",\"3\",\"1\",\"5\",\"1\",\"9\",\"0\",\"7\",\"5\",\"3\",\"5\",\"0\",\"7\",\"8\",\"8\",\"7\",\"6\",\"4\",\"4\",\"8\",\"1\",\"9\",\"3\",\"8\",\"6\",\"0\",\"0\",\"7\",\"7\",\"6\",\"5\",\"9\",\"7\",\"8\",\"3\",\"2\",\"6\",\"8\",\"8\",\"8\",\"2\",\"3\",\"8\",\"1\",\"0\",\"1\",\"3\",\"8\",\"5\",\"0\",\"3\",\"9\",\"6\",\"3\",\"1\",\"4\",\"5\",\"8\",\"2\",\"2\",\"3\",\"9\",\"1\",\"7\",\"5\",\"3\",\"6\",\"7\",\"5\",\"9\",\"2\",\"5\",\"3\",\"7\",\"4\",\"7\",\"2\",\"1\",\"5\",\"6\",\"6\",\"0\",\"7\",\"4\",\"0\",\"6\",\"0\",\"6\",\"2\",\"8\",\"2\",\"5\",\"1\",\"3\",\"1\",\"3\",\"4\",\"2\",\"8\",\"4\",\"2\",\"1\",\"7\",\"6\",\"6\",\"0\",\"8\",\"2\",\"1\",\"1\",\"6\",\"1\",\"7\",\"2\",\"9\",\"0\",\"1\",\"3\",\"4\",\"5\",\"8\",\"8\",\"4\",\"7\",\"4\",\"4\",\"1\",\"7\",\"2\",\"8\",\"3\",\"7\",\"8\",\"7\",\"5\",\"8\",\"1\",\"7\",\"1\",\"7\",\"5\",\"3\",\"6\",\"1\",\"1\",\"1\",\"9\",\"0\",\"2\",\"5\",\"6\",\"2\",\"1\",\"8\",\"9\",\"7\",\"5\",\"0\",\"9\",\"2\",\"3\",\"8\",\"0\",\"8\",\"6\",\"0\",\"6\",\"1\",\"4\",\"7\",\"3\",\"4\",\"3\",\"4\",\"4\",\"3\",\"1\",\"3\",\"7\",\"1\",\"0\",\"8\",\"5\",\"9\",\"6\",\"2\",\"8\",\"9\",\"5\",\"3\",\"3\",\"1\",\"8\",\"5\",\"7\",\"3\",\"3\",\"6\",\"7\",\"1\",\"7\",\"6\",\"9\",\"8\",\"7\",\"8\",\"2\",\"1\",\"3\",\"9\",\"2\",\"9\",\"2\",\"7\",\"7\",\"9\",\"2\",\"9\",\"3\",\"2\",\"4\",\"9\",\"2\",\"0\",\"4\",\"3\",\"3\",\"8\",\"7\",\"1\",\"7\",\"5\",\"5\",\"2\",\"8\",\"5\",\"1\",\"2\",\"1\",\"9\",\"1\",\"2\",\"1\",\"9\",\"7\",\"2\",\"1\",\"3\",\"1\",\"3\",\"0\",\"5\",\"8\",\"0\",\"0\",\"6\",\"2\",\"0\",\"2\",\"1\",\"7\",\"2\",\"4\",\"6\",\"4\",\"9\",\"1\",\"0\",\"0\",\"1\",\"3\",\"0\",\"6\",\"9\",\"0\",\"8\",\"3\",\"4\",\"6\",\"1\",\"8\",\"8\",\"8\",\"3\",\"8\",\"4\",\"3\",\"1\",\"4\",\"9\",\"2\",\"0\",\"8\",\"3\",\"6\",\"0\",\"0\",\"2\",\"4\",\"1\",\"1\",\"3\",\"1\",\"6\",\"7\",\"9\",\"9\",\"6\",\"6\",\"8\",\"4\",\"8\",\"5\",\"2\",\"8\",\"6\",\"5\",\"6\",\"5\",\"5\",\"3\",\"3\",\"5\",\"6\",\"5\",\"9\",\"2\",\"1\",\"2\",\"3\",\"6\",\"8\",\"7\",\"9\",\"7\",\"9\",\"2\",\"7\",\"0\",\"7\",\"0\",\"1\",\"3\",\"0\",\"2\",\"9\",\"1\",\"9\",\"4\",\"5\",\"4\",\"2\",\"7\",\"0\",\"9\",\"9\",\"9\",\"7\",\"5\",\"2\",\"0\",\"1\",\"4\",\"5\",\"8\",\"4\",\"5\",\"3\",\"4\",\"5\",\"6\",\"2\",\"7\",\"7\",\"7\",\"1\",\"8\",\"4\",\"5\",\"5\",\"3\",\"7\",\"0\",\"9\",\"7\",\"9\",\"5\",\"5\",\"8\",\"4\",\"2\",\"9\",\"7\",\"2\",\"9\",\"2\",\"7\",\"4\",\"6\",\"6\",\"2\",\"9\",\"6\",\"6\",\"4\",\"9\",\"1\",\"1\",\"6\",\"0\",\"7\",\"2\",\"1\",\"7\",\"9\",\"1\",\"8\",\"0\",\"3\",\"7\",\"8\",\"8\",\"7\",\"3\",\"2\",\"0\",\"1\",\"7\",\"0\",\"9\",\"7\",\"3\",\"4\",\"4\",\"3\",\"6\",\"4\",\"1\",\"8\",\"7\",\"2\",\"0\",\"2\",\"3\",\"0\",\"8\",\"5\",\"1\",\"6\",\"6\",\"1\",\"1\",\"6\",\"6\",\"1\",\"1\",\"3\",\"3\",\"8\",\"7\",\"1\",\"8\",\"8\",\"5\",\"9\",\"0\",\"1\",\"0\",\"2\",\"1\",\"7\",\"0\",\"3\",\"1\",\"3\",\"5\",\"2\",\"8\",\"2\",\"5\",\"2\",\"5\",\"3\",\"4\",\"3\",\"9\",\"6\",\"4\",\"6\",\"7\",\"1\",\"4\",\"3\",\"6\",\"0\",\"8\",\"5\",\"9\",\"6\",\"7\",\"8\",\"1\",\"0\",\"5\",\"2\",\"4\",\"6\",\"0\",\"8\",\"2\",\"8\",\"0\",\"8\",\"7\",\"6\",\"1\",\"4\",\"9\",\"9\",\"0\",\"6\",\"8\",\"9\",\"0\",\"2\",\"2\",\"8\",\"6\",\"4\",\"1\",\"9\",\"6\",\"0\",\"4\",\"7\",\"6\",\"1\",\"7\",\"5\",\"5\",\"0\",\"9\",\"8\",\"1\",\"8\",\"2\",\"6\",\"3\",\"9\",\"7\",\"6\",\"2\",\"1\",\"9\",\"8\",\"3\",\"3\",\"0\",\"8\",\"6\",\"7\",\"4\",\"2\",\"5\",\"3\",\"0\",\"3\",\"8\",\"1\",\"7\",\"3\",\"3\",\"1\",\"0\",\"1\",\"9\",\"7\",\"9\",\"5\",\"6\",\"8\",\"5\",\"3\",\"1\",\"7\",\"1\",\"1\",\"4\",\"7\",\"8\",\"0\",\"1\",\"6\",\"9\",\"6\",\"1\",\"3\",\"0\",\"8\",\"5\",\"3\",\"6\",\"4\",\"5\",\"7\",\"3\",\"7\",\"6\",\"8\",\"5\",\"2\",\"0\",\"2\",\"7\",\"4\",\"4\",\"6\",\"8\",\"6\",\"0\",\"3\",\"5\",\"3\",\"1\",\"0\",\"5\",\"8\",\"0\",\"1\",\"9\",\"8\",\"0\",\"8\",\"3\",\"6\",\"9\",\"7\",\"1\",\"1\",\"7\",\"7\",\"3\",\"4\",\"8\",\"9\",\"6\",\"9\",\"2\",\"1\",\"4\",\"9\",\"7\",\"9\",\"8\",\"4\",\"6\",\"1\",\"3\",\"3\",\"8\",\"1\",\"8\",\"8\",\"5\",\"8\",\"8\",\"4\",\"0\",\"5\",\"5\",\"6\",\"7\",\"0\",\"2\",\"4\",\"8\",\"2\",\"4\",\"9\",\"0\",\"9\",\"1\",\"7\",\"4\",\"4\",\"4\",\"3\",\"3\",\"3\",\"4\",\"9\",\"1\",\"7\",\"0\",\"8\",\"3\",\"5\",\"1\",\"4\",\"2\",\"4\",\"0\",\"1\",\"3\",\"6\",\"4\",\"1\",\"0\",\"3\",\"7\",\"2\",\"0\",\"9\",\"0\",\"3\",\"6\",\"0\",\"1\",\"3\",\"8\",\"9\",\"8\",\"1\",\"1\",\"7\",\"2\",\"1\",\"1\",\"4\",\"5\",\"8\",\"3\",\"9\",\"0\",\"4\",\"1\",\"4\",\"2\",\"2\",\"1\",\"0\",\"8\",\"3\",\"9\",\"9\",\"1\",\"1\",\"5\",\"4\",\"8\",\"1\",\"1\",\"4\",\"0\",\"2\",\"3\",\"6\",\"2\",\"1\",\"2\",\"0\",\"7\",\"2\",\"7\",\"1\",\"9\",\"0\",\"0\",\"4\",\"6\",\"2\",\"0\",\"9\",\"8\",\"7\",\"2\",\"9\",\"0\",\"2\",\"8\",\"6\",\"7\",\"4\",\"5\",\"6\",\"1\",\"1\",\"3\",\"5\",\"3\",\"9\",\"0\",\"8\",\"8\",\"1\",\"4\",\"1\",\"7\",\"6\",\"6\",\"9\",\"6\",\"7\",\"8\",\"4\",\"4\",\"4\",\"3\",\"9\",\"3\",\"1\",\"3\",\"2\",\"7\",\"6\",\"0\",\"3\",\"1\",\"9\",\"9\",\"2\",\"8\",\"5\",\"6\",\"3\",\"4\",\"0\",\"2\",\"7\",\"2\",\"3\",\"0\",\"5\",\"6\",\"0\",\"2\",\"2\",\"3\",\"8\",\"5\",\"7\",\"0\",\"0\",\"5\",\"4\",\"0\",\"8\",\"4\",\"7\",\"7\",\"5\",\"5\",\"0\",\"5\",\"8\",\"7\",\"3\",\"6\",\"5\",\"7\",\"0\",\"9\",\"0\",\"9\",\"8\",\"0\",\"8\",\"8\",\"0\",\"3\",\"6\",\"0\",\"3\",\"4\",\"5\",\"8\",\"2\",\"8\",\"2\",\"8\",\"6\",\"2\",\"4\",\"0\",\"6\",\"4\",\"1\",\"8\",\"9\",\"8\",\"5\",\"7\",\"7\",\"1\",\"0\",\"2\",\"8\",\"6\",\"4\",\"7\",\"3\",\"6\",\"4\",\"5\",\"6\",\"9\",\"9\",\"9\",\"2\",\"8\",\"9\",\"8\",\"9\",\"4\",\"9\",\"0\",\"4\",\"0\",\"5\",\"0\",\"3\",\"7\",\"5\",\"5\",\"0\",\"2\",\"1\",\"2\",\"2\",\"6\",\"4\",\"5\",\"4\",\"6\",\"7\",\"7\",\"7\",\"6\",\"1\",\"8\",\"8\",\"3\",\"6\",\"4\",\"6\",\"6\",\"2\",\"6\",\"4\",\"8\",\"0\",\"7\",\"6\",\"3\",\"8\",\"1\",\"9\",\"2\",\"2\",\"9\",\"2\",\"4\",\"6\",\"5\",\"7\",\"5\",\"6\",\"7\",\"6\",\"1\",\"6\",\"3\",\"0\",\"7\",\"2\",\"5\",\"9\",\"9\",\"2\",\"2\",\"8\",\"4\",\"2\",\"4\",\"3\",\"8\",\"8\",\"1\",\"3\",\"8\",\"6\",\"8\",\"8\",\"5\",\"4\",\"0\",\"8\",\"6\",\"0\",\"7\",\"7\",\"8\",\"5\",\"5\",\"6\",\"3\",\"5\",\"2\",\"4\",\"5\",\"4\",\"8\",\"1\",\"8\",\"2\",\"4\",\"9\",\"3\",\"7\",\"8\",\"0\",\"9\",\"7\",\"9\",\"2\",\"3\",\"8\",\"7\",\"1\",\"6\",\"7\",\"5\",\"6\",\"8\",\"1\",\"2\",\"0\",\"9\",\"0\",\"2\",\"9\",\"6\",\"9\",\"0\",\"5\",\"2\",\"5\",\"9\",\"8\",\"9\",\"1\",\"8\",\"1\",\"1\",\"9\",\"1\",\"2\",\"9\",\"3\",\"9\",\"6\",\"3\",\"4\",\"4\",\"2\",\"0\",\"2\",\"9\",\"1\",\"2\",\"5\",\"2\",\"6\",\"0\",\"0\",\"4\",\"2\",\"9\",\"5\",\"8\",\"4\",\"1\",\"1\",\"3\",\"9\",\"3\",\"3\",\"2\",\"9\",\"0\",\"2\",\"3\",\"8\",\"9\",\"1\",\"8\",\"3\",\"8\",\"1\",\"4\",\"4\",\"5\",\"0\",\"2\",\"7\",\"0\",\"3\",\"2\",\"4\",\"9\",\"0\",\"4\",\"1\",\"3\",\"8\",\"6\",\"5\",\"9\",\"8\",\"6\",\"4\",\"3\",\"9\",\"4\",\"5\",\"6\",\"3\",\"0\",\"8\",\"9\",\"9\",\"1\",\"3\",\"6\",\"7\",\"6\",\"6\",\"6\",\"0\",\"2\",\"8\",\"9\",\"9\",\"4\",\"8\",\"6\",\"6\",\"0\",\"1\",\"7\",\"1\",\"9\",\"0\",\"2\",\"8\",\"4\",\"6\",\"0\",\"9\",\"1\",\"4\",\"0\",\"3\",\"9\",\"1\",\"7\",\"7\",\"8\",\"2\",\"9\",\"7\",\"3\",\"6\",\"0\",\"6\",\"4\",\"3\",\"9\",\"9\",\"1\",\"2\",\"8\",\"2\",\"8\",\"6\",\"1\",\"5\",\"6\",\"7\",\"3\",\"4\",\"8\",\"4\",\"6\",\"6\",\"8\",\"5\",\"5\",\"8\",\"0\",\"7\",\"5\",\"1\",\"7\",\"1\",\"4\",\"1\",\"3\",\"3\",\"2\",\"1\",\"8\",\"3\",\"5\",\"5\",\"5\",\"7\",\"3\",\"9\",\"6\",\"2\",\"9\",\"7\",\"6\",\"1\",\"9\",\"3\",\"8\",\"9\",\"5\",\"7\",\"6\",\"9\",\"2\",\"3\",\"9\",\"0\",\"0\",\"5\",\"2\",\"0\",\"4\",\"7\",\"0\",\"7\",\"1\",\"3\",\"1\",\"0\",\"8\",\"9\",\"0\",\"4\",\"7\",\"9\",\"4\",\"0\",\"9\",\"3\",\"2\",\"9\",\"4\",\"6\",\"1\",\"2\",\"7\",\"6\",\"0\",\"4\",\"8\",\"5\",\"8\",\"3\",\"1\",\"2\",\"1\",\"5\",\"7\",\"4\",\"5\",\"3\",\"1\",\"1\",\"5\",\"4\",\"8\",\"8\",\"7\",\"3\",\"4\",\"3\",\"0\",\"4\",\"3\",\"6\",\"9\",\"0\",\"9\",\"5\",\"9\",\"4\",\"2\",\"2\",\"7\",\"5\",\"0\",\"7\",\"7\",\"9\",\"6\",\"4\",\"2\",\"1\",\"1\",\"1\",\"4\",\"3\",\"2\",\"5\",\"1\",\"6\",\"7\",\"3\",\"9\",\"9\",\"2\",\"5\",\"5\",\"4\",\"4\",\"6\",\"9\",\"6\",\"0\",\"3\",\"3\",\"2\",\"6\",\"7\",\"4\",\"2\",\"4\",\"6\",\"0\",\"2\",\"3\",\"4\",\"3\",\"2\",\"6\",\"9\",\"8\",\"8\",\"4\",\"9\",\"9\",\"8\",\"0\",\"2\",\"3\",\"0\",\"2\",\"0\",\"7\",\"6\",\"9\",\"8\",\"4\",\"8\",\"2\",\"9\",\"7\",\"3\",\"4\",\"7\",\"6\",\"2\",\"5\",\"1\",\"9\",\"5\",\"7\",\"9\",\"3\",\"0\",\"5\",\"7\",\"1\",\"1\",\"7\",\"6\",\"7\",\"6\",\"0\",\"3\",\"6\",\"2\",\"2\",\"2\",\"8\",\"4\",\"7\",\"9\",\"1\",\"1\",\"9\",\"9\",\"2\",\"2\",\"5\",\"6\",\"9\",\"9\",\"5\",\"3\",\"3\",\"9\",\"4\",\"2\",\"0\",\"5\",\"4\",\"8\",\"6\",\"8\",\"9\",\"5\",\"4\",\"0\",\"5\",\"5\",\"1\",\"9\",\"9\",\"1\",\"3\",\"7\",\"4\",\"2\",\"1\",\"4\",\"1\",\"0\",\"7\",\"9\",\"7\",\"7\",\"5\",\"3\",\"7\",\"0\",\"3\",\"8\",\"4\",\"9\",\"8\",\"8\",\"9\",\"9\",\"7\",\"8\",\"6\",\"8\",\"1\",\"9\",\"5\",\"9\",\"2\",\"8\",\"9\",\"2\",\"4\",\"5\",\"4\",\"7\",\"1\",\"4\",\"5\",\"7\",\"8\",\"9\",\"5\",\"5\",\"1\",\"7\",\"2\",\"6\",\"8\",\"7\",\"6\",\"8\",\"9\",\"2\",\"2\",\"9\",\"7\",\"4\",\"4\",\"7\",\"2\",\"3\",\"1\",\"9\",\"5\",\"9\",\"3\",\"7\",\"5\",\"1\",\"8\",\"5\",\"0\",\"7\",\"7\",\"4\",\"4\",\"0\",\"3\",\"7\",\"8\",\"3\",\"2\",\"6\",\"6\",\"7\",\"9\",\"6\",\"1\",\"1\"],\"x\":{\"__ndarray__\":\"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\",\"dtype\":\"float32\",\"shape\":[3000]},\"y\":{\"__ndarray__\":\"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\",\"dtype\":\"float32\",\"shape\":[3000]}},\"selected\":{\"id\":\"a94b5ddf-8ca1-4297-b12a-0cc2ca07bc25\",\"type\":\"Selection\"},\"selection_policy\":{\"id\":\"cd07df72-5f07-44fa-a092-266231057fc6\",\"type\":\"UnionRenderers\"}},\"id\":\"ddef3011-756d-44c2-b720-7dadd0f1ce3b\",\"type\":\"ColumnDataSource\"},{\"attributes\":{\"label\":{\"field\":\"label\"},\"renderers\":[{\"id\":\"4ddeb753-2402-4d18-987f-232fd72db878\",\"type\":\"GlyphRenderer\"}]},\"id\":\"d682f93f-0f6e-40d8-b39a-9a85fc3977db\",\"type\":\"LegendItem\"},{\"attributes\":{},\"id\":\"a94b5ddf-8ca1-4297-b12a-0cc2ca07bc25\",\"type\":\"Selection\"},{\"attributes\":{\"callback\":null},\"id\":\"c5587186-2194-446f-a4f6-c1c2a5b290fd\",\"type\":\"DataRange1d\"},{\"attributes\":{\"plot\":null,\"text\":\"\"},\"id\":\"28bb1c94-c83e-4663-a775-288fa532ac88\",\"type\":\"Title\"},{\"attributes\":{},\"id\":\"fe8fe8c8-7f9c-4fbe-b92d-6409773d76ef\",\"type\":\"SaveTool\"},{\"attributes\":{},\"id\":\"cd07df72-5f07-44fa-a092-266231057fc6\",\"type\":\"UnionRenderers\"},{\"attributes\":{},\"id\":\"3b05d4d9-f294-4cd4-b420-b32856612b2c\",\"type\":\"WheelZoomTool\"},{\"attributes\":{\"data_source\":{\"id\":\"ddef3011-756d-44c2-b720-7dadd0f1ce3b\",\"type\":\"ColumnDataSource\"},\"glyph\":{\"id\":\"47b36bc0-4a40-4f6b-8991-960c737c0ce7\",\"type\":\"Circle\"},\"hover_glyph\":null,\"muted_glyph\":null,\"nonselection_glyph\":{\"id\":\"03e689b7-4b97-49ab-a5fe-e5404ad6c9ca\",\"type\":\"Circle\"},\"selection_glyph\":null,\"view\":{\"id\":\"a50043e1-e845-4851-bf7c-ac6bf5f8c957\",\"type\":\"CDSView\"}},\"id\":\"4ddeb753-2402-4d18-987f-232fd72db878\",\"type\":\"GlyphRenderer\"},{\"attributes\":{\"fill_color\":{\"field\":\"color\"},\"line_color\":{\"field\":\"color\"},\"x\":{\"field\":\"x\"},\"y\":{\"field\":\"y\"}},\"id\":\"47b36bc0-4a40-4f6b-8991-960c737c0ce7\",\"type\":\"Circle\"},{\"attributes\":{\"overlay\":{\"id\":\"01358f2c-828e-420d-837b-8a1fd5feefbe\",\"type\":\"BoxAnnotation\"}},\"id\":\"d372ca86-5c4a-4dbb-b5f5-81365f7f0805\",\"type\":\"BoxZoomTool\"},{\"attributes\":{\"callback\":null},\"id\":\"f30156a0-2e83-4b12-83a0-f2cae11d347f\",\"type\":\"DataRange1d\"},{\"attributes\":{},\"id\":\"c59a9f57-109a-4ef4-9601-0aea40696c23\",\"type\":\"PanTool\"},{\"attributes\":{\"source\":{\"id\":\"ddef3011-756d-44c2-b720-7dadd0f1ce3b\",\"type\":\"ColumnDataSource\"}},\"id\":\"a50043e1-e845-4851-bf7c-ac6bf5f8c957\",\"type\":\"CDSView\"},{\"attributes\":{},\"id\":\"0d009582-878a-4ed6-9f2e-9b674a162424\",\"type\":\"ResetTool\"},{\"attributes\":{\"min_border\":1,\"plot_height\":500,\"plot_width\":700,\"renderers\":[{\"id\":\"01358f2c-828e-420d-837b-8a1fd5feefbe\",\"type\":\"BoxAnnotation\"},{\"id\":\"aebb0d3e-fa48-4f45-aa08-72ce28022bd8\",\"type\":\"Legend\"},{\"id\":\"4ddeb753-2402-4d18-987f-232fd72db878\",\"type\":\"GlyphRenderer\"},{\"id\":\"aebb0d3e-fa48-4f45-aa08-72ce28022bd8\",\"type\":\"Legend\"}],\"right\":[{\"id\":\"aebb0d3e-fa48-4f45-aa08-72ce28022bd8\",\"type\":\"Legend\"}],\"title\":{\"id\":\"28bb1c94-c83e-4663-a775-288fa532ac88\",\"type\":\"Title\"},\"toolbar\":{\"id\":\"a50ae9fd-0ed5-4eff-ba00-91509a6fb349\",\"type\":\"Toolbar\"},\"x_range\":{\"id\":\"f30156a0-2e83-4b12-83a0-f2cae11d347f\",\"type\":\"DataRange1d\"},\"x_scale\":{\"id\":\"bb9861a4-5fda-4a8e-82e9-a256978aa6e0\",\"type\":\"LinearScale\"},\"y_range\":{\"id\":\"c5587186-2194-446f-a4f6-c1c2a5b290fd\",\"type\":\"DataRange1d\"},\"y_scale\":{\"id\":\"8511760b-0a24-4701-a6b4-c21c809bd029\",\"type\":\"LinearScale\"}},\"id\":\"11080b00-ca06-479a-a04a-ec7ee7ea0f2c\",\"subtype\":\"Figure\",\"type\":\"Plot\"},{\"attributes\":{\"fill_alpha\":{\"value\":0.1},\"fill_color\":{\"value\":\"#1f77b4\"},\"line_alpha\":{\"value\":0.1},\"line_color\":{\"value\":\"#1f77b4\"},\"x\":{\"field\":\"x\"},\"y\":{\"field\":\"y\"}},\"id\":\"03e689b7-4b97-49ab-a5fe-e5404ad6c9ca\",\"type\":\"Circle\"},{\"attributes\":{\"callback\":null,\"renderers\":\"auto\"},\"id\":\"269f65af-e8f4-4b1f-bf8a-156468667326\",\"type\":\"HoverTool\"}],\"root_ids\":[\"11080b00-ca06-479a-a04a-ec7ee7ea0f2c\"]},\"title\":\"Bokeh Application\",\"version\":\"0.13.0\"}};\n",
       "  var render_items = [{\"docid\":\"02ab2b3c-6190-480d-a8b3-faa606700929\",\"roots\":{\"11080b00-ca06-479a-a04a-ec7ee7ea0f2c\":\"0f1f0b6f-1f8d-4ba0-8938-0a7f33ab1e78\"}}];\n",
       "  root.Bokeh.embed.embed_items_notebook(docs_json, render_items);\n",
       "\n",
       "  }\n",
       "  if (root.Bokeh !== undefined) {\n",
       "    embed_document(root);\n",
       "  } else {\n",
       "    var attempts = 0;\n",
       "    var timer = setInterval(function(root) {\n",
       "      if (root.Bokeh !== undefined) {\n",
       "        embed_document(root);\n",
       "        clearInterval(timer);\n",
       "      }\n",
       "      attempts++;\n",
       "      if (attempts > 100) {\n",
       "        console.log(\"Bokeh: ERROR: Unable to run BokehJS code because BokehJS library is missing\")\n",
       "        clearInterval(timer);\n",
       "      }\n",
       "    }, 10, root)\n",
       "  }\n",
       "})(window);"
      ],
      "application/vnd.bokehjs_exec.v0+json": ""
     },
     "metadata": {
      "application/vnd.bokehjs_exec.v0+json": {
       "id": "11080b00-ca06-479a-a04a-ec7ee7ea0f2c"
      }
     },
     "output_type": "display_data"
    }
   ],
   "source": [
    "plot_embedding(X_emb, labels, named_labels)"
   ]
  },
  {
   "cell_type": "code",
   "execution_count": 11,
   "metadata": {},
   "outputs": [
    {
     "data": {
      "text/plain": [
       "torch.Size([3000, 1, 28, 28])"
      ]
     },
     "execution_count": 11,
     "metadata": {},
     "output_type": "execute_result"
    }
   ],
   "source": [
    "inputs.shape"
   ]
  },
  {
   "cell_type": "code",
   "execution_count": null,
   "metadata": {},
   "outputs": [],
   "source": []
  }
 ],
 "metadata": {
  "kernelspec": {
   "display_name": "Python 3",
   "language": "python",
   "name": "python3"
  },
  "language_info": {
   "codemirror_mode": {
    "name": "ipython",
    "version": 3
   },
   "file_extension": ".py",
   "mimetype": "text/x-python",
   "name": "python",
   "nbconvert_exporter": "python",
   "pygments_lexer": "ipython3",
   "version": "3.6.6"
  }
 },
 "nbformat": 4,
 "nbformat_minor": 2
}
