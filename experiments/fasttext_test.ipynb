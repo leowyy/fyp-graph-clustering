{
 "cells": [
  {
   "cell_type": "code",
   "execution_count": 1,
   "metadata": {},
   "outputs": [
    {
     "data": {
      "text/plain": [
       "'/Users/signapoop/Desktop/fyp-graph-clustering'"
      ]
     },
     "execution_count": 1,
     "metadata": {},
     "output_type": "execute_result"
    }
   ],
   "source": [
    "import os\n",
    "os.chdir('..')\n",
    "os.getcwd()"
   ]
  },
  {
   "cell_type": "code",
   "execution_count": 2,
   "metadata": {},
   "outputs": [],
   "source": [
    "%matplotlib inline\n",
    "import matplotlib.pyplot as plt\n",
    "from matplotlib.offsetbox import OffsetImage, AnnotationBbox\n",
    "\n",
    "import pickle \n",
    "import numpy as np\n",
    "import pandas as pd\n",
    "import torch\n",
    "import os\n",
    "from timeit import default_timer as timer"
   ]
  },
  {
   "cell_type": "code",
   "execution_count": 3,
   "metadata": {},
   "outputs": [],
   "source": [
    "from core.GraphConvNet2 import GraphConvNet2\n",
    "from core.DataEmbeddingGraph import DataEmbeddingGraph"
   ]
  },
  {
   "cell_type": "code",
   "execution_count": 4,
   "metadata": {},
   "outputs": [
    {
     "name": "stdout",
     "output_type": "stream",
     "text": [
      "cuda not available\n"
     ]
    }
   ],
   "source": [
    "if torch.cuda.is_available():\n",
    "    print('cuda available')\n",
    "    device = 'cuda'\n",
    "else:\n",
    "    print('cuda not available')\n",
    "    device = 'cpu'"
   ]
  },
  {
   "cell_type": "code",
   "execution_count": 6,
   "metadata": {},
   "outputs": [],
   "source": [
    "parent_dir = os.path.abspath('..')\n",
    "test_file = '/data/fasttext/fasttext_test_tsne.pkl'\n",
    "with open(parent_dir+test_file, 'rb') as f:\n",
    "    [inputs, labels, X_emb] = pickle.load(f)"
   ]
  },
  {
   "cell_type": "code",
   "execution_count": 7,
   "metadata": {},
   "outputs": [
    {
     "name": "stdout",
     "output_type": "stream",
     "text": [
      "(1000, 300)\n",
      "1000\n",
      "(1000, 3)\n"
     ]
    }
   ],
   "source": [
    "print(inputs.shape)\n",
    "print(len(labels))\n",
    "print(X_emb.shape)"
   ]
  },
  {
   "cell_type": "code",
   "execution_count": 8,
   "metadata": {},
   "outputs": [],
   "source": [
    "G = DataEmbeddingGraph(inputs, [])"
   ]
  },
  {
   "cell_type": "code",
   "execution_count": 9,
   "metadata": {},
   "outputs": [],
   "source": [
    "net_parameters = {}\n",
    "net_parameters['n_components'] = 3\n",
    "net_parameters['D'] = 300 # input dimension\n",
    "net_parameters['H'] = 50 # number of hidden units\n",
    "net_parameters['L'] = 10 # number of hidden layers\n",
    "net_parameters['n_channels'] = 1\n",
    "net_parameters['n_units_1'] = net_parameters['n_units_2'] = net_parameters['H']"
   ]
  },
  {
   "cell_type": "code",
   "execution_count": 11,
   "metadata": {},
   "outputs": [],
   "source": [
    "# Graph net\n",
    "net = GraphConvNet2(net_parameters)\n",
    "if torch.cuda.is_available(): net.cuda()\n",
    "root = 'results/fasttext_preprocessed_tsne1/'\n",
    "filename = root + 'graph_net5.pkl'\n",
    "checkpoint = torch.load(filename, map_location=device)\n",
    "net.load_state_dict(checkpoint['state_dict'])"
   ]
  },
  {
   "cell_type": "code",
   "execution_count": 12,
   "metadata": {},
   "outputs": [],
   "source": [
    "# Net\n",
    "if torch.cuda.is_available():   \n",
    "    y_pred = net.forward(G).cpu().detach().numpy()\n",
    "else:    \n",
    "    y_pred = net.forward(G).detach().numpy()"
   ]
  },
  {
   "cell_type": "code",
   "execution_count": 13,
   "metadata": {},
   "outputs": [],
   "source": [
    "n_plot = 500\n",
    "X_plot = y_pred[:n_plot]\n",
    "labels_plot = labels[:n_plot]"
   ]
  },
  {
   "cell_type": "code",
   "execution_count": 16,
   "metadata": {},
   "outputs": [
    {
     "data": {
      "text/html": [
       "\n",
       "    <div class=\"bk-root\">\n",
       "        <a href=\"https://bokeh.pydata.org\" target=\"_blank\" class=\"bk-logo bk-logo-small bk-logo-notebook\"></a>\n",
       "        <span id=\"2d7e6443-1e9b-47ec-a85f-b9e9765b5ac0\">Loading BokehJS ...</span>\n",
       "    </div>"
      ]
     },
     "metadata": {},
     "output_type": "display_data"
    },
    {
     "data": {
      "application/javascript": [
       "\n",
       "(function(root) {\n",
       "  function now() {\n",
       "    return new Date();\n",
       "  }\n",
       "\n",
       "  var force = true;\n",
       "\n",
       "  if (typeof (root._bokeh_onload_callbacks) === \"undefined\" || force === true) {\n",
       "    root._bokeh_onload_callbacks = [];\n",
       "    root._bokeh_is_loading = undefined;\n",
       "  }\n",
       "\n",
       "  var JS_MIME_TYPE = 'application/javascript';\n",
       "  var HTML_MIME_TYPE = 'text/html';\n",
       "  var EXEC_MIME_TYPE = 'application/vnd.bokehjs_exec.v0+json';\n",
       "  var CLASS_NAME = 'output_bokeh rendered_html';\n",
       "\n",
       "  /**\n",
       "   * Render data to the DOM node\n",
       "   */\n",
       "  function render(props, node) {\n",
       "    var script = document.createElement(\"script\");\n",
       "    node.appendChild(script);\n",
       "  }\n",
       "\n",
       "  /**\n",
       "   * Handle when an output is cleared or removed\n",
       "   */\n",
       "  function handleClearOutput(event, handle) {\n",
       "    var cell = handle.cell;\n",
       "\n",
       "    var id = cell.output_area._bokeh_element_id;\n",
       "    var server_id = cell.output_area._bokeh_server_id;\n",
       "    // Clean up Bokeh references\n",
       "    if (id != null && id in Bokeh.index) {\n",
       "      Bokeh.index[id].model.document.clear();\n",
       "      delete Bokeh.index[id];\n",
       "    }\n",
       "\n",
       "    if (server_id !== undefined) {\n",
       "      // Clean up Bokeh references\n",
       "      var cmd = \"from bokeh.io.state import curstate; print(curstate().uuid_to_server['\" + server_id + \"'].get_sessions()[0].document.roots[0]._id)\";\n",
       "      cell.notebook.kernel.execute(cmd, {\n",
       "        iopub: {\n",
       "          output: function(msg) {\n",
       "            var id = msg.content.text.trim();\n",
       "            if (id in Bokeh.index) {\n",
       "              Bokeh.index[id].model.document.clear();\n",
       "              delete Bokeh.index[id];\n",
       "            }\n",
       "          }\n",
       "        }\n",
       "      });\n",
       "      // Destroy server and session\n",
       "      var cmd = \"import bokeh.io.notebook as ion; ion.destroy_server('\" + server_id + \"')\";\n",
       "      cell.notebook.kernel.execute(cmd);\n",
       "    }\n",
       "  }\n",
       "\n",
       "  /**\n",
       "   * Handle when a new output is added\n",
       "   */\n",
       "  function handleAddOutput(event, handle) {\n",
       "    var output_area = handle.output_area;\n",
       "    var output = handle.output;\n",
       "\n",
       "    // limit handleAddOutput to display_data with EXEC_MIME_TYPE content only\n",
       "    if ((output.output_type != \"display_data\") || (!output.data.hasOwnProperty(EXEC_MIME_TYPE))) {\n",
       "      return\n",
       "    }\n",
       "\n",
       "    var toinsert = output_area.element.find(\".\" + CLASS_NAME.split(' ')[0]);\n",
       "\n",
       "    if (output.metadata[EXEC_MIME_TYPE][\"id\"] !== undefined) {\n",
       "      toinsert[toinsert.length - 1].firstChild.textContent = output.data[JS_MIME_TYPE];\n",
       "      // store reference to embed id on output_area\n",
       "      output_area._bokeh_element_id = output.metadata[EXEC_MIME_TYPE][\"id\"];\n",
       "    }\n",
       "    if (output.metadata[EXEC_MIME_TYPE][\"server_id\"] !== undefined) {\n",
       "      var bk_div = document.createElement(\"div\");\n",
       "      bk_div.innerHTML = output.data[HTML_MIME_TYPE];\n",
       "      var script_attrs = bk_div.children[0].attributes;\n",
       "      for (var i = 0; i < script_attrs.length; i++) {\n",
       "        toinsert[toinsert.length - 1].firstChild.setAttribute(script_attrs[i].name, script_attrs[i].value);\n",
       "      }\n",
       "      // store reference to server id on output_area\n",
       "      output_area._bokeh_server_id = output.metadata[EXEC_MIME_TYPE][\"server_id\"];\n",
       "    }\n",
       "  }\n",
       "\n",
       "  function register_renderer(events, OutputArea) {\n",
       "\n",
       "    function append_mime(data, metadata, element) {\n",
       "      // create a DOM node to render to\n",
       "      var toinsert = this.create_output_subarea(\n",
       "        metadata,\n",
       "        CLASS_NAME,\n",
       "        EXEC_MIME_TYPE\n",
       "      );\n",
       "      this.keyboard_manager.register_events(toinsert);\n",
       "      // Render to node\n",
       "      var props = {data: data, metadata: metadata[EXEC_MIME_TYPE]};\n",
       "      render(props, toinsert[toinsert.length - 1]);\n",
       "      element.append(toinsert);\n",
       "      return toinsert\n",
       "    }\n",
       "\n",
       "    /* Handle when an output is cleared or removed */\n",
       "    events.on('clear_output.CodeCell', handleClearOutput);\n",
       "    events.on('delete.Cell', handleClearOutput);\n",
       "\n",
       "    /* Handle when a new output is added */\n",
       "    events.on('output_added.OutputArea', handleAddOutput);\n",
       "\n",
       "    /**\n",
       "     * Register the mime type and append_mime function with output_area\n",
       "     */\n",
       "    OutputArea.prototype.register_mime_type(EXEC_MIME_TYPE, append_mime, {\n",
       "      /* Is output safe? */\n",
       "      safe: true,\n",
       "      /* Index of renderer in `output_area.display_order` */\n",
       "      index: 0\n",
       "    });\n",
       "  }\n",
       "\n",
       "  // register the mime type if in Jupyter Notebook environment and previously unregistered\n",
       "  if (root.Jupyter !== undefined) {\n",
       "    var events = require('base/js/events');\n",
       "    var OutputArea = require('notebook/js/outputarea').OutputArea;\n",
       "\n",
       "    if (OutputArea.prototype.mime_types().indexOf(EXEC_MIME_TYPE) == -1) {\n",
       "      register_renderer(events, OutputArea);\n",
       "    }\n",
       "  }\n",
       "\n",
       "  \n",
       "  if (typeof (root._bokeh_timeout) === \"undefined\" || force === true) {\n",
       "    root._bokeh_timeout = Date.now() + 5000;\n",
       "    root._bokeh_failed_load = false;\n",
       "  }\n",
       "\n",
       "  var NB_LOAD_WARNING = {'data': {'text/html':\n",
       "     \"<div style='background-color: #fdd'>\\n\"+\n",
       "     \"<p>\\n\"+\n",
       "     \"BokehJS does not appear to have successfully loaded. If loading BokehJS from CDN, this \\n\"+\n",
       "     \"may be due to a slow or bad network connection. Possible fixes:\\n\"+\n",
       "     \"</p>\\n\"+\n",
       "     \"<ul>\\n\"+\n",
       "     \"<li>re-rerun `output_notebook()` to attempt to load from CDN again, or</li>\\n\"+\n",
       "     \"<li>use INLINE resources instead, as so:</li>\\n\"+\n",
       "     \"</ul>\\n\"+\n",
       "     \"<code>\\n\"+\n",
       "     \"from bokeh.resources import INLINE\\n\"+\n",
       "     \"output_notebook(resources=INLINE)\\n\"+\n",
       "     \"</code>\\n\"+\n",
       "     \"</div>\"}};\n",
       "\n",
       "  function display_loaded() {\n",
       "    var el = document.getElementById(\"2d7e6443-1e9b-47ec-a85f-b9e9765b5ac0\");\n",
       "    if (el != null) {\n",
       "      el.textContent = \"BokehJS is loading...\";\n",
       "    }\n",
       "    if (root.Bokeh !== undefined) {\n",
       "      if (el != null) {\n",
       "        el.textContent = \"BokehJS \" + root.Bokeh.version + \" successfully loaded.\";\n",
       "      }\n",
       "    } else if (Date.now() < root._bokeh_timeout) {\n",
       "      setTimeout(display_loaded, 100)\n",
       "    }\n",
       "  }\n",
       "\n",
       "\n",
       "  function run_callbacks() {\n",
       "    try {\n",
       "      root._bokeh_onload_callbacks.forEach(function(callback) { callback() });\n",
       "    }\n",
       "    finally {\n",
       "      delete root._bokeh_onload_callbacks\n",
       "    }\n",
       "    console.info(\"Bokeh: all callbacks have finished\");\n",
       "  }\n",
       "\n",
       "  function load_libs(js_urls, callback) {\n",
       "    root._bokeh_onload_callbacks.push(callback);\n",
       "    if (root._bokeh_is_loading > 0) {\n",
       "      console.log(\"Bokeh: BokehJS is being loaded, scheduling callback at\", now());\n",
       "      return null;\n",
       "    }\n",
       "    if (js_urls == null || js_urls.length === 0) {\n",
       "      run_callbacks();\n",
       "      return null;\n",
       "    }\n",
       "    console.log(\"Bokeh: BokehJS not loaded, scheduling load and callback at\", now());\n",
       "    root._bokeh_is_loading = js_urls.length;\n",
       "    for (var i = 0; i < js_urls.length; i++) {\n",
       "      var url = js_urls[i];\n",
       "      var s = document.createElement('script');\n",
       "      s.src = url;\n",
       "      s.async = false;\n",
       "      s.onreadystatechange = s.onload = function() {\n",
       "        root._bokeh_is_loading--;\n",
       "        if (root._bokeh_is_loading === 0) {\n",
       "          console.log(\"Bokeh: all BokehJS libraries loaded\");\n",
       "          run_callbacks()\n",
       "        }\n",
       "      };\n",
       "      s.onerror = function() {\n",
       "        console.warn(\"failed to load library \" + url);\n",
       "      };\n",
       "      console.log(\"Bokeh: injecting script tag for BokehJS library: \", url);\n",
       "      document.getElementsByTagName(\"head\")[0].appendChild(s);\n",
       "    }\n",
       "  };var element = document.getElementById(\"2d7e6443-1e9b-47ec-a85f-b9e9765b5ac0\");\n",
       "  if (element == null) {\n",
       "    console.log(\"Bokeh: ERROR: autoload.js configured with elementid '2d7e6443-1e9b-47ec-a85f-b9e9765b5ac0' but no matching script tag was found. \")\n",
       "    return false;\n",
       "  }\n",
       "\n",
       "  var js_urls = [\"https://cdn.pydata.org/bokeh/release/bokeh-0.13.0.min.js\", \"https://cdn.pydata.org/bokeh/release/bokeh-widgets-0.13.0.min.js\", \"https://cdn.pydata.org/bokeh/release/bokeh-tables-0.13.0.min.js\", \"https://cdn.pydata.org/bokeh/release/bokeh-gl-0.13.0.min.js\"];\n",
       "\n",
       "  var inline_js = [\n",
       "    function(Bokeh) {\n",
       "      Bokeh.set_log_level(\"info\");\n",
       "    },\n",
       "    \n",
       "    function(Bokeh) {\n",
       "      \n",
       "    },\n",
       "    function(Bokeh) {\n",
       "      console.log(\"Bokeh: injecting CSS: https://cdn.pydata.org/bokeh/release/bokeh-0.13.0.min.css\");\n",
       "      Bokeh.embed.inject_css(\"https://cdn.pydata.org/bokeh/release/bokeh-0.13.0.min.css\");\n",
       "      console.log(\"Bokeh: injecting CSS: https://cdn.pydata.org/bokeh/release/bokeh-widgets-0.13.0.min.css\");\n",
       "      Bokeh.embed.inject_css(\"https://cdn.pydata.org/bokeh/release/bokeh-widgets-0.13.0.min.css\");\n",
       "      console.log(\"Bokeh: injecting CSS: https://cdn.pydata.org/bokeh/release/bokeh-tables-0.13.0.min.css\");\n",
       "      Bokeh.embed.inject_css(\"https://cdn.pydata.org/bokeh/release/bokeh-tables-0.13.0.min.css\");\n",
       "    }\n",
       "  ];\n",
       "\n",
       "  function run_inline_js() {\n",
       "    \n",
       "    if ((root.Bokeh !== undefined) || (force === true)) {\n",
       "      for (var i = 0; i < inline_js.length; i++) {\n",
       "        inline_js[i].call(root, root.Bokeh);\n",
       "      }if (force === true) {\n",
       "        display_loaded();\n",
       "      }} else if (Date.now() < root._bokeh_timeout) {\n",
       "      setTimeout(run_inline_js, 100);\n",
       "    } else if (!root._bokeh_failed_load) {\n",
       "      console.log(\"Bokeh: BokehJS failed to load within specified timeout.\");\n",
       "      root._bokeh_failed_load = true;\n",
       "    } else if (force !== true) {\n",
       "      var cell = $(document.getElementById(\"2d7e6443-1e9b-47ec-a85f-b9e9765b5ac0\")).parents('.cell').data().cell;\n",
       "      cell.output_area.append_execute_result(NB_LOAD_WARNING)\n",
       "    }\n",
       "\n",
       "  }\n",
       "\n",
       "  if (root._bokeh_is_loading === 0) {\n",
       "    console.log(\"Bokeh: BokehJS loaded, going straight to plotting\");\n",
       "    run_inline_js();\n",
       "  } else {\n",
       "    load_libs(js_urls, function() {\n",
       "      console.log(\"Bokeh: BokehJS plotting callback run at\", now());\n",
       "      run_inline_js();\n",
       "    });\n",
       "  }\n",
       "}(window));"
      ],
      "application/vnd.bokehjs_load.v0+json": "\n(function(root) {\n  function now() {\n    return new Date();\n  }\n\n  var force = true;\n\n  if (typeof (root._bokeh_onload_callbacks) === \"undefined\" || force === true) {\n    root._bokeh_onload_callbacks = [];\n    root._bokeh_is_loading = undefined;\n  }\n\n  \n\n  \n  if (typeof (root._bokeh_timeout) === \"undefined\" || force === true) {\n    root._bokeh_timeout = Date.now() + 5000;\n    root._bokeh_failed_load = false;\n  }\n\n  var NB_LOAD_WARNING = {'data': {'text/html':\n     \"<div style='background-color: #fdd'>\\n\"+\n     \"<p>\\n\"+\n     \"BokehJS does not appear to have successfully loaded. If loading BokehJS from CDN, this \\n\"+\n     \"may be due to a slow or bad network connection. Possible fixes:\\n\"+\n     \"</p>\\n\"+\n     \"<ul>\\n\"+\n     \"<li>re-rerun `output_notebook()` to attempt to load from CDN again, or</li>\\n\"+\n     \"<li>use INLINE resources instead, as so:</li>\\n\"+\n     \"</ul>\\n\"+\n     \"<code>\\n\"+\n     \"from bokeh.resources import INLINE\\n\"+\n     \"output_notebook(resources=INLINE)\\n\"+\n     \"</code>\\n\"+\n     \"</div>\"}};\n\n  function display_loaded() {\n    var el = document.getElementById(\"2d7e6443-1e9b-47ec-a85f-b9e9765b5ac0\");\n    if (el != null) {\n      el.textContent = \"BokehJS is loading...\";\n    }\n    if (root.Bokeh !== undefined) {\n      if (el != null) {\n        el.textContent = \"BokehJS \" + root.Bokeh.version + \" successfully loaded.\";\n      }\n    } else if (Date.now() < root._bokeh_timeout) {\n      setTimeout(display_loaded, 100)\n    }\n  }\n\n\n  function run_callbacks() {\n    try {\n      root._bokeh_onload_callbacks.forEach(function(callback) { callback() });\n    }\n    finally {\n      delete root._bokeh_onload_callbacks\n    }\n    console.info(\"Bokeh: all callbacks have finished\");\n  }\n\n  function load_libs(js_urls, callback) {\n    root._bokeh_onload_callbacks.push(callback);\n    if (root._bokeh_is_loading > 0) {\n      console.log(\"Bokeh: BokehJS is being loaded, scheduling callback at\", now());\n      return null;\n    }\n    if (js_urls == null || js_urls.length === 0) {\n      run_callbacks();\n      return null;\n    }\n    console.log(\"Bokeh: BokehJS not loaded, scheduling load and callback at\", now());\n    root._bokeh_is_loading = js_urls.length;\n    for (var i = 0; i < js_urls.length; i++) {\n      var url = js_urls[i];\n      var s = document.createElement('script');\n      s.src = url;\n      s.async = false;\n      s.onreadystatechange = s.onload = function() {\n        root._bokeh_is_loading--;\n        if (root._bokeh_is_loading === 0) {\n          console.log(\"Bokeh: all BokehJS libraries loaded\");\n          run_callbacks()\n        }\n      };\n      s.onerror = function() {\n        console.warn(\"failed to load library \" + url);\n      };\n      console.log(\"Bokeh: injecting script tag for BokehJS library: \", url);\n      document.getElementsByTagName(\"head\")[0].appendChild(s);\n    }\n  };var element = document.getElementById(\"2d7e6443-1e9b-47ec-a85f-b9e9765b5ac0\");\n  if (element == null) {\n    console.log(\"Bokeh: ERROR: autoload.js configured with elementid '2d7e6443-1e9b-47ec-a85f-b9e9765b5ac0' but no matching script tag was found. \")\n    return false;\n  }\n\n  var js_urls = [\"https://cdn.pydata.org/bokeh/release/bokeh-0.13.0.min.js\", \"https://cdn.pydata.org/bokeh/release/bokeh-widgets-0.13.0.min.js\", \"https://cdn.pydata.org/bokeh/release/bokeh-tables-0.13.0.min.js\", \"https://cdn.pydata.org/bokeh/release/bokeh-gl-0.13.0.min.js\"];\n\n  var inline_js = [\n    function(Bokeh) {\n      Bokeh.set_log_level(\"info\");\n    },\n    \n    function(Bokeh) {\n      \n    },\n    function(Bokeh) {\n      console.log(\"Bokeh: injecting CSS: https://cdn.pydata.org/bokeh/release/bokeh-0.13.0.min.css\");\n      Bokeh.embed.inject_css(\"https://cdn.pydata.org/bokeh/release/bokeh-0.13.0.min.css\");\n      console.log(\"Bokeh: injecting CSS: https://cdn.pydata.org/bokeh/release/bokeh-widgets-0.13.0.min.css\");\n      Bokeh.embed.inject_css(\"https://cdn.pydata.org/bokeh/release/bokeh-widgets-0.13.0.min.css\");\n      console.log(\"Bokeh: injecting CSS: https://cdn.pydata.org/bokeh/release/bokeh-tables-0.13.0.min.css\");\n      Bokeh.embed.inject_css(\"https://cdn.pydata.org/bokeh/release/bokeh-tables-0.13.0.min.css\");\n    }\n  ];\n\n  function run_inline_js() {\n    \n    if ((root.Bokeh !== undefined) || (force === true)) {\n      for (var i = 0; i < inline_js.length; i++) {\n        inline_js[i].call(root, root.Bokeh);\n      }if (force === true) {\n        display_loaded();\n      }} else if (Date.now() < root._bokeh_timeout) {\n      setTimeout(run_inline_js, 100);\n    } else if (!root._bokeh_failed_load) {\n      console.log(\"Bokeh: BokehJS failed to load within specified timeout.\");\n      root._bokeh_failed_load = true;\n    } else if (force !== true) {\n      var cell = $(document.getElementById(\"2d7e6443-1e9b-47ec-a85f-b9e9765b5ac0\")).parents('.cell').data().cell;\n      cell.output_area.append_execute_result(NB_LOAD_WARNING)\n    }\n\n  }\n\n  if (root._bokeh_is_loading === 0) {\n    console.log(\"Bokeh: BokehJS loaded, going straight to plotting\");\n    run_inline_js();\n  } else {\n    load_libs(js_urls, function() {\n      console.log(\"Bokeh: BokehJS plotting callback run at\", now());\n      run_inline_js();\n    });\n  }\n}(window));"
     },
     "metadata": {},
     "output_type": "display_data"
    }
   ],
   "source": [
    "import bokeh.plotting as bp\n",
    "from bokeh.plotting import save, show\n",
    "from bokeh.models.glyphs import Text\n",
    "from bokeh.models import HoverTool\n",
    "from bokeh.io import output_notebook\n",
    "from bokeh.transform import linear_cmap\n",
    "\n",
    "\n",
    "output_notebook()"
   ]
  },
  {
   "cell_type": "code",
   "execution_count": 24,
   "metadata": {},
   "outputs": [
    {
     "data": {
      "text/html": [
       "\n",
       "\n",
       "\n",
       "\n",
       "\n",
       "\n",
       "  <div class=\"bk-root\" id=\"a7e47e3a-0b95-4076-97be-b7694e5d7593\"></div>\n"
      ]
     },
     "metadata": {},
     "output_type": "display_data"
    },
    {
     "data": {
      "application/javascript": [
       "(function(root) {\n",
       "  function embed_document(root) {\n",
       "    \n",
       "  var docs_json = {\"86902a31-9f94-4191-81ae-679440db7896\":{\"roots\":{\"references\":[{\"attributes\":{\"active_drag\":\"auto\",\"active_inspect\":\"auto\",\"active_multi\":null,\"active_scroll\":\"auto\",\"active_tap\":\"auto\",\"tools\":[{\"id\":\"f6c04b34-9dd6-48d0-912f-945d27b3bf8b\",\"type\":\"PanTool\"},{\"id\":\"b4f9b60b-73a8-415b-b6ae-984a7044bd11\",\"type\":\"WheelZoomTool\"},{\"id\":\"05cbd37c-de09-4976-9fc3-dcbb59ba822c\",\"type\":\"BoxZoomTool\"},{\"id\":\"59369bc6-dfbe-46d6-90d8-f01ae3768535\",\"type\":\"ResetTool\"},{\"id\":\"34d3414c-b334-4a05-9103-dc4e37ed664a\",\"type\":\"HoverTool\"},{\"id\":\"285707f9-c8c0-46b1-b13e-7a633773fa1b\",\"type\":\"SaveTool\"}]},\"id\":\"f50c2ec7-ed7e-4392-9374-4bc236c02250\",\"type\":\"Toolbar\"},{\"attributes\":{\"text_color\":{\"field\":\"colors\",\"transform\":{\"id\":\"cf88637b-3b4e-4be7-a2c3-d595575f5836\",\"type\":\"LinearColorMapper\"}},\"text_font_size\":{\"value\":\"10px\"},\"x\":{\"field\":\"x\"},\"y\":{\"field\":\"y\"}},\"id\":\"be5b8a4c-5db0-423e-aa37-50de0fb65c8d\",\"type\":\"Text\"},{\"attributes\":{\"high\":67.49038696289062,\"low\":-63.476829528808594,\"palette\":[\"#e41a1c\",\"#377eb8\",\"#4daf4a\",\"#984ea3\",\"#ff7f00\",\"#ffff33\"]},\"id\":\"cf88637b-3b4e-4be7-a2c3-d595575f5836\",\"type\":\"LinearColorMapper\"},{\"attributes\":{\"source\":{\"id\":\"78fe6a21-8bf0-4428-b8e8-16436a38322f\",\"type\":\"ColumnDataSource\"}},\"id\":\"586da379-61ca-43d6-b07f-d0041ac376e7\",\"type\":\"CDSView\"},{\"attributes\":{},\"id\":\"7d6c1677-2658-4d13-945d-d914bf8e25ef\",\"type\":\"LinearScale\"},{\"attributes\":{\"callback\":null},\"id\":\"b16cffdf-2965-45f9-b5d3-78193cddece8\",\"type\":\"DataRange1d\"},{\"attributes\":{},\"id\":\"6944ef1c-dc6a-4542-8b2e-2bedb0d03975\",\"type\":\"LinearScale\"},{\"attributes\":{\"bottom_units\":\"screen\",\"fill_alpha\":{\"value\":0.5},\"fill_color\":{\"value\":\"lightgrey\"},\"left_units\":\"screen\",\"level\":\"overlay\",\"line_alpha\":{\"value\":1.0},\"line_color\":{\"value\":\"black\"},\"line_dash\":[4,4],\"line_width\":{\"value\":2},\"plot\":null,\"render_mode\":\"css\",\"right_units\":\"screen\",\"top_units\":\"screen\"},\"id\":\"6dcc5897-ea00-41ea-ae8f-183968203ab2\",\"type\":\"BoxAnnotation\"},{\"attributes\":{},\"id\":\"1c30510b-ff96-4188-ab9d-c52ed3bc6296\",\"type\":\"UnionRenderers\"},{\"attributes\":{},\"id\":\"f6c04b34-9dd6-48d0-912f-945d27b3bf8b\",\"type\":\"PanTool\"},{\"attributes\":{},\"id\":\"5013e974-32b6-4069-b99a-a94b7a40bbeb\",\"type\":\"Selection\"},{\"attributes\":{},\"id\":\"b4f9b60b-73a8-415b-b6ae-984a7044bd11\",\"type\":\"WheelZoomTool\"},{\"attributes\":{},\"id\":\"59369bc6-dfbe-46d6-90d8-f01ae3768535\",\"type\":\"ResetTool\"},{\"attributes\":{\"overlay\":{\"id\":\"6dcc5897-ea00-41ea-ae8f-183968203ab2\",\"type\":\"BoxAnnotation\"}},\"id\":\"05cbd37c-de09-4976-9fc3-dcbb59ba822c\",\"type\":\"BoxZoomTool\"},{\"attributes\":{\"callback\":null,\"data\":{\"colors\":{\"__ndarray__\":\"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\",\"dtype\":\"float32\",\"shape\":[500]},\"text\":[\"Ross\",\"baseball\",\"businesses\",\"vessel\",\"Jack\",\"extension\",\"Club\",\"locations\",\"certain\",\"challenging\",\"advance\",\"tested\",\"animals\",\"border\",\"Ohio\",\"proven\",\"appeal\",\"decline\",\"create\",\"series\",\"saw\",\"prepared\",\"month\",\"different\",\"jobs\",\"ancient\",\"fashion\",\"Business\",\"magazines\",\"skill\",\"seasons\",\"harm\",\"High\",\"Beijing\",\"extent\",\"connected\",\"skills\",\"Video\",\"review\",\"begins\",\"Indian\",\"assigned\",\"interest\",\"Sydney\",\"thinking\",\"case\",\"Power\",\"Denmark\",\"sexual\",\"concrete\",\"administration\",\"error\",\"colleagues\",\"frequently\",\"recognized\",\"arrest\",\"Music\",\"called\",\"leg\",\"climate\",\"considering\",\"reader\",\"environment\",\"ages\",\"interview\",\"internal\",\"classification\",\"factors\",\"Italy\",\"sides\",\"reading\",\"purchase\",\"give\",\"challenge\",\"estate\",\"killing\",\"distributed\",\"reach\",\"clubs\",\"protected\",\"unit\",\"mean\",\"Hamas\",\"red\",\"Taylor\",\"headquarters\",\"corporations\",\"documented\",\"Stop\",\"crowd\",\"unlike\",\"show\",\"distribution\",\"protecting\",\"Little\",\"progress\",\"Philip\",\"innovation\",\"dropped\",\"easy\",\"reply\",\"decide\",\"laws\",\"covers\",\"boy\",\"flights\",\"God\",\"protest\",\"governor\",\"relief\",\"eggs\",\"streets\",\"entire\",\"director\",\"extremely\",\"caused\",\"machine\",\"wind\",\"big\",\"expect\",\"shop\",\"northern\",\"Pennsylvania\",\"featuring\",\"careful\",\"page\",\"drama\",\"Tory\",\"aircraft\",\"May\",\"waters\",\"claim\",\"literally\",\"attended\",\"aggressive\",\"campus\",\"bring\",\"Bridge\",\"couple\",\"recently\",\"details\",\"document\",\"previous\",\"assets\",\"constructive\",\"violations\",\"household\",\"ABC\",\"serious\",\"Military\",\"game\",\"application\",\"set\",\"Radio\",\"George\",\"heavy\",\"cast\",\"facilities\",\"eventually\",\"professor\",\"everything\",\"morning\",\"contributions\",\"attention\",\"skin\",\"serving\",\"lab\",\"pitch\",\"merely\",\"regional\",\"accepted\",\"musician\",\"Project\",\"Kennedy\",\"elections\",\"presence\",\"informed\",\"educational\",\"represented\",\"Summer\",\"new\",\"Louis\",\"suffering\",\"Major\",\"Science\",\"developed\",\"lawyer\",\"championship\",\"eastern\",\"indicate\",\"attitude\",\"represents\",\"learn\",\"Sweden\",\"Columbia\",\"desire\",\"provide\",\"went\",\"apart\",\"salary\",\"plan\",\"coast\",\"festival\",\"deals\",\"hitting\",\"generally\",\"ridiculous\",\"visits\",\"Wisconsin\",\"hope\",\"speak\",\"fighting\",\"early\",\"restrictions\",\"colour\",\"outside\",\"wearing\",\"movement\",\"conflicts\",\"recovery\",\"opponents\",\"USA\",\"Many\",\"unnecessary\",\"historian\",\"BLP\",\"depression\",\"Ryan\",\"land\",\"bill\",\"situation\",\"economic\",\"designer\",\"several\",\"patient\",\"expanded\",\"bringing\",\"crucial\",\"science\",\"notes\",\"crossing\",\"Seattle\",\"Roger\",\"minute\",\"delay\",\"opening\",\"Joseph\",\"investors\",\"maintaining\",\"tree\",\"text\",\"let\",\"tells\",\"chair\",\"actually\",\"mobile\",\"tax\",\"John\",\"Mississippi\",\"parameter\",\"sentence\",\"legitimate\",\"role\",\"significance\",\"context\",\"found\",\"rich\",\"require\",\"deaths\",\"first\",\"spiritual\",\"effectively\",\"competitive\",\"stands\",\"experienced\",\"points\",\"San\",\"involvement\",\"Time\",\"sections\",\"shops\",\"activities\",\"visiting\",\"forget\",\"households\",\"adopted\",\"Arab\",\"prominent\",\"machines\",\"received\",\"performed\",\"affairs\",\"costs\",\"maintain\",\"basis\",\"confusing\",\"Manchester\",\"design\",\"Oklahoma\",\"mentions\",\"Sarah\",\"creative\",\"determination\",\"common\",\"diff\",\"diversity\",\"Monday\",\"editing\",\"essay\",\"allegedly\",\"burning\",\"necessary\",\"five\",\"point\",\"studio\",\"demands\",\"colors\",\"episode\",\"log\",\"practices\",\"broadcast\",\"dry\",\"experts\",\"child\",\"organization\",\"Library\",\"email\",\"gas\",\"representatives\",\"permanent\",\"Master\",\"ten\",\"launch\",\"uploaded\",\"Joe\",\"Arts\",\"chemistry\",\"Though\",\"driving\",\"valuable\",\"Red\",\"rationale\",\"operators\",\"demand\",\"Oxford\",\"clear\",\"fans\",\"contains\",\"grow\",\"conducted\",\"fraud\",\"west\",\"especially\",\"section\",\"blind\",\"aside\",\"catch\",\"crew\",\"true\",\"pay\",\"draw\",\"atmosphere\",\"happy\",\"June\",\"representing\",\"evaluation\",\"faith\",\"Minnesota\",\"concentration\",\"videos\",\"agriculture\",\"plane\",\"day\",\"entirely\",\"trip\",\"recommendations\",\"notices\",\"exists\",\"season\",\"strange\",\"audio\",\"ready\",\"London\",\"daughter\",\"Administration\",\"used\",\"community\",\"held\",\"product\",\"choice\",\"values\",\"irrelevant\",\"dinner\",\"rally\",\"preparation\",\"returns\",\"meetings\",\"warm\",\"million\",\"learning\",\"made\",\"impact\",\"Hungary\",\"letters\",\"great\",\"depth\",\"service\",\"magazine\",\"Division\",\"appropriate\",\"sex\",\"treatment\",\"finds\",\"shots\",\"West\",\"forum\",\"plans\",\"pages\",\"incident\",\"improve\",\"Well\",\"transportation\",\"Islam\",\"large\",\"amongst\",\"position\",\"emerging\",\"administrator\",\"wait\",\"unconstructive\",\"instructions\",\"enforcement\",\"mayor\",\"publication\",\"disability\",\"father\",\"claims\",\"soil\",\"elements\",\"believed\",\"thanks\",\"Several\",\"engaged\",\"Secretary\",\"eat\",\"eating\",\"Theatre\",\"server\",\"officer\",\"wing\",\"discovered\",\"Greek\",\"appeared\",\"needed\",\"producer\",\"cost\",\"episodes\",\"planet\",\"tried\",\"Commons\",\"shared\",\"ones\",\"consent\",\"describe\",\"affected\",\"troops\",\"cultures\",\"cutting\",\"dollars\",\"sourcing\",\"already\",\"Navy\",\"Council\",\"directly\",\"reduced\",\"request\",\"terms\",\"territory\",\"together\",\"Michigan\",\"defending\",\"suddenly\",\"females\",\"became\",\"winner\",\"discussion\",\"hear\",\"URL\",\"written\",\"colleges\",\"States\",\"military\",\"trained\",\"mark\",\"leaving\",\"parameters\",\"coal\",\"Long\",\"cities\",\"temple\"],\"x\":{\"__ndarray__\":\"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\",\"dtype\":\"float32\",\"shape\":[500]},\"y\":{\"__ndarray__\":\"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\",\"dtype\":\"float32\",\"shape\":[500]}},\"selected\":{\"id\":\"5013e974-32b6-4069-b99a-a94b7a40bbeb\",\"type\":\"Selection\"},\"selection_policy\":{\"id\":\"1c30510b-ff96-4188-ab9d-c52ed3bc6296\",\"type\":\"UnionRenderers\"}},\"id\":\"78fe6a21-8bf0-4428-b8e8-16436a38322f\",\"type\":\"ColumnDataSource\"},{\"attributes\":{\"callback\":null,\"renderers\":\"auto\"},\"id\":\"34d3414c-b334-4a05-9103-dc4e37ed664a\",\"type\":\"HoverTool\"},{\"attributes\":{\"min_border\":1,\"plot_width\":800,\"renderers\":[{\"id\":\"6dcc5897-ea00-41ea-ae8f-183968203ab2\",\"type\":\"BoxAnnotation\"},{\"id\":\"762e45f1-7493-42dc-8428-69bed82c63ca\",\"type\":\"GlyphRenderer\"}],\"title\":{\"id\":\"0b308a21-c723-4b7b-9ad6-56dba074d79c\",\"type\":\"Title\"},\"toolbar\":{\"id\":\"f50c2ec7-ed7e-4392-9374-4bc236c02250\",\"type\":\"Toolbar\"},\"x_range\":{\"id\":\"bc236f70-f9c2-4f85-8e16-d14d80c975b9\",\"type\":\"DataRange1d\"},\"x_scale\":{\"id\":\"7d6c1677-2658-4d13-945d-d914bf8e25ef\",\"type\":\"LinearScale\"},\"y_range\":{\"id\":\"b16cffdf-2965-45f9-b5d3-78193cddece8\",\"type\":\"DataRange1d\"},\"y_scale\":{\"id\":\"6944ef1c-dc6a-4542-8b2e-2bedb0d03975\",\"type\":\"LinearScale\"}},\"id\":\"81ea23c0-fcb5-4eaf-b9bc-edc860e6fd82\",\"subtype\":\"Figure\",\"type\":\"Plot\"},{\"attributes\":{},\"id\":\"285707f9-c8c0-46b1-b13e-7a633773fa1b\",\"type\":\"SaveTool\"},{\"attributes\":{\"plot\":null,\"text\":\"fast text visualisation\"},\"id\":\"0b308a21-c723-4b7b-9ad6-56dba074d79c\",\"type\":\"Title\"},{\"attributes\":{\"data_source\":{\"id\":\"78fe6a21-8bf0-4428-b8e8-16436a38322f\",\"type\":\"ColumnDataSource\"},\"glyph\":{\"id\":\"be5b8a4c-5db0-423e-aa37-50de0fb65c8d\",\"type\":\"Text\"},\"hover_glyph\":null,\"muted_glyph\":null,\"nonselection_glyph\":{\"id\":\"75a27063-d723-4f0f-a65a-e0f87785550a\",\"type\":\"Text\"},\"selection_glyph\":null,\"view\":{\"id\":\"586da379-61ca-43d6-b07f-d0041ac376e7\",\"type\":\"CDSView\"}},\"id\":\"762e45f1-7493-42dc-8428-69bed82c63ca\",\"type\":\"GlyphRenderer\"},{\"attributes\":{\"callback\":null},\"id\":\"bc236f70-f9c2-4f85-8e16-d14d80c975b9\",\"type\":\"DataRange1d\"},{\"attributes\":{\"text_alpha\":{\"value\":0.1},\"text_color\":{\"value\":\"black\"},\"text_font_size\":{\"value\":\"10px\"},\"x\":{\"field\":\"x\"},\"y\":{\"field\":\"y\"}},\"id\":\"75a27063-d723-4f0f-a65a-e0f87785550a\",\"type\":\"Text\"}],\"root_ids\":[\"81ea23c0-fcb5-4eaf-b9bc-edc860e6fd82\"]},\"title\":\"Bokeh Application\",\"version\":\"0.13.0\"}};\n",
       "  var render_items = [{\"docid\":\"86902a31-9f94-4191-81ae-679440db7896\",\"roots\":{\"81ea23c0-fcb5-4eaf-b9bc-edc860e6fd82\":\"a7e47e3a-0b95-4076-97be-b7694e5d7593\"}}];\n",
       "  root.Bokeh.embed.embed_items_notebook(docs_json, render_items);\n",
       "\n",
       "  }\n",
       "  if (root.Bokeh !== undefined) {\n",
       "    embed_document(root);\n",
       "  } else {\n",
       "    var attempts = 0;\n",
       "    var timer = setInterval(function(root) {\n",
       "      if (root.Bokeh !== undefined) {\n",
       "        embed_document(root);\n",
       "        clearInterval(timer);\n",
       "      }\n",
       "      attempts++;\n",
       "      if (attempts > 100) {\n",
       "        console.log(\"Bokeh: ERROR: Unable to run BokehJS code because BokehJS library is missing\")\n",
       "        clearInterval(timer);\n",
       "      }\n",
       "    }, 10, root)\n",
       "  }\n",
       "})(window);"
      ],
      "application/vnd.bokehjs_exec.v0+json": ""
     },
     "metadata": {
      "application/vnd.bokehjs_exec.v0+json": {
       "id": "81ea23c0-fcb5-4eaf-b9bc-edc860e6fd82"
      }
     },
     "output_type": "display_data"
    }
   ],
   "source": [
    "from bokeh.palettes import Set1\n",
    "\n",
    "plot_fig = bp.figure(plot_width=800, plot_height=600,\n",
    "                     tools=\"pan, wheel_zoom, box_zoom, reset, hover, previewsave\",\n",
    "                     x_axis_type=None, y_axis_type=None, min_border=1)\n",
    "\n",
    "# Use the third dimension as the color map\n",
    "if X_plot.shape[1] == 3:\n",
    "    colors = X_plot[:,2]\n",
    "    mapper = linear_cmap(field_name='colors', palette=Set1[6] ,low=min(colors) ,high=max(colors))\n",
    "    source = bp.ColumnDataSource(dict(x=X_plot[:,0], y=X_plot[:,1], text=labels_plot, colors=colors))\n",
    "    plot_fig.text(\"x\", \"y\", text=\"text\", text_font_size='10px', text_color=mapper, source=source)\n",
    "else:\n",
    "    source = bp.ColumnDataSource(dict(x=X_plot[:,0], y=X_plot[:,1], text=labels_plot))\n",
    "    plot_fig.text(\"x\", \"y\", text=\"text\", text_font_size='10px', source=source)\n",
    "\n",
    "show(plot_fig)"
   ]
  },
  {
   "cell_type": "code",
   "execution_count": 25,
   "metadata": {},
   "outputs": [],
   "source": [
    "train_file = '/data/fasttext/fasttext_train_tsne.pkl'\n",
    "with open(parent_dir+train_file, 'rb') as f:\n",
    "    [inputs1, labels1, X_emb1] = pickle.load(f)"
   ]
  },
  {
   "cell_type": "code",
   "execution_count": 27,
   "metadata": {},
   "outputs": [
    {
     "data": {
      "text/plain": [
       "(3000, 3)"
      ]
     },
     "execution_count": 27,
     "metadata": {},
     "output_type": "execute_result"
    }
   ],
   "source": [
    "X_emb1.shape"
   ]
  },
  {
   "cell_type": "code",
   "execution_count": 28,
   "metadata": {},
   "outputs": [],
   "source": [
    "n_plot = 500\n",
    "X_plot1 = X_emb1[:n_plot]\n",
    "labels_plot1 = labels1[:n_plot]"
   ]
  },
  {
   "cell_type": "code",
   "execution_count": 29,
   "metadata": {},
   "outputs": [
    {
     "data": {
      "text/html": [
       "\n",
       "\n",
       "\n",
       "\n",
       "\n",
       "\n",
       "  <div class=\"bk-root\" id=\"3bf2d585-2773-41e2-b662-e7e8fdf4a64d\"></div>\n"
      ]
     },
     "metadata": {},
     "output_type": "display_data"
    },
    {
     "data": {
      "application/javascript": [
       "(function(root) {\n",
       "  function embed_document(root) {\n",
       "    \n",
       "  var docs_json = {\"222b579b-fe3f-4139-b8d8-bfa9b1b217f8\":{\"roots\":{\"references\":[{\"attributes\":{},\"id\":\"0cbbf6df-5883-412c-845d-2e5d02075c00\",\"type\":\"ResetTool\"},{\"attributes\":{\"min_border\":1,\"plot_width\":800,\"renderers\":[{\"id\":\"23342d0e-02e6-499a-b0c2-abb1d2db933a\",\"type\":\"BoxAnnotation\"},{\"id\":\"fdcd37a7-40a7-4fee-bec5-3859242755a4\",\"type\":\"GlyphRenderer\"}],\"title\":{\"id\":\"f7a6c221-8ed5-4d1b-9261-e6d3ac63ec2f\",\"type\":\"Title\"},\"toolbar\":{\"id\":\"7ef4edfb-3f0f-44e7-b9a8-bd63a2f332ea\",\"type\":\"Toolbar\"},\"x_range\":{\"id\":\"a42a0fa9-e591-43af-a2a4-4a34ec16944a\",\"type\":\"DataRange1d\"},\"x_scale\":{\"id\":\"bfe9685e-dfba-4a9c-9027-6c7f24f1fd2f\",\"type\":\"LinearScale\"},\"y_range\":{\"id\":\"880164ac-9e73-49dc-9691-656b27758d62\",\"type\":\"DataRange1d\"},\"y_scale\":{\"id\":\"8586e031-397b-47da-8859-67471904a972\",\"type\":\"LinearScale\"}},\"id\":\"9ceda4c3-0f39-4af2-8128-33f00f8e3b09\",\"subtype\":\"Figure\",\"type\":\"Plot\"},{\"attributes\":{\"callback\":null,\"renderers\":\"auto\"},\"id\":\"b1b57cac-f70f-486f-8190-cc5b469fdaa1\",\"type\":\"HoverTool\"},{\"attributes\":{\"callback\":null},\"id\":\"a42a0fa9-e591-43af-a2a4-4a34ec16944a\",\"type\":\"DataRange1d\"},{\"attributes\":{},\"id\":\"b61c0237-cab1-4a5f-b2d0-9d7f0fbed48e\",\"type\":\"SaveTool\"},{\"attributes\":{\"active_drag\":\"auto\",\"active_inspect\":\"auto\",\"active_multi\":null,\"active_scroll\":\"auto\",\"active_tap\":\"auto\",\"tools\":[{\"id\":\"bc68e350-1308-4478-9a65-d7c01c5d2261\",\"type\":\"PanTool\"},{\"id\":\"3a478254-a929-4e97-8539-223efd3cc09b\",\"type\":\"WheelZoomTool\"},{\"id\":\"8967ee15-425a-4612-b6ec-dbe0e1daf9fd\",\"type\":\"BoxZoomTool\"},{\"id\":\"0cbbf6df-5883-412c-845d-2e5d02075c00\",\"type\":\"ResetTool\"},{\"id\":\"b1b57cac-f70f-486f-8190-cc5b469fdaa1\",\"type\":\"HoverTool\"},{\"id\":\"b61c0237-cab1-4a5f-b2d0-9d7f0fbed48e\",\"type\":\"SaveTool\"}]},\"id\":\"7ef4edfb-3f0f-44e7-b9a8-bd63a2f332ea\",\"type\":\"Toolbar\"},{\"attributes\":{\"data_source\":{\"id\":\"386fd29e-2c9e-46d0-b040-a9f8c059ffef\",\"type\":\"ColumnDataSource\"},\"glyph\":{\"id\":\"4811bbf4-86f4-4c89-bb29-e3425f088248\",\"type\":\"Text\"},\"hover_glyph\":null,\"muted_glyph\":null,\"nonselection_glyph\":{\"id\":\"d42842d4-1ffc-4d56-aaf9-7daeb99a65e2\",\"type\":\"Text\"},\"selection_glyph\":null,\"view\":{\"id\":\"93fa642a-e089-4d8b-9dd7-037aa2032424\",\"type\":\"CDSView\"}},\"id\":\"fdcd37a7-40a7-4fee-bec5-3859242755a4\",\"type\":\"GlyphRenderer\"},{\"attributes\":{\"high\":79.38733673095703,\"low\":-75.47183227539062,\"palette\":[\"#e41a1c\",\"#377eb8\",\"#4daf4a\",\"#984ea3\",\"#ff7f00\",\"#ffff33\"]},\"id\":\"3b84918c-df78-416d-8d3c-27bccd6dc69e\",\"type\":\"LinearColorMapper\"},{\"attributes\":{},\"id\":\"bfe9685e-dfba-4a9c-9027-6c7f24f1fd2f\",\"type\":\"LinearScale\"},{\"attributes\":{\"plot\":null,\"text\":\"fast text visualisation\"},\"id\":\"f7a6c221-8ed5-4d1b-9261-e6d3ac63ec2f\",\"type\":\"Title\"},{\"attributes\":{\"callback\":null},\"id\":\"880164ac-9e73-49dc-9691-656b27758d62\",\"type\":\"DataRange1d\"},{\"attributes\":{\"text_alpha\":{\"value\":0.1},\"text_color\":{\"value\":\"black\"},\"text_font_size\":{\"value\":\"10px\"},\"x\":{\"field\":\"x\"},\"y\":{\"field\":\"y\"}},\"id\":\"d42842d4-1ffc-4d56-aaf9-7daeb99a65e2\",\"type\":\"Text\"},{\"attributes\":{},\"id\":\"8586e031-397b-47da-8859-67471904a972\",\"type\":\"LinearScale\"},{\"attributes\":{\"bottom_units\":\"screen\",\"fill_alpha\":{\"value\":0.5},\"fill_color\":{\"value\":\"lightgrey\"},\"left_units\":\"screen\",\"level\":\"overlay\",\"line_alpha\":{\"value\":1.0},\"line_color\":{\"value\":\"black\"},\"line_dash\":[4,4],\"line_width\":{\"value\":2},\"plot\":null,\"render_mode\":\"css\",\"right_units\":\"screen\",\"top_units\":\"screen\"},\"id\":\"23342d0e-02e6-499a-b0c2-abb1d2db933a\",\"type\":\"BoxAnnotation\"},{\"attributes\":{},\"id\":\"9f1843a6-336e-4ad8-9e37-1ffa984405d3\",\"type\":\"UnionRenderers\"},{\"attributes\":{},\"id\":\"bc68e350-1308-4478-9a65-d7c01c5d2261\",\"type\":\"PanTool\"},{\"attributes\":{\"source\":{\"id\":\"386fd29e-2c9e-46d0-b040-a9f8c059ffef\",\"type\":\"ColumnDataSource\"}},\"id\":\"93fa642a-e089-4d8b-9dd7-037aa2032424\",\"type\":\"CDSView\"},{\"attributes\":{},\"id\":\"3a478254-a929-4e97-8539-223efd3cc09b\",\"type\":\"WheelZoomTool\"},{\"attributes\":{},\"id\":\"231be6a6-e6a9-4b79-b143-058606da42f1\",\"type\":\"Selection\"},{\"attributes\":{\"text_color\":{\"field\":\"colors\",\"transform\":{\"id\":\"3b84918c-df78-416d-8d3c-27bccd6dc69e\",\"type\":\"LinearColorMapper\"}},\"text_font_size\":{\"value\":\"10px\"},\"x\":{\"field\":\"x\"},\"y\":{\"field\":\"y\"}},\"id\":\"4811bbf4-86f4-4c89-bb29-e3425f088248\",\"type\":\"Text\"},{\"attributes\":{\"callback\":null,\"data\":{\"colors\":{\"__ndarray__\":\"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\",\"dtype\":\"float32\",\"shape\":[500]},\"text\":[\"merged\",\"setting\",\"pop\",\"Day\",\"guys\",\"order\",\"cases\",\"Melbourne\",\"since\",\"perfect\",\"notability\",\"lower\",\"guy\",\"search\",\"pleasure\",\"ship\",\"scale\",\"needs\",\"fall\",\"threats\",\"Maybe\",\"writers\",\"Richard\",\"successfully\",\"part\",\"entity\",\"defeated\",\"team\",\"guidance\",\"button\",\"external\",\"Austria\",\"central\",\"desk\",\"partnership\",\"call\",\"films\",\"return\",\"physicians\",\"Pakistan\",\"civilians\",\"charges\",\"upset\",\"winners\",\"far\",\"James\",\"gun\",\"operate\",\"described\",\"dress\",\"biography\",\"posted\",\"considered\",\"sessions\",\"Prince\",\"mechanisms\",\"starts\",\"base\",\"Art\",\"Libya\",\"Online\",\"paper\",\"devices\",\"simply\",\"limited\",\"past\",\"artists\",\"males\",\"democracy\",\"warning\",\"disaster\",\"created\",\"besides\",\"Free\",\"greater\",\"Mexican\",\"altogether\",\"Anthony\",\"sets\",\"fit\",\"waiting\",\"resolution\",\"event\",\"suit\",\"limit\",\"participants\",\"start\",\"subjects\",\"neither\",\"employee\",\"ultimately\",\"measured\",\"Democrats\",\"informative\",\"join\",\"key\",\"transmission\",\"Jeff\",\"Edward\",\"ends\",\"issues\",\"desired\",\"Force\",\"opinion\",\"directed\",\"lived\",\"guideline\",\"username\",\"titles\",\"Chairman\",\"landscape\",\"take\",\"Park\",\"capital\",\"frequency\",\"drawn\",\"add\",\"looked\",\"spend\",\"amid\",\"mentioned\",\"additional\",\"literature\",\"fellow\",\"cover\",\"heart\",\"Atlanta\",\"drive\",\"opportunities\",\"joining\",\"support\",\"Nations\",\"continuing\",\"reflects\",\"Massachusetts\",\"stop\",\"evidence\",\"statistics\",\"citizens\",\"best\",\"horses\",\"digital\",\"figures\",\"fresh\",\"possible\",\"happening\",\"Three\",\"Lawrence\",\"appearance\",\"renamed\",\"courses\",\"load\",\"test\",\"week\",\"stating\",\"biology\",\"one\",\"presented\",\"percentage\",\"historic\",\"explained\",\"rights\",\"election\",\"flight\",\"dispute\",\"Kevin\",\"April\",\"trees\",\"unique\",\"seek\",\"dollar\",\"cuts\",\"Yes\",\"Third\",\"purpose\",\"round\",\"somewhat\",\"functions\",\"telling\",\"reliable\",\"ordered\",\"types\",\"articles\",\"paintings\",\"personality\",\"core\",\"contest\",\"theme\",\"Australia\",\"welfare\",\"Jesus\",\"asked\",\"voted\",\"failed\",\"marketing\",\"representation\",\"permission\",\"Turkish\",\"describing\",\"contents\",\"Lewis\",\"enterprise\",\"national\",\"choices\",\"quotes\",\"showed\",\"brand\",\"pictures\",\"well\",\"three\",\"Andrew\",\"Wikipedia\",\"prisoners\",\"organizations\",\"accuracy\",\"feet\",\"grew\",\"urban\",\"usual\",\"subsequent\",\"crisis\",\"responsibility\",\"general\",\"cell\",\"terrorism\",\"love\",\"felt\",\"highly\",\"mother\",\"King\",\"computer\",\"fuel\",\"successful\",\"Although\",\"low\",\"theater\",\"damage\",\"weapon\",\"assessment\",\"Two\",\"dialogue\",\"math\",\"population\",\"proved\",\"engineer\",\"addressed\",\"Hollywood\",\"Tim\",\"deficit\",\"China\",\"Tennessee\",\"techniques\",\"Westminster\",\"technology\",\"happened\",\"flexibility\",\"Black\",\"agenda\",\"highway\",\"working\",\"violent\",\"partner\",\"formation\",\"looking\",\"Norway\",\"spokesman\",\"chief\",\"silly\",\"Early\",\"rejected\",\"personal\",\"physical\",\"provision\",\"aware\",\"hearing\",\"gene\",\"outstanding\",\"Act\",\"requiring\",\"thing\",\"promotion\",\"guarantee\",\"Kelly\",\"rare\",\"respectively\",\"blood\",\"person\",\"row\",\"women\",\"play\",\"ceremony\",\"Stephen\",\"alcohol\",\"tough\",\"implementing\",\"cited\",\"ground\",\"operates\",\"simple\",\"exhibition\",\"exposure\",\"less\",\"Rome\",\"processing\",\"letter\",\"lie\",\"infection\",\"village\",\"knows\",\"fund\",\"months\",\"continue\",\"life\",\"throw\",\"describes\",\"guide\",\"treated\",\"owned\",\"priority\",\"French\",\"occur\",\"drug\",\"lines\",\"counter\",\"Line\",\"Harry\",\"collection\",\"involving\",\"grade\",\"capture\",\"leave\",\"universal\",\"building\",\"participation\",\"officials\",\"studied\",\"complaints\",\"receiving\",\"category\",\"Friday\",\"contribute\",\"proper\",\"membership\",\"Palestinian\",\"effort\",\"natural\",\"remain\",\"exist\",\"texts\",\"female\",\"Malaysia\",\"medicine\",\"illegal\",\"established\",\"refused\",\"signature\",\"bridge\",\"Lincoln\",\"risk\",\"smaller\",\"insurance\",\"rates\",\"injury\",\"money\",\"online\",\"closely\",\"conference\",\"sharing\",\"although\",\"connections\",\"installed\",\"immediate\",\"car\",\"program\",\"repeat\",\"existing\",\"Welsh\",\"signing\",\"Blue\",\"Canadian\",\"ago\",\"given\",\"retirement\",\"BBC\",\"September\",\"plays\",\"December\",\"scientists\",\"knowledge\",\"objectives\",\"anyway\",\"Valley\",\"usage\",\"everywhere\",\"restored\",\"Gary\",\"UTC\",\"Patrick\",\"sentences\",\"youth\",\"hold\",\"tildes\",\"despite\",\"River\",\"Paul\",\"establishing\",\"Apple\",\"wins\",\"stream\",\"denied\",\"documentary\",\"takes\",\"parents\",\"Earth\",\"shopping\",\"industries\",\"duty\",\"generated\",\"via\",\"centuries\",\"granted\",\"check\",\"citing\",\"space\",\"international\",\"afternoon\",\"remaining\",\"ban\",\"economics\",\"Hotel\",\"content\",\"appreciated\",\"death\",\"long\",\"sure\",\"Paris\",\"Review\",\"wild\",\"According\",\"numerous\",\"pain\",\"respect\",\"zone\",\"belief\",\"steps\",\"camp\",\"Family\",\"history\",\"quickly\",\"whereas\",\"provisions\",\"slow\",\"titled\",\"journalist\",\"versus\",\"saying\",\"begin\",\"gets\",\"raise\",\"office\",\"Station\",\"responses\",\"gives\",\"reporters\",\"period\",\"Labour\",\"without\",\"region\",\"sense\",\"Test\",\"instruments\",\"routine\",\"deletion\",\"year\",\"models\",\"fees\",\"understand\",\"classical\",\"Could\",\"uniform\",\"New\",\"resulting\",\"Next\",\"Edinburgh\",\"propaganda\",\"fear\",\"Maria\",\"payments\",\"negotiations\",\"Rose\",\"fourth\",\"telephone\",\"passes\",\"charge\",\"execution\",\"rule\",\"hired\",\"substantial\",\"specifically\",\"date\"],\"x\":{\"__ndarray__\":\"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\",\"dtype\":\"float32\",\"shape\":[500]},\"y\":{\"__ndarray__\":\"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\",\"dtype\":\"float32\",\"shape\":[500]}},\"selected\":{\"id\":\"231be6a6-e6a9-4b79-b143-058606da42f1\",\"type\":\"Selection\"},\"selection_policy\":{\"id\":\"9f1843a6-336e-4ad8-9e37-1ffa984405d3\",\"type\":\"UnionRenderers\"}},\"id\":\"386fd29e-2c9e-46d0-b040-a9f8c059ffef\",\"type\":\"ColumnDataSource\"},{\"attributes\":{\"overlay\":{\"id\":\"23342d0e-02e6-499a-b0c2-abb1d2db933a\",\"type\":\"BoxAnnotation\"}},\"id\":\"8967ee15-425a-4612-b6ec-dbe0e1daf9fd\",\"type\":\"BoxZoomTool\"}],\"root_ids\":[\"9ceda4c3-0f39-4af2-8128-33f00f8e3b09\"]},\"title\":\"Bokeh Application\",\"version\":\"0.13.0\"}};\n",
       "  var render_items = [{\"docid\":\"222b579b-fe3f-4139-b8d8-bfa9b1b217f8\",\"roots\":{\"9ceda4c3-0f39-4af2-8128-33f00f8e3b09\":\"3bf2d585-2773-41e2-b662-e7e8fdf4a64d\"}}];\n",
       "  root.Bokeh.embed.embed_items_notebook(docs_json, render_items);\n",
       "\n",
       "  }\n",
       "  if (root.Bokeh !== undefined) {\n",
       "    embed_document(root);\n",
       "  } else {\n",
       "    var attempts = 0;\n",
       "    var timer = setInterval(function(root) {\n",
       "      if (root.Bokeh !== undefined) {\n",
       "        embed_document(root);\n",
       "        clearInterval(timer);\n",
       "      }\n",
       "      attempts++;\n",
       "      if (attempts > 100) {\n",
       "        console.log(\"Bokeh: ERROR: Unable to run BokehJS code because BokehJS library is missing\")\n",
       "        clearInterval(timer);\n",
       "      }\n",
       "    }, 10, root)\n",
       "  }\n",
       "})(window);"
      ],
      "application/vnd.bokehjs_exec.v0+json": ""
     },
     "metadata": {
      "application/vnd.bokehjs_exec.v0+json": {
       "id": "9ceda4c3-0f39-4af2-8128-33f00f8e3b09"
      }
     },
     "output_type": "display_data"
    }
   ],
   "source": [
    "from bokeh.palettes import Set1\n",
    "\n",
    "plot_fig = bp.figure(plot_width=800, plot_height=600,\n",
    "                     tools=\"pan, wheel_zoom, box_zoom, reset, hover, previewsave\",\n",
    "                     x_axis_type=None, y_axis_type=None, min_border=1)\n",
    "\n",
    "# Use the third dimension as the color map\n",
    "if X_plot1.shape[1] == 3:\n",
    "    colors = X_plot1[:,2]\n",
    "    mapper = linear_cmap(field_name='colors', palette=Set1[6] ,low=min(colors) ,high=max(colors))\n",
    "    source = bp.ColumnDataSource(dict(x=X_plot1[:,0], y=X_plot1[:,1], text=labels_plot1, colors=colors))\n",
    "    plot_fig.text(\"x\", \"y\", text=\"text\", text_font_size='10px', text_color=mapper, source=source)\n",
    "else:\n",
    "    source = bp.ColumnDataSource(dict(x=X_plot1[:,0], y=X_plot1[:,1], text=labels_plot))\n",
    "    plot_fig.text(\"x\", \"y\", text=\"text\", text_font_size='10px', source=source)\n",
    "\n",
    "show(plot_fig)"
   ]
  },
  {
   "cell_type": "code",
   "execution_count": 30,
   "metadata": {},
   "outputs": [],
   "source": [
    "from sklearn.manifold.t_sne import trustworthiness"
   ]
  },
  {
   "cell_type": "code",
   "execution_count": 32,
   "metadata": {},
   "outputs": [
    {
     "name": "stdout",
     "output_type": "stream",
     "text": [
      "Trust = 0.7194\n"
     ]
    }
   ],
   "source": [
    "# Graph net\n",
    "trust = trustworthiness(inputs, y_pred, n_neighbors=5)\n",
    "print(\"Trust = {:.4f}\".format(trust))"
   ]
  },
  {
   "cell_type": "code",
   "execution_count": 33,
   "metadata": {},
   "outputs": [
    {
     "name": "stdout",
     "output_type": "stream",
     "text": [
      "Trust = 0.8900\n"
     ]
    }
   ],
   "source": [
    "# tSNE\n",
    "trust = trustworthiness(inputs, X_emb, n_neighbors=5)\n",
    "print(\"Trust = {:.4f}\".format(trust))"
   ]
  },
  {
   "cell_type": "code",
   "execution_count": null,
   "metadata": {},
   "outputs": [],
   "source": []
  }
 ],
 "metadata": {
  "kernelspec": {
   "display_name": "Python (py36)",
   "language": "python",
   "name": "py36"
  },
  "language_info": {
   "codemirror_mode": {
    "name": "ipython",
    "version": 3
   },
   "file_extension": ".py",
   "mimetype": "text/x-python",
   "name": "python",
   "nbconvert_exporter": "python",
   "pygments_lexer": "ipython3",
   "version": "3.6.6"
  }
 },
 "nbformat": 4,
 "nbformat_minor": 2
}
