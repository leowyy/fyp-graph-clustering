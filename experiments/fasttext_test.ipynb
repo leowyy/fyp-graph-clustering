{
 "cells": [
  {
   "cell_type": "code",
   "execution_count": 1,
   "metadata": {},
   "outputs": [
    {
     "data": {
      "text/plain": [
       "'/home/leowyaoyang/fyp-graph-clustering'"
      ]
     },
     "execution_count": 1,
     "metadata": {},
     "output_type": "execute_result"
    }
   ],
   "source": [
    "import os\n",
    "os.chdir('..')\n",
    "os.getcwd()"
   ]
  },
  {
   "cell_type": "code",
   "execution_count": 2,
   "metadata": {},
   "outputs": [],
   "source": [
    "%matplotlib inline\n",
    "import matplotlib.pyplot as plt\n",
    "from matplotlib.offsetbox import OffsetImage, AnnotationBbox\n",
    "\n",
    "import pickle \n",
    "import numpy as np\n",
    "import pandas as pd\n",
    "import torch\n",
    "import os\n",
    "from timeit import default_timer as timer"
   ]
  },
  {
   "cell_type": "code",
   "execution_count": 3,
   "metadata": {},
   "outputs": [],
   "source": [
    "from core.GraphConvNet2 import GraphConvNet2\n",
    "from core.DataEmbeddingGraph import DataEmbeddingGraph"
   ]
  },
  {
   "cell_type": "code",
   "execution_count": 4,
   "metadata": {},
   "outputs": [
    {
     "name": "stdout",
     "output_type": "stream",
     "text": [
      "cuda available\n"
     ]
    }
   ],
   "source": [
    "if torch.cuda.is_available():\n",
    "    print('cuda available')\n",
    "    device = 'cuda'\n",
    "else:\n",
    "    print('cuda not available')\n",
    "    device = 'cpu'"
   ]
  },
  {
   "cell_type": "code",
   "execution_count": 5,
   "metadata": {},
   "outputs": [],
   "source": [
    "parent_dir = os.path.abspath('..')\n",
    "test_file = '/data/fasttext_test_tsne.pkl'\n",
    "with open(parent_dir+test_file, 'rb') as f:\n",
    "    [inputs, labels, X_emb] = pickle.load(f)"
   ]
  },
  {
   "cell_type": "code",
   "execution_count": 6,
   "metadata": {},
   "outputs": [
    {
     "name": "stdout",
     "output_type": "stream",
     "text": [
      "(1000, 300)\n",
      "1000\n",
      "(1000, 3)\n"
     ]
    }
   ],
   "source": [
    "print(inputs.shape)\n",
    "print(len(labels))\n",
    "print(X_emb.shape)"
   ]
  },
  {
   "cell_type": "code",
   "execution_count": 8,
   "metadata": {},
   "outputs": [],
   "source": [
    "G = DataEmbeddingGraph(inputs, [])"
   ]
  },
  {
   "cell_type": "code",
   "execution_count": 9,
   "metadata": {},
   "outputs": [],
   "source": [
    "net_parameters = {}\n",
    "net_parameters['n_components'] = 3\n",
    "net_parameters['D'] = 300 # input dimension\n",
    "net_parameters['H'] = 50 # number of hidden units\n",
    "net_parameters['L'] = 10 # number of hidden layers\n",
    "net_parameters['n_channels'] = 1\n",
    "net_parameters['n_units_1'] = net_parameters['n_units_2'] = net_parameters['H']"
   ]
  },
  {
   "cell_type": "code",
   "execution_count": 10,
   "metadata": {},
   "outputs": [],
   "source": [
    "# Graph net\n",
    "net = GraphConvNet2(net_parameters)\n",
    "if torch.cuda.is_available(): net.cuda()\n",
    "root = 'results/fasttext_preprocessed_tsne1/'\n",
    "filename = root + 'graph_net5.pkl'\n",
    "checkpoint = torch.load(filename, map_location=device)\n",
    "net.load_state_dict(checkpoint['state_dict'])"
   ]
  },
  {
   "cell_type": "code",
   "execution_count": 11,
   "metadata": {},
   "outputs": [],
   "source": [
    "# Net\n",
    "if torch.cuda.is_available():   \n",
    "    y_pred = net.forward(G).cpu().detach().numpy()\n",
    "else:    \n",
    "    y_pred = net.forward(G).detach().numpy()"
   ]
  },
  {
   "cell_type": "code",
   "execution_count": 12,
   "metadata": {},
   "outputs": [],
   "source": [
    "n_plot = 500\n",
    "X_plot = y_pred[:n_plot]\n",
    "labels_plot = labels[:n_plot]"
   ]
  },
  {
   "cell_type": "code",
   "execution_count": 13,
   "metadata": {},
   "outputs": [
    {
     "data": {
      "text/html": [
       "\n",
       "    <div class=\"bk-root\">\n",
       "        <a href=\"https://bokeh.pydata.org\" target=\"_blank\" class=\"bk-logo bk-logo-small bk-logo-notebook\"></a>\n",
       "        <span id=\"5e18c521-4646-40d0-8cbe-4a2321fa437b\">Loading BokehJS ...</span>\n",
       "    </div>"
      ]
     },
     "metadata": {},
     "output_type": "display_data"
    },
    {
     "data": {
      "application/javascript": [
       "\n",
       "(function(root) {\n",
       "  function now() {\n",
       "    return new Date();\n",
       "  }\n",
       "\n",
       "  var force = true;\n",
       "\n",
       "  if (typeof (root._bokeh_onload_callbacks) === \"undefined\" || force === true) {\n",
       "    root._bokeh_onload_callbacks = [];\n",
       "    root._bokeh_is_loading = undefined;\n",
       "  }\n",
       "\n",
       "  var JS_MIME_TYPE = 'application/javascript';\n",
       "  var HTML_MIME_TYPE = 'text/html';\n",
       "  var EXEC_MIME_TYPE = 'application/vnd.bokehjs_exec.v0+json';\n",
       "  var CLASS_NAME = 'output_bokeh rendered_html';\n",
       "\n",
       "  /**\n",
       "   * Render data to the DOM node\n",
       "   */\n",
       "  function render(props, node) {\n",
       "    var script = document.createElement(\"script\");\n",
       "    node.appendChild(script);\n",
       "  }\n",
       "\n",
       "  /**\n",
       "   * Handle when an output is cleared or removed\n",
       "   */\n",
       "  function handleClearOutput(event, handle) {\n",
       "    var cell = handle.cell;\n",
       "\n",
       "    var id = cell.output_area._bokeh_element_id;\n",
       "    var server_id = cell.output_area._bokeh_server_id;\n",
       "    // Clean up Bokeh references\n",
       "    if (id != null && id in Bokeh.index) {\n",
       "      Bokeh.index[id].model.document.clear();\n",
       "      delete Bokeh.index[id];\n",
       "    }\n",
       "\n",
       "    if (server_id !== undefined) {\n",
       "      // Clean up Bokeh references\n",
       "      var cmd = \"from bokeh.io.state import curstate; print(curstate().uuid_to_server['\" + server_id + \"'].get_sessions()[0].document.roots[0]._id)\";\n",
       "      cell.notebook.kernel.execute(cmd, {\n",
       "        iopub: {\n",
       "          output: function(msg) {\n",
       "            var id = msg.content.text.trim();\n",
       "            if (id in Bokeh.index) {\n",
       "              Bokeh.index[id].model.document.clear();\n",
       "              delete Bokeh.index[id];\n",
       "            }\n",
       "          }\n",
       "        }\n",
       "      });\n",
       "      // Destroy server and session\n",
       "      var cmd = \"import bokeh.io.notebook as ion; ion.destroy_server('\" + server_id + \"')\";\n",
       "      cell.notebook.kernel.execute(cmd);\n",
       "    }\n",
       "  }\n",
       "\n",
       "  /**\n",
       "   * Handle when a new output is added\n",
       "   */\n",
       "  function handleAddOutput(event, handle) {\n",
       "    var output_area = handle.output_area;\n",
       "    var output = handle.output;\n",
       "\n",
       "    // limit handleAddOutput to display_data with EXEC_MIME_TYPE content only\n",
       "    if ((output.output_type != \"display_data\") || (!output.data.hasOwnProperty(EXEC_MIME_TYPE))) {\n",
       "      return\n",
       "    }\n",
       "\n",
       "    var toinsert = output_area.element.find(\".\" + CLASS_NAME.split(' ')[0]);\n",
       "\n",
       "    if (output.metadata[EXEC_MIME_TYPE][\"id\"] !== undefined) {\n",
       "      toinsert[toinsert.length - 1].firstChild.textContent = output.data[JS_MIME_TYPE];\n",
       "      // store reference to embed id on output_area\n",
       "      output_area._bokeh_element_id = output.metadata[EXEC_MIME_TYPE][\"id\"];\n",
       "    }\n",
       "    if (output.metadata[EXEC_MIME_TYPE][\"server_id\"] !== undefined) {\n",
       "      var bk_div = document.createElement(\"div\");\n",
       "      bk_div.innerHTML = output.data[HTML_MIME_TYPE];\n",
       "      var script_attrs = bk_div.children[0].attributes;\n",
       "      for (var i = 0; i < script_attrs.length; i++) {\n",
       "        toinsert[toinsert.length - 1].firstChild.setAttribute(script_attrs[i].name, script_attrs[i].value);\n",
       "      }\n",
       "      // store reference to server id on output_area\n",
       "      output_area._bokeh_server_id = output.metadata[EXEC_MIME_TYPE][\"server_id\"];\n",
       "    }\n",
       "  }\n",
       "\n",
       "  function register_renderer(events, OutputArea) {\n",
       "\n",
       "    function append_mime(data, metadata, element) {\n",
       "      // create a DOM node to render to\n",
       "      var toinsert = this.create_output_subarea(\n",
       "        metadata,\n",
       "        CLASS_NAME,\n",
       "        EXEC_MIME_TYPE\n",
       "      );\n",
       "      this.keyboard_manager.register_events(toinsert);\n",
       "      // Render to node\n",
       "      var props = {data: data, metadata: metadata[EXEC_MIME_TYPE]};\n",
       "      render(props, toinsert[toinsert.length - 1]);\n",
       "      element.append(toinsert);\n",
       "      return toinsert\n",
       "    }\n",
       "\n",
       "    /* Handle when an output is cleared or removed */\n",
       "    events.on('clear_output.CodeCell', handleClearOutput);\n",
       "    events.on('delete.Cell', handleClearOutput);\n",
       "\n",
       "    /* Handle when a new output is added */\n",
       "    events.on('output_added.OutputArea', handleAddOutput);\n",
       "\n",
       "    /**\n",
       "     * Register the mime type and append_mime function with output_area\n",
       "     */\n",
       "    OutputArea.prototype.register_mime_type(EXEC_MIME_TYPE, append_mime, {\n",
       "      /* Is output safe? */\n",
       "      safe: true,\n",
       "      /* Index of renderer in `output_area.display_order` */\n",
       "      index: 0\n",
       "    });\n",
       "  }\n",
       "\n",
       "  // register the mime type if in Jupyter Notebook environment and previously unregistered\n",
       "  if (root.Jupyter !== undefined) {\n",
       "    var events = require('base/js/events');\n",
       "    var OutputArea = require('notebook/js/outputarea').OutputArea;\n",
       "\n",
       "    if (OutputArea.prototype.mime_types().indexOf(EXEC_MIME_TYPE) == -1) {\n",
       "      register_renderer(events, OutputArea);\n",
       "    }\n",
       "  }\n",
       "\n",
       "  \n",
       "  if (typeof (root._bokeh_timeout) === \"undefined\" || force === true) {\n",
       "    root._bokeh_timeout = Date.now() + 5000;\n",
       "    root._bokeh_failed_load = false;\n",
       "  }\n",
       "\n",
       "  var NB_LOAD_WARNING = {'data': {'text/html':\n",
       "     \"<div style='background-color: #fdd'>\\n\"+\n",
       "     \"<p>\\n\"+\n",
       "     \"BokehJS does not appear to have successfully loaded. If loading BokehJS from CDN, this \\n\"+\n",
       "     \"may be due to a slow or bad network connection. Possible fixes:\\n\"+\n",
       "     \"</p>\\n\"+\n",
       "     \"<ul>\\n\"+\n",
       "     \"<li>re-rerun `output_notebook()` to attempt to load from CDN again, or</li>\\n\"+\n",
       "     \"<li>use INLINE resources instead, as so:</li>\\n\"+\n",
       "     \"</ul>\\n\"+\n",
       "     \"<code>\\n\"+\n",
       "     \"from bokeh.resources import INLINE\\n\"+\n",
       "     \"output_notebook(resources=INLINE)\\n\"+\n",
       "     \"</code>\\n\"+\n",
       "     \"</div>\"}};\n",
       "\n",
       "  function display_loaded() {\n",
       "    var el = document.getElementById(\"5e18c521-4646-40d0-8cbe-4a2321fa437b\");\n",
       "    if (el != null) {\n",
       "      el.textContent = \"BokehJS is loading...\";\n",
       "    }\n",
       "    if (root.Bokeh !== undefined) {\n",
       "      if (el != null) {\n",
       "        el.textContent = \"BokehJS \" + root.Bokeh.version + \" successfully loaded.\";\n",
       "      }\n",
       "    } else if (Date.now() < root._bokeh_timeout) {\n",
       "      setTimeout(display_loaded, 100)\n",
       "    }\n",
       "  }\n",
       "\n",
       "\n",
       "  function run_callbacks() {\n",
       "    try {\n",
       "      root._bokeh_onload_callbacks.forEach(function(callback) { callback() });\n",
       "    }\n",
       "    finally {\n",
       "      delete root._bokeh_onload_callbacks\n",
       "    }\n",
       "    console.info(\"Bokeh: all callbacks have finished\");\n",
       "  }\n",
       "\n",
       "  function load_libs(js_urls, callback) {\n",
       "    root._bokeh_onload_callbacks.push(callback);\n",
       "    if (root._bokeh_is_loading > 0) {\n",
       "      console.log(\"Bokeh: BokehJS is being loaded, scheduling callback at\", now());\n",
       "      return null;\n",
       "    }\n",
       "    if (js_urls == null || js_urls.length === 0) {\n",
       "      run_callbacks();\n",
       "      return null;\n",
       "    }\n",
       "    console.log(\"Bokeh: BokehJS not loaded, scheduling load and callback at\", now());\n",
       "    root._bokeh_is_loading = js_urls.length;\n",
       "    for (var i = 0; i < js_urls.length; i++) {\n",
       "      var url = js_urls[i];\n",
       "      var s = document.createElement('script');\n",
       "      s.src = url;\n",
       "      s.async = false;\n",
       "      s.onreadystatechange = s.onload = function() {\n",
       "        root._bokeh_is_loading--;\n",
       "        if (root._bokeh_is_loading === 0) {\n",
       "          console.log(\"Bokeh: all BokehJS libraries loaded\");\n",
       "          run_callbacks()\n",
       "        }\n",
       "      };\n",
       "      s.onerror = function() {\n",
       "        console.warn(\"failed to load library \" + url);\n",
       "      };\n",
       "      console.log(\"Bokeh: injecting script tag for BokehJS library: \", url);\n",
       "      document.getElementsByTagName(\"head\")[0].appendChild(s);\n",
       "    }\n",
       "  };var element = document.getElementById(\"5e18c521-4646-40d0-8cbe-4a2321fa437b\");\n",
       "  if (element == null) {\n",
       "    console.log(\"Bokeh: ERROR: autoload.js configured with elementid '5e18c521-4646-40d0-8cbe-4a2321fa437b' but no matching script tag was found. \")\n",
       "    return false;\n",
       "  }\n",
       "\n",
       "  var js_urls = [\"https://cdn.pydata.org/bokeh/release/bokeh-0.13.0.min.js\", \"https://cdn.pydata.org/bokeh/release/bokeh-widgets-0.13.0.min.js\", \"https://cdn.pydata.org/bokeh/release/bokeh-tables-0.13.0.min.js\", \"https://cdn.pydata.org/bokeh/release/bokeh-gl-0.13.0.min.js\"];\n",
       "\n",
       "  var inline_js = [\n",
       "    function(Bokeh) {\n",
       "      Bokeh.set_log_level(\"info\");\n",
       "    },\n",
       "    \n",
       "    function(Bokeh) {\n",
       "      \n",
       "    },\n",
       "    function(Bokeh) {\n",
       "      console.log(\"Bokeh: injecting CSS: https://cdn.pydata.org/bokeh/release/bokeh-0.13.0.min.css\");\n",
       "      Bokeh.embed.inject_css(\"https://cdn.pydata.org/bokeh/release/bokeh-0.13.0.min.css\");\n",
       "      console.log(\"Bokeh: injecting CSS: https://cdn.pydata.org/bokeh/release/bokeh-widgets-0.13.0.min.css\");\n",
       "      Bokeh.embed.inject_css(\"https://cdn.pydata.org/bokeh/release/bokeh-widgets-0.13.0.min.css\");\n",
       "      console.log(\"Bokeh: injecting CSS: https://cdn.pydata.org/bokeh/release/bokeh-tables-0.13.0.min.css\");\n",
       "      Bokeh.embed.inject_css(\"https://cdn.pydata.org/bokeh/release/bokeh-tables-0.13.0.min.css\");\n",
       "    }\n",
       "  ];\n",
       "\n",
       "  function run_inline_js() {\n",
       "    \n",
       "    if ((root.Bokeh !== undefined) || (force === true)) {\n",
       "      for (var i = 0; i < inline_js.length; i++) {\n",
       "        inline_js[i].call(root, root.Bokeh);\n",
       "      }if (force === true) {\n",
       "        display_loaded();\n",
       "      }} else if (Date.now() < root._bokeh_timeout) {\n",
       "      setTimeout(run_inline_js, 100);\n",
       "    } else if (!root._bokeh_failed_load) {\n",
       "      console.log(\"Bokeh: BokehJS failed to load within specified timeout.\");\n",
       "      root._bokeh_failed_load = true;\n",
       "    } else if (force !== true) {\n",
       "      var cell = $(document.getElementById(\"5e18c521-4646-40d0-8cbe-4a2321fa437b\")).parents('.cell').data().cell;\n",
       "      cell.output_area.append_execute_result(NB_LOAD_WARNING)\n",
       "    }\n",
       "\n",
       "  }\n",
       "\n",
       "  if (root._bokeh_is_loading === 0) {\n",
       "    console.log(\"Bokeh: BokehJS loaded, going straight to plotting\");\n",
       "    run_inline_js();\n",
       "  } else {\n",
       "    load_libs(js_urls, function() {\n",
       "      console.log(\"Bokeh: BokehJS plotting callback run at\", now());\n",
       "      run_inline_js();\n",
       "    });\n",
       "  }\n",
       "}(window));"
      ],
      "application/vnd.bokehjs_load.v0+json": "\n(function(root) {\n  function now() {\n    return new Date();\n  }\n\n  var force = true;\n\n  if (typeof (root._bokeh_onload_callbacks) === \"undefined\" || force === true) {\n    root._bokeh_onload_callbacks = [];\n    root._bokeh_is_loading = undefined;\n  }\n\n  \n\n  \n  if (typeof (root._bokeh_timeout) === \"undefined\" || force === true) {\n    root._bokeh_timeout = Date.now() + 5000;\n    root._bokeh_failed_load = false;\n  }\n\n  var NB_LOAD_WARNING = {'data': {'text/html':\n     \"<div style='background-color: #fdd'>\\n\"+\n     \"<p>\\n\"+\n     \"BokehJS does not appear to have successfully loaded. If loading BokehJS from CDN, this \\n\"+\n     \"may be due to a slow or bad network connection. Possible fixes:\\n\"+\n     \"</p>\\n\"+\n     \"<ul>\\n\"+\n     \"<li>re-rerun `output_notebook()` to attempt to load from CDN again, or</li>\\n\"+\n     \"<li>use INLINE resources instead, as so:</li>\\n\"+\n     \"</ul>\\n\"+\n     \"<code>\\n\"+\n     \"from bokeh.resources import INLINE\\n\"+\n     \"output_notebook(resources=INLINE)\\n\"+\n     \"</code>\\n\"+\n     \"</div>\"}};\n\n  function display_loaded() {\n    var el = document.getElementById(\"5e18c521-4646-40d0-8cbe-4a2321fa437b\");\n    if (el != null) {\n      el.textContent = \"BokehJS is loading...\";\n    }\n    if (root.Bokeh !== undefined) {\n      if (el != null) {\n        el.textContent = \"BokehJS \" + root.Bokeh.version + \" successfully loaded.\";\n      }\n    } else if (Date.now() < root._bokeh_timeout) {\n      setTimeout(display_loaded, 100)\n    }\n  }\n\n\n  function run_callbacks() {\n    try {\n      root._bokeh_onload_callbacks.forEach(function(callback) { callback() });\n    }\n    finally {\n      delete root._bokeh_onload_callbacks\n    }\n    console.info(\"Bokeh: all callbacks have finished\");\n  }\n\n  function load_libs(js_urls, callback) {\n    root._bokeh_onload_callbacks.push(callback);\n    if (root._bokeh_is_loading > 0) {\n      console.log(\"Bokeh: BokehJS is being loaded, scheduling callback at\", now());\n      return null;\n    }\n    if (js_urls == null || js_urls.length === 0) {\n      run_callbacks();\n      return null;\n    }\n    console.log(\"Bokeh: BokehJS not loaded, scheduling load and callback at\", now());\n    root._bokeh_is_loading = js_urls.length;\n    for (var i = 0; i < js_urls.length; i++) {\n      var url = js_urls[i];\n      var s = document.createElement('script');\n      s.src = url;\n      s.async = false;\n      s.onreadystatechange = s.onload = function() {\n        root._bokeh_is_loading--;\n        if (root._bokeh_is_loading === 0) {\n          console.log(\"Bokeh: all BokehJS libraries loaded\");\n          run_callbacks()\n        }\n      };\n      s.onerror = function() {\n        console.warn(\"failed to load library \" + url);\n      };\n      console.log(\"Bokeh: injecting script tag for BokehJS library: \", url);\n      document.getElementsByTagName(\"head\")[0].appendChild(s);\n    }\n  };var element = document.getElementById(\"5e18c521-4646-40d0-8cbe-4a2321fa437b\");\n  if (element == null) {\n    console.log(\"Bokeh: ERROR: autoload.js configured with elementid '5e18c521-4646-40d0-8cbe-4a2321fa437b' but no matching script tag was found. \")\n    return false;\n  }\n\n  var js_urls = [\"https://cdn.pydata.org/bokeh/release/bokeh-0.13.0.min.js\", \"https://cdn.pydata.org/bokeh/release/bokeh-widgets-0.13.0.min.js\", \"https://cdn.pydata.org/bokeh/release/bokeh-tables-0.13.0.min.js\", \"https://cdn.pydata.org/bokeh/release/bokeh-gl-0.13.0.min.js\"];\n\n  var inline_js = [\n    function(Bokeh) {\n      Bokeh.set_log_level(\"info\");\n    },\n    \n    function(Bokeh) {\n      \n    },\n    function(Bokeh) {\n      console.log(\"Bokeh: injecting CSS: https://cdn.pydata.org/bokeh/release/bokeh-0.13.0.min.css\");\n      Bokeh.embed.inject_css(\"https://cdn.pydata.org/bokeh/release/bokeh-0.13.0.min.css\");\n      console.log(\"Bokeh: injecting CSS: https://cdn.pydata.org/bokeh/release/bokeh-widgets-0.13.0.min.css\");\n      Bokeh.embed.inject_css(\"https://cdn.pydata.org/bokeh/release/bokeh-widgets-0.13.0.min.css\");\n      console.log(\"Bokeh: injecting CSS: https://cdn.pydata.org/bokeh/release/bokeh-tables-0.13.0.min.css\");\n      Bokeh.embed.inject_css(\"https://cdn.pydata.org/bokeh/release/bokeh-tables-0.13.0.min.css\");\n    }\n  ];\n\n  function run_inline_js() {\n    \n    if ((root.Bokeh !== undefined) || (force === true)) {\n      for (var i = 0; i < inline_js.length; i++) {\n        inline_js[i].call(root, root.Bokeh);\n      }if (force === true) {\n        display_loaded();\n      }} else if (Date.now() < root._bokeh_timeout) {\n      setTimeout(run_inline_js, 100);\n    } else if (!root._bokeh_failed_load) {\n      console.log(\"Bokeh: BokehJS failed to load within specified timeout.\");\n      root._bokeh_failed_load = true;\n    } else if (force !== true) {\n      var cell = $(document.getElementById(\"5e18c521-4646-40d0-8cbe-4a2321fa437b\")).parents('.cell').data().cell;\n      cell.output_area.append_execute_result(NB_LOAD_WARNING)\n    }\n\n  }\n\n  if (root._bokeh_is_loading === 0) {\n    console.log(\"Bokeh: BokehJS loaded, going straight to plotting\");\n    run_inline_js();\n  } else {\n    load_libs(js_urls, function() {\n      console.log(\"Bokeh: BokehJS plotting callback run at\", now());\n      run_inline_js();\n    });\n  }\n}(window));"
     },
     "metadata": {},
     "output_type": "display_data"
    }
   ],
   "source": [
    "import bokeh.plotting as bp\n",
    "from bokeh.plotting import save, show\n",
    "from bokeh.models.glyphs import Text\n",
    "from bokeh.models import HoverTool\n",
    "from bokeh.io import output_notebook\n",
    "from bokeh.transform import linear_cmap\n",
    "from bokeh.palettes import Spectral6\n",
    "\n",
    "output_notebook()"
   ]
  },
  {
   "cell_type": "code",
   "execution_count": 14,
   "metadata": {},
   "outputs": [
    {
     "data": {
      "text/html": [
       "\n",
       "\n",
       "\n",
       "\n",
       "\n",
       "\n",
       "  <div class=\"bk-root\" id=\"ac0410ce-127d-465f-8c3c-803bb70555f5\"></div>\n"
      ]
     },
     "metadata": {},
     "output_type": "display_data"
    },
    {
     "data": {
      "application/javascript": [
       "(function(root) {\n",
       "  function embed_document(root) {\n",
       "    \n",
       "  var docs_json = {\"70808f4e-d856-44e8-a774-c05df2cd29c8\":{\"roots\":{\"references\":[{\"attributes\":{\"text_color\":{\"field\":\"colors\",\"transform\":{\"id\":\"17f44aba-467a-433b-af47-56f038033530\",\"type\":\"LinearColorMapper\"}},\"text_font_size\":{\"value\":\"10px\"},\"x\":{\"field\":\"x\"},\"y\":{\"field\":\"y\"}},\"id\":\"44356e9b-dfd4-4a92-8740-8f3a47f4332b\",\"type\":\"Text\"},{\"attributes\":{\"text_alpha\":{\"value\":0.1},\"text_color\":{\"value\":\"black\"},\"text_font_size\":{\"value\":\"10px\"},\"x\":{\"field\":\"x\"},\"y\":{\"field\":\"y\"}},\"id\":\"dd109e40-726c-412a-99f6-20e7caf1ac33\",\"type\":\"Text\"},{\"attributes\":{},\"id\":\"4081e9a9-8f5d-4f93-9187-c8f33a2cbf69\",\"type\":\"LinearScale\"},{\"attributes\":{},\"id\":\"c4764e76-7be2-4de2-af5f-9b2f768e9d08\",\"type\":\"LinearScale\"},{\"attributes\":{\"callback\":null,\"data\":{\"colors\":{\"__ndarray__\":\"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\",\"dtype\":\"float32\",\"shape\":[500]},\"text\":[\"Ross\",\"baseball\",\"businesses\",\"vessel\",\"Jack\",\"extension\",\"Club\",\"locations\",\"certain\",\"challenging\",\"advance\",\"tested\",\"animals\",\"border\",\"Ohio\",\"proven\",\"appeal\",\"decline\",\"create\",\"series\",\"saw\",\"prepared\",\"month\",\"different\",\"jobs\",\"ancient\",\"fashion\",\"Business\",\"magazines\",\"skill\",\"seasons\",\"harm\",\"High\",\"Beijing\",\"extent\",\"connected\",\"skills\",\"Video\",\"review\",\"begins\",\"Indian\",\"assigned\",\"interest\",\"Sydney\",\"thinking\",\"case\",\"Power\",\"Denmark\",\"sexual\",\"concrete\",\"administration\",\"error\",\"colleagues\",\"frequently\",\"recognized\",\"arrest\",\"Music\",\"called\",\"leg\",\"climate\",\"considering\",\"reader\",\"environment\",\"ages\",\"interview\",\"internal\",\"classification\",\"factors\",\"Italy\",\"sides\",\"reading\",\"purchase\",\"give\",\"challenge\",\"estate\",\"killing\",\"distributed\",\"reach\",\"clubs\",\"protected\",\"unit\",\"mean\",\"Hamas\",\"red\",\"Taylor\",\"headquarters\",\"corporations\",\"documented\",\"Stop\",\"crowd\",\"unlike\",\"show\",\"distribution\",\"protecting\",\"Little\",\"progress\",\"Philip\",\"innovation\",\"dropped\",\"easy\",\"reply\",\"decide\",\"laws\",\"covers\",\"boy\",\"flights\",\"God\",\"protest\",\"governor\",\"relief\",\"eggs\",\"streets\",\"entire\",\"director\",\"extremely\",\"caused\",\"machine\",\"wind\",\"big\",\"expect\",\"shop\",\"northern\",\"Pennsylvania\",\"featuring\",\"careful\",\"page\",\"drama\",\"Tory\",\"aircraft\",\"May\",\"waters\",\"claim\",\"literally\",\"attended\",\"aggressive\",\"campus\",\"bring\",\"Bridge\",\"couple\",\"recently\",\"details\",\"document\",\"previous\",\"assets\",\"constructive\",\"violations\",\"household\",\"ABC\",\"serious\",\"Military\",\"game\",\"application\",\"set\",\"Radio\",\"George\",\"heavy\",\"cast\",\"facilities\",\"eventually\",\"professor\",\"everything\",\"morning\",\"contributions\",\"attention\",\"skin\",\"serving\",\"lab\",\"pitch\",\"merely\",\"regional\",\"accepted\",\"musician\",\"Project\",\"Kennedy\",\"elections\",\"presence\",\"informed\",\"educational\",\"represented\",\"Summer\",\"new\",\"Louis\",\"suffering\",\"Major\",\"Science\",\"developed\",\"lawyer\",\"championship\",\"eastern\",\"indicate\",\"attitude\",\"represents\",\"learn\",\"Sweden\",\"Columbia\",\"desire\",\"provide\",\"went\",\"apart\",\"salary\",\"plan\",\"coast\",\"festival\",\"deals\",\"hitting\",\"generally\",\"ridiculous\",\"visits\",\"Wisconsin\",\"hope\",\"speak\",\"fighting\",\"early\",\"restrictions\",\"colour\",\"outside\",\"wearing\",\"movement\",\"conflicts\",\"recovery\",\"opponents\",\"USA\",\"Many\",\"unnecessary\",\"historian\",\"BLP\",\"depression\",\"Ryan\",\"land\",\"bill\",\"situation\",\"economic\",\"designer\",\"several\",\"patient\",\"expanded\",\"bringing\",\"crucial\",\"science\",\"notes\",\"crossing\",\"Seattle\",\"Roger\",\"minute\",\"delay\",\"opening\",\"Joseph\",\"investors\",\"maintaining\",\"tree\",\"text\",\"let\",\"tells\",\"chair\",\"actually\",\"mobile\",\"tax\",\"John\",\"Mississippi\",\"parameter\",\"sentence\",\"legitimate\",\"role\",\"significance\",\"context\",\"found\",\"rich\",\"require\",\"deaths\",\"first\",\"spiritual\",\"effectively\",\"competitive\",\"stands\",\"experienced\",\"points\",\"San\",\"involvement\",\"Time\",\"sections\",\"shops\",\"activities\",\"visiting\",\"forget\",\"households\",\"adopted\",\"Arab\",\"prominent\",\"machines\",\"received\",\"performed\",\"affairs\",\"costs\",\"maintain\",\"basis\",\"confusing\",\"Manchester\",\"design\",\"Oklahoma\",\"mentions\",\"Sarah\",\"creative\",\"determination\",\"common\",\"diff\",\"diversity\",\"Monday\",\"editing\",\"essay\",\"allegedly\",\"burning\",\"necessary\",\"five\",\"point\",\"studio\",\"demands\",\"colors\",\"episode\",\"log\",\"practices\",\"broadcast\",\"dry\",\"experts\",\"child\",\"organization\",\"Library\",\"email\",\"gas\",\"representatives\",\"permanent\",\"Master\",\"ten\",\"launch\",\"uploaded\",\"Joe\",\"Arts\",\"chemistry\",\"Though\",\"driving\",\"valuable\",\"Red\",\"rationale\",\"operators\",\"demand\",\"Oxford\",\"clear\",\"fans\",\"contains\",\"grow\",\"conducted\",\"fraud\",\"west\",\"especially\",\"section\",\"blind\",\"aside\",\"catch\",\"crew\",\"true\",\"pay\",\"draw\",\"atmosphere\",\"happy\",\"June\",\"representing\",\"evaluation\",\"faith\",\"Minnesota\",\"concentration\",\"videos\",\"agriculture\",\"plane\",\"day\",\"entirely\",\"trip\",\"recommendations\",\"notices\",\"exists\",\"season\",\"strange\",\"audio\",\"ready\",\"London\",\"daughter\",\"Administration\",\"used\",\"community\",\"held\",\"product\",\"choice\",\"values\",\"irrelevant\",\"dinner\",\"rally\",\"preparation\",\"returns\",\"meetings\",\"warm\",\"million\",\"learning\",\"made\",\"impact\",\"Hungary\",\"letters\",\"great\",\"depth\",\"service\",\"magazine\",\"Division\",\"appropriate\",\"sex\",\"treatment\",\"finds\",\"shots\",\"West\",\"forum\",\"plans\",\"pages\",\"incident\",\"improve\",\"Well\",\"transportation\",\"Islam\",\"large\",\"amongst\",\"position\",\"emerging\",\"administrator\",\"wait\",\"unconstructive\",\"instructions\",\"enforcement\",\"mayor\",\"publication\",\"disability\",\"father\",\"claims\",\"soil\",\"elements\",\"believed\",\"thanks\",\"Several\",\"engaged\",\"Secretary\",\"eat\",\"eating\",\"Theatre\",\"server\",\"officer\",\"wing\",\"discovered\",\"Greek\",\"appeared\",\"needed\",\"producer\",\"cost\",\"episodes\",\"planet\",\"tried\",\"Commons\",\"shared\",\"ones\",\"consent\",\"describe\",\"affected\",\"troops\",\"cultures\",\"cutting\",\"dollars\",\"sourcing\",\"already\",\"Navy\",\"Council\",\"directly\",\"reduced\",\"request\",\"terms\",\"territory\",\"together\",\"Michigan\",\"defending\",\"suddenly\",\"females\",\"became\",\"winner\",\"discussion\",\"hear\",\"URL\",\"written\",\"colleges\",\"States\",\"military\",\"trained\",\"mark\",\"leaving\",\"parameters\",\"coal\",\"Long\",\"cities\",\"temple\"],\"x\":{\"__ndarray__\":\"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\",\"dtype\":\"float32\",\"shape\":[500]},\"y\":{\"__ndarray__\":\"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\",\"dtype\":\"float32\",\"shape\":[500]}},\"selected\":{\"id\":\"11a9f9d4-837a-4b1b-97af-2240b55d1920\",\"type\":\"Selection\"},\"selection_policy\":{\"id\":\"02275e35-0aea-4b91-8755-8e4a7665379a\",\"type\":\"UnionRenderers\"}},\"id\":\"7c6dd02f-9917-49f5-937a-5feade8ece8f\",\"type\":\"ColumnDataSource\"},{\"attributes\":{},\"id\":\"d78cf42e-b8c9-456b-8201-2921cefaafa1\",\"type\":\"PanTool\"},{\"attributes\":{\"high\":67.4904556274414,\"low\":-63.47686767578125,\"palette\":[\"#3288bd\",\"#99d594\",\"#e6f598\",\"#fee08b\",\"#fc8d59\",\"#d53e4f\"]},\"id\":\"17f44aba-467a-433b-af47-56f038033530\",\"type\":\"LinearColorMapper\"},{\"attributes\":{\"bottom_units\":\"screen\",\"fill_alpha\":{\"value\":0.5},\"fill_color\":{\"value\":\"lightgrey\"},\"left_units\":\"screen\",\"level\":\"overlay\",\"line_alpha\":{\"value\":1.0},\"line_color\":{\"value\":\"black\"},\"line_dash\":[4,4],\"line_width\":{\"value\":2},\"plot\":null,\"render_mode\":\"css\",\"right_units\":\"screen\",\"top_units\":\"screen\"},\"id\":\"3ec7526b-1aad-4597-b046-74bd43f39314\",\"type\":\"BoxAnnotation\"},{\"attributes\":{\"source\":{\"id\":\"7c6dd02f-9917-49f5-937a-5feade8ece8f\",\"type\":\"ColumnDataSource\"}},\"id\":\"59422d3a-06f0-44cd-998b-2907dfca0c54\",\"type\":\"CDSView\"},{\"attributes\":{},\"id\":\"da5bb28b-e885-4574-9dec-9fbe3a76ebc5\",\"type\":\"WheelZoomTool\"},{\"attributes\":{\"overlay\":{\"id\":\"3ec7526b-1aad-4597-b046-74bd43f39314\",\"type\":\"BoxAnnotation\"}},\"id\":\"ab757694-7b0b-49ab-b12a-c576ef5e2077\",\"type\":\"BoxZoomTool\"},{\"attributes\":{},\"id\":\"02275e35-0aea-4b91-8755-8e4a7665379a\",\"type\":\"UnionRenderers\"},{\"attributes\":{},\"id\":\"8779f95d-1e51-487d-b788-93dfba5ad5cb\",\"type\":\"ResetTool\"},{\"attributes\":{\"callback\":null,\"renderers\":\"auto\"},\"id\":\"5015d269-cc10-4ae3-84d1-f707b950ddef\",\"type\":\"HoverTool\"},{\"attributes\":{\"min_border\":1,\"plot_width\":800,\"renderers\":[{\"id\":\"3ec7526b-1aad-4597-b046-74bd43f39314\",\"type\":\"BoxAnnotation\"},{\"id\":\"58e5dda8-deb3-4d3f-9adb-2c5524a4694f\",\"type\":\"GlyphRenderer\"}],\"title\":{\"id\":\"95bb9f1d-9773-4e41-a982-bce192305ba7\",\"type\":\"Title\"},\"toolbar\":{\"id\":\"ea2409dd-aee4-4db7-9863-0469c4d11c97\",\"type\":\"Toolbar\"},\"x_range\":{\"id\":\"6c9a4329-f603-4b13-8436-5f6d227ab006\",\"type\":\"DataRange1d\"},\"x_scale\":{\"id\":\"4081e9a9-8f5d-4f93-9187-c8f33a2cbf69\",\"type\":\"LinearScale\"},\"y_range\":{\"id\":\"a00b1b4d-9a25-4738-b3b7-0fb0d6b35e18\",\"type\":\"DataRange1d\"},\"y_scale\":{\"id\":\"c4764e76-7be2-4de2-af5f-9b2f768e9d08\",\"type\":\"LinearScale\"}},\"id\":\"38e77247-342f-4b1e-9792-71d7d880016f\",\"subtype\":\"Figure\",\"type\":\"Plot\"},{\"attributes\":{},\"id\":\"dace7e6a-8cf5-4b21-81e5-808e2f3a8d19\",\"type\":\"SaveTool\"},{\"attributes\":{},\"id\":\"11a9f9d4-837a-4b1b-97af-2240b55d1920\",\"type\":\"Selection\"},{\"attributes\":{\"data_source\":{\"id\":\"7c6dd02f-9917-49f5-937a-5feade8ece8f\",\"type\":\"ColumnDataSource\"},\"glyph\":{\"id\":\"44356e9b-dfd4-4a92-8740-8f3a47f4332b\",\"type\":\"Text\"},\"hover_glyph\":null,\"muted_glyph\":null,\"nonselection_glyph\":{\"id\":\"dd109e40-726c-412a-99f6-20e7caf1ac33\",\"type\":\"Text\"},\"selection_glyph\":null,\"view\":{\"id\":\"59422d3a-06f0-44cd-998b-2907dfca0c54\",\"type\":\"CDSView\"}},\"id\":\"58e5dda8-deb3-4d3f-9adb-2c5524a4694f\",\"type\":\"GlyphRenderer\"},{\"attributes\":{\"plot\":null,\"text\":\"fast text visualisation\"},\"id\":\"95bb9f1d-9773-4e41-a982-bce192305ba7\",\"type\":\"Title\"},{\"attributes\":{\"callback\":null},\"id\":\"6c9a4329-f603-4b13-8436-5f6d227ab006\",\"type\":\"DataRange1d\"},{\"attributes\":{\"active_drag\":\"auto\",\"active_inspect\":\"auto\",\"active_multi\":null,\"active_scroll\":\"auto\",\"active_tap\":\"auto\",\"tools\":[{\"id\":\"d78cf42e-b8c9-456b-8201-2921cefaafa1\",\"type\":\"PanTool\"},{\"id\":\"da5bb28b-e885-4574-9dec-9fbe3a76ebc5\",\"type\":\"WheelZoomTool\"},{\"id\":\"ab757694-7b0b-49ab-b12a-c576ef5e2077\",\"type\":\"BoxZoomTool\"},{\"id\":\"8779f95d-1e51-487d-b788-93dfba5ad5cb\",\"type\":\"ResetTool\"},{\"id\":\"5015d269-cc10-4ae3-84d1-f707b950ddef\",\"type\":\"HoverTool\"},{\"id\":\"dace7e6a-8cf5-4b21-81e5-808e2f3a8d19\",\"type\":\"SaveTool\"}]},\"id\":\"ea2409dd-aee4-4db7-9863-0469c4d11c97\",\"type\":\"Toolbar\"},{\"attributes\":{\"callback\":null},\"id\":\"a00b1b4d-9a25-4738-b3b7-0fb0d6b35e18\",\"type\":\"DataRange1d\"}],\"root_ids\":[\"38e77247-342f-4b1e-9792-71d7d880016f\"]},\"title\":\"Bokeh Application\",\"version\":\"0.13.0\"}};\n",
       "  var render_items = [{\"docid\":\"70808f4e-d856-44e8-a774-c05df2cd29c8\",\"roots\":{\"38e77247-342f-4b1e-9792-71d7d880016f\":\"ac0410ce-127d-465f-8c3c-803bb70555f5\"}}];\n",
       "  root.Bokeh.embed.embed_items_notebook(docs_json, render_items);\n",
       "\n",
       "  }\n",
       "  if (root.Bokeh !== undefined) {\n",
       "    embed_document(root);\n",
       "  } else {\n",
       "    var attempts = 0;\n",
       "    var timer = setInterval(function(root) {\n",
       "      if (root.Bokeh !== undefined) {\n",
       "        embed_document(root);\n",
       "        clearInterval(timer);\n",
       "      }\n",
       "      attempts++;\n",
       "      if (attempts > 100) {\n",
       "        console.log(\"Bokeh: ERROR: Unable to run BokehJS code because BokehJS library is missing\")\n",
       "        clearInterval(timer);\n",
       "      }\n",
       "    }, 10, root)\n",
       "  }\n",
       "})(window);"
      ],
      "application/vnd.bokehjs_exec.v0+json": ""
     },
     "metadata": {
      "application/vnd.bokehjs_exec.v0+json": {
       "id": "38e77247-342f-4b1e-9792-71d7d880016f"
      }
     },
     "output_type": "display_data"
    }
   ],
   "source": [
    "title = 'fast text visualisation'\n",
    "\n",
    "plot_fig = bp.figure(plot_width=800, plot_height=600,\n",
    "                     title=title,\n",
    "                     tools=\"pan, wheel_zoom, box_zoom, reset, hover, previewsave\",\n",
    "                     x_axis_type=None, y_axis_type=None, min_border=1)\n",
    "\n",
    "# Use the third dimension as the color map\n",
    "if X_plot.shape[1] == 3:\n",
    "    colors = X_plot[:,2]\n",
    "    mapper = linear_cmap(field_name='colors', palette=Spectral6 ,low=min(colors) ,high=max(colors))\n",
    "    source = bp.ColumnDataSource(dict(x=X_plot[:,0], y=X_plot[:,1], text=labels_plot, colors=colors))\n",
    "    plot_fig.text(\"x\", \"y\", text=\"text\", text_font_size='10px', text_color=mapper, source=source)\n",
    "else:\n",
    "    source = bp.ColumnDataSource(dict(x=X_plot[:,0], y=X_plot[:,1], text=labels_plot))\n",
    "    plot_fig.text(\"x\", \"y\", text=\"text\", text_font_size='10px', source=source)\n",
    "\n",
    "show(plot_fig)"
   ]
  },
  {
   "cell_type": "code",
   "execution_count": null,
   "metadata": {},
   "outputs": [],
   "source": []
  }
 ],
 "metadata": {
  "kernelspec": {
   "display_name": "Python 3",
   "language": "python",
   "name": "python3"
  },
  "language_info": {
   "codemirror_mode": {
    "name": "ipython",
    "version": 3
   },
   "file_extension": ".py",
   "mimetype": "text/x-python",
   "name": "python",
   "nbconvert_exporter": "python",
   "pygments_lexer": "ipython3",
   "version": "3.6.5"
  }
 },
 "nbformat": 4,
 "nbformat_minor": 2
}
