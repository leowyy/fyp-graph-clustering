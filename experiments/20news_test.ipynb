{
 "cells": [
  {
   "cell_type": "code",
   "execution_count": 1,
   "metadata": {},
   "outputs": [
    {
     "data": {
      "text/plain": [
       "'/Users/signapoop/Desktop/fyp-graph-clustering'"
      ]
     },
     "execution_count": 1,
     "metadata": {},
     "output_type": "execute_result"
    }
   ],
   "source": [
    "import os\n",
    "os.chdir('..')\n",
    "os.getcwd()"
   ]
  },
  {
   "cell_type": "code",
   "execution_count": 2,
   "metadata": {},
   "outputs": [],
   "source": [
    "%matplotlib inline\n",
    "import matplotlib.pyplot as plt\n",
    "from matplotlib.offsetbox import OffsetImage, AnnotationBbox\n",
    "\n",
    "import pickle \n",
    "import numpy as np\n",
    "import pandas as pd\n",
    "import torch\n",
    "import os\n",
    "from timeit import default_timer as timer"
   ]
  },
  {
   "cell_type": "code",
   "execution_count": 3,
   "metadata": {},
   "outputs": [],
   "source": [
    "from core.GraphConvNet2 import GraphConvNet2\n",
    "from core.DataEmbeddingGraph import DataEmbeddingGraph"
   ]
  },
  {
   "cell_type": "code",
   "execution_count": 4,
   "metadata": {},
   "outputs": [
    {
     "name": "stdout",
     "output_type": "stream",
     "text": [
      "cuda not available\n"
     ]
    }
   ],
   "source": [
    "if torch.cuda.is_available():\n",
    "    print('cuda available')\n",
    "    device = 'cuda'\n",
    "else:\n",
    "    print('cuda not available')\n",
    "    device = 'cpu'"
   ]
  },
  {
   "cell_type": "code",
   "execution_count": 5,
   "metadata": {},
   "outputs": [],
   "source": [
    "parent_dir = os.path.abspath('..')\n",
    "test_file = '/data/20news/20news_test_tsne.pkl'\n",
    "with open(parent_dir+test_file, 'rb') as f:\n",
    "    [inputs, labels, X_emb] = pickle.load(f)"
   ]
  },
  {
   "cell_type": "code",
   "execution_count": 6,
   "metadata": {},
   "outputs": [
    {
     "name": "stdout",
     "output_type": "stream",
     "text": [
      "(2082, 20)\n",
      "2082\n",
      "(2082, 2)\n"
     ]
    }
   ],
   "source": [
    "print(inputs.shape)\n",
    "print(len(labels))\n",
    "print(X_emb.shape)"
   ]
  },
  {
   "cell_type": "code",
   "execution_count": 7,
   "metadata": {},
   "outputs": [],
   "source": [
    "G = DataEmbeddingGraph(inputs, [])"
   ]
  },
  {
   "cell_type": "code",
   "execution_count": 8,
   "metadata": {},
   "outputs": [],
   "source": [
    "net_parameters = {}\n",
    "net_parameters['n_components'] = 2\n",
    "net_parameters['D'] = 20 # input dimension\n",
    "net_parameters['H'] = 50 # number of hidden units\n",
    "net_parameters['L'] = 10 # number of hidden layers\n",
    "net_parameters['n_channels'] = 1\n",
    "net_parameters['n_units_1'] = net_parameters['n_units_2'] = net_parameters['H']"
   ]
  },
  {
   "cell_type": "code",
   "execution_count": 9,
   "metadata": {},
   "outputs": [],
   "source": [
    "# Graph net\n",
    "net = GraphConvNet2(net_parameters)\n",
    "if torch.cuda.is_available(): net.cuda()\n",
    "root = 'results/20news_preprocessed_tsne3/'\n",
    "filename = root + 'graph_net5.pkl'\n",
    "checkpoint = torch.load(filename, map_location=device)\n",
    "net.load_state_dict(checkpoint['state_dict'])"
   ]
  },
  {
   "cell_type": "code",
   "execution_count": 10,
   "metadata": {},
   "outputs": [],
   "source": [
    "# Net\n",
    "if torch.cuda.is_available():   \n",
    "    y_pred = net.forward(G).cpu().detach().numpy()\n",
    "else:    \n",
    "    y_pred = net.forward(G).detach().numpy()"
   ]
  },
  {
   "cell_type": "code",
   "execution_count": 11,
   "metadata": {},
   "outputs": [
    {
     "data": {
      "text/html": [
       "\n",
       "    <div class=\"bk-root\">\n",
       "        <a href=\"https://bokeh.pydata.org\" target=\"_blank\" class=\"bk-logo bk-logo-small bk-logo-notebook\"></a>\n",
       "        <span id=\"7786aff0-274f-4b47-a175-82e77fae8bf0\">Loading BokehJS ...</span>\n",
       "    </div>"
      ]
     },
     "metadata": {},
     "output_type": "display_data"
    },
    {
     "data": {
      "application/javascript": [
       "\n",
       "(function(root) {\n",
       "  function now() {\n",
       "    return new Date();\n",
       "  }\n",
       "\n",
       "  var force = true;\n",
       "\n",
       "  if (typeof (root._bokeh_onload_callbacks) === \"undefined\" || force === true) {\n",
       "    root._bokeh_onload_callbacks = [];\n",
       "    root._bokeh_is_loading = undefined;\n",
       "  }\n",
       "\n",
       "  var JS_MIME_TYPE = 'application/javascript';\n",
       "  var HTML_MIME_TYPE = 'text/html';\n",
       "  var EXEC_MIME_TYPE = 'application/vnd.bokehjs_exec.v0+json';\n",
       "  var CLASS_NAME = 'output_bokeh rendered_html';\n",
       "\n",
       "  /**\n",
       "   * Render data to the DOM node\n",
       "   */\n",
       "  function render(props, node) {\n",
       "    var script = document.createElement(\"script\");\n",
       "    node.appendChild(script);\n",
       "  }\n",
       "\n",
       "  /**\n",
       "   * Handle when an output is cleared or removed\n",
       "   */\n",
       "  function handleClearOutput(event, handle) {\n",
       "    var cell = handle.cell;\n",
       "\n",
       "    var id = cell.output_area._bokeh_element_id;\n",
       "    var server_id = cell.output_area._bokeh_server_id;\n",
       "    // Clean up Bokeh references\n",
       "    if (id != null && id in Bokeh.index) {\n",
       "      Bokeh.index[id].model.document.clear();\n",
       "      delete Bokeh.index[id];\n",
       "    }\n",
       "\n",
       "    if (server_id !== undefined) {\n",
       "      // Clean up Bokeh references\n",
       "      var cmd = \"from bokeh.io.state import curstate; print(curstate().uuid_to_server['\" + server_id + \"'].get_sessions()[0].document.roots[0]._id)\";\n",
       "      cell.notebook.kernel.execute(cmd, {\n",
       "        iopub: {\n",
       "          output: function(msg) {\n",
       "            var id = msg.content.text.trim();\n",
       "            if (id in Bokeh.index) {\n",
       "              Bokeh.index[id].model.document.clear();\n",
       "              delete Bokeh.index[id];\n",
       "            }\n",
       "          }\n",
       "        }\n",
       "      });\n",
       "      // Destroy server and session\n",
       "      var cmd = \"import bokeh.io.notebook as ion; ion.destroy_server('\" + server_id + \"')\";\n",
       "      cell.notebook.kernel.execute(cmd);\n",
       "    }\n",
       "  }\n",
       "\n",
       "  /**\n",
       "   * Handle when a new output is added\n",
       "   */\n",
       "  function handleAddOutput(event, handle) {\n",
       "    var output_area = handle.output_area;\n",
       "    var output = handle.output;\n",
       "\n",
       "    // limit handleAddOutput to display_data with EXEC_MIME_TYPE content only\n",
       "    if ((output.output_type != \"display_data\") || (!output.data.hasOwnProperty(EXEC_MIME_TYPE))) {\n",
       "      return\n",
       "    }\n",
       "\n",
       "    var toinsert = output_area.element.find(\".\" + CLASS_NAME.split(' ')[0]);\n",
       "\n",
       "    if (output.metadata[EXEC_MIME_TYPE][\"id\"] !== undefined) {\n",
       "      toinsert[toinsert.length - 1].firstChild.textContent = output.data[JS_MIME_TYPE];\n",
       "      // store reference to embed id on output_area\n",
       "      output_area._bokeh_element_id = output.metadata[EXEC_MIME_TYPE][\"id\"];\n",
       "    }\n",
       "    if (output.metadata[EXEC_MIME_TYPE][\"server_id\"] !== undefined) {\n",
       "      var bk_div = document.createElement(\"div\");\n",
       "      bk_div.innerHTML = output.data[HTML_MIME_TYPE];\n",
       "      var script_attrs = bk_div.children[0].attributes;\n",
       "      for (var i = 0; i < script_attrs.length; i++) {\n",
       "        toinsert[toinsert.length - 1].firstChild.setAttribute(script_attrs[i].name, script_attrs[i].value);\n",
       "      }\n",
       "      // store reference to server id on output_area\n",
       "      output_area._bokeh_server_id = output.metadata[EXEC_MIME_TYPE][\"server_id\"];\n",
       "    }\n",
       "  }\n",
       "\n",
       "  function register_renderer(events, OutputArea) {\n",
       "\n",
       "    function append_mime(data, metadata, element) {\n",
       "      // create a DOM node to render to\n",
       "      var toinsert = this.create_output_subarea(\n",
       "        metadata,\n",
       "        CLASS_NAME,\n",
       "        EXEC_MIME_TYPE\n",
       "      );\n",
       "      this.keyboard_manager.register_events(toinsert);\n",
       "      // Render to node\n",
       "      var props = {data: data, metadata: metadata[EXEC_MIME_TYPE]};\n",
       "      render(props, toinsert[toinsert.length - 1]);\n",
       "      element.append(toinsert);\n",
       "      return toinsert\n",
       "    }\n",
       "\n",
       "    /* Handle when an output is cleared or removed */\n",
       "    events.on('clear_output.CodeCell', handleClearOutput);\n",
       "    events.on('delete.Cell', handleClearOutput);\n",
       "\n",
       "    /* Handle when a new output is added */\n",
       "    events.on('output_added.OutputArea', handleAddOutput);\n",
       "\n",
       "    /**\n",
       "     * Register the mime type and append_mime function with output_area\n",
       "     */\n",
       "    OutputArea.prototype.register_mime_type(EXEC_MIME_TYPE, append_mime, {\n",
       "      /* Is output safe? */\n",
       "      safe: true,\n",
       "      /* Index of renderer in `output_area.display_order` */\n",
       "      index: 0\n",
       "    });\n",
       "  }\n",
       "\n",
       "  // register the mime type if in Jupyter Notebook environment and previously unregistered\n",
       "  if (root.Jupyter !== undefined) {\n",
       "    var events = require('base/js/events');\n",
       "    var OutputArea = require('notebook/js/outputarea').OutputArea;\n",
       "\n",
       "    if (OutputArea.prototype.mime_types().indexOf(EXEC_MIME_TYPE) == -1) {\n",
       "      register_renderer(events, OutputArea);\n",
       "    }\n",
       "  }\n",
       "\n",
       "  \n",
       "  if (typeof (root._bokeh_timeout) === \"undefined\" || force === true) {\n",
       "    root._bokeh_timeout = Date.now() + 5000;\n",
       "    root._bokeh_failed_load = false;\n",
       "  }\n",
       "\n",
       "  var NB_LOAD_WARNING = {'data': {'text/html':\n",
       "     \"<div style='background-color: #fdd'>\\n\"+\n",
       "     \"<p>\\n\"+\n",
       "     \"BokehJS does not appear to have successfully loaded. If loading BokehJS from CDN, this \\n\"+\n",
       "     \"may be due to a slow or bad network connection. Possible fixes:\\n\"+\n",
       "     \"</p>\\n\"+\n",
       "     \"<ul>\\n\"+\n",
       "     \"<li>re-rerun `output_notebook()` to attempt to load from CDN again, or</li>\\n\"+\n",
       "     \"<li>use INLINE resources instead, as so:</li>\\n\"+\n",
       "     \"</ul>\\n\"+\n",
       "     \"<code>\\n\"+\n",
       "     \"from bokeh.resources import INLINE\\n\"+\n",
       "     \"output_notebook(resources=INLINE)\\n\"+\n",
       "     \"</code>\\n\"+\n",
       "     \"</div>\"}};\n",
       "\n",
       "  function display_loaded() {\n",
       "    var el = document.getElementById(\"7786aff0-274f-4b47-a175-82e77fae8bf0\");\n",
       "    if (el != null) {\n",
       "      el.textContent = \"BokehJS is loading...\";\n",
       "    }\n",
       "    if (root.Bokeh !== undefined) {\n",
       "      if (el != null) {\n",
       "        el.textContent = \"BokehJS \" + root.Bokeh.version + \" successfully loaded.\";\n",
       "      }\n",
       "    } else if (Date.now() < root._bokeh_timeout) {\n",
       "      setTimeout(display_loaded, 100)\n",
       "    }\n",
       "  }\n",
       "\n",
       "\n",
       "  function run_callbacks() {\n",
       "    try {\n",
       "      root._bokeh_onload_callbacks.forEach(function(callback) { callback() });\n",
       "    }\n",
       "    finally {\n",
       "      delete root._bokeh_onload_callbacks\n",
       "    }\n",
       "    console.info(\"Bokeh: all callbacks have finished\");\n",
       "  }\n",
       "\n",
       "  function load_libs(js_urls, callback) {\n",
       "    root._bokeh_onload_callbacks.push(callback);\n",
       "    if (root._bokeh_is_loading > 0) {\n",
       "      console.log(\"Bokeh: BokehJS is being loaded, scheduling callback at\", now());\n",
       "      return null;\n",
       "    }\n",
       "    if (js_urls == null || js_urls.length === 0) {\n",
       "      run_callbacks();\n",
       "      return null;\n",
       "    }\n",
       "    console.log(\"Bokeh: BokehJS not loaded, scheduling load and callback at\", now());\n",
       "    root._bokeh_is_loading = js_urls.length;\n",
       "    for (var i = 0; i < js_urls.length; i++) {\n",
       "      var url = js_urls[i];\n",
       "      var s = document.createElement('script');\n",
       "      s.src = url;\n",
       "      s.async = false;\n",
       "      s.onreadystatechange = s.onload = function() {\n",
       "        root._bokeh_is_loading--;\n",
       "        if (root._bokeh_is_loading === 0) {\n",
       "          console.log(\"Bokeh: all BokehJS libraries loaded\");\n",
       "          run_callbacks()\n",
       "        }\n",
       "      };\n",
       "      s.onerror = function() {\n",
       "        console.warn(\"failed to load library \" + url);\n",
       "      };\n",
       "      console.log(\"Bokeh: injecting script tag for BokehJS library: \", url);\n",
       "      document.getElementsByTagName(\"head\")[0].appendChild(s);\n",
       "    }\n",
       "  };var element = document.getElementById(\"7786aff0-274f-4b47-a175-82e77fae8bf0\");\n",
       "  if (element == null) {\n",
       "    console.log(\"Bokeh: ERROR: autoload.js configured with elementid '7786aff0-274f-4b47-a175-82e77fae8bf0' but no matching script tag was found. \")\n",
       "    return false;\n",
       "  }\n",
       "\n",
       "  var js_urls = [\"https://cdn.pydata.org/bokeh/release/bokeh-0.13.0.min.js\", \"https://cdn.pydata.org/bokeh/release/bokeh-widgets-0.13.0.min.js\", \"https://cdn.pydata.org/bokeh/release/bokeh-tables-0.13.0.min.js\", \"https://cdn.pydata.org/bokeh/release/bokeh-gl-0.13.0.min.js\"];\n",
       "\n",
       "  var inline_js = [\n",
       "    function(Bokeh) {\n",
       "      Bokeh.set_log_level(\"info\");\n",
       "    },\n",
       "    \n",
       "    function(Bokeh) {\n",
       "      \n",
       "    },\n",
       "    function(Bokeh) {\n",
       "      console.log(\"Bokeh: injecting CSS: https://cdn.pydata.org/bokeh/release/bokeh-0.13.0.min.css\");\n",
       "      Bokeh.embed.inject_css(\"https://cdn.pydata.org/bokeh/release/bokeh-0.13.0.min.css\");\n",
       "      console.log(\"Bokeh: injecting CSS: https://cdn.pydata.org/bokeh/release/bokeh-widgets-0.13.0.min.css\");\n",
       "      Bokeh.embed.inject_css(\"https://cdn.pydata.org/bokeh/release/bokeh-widgets-0.13.0.min.css\");\n",
       "      console.log(\"Bokeh: injecting CSS: https://cdn.pydata.org/bokeh/release/bokeh-tables-0.13.0.min.css\");\n",
       "      Bokeh.embed.inject_css(\"https://cdn.pydata.org/bokeh/release/bokeh-tables-0.13.0.min.css\");\n",
       "    }\n",
       "  ];\n",
       "\n",
       "  function run_inline_js() {\n",
       "    \n",
       "    if ((root.Bokeh !== undefined) || (force === true)) {\n",
       "      for (var i = 0; i < inline_js.length; i++) {\n",
       "        inline_js[i].call(root, root.Bokeh);\n",
       "      }if (force === true) {\n",
       "        display_loaded();\n",
       "      }} else if (Date.now() < root._bokeh_timeout) {\n",
       "      setTimeout(run_inline_js, 100);\n",
       "    } else if (!root._bokeh_failed_load) {\n",
       "      console.log(\"Bokeh: BokehJS failed to load within specified timeout.\");\n",
       "      root._bokeh_failed_load = true;\n",
       "    } else if (force !== true) {\n",
       "      var cell = $(document.getElementById(\"7786aff0-274f-4b47-a175-82e77fae8bf0\")).parents('.cell').data().cell;\n",
       "      cell.output_area.append_execute_result(NB_LOAD_WARNING)\n",
       "    }\n",
       "\n",
       "  }\n",
       "\n",
       "  if (root._bokeh_is_loading === 0) {\n",
       "    console.log(\"Bokeh: BokehJS loaded, going straight to plotting\");\n",
       "    run_inline_js();\n",
       "  } else {\n",
       "    load_libs(js_urls, function() {\n",
       "      console.log(\"Bokeh: BokehJS plotting callback run at\", now());\n",
       "      run_inline_js();\n",
       "    });\n",
       "  }\n",
       "}(window));"
      ],
      "application/vnd.bokehjs_load.v0+json": "\n(function(root) {\n  function now() {\n    return new Date();\n  }\n\n  var force = true;\n\n  if (typeof (root._bokeh_onload_callbacks) === \"undefined\" || force === true) {\n    root._bokeh_onload_callbacks = [];\n    root._bokeh_is_loading = undefined;\n  }\n\n  \n\n  \n  if (typeof (root._bokeh_timeout) === \"undefined\" || force === true) {\n    root._bokeh_timeout = Date.now() + 5000;\n    root._bokeh_failed_load = false;\n  }\n\n  var NB_LOAD_WARNING = {'data': {'text/html':\n     \"<div style='background-color: #fdd'>\\n\"+\n     \"<p>\\n\"+\n     \"BokehJS does not appear to have successfully loaded. If loading BokehJS from CDN, this \\n\"+\n     \"may be due to a slow or bad network connection. Possible fixes:\\n\"+\n     \"</p>\\n\"+\n     \"<ul>\\n\"+\n     \"<li>re-rerun `output_notebook()` to attempt to load from CDN again, or</li>\\n\"+\n     \"<li>use INLINE resources instead, as so:</li>\\n\"+\n     \"</ul>\\n\"+\n     \"<code>\\n\"+\n     \"from bokeh.resources import INLINE\\n\"+\n     \"output_notebook(resources=INLINE)\\n\"+\n     \"</code>\\n\"+\n     \"</div>\"}};\n\n  function display_loaded() {\n    var el = document.getElementById(\"7786aff0-274f-4b47-a175-82e77fae8bf0\");\n    if (el != null) {\n      el.textContent = \"BokehJS is loading...\";\n    }\n    if (root.Bokeh !== undefined) {\n      if (el != null) {\n        el.textContent = \"BokehJS \" + root.Bokeh.version + \" successfully loaded.\";\n      }\n    } else if (Date.now() < root._bokeh_timeout) {\n      setTimeout(display_loaded, 100)\n    }\n  }\n\n\n  function run_callbacks() {\n    try {\n      root._bokeh_onload_callbacks.forEach(function(callback) { callback() });\n    }\n    finally {\n      delete root._bokeh_onload_callbacks\n    }\n    console.info(\"Bokeh: all callbacks have finished\");\n  }\n\n  function load_libs(js_urls, callback) {\n    root._bokeh_onload_callbacks.push(callback);\n    if (root._bokeh_is_loading > 0) {\n      console.log(\"Bokeh: BokehJS is being loaded, scheduling callback at\", now());\n      return null;\n    }\n    if (js_urls == null || js_urls.length === 0) {\n      run_callbacks();\n      return null;\n    }\n    console.log(\"Bokeh: BokehJS not loaded, scheduling load and callback at\", now());\n    root._bokeh_is_loading = js_urls.length;\n    for (var i = 0; i < js_urls.length; i++) {\n      var url = js_urls[i];\n      var s = document.createElement('script');\n      s.src = url;\n      s.async = false;\n      s.onreadystatechange = s.onload = function() {\n        root._bokeh_is_loading--;\n        if (root._bokeh_is_loading === 0) {\n          console.log(\"Bokeh: all BokehJS libraries loaded\");\n          run_callbacks()\n        }\n      };\n      s.onerror = function() {\n        console.warn(\"failed to load library \" + url);\n      };\n      console.log(\"Bokeh: injecting script tag for BokehJS library: \", url);\n      document.getElementsByTagName(\"head\")[0].appendChild(s);\n    }\n  };var element = document.getElementById(\"7786aff0-274f-4b47-a175-82e77fae8bf0\");\n  if (element == null) {\n    console.log(\"Bokeh: ERROR: autoload.js configured with elementid '7786aff0-274f-4b47-a175-82e77fae8bf0' but no matching script tag was found. \")\n    return false;\n  }\n\n  var js_urls = [\"https://cdn.pydata.org/bokeh/release/bokeh-0.13.0.min.js\", \"https://cdn.pydata.org/bokeh/release/bokeh-widgets-0.13.0.min.js\", \"https://cdn.pydata.org/bokeh/release/bokeh-tables-0.13.0.min.js\", \"https://cdn.pydata.org/bokeh/release/bokeh-gl-0.13.0.min.js\"];\n\n  var inline_js = [\n    function(Bokeh) {\n      Bokeh.set_log_level(\"info\");\n    },\n    \n    function(Bokeh) {\n      \n    },\n    function(Bokeh) {\n      console.log(\"Bokeh: injecting CSS: https://cdn.pydata.org/bokeh/release/bokeh-0.13.0.min.css\");\n      Bokeh.embed.inject_css(\"https://cdn.pydata.org/bokeh/release/bokeh-0.13.0.min.css\");\n      console.log(\"Bokeh: injecting CSS: https://cdn.pydata.org/bokeh/release/bokeh-widgets-0.13.0.min.css\");\n      Bokeh.embed.inject_css(\"https://cdn.pydata.org/bokeh/release/bokeh-widgets-0.13.0.min.css\");\n      console.log(\"Bokeh: injecting CSS: https://cdn.pydata.org/bokeh/release/bokeh-tables-0.13.0.min.css\");\n      Bokeh.embed.inject_css(\"https://cdn.pydata.org/bokeh/release/bokeh-tables-0.13.0.min.css\");\n    }\n  ];\n\n  function run_inline_js() {\n    \n    if ((root.Bokeh !== undefined) || (force === true)) {\n      for (var i = 0; i < inline_js.length; i++) {\n        inline_js[i].call(root, root.Bokeh);\n      }if (force === true) {\n        display_loaded();\n      }} else if (Date.now() < root._bokeh_timeout) {\n      setTimeout(run_inline_js, 100);\n    } else if (!root._bokeh_failed_load) {\n      console.log(\"Bokeh: BokehJS failed to load within specified timeout.\");\n      root._bokeh_failed_load = true;\n    } else if (force !== true) {\n      var cell = $(document.getElementById(\"7786aff0-274f-4b47-a175-82e77fae8bf0\")).parents('.cell').data().cell;\n      cell.output_area.append_execute_result(NB_LOAD_WARNING)\n    }\n\n  }\n\n  if (root._bokeh_is_loading === 0) {\n    console.log(\"Bokeh: BokehJS loaded, going straight to plotting\");\n    run_inline_js();\n  } else {\n    load_libs(js_urls, function() {\n      console.log(\"Bokeh: BokehJS plotting callback run at\", now());\n      run_inline_js();\n    });\n  }\n}(window));"
     },
     "metadata": {},
     "output_type": "display_data"
    }
   ],
   "source": [
    "import bokeh.plotting as bp\n",
    "from bokeh.plotting import save, show\n",
    "from bokeh.models import HoverTool\n",
    "from bokeh.io import output_notebook\n",
    "\n",
    "n_top_words = 5 # number of keywords we show\n",
    "\n",
    "# 20 colors\n",
    "colormap = np.array([\n",
    "    \"#1f77b4\", \"#aec7e8\", \"#ff7f0e\", \"#ffbb78\", \"#2ca02c\",\n",
    "    \"#98df8a\", \"#d62728\", \"#ff9896\", \"#9467bd\", \"#c5b0d5\",\n",
    "    \"#8c564b\", \"#c49c94\", \"#e377c2\", \"#f7b6d2\", \"#7f7f7f\",\n",
    "    \"#c7c7c7\", \"#bcbd22\", \"#dbdb8d\", \"#17becf\", \"#9edae5\"\n",
    "])\n",
    "output_notebook()"
   ]
  },
  {
   "cell_type": "code",
   "execution_count": 13,
   "metadata": {},
   "outputs": [
    {
     "name": "stdout",
     "output_type": "stream",
     "text": [
      "2082\n"
     ]
    }
   ],
   "source": [
    "lda_keys = []\n",
    "for i in range(inputs.shape[0]):\n",
    "    lda_keys +=  inputs[i].argmax(),\n",
    "print(len(lda_keys))"
   ]
  },
  {
   "cell_type": "code",
   "execution_count": 15,
   "metadata": {},
   "outputs": [
    {
     "data": {
      "text/html": [
       "\n",
       "\n",
       "\n",
       "\n",
       "\n",
       "\n",
       "  <div class=\"bk-root\" id=\"d539e7ca-4622-46b2-96fd-6db15204ea87\"></div>\n"
      ]
     },
     "metadata": {},
     "output_type": "display_data"
    },
    {
     "data": {
      "application/javascript": [
       "(function(root) {\n",
       "  function embed_document(root) {\n",
       "    \n",
       "  var docs_json = {\"33ab2258-21d1-4422-9e99-d35f3cc07a71\":{\"roots\":{\"references\":[{\"attributes\":{},\"id\":\"97852126-274d-4d95-a452-d0b14bcbd493\",\"type\":\"SaveTool\"},{\"attributes\":{\"callback\":null,\"renderers\":\"auto\"},\"id\":\"aa1ecf5f-e36b-42a3-a446-9ba877e84c59\",\"type\":\"HoverTool\"},{\"attributes\":{},\"id\":\"e1abb7a5-8ddb-4f61-9286-ff8c7c3f0cae\",\"type\":\"ResetTool\"},{\"attributes\":{\"overlay\":{\"id\":\"392de3c5-7a55-4295-9b66-a028cef2049c\",\"type\":\"BoxAnnotation\"}},\"id\":\"822274cc-8834-4398-943b-75dbe5b4fc7e\",\"type\":\"BoxZoomTool\"},{\"attributes\":{},\"id\":\"9e1adaff-363b-4e51-b868-01abc8c86a9a\",\"type\":\"WheelZoomTool\"},{\"attributes\":{\"fill_color\":{\"field\":\"color\"},\"line_color\":{\"field\":\"color\"},\"x\":{\"field\":\"x\"},\"y\":{\"field\":\"y\"}},\"id\":\"191f2303-2099-49e0-9afe-eea4e312d3c7\",\"type\":\"Circle\"},{\"attributes\":{\"active_drag\":\"auto\",\"active_inspect\":\"auto\",\"active_multi\":null,\"active_scroll\":\"auto\",\"active_tap\":\"auto\",\"tools\":[{\"id\":\"56b21459-0de3-407e-9064-ced9089f4cfe\",\"type\":\"PanTool\"},{\"id\":\"9e1adaff-363b-4e51-b868-01abc8c86a9a\",\"type\":\"WheelZoomTool\"},{\"id\":\"822274cc-8834-4398-943b-75dbe5b4fc7e\",\"type\":\"BoxZoomTool\"},{\"id\":\"e1abb7a5-8ddb-4f61-9286-ff8c7c3f0cae\",\"type\":\"ResetTool\"},{\"id\":\"aa1ecf5f-e36b-42a3-a446-9ba877e84c59\",\"type\":\"HoverTool\"},{\"id\":\"97852126-274d-4d95-a452-d0b14bcbd493\",\"type\":\"SaveTool\"}]},\"id\":\"e73f0ac1-cc9e-4556-8b65-94717b542d2b\",\"type\":\"Toolbar\"},{\"attributes\":{\"fill_alpha\":{\"value\":0.1},\"fill_color\":{\"value\":\"#1f77b4\"},\"line_alpha\":{\"value\":0.1},\"line_color\":{\"value\":\"#1f77b4\"},\"x\":{\"field\":\"x\"},\"y\":{\"field\":\"y\"}},\"id\":\"1cc35f65-02db-4679-ae62-23fab23c4189\",\"type\":\"Circle\"},{\"attributes\":{\"callback\":null},\"id\":\"ca8934ff-faf3-400e-99ae-34a4c95ad520\",\"type\":\"DataRange1d\"},{\"attributes\":{\"callback\":null,\"data\":{\"color\":[\"#9edae5\",\"#ff7f0e\",\"#ff7f0e\",\"#aec7e8\",\"#d62728\",\"#ffbb78\",\"#ff9896\",\"#ff9896\",\"#ffbb78\",\"#98df8a\",\"#7f7f7f\",\"#aec7e8\",\"#c5b0d5\",\"#2ca02c\",\"#d62728\",\"#aec7e8\",\"#ff7f0e\",\"#7f7f7f\",\"#ffbb78\",\"#c49c94\",\"#1f77b4\",\"#9467bd\",\"#ff7f0e\",\"#17becf\",\"#ffbb78\",\"#ff9896\",\"#9467bd\",\"#2ca02c\",\"#7f7f7f\",\"#c7c7c7\",\"#ffbb78\",\"#8c564b\",\"#ffbb78\",\"#c5b0d5\",\"#dbdb8d\",\"#2ca02c\",\"#ffbb78\",\"#d62728\",\"#98df8a\",\"#ff9896\",\"#8c564b\",\"#1f77b4\",\"#2ca02c\",\"#98df8a\",\"#9467bd\",\"#d62728\",\"#ff9896\",\"#9467bd\",\"#2ca02c\",\"#c5b0d5\",\"#2ca02c\",\"#f7b6d2\",\"#9edae5\",\"#d62728\",\"#e377c2\",\"#c7c7c7\",\"#ff7f0e\",\"#ff7f0e\",\"#ff7f0e\",\"#2ca02c\",\"#c7c7c7\",\"#c5b0d5\",\"#ffbb78\",\"#c7c7c7\",\"#2ca02c\",\"#8c564b\",\"#2ca02c\",\"#98df8a\",\"#aec7e8\",\"#f7b6d2\",\"#9467bd\",\"#c7c7c7\",\"#98df8a\",\"#ffbb78\",\"#c7c7c7\",\"#8c564b\",\"#ffbb78\",\"#ff7f0e\",\"#ffbb78\",\"#ff9896\",\"#8c564b\",\"#2ca02c\",\"#c5b0d5\",\"#1f77b4\",\"#c7c7c7\",\"#9edae5\",\"#dbdb8d\",\"#8c564b\",\"#d62728\",\"#2ca02c\",\"#2ca02c\",\"#98df8a\",\"#1f77b4\",\"#7f7f7f\",\"#8c564b\",\"#f7b6d2\",\"#17becf\",\"#d62728\",\"#c7c7c7\",\"#98df8a\",\"#17becf\",\"#ff9896\",\"#8c564b\",\"#aec7e8\",\"#2ca02c\",\"#c49c94\",\"#c5b0d5\",\"#8c564b\",\"#e377c2\",\"#d62728\",\"#17becf\",\"#ff7f0e\",\"#ffbb78\",\"#9467bd\",\"#ff7f0e\",\"#c5b0d5\",\"#ff9896\",\"#f7b6d2\",\"#aec7e8\",\"#aec7e8\",\"#98df8a\",\"#ffbb78\",\"#9467bd\",\"#f7b6d2\",\"#98df8a\",\"#7f7f7f\",\"#17becf\",\"#c5b0d5\",\"#ff9896\",\"#9edae5\",\"#aec7e8\",\"#c5b0d5\",\"#ffbb78\",\"#9edae5\",\"#9467bd\",\"#c7c7c7\",\"#c49c94\",\"#98df8a\",\"#9467bd\",\"#d62728\",\"#e377c2\",\"#7f7f7f\",\"#d62728\",\"#d62728\",\"#c5b0d5\",\"#9edae5\",\"#d62728\",\"#8c564b\",\"#bcbd22\",\"#7f7f7f\",\"#aec7e8\",\"#c5b0d5\",\"#f7b6d2\",\"#ffbb78\",\"#2ca02c\",\"#c49c94\",\"#c5b0d5\",\"#2ca02c\",\"#9467bd\",\"#2ca02c\",\"#9edae5\",\"#ff7f0e\",\"#bcbd22\",\"#8c564b\",\"#8c564b\",\"#bcbd22\",\"#98df8a\",\"#aec7e8\",\"#dbdb8d\",\"#c5b0d5\",\"#ffbb78\",\"#8c564b\",\"#c5b0d5\",\"#8c564b\",\"#98df8a\",\"#c5b0d5\",\"#dbdb8d\",\"#98df8a\",\"#c5b0d5\",\"#98df8a\",\"#ff7f0e\",\"#9edae5\",\"#98df8a\",\"#ff7f0e\",\"#98df8a\",\"#98df8a\",\"#e377c2\",\"#c5b0d5\",\"#d62728\",\"#d62728\",\"#ff7f0e\",\"#8c564b\",\"#c49c94\",\"#c7c7c7\",\"#f7b6d2\",\"#f7b6d2\",\"#e377c2\",\"#17becf\",\"#ffbb78\",\"#c5b0d5\",\"#ff7f0e\",\"#ffbb78\",\"#f7b6d2\",\"#c7c7c7\",\"#98df8a\",\"#98df8a\",\"#98df8a\",\"#e377c2\",\"#9edae5\",\"#c7c7c7\",\"#8c564b\",\"#c7c7c7\",\"#e377c2\",\"#c5b0d5\",\"#7f7f7f\",\"#d62728\",\"#98df8a\",\"#dbdb8d\",\"#98df8a\",\"#c7c7c7\",\"#8c564b\",\"#ff9896\",\"#c7c7c7\",\"#98df8a\",\"#8c564b\",\"#8c564b\",\"#9467bd\",\"#7f7f7f\",\"#c5b0d5\",\"#2ca02c\",\"#2ca02c\",\"#2ca02c\",\"#98df8a\",\"#c7c7c7\",\"#8c564b\",\"#ff7f0e\",\"#ff7f0e\",\"#dbdb8d\",\"#d62728\",\"#dbdb8d\",\"#8c564b\",\"#ffbb78\",\"#aec7e8\",\"#ffbb78\",\"#c7c7c7\",\"#98df8a\",\"#98df8a\",\"#98df8a\",\"#98df8a\",\"#aec7e8\",\"#9467bd\",\"#8c564b\",\"#ff7f0e\",\"#ffbb78\",\"#98df8a\",\"#9edae5\",\"#dbdb8d\",\"#2ca02c\",\"#ff9896\",\"#ff7f0e\",\"#8c564b\",\"#ff9896\",\"#9edae5\",\"#c5b0d5\",\"#e377c2\",\"#1f77b4\",\"#8c564b\",\"#d62728\",\"#c7c7c7\",\"#2ca02c\",\"#8c564b\",\"#ffbb78\",\"#c5b0d5\",\"#d62728\",\"#d62728\",\"#98df8a\",\"#8c564b\",\"#ffbb78\",\"#dbdb8d\",\"#f7b6d2\",\"#c5b0d5\",\"#aec7e8\",\"#d62728\",\"#aec7e8\",\"#8c564b\",\"#9edae5\",\"#7f7f7f\",\"#2ca02c\",\"#98df8a\",\"#9467bd\",\"#7f7f7f\",\"#c7c7c7\",\"#1f77b4\",\"#f7b6d2\",\"#f7b6d2\",\"#ff9896\",\"#c5b0d5\",\"#9edae5\",\"#ffbb78\",\"#9467bd\",\"#9edae5\",\"#aec7e8\",\"#aec7e8\",\"#dbdb8d\",\"#98df8a\",\"#c7c7c7\",\"#ff9896\",\"#98df8a\",\"#ffbb78\",\"#c7c7c7\",\"#aec7e8\",\"#98df8a\",\"#98df8a\",\"#2ca02c\",\"#d62728\",\"#c5b0d5\",\"#d62728\",\"#1f77b4\",\"#ffbb78\",\"#ff9896\",\"#bcbd22\",\"#aec7e8\",\"#f7b6d2\",\"#c49c94\",\"#ff7f0e\",\"#dbdb8d\",\"#ffbb78\",\"#dbdb8d\",\"#d62728\",\"#d62728\",\"#aec7e8\",\"#aec7e8\",\"#dbdb8d\",\"#aec7e8\",\"#98df8a\",\"#9edae5\",\"#2ca02c\",\"#8c564b\",\"#9edae5\",\"#aec7e8\",\"#ff7f0e\",\"#8c564b\",\"#d62728\",\"#9edae5\",\"#ffbb78\",\"#ff7f0e\",\"#2ca02c\",\"#aec7e8\",\"#d62728\",\"#c5b0d5\",\"#ffbb78\",\"#c7c7c7\",\"#98df8a\",\"#ffbb78\",\"#d62728\",\"#98df8a\",\"#dbdb8d\",\"#2ca02c\",\"#c7c7c7\",\"#9467bd\",\"#ff7f0e\",\"#f7b6d2\",\"#1f77b4\",\"#2ca02c\",\"#ffbb78\",\"#ff7f0e\",\"#dbdb8d\",\"#ff9896\",\"#17becf\",\"#2ca02c\",\"#aec7e8\",\"#d62728\",\"#98df8a\",\"#2ca02c\",\"#ffbb78\",\"#9467bd\",\"#dbdb8d\",\"#2ca02c\",\"#2ca02c\",\"#f7b6d2\",\"#dbdb8d\",\"#ffbb78\",\"#d62728\",\"#c5b0d5\",\"#98df8a\",\"#dbdb8d\",\"#ff7f0e\",\"#c7c7c7\",\"#7f7f7f\",\"#ffbb78\",\"#c49c94\",\"#dbdb8d\",\"#bcbd22\",\"#c5b0d5\",\"#ff9896\",\"#c7c7c7\",\"#e377c2\",\"#8c564b\",\"#ff9896\",\"#2ca02c\",\"#2ca02c\",\"#17becf\",\"#aec7e8\",\"#ff7f0e\",\"#d62728\",\"#ffbb78\",\"#17becf\",\"#c5b0d5\",\"#2ca02c\",\"#9edae5\",\"#ffbb78\",\"#98df8a\",\"#ffbb78\",\"#9467bd\",\"#9edae5\",\"#d62728\",\"#8c564b\",\"#c5b0d5\",\"#98df8a\",\"#dbdb8d\",\"#ff7f0e\",\"#7f7f7f\",\"#aec7e8\",\"#ff7f0e\",\"#7f7f7f\",\"#2ca02c\",\"#98df8a\",\"#98df8a\",\"#9467bd\",\"#ff9896\",\"#aec7e8\",\"#c5b0d5\",\"#c49c94\",\"#9467bd\",\"#c49c94\",\"#c5b0d5\",\"#1f77b4\",\"#ffbb78\",\"#dbdb8d\",\"#ffbb78\",\"#9467bd\",\"#98df8a\",\"#e377c2\",\"#98df8a\",\"#17becf\",\"#8c564b\",\"#ffbb78\",\"#f7b6d2\",\"#8c564b\",\"#ffbb78\",\"#2ca02c\",\"#e377c2\",\"#8c564b\",\"#c5b0d5\",\"#d62728\",\"#c7c7c7\",\"#f7b6d2\",\"#ff9896\",\"#aec7e8\",\"#ff7f0e\",\"#98df8a\",\"#ffbb78\",\"#1f77b4\",\"#d62728\",\"#c7c7c7\",\"#1f77b4\",\"#8c564b\",\"#1f77b4\",\"#98df8a\",\"#ffbb78\",\"#2ca02c\",\"#c5b0d5\",\"#dbdb8d\",\"#d62728\",\"#7f7f7f\",\"#ff9896\",\"#c7c7c7\",\"#ffbb78\",\"#c49c94\",\"#dbdb8d\",\"#ffbb78\",\"#ffbb78\",\"#7f7f7f\",\"#ffbb78\",\"#ffbb78\",\"#8c564b\",\"#c49c94\",\"#c5b0d5\",\"#c5b0d5\",\"#8c564b\",\"#c7c7c7\",\"#c7c7c7\",\"#1f77b4\",\"#c7c7c7\",\"#ff7f0e\",\"#ff7f0e\",\"#c49c94\",\"#c49c94\",\"#1f77b4\",\"#c7c7c7\",\"#9467bd\",\"#c5b0d5\",\"#7f7f7f\",\"#aec7e8\",\"#bcbd22\",\"#2ca02c\",\"#aec7e8\",\"#ff7f0e\",\"#d62728\",\"#ffbb78\",\"#7f7f7f\",\"#2ca02c\",\"#9edae5\",\"#9edae5\",\"#9467bd\",\"#bcbd22\",\"#ffbb78\",\"#2ca02c\",\"#d62728\",\"#ff9896\",\"#ff7f0e\",\"#9edae5\",\"#aec7e8\",\"#ffbb78\",\"#c5b0d5\",\"#ffbb78\",\"#ff7f0e\",\"#8c564b\",\"#2ca02c\",\"#17becf\",\"#c5b0d5\",\"#c49c94\",\"#aec7e8\",\"#1f77b4\",\"#f7b6d2\",\"#9edae5\",\"#98df8a\",\"#98df8a\",\"#ffbb78\",\"#ff7f0e\",\"#c7c7c7\",\"#d62728\",\"#ff9896\",\"#1f77b4\",\"#2ca02c\",\"#ff9896\",\"#7f7f7f\",\"#8c564b\",\"#1f77b4\",\"#bcbd22\",\"#d62728\",\"#f7b6d2\",\"#2ca02c\",\"#2ca02c\",\"#c5b0d5\",\"#c5b0d5\",\"#98df8a\",\"#f7b6d2\",\"#bcbd22\",\"#dbdb8d\",\"#8c564b\",\"#1f77b4\",\"#dbdb8d\",\"#ff7f0e\",\"#ff9896\",\"#7f7f7f\",\"#2ca02c\",\"#8c564b\",\"#ffbb78\",\"#dbdb8d\",\"#ff9896\",\"#ff7f0e\",\"#c7c7c7\",\"#98df8a\",\"#ff9896\",\"#98df8a\",\"#ffbb78\",\"#1f77b4\",\"#2ca02c\",\"#bcbd22\",\"#1f77b4\",\"#ff7f0e\",\"#ff7f0e\",\"#f7b6d2\",\"#c5b0d5\",\"#9467bd\",\"#17becf\",\"#8c564b\",\"#ff9896\",\"#ff9896\",\"#2ca02c\",\"#9edae5\",\"#aec7e8\",\"#d62728\",\"#2ca02c\",\"#c49c94\",\"#ffbb78\",\"#e377c2\",\"#ffbb78\",\"#dbdb8d\",\"#98df8a\",\"#1f77b4\",\"#c5b0d5\",\"#f7b6d2\",\"#9467bd\",\"#e377c2\",\"#9edae5\",\"#2ca02c\",\"#1f77b4\",\"#ffbb78\",\"#9edae5\",\"#ff7f0e\",\"#f7b6d2\",\"#2ca02c\",\"#9467bd\",\"#98df8a\",\"#f7b6d2\",\"#ff7f0e\",\"#ff7f0e\",\"#9edae5\",\"#dbdb8d\",\"#d62728\",\"#2ca02c\",\"#c7c7c7\",\"#d62728\",\"#8c564b\",\"#98df8a\",\"#ff9896\",\"#ff7f0e\",\"#dbdb8d\",\"#dbdb8d\",\"#98df8a\",\"#8c564b\",\"#8c564b\",\"#ff7f0e\",\"#ff9896\",\"#98df8a\",\"#ffbb78\",\"#e377c2\",\"#8c564b\",\"#2ca02c\",\"#c5b0d5\",\"#9467bd\",\"#9edae5\",\"#ffbb78\",\"#98df8a\",\"#98df8a\",\"#ff9896\",\"#ffbb78\",\"#c7c7c7\",\"#dbdb8d\",\"#ff7f0e\",\"#1f77b4\",\"#e377c2\",\"#2ca02c\",\"#d62728\",\"#2ca02c\",\"#ff7f0e\",\"#aec7e8\",\"#f7b6d2\",\"#c5b0d5\",\"#f7b6d2\",\"#d62728\",\"#ffbb78\",\"#2ca02c\",\"#e377c2\",\"#f7b6d2\",\"#c5b0d5\",\"#c5b0d5\",\"#f7b6d2\",\"#ff7f0e\",\"#ff7f0e\",\"#aec7e8\",\"#aec7e8\",\"#7f7f7f\",\"#8c564b\",\"#d62728\",\"#aec7e8\",\"#bcbd22\",\"#9467bd\",\"#98df8a\",\"#ffbb78\",\"#9467bd\",\"#e377c2\",\"#2ca02c\",\"#f7b6d2\",\"#ff9896\",\"#d62728\",\"#dbdb8d\",\"#98df8a\",\"#c5b0d5\",\"#2ca02c\",\"#d62728\",\"#aec7e8\",\"#9467bd\",\"#c5b0d5\",\"#7f7f7f\",\"#ff7f0e\",\"#2ca02c\",\"#c7c7c7\",\"#9467bd\",\"#d62728\",\"#1f77b4\",\"#e377c2\",\"#ff9896\",\"#2ca02c\",\"#98df8a\",\"#c49c94\",\"#dbdb8d\",\"#1f77b4\",\"#c49c94\",\"#ff9896\",\"#8c564b\",\"#1f77b4\",\"#17becf\",\"#9edae5\",\"#2ca02c\",\"#c5b0d5\",\"#d62728\",\"#ffbb78\",\"#7f7f7f\",\"#1f77b4\",\"#aec7e8\",\"#c49c94\",\"#ff7f0e\",\"#c7c7c7\",\"#aec7e8\",\"#bcbd22\",\"#2ca02c\",\"#d62728\",\"#aec7e8\",\"#7f7f7f\",\"#d62728\",\"#d62728\",\"#2ca02c\",\"#ff9896\",\"#bcbd22\",\"#98df8a\",\"#c7c7c7\",\"#ff9896\",\"#8c564b\",\"#98df8a\",\"#c7c7c7\",\"#ffbb78\",\"#8c564b\",\"#7f7f7f\",\"#f7b6d2\",\"#ff7f0e\",\"#f7b6d2\",\"#aec7e8\",\"#c7c7c7\",\"#8c564b\",\"#c5b0d5\",\"#c49c94\",\"#c5b0d5\",\"#7f7f7f\",\"#f7b6d2\",\"#f7b6d2\",\"#1f77b4\",\"#ffbb78\",\"#e377c2\",\"#f7b6d2\",\"#1f77b4\",\"#2ca02c\",\"#9467bd\",\"#8c564b\",\"#f7b6d2\",\"#ffbb78\",\"#ff9896\",\"#dbdb8d\",\"#8c564b\",\"#e377c2\",\"#c5b0d5\",\"#9edae5\",\"#ffbb78\",\"#7f7f7f\",\"#ff9896\",\"#98df8a\",\"#e377c2\",\"#d62728\",\"#bcbd22\",\"#dbdb8d\",\"#aec7e8\",\"#1f77b4\",\"#bcbd22\",\"#f7b6d2\",\"#1f77b4\",\"#8c564b\",\"#1f77b4\",\"#8c564b\",\"#e377c2\",\"#9edae5\",\"#98df8a\",\"#c49c94\",\"#d62728\",\"#9467bd\",\"#2ca02c\",\"#c7c7c7\",\"#ff7f0e\",\"#7f7f7f\",\"#7f7f7f\",\"#d62728\",\"#8c564b\",\"#dbdb8d\",\"#c7c7c7\",\"#98df8a\",\"#bcbd22\",\"#ff9896\",\"#ffbb78\",\"#aec7e8\",\"#7f7f7f\",\"#ff9896\",\"#e377c2\",\"#bcbd22\",\"#d62728\",\"#98df8a\",\"#c49c94\",\"#9467bd\",\"#8c564b\",\"#2ca02c\",\"#e377c2\",\"#c7c7c7\",\"#ffbb78\",\"#2ca02c\",\"#2ca02c\",\"#d62728\",\"#e377c2\",\"#c5b0d5\",\"#dbdb8d\",\"#dbdb8d\",\"#8c564b\",\"#ffbb78\",\"#9edae5\",\"#aec7e8\",\"#d62728\",\"#9edae5\",\"#f7b6d2\",\"#ffbb78\",\"#f7b6d2\",\"#8c564b\",\"#ff7f0e\",\"#1f77b4\",\"#e377c2\",\"#98df8a\",\"#e377c2\",\"#17becf\",\"#aec7e8\",\"#2ca02c\",\"#17becf\",\"#1f77b4\",\"#1f77b4\",\"#ff7f0e\",\"#ffbb78\",\"#ff7f0e\",\"#c7c7c7\",\"#9467bd\",\"#dbdb8d\",\"#c49c94\",\"#f7b6d2\",\"#98df8a\",\"#f7b6d2\",\"#9467bd\",\"#dbdb8d\",\"#1f77b4\",\"#ff9896\",\"#c7c7c7\",\"#98df8a\",\"#ffbb78\",\"#98df8a\",\"#dbdb8d\",\"#98df8a\",\"#ff7f0e\",\"#8c564b\",\"#aec7e8\",\"#aec7e8\",\"#9467bd\",\"#1f77b4\",\"#7f7f7f\",\"#ffbb78\",\"#ff7f0e\",\"#e377c2\",\"#d62728\",\"#9467bd\",\"#2ca02c\",\"#ffbb78\",\"#c5b0d5\",\"#17becf\",\"#8c564b\",\"#1f77b4\",\"#ffbb78\",\"#ffbb78\",\"#7f7f7f\",\"#1f77b4\",\"#9467bd\",\"#1f77b4\",\"#7f7f7f\",\"#17becf\",\"#bcbd22\",\"#98df8a\",\"#9467bd\",\"#c49c94\",\"#9467bd\",\"#c5b0d5\",\"#2ca02c\",\"#1f77b4\",\"#8c564b\",\"#7f7f7f\",\"#c7c7c7\",\"#98df8a\",\"#98df8a\",\"#aec7e8\",\"#f7b6d2\",\"#e377c2\",\"#ff7f0e\",\"#bcbd22\",\"#c5b0d5\",\"#ff7f0e\",\"#aec7e8\",\"#1f77b4\",\"#8c564b\",\"#2ca02c\",\"#d62728\",\"#1f77b4\",\"#98df8a\",\"#17becf\",\"#ff7f0e\",\"#aec7e8\",\"#1f77b4\",\"#2ca02c\",\"#2ca02c\",\"#d62728\",\"#dbdb8d\",\"#f7b6d2\",\"#ff7f0e\",\"#c7c7c7\",\"#ff7f0e\",\"#ff7f0e\",\"#8c564b\",\"#d62728\",\"#ff7f0e\",\"#d62728\",\"#c7c7c7\",\"#8c564b\",\"#98df8a\",\"#dbdb8d\",\"#c5b0d5\",\"#aec7e8\",\"#dbdb8d\",\"#ffbb78\",\"#c7c7c7\",\"#7f7f7f\",\"#9edae5\",\"#2ca02c\",\"#d62728\",\"#ffbb78\",\"#8c564b\",\"#ffbb78\",\"#ffbb78\",\"#98df8a\",\"#dbdb8d\",\"#ff7f0e\",\"#c7c7c7\",\"#2ca02c\",\"#d62728\",\"#98df8a\",\"#8c564b\",\"#98df8a\",\"#8c564b\",\"#e377c2\",\"#c7c7c7\",\"#1f77b4\",\"#7f7f7f\",\"#98df8a\",\"#ff9896\",\"#bcbd22\",\"#d62728\",\"#c49c94\",\"#ffbb78\",\"#aec7e8\",\"#e377c2\",\"#aec7e8\",\"#ff9896\",\"#dbdb8d\",\"#9467bd\",\"#9edae5\",\"#ff7f0e\",\"#c49c94\",\"#ff7f0e\",\"#c7c7c7\",\"#98df8a\",\"#f7b6d2\",\"#ffbb78\",\"#e377c2\",\"#dbdb8d\",\"#d62728\",\"#8c564b\",\"#ff7f0e\",\"#dbdb8d\",\"#2ca02c\",\"#ff9896\",\"#17becf\",\"#8c564b\",\"#8c564b\",\"#2ca02c\",\"#c7c7c7\",\"#1f77b4\",\"#98df8a\",\"#aec7e8\",\"#17becf\",\"#2ca02c\",\"#98df8a\",\"#98df8a\",\"#ff9896\",\"#d62728\",\"#aec7e8\",\"#ffbb78\",\"#c5b0d5\",\"#9467bd\",\"#ff7f0e\",\"#8c564b\",\"#c5b0d5\",\"#e377c2\",\"#c49c94\",\"#d62728\",\"#8c564b\",\"#d62728\",\"#9467bd\",\"#ff9896\",\"#9edae5\",\"#8c564b\",\"#1f77b4\",\"#c7c7c7\",\"#ffbb78\",\"#17becf\",\"#1f77b4\",\"#8c564b\",\"#1f77b4\",\"#ff9896\",\"#aec7e8\",\"#bcbd22\",\"#1f77b4\",\"#ffbb78\",\"#c5b0d5\",\"#c49c94\",\"#2ca02c\",\"#c5b0d5\",\"#98df8a\",\"#17becf\",\"#8c564b\",\"#dbdb8d\",\"#8c564b\",\"#dbdb8d\",\"#8c564b\",\"#d62728\",\"#c5b0d5\",\"#98df8a\",\"#bcbd22\",\"#c49c94\",\"#ff7f0e\",\"#dbdb8d\",\"#7f7f7f\",\"#c49c94\",\"#ff7f0e\",\"#ff9896\",\"#f7b6d2\",\"#8c564b\",\"#7f7f7f\",\"#ffbb78\",\"#f7b6d2\",\"#ff9896\",\"#ff7f0e\",\"#c7c7c7\",\"#ffbb78\",\"#2ca02c\",\"#c5b0d5\",\"#c49c94\",\"#98df8a\",\"#17becf\",\"#c7c7c7\",\"#ff9896\",\"#ff7f0e\",\"#ff9896\",\"#f7b6d2\",\"#1f77b4\",\"#ff7f0e\",\"#2ca02c\",\"#bcbd22\",\"#ff9896\",\"#ff7f0e\",\"#2ca02c\",\"#dbdb8d\",\"#98df8a\",\"#c7c7c7\",\"#2ca02c\",\"#2ca02c\",\"#f7b6d2\",\"#9edae5\",\"#bcbd22\",\"#e377c2\",\"#2ca02c\",\"#ffbb78\",\"#ffbb78\",\"#ffbb78\",\"#ff9896\",\"#2ca02c\",\"#d62728\",\"#ffbb78\",\"#98df8a\",\"#2ca02c\",\"#c49c94\",\"#c49c94\",\"#ff9896\",\"#9edae5\",\"#aec7e8\",\"#d62728\",\"#c7c7c7\",\"#9edae5\",\"#9edae5\",\"#aec7e8\",\"#aec7e8\",\"#d62728\",\"#c7c7c7\",\"#c7c7c7\",\"#dbdb8d\",\"#98df8a\",\"#d62728\",\"#ffbb78\",\"#bcbd22\",\"#ffbb78\",\"#e377c2\",\"#c7c7c7\",\"#d62728\",\"#ffbb78\",\"#2ca02c\",\"#8c564b\",\"#1f77b4\",\"#c5b0d5\",\"#e377c2\",\"#ffbb78\",\"#8c564b\",\"#98df8a\",\"#9467bd\",\"#9edae5\",\"#1f77b4\",\"#98df8a\",\"#9467bd\",\"#d62728\",\"#8c564b\",\"#9467bd\",\"#c49c94\",\"#8c564b\",\"#ffbb78\",\"#c5b0d5\",\"#1f77b4\",\"#98df8a\",\"#d62728\",\"#ffbb78\",\"#ff7f0e\",\"#d62728\",\"#ff9896\",\"#1f77b4\",\"#9edae5\",\"#8c564b\",\"#9467bd\",\"#c7c7c7\",\"#2ca02c\",\"#f7b6d2\",\"#d62728\",\"#c5b0d5\",\"#2ca02c\",\"#f7b6d2\",\"#d62728\",\"#e377c2\",\"#aec7e8\",\"#e377c2\",\"#98df8a\",\"#9edae5\",\"#2ca02c\",\"#98df8a\",\"#98df8a\",\"#9edae5\",\"#2ca02c\",\"#d62728\",\"#d62728\",\"#98df8a\",\"#d62728\",\"#8c564b\",\"#f7b6d2\",\"#aec7e8\",\"#ff7f0e\",\"#17becf\",\"#aec7e8\",\"#dbdb8d\",\"#9edae5\",\"#17becf\",\"#c5b0d5\",\"#ffbb78\",\"#17becf\",\"#8c564b\",\"#c7c7c7\",\"#c5b0d5\",\"#9467bd\",\"#c5b0d5\",\"#c49c94\",\"#dbdb8d\",\"#7f7f7f\",\"#ff7f0e\",\"#ff7f0e\",\"#d62728\",\"#9edae5\",\"#9467bd\",\"#c49c94\",\"#ff9896\",\"#c7c7c7\",\"#aec7e8\",\"#aec7e8\",\"#f7b6d2\",\"#9467bd\",\"#aec7e8\",\"#2ca02c\",\"#1f77b4\",\"#ff7f0e\",\"#7f7f7f\",\"#98df8a\",\"#ff9896\",\"#e377c2\",\"#98df8a\",\"#c7c7c7\",\"#ffbb78\",\"#8c564b\",\"#dbdb8d\",\"#ff7f0e\",\"#aec7e8\",\"#2ca02c\",\"#98df8a\",\"#ff7f0e\",\"#9edae5\",\"#bcbd22\",\"#e377c2\",\"#e377c2\",\"#ff7f0e\",\"#ff7f0e\",\"#ffbb78\",\"#ff7f0e\",\"#2ca02c\",\"#ffbb78\",\"#98df8a\",\"#ffbb78\",\"#aec7e8\",\"#d62728\",\"#f7b6d2\",\"#2ca02c\",\"#c5b0d5\",\"#7f7f7f\",\"#ffbb78\",\"#98df8a\",\"#98df8a\",\"#e377c2\",\"#8c564b\",\"#2ca02c\",\"#ffbb78\",\"#1f77b4\",\"#d62728\",\"#ffbb78\",\"#2ca02c\",\"#ffbb78\",\"#d62728\",\"#98df8a\",\"#ffbb78\",\"#1f77b4\",\"#8c564b\",\"#9467bd\",\"#aec7e8\",\"#7f7f7f\",\"#ffbb78\",\"#d62728\",\"#aec7e8\",\"#c5b0d5\",\"#8c564b\",\"#ffbb78\",\"#aec7e8\",\"#d62728\",\"#f7b6d2\",\"#9467bd\",\"#1f77b4\",\"#d62728\",\"#d62728\",\"#8c564b\",\"#8c564b\",\"#1f77b4\",\"#bcbd22\",\"#d62728\",\"#bcbd22\",\"#8c564b\",\"#aec7e8\",\"#8c564b\",\"#9467bd\",\"#17becf\",\"#ff9896\",\"#c5b0d5\",\"#dbdb8d\",\"#2ca02c\",\"#98df8a\",\"#d62728\",\"#ffbb78\",\"#ff7f0e\",\"#8c564b\",\"#f7b6d2\",\"#c49c94\",\"#ffbb78\",\"#ffbb78\",\"#8c564b\",\"#f7b6d2\",\"#ff7f0e\",\"#17becf\",\"#c7c7c7\",\"#9467bd\",\"#1f77b4\",\"#8c564b\",\"#1f77b4\",\"#9edae5\",\"#17becf\",\"#9467bd\",\"#98df8a\",\"#ffbb78\",\"#98df8a\",\"#98df8a\",\"#aec7e8\",\"#7f7f7f\",\"#c7c7c7\",\"#ffbb78\",\"#ff7f0e\",\"#ffbb78\",\"#98df8a\",\"#c7c7c7\",\"#9467bd\",\"#d62728\",\"#ff9896\",\"#ff9896\",\"#e377c2\",\"#17becf\",\"#1f77b4\",\"#ffbb78\",\"#ffbb78\",\"#aec7e8\",\"#aec7e8\",\"#dbdb8d\",\"#17becf\",\"#1f77b4\",\"#c5b0d5\",\"#dbdb8d\",\"#aec7e8\",\"#f7b6d2\",\"#c7c7c7\",\"#c49c94\",\"#f7b6d2\",\"#98df8a\",\"#e377c2\",\"#9467bd\",\"#1f77b4\",\"#2ca02c\",\"#1f77b4\",\"#d62728\",\"#c5b0d5\",\"#98df8a\",\"#f7b6d2\",\"#17becf\",\"#e377c2\",\"#c5b0d5\",\"#8c564b\",\"#98df8a\",\"#f7b6d2\",\"#17becf\",\"#2ca02c\",\"#c5b0d5\",\"#bcbd22\",\"#c49c94\",\"#d62728\",\"#c7c7c7\",\"#ffbb78\",\"#9467bd\",\"#1f77b4\",\"#dbdb8d\",\"#dbdb8d\",\"#dbdb8d\",\"#1f77b4\",\"#dbdb8d\",\"#ff7f0e\",\"#9edae5\",\"#9467bd\",\"#e377c2\",\"#aec7e8\",\"#8c564b\",\"#8c564b\",\"#98df8a\",\"#1f77b4\",\"#ff9896\",\"#ffbb78\",\"#8c564b\",\"#aec7e8\",\"#c49c94\",\"#d62728\",\"#bcbd22\",\"#aec7e8\",\"#9467bd\",\"#ffbb78\",\"#c49c94\",\"#c5b0d5\",\"#ff7f0e\",\"#2ca02c\",\"#ff9896\",\"#9467bd\",\"#f7b6d2\",\"#98df8a\",\"#aec7e8\",\"#98df8a\",\"#c7c7c7\",\"#2ca02c\",\"#bcbd22\",\"#8c564b\",\"#1f77b4\",\"#e377c2\",\"#98df8a\",\"#f7b6d2\",\"#f7b6d2\",\"#ff7f0e\",\"#ff9896\",\"#c7c7c7\",\"#98df8a\",\"#ffbb78\",\"#ff7f0e\",\"#aec7e8\",\"#8c564b\",\"#c49c94\",\"#ffbb78\",\"#c49c94\",\"#f7b6d2\",\"#aec7e8\",\"#7f7f7f\",\"#d62728\",\"#8c564b\",\"#ffbb78\",\"#1f77b4\",\"#e377c2\",\"#98df8a\",\"#2ca02c\",\"#ffbb78\",\"#9467bd\",\"#ffbb78\",\"#9edae5\",\"#e377c2\",\"#7f7f7f\",\"#9467bd\",\"#2ca02c\",\"#1f77b4\",\"#98df8a\",\"#8c564b\",\"#2ca02c\",\"#aec7e8\",\"#ff9896\",\"#c5b0d5\",\"#f7b6d2\",\"#98df8a\",\"#bcbd22\",\"#d62728\",\"#98df8a\",\"#aec7e8\",\"#ffbb78\",\"#9467bd\",\"#ff7f0e\",\"#9467bd\",\"#9467bd\",\"#8c564b\",\"#7f7f7f\",\"#98df8a\",\"#8c564b\",\"#8c564b\",\"#98df8a\",\"#aec7e8\",\"#e377c2\",\"#8c564b\",\"#9467bd\",\"#f7b6d2\",\"#e377c2\",\"#9edae5\",\"#8c564b\",\"#c49c94\",\"#1f77b4\",\"#d62728\",\"#d62728\",\"#9467bd\",\"#1f77b4\",\"#dbdb8d\",\"#e377c2\",\"#98df8a\",\"#aec7e8\",\"#2ca02c\",\"#bcbd22\",\"#98df8a\",\"#98df8a\",\"#c49c94\",\"#9edae5\",\"#1f77b4\",\"#ff7f0e\",\"#2ca02c\",\"#17becf\",\"#bcbd22\",\"#8c564b\",\"#9edae5\",\"#2ca02c\",\"#d62728\",\"#98df8a\",\"#8c564b\",\"#ffbb78\",\"#c49c94\",\"#d62728\",\"#ffbb78\",\"#bcbd22\",\"#d62728\",\"#98df8a\",\"#2ca02c\",\"#8c564b\",\"#c7c7c7\",\"#e377c2\",\"#e377c2\",\"#dbdb8d\",\"#c7c7c7\",\"#e377c2\",\"#d62728\",\"#2ca02c\",\"#d62728\",\"#ffbb78\",\"#1f77b4\",\"#ffbb78\",\"#ff7f0e\",\"#c49c94\",\"#ff7f0e\",\"#1f77b4\",\"#ff7f0e\",\"#ffbb78\",\"#c49c94\",\"#d62728\",\"#ff7f0e\",\"#17becf\",\"#c7c7c7\",\"#1f77b4\",\"#1f77b4\",\"#ffbb78\",\"#2ca02c\",\"#98df8a\",\"#bcbd22\",\"#e377c2\",\"#aec7e8\",\"#2ca02c\",\"#8c564b\",\"#d62728\",\"#ffbb78\",\"#2ca02c\",\"#8c564b\",\"#c7c7c7\",\"#c5b0d5\",\"#9467bd\",\"#1f77b4\",\"#9edae5\",\"#9edae5\",\"#e377c2\",\"#98df8a\",\"#1f77b4\",\"#ffbb78\",\"#9edae5\",\"#f7b6d2\",\"#ff7f0e\",\"#ff7f0e\",\"#9467bd\",\"#d62728\",\"#c49c94\",\"#ff7f0e\",\"#dbdb8d\",\"#f7b6d2\",\"#9edae5\",\"#dbdb8d\",\"#c7c7c7\",\"#aec7e8\",\"#98df8a\",\"#c7c7c7\",\"#ff9896\",\"#c5b0d5\",\"#aec7e8\",\"#dbdb8d\",\"#9edae5\",\"#8c564b\",\"#e377c2\",\"#ff7f0e\",\"#c7c7c7\",\"#c5b0d5\",\"#aec7e8\",\"#8c564b\",\"#8c564b\",\"#c5b0d5\",\"#9467bd\",\"#98df8a\",\"#ffbb78\",\"#aec7e8\",\"#c5b0d5\",\"#c5b0d5\",\"#f7b6d2\",\"#ff7f0e\",\"#9edae5\",\"#d62728\",\"#ffbb78\",\"#98df8a\",\"#aec7e8\",\"#c7c7c7\",\"#8c564b\",\"#98df8a\",\"#8c564b\",\"#dbdb8d\",\"#c5b0d5\",\"#98df8a\",\"#c49c94\",\"#c5b0d5\",\"#aec7e8\",\"#1f77b4\",\"#8c564b\",\"#2ca02c\",\"#c7c7c7\",\"#c5b0d5\",\"#2ca02c\",\"#ffbb78\",\"#d62728\",\"#d62728\",\"#e377c2\",\"#98df8a\",\"#ffbb78\",\"#17becf\",\"#8c564b\",\"#2ca02c\",\"#d62728\",\"#f7b6d2\",\"#9edae5\",\"#c5b0d5\",\"#ffbb78\",\"#ffbb78\",\"#c5b0d5\",\"#8c564b\",\"#ffbb78\",\"#f7b6d2\",\"#d62728\",\"#ff7f0e\",\"#c49c94\",\"#9467bd\",\"#c49c94\",\"#c5b0d5\",\"#d62728\",\"#1f77b4\",\"#9edae5\",\"#ff9896\",\"#9edae5\",\"#8c564b\",\"#ffbb78\",\"#c49c94\",\"#ff9896\",\"#ffbb78\",\"#2ca02c\",\"#9edae5\",\"#c5b0d5\",\"#c7c7c7\",\"#8c564b\",\"#7f7f7f\",\"#9edae5\",\"#c49c94\",\"#ff9896\",\"#e377c2\",\"#bcbd22\",\"#9edae5\",\"#7f7f7f\",\"#c7c7c7\",\"#1f77b4\",\"#9467bd\",\"#d62728\",\"#1f77b4\",\"#bcbd22\",\"#9edae5\",\"#aec7e8\",\"#e377c2\",\"#d62728\",\"#ffbb78\",\"#9467bd\",\"#2ca02c\",\"#ff7f0e\",\"#17becf\",\"#aec7e8\",\"#dbdb8d\",\"#9467bd\",\"#9edae5\",\"#2ca02c\",\"#98df8a\",\"#98df8a\",\"#9edae5\",\"#1f77b4\",\"#ffbb78\",\"#ff7f0e\",\"#98df8a\",\"#ff9896\",\"#9467bd\",\"#17becf\",\"#ff9896\",\"#c7c7c7\",\"#98df8a\",\"#2ca02c\",\"#98df8a\",\"#98df8a\",\"#2ca02c\",\"#c5b0d5\",\"#2ca02c\",\"#aec7e8\",\"#8c564b\",\"#e377c2\",\"#2ca02c\",\"#c5b0d5\",\"#ff7f0e\",\"#1f77b4\",\"#ffbb78\",\"#dbdb8d\",\"#9467bd\",\"#ffbb78\",\"#aec7e8\",\"#9467bd\",\"#98df8a\",\"#aec7e8\",\"#c5b0d5\",\"#9edae5\",\"#ff9896\",\"#aec7e8\",\"#e377c2\",\"#2ca02c\",\"#9edae5\",\"#98df8a\",\"#c7c7c7\",\"#c49c94\",\"#98df8a\",\"#2ca02c\",\"#1f77b4\",\"#c7c7c7\",\"#ffbb78\",\"#1f77b4\",\"#e377c2\",\"#2ca02c\",\"#c5b0d5\",\"#2ca02c\",\"#f7b6d2\",\"#9467bd\",\"#ff7f0e\",\"#ffbb78\",\"#9467bd\",\"#9edae5\",\"#ff9896\",\"#2ca02c\",\"#98df8a\",\"#2ca02c\",\"#d62728\",\"#ff9896\",\"#c49c94\",\"#9467bd\",\"#c5b0d5\",\"#ffbb78\",\"#d62728\",\"#c5b0d5\",\"#ff9896\",\"#ff9896\",\"#8c564b\",\"#98df8a\",\"#c49c94\",\"#98df8a\",\"#dbdb8d\",\"#d62728\",\"#ff9896\",\"#98df8a\",\"#17becf\",\"#aec7e8\",\"#ff9896\",\"#8c564b\",\"#ff9896\",\"#9467bd\",\"#dbdb8d\",\"#ffbb78\",\"#9edae5\",\"#d62728\",\"#9467bd\",\"#aec7e8\",\"#c49c94\",\"#c7c7c7\",\"#c5b0d5\",\"#d62728\",\"#2ca02c\",\"#c49c94\",\"#ff9896\",\"#98df8a\",\"#9467bd\",\"#ffbb78\",\"#1f77b4\",\"#ffbb78\",\"#9edae5\",\"#c7c7c7\",\"#c5b0d5\",\"#aec7e8\",\"#9467bd\",\"#98df8a\",\"#2ca02c\",\"#1f77b4\",\"#e377c2\",\"#98df8a\",\"#ffbb78\",\"#dbdb8d\",\"#1f77b4\",\"#ffbb78\",\"#ffbb78\",\"#d62728\",\"#d62728\",\"#d62728\",\"#8c564b\",\"#8c564b\",\"#aec7e8\",\"#f7b6d2\",\"#d62728\",\"#d62728\",\"#ff9896\",\"#ff9896\",\"#9467bd\",\"#2ca02c\",\"#8c564b\",\"#2ca02c\",\"#7f7f7f\",\"#1f77b4\",\"#c49c94\",\"#dbdb8d\",\"#bcbd22\",\"#7f7f7f\",\"#98df8a\",\"#dbdb8d\",\"#e377c2\",\"#2ca02c\",\"#1f77b4\",\"#9467bd\",\"#c49c94\",\"#ffbb78\",\"#9edae5\",\"#9edae5\",\"#d62728\",\"#ff9896\",\"#e377c2\",\"#8c564b\",\"#c7c7c7\",\"#c7c7c7\",\"#d62728\",\"#dbdb8d\",\"#9467bd\",\"#98df8a\",\"#8c564b\",\"#c5b0d5\",\"#98df8a\",\"#8c564b\",\"#dbdb8d\",\"#ffbb78\",\"#8c564b\",\"#9edae5\",\"#ff7f0e\",\"#8c564b\",\"#ff7f0e\",\"#c49c94\",\"#2ca02c\",\"#bcbd22\",\"#c7c7c7\",\"#9467bd\",\"#ffbb78\",\"#7f7f7f\",\"#f7b6d2\",\"#e377c2\",\"#ffbb78\",\"#c5b0d5\",\"#ff9896\",\"#9edae5\",\"#ff9896\",\"#c7c7c7\",\"#ffbb78\",\"#dbdb8d\",\"#9467bd\",\"#ff9896\",\"#9edae5\",\"#98df8a\",\"#98df8a\",\"#17becf\",\"#c7c7c7\",\"#ff7f0e\",\"#f7b6d2\",\"#aec7e8\",\"#1f77b4\",\"#1f77b4\",\"#d62728\",\"#ff9896\",\"#8c564b\",\"#ff7f0e\",\"#d62728\",\"#9edae5\",\"#c5b0d5\",\"#dbdb8d\",\"#c5b0d5\",\"#c5b0d5\",\"#9edae5\",\"#ff9896\",\"#7f7f7f\",\"#bcbd22\",\"#ff9896\",\"#8c564b\",\"#d62728\",\"#98df8a\",\"#ffbb78\",\"#dbdb8d\",\"#bcbd22\",\"#1f77b4\",\"#aec7e8\",\"#e377c2\",\"#2ca02c\",\"#9edae5\",\"#aec7e8\",\"#2ca02c\",\"#c5b0d5\",\"#aec7e8\",\"#2ca02c\",\"#c5b0d5\",\"#8c564b\",\"#7f7f7f\",\"#c7c7c7\",\"#98df8a\",\"#98df8a\",\"#ffbb78\",\"#9467bd\",\"#e377c2\",\"#d62728\",\"#9467bd\",\"#2ca02c\",\"#ff9896\",\"#8c564b\",\"#8c564b\",\"#c5b0d5\",\"#2ca02c\",\"#c49c94\",\"#17becf\",\"#8c564b\",\"#98df8a\",\"#1f77b4\",\"#2ca02c\",\"#98df8a\",\"#aec7e8\",\"#9edae5\",\"#9edae5\",\"#2ca02c\",\"#8c564b\",\"#c5b0d5\",\"#ff9896\",\"#d62728\",\"#8c564b\",\"#98df8a\",\"#c5b0d5\",\"#f7b6d2\",\"#dbdb8d\",\"#98df8a\",\"#aec7e8\",\"#8c564b\",\"#c7c7c7\",\"#9467bd\",\"#98df8a\",\"#e377c2\",\"#c5b0d5\",\"#ffbb78\",\"#ff7f0e\",\"#ffbb78\",\"#9edae5\",\"#aec7e8\",\"#98df8a\",\"#8c564b\",\"#8c564b\",\"#7f7f7f\",\"#1f77b4\",\"#2ca02c\",\"#8c564b\",\"#c49c94\",\"#c7c7c7\",\"#98df8a\",\"#c5b0d5\",\"#17becf\",\"#bcbd22\",\"#ff9896\",\"#c5b0d5\",\"#8c564b\",\"#e377c2\",\"#9edae5\",\"#ffbb78\",\"#1f77b4\",\"#7f7f7f\",\"#2ca02c\",\"#c5b0d5\",\"#c5b0d5\",\"#e377c2\",\"#8c564b\",\"#1f77b4\",\"#aec7e8\",\"#bcbd22\",\"#9467bd\",\"#ffbb78\",\"#17becf\",\"#d62728\",\"#dbdb8d\",\"#98df8a\",\"#c5b0d5\",\"#d62728\",\"#c7c7c7\",\"#ff7f0e\",\"#98df8a\",\"#c49c94\",\"#e377c2\",\"#f7b6d2\",\"#aec7e8\",\"#c7c7c7\",\"#c49c94\",\"#ff9896\",\"#d62728\",\"#ff7f0e\",\"#c49c94\",\"#dbdb8d\",\"#1f77b4\",\"#ff9896\",\"#7f7f7f\",\"#ffbb78\",\"#c7c7c7\",\"#c5b0d5\",\"#bcbd22\",\"#2ca02c\",\"#98df8a\",\"#2ca02c\",\"#c7c7c7\",\"#2ca02c\",\"#bcbd22\",\"#c5b0d5\",\"#e377c2\",\"#7f7f7f\",\"#ff9896\",\"#8c564b\",\"#1f77b4\",\"#aec7e8\",\"#9467bd\",\"#c5b0d5\",\"#c5b0d5\",\"#ff7f0e\",\"#ffbb78\",\"#9edae5\",\"#bcbd22\",\"#ffbb78\",\"#aec7e8\",\"#c7c7c7\",\"#d62728\",\"#dbdb8d\",\"#9467bd\",\"#d62728\",\"#d62728\",\"#8c564b\",\"#d62728\",\"#1f77b4\",\"#8c564b\",\"#c5b0d5\",\"#f7b6d2\",\"#c49c94\",\"#98df8a\",\"#d62728\",\"#c7c7c7\",\"#ff7f0e\",\"#ffbb78\",\"#ff7f0e\",\"#2ca02c\",\"#ff9896\",\"#2ca02c\",\"#d62728\"],\"x\":{\"__ndarray__\":\"p3umv4tGJ8B7sM9BHvuxQV1KpEGWyPZBB8qHQVEQb0GsCZFBsdMEwKUe/cEiJppBYYE9wIw6IkItzTBCf/hDwBys1cCgxdTBBX+jvp2XoUFYKX3BVbOIQPuABcKVR+HB1+0QQmNxnkGv2vBAQ2wMQtcqeEFM2VbCasEWQrD7LsHFB6JAdSKbwC4OPUGyqTZCQuI/QpdDoUFC7YrAHArhQPuyPsEbY6BBQGXcQTMEM8AX5xzBpajqQYaZrkF9NKxBZjXNQfk0t79vUDdCnDWuwbE6ysF8chRCz/20QBClXsLkbRVCvS1qwUxEFcHkACBCimxWwgaKGMCrUBRC2DRWwh7u1UGRd0pASGQOQtBJvsCAi9y/RGidwfnhJ8CWTWDC8hUcwRzGEUJuayLCOHwEwljTskGJGmjBzrn8QQmlq0G/y7/A53fRQTsds8ABIxvCT6bQwfJy6MHAYxHCZ4/EwBBJJkKpY7pAqmTkQa+uZcF1HgbCPBuXwNaWGcFSmeHADOHZwUnhokGxLV7CggmMQWB5zsH3c1NBh1LbwOr8rDywa+5BxIGWwa0T776man/Ao0H6QCf7gEG6rdfBZQ5pwU7wK0IS6xFB6/LSwGby48F5gp5BPPAzwOhKNcC+dBo/+xrEwF+j58DtZQhBNZ3hwSqy7z9ew2VBRRjcvt+3m8DlBH5BWwltwkKeCEKPo5y/hi/6QWhS0D+/5XtB8NpcwofCmsErovhAgWGzwIQwMUJnAIlB/OPawTjpPkKXAiRBx7OBwYd4jMEZ559BbSVgQcUgxMCJVQHCOwQUQD4MnsCm3ojAb5kaQueuA0L1PGfBDRP4wWjaL0L7fRRBIiAiQnrXDMI0GtdB4whpwTfz8L98CkjBK5KjwG5Ej8H8swJC0PsRwvKkh8C8XRxC2umxwOjRAsGtIx7B5QOzvsWCmcB6XAPCUaz0PzpbZcArovhA2ckcwFjoo8AfTkLBuC4UQh+iCMGgna7AeQPnwNh36cF6IL1B+u4PQRXy5MA98GbAb1/IQdkILMIJCTjBXCGjQDhCtcBDrybBi9IMQgOb/b/yx4vAi9SFQHVPqMHujGvCISySwVq458AdtTnBkyTvv3DDZsLOeAvCO/Kav0pnWMKP8RBAcxxhwLF5Vz9E1iNCswIrwH7q4sHxBMPA0zprwiDkAsE5E9VAMI9Vwqgtv0F0sETAutZrwJGlmMC0v+TBTWWKvgzPOEK8TTJC0/kDQlUkkkGZeSzCfeCcwCvQOsHB+ynBZYEIwr6NHULmiwnCOHljwCLdL0IaTbZBVBIsQs7OYMLXzaTA06lcwVMdyb+PZvrAy/RgQX8OQ8CLWB7BdSN1wdF6DEJnhBXB1uxiwlB+DcJmpAhCTW4iQSlQZMF43M7AAaBvQec3AMJAe7pBuICrQU2V3MHxwqrAPG0oQgj9XMIgR+FBDVGSvgWegUErMrG//1mIQRBZokHt0AE+p+TvwC3GBEJgHBjCkACawST4HsHj7Em++u4PQVup30GT3YHBlVhOQIkbU0GIxTpC3TaHwDgHlUHwAPnB/r22QVWxIcIcnx3Aoqv5wcntj0GLt4HBnrMIwgrDDEIVfDxB2QMCwpZDHcFYvYnBm7/Pv4FjoL+AkWDCOkakQZiRFMG48hpCXHZXwqVAJcFYYce/tKeQwfkVekHPOa1B29WawHY/EUJP5XLCYEXXQdDbyUFEdoRBGMODv4BaEcLmRmTBSdnuwKRzFsLmhwhCzDHswUEGW0HjQSbBiqMNQtzhBcFhCA3CrcNDwV9B976pYfnBbKAQQjp+SsGj9WXCQpuFP6KtDkIISBXAmQ4SQTUbKsCEUvZBSIcPQsToDELIxn3Af/WbQeU6EcE8RgtC802TQRPHhcAJAR5C4JKmQVPpB8F+jQ7CUPadQVY+XsKk5GRArbefvujSWcFTbwDCWFkAwvgHxkGoX4jBqiUSwvBUPUEgAv3BEIb4QXgX2T/MfSBCzhgMwcXC1EEDLnbAwAyQQbi8EsJYDv1Bw7f5QR6fn0BW8/XBJdXWQIQgMEKTBBfB8YO+wB0I8MHWrue/14aBQWno6kBO2Q5C/s6xwaHDMMDBTYU/dhDawBOfTUHQskzC2CqYwH0CrD9CwZNBPEkwQlbJF0Lv9IfAIMEEQuJTfUEOU5tBK0EgQpcg3cHuoXrBbCcvQuyAD8JO2zRCYmvHQSWzD0IFOK1A+TFtwk4rnUGpG8jAnJwFwbdbV8EOtQnCiAYmQim9gUHs0fbAFesYwTBRjUE2ZhNCvRVBwPVNUsGsTqBBcM2AQa6f0kFI70nBvAdpQUutEUFvX8hBiw3xvxeAEMIyts1BDscOwlVZtL/XzAlBAbtIwfUYtUGYMojAUUL4wVY6ncGpmBJCPiWWwYzePMFOTShCQBsGQsMRfEFdpJ/AK12sv/zuD0GNsGLCksaHwf73pEFIFITA7MwXQt91GMExlD1COCIIwl+RD0Jcql/C6hRkwbmNVsGPRK1BSQyFwJbK7L/U6wJC2GSMQAYUEcJR7JxBMG+twODuvEEyjCbCo5oZQqsKtMGzHAfCL6g4Qk/cxUHnSBXCF1IUQmzSMULoPxzAktuhwRNdq8DEPinAUo9WweTjYcK8slbCx2oYwgD1a8LtSgvBYJIUQou1WMEOB3jBL+sSwszLW8Jsb1ZBboa/QZ68xMH0slxBxISeQfPPB0Iv65zAa48BwUpnFUJsVRlCpq0awmqJ3kFlVV/AFKQHwtwtysDsrDzAg0YmQkHKPUHYqTFC462yPkXqkcGmBAvChHCFQZQ5C0A/SMTA9mVBQreXP0HyPznBCiSsQVQmKMIZk4TBia+EwdIaSMEoOQrCYiObwTQQJ8FcPBdC5TfTv7o8IkLPjhPBiBRXwtTZ6z9ebZxBaD8aQZqaBUIZN49BctFLwPVLM8FVAQ3Cs/jEwSojo0EsT5bBOckSQiIytEFbG8zAmfBMPwgDAj8VQZnBpFrewTObCML63RLARbIJwp5MD8IFnJ1BrDKtQUT+1sF8YBJCIYgLwQXp80H9ihHC9npfQe4WEUIpBo5BmbeqPwIBAEGjXgDABicJQrgz1cHVONJBfraJwbYJCcIZYQzAsvwawRuqecFUvU7BbOabQfJkJcJJ33vBpLiXQZhuB8Jywu9BfEYIwmMz/L8GBjJCQEoLQkBT5MFsULVBRFa1QWUEHUKO6ffByIIVwLDVXcJXWYHBvmbrweMSc0HAeLFBO+uMQVl22ECm5GLCiIwKQqWtPcKzPdtBnGGcwebxTEF9HV9Bv4T8QD77jsEe4P9B63+ywO7zZMKUiiDCDwJBQt8waEFxjhDC5LYsQrEHNMGbKIDAr5tmQW8IpcAdIA3C9XUZwk/VS8E4JMK/M57xwKZU5MFa1LpBqOkZwXw+QkIL6BlBrM62wCz00EHmoGLA3LyRQZZF28FgVBRC92FfwetxhsEToQZBA1UcQir/XMKgxr/BD5WBwBMKq8DUSwtCnmoaQtYxEUJR+hFCYKQRQmja7MFKoc7BKMM9wVC+gEEurqBBM60gQhDNGELpu7BAR67Gwc0MD8HfbJy/Q0GCwHg6GUIgVgZCmgMfwJ+YWMEPb5hB+mAiwGwSmkHb3e4/5fWxwIxmlUHjhTnBZjzjQdT2mkFxfxlCma7mQeUVmsFTrUbB42QKQtywIMJAKWVAq5SBwASuD0I+7BtCuMQDQgHTAUF+NUbAfjITQGfg3cD8veVBvSRYwghUq0FiZ51Bm+b4wQqhNEGdcHRBNtrrQVvaZ0GDBXZB0nHWwdJONMG0F3HBWQwgQXIokMAxTjs/T8eLQY83aMJR7wJCsSs0wRy5C0JwAh1CdUwawiCbWsIxUYm+eI3ewUhToUFGH17CgG4/QD8HlUEWPRpCTvY7QgDZHcBiu5nBSVeaQdT94EGhgfdBCR+0QUS82MHF7eDApN0CwiX/cEETlhPB6jO5v2QvGsIeYzlCwoUNwbKUuMF+cifC3zEGQrSTAsKoxJNBjnpZwv7JGMFCKq1ANSdvQTPPhMBI6NrB3RTMv/5kmMED7gDCApsoQkq8w0CO0F7CVvkIwi1axEE7crNB4ZCbwHRVhMARR9BBDkSoQYo7FMJ4VZnANaHyQA+3BcFZuwjCzQ0EQpanZkCaMLzAB6tzwft0okAOGCtCM4W2v3pWj0F1eUc/GB1gwo+kCMKHTUS/S4cAwtmSbkGFPgPCsfwXwUgNpEAliEvCVX2VvtcXhEH8ljNCW0mawFgz4EECRF7C5kzsQVwY2cEAbOvBN7U9Qq1Qpb4X1VDAlzBYwmmu68DUDrXB6vKmQa7ZMUKYcUnAK9QPvQucab60hf1BE2aLwPaFNEIMQFHA9pN+wQ/bV0GhSBXBJqUHQovkJMASqlfC+Pc/Qti0J0I90A9CYWmFQRqmsUHGJOrAunQcwvynvL8Z/AHCmCgtQiwzCcKferdB37SsQRZvacJp6O7AfFPrQeQ9PsFZOwHCSHbSQfpn18HU0kJAT2ZRP708ZkFLdw3ChA+5QbYWGMFILwzCswqowG8eAsF876JBKgsXQhT/BUL2AQ3CmFuNQST7EMIytTzBveXMwVezwsBlqljB2qfQQbLMFsKw8VvC+g+NQTxBasK15UjBaooCQkG7bj/zzBbCz+IrwZlt+D5vYcTARw8MwFW1SUC/aINA5Dlmwt8yAsJscMBBJR/aQRsKv0BqYRtCqB6IQb48oUG4y9pBmwMzvoNHwEGxB6vAPd7kvgdtBUJe9BRCbi0Kwkj+BcKr+HNB7CqeQcqD17938w3CO/8MwghBY8AFiopBTHxowVG/fUG5vPXAgqcSQkyU+MEbp1PBIIKpQaOJBMJJYUnBKQF/P8GBVUEc3Y1BuXfNP2yR60FGN45AUNl7wT/08MDfrpfBdJD0wSx5nEH8bQ1C/tqbQb5SXMJyw55BJxiwwcqSoMAavT3AMcrqwaLJIkI2N2/ApKigQdAERcL+fZtB8zDfvqFcpUEFgkpB3a0SQmUM2sDicxxCYdLiwKr8JkK2kmHCtyUuwXp0msCZzhPCvyX7wA+gKb8Y5hLCWL8BQqRKXMJeCeNACAsNwlYWMULWtqBBVn3WQYiugcHpCd9ASFs0Qd1i/sAnnBLCfmMgQiyYRMIWRotBqd42Qh04kcHWB968/7ftvwk2gMBtiHxBLyxhwupiHcLoXrLBH6qGwGi0g0HtJTHAR1EiQsrOqcFO+NNB93MkwapshkGJ5aS/TnafQapIE8IxNY9BjiVhwkbDQULAgovB4R0Nwu5VKMLIw4zBCO6zwQ9y8EET4clAUN4Rwt7VPELWB5TAmO8IQkAW/MHzAbhBNnO8QbXB6MHuYVtBnVWxwI14G0K8P2DCeD4MwvxeWsCh0J9BukQZwGn7GELOaRzBGAoEQjZzvEHqmd5AA2POv0lZqEFJ0zZBpUJxQT1xgsF+SFLBRSMzwbvJH0HijJ7BTqSZQXbqYMG9cK9BpVWcQWMVT0F+gGHC8EGowC+NA8KH3l3ChG/lQSsrs0FVb/7B++e0v6PGCsIOlNS/DSktwUJilcH3w4E++AUJQgjOnUEDxBFBg4kOQv2eVcFttYdB6yDHwbYmTcHytmLC0Jl8wCBMFcKT7l7Bmr+fQdyOz8CNM6PAm9WqwBMim8HnMMDAyRIFwjQU9sESKTLABBcwQoWu58B/WprBqNiawXAHUsBiMjBC5b6lwZkhQUGO2xhCiIxOwDtnA0KeeRZCBKC7QaD4GEIftV7B2R6XQfa9XcIKpptBBmdNwCBP8UCtCZ9BDVswwvgHc8IQ57NB/ftSwq/9mcAN00zBLWL/QamrA8IepPrApH1gwt4Iy0HNquJBaF/Pwda3wMA1WArC51gWQfI2/kEKnC9CAkIjQj7y1sAm2pJBGMALQqKXL0EnbkFCxAi9v6+m9UFdgInA8vq9P21JVEC4x13C1ck3wUhRnEE8+2jCWGJXwrxDFMINgILA/T5GwUkSGkIRvU/CfPFPwqP6xEE3xHZBbyeTQVAr/EE1TgTBEjEcQlJ2R0AlKWfCIM0xQp/0DsDCcJdBJa0KwY/MJsIiYl/B2zsPQdKeEUIeW4PAutVuwROe2MBV+hrCAGcpwkAxisFMOQ/BObspQrYOfMFWtIfA4HamQTbFIsEIJDFC0EqJQBQrCMJ3HwDBTkoSQvDeGUL/As1BbqOFQUmUEsJkybO/PouKQYa/XMGDcjtBNk1Kwt2bB0IwTpPBZjaMQeidTcA8Ry1CP357v+KeLELoo85ADdotQnux+EDmLwJBaPFfwuJBl0HDyCrAKx7dwMKGosHgNi1CnuatQR9SnUEJAKHAY9GkQc2CEUBE9JDBlwY2QjHxqUGo1QnC99OywPClq0Hu7oI/rXArwA7ZgcF/MszBsWUGwjerKsEW0WDCsGjfwUaukkGaohHBEjKLQT1CEcLmUZ3Aw5AYQpyNDEIXIBZCfyJiwokbtcC+QtrB+HSHQdBmYMLVL98/rYogP4Irl0Hqb+S/S6NyvkIGCkJiYwrCntfPQaSSVsFFSyjBbP81wA1x3r4IiTfBFsRiwlesA0KiambBbAURwn8dEsJBBUXBlMsUQm7cQ8G9VuzAgFNMwndiFsLX+TXBVQuMQfIHM0JRj+HAxsAHQvZNmr8mLMVB8uEUQp3bxz9OphpCDJTTwCp0GkJeXZhBHXoPQukKVsEwb63ACmIIQqQqH8EZZE3BN038QMGBqMBqfAVC5ggUQhwE98Fsa+pBBpqPQSoBAEK+0u9BuJUuQpfj78CuNghCtCoWwlC/BsDZf/tAAT0UwJkx5cEZxiVCN7XtQRT7h0GXU0o/br6EwJBj3UG1+Do+ecoEQkFgj8FQI6BBU0OJQeEuO8BRlTBCA13XwECLKsHSTy/CIxJZwSF7pUGX03dBi3ZiwehpNcGD9yLBbpmGQe9pDMITz4VBBl5zwbsBBMLYdypCfngHwWnKoUH5iRJCylINQpc/wMBrF4HB5jXKwQwTv0FSVzJC1JKjwJEagUH3FL2/FNuowUFZGcJJPltBRR7/waPHEMED4Q7CJ9xgwp+4DsJc2a9B8fA+wbXty0GQkiNAkcOwwFVenj8xb63AGMkYwqjcGkLvSCxCZUs0QcGRiMG7uFpB7PpIQKjLkEF7wY5B0lWVQbFax0DomkNAq1hdvqhiE0LpB/jAZa21v58kXMExEsnAXDKxwc9cB8I6SEJBTnkLwrgYdkH4Me3BuG1fwoYKkMF4saXB3rADwejSWkFtiJBB3nAWwkovE0KQhOrBg/QNQtnpi8CRrnfAB+zRwBGUAsLWjyLAZUUDwXBS0sAOf43B621bwcK1DcICXhxCHWRhP7EPAcKjj9TBC9WyQUxeVsKUW+pB8pa5QYzcHsIMQapBWokPwnXUDMLEi/TB5c0SwsadW0EGbwbCUVBlQV+rvcAlHo/AS0XYwJdJfsHF+i6/OlXkwVRNskGOcjNCdOTCQTPHdkHBWKHBKs00QmNgbkF5d/u/6v1TQdDG7EFsbJJBQCxLwBIEk0HnSTBCniyGQUuoWz9w0lzBVseVQWt5gUELaCLB1GwjwkzCC0IhPp8/pb2hwIuXUMGJ0RFBnMpGwOYB8b1r6Is+jjIQQgQJN0Hy1mLCezwRwVbltUEqrAJCRd3fwPvsar6u+IRB5jsaQjB4qsHVaFfBoZ2XwNc4FcLnL4BBJjUCwblhA0LfsPrBaZPIQFT8kj+Ibg9CDgLpQXYYqcDG5BFCWwObQd0UPEB8Jo3A096+wNI0ukE1kgvCK6L4QJVtCMEJJDW/QMWeQRd8aEHgnqFBVKp4QUIPecHfshfCc60UQlMeusDvjTHA+lQoQn0kokBjOAxCTjyVQV/LlUHlXwbB15EwQTF7R8Ez3DpBi3/Mv0oCGcHN2O2/9jCHQZ/t68DxmQbCxt+YwSvzbUB3RQPCsWnHwBDsCMElohbAxtO9QXqH6ED8w//BCmUSwi4UGMLFTzhAXZkJwVvOXz8ojx9CwsVNwm2JB8HTNSbBfN99wDL7pMCgYQrCkNS4QQgYREL9TwbC9Ki7QfPegj4gLlzCeHfJQURLKkIfmBBAOgAfwa7srkHCjJbBp96TQY5mHkJpqZTBsjUQQmBAlMFiBaPA47Dtv6Q0XsLUJMVBQWg0QZj3D8KO2mDC8NmHQVYRG0K5fxdBTa4UwL/c1kEyjhPCrJbLQSk6HkLC9KbB7rEaQkqRAsIZGkbBAW8ZQuGsdcHxpqNBScc+wcAdEcKImyvATee/wBpFB8JUwP9ByKVDQrmZNsELv9TBUpoUQcR3IkE6EtpBWXXGwDVce0E4Mz1CtdYNQrqDC0GP8GLCtxiBwaOUA0ElvRvC419YwtwxAcIO2x/AKX0JwUZWlcCinc5BJpJmworMoMFlWnvBrl4QQr1nwMCQVMVBHCgYwTgIBsEW2wXClciLP4XSTD7wYRbCQh1dwgoeJELZ9SjByhVSwiiQl0GE3OY/Q8nkwNtVB8IilWjCM7ecwOuqgEGbzyxChkBRwjOxssDtFYK/BIZ2wXuvqL/2+rHAcJS2QS5l5cAqJTdCYdKLP+MT67/F9jfAIDanwbdZEkJcvrLAkoU3Qu70NEKhcl7A5tcVwak5GsKRD8zAoc0kPzE45MBBPwzCHT5BwRGPvMBXxCdBAT8TwYZEJkIy4AzCTJM0wdhyLkJKqWzCgXJGwVnKHUIeehpC6CA2Qgrro0FJSPRAtV+EvjwwDEI9xujBRS6iwJFqC0K4NCVCAgSVwWjuUcI727jAvZIJQkpF6UG7MiDBSb1ePyrnEEEQRbvBkVSUQbgBKEIn+6BBbpBcwME9mMGfaZfA+vAeQgIpYsJLUgnCexbhwS6mXMJx1/fA6PTJwOABh8FWzlxB3IgWQlASDUJznofBniNlwDyTTcJzTIo+fkCSQdabVsIfqnjBm/WiQdDfMEG9wIBBjeP1wReVdECtIWDC1kH1wUGp70AW/qtBlOIQwqYHiMFclBzCu4gVwQaADUJgxZ5BNDoNQqX+2r8MgQNCbOx0wOyKhsH3TinAWC4XwsmYJcAkCWnCCLskQhXbKEAqPcpBKBgBwm1mBsKEtf9BHdHEwKDvm8A8wY5B6DidQWZ338G3WHtB8fIxwpf5usBU2g9CSXfGvsoB/EAa4yxCahYwwX6CO0IjJUNCBeJvwPPx/cBa45dBhQwVv8bvosDLYQPCxXAcQiKrDMI7/qBBDSIOQkx3nD88tU5AD6vcwETdbD+ZuW7AZJmTQVXzAkFlERY+RCKQwSwlJUIQyp5BZS8pQYhUYMI35pO/GHw0wFkbqkDGd/nBVkJgwn4iKEIcbxXCYxlgQfHxpD8atanAgDvmQcS6m8HRvdPAIL+/wCvUGEEfjY1BZEmVQRnTlUHsaznAuzlXwS7cC0JiZ51B+wiCwS0tEkIRAg3B1DEwwLbW80Grl2BBzT3dwMutokF0toxBkqXWv0Hpg8H02rxBCcCovowq9sF2AzJC0St/wRatZ8DtywbChY/kwM5Aj0EzR7PA6GhLQfwFWUDaVQvCaukxQpLwDcKe/zxCoiA9QaMwUMGmALPBB49jwr+XEMEgOqZB+PIgQtU6bMGnnpdBMIGNwYOr50A/SEBCSt31wV0o/EGRZ8bA9o1WwkBl/MEqOp493AGVQKI9PcE/vtVBvZ4JwuRpVUBainXBCnwtQhAdrcGUmQjCOU4XQr3tI0LGrxpCdJ+BQQt2mEE2p33BfRLdvpU/a8C/EHzBUMaiQbwYjEEUydDANV1tP3YkQ0Crk1PA88CBwSh08EExb63AZMuNQa4hG0EDfQ7C2oacQb8c/MHDJvzAOMPfwQcCz0DGGQhCyrYLwqTcTkGpg3xBpuKxQfL8/kHndyHBSPaKQQbloEHTaKq/ltEzwK6DUMJEYnLCclS2QYuAG8L4/MJBe4wFwQ2X6b7ENtk/k/YiwXP2979qSsdBTn74QYfWgcGSwmLCGNQdQJppnEGQ1vm/rGmBwToWF0IA88HAD5EPwiA7qEGcxxNCR5T6wIRumsF3Q4zACqk4QnmQcMDlmorAwI9pwkgvhkFktmDCCQEeQtxfDcI1D2HBUOWaQWDuFMIPq9zAApT1wes4pcC8eVzC7tY6QGukgkEdnohB4GZywqLPX8JYvx1CcDfMQbEul8FIK6c/jNEeQoZlH8IFJr7AKBtfwFLTOsBvzw2/lVmmQfXUg0FR8zFB/awHwvV8KUGgfjLBqJYcQiui+EAQnwNCgSYGwLPbEMJEde/BK/6OPzTMa0HwQYRBZCjkwfURw78EMN1BmjZcwaMVmj5qH+hBnUXovh6SvcCdTubAeJdhwgtPu7/ldOfA3M4NQpLXoEE4YhNC5fFdQXFHIMBYfEBB1lS4QYNlycBfpSDBza7iwOITL0J3TmrBwZPswUVdy8AVeBfBMzJlQTPs1kFZ7e/AV/Y2wOB9J8KKXGHC2pooQs93NsHdXH7Bz1KRQTxcQ0LlyoHBUwyJwcPmDsGYrZPBDpoYwoFPE8EnbuHAeTm8wGQtGsBc7mNAbXaqQVsYzr9DOgPBLFEOQkBjKUHokdRBWi9gwh14CMBK4FnBF+nnwMtPjMAGR/HBzBbrwdwZhkFYhPG/ihqwwfzFVsLK8pHAoURbP1in18GaNwC/unOHQT+278DLRK3ArRQhQU7RA8LojJtB0FEgwpyP3MEWzwRCeTwHwV7I0MA9mRVCw/fuwLOTDMKaXifBq2PuP2R9ikGRyBxCUd/BwG90HUE2mlhB5s4TwejDaEF8Fq9BMvlbwqbu9EG3L+PAhSd4wTOOXj+b0W3BVeInwfqOU8IBQItB7NaMQcaVi0EdnVHBoBSbQewnz8GV7grCUKaqQQxsFsLAFiRC4BEXwsviscC9W7tBSULgQaXoDEEC8QhC0KVRwsuC9UHexvbBTUvewCUfk0GG/eE/LkJsQdsV178eQADCy3dJQfS5gUFDSpTAJ4XHv4xeF0IuFyJCi5gCwqUJv8AwO/ZBGyq0v58WDMA3VBhCK8IXwjKPm0F6SZ3BsH0xQqTDgcEANRNCIBNlwm+QucAfTonA+zXPwUpa38EH0fjAcG81QkiWYcIF6UjBZWwMQkBkDUL7HQtCis+xQcRfrkER4/FB\",\"dtype\":\"float32\",\"shape\":[2082]},\"y\":{\"__ndarray__\":\"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\",\"dtype\":\"float32\",\"shape\":[2082]}},\"selected\":{\"id\":\"c16e84e3-f8f5-4716-83a5-261b029997bc\",\"type\":\"Selection\"},\"selection_policy\":{\"id\":\"859f6feb-9892-4e2d-9044-a9de22ece129\",\"type\":\"UnionRenderers\"}},\"id\":\"0a870bd1-52eb-4903-8272-6a632f6f100d\",\"type\":\"ColumnDataSource\"},{\"attributes\":{},\"id\":\"c16e84e3-f8f5-4716-83a5-261b029997bc\",\"type\":\"Selection\"},{\"attributes\":{},\"id\":\"00ecbed8-e230-4ac1-a986-694da862a014\",\"type\":\"LinearScale\"},{\"attributes\":{},\"id\":\"859f6feb-9892-4e2d-9044-a9de22ece129\",\"type\":\"UnionRenderers\"},{\"attributes\":{\"bottom_units\":\"screen\",\"fill_alpha\":{\"value\":0.5},\"fill_color\":{\"value\":\"lightgrey\"},\"left_units\":\"screen\",\"level\":\"overlay\",\"line_alpha\":{\"value\":1.0},\"line_color\":{\"value\":\"black\"},\"line_dash\":[4,4],\"line_width\":{\"value\":2},\"plot\":null,\"render_mode\":\"css\",\"right_units\":\"screen\",\"top_units\":\"screen\"},\"id\":\"392de3c5-7a55-4295-9b66-a028cef2049c\",\"type\":\"BoxAnnotation\"},{\"attributes\":{},\"id\":\"9bd2dd36-6e80-4c45-8050-162a7e7718db\",\"type\":\"LinearScale\"},{\"attributes\":{},\"id\":\"56b21459-0de3-407e-9064-ced9089f4cfe\",\"type\":\"PanTool\"},{\"attributes\":{\"min_border\":1,\"plot_height\":700,\"plot_width\":900,\"renderers\":[{\"id\":\"392de3c5-7a55-4295-9b66-a028cef2049c\",\"type\":\"BoxAnnotation\"},{\"id\":\"c43eb83c-2164-4870-a26b-dcd88d62b4f1\",\"type\":\"GlyphRenderer\"}],\"title\":{\"id\":\"94716481-d7d8-410e-93e1-dd1a82a8deaf\",\"type\":\"Title\"},\"toolbar\":{\"id\":\"e73f0ac1-cc9e-4556-8b65-94717b542d2b\",\"type\":\"Toolbar\"},\"x_range\":{\"id\":\"8438f51c-c87f-4817-892c-e6fa48d3ead9\",\"type\":\"DataRange1d\"},\"x_scale\":{\"id\":\"00ecbed8-e230-4ac1-a986-694da862a014\",\"type\":\"LinearScale\"},\"y_range\":{\"id\":\"ca8934ff-faf3-400e-99ae-34a4c95ad520\",\"type\":\"DataRange1d\"},\"y_scale\":{\"id\":\"9bd2dd36-6e80-4c45-8050-162a7e7718db\",\"type\":\"LinearScale\"}},\"id\":\"516b80d2-39a4-4aa3-a76e-366498176f0c\",\"subtype\":\"Figure\",\"type\":\"Plot\"},{\"attributes\":{\"plot\":null,\"text\":\"20 newsgroups LDA viz\"},\"id\":\"94716481-d7d8-410e-93e1-dd1a82a8deaf\",\"type\":\"Title\"},{\"attributes\":{\"data_source\":{\"id\":\"0a870bd1-52eb-4903-8272-6a632f6f100d\",\"type\":\"ColumnDataSource\"},\"glyph\":{\"id\":\"191f2303-2099-49e0-9afe-eea4e312d3c7\",\"type\":\"Circle\"},\"hover_glyph\":null,\"muted_glyph\":null,\"nonselection_glyph\":{\"id\":\"1cc35f65-02db-4679-ae62-23fab23c4189\",\"type\":\"Circle\"},\"selection_glyph\":null,\"view\":{\"id\":\"f025a127-7614-4b27-bbda-125b2d7d9440\",\"type\":\"CDSView\"}},\"id\":\"c43eb83c-2164-4870-a26b-dcd88d62b4f1\",\"type\":\"GlyphRenderer\"},{\"attributes\":{\"source\":{\"id\":\"0a870bd1-52eb-4903-8272-6a632f6f100d\",\"type\":\"ColumnDataSource\"}},\"id\":\"f025a127-7614-4b27-bbda-125b2d7d9440\",\"type\":\"CDSView\"},{\"attributes\":{\"callback\":null},\"id\":\"8438f51c-c87f-4817-892c-e6fa48d3ead9\",\"type\":\"DataRange1d\"}],\"root_ids\":[\"516b80d2-39a4-4aa3-a76e-366498176f0c\"]},\"title\":\"Bokeh Application\",\"version\":\"0.13.0\"}};\n",
       "  var render_items = [{\"docid\":\"33ab2258-21d1-4422-9e99-d35f3cc07a71\",\"roots\":{\"516b80d2-39a4-4aa3-a76e-366498176f0c\":\"d539e7ca-4622-46b2-96fd-6db15204ea87\"}}];\n",
       "  root.Bokeh.embed.embed_items_notebook(docs_json, render_items);\n",
       "\n",
       "  }\n",
       "  if (root.Bokeh !== undefined) {\n",
       "    embed_document(root);\n",
       "  } else {\n",
       "    var attempts = 0;\n",
       "    var timer = setInterval(function(root) {\n",
       "      if (root.Bokeh !== undefined) {\n",
       "        embed_document(root);\n",
       "        clearInterval(timer);\n",
       "      }\n",
       "      attempts++;\n",
       "      if (attempts > 100) {\n",
       "        console.log(\"Bokeh: ERROR: Unable to run BokehJS code because BokehJS library is missing\")\n",
       "        clearInterval(timer);\n",
       "      }\n",
       "    }, 10, root)\n",
       "  }\n",
       "})(window);"
      ],
      "application/vnd.bokehjs_exec.v0+json": ""
     },
     "metadata": {
      "application/vnd.bokehjs_exec.v0+json": {
       "id": "516b80d2-39a4-4aa3-a76e-366498176f0c"
      }
     },
     "output_type": "display_data"
    }
   ],
   "source": [
    "title = '20 newsgroups LDA viz'\n",
    "\n",
    "plot_lda = bp.figure(plot_width=900, plot_height=700,\n",
    "                     title=title,\n",
    "                     tools=\"pan, wheel_zoom, box_zoom, reset, hover, previewsave\",\n",
    "                     x_axis_type=None, y_axis_type=None, min_border=1)\n",
    "\n",
    "data_dict = {'x': y_pred[:, 0], \n",
    "             'y': y_pred[:, 1],\n",
    "             'color': colormap[labels]}\n",
    "\n",
    "mySource = bp.ColumnDataSource(data_dict)\n",
    "\n",
    "plot_lda.circle(x='x', y='y', color='color', source=mySource)\n",
    "\n",
    "show(plot_lda)"
   ]
  },
  {
   "cell_type": "code",
   "execution_count": null,
   "metadata": {},
   "outputs": [],
   "source": []
  }
 ],
 "metadata": {
  "kernelspec": {
   "display_name": "Python (py36)",
   "language": "python",
   "name": "py36"
  },
  "language_info": {
   "codemirror_mode": {
    "name": "ipython",
    "version": 3
   },
   "file_extension": ".py",
   "mimetype": "text/x-python",
   "name": "python",
   "nbconvert_exporter": "python",
   "pygments_lexer": "ipython3",
   "version": "3.6.6"
  }
 },
 "nbformat": 4,
 "nbformat_minor": 2
}
