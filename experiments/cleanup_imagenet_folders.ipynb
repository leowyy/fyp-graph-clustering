{
 "cells": [
  {
   "cell_type": "code",
   "execution_count": 1,
   "metadata": {},
   "outputs": [
    {
     "data": {
      "text/plain": [
       "'/Users/signapoop/Desktop/fyp-graph-clustering'"
      ]
     },
     "execution_count": 1,
     "metadata": {},
     "output_type": "execute_result"
    }
   ],
   "source": [
    "import os\n",
    "os.chdir('..')\n",
    "os.getcwd()"
   ]
  },
  {
   "cell_type": "code",
   "execution_count": 25,
   "metadata": {},
   "outputs": [],
   "source": [
    "parent_dir = os.path.abspath('..')\n",
    "data_dir = parent_dir + '/data/imagenet'"
   ]
  },
  {
   "cell_type": "code",
   "execution_count": 14,
   "metadata": {},
   "outputs": [],
   "source": [
    "from PIL import Image\n",
    "\n",
    "def verify_image(img_path):\n",
    "    #test image\n",
    "    try:\n",
    "        v_image = Image.open(img_path)\n",
    "        v_image.verify()\n",
    "        return True;\n",
    "    except OSError:\n",
    "        return False;"
   ]
  },
  {
   "cell_type": "code",
   "execution_count": 27,
   "metadata": {},
   "outputs": [
    {
     "name": "stdout",
     "output_type": "stream",
     "text": [
      "Number of files = 1333\n",
      "Number of images not found = 3\n",
      "Number of images corrupted = 6\n",
      "Number of files left = 1324\n"
     ]
    }
   ],
   "source": [
    "threshold = 2500\n",
    "\n",
    "all_count = 0\n",
    "not_found_count = 0\n",
    "corrupt_count = 0\n",
    "\n",
    "for dirpath, dirs, files in os.walk(data_dir+'/train/bees'):\n",
    "    for file in files: \n",
    "        path = os.path.join(dirpath, file)\n",
    "        all_count += 1\n",
    "        # Remove images below size of 2.5KB\n",
    "        if os.stat(path).st_size < threshold:\n",
    "            not_found_count += 1\n",
    "            os.remove(path)\n",
    "        # Remove if cannot be verified by Pillow\n",
    "        elif not verify_image(path):\n",
    "            corrupt_count += 1\n",
    "            os.remove(path)\n",
    "\n",
    "print(\"Number of files = {}\".format(all_count))\n",
    "print(\"Number of images not found = {}\".format(not_found_count))\n",
    "print(\"Number of images corrupted = {}\".format(corrupt_count))\n",
    "print(\"Number of files left = {}\".format(all_count - not_found_count - corrupt_count))"
   ]
  },
  {
   "cell_type": "code",
   "execution_count": 23,
   "metadata": {},
   "outputs": [],
   "source": [
    "import random\n",
    "def delete_random_files(dir_path, n_keep=500):\n",
    "    files = os.listdir(dir_path)\n",
    "    random.shuffle(files)\n",
    "    if len(files) > n_keep:\n",
    "        for i in range(n_keep, len(files)):\n",
    "            os.remove(os.path.join(dir_path, files[i]))\n",
    "    print(\"Removed {} files\".format(len(files) - n_keep))"
   ]
  },
  {
   "cell_type": "code",
   "execution_count": 28,
   "metadata": {},
   "outputs": [
    {
     "name": "stdout",
     "output_type": "stream",
     "text": [
      "Removed 824 files\n"
     ]
    }
   ],
   "source": [
    "delete_random_files(data_dir+'/train/bees')"
   ]
  },
  {
   "cell_type": "code",
   "execution_count": null,
   "metadata": {},
   "outputs": [],
   "source": []
  }
 ],
 "metadata": {
  "kernelspec": {
   "display_name": "Python 3",
   "language": "python",
   "name": "python3"
  },
  "language_info": {
   "codemirror_mode": {
    "name": "ipython",
    "version": 3
   },
   "file_extension": ".py",
   "mimetype": "text/x-python",
   "name": "python",
   "nbconvert_exporter": "python",
   "pygments_lexer": "ipython3",
   "version": "3.6.6"
  }
 },
 "nbformat": 4,
 "nbformat_minor": 2
}
