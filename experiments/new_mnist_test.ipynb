{
 "cells": [
  {
   "cell_type": "code",
   "execution_count": 1,
   "metadata": {},
   "outputs": [],
   "source": [
    "import os\n",
    "os.chdir('..')\n",
    "os.getcwd()"
   ]
  },
  {
   "cell_type": "code",
   "execution_count": 2,
   "metadata": {},
   "outputs": [],
   "source": [
    "%matplotlib inline\n",
    "import matplotlib.pyplot as plt\n",
    "\n",
    "import pickle \n",
    "import numpy as np\n",
    "import pandas as pd\n",
    "import torch\n",
    "import os\n",
    "from timeit import default_timer as timer\n",
    "\n",
    "from sklearn.manifold import TSNE\n",
    "from util.evaluation_metrics import trustworthiness, nearest_neighbours_generalisation_accuracy"
   ]
  },
  {
   "cell_type": "code",
   "execution_count": 3,
   "metadata": {},
   "outputs": [],
   "source": [
    "from core.SimpleNet import SimpleNet\n",
    "from core.OldGraphConvNet2 import OldGraphConvNet2\n",
    "from core.DataEmbeddingGraph import DataEmbeddingGraph\n",
    "from core.EmbeddingDataSet import EmbeddingDataSet\n",
    "from util.plot_embedding import plot_embedding, plot_embedding_subplot\n",
    "from util.evaluation_metrics import evaluate_net_metrics, evaluate_embedding_metrics\n",
    "from core.DimReduction import DimReduction"
   ]
  },
  {
   "cell_type": "code",
   "execution_count": 21,
   "metadata": {},
   "outputs": [
    {
     "name": "stdout",
     "output_type": "stream",
     "text": [
      "Name of dataset = mnist\n",
      "Input dimension = 784\n",
      "Number of training samples = 10000\n",
      "Training labels = True\n",
      "Graph information = False\n"
     ]
    }
   ],
   "source": [
    "dataset_name = 'mnist'\n",
    "parent_dir = os.path.abspath('..')\n",
    "input_dir = os.path.join(parent_dir, 'data')\n",
    "dataset = EmbeddingDataSet(dataset_name, input_dir, train=False)\n",
    "dataset.create_all_data(split_batches=True, shuffle=True)\n",
    "dataset.summarise()"
   ]
  },
  {
   "cell_type": "code",
   "execution_count": 22,
   "metadata": {},
   "outputs": [
    {
     "name": "stdout",
     "output_type": "stream",
     "text": [
      "Trustworthy score = 0.9608\n",
      "1-NN generalisation accuracy = 0.8369\n",
      "5-NN generalisation accuracy = 0.8042\n",
      "\n",
      "Average time to compute (s) = 3.1188\n",
      "\n"
     ]
    }
   ],
   "source": [
    "embedder = TSNE(n_components=2, perplexity=30, verbose=0)\n",
    "trust, one_nn, five_nn, time_elapsed = evaluate_embedding_metrics(dataset.all_data, embedder)\n",
    "print(\"Trustworthy score = {:.4f}\".format(trust))\n",
    "print(\"1-NN generalisation accuracy = {:.4f}\".format(one_nn))\n",
    "print(\"5-NN generalisation accuracy = {:.4f}\\n\".format(five_nn))\n",
    "print(\"Average time to compute (s) = {:.4f}\\n\".format(time_elapsed))"
   ]
  },
  {
   "cell_type": "code",
   "execution_count": null,
   "metadata": {},
   "outputs": [],
   "source": []
  }
 ],
 "metadata": {
  "kernelspec": {
   "display_name": "Python (py36)",
   "language": "python",
   "name": "py36"
  },
  "language_info": {
   "codemirror_mode": {
    "name": "ipython",
    "version": 3
   },
   "file_extension": ".py",
   "mimetype": "text/x-python",
   "name": "python",
   "nbconvert_exporter": "python",
   "pygments_lexer": "ipython3",
   "version": "3.6.7"
  }
 },
 "nbformat": 4,
 "nbformat_minor": 2
}
