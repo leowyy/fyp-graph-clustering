{
 "cells": [
  {
   "cell_type": "code",
   "execution_count": 1,
   "metadata": {},
   "outputs": [
    {
     "data": {
      "text/plain": [
       "'/home/leowyaoyang/fyp-graph-clustering'"
      ]
     },
     "execution_count": 1,
     "metadata": {},
     "output_type": "execute_result"
    }
   ],
   "source": [
    "import os\n",
    "os.chdir('..')\n",
    "os.getcwd()"
   ]
  },
  {
   "cell_type": "code",
   "execution_count": 2,
   "metadata": {},
   "outputs": [],
   "source": [
    "%matplotlib inline\n",
    "import matplotlib.pyplot as plt\n",
    "\n",
    "import os\n",
    "import numpy as np\n",
    "import pickle"
   ]
  },
  {
   "cell_type": "code",
   "execution_count": 3,
   "metadata": {},
   "outputs": [],
   "source": [
    "from core.DataEmbeddingGraph import DataEmbeddingGraph\n",
    "from util.usps_data_loader import get_train_set, get_test_set\n",
    "from util.plot_embedding import plot_embedding, plot_embedding_subplot\n",
    "from util.draw_random_subset import draw_random_subset\n",
    "from core.DimReduction import DimReduction"
   ]
  },
  {
   "cell_type": "code",
   "execution_count": 4,
   "metadata": {},
   "outputs": [],
   "source": [
    "parent_dir = os.path.abspath('..')\n",
    "data_dir = parent_dir + '/data/usps/'\n",
    "#inputs, labels = draw_random_usps_samples(data_dir, train=True)"
   ]
  },
  {
   "cell_type": "code",
   "execution_count": null,
   "metadata": {},
   "outputs": [],
   "source": [
    "train_set = get_train_set(data_dir, augment=True)"
   ]
  },
  {
   "cell_type": "code",
   "execution_count": null,
   "metadata": {},
   "outputs": [],
   "source": [
    "inputs, labels = draw_random_subset(train_set, len(train_set))"
   ]
  },
  {
   "cell_type": "code",
   "execution_count": null,
   "metadata": {},
   "outputs": [],
   "source": [
    "X_unrolled = inputs.view(inputs.shape[0], -1).numpy()"
   ]
  },
  {
   "cell_type": "code",
   "execution_count": null,
   "metadata": {},
   "outputs": [],
   "source": [
    "X_unrolled.shape"
   ]
  },
  {
   "cell_type": "code",
   "execution_count": null,
   "metadata": {},
   "outputs": [],
   "source": [
    "dim_red = DimReduction(n_components=2)\n",
    "X_emb = dim_red.fit_transform(X_unrolled, 'tsne')\n",
    "with open(data_dir+'usps_train_tsne.pkl', 'wb') as f:\n",
    "    pickle.dump([inputs, labels, X_emb], f)"
   ]
  },
  {
   "cell_type": "markdown",
   "metadata": {},
   "source": [
    "## Test data"
   ]
  },
  {
   "cell_type": "code",
   "execution_count": 5,
   "metadata": {},
   "outputs": [
    {
     "data": {
      "text/plain": [
       "(1860, 784)"
      ]
     },
     "execution_count": 5,
     "metadata": {},
     "output_type": "execute_result"
    }
   ],
   "source": [
    "test_set = get_test_set(data_dir, augment=True)\n",
    "inputs, labels = draw_random_subset(test_set, len(test_set))\n",
    "X_unrolled = inputs.view(inputs.shape[0], -1).numpy()\n",
    "X_unrolled.shape"
   ]
  },
  {
   "cell_type": "code",
   "execution_count": 6,
   "metadata": {},
   "outputs": [],
   "source": [
    "dim_red = DimReduction(n_components=2)\n",
    "X_emb = dim_red.fit_transform(X_unrolled, 'tsne')\n",
    "with open(data_dir+'usps_test_tsne.pkl', 'wb') as f:\n",
    "    pickle.dump([inputs, labels, X_emb], f)"
   ]
  },
  {
   "cell_type": "code",
   "execution_count": 7,
   "metadata": {},
   "outputs": [],
   "source": [
    "# # Deprecated\n",
    "# num_datasets = 100\n",
    "# all_test_data = []\n",
    "# for i in range(num_datasets):\n",
    "#     num_samples = np.random.randint(200, 500)\n",
    "#     inputs, labels = draw_random_usps_samples(data_dir, n_samples=num_samples, train=False)\n",
    "\n",
    "#     # Package into graph block\n",
    "#     G = DataEmbeddingGraph(inputs, labels, 'spectral')\n",
    "#     all_test_data.append(G)"
   ]
  },
  {
   "cell_type": "code",
   "execution_count": 8,
   "metadata": {},
   "outputs": [],
   "source": [
    "# with open('usps_test_spectral.pkl', 'wb') as f:\n",
    "#     pickle.dump([all_test_data], f)"
   ]
  },
  {
   "cell_type": "code",
   "execution_count": 9,
   "metadata": {},
   "outputs": [],
   "source": [
    "from util.plot_bokeh_embedding import plot_embedding\n",
    "target_names = [str(i) for i in range(10)]\n",
    "named_labels = [target_names[l] for l in labels]"
   ]
  },
  {
   "cell_type": "code",
   "execution_count": 10,
   "metadata": {},
   "outputs": [
    {
     "data": {
      "text/html": [
       "\n",
       "    <div class=\"bk-root\">\n",
       "        <a href=\"https://bokeh.pydata.org\" target=\"_blank\" class=\"bk-logo bk-logo-small bk-logo-notebook\"></a>\n",
       "        <span id=\"1bfc60fa-45c3-4c03-b595-cde087d7a4b1\">Loading BokehJS ...</span>\n",
       "    </div>"
      ]
     },
     "metadata": {},
     "output_type": "display_data"
    },
    {
     "data": {
      "application/javascript": [
       "\n",
       "(function(root) {\n",
       "  function now() {\n",
       "    return new Date();\n",
       "  }\n",
       "\n",
       "  var force = true;\n",
       "\n",
       "  if (typeof (root._bokeh_onload_callbacks) === \"undefined\" || force === true) {\n",
       "    root._bokeh_onload_callbacks = [];\n",
       "    root._bokeh_is_loading = undefined;\n",
       "  }\n",
       "\n",
       "  var JS_MIME_TYPE = 'application/javascript';\n",
       "  var HTML_MIME_TYPE = 'text/html';\n",
       "  var EXEC_MIME_TYPE = 'application/vnd.bokehjs_exec.v0+json';\n",
       "  var CLASS_NAME = 'output_bokeh rendered_html';\n",
       "\n",
       "  /**\n",
       "   * Render data to the DOM node\n",
       "   */\n",
       "  function render(props, node) {\n",
       "    var script = document.createElement(\"script\");\n",
       "    node.appendChild(script);\n",
       "  }\n",
       "\n",
       "  /**\n",
       "   * Handle when an output is cleared or removed\n",
       "   */\n",
       "  function handleClearOutput(event, handle) {\n",
       "    var cell = handle.cell;\n",
       "\n",
       "    var id = cell.output_area._bokeh_element_id;\n",
       "    var server_id = cell.output_area._bokeh_server_id;\n",
       "    // Clean up Bokeh references\n",
       "    if (id != null && id in Bokeh.index) {\n",
       "      Bokeh.index[id].model.document.clear();\n",
       "      delete Bokeh.index[id];\n",
       "    }\n",
       "\n",
       "    if (server_id !== undefined) {\n",
       "      // Clean up Bokeh references\n",
       "      var cmd = \"from bokeh.io.state import curstate; print(curstate().uuid_to_server['\" + server_id + \"'].get_sessions()[0].document.roots[0]._id)\";\n",
       "      cell.notebook.kernel.execute(cmd, {\n",
       "        iopub: {\n",
       "          output: function(msg) {\n",
       "            var id = msg.content.text.trim();\n",
       "            if (id in Bokeh.index) {\n",
       "              Bokeh.index[id].model.document.clear();\n",
       "              delete Bokeh.index[id];\n",
       "            }\n",
       "          }\n",
       "        }\n",
       "      });\n",
       "      // Destroy server and session\n",
       "      var cmd = \"import bokeh.io.notebook as ion; ion.destroy_server('\" + server_id + \"')\";\n",
       "      cell.notebook.kernel.execute(cmd);\n",
       "    }\n",
       "  }\n",
       "\n",
       "  /**\n",
       "   * Handle when a new output is added\n",
       "   */\n",
       "  function handleAddOutput(event, handle) {\n",
       "    var output_area = handle.output_area;\n",
       "    var output = handle.output;\n",
       "\n",
       "    // limit handleAddOutput to display_data with EXEC_MIME_TYPE content only\n",
       "    if ((output.output_type != \"display_data\") || (!output.data.hasOwnProperty(EXEC_MIME_TYPE))) {\n",
       "      return\n",
       "    }\n",
       "\n",
       "    var toinsert = output_area.element.find(\".\" + CLASS_NAME.split(' ')[0]);\n",
       "\n",
       "    if (output.metadata[EXEC_MIME_TYPE][\"id\"] !== undefined) {\n",
       "      toinsert[toinsert.length - 1].firstChild.textContent = output.data[JS_MIME_TYPE];\n",
       "      // store reference to embed id on output_area\n",
       "      output_area._bokeh_element_id = output.metadata[EXEC_MIME_TYPE][\"id\"];\n",
       "    }\n",
       "    if (output.metadata[EXEC_MIME_TYPE][\"server_id\"] !== undefined) {\n",
       "      var bk_div = document.createElement(\"div\");\n",
       "      bk_div.innerHTML = output.data[HTML_MIME_TYPE];\n",
       "      var script_attrs = bk_div.children[0].attributes;\n",
       "      for (var i = 0; i < script_attrs.length; i++) {\n",
       "        toinsert[toinsert.length - 1].firstChild.setAttribute(script_attrs[i].name, script_attrs[i].value);\n",
       "      }\n",
       "      // store reference to server id on output_area\n",
       "      output_area._bokeh_server_id = output.metadata[EXEC_MIME_TYPE][\"server_id\"];\n",
       "    }\n",
       "  }\n",
       "\n",
       "  function register_renderer(events, OutputArea) {\n",
       "\n",
       "    function append_mime(data, metadata, element) {\n",
       "      // create a DOM node to render to\n",
       "      var toinsert = this.create_output_subarea(\n",
       "        metadata,\n",
       "        CLASS_NAME,\n",
       "        EXEC_MIME_TYPE\n",
       "      );\n",
       "      this.keyboard_manager.register_events(toinsert);\n",
       "      // Render to node\n",
       "      var props = {data: data, metadata: metadata[EXEC_MIME_TYPE]};\n",
       "      render(props, toinsert[toinsert.length - 1]);\n",
       "      element.append(toinsert);\n",
       "      return toinsert\n",
       "    }\n",
       "\n",
       "    /* Handle when an output is cleared or removed */\n",
       "    events.on('clear_output.CodeCell', handleClearOutput);\n",
       "    events.on('delete.Cell', handleClearOutput);\n",
       "\n",
       "    /* Handle when a new output is added */\n",
       "    events.on('output_added.OutputArea', handleAddOutput);\n",
       "\n",
       "    /**\n",
       "     * Register the mime type and append_mime function with output_area\n",
       "     */\n",
       "    OutputArea.prototype.register_mime_type(EXEC_MIME_TYPE, append_mime, {\n",
       "      /* Is output safe? */\n",
       "      safe: true,\n",
       "      /* Index of renderer in `output_area.display_order` */\n",
       "      index: 0\n",
       "    });\n",
       "  }\n",
       "\n",
       "  // register the mime type if in Jupyter Notebook environment and previously unregistered\n",
       "  if (root.Jupyter !== undefined) {\n",
       "    var events = require('base/js/events');\n",
       "    var OutputArea = require('notebook/js/outputarea').OutputArea;\n",
       "\n",
       "    if (OutputArea.prototype.mime_types().indexOf(EXEC_MIME_TYPE) == -1) {\n",
       "      register_renderer(events, OutputArea);\n",
       "    }\n",
       "  }\n",
       "\n",
       "  \n",
       "  if (typeof (root._bokeh_timeout) === \"undefined\" || force === true) {\n",
       "    root._bokeh_timeout = Date.now() + 5000;\n",
       "    root._bokeh_failed_load = false;\n",
       "  }\n",
       "\n",
       "  var NB_LOAD_WARNING = {'data': {'text/html':\n",
       "     \"<div style='background-color: #fdd'>\\n\"+\n",
       "     \"<p>\\n\"+\n",
       "     \"BokehJS does not appear to have successfully loaded. If loading BokehJS from CDN, this \\n\"+\n",
       "     \"may be due to a slow or bad network connection. Possible fixes:\\n\"+\n",
       "     \"</p>\\n\"+\n",
       "     \"<ul>\\n\"+\n",
       "     \"<li>re-rerun `output_notebook()` to attempt to load from CDN again, or</li>\\n\"+\n",
       "     \"<li>use INLINE resources instead, as so:</li>\\n\"+\n",
       "     \"</ul>\\n\"+\n",
       "     \"<code>\\n\"+\n",
       "     \"from bokeh.resources import INLINE\\n\"+\n",
       "     \"output_notebook(resources=INLINE)\\n\"+\n",
       "     \"</code>\\n\"+\n",
       "     \"</div>\"}};\n",
       "\n",
       "  function display_loaded() {\n",
       "    var el = document.getElementById(\"1bfc60fa-45c3-4c03-b595-cde087d7a4b1\");\n",
       "    if (el != null) {\n",
       "      el.textContent = \"BokehJS is loading...\";\n",
       "    }\n",
       "    if (root.Bokeh !== undefined) {\n",
       "      if (el != null) {\n",
       "        el.textContent = \"BokehJS \" + root.Bokeh.version + \" successfully loaded.\";\n",
       "      }\n",
       "    } else if (Date.now() < root._bokeh_timeout) {\n",
       "      setTimeout(display_loaded, 100)\n",
       "    }\n",
       "  }\n",
       "\n",
       "\n",
       "  function run_callbacks() {\n",
       "    try {\n",
       "      root._bokeh_onload_callbacks.forEach(function(callback) { callback() });\n",
       "    }\n",
       "    finally {\n",
       "      delete root._bokeh_onload_callbacks\n",
       "    }\n",
       "    console.info(\"Bokeh: all callbacks have finished\");\n",
       "  }\n",
       "\n",
       "  function load_libs(js_urls, callback) {\n",
       "    root._bokeh_onload_callbacks.push(callback);\n",
       "    if (root._bokeh_is_loading > 0) {\n",
       "      console.log(\"Bokeh: BokehJS is being loaded, scheduling callback at\", now());\n",
       "      return null;\n",
       "    }\n",
       "    if (js_urls == null || js_urls.length === 0) {\n",
       "      run_callbacks();\n",
       "      return null;\n",
       "    }\n",
       "    console.log(\"Bokeh: BokehJS not loaded, scheduling load and callback at\", now());\n",
       "    root._bokeh_is_loading = js_urls.length;\n",
       "    for (var i = 0; i < js_urls.length; i++) {\n",
       "      var url = js_urls[i];\n",
       "      var s = document.createElement('script');\n",
       "      s.src = url;\n",
       "      s.async = false;\n",
       "      s.onreadystatechange = s.onload = function() {\n",
       "        root._bokeh_is_loading--;\n",
       "        if (root._bokeh_is_loading === 0) {\n",
       "          console.log(\"Bokeh: all BokehJS libraries loaded\");\n",
       "          run_callbacks()\n",
       "        }\n",
       "      };\n",
       "      s.onerror = function() {\n",
       "        console.warn(\"failed to load library \" + url);\n",
       "      };\n",
       "      console.log(\"Bokeh: injecting script tag for BokehJS library: \", url);\n",
       "      document.getElementsByTagName(\"head\")[0].appendChild(s);\n",
       "    }\n",
       "  };var element = document.getElementById(\"1bfc60fa-45c3-4c03-b595-cde087d7a4b1\");\n",
       "  if (element == null) {\n",
       "    console.log(\"Bokeh: ERROR: autoload.js configured with elementid '1bfc60fa-45c3-4c03-b595-cde087d7a4b1' but no matching script tag was found. \")\n",
       "    return false;\n",
       "  }\n",
       "\n",
       "  var js_urls = [\"https://cdn.pydata.org/bokeh/release/bokeh-0.13.0.min.js\", \"https://cdn.pydata.org/bokeh/release/bokeh-widgets-0.13.0.min.js\", \"https://cdn.pydata.org/bokeh/release/bokeh-tables-0.13.0.min.js\", \"https://cdn.pydata.org/bokeh/release/bokeh-gl-0.13.0.min.js\"];\n",
       "\n",
       "  var inline_js = [\n",
       "    function(Bokeh) {\n",
       "      Bokeh.set_log_level(\"info\");\n",
       "    },\n",
       "    \n",
       "    function(Bokeh) {\n",
       "      \n",
       "    },\n",
       "    function(Bokeh) {\n",
       "      console.log(\"Bokeh: injecting CSS: https://cdn.pydata.org/bokeh/release/bokeh-0.13.0.min.css\");\n",
       "      Bokeh.embed.inject_css(\"https://cdn.pydata.org/bokeh/release/bokeh-0.13.0.min.css\");\n",
       "      console.log(\"Bokeh: injecting CSS: https://cdn.pydata.org/bokeh/release/bokeh-widgets-0.13.0.min.css\");\n",
       "      Bokeh.embed.inject_css(\"https://cdn.pydata.org/bokeh/release/bokeh-widgets-0.13.0.min.css\");\n",
       "      console.log(\"Bokeh: injecting CSS: https://cdn.pydata.org/bokeh/release/bokeh-tables-0.13.0.min.css\");\n",
       "      Bokeh.embed.inject_css(\"https://cdn.pydata.org/bokeh/release/bokeh-tables-0.13.0.min.css\");\n",
       "    }\n",
       "  ];\n",
       "\n",
       "  function run_inline_js() {\n",
       "    \n",
       "    if ((root.Bokeh !== undefined) || (force === true)) {\n",
       "      for (var i = 0; i < inline_js.length; i++) {\n",
       "        inline_js[i].call(root, root.Bokeh);\n",
       "      }if (force === true) {\n",
       "        display_loaded();\n",
       "      }} else if (Date.now() < root._bokeh_timeout) {\n",
       "      setTimeout(run_inline_js, 100);\n",
       "    } else if (!root._bokeh_failed_load) {\n",
       "      console.log(\"Bokeh: BokehJS failed to load within specified timeout.\");\n",
       "      root._bokeh_failed_load = true;\n",
       "    } else if (force !== true) {\n",
       "      var cell = $(document.getElementById(\"1bfc60fa-45c3-4c03-b595-cde087d7a4b1\")).parents('.cell').data().cell;\n",
       "      cell.output_area.append_execute_result(NB_LOAD_WARNING)\n",
       "    }\n",
       "\n",
       "  }\n",
       "\n",
       "  if (root._bokeh_is_loading === 0) {\n",
       "    console.log(\"Bokeh: BokehJS loaded, going straight to plotting\");\n",
       "    run_inline_js();\n",
       "  } else {\n",
       "    load_libs(js_urls, function() {\n",
       "      console.log(\"Bokeh: BokehJS plotting callback run at\", now());\n",
       "      run_inline_js();\n",
       "    });\n",
       "  }\n",
       "}(window));"
      ],
      "application/vnd.bokehjs_load.v0+json": "\n(function(root) {\n  function now() {\n    return new Date();\n  }\n\n  var force = true;\n\n  if (typeof (root._bokeh_onload_callbacks) === \"undefined\" || force === true) {\n    root._bokeh_onload_callbacks = [];\n    root._bokeh_is_loading = undefined;\n  }\n\n  \n\n  \n  if (typeof (root._bokeh_timeout) === \"undefined\" || force === true) {\n    root._bokeh_timeout = Date.now() + 5000;\n    root._bokeh_failed_load = false;\n  }\n\n  var NB_LOAD_WARNING = {'data': {'text/html':\n     \"<div style='background-color: #fdd'>\\n\"+\n     \"<p>\\n\"+\n     \"BokehJS does not appear to have successfully loaded. If loading BokehJS from CDN, this \\n\"+\n     \"may be due to a slow or bad network connection. Possible fixes:\\n\"+\n     \"</p>\\n\"+\n     \"<ul>\\n\"+\n     \"<li>re-rerun `output_notebook()` to attempt to load from CDN again, or</li>\\n\"+\n     \"<li>use INLINE resources instead, as so:</li>\\n\"+\n     \"</ul>\\n\"+\n     \"<code>\\n\"+\n     \"from bokeh.resources import INLINE\\n\"+\n     \"output_notebook(resources=INLINE)\\n\"+\n     \"</code>\\n\"+\n     \"</div>\"}};\n\n  function display_loaded() {\n    var el = document.getElementById(\"1bfc60fa-45c3-4c03-b595-cde087d7a4b1\");\n    if (el != null) {\n      el.textContent = \"BokehJS is loading...\";\n    }\n    if (root.Bokeh !== undefined) {\n      if (el != null) {\n        el.textContent = \"BokehJS \" + root.Bokeh.version + \" successfully loaded.\";\n      }\n    } else if (Date.now() < root._bokeh_timeout) {\n      setTimeout(display_loaded, 100)\n    }\n  }\n\n\n  function run_callbacks() {\n    try {\n      root._bokeh_onload_callbacks.forEach(function(callback) { callback() });\n    }\n    finally {\n      delete root._bokeh_onload_callbacks\n    }\n    console.info(\"Bokeh: all callbacks have finished\");\n  }\n\n  function load_libs(js_urls, callback) {\n    root._bokeh_onload_callbacks.push(callback);\n    if (root._bokeh_is_loading > 0) {\n      console.log(\"Bokeh: BokehJS is being loaded, scheduling callback at\", now());\n      return null;\n    }\n    if (js_urls == null || js_urls.length === 0) {\n      run_callbacks();\n      return null;\n    }\n    console.log(\"Bokeh: BokehJS not loaded, scheduling load and callback at\", now());\n    root._bokeh_is_loading = js_urls.length;\n    for (var i = 0; i < js_urls.length; i++) {\n      var url = js_urls[i];\n      var s = document.createElement('script');\n      s.src = url;\n      s.async = false;\n      s.onreadystatechange = s.onload = function() {\n        root._bokeh_is_loading--;\n        if (root._bokeh_is_loading === 0) {\n          console.log(\"Bokeh: all BokehJS libraries loaded\");\n          run_callbacks()\n        }\n      };\n      s.onerror = function() {\n        console.warn(\"failed to load library \" + url);\n      };\n      console.log(\"Bokeh: injecting script tag for BokehJS library: \", url);\n      document.getElementsByTagName(\"head\")[0].appendChild(s);\n    }\n  };var element = document.getElementById(\"1bfc60fa-45c3-4c03-b595-cde087d7a4b1\");\n  if (element == null) {\n    console.log(\"Bokeh: ERROR: autoload.js configured with elementid '1bfc60fa-45c3-4c03-b595-cde087d7a4b1' but no matching script tag was found. \")\n    return false;\n  }\n\n  var js_urls = [\"https://cdn.pydata.org/bokeh/release/bokeh-0.13.0.min.js\", \"https://cdn.pydata.org/bokeh/release/bokeh-widgets-0.13.0.min.js\", \"https://cdn.pydata.org/bokeh/release/bokeh-tables-0.13.0.min.js\", \"https://cdn.pydata.org/bokeh/release/bokeh-gl-0.13.0.min.js\"];\n\n  var inline_js = [\n    function(Bokeh) {\n      Bokeh.set_log_level(\"info\");\n    },\n    \n    function(Bokeh) {\n      \n    },\n    function(Bokeh) {\n      console.log(\"Bokeh: injecting CSS: https://cdn.pydata.org/bokeh/release/bokeh-0.13.0.min.css\");\n      Bokeh.embed.inject_css(\"https://cdn.pydata.org/bokeh/release/bokeh-0.13.0.min.css\");\n      console.log(\"Bokeh: injecting CSS: https://cdn.pydata.org/bokeh/release/bokeh-widgets-0.13.0.min.css\");\n      Bokeh.embed.inject_css(\"https://cdn.pydata.org/bokeh/release/bokeh-widgets-0.13.0.min.css\");\n      console.log(\"Bokeh: injecting CSS: https://cdn.pydata.org/bokeh/release/bokeh-tables-0.13.0.min.css\");\n      Bokeh.embed.inject_css(\"https://cdn.pydata.org/bokeh/release/bokeh-tables-0.13.0.min.css\");\n    }\n  ];\n\n  function run_inline_js() {\n    \n    if ((root.Bokeh !== undefined) || (force === true)) {\n      for (var i = 0; i < inline_js.length; i++) {\n        inline_js[i].call(root, root.Bokeh);\n      }if (force === true) {\n        display_loaded();\n      }} else if (Date.now() < root._bokeh_timeout) {\n      setTimeout(run_inline_js, 100);\n    } else if (!root._bokeh_failed_load) {\n      console.log(\"Bokeh: BokehJS failed to load within specified timeout.\");\n      root._bokeh_failed_load = true;\n    } else if (force !== true) {\n      var cell = $(document.getElementById(\"1bfc60fa-45c3-4c03-b595-cde087d7a4b1\")).parents('.cell').data().cell;\n      cell.output_area.append_execute_result(NB_LOAD_WARNING)\n    }\n\n  }\n\n  if (root._bokeh_is_loading === 0) {\n    console.log(\"Bokeh: BokehJS loaded, going straight to plotting\");\n    run_inline_js();\n  } else {\n    load_libs(js_urls, function() {\n      console.log(\"Bokeh: BokehJS plotting callback run at\", now());\n      run_inline_js();\n    });\n  }\n}(window));"
     },
     "metadata": {},
     "output_type": "display_data"
    }
   ],
   "source": [
    "from bokeh.io import output_notebook\n",
    "output_notebook()"
   ]
  },
  {
   "cell_type": "code",
   "execution_count": 11,
   "metadata": {},
   "outputs": [
    {
     "data": {
      "text/html": [
       "\n",
       "\n",
       "\n",
       "\n",
       "\n",
       "\n",
       "  <div class=\"bk-root\" id=\"ba28e2d7-5df8-4d77-89ec-059e32d54dd0\"></div>\n"
      ]
     },
     "metadata": {},
     "output_type": "display_data"
    },
    {
     "data": {
      "application/javascript": [
       "(function(root) {\n",
       "  function embed_document(root) {\n",
       "    \n",
       "  var docs_json = {\"1fd02b46-f81c-49dc-b2a6-4e2d487a7d3b\":{\"roots\":{\"references\":[{\"attributes\":{\"callback\":null,\"renderers\":\"auto\"},\"id\":\"bbd8c758-87d0-4617-8e58-c8ad872e0c21\",\"type\":\"HoverTool\"},{\"attributes\":{\"callback\":null},\"id\":\"5ba5ae9a-8d02-4710-be1c-4810e488908b\",\"type\":\"DataRange1d\"},{\"attributes\":{},\"id\":\"7e2c0d7e-65f9-4240-a55f-d6dcd16b30a7\",\"type\":\"SaveTool\"},{\"attributes\":{\"callback\":null,\"data\":{\"color\":[\"#c5b0d5\",\"#1f77b4\",\"#9467bd\",\"#1f77b4\",\"#9467bd\",\"#aec7e8\",\"#1f77b4\",\"#c5b0d5\",\"#9467bd\",\"#2ca02c\",\"#ff7f0e\",\"#1f77b4\",\"#c5b0d5\",\"#aec7e8\",\"#c5b0d5\",\"#1f77b4\",\"#2ca02c\",\"#d62728\",\"#1f77b4\",\"#9467bd\",\"#ff9896\",\"#ff7f0e\",\"#1f77b4\",\"#aec7e8\",\"#9467bd\",\"#ff9896\",\"#1f77b4\",\"#1f77b4\",\"#ff7f0e\",\"#ff9896\",\"#c5b0d5\",\"#ffbb78\",\"#1f77b4\",\"#aec7e8\",\"#d62728\",\"#ff7f0e\",\"#2ca02c\",\"#ff7f0e\",\"#ff7f0e\",\"#1f77b4\",\"#98df8a\",\"#c5b0d5\",\"#ff7f0e\",\"#2ca02c\",\"#9467bd\",\"#98df8a\",\"#c5b0d5\",\"#2ca02c\",\"#d62728\",\"#2ca02c\",\"#1f77b4\",\"#d62728\",\"#c5b0d5\",\"#ff7f0e\",\"#aec7e8\",\"#ffbb78\",\"#aec7e8\",\"#c5b0d5\",\"#aec7e8\",\"#ff7f0e\",\"#aec7e8\",\"#aec7e8\",\"#c5b0d5\",\"#d62728\",\"#98df8a\",\"#98df8a\",\"#1f77b4\",\"#d62728\",\"#1f77b4\",\"#ff7f0e\",\"#1f77b4\",\"#1f77b4\",\"#ff9896\",\"#aec7e8\",\"#ff7f0e\",\"#98df8a\",\"#9467bd\",\"#ff9896\",\"#ff7f0e\",\"#ffbb78\",\"#98df8a\",\"#2ca02c\",\"#1f77b4\",\"#c5b0d5\",\"#ff7f0e\",\"#1f77b4\",\"#aec7e8\",\"#ff7f0e\",\"#9467bd\",\"#9467bd\",\"#98df8a\",\"#ffbb78\",\"#aec7e8\",\"#2ca02c\",\"#c5b0d5\",\"#ffbb78\",\"#9467bd\",\"#ff9896\",\"#9467bd\",\"#ff7f0e\",\"#2ca02c\",\"#2ca02c\",\"#9467bd\",\"#2ca02c\",\"#ffbb78\",\"#d62728\",\"#9467bd\",\"#9467bd\",\"#9467bd\",\"#aec7e8\",\"#1f77b4\",\"#9467bd\",\"#1f77b4\",\"#aec7e8\",\"#98df8a\",\"#ff7f0e\",\"#d62728\",\"#2ca02c\",\"#ff9896\",\"#ff7f0e\",\"#1f77b4\",\"#aec7e8\",\"#1f77b4\",\"#c5b0d5\",\"#1f77b4\",\"#aec7e8\",\"#ff9896\",\"#ff7f0e\",\"#c5b0d5\",\"#aec7e8\",\"#d62728\",\"#1f77b4\",\"#d62728\",\"#ff7f0e\",\"#1f77b4\",\"#1f77b4\",\"#aec7e8\",\"#aec7e8\",\"#ff9896\",\"#1f77b4\",\"#1f77b4\",\"#1f77b4\",\"#98df8a\",\"#aec7e8\",\"#98df8a\",\"#c5b0d5\",\"#2ca02c\",\"#d62728\",\"#1f77b4\",\"#ff9896\",\"#ff9896\",\"#1f77b4\",\"#ff7f0e\",\"#ff7f0e\",\"#ff7f0e\",\"#98df8a\",\"#ff9896\",\"#d62728\",\"#aec7e8\",\"#9467bd\",\"#aec7e8\",\"#2ca02c\",\"#ff7f0e\",\"#aec7e8\",\"#ffbb78\",\"#ff9896\",\"#ff9896\",\"#ff7f0e\",\"#1f77b4\",\"#ffbb78\",\"#9467bd\",\"#2ca02c\",\"#ff7f0e\",\"#ff7f0e\",\"#c5b0d5\",\"#2ca02c\",\"#ff7f0e\",\"#2ca02c\",\"#98df8a\",\"#ff7f0e\",\"#ff9896\",\"#9467bd\",\"#2ca02c\",\"#ff9896\",\"#aec7e8\",\"#2ca02c\",\"#ff7f0e\",\"#1f77b4\",\"#d62728\",\"#ffbb78\",\"#d62728\",\"#ff7f0e\",\"#98df8a\",\"#d62728\",\"#9467bd\",\"#d62728\",\"#ffbb78\",\"#aec7e8\",\"#1f77b4\",\"#d62728\",\"#aec7e8\",\"#9467bd\",\"#2ca02c\",\"#aec7e8\",\"#aec7e8\",\"#1f77b4\",\"#ff9896\",\"#1f77b4\",\"#aec7e8\",\"#98df8a\",\"#c5b0d5\",\"#ff7f0e\",\"#ff9896\",\"#c5b0d5\",\"#c5b0d5\",\"#d62728\",\"#c5b0d5\",\"#ff9896\",\"#1f77b4\",\"#d62728\",\"#c5b0d5\",\"#1f77b4\",\"#2ca02c\",\"#d62728\",\"#2ca02c\",\"#1f77b4\",\"#c5b0d5\",\"#ff9896\",\"#1f77b4\",\"#ffbb78\",\"#1f77b4\",\"#c5b0d5\",\"#1f77b4\",\"#1f77b4\",\"#c5b0d5\",\"#1f77b4\",\"#c5b0d5\",\"#aec7e8\",\"#9467bd\",\"#ffbb78\",\"#98df8a\",\"#ff7f0e\",\"#2ca02c\",\"#9467bd\",\"#aec7e8\",\"#2ca02c\",\"#aec7e8\",\"#ff9896\",\"#2ca02c\",\"#ffbb78\",\"#1f77b4\",\"#ffbb78\",\"#c5b0d5\",\"#ffbb78\",\"#aec7e8\",\"#aec7e8\",\"#1f77b4\",\"#aec7e8\",\"#ff7f0e\",\"#1f77b4\",\"#ff7f0e\",\"#9467bd\",\"#c5b0d5\",\"#2ca02c\",\"#9467bd\",\"#aec7e8\",\"#c5b0d5\",\"#ff9896\",\"#ff7f0e\",\"#2ca02c\",\"#c5b0d5\",\"#98df8a\",\"#ffbb78\",\"#aec7e8\",\"#1f77b4\",\"#1f77b4\",\"#2ca02c\",\"#9467bd\",\"#aec7e8\",\"#1f77b4\",\"#98df8a\",\"#9467bd\",\"#ff9896\",\"#ff9896\",\"#ffbb78\",\"#ff7f0e\",\"#ffbb78\",\"#ff9896\",\"#9467bd\",\"#ff7f0e\",\"#1f77b4\",\"#d62728\",\"#98df8a\",\"#ff9896\",\"#1f77b4\",\"#aec7e8\",\"#aec7e8\",\"#aec7e8\",\"#ffbb78\",\"#1f77b4\",\"#aec7e8\",\"#1f77b4\",\"#9467bd\",\"#d62728\",\"#d62728\",\"#9467bd\",\"#ff9896\",\"#ff7f0e\",\"#c5b0d5\",\"#98df8a\",\"#c5b0d5\",\"#2ca02c\",\"#98df8a\",\"#9467bd\",\"#ff7f0e\",\"#aec7e8\",\"#aec7e8\",\"#ffbb78\",\"#98df8a\",\"#ff9896\",\"#1f77b4\",\"#1f77b4\",\"#ff7f0e\",\"#ff7f0e\",\"#ffbb78\",\"#aec7e8\",\"#aec7e8\",\"#98df8a\",\"#c5b0d5\",\"#c5b0d5\",\"#9467bd\",\"#2ca02c\",\"#1f77b4\",\"#2ca02c\",\"#aec7e8\",\"#1f77b4\",\"#1f77b4\",\"#9467bd\",\"#c5b0d5\",\"#98df8a\",\"#2ca02c\",\"#2ca02c\",\"#2ca02c\",\"#ff9896\",\"#ff7f0e\",\"#1f77b4\",\"#9467bd\",\"#2ca02c\",\"#ff7f0e\",\"#ffbb78\",\"#aec7e8\",\"#ff9896\",\"#c5b0d5\",\"#9467bd\",\"#9467bd\",\"#aec7e8\",\"#ff9896\",\"#9467bd\",\"#aec7e8\",\"#ff7f0e\",\"#98df8a\",\"#ffbb78\",\"#aec7e8\",\"#ff7f0e\",\"#1f77b4\",\"#ffbb78\",\"#aec7e8\",\"#98df8a\",\"#aec7e8\",\"#d62728\",\"#aec7e8\",\"#2ca02c\",\"#98df8a\",\"#aec7e8\",\"#ffbb78\",\"#ff7f0e\",\"#1f77b4\",\"#1f77b4\",\"#1f77b4\",\"#ffbb78\",\"#ff7f0e\",\"#aec7e8\",\"#ff7f0e\",\"#ffbb78\",\"#ff9896\",\"#ff7f0e\",\"#ffbb78\",\"#ff7f0e\",\"#98df8a\",\"#ff9896\",\"#2ca02c\",\"#c5b0d5\",\"#d62728\",\"#c5b0d5\",\"#c5b0d5\",\"#ff9896\",\"#aec7e8\",\"#d62728\",\"#2ca02c\",\"#d62728\",\"#aec7e8\",\"#ff7f0e\",\"#98df8a\",\"#9467bd\",\"#2ca02c\",\"#ffbb78\",\"#ffbb78\",\"#ff7f0e\",\"#ff7f0e\",\"#98df8a\",\"#2ca02c\",\"#98df8a\",\"#ff9896\",\"#98df8a\",\"#aec7e8\",\"#aec7e8\",\"#c5b0d5\",\"#aec7e8\",\"#d62728\",\"#2ca02c\",\"#d62728\",\"#aec7e8\",\"#aec7e8\",\"#ff7f0e\",\"#98df8a\",\"#aec7e8\",\"#1f77b4\",\"#ffbb78\",\"#2ca02c\",\"#ffbb78\",\"#c5b0d5\",\"#ffbb78\",\"#ff9896\",\"#9467bd\",\"#c5b0d5\",\"#9467bd\",\"#aec7e8\",\"#aec7e8\",\"#2ca02c\",\"#ffbb78\",\"#c5b0d5\",\"#ff9896\",\"#98df8a\",\"#ff9896\",\"#ff9896\",\"#2ca02c\",\"#ff7f0e\",\"#ffbb78\",\"#d62728\",\"#1f77b4\",\"#2ca02c\",\"#9467bd\",\"#2ca02c\",\"#c5b0d5\",\"#1f77b4\",\"#c5b0d5\",\"#ff9896\",\"#d62728\",\"#9467bd\",\"#aec7e8\",\"#9467bd\",\"#ff7f0e\",\"#c5b0d5\",\"#98df8a\",\"#ffbb78\",\"#d62728\",\"#98df8a\",\"#ffbb78\",\"#c5b0d5\",\"#ff9896\",\"#d62728\",\"#1f77b4\",\"#d62728\",\"#98df8a\",\"#98df8a\",\"#d62728\",\"#c5b0d5\",\"#9467bd\",\"#ff7f0e\",\"#1f77b4\",\"#ffbb78\",\"#ff7f0e\",\"#ff7f0e\",\"#ff9896\",\"#9467bd\",\"#9467bd\",\"#98df8a\",\"#ffbb78\",\"#c5b0d5\",\"#98df8a\",\"#1f77b4\",\"#ff7f0e\",\"#1f77b4\",\"#1f77b4\",\"#1f77b4\",\"#aec7e8\",\"#1f77b4\",\"#9467bd\",\"#aec7e8\",\"#aec7e8\",\"#1f77b4\",\"#ff9896\",\"#ff7f0e\",\"#9467bd\",\"#2ca02c\",\"#9467bd\",\"#aec7e8\",\"#2ca02c\",\"#9467bd\",\"#c5b0d5\",\"#ffbb78\",\"#ff9896\",\"#1f77b4\",\"#9467bd\",\"#d62728\",\"#aec7e8\",\"#98df8a\",\"#aec7e8\",\"#9467bd\",\"#aec7e8\",\"#ff9896\",\"#d62728\",\"#ff7f0e\",\"#c5b0d5\",\"#aec7e8\",\"#ffbb78\",\"#ff9896\",\"#aec7e8\",\"#ff9896\",\"#ffbb78\",\"#ff9896\",\"#98df8a\",\"#2ca02c\",\"#1f77b4\",\"#ff7f0e\",\"#ff9896\",\"#aec7e8\",\"#d62728\",\"#2ca02c\",\"#ff7f0e\",\"#98df8a\",\"#2ca02c\",\"#2ca02c\",\"#c5b0d5\",\"#98df8a\",\"#2ca02c\",\"#98df8a\",\"#ffbb78\",\"#9467bd\",\"#1f77b4\",\"#9467bd\",\"#1f77b4\",\"#ff9896\",\"#ff7f0e\",\"#1f77b4\",\"#d62728\",\"#aec7e8\",\"#1f77b4\",\"#1f77b4\",\"#aec7e8\",\"#ff7f0e\",\"#aec7e8\",\"#2ca02c\",\"#ff7f0e\",\"#c5b0d5\",\"#d62728\",\"#1f77b4\",\"#2ca02c\",\"#ff7f0e\",\"#ff9896\",\"#c5b0d5\",\"#1f77b4\",\"#ff7f0e\",\"#2ca02c\",\"#1f77b4\",\"#c5b0d5\",\"#ff9896\",\"#98df8a\",\"#ff9896\",\"#2ca02c\",\"#aec7e8\",\"#1f77b4\",\"#d62728\",\"#ff7f0e\",\"#ff7f0e\",\"#ff7f0e\",\"#aec7e8\",\"#aec7e8\",\"#9467bd\",\"#ff7f0e\",\"#ffbb78\",\"#ff7f0e\",\"#ff9896\",\"#ff7f0e\",\"#aec7e8\",\"#aec7e8\",\"#aec7e8\",\"#aec7e8\",\"#c5b0d5\",\"#98df8a\",\"#ffbb78\",\"#ffbb78\",\"#c5b0d5\",\"#aec7e8\",\"#ff9896\",\"#2ca02c\",\"#aec7e8\",\"#1f77b4\",\"#c5b0d5\",\"#aec7e8\",\"#aec7e8\",\"#aec7e8\",\"#1f77b4\",\"#1f77b4\",\"#ff7f0e\",\"#aec7e8\",\"#9467bd\",\"#ffbb78\",\"#c5b0d5\",\"#c5b0d5\",\"#98df8a\",\"#98df8a\",\"#1f77b4\",\"#c5b0d5\",\"#9467bd\",\"#ff7f0e\",\"#ffbb78\",\"#d62728\",\"#d62728\",\"#ff7f0e\",\"#9467bd\",\"#9467bd\",\"#1f77b4\",\"#ff9896\",\"#1f77b4\",\"#9467bd\",\"#1f77b4\",\"#1f77b4\",\"#9467bd\",\"#aec7e8\",\"#ff7f0e\",\"#98df8a\",\"#ffbb78\",\"#ff7f0e\",\"#d62728\",\"#ff7f0e\",\"#1f77b4\",\"#ff9896\",\"#98df8a\",\"#1f77b4\",\"#ff7f0e\",\"#2ca02c\",\"#aec7e8\",\"#ff9896\",\"#ff7f0e\",\"#2ca02c\",\"#d62728\",\"#ffbb78\",\"#aec7e8\",\"#1f77b4\",\"#98df8a\",\"#2ca02c\",\"#98df8a\",\"#1f77b4\",\"#c5b0d5\",\"#1f77b4\",\"#d62728\",\"#ff7f0e\",\"#98df8a\",\"#1f77b4\",\"#d62728\",\"#1f77b4\",\"#ff9896\",\"#c5b0d5\",\"#ff7f0e\",\"#d62728\",\"#1f77b4\",\"#d62728\",\"#ff9896\",\"#1f77b4\",\"#aec7e8\",\"#1f77b4\",\"#1f77b4\",\"#c5b0d5\",\"#9467bd\",\"#9467bd\",\"#ffbb78\",\"#aec7e8\",\"#1f77b4\",\"#c5b0d5\",\"#ff7f0e\",\"#2ca02c\",\"#98df8a\",\"#ffbb78\",\"#ffbb78\",\"#98df8a\",\"#98df8a\",\"#98df8a\",\"#1f77b4\",\"#98df8a\",\"#1f77b4\",\"#2ca02c\",\"#9467bd\",\"#ff9896\",\"#98df8a\",\"#ff7f0e\",\"#ff7f0e\",\"#9467bd\",\"#1f77b4\",\"#aec7e8\",\"#c5b0d5\",\"#d62728\",\"#2ca02c\",\"#c5b0d5\",\"#c5b0d5\",\"#2ca02c\",\"#c5b0d5\",\"#aec7e8\",\"#d62728\",\"#ffbb78\",\"#ff9896\",\"#1f77b4\",\"#1f77b4\",\"#d62728\",\"#ff7f0e\",\"#ff7f0e\",\"#ffbb78\",\"#aec7e8\",\"#c5b0d5\",\"#1f77b4\",\"#98df8a\",\"#aec7e8\",\"#9467bd\",\"#98df8a\",\"#1f77b4\",\"#2ca02c\",\"#aec7e8\",\"#c5b0d5\",\"#d62728\",\"#98df8a\",\"#ff7f0e\",\"#9467bd\",\"#2ca02c\",\"#aec7e8\",\"#ff9896\",\"#2ca02c\",\"#d62728\",\"#ff9896\",\"#2ca02c\",\"#d62728\",\"#98df8a\",\"#2ca02c\",\"#aec7e8\",\"#ff7f0e\",\"#1f77b4\",\"#ff7f0e\",\"#aec7e8\",\"#1f77b4\",\"#ffbb78\",\"#2ca02c\",\"#aec7e8\",\"#ff9896\",\"#ff7f0e\",\"#1f77b4\",\"#ff7f0e\",\"#c5b0d5\",\"#d62728\",\"#1f77b4\",\"#1f77b4\",\"#aec7e8\",\"#9467bd\",\"#2ca02c\",\"#ff7f0e\",\"#ffbb78\",\"#1f77b4\",\"#aec7e8\",\"#d62728\",\"#ff7f0e\",\"#1f77b4\",\"#1f77b4\",\"#ff9896\",\"#9467bd\",\"#2ca02c\",\"#1f77b4\",\"#ff9896\",\"#1f77b4\",\"#1f77b4\",\"#c5b0d5\",\"#1f77b4\",\"#c5b0d5\",\"#ff7f0e\",\"#ff7f0e\",\"#ffbb78\",\"#1f77b4\",\"#c5b0d5\",\"#d62728\",\"#d62728\",\"#ffbb78\",\"#aec7e8\",\"#aec7e8\",\"#2ca02c\",\"#ffbb78\",\"#aec7e8\",\"#ff7f0e\",\"#ff9896\",\"#ff9896\",\"#d62728\",\"#ff7f0e\",\"#ff7f0e\",\"#d62728\",\"#2ca02c\",\"#9467bd\",\"#9467bd\",\"#98df8a\",\"#c5b0d5\",\"#d62728\",\"#ffbb78\",\"#aec7e8\",\"#1f77b4\",\"#ff9896\",\"#ff7f0e\",\"#ffbb78\",\"#aec7e8\",\"#ff7f0e\",\"#d62728\",\"#ff7f0e\",\"#98df8a\",\"#ff9896\",\"#2ca02c\",\"#1f77b4\",\"#aec7e8\",\"#aec7e8\",\"#c5b0d5\",\"#1f77b4\",\"#2ca02c\",\"#1f77b4\",\"#c5b0d5\",\"#ff9896\",\"#ffbb78\",\"#9467bd\",\"#2ca02c\",\"#d62728\",\"#ff7f0e\",\"#1f77b4\",\"#2ca02c\",\"#ff9896\",\"#98df8a\",\"#aec7e8\",\"#1f77b4\",\"#d62728\",\"#c5b0d5\",\"#c5b0d5\",\"#2ca02c\",\"#1f77b4\",\"#ffbb78\",\"#1f77b4\",\"#ffbb78\",\"#98df8a\",\"#aec7e8\",\"#1f77b4\",\"#aec7e8\",\"#1f77b4\",\"#d62728\",\"#c5b0d5\",\"#ffbb78\",\"#ffbb78\",\"#1f77b4\",\"#d62728\",\"#c5b0d5\",\"#98df8a\",\"#d62728\",\"#1f77b4\",\"#aec7e8\",\"#1f77b4\",\"#d62728\",\"#98df8a\",\"#c5b0d5\",\"#98df8a\",\"#9467bd\",\"#c5b0d5\",\"#aec7e8\",\"#aec7e8\",\"#ff9896\",\"#aec7e8\",\"#aec7e8\",\"#c5b0d5\",\"#1f77b4\",\"#1f77b4\",\"#1f77b4\",\"#98df8a\",\"#98df8a\",\"#9467bd\",\"#aec7e8\",\"#aec7e8\",\"#c5b0d5\",\"#d62728\",\"#ff7f0e\",\"#ff7f0e\",\"#1f77b4\",\"#ff9896\",\"#c5b0d5\",\"#ff9896\",\"#98df8a\",\"#ffbb78\",\"#2ca02c\",\"#98df8a\",\"#1f77b4\",\"#c5b0d5\",\"#1f77b4\",\"#d62728\",\"#d62728\",\"#c5b0d5\",\"#ff9896\",\"#1f77b4\",\"#1f77b4\",\"#d62728\",\"#2ca02c\",\"#d62728\",\"#9467bd\",\"#aec7e8\",\"#d62728\",\"#98df8a\",\"#ff9896\",\"#1f77b4\",\"#c5b0d5\",\"#2ca02c\",\"#98df8a\",\"#2ca02c\",\"#ff9896\",\"#ff9896\",\"#d62728\",\"#ffbb78\",\"#2ca02c\",\"#ffbb78\",\"#98df8a\",\"#ff9896\",\"#ff7f0e\",\"#1f77b4\",\"#ff9896\",\"#ff7f0e\",\"#2ca02c\",\"#1f77b4\",\"#1f77b4\",\"#9467bd\",\"#d62728\",\"#9467bd\",\"#98df8a\",\"#d62728\",\"#ff9896\",\"#1f77b4\",\"#ff7f0e\",\"#98df8a\",\"#1f77b4\",\"#ffbb78\",\"#c5b0d5\",\"#1f77b4\",\"#98df8a\",\"#ff7f0e\",\"#1f77b4\",\"#98df8a\",\"#1f77b4\",\"#2ca02c\",\"#2ca02c\",\"#aec7e8\",\"#1f77b4\",\"#c5b0d5\",\"#1f77b4\",\"#1f77b4\",\"#1f77b4\",\"#ff9896\",\"#9467bd\",\"#d62728\",\"#1f77b4\",\"#9467bd\",\"#d62728\",\"#aec7e8\",\"#c5b0d5\",\"#c5b0d5\",\"#c5b0d5\",\"#2ca02c\",\"#ff7f0e\",\"#ff7f0e\",\"#1f77b4\",\"#1f77b4\",\"#d62728\",\"#1f77b4\",\"#ff9896\",\"#2ca02c\",\"#1f77b4\",\"#1f77b4\",\"#ffbb78\",\"#9467bd\",\"#1f77b4\",\"#98df8a\",\"#2ca02c\",\"#1f77b4\",\"#1f77b4\",\"#2ca02c\",\"#9467bd\",\"#ffbb78\",\"#1f77b4\",\"#ff7f0e\",\"#c5b0d5\",\"#1f77b4\",\"#9467bd\",\"#ff7f0e\",\"#1f77b4\",\"#98df8a\",\"#d62728\",\"#ff9896\",\"#ffbb78\",\"#1f77b4\",\"#1f77b4\",\"#d62728\",\"#1f77b4\",\"#d62728\",\"#ffbb78\",\"#aec7e8\",\"#9467bd\",\"#d62728\",\"#ffbb78\",\"#ffbb78\",\"#1f77b4\",\"#2ca02c\",\"#aec7e8\",\"#1f77b4\",\"#2ca02c\",\"#98df8a\",\"#ffbb78\",\"#aec7e8\",\"#98df8a\",\"#ffbb78\",\"#ff7f0e\",\"#ff7f0e\",\"#1f77b4\",\"#98df8a\",\"#1f77b4\",\"#c5b0d5\",\"#ffbb78\",\"#ff7f0e\",\"#ff7f0e\",\"#98df8a\",\"#1f77b4\",\"#1f77b4\",\"#ff9896\",\"#c5b0d5\",\"#c5b0d5\",\"#d62728\",\"#98df8a\",\"#ff7f0e\",\"#ff9896\",\"#c5b0d5\",\"#ff9896\",\"#1f77b4\",\"#ff7f0e\",\"#ffbb78\",\"#ffbb78\",\"#ff7f0e\",\"#ff7f0e\",\"#ff7f0e\",\"#c5b0d5\",\"#1f77b4\",\"#d62728\",\"#2ca02c\",\"#d62728\",\"#aec7e8\",\"#ffbb78\",\"#d62728\",\"#aec7e8\",\"#1f77b4\",\"#aec7e8\",\"#aec7e8\",\"#1f77b4\",\"#aec7e8\",\"#d62728\",\"#ff9896\",\"#2ca02c\",\"#1f77b4\",\"#2ca02c\",\"#ff9896\",\"#2ca02c\",\"#ffbb78\",\"#ff7f0e\",\"#9467bd\",\"#ff7f0e\",\"#aec7e8\",\"#d62728\",\"#ffbb78\",\"#9467bd\",\"#98df8a\",\"#d62728\",\"#ff7f0e\",\"#2ca02c\",\"#ff7f0e\",\"#ffbb78\",\"#d62728\",\"#2ca02c\",\"#2ca02c\",\"#d62728\",\"#c5b0d5\",\"#ff7f0e\",\"#ffbb78\",\"#d62728\",\"#ff9896\",\"#ff9896\",\"#1f77b4\",\"#aec7e8\",\"#ffbb78\",\"#ffbb78\",\"#ffbb78\",\"#ffbb78\",\"#ffbb78\",\"#ffbb78\",\"#ff9896\",\"#aec7e8\",\"#c5b0d5\",\"#9467bd\",\"#ff9896\",\"#1f77b4\",\"#2ca02c\",\"#ff9896\",\"#2ca02c\",\"#2ca02c\",\"#2ca02c\",\"#1f77b4\",\"#ffbb78\",\"#d62728\",\"#98df8a\",\"#ff9896\",\"#aec7e8\",\"#ffbb78\",\"#1f77b4\",\"#ff7f0e\",\"#ff7f0e\",\"#d62728\",\"#9467bd\",\"#c5b0d5\",\"#9467bd\",\"#c5b0d5\",\"#aec7e8\",\"#ff7f0e\",\"#98df8a\",\"#98df8a\",\"#2ca02c\",\"#ff7f0e\",\"#c5b0d5\",\"#98df8a\",\"#1f77b4\",\"#ffbb78\",\"#1f77b4\",\"#ffbb78\",\"#ffbb78\",\"#aec7e8\",\"#2ca02c\",\"#ff7f0e\",\"#aec7e8\",\"#1f77b4\",\"#ff9896\",\"#1f77b4\",\"#9467bd\",\"#aec7e8\",\"#9467bd\",\"#c5b0d5\",\"#aec7e8\",\"#9467bd\",\"#ff7f0e\",\"#d62728\",\"#d62728\",\"#1f77b4\",\"#c5b0d5\",\"#98df8a\",\"#1f77b4\",\"#1f77b4\",\"#c5b0d5\",\"#d62728\",\"#ffbb78\",\"#98df8a\",\"#ff7f0e\",\"#ff7f0e\",\"#98df8a\",\"#c5b0d5\",\"#d62728\",\"#98df8a\",\"#1f77b4\",\"#98df8a\",\"#9467bd\",\"#1f77b4\",\"#1f77b4\",\"#98df8a\",\"#ffbb78\",\"#ffbb78\",\"#1f77b4\",\"#c5b0d5\",\"#aec7e8\",\"#aec7e8\",\"#d62728\",\"#d62728\",\"#aec7e8\",\"#1f77b4\",\"#2ca02c\",\"#ff9896\",\"#ff9896\",\"#2ca02c\",\"#ff7f0e\",\"#ff9896\",\"#98df8a\",\"#c5b0d5\",\"#aec7e8\",\"#9467bd\",\"#2ca02c\",\"#2ca02c\",\"#2ca02c\",\"#aec7e8\",\"#aec7e8\",\"#98df8a\",\"#aec7e8\",\"#98df8a\",\"#aec7e8\",\"#aec7e8\",\"#98df8a\",\"#ffbb78\",\"#ffbb78\",\"#1f77b4\",\"#1f77b4\",\"#d62728\",\"#aec7e8\",\"#98df8a\",\"#d62728\",\"#ffbb78\",\"#2ca02c\",\"#98df8a\",\"#98df8a\",\"#ffbb78\",\"#1f77b4\",\"#ff7f0e\",\"#1f77b4\",\"#9467bd\",\"#ff7f0e\",\"#1f77b4\",\"#aec7e8\",\"#c5b0d5\",\"#d62728\",\"#aec7e8\",\"#aec7e8\",\"#9467bd\",\"#9467bd\",\"#ff7f0e\",\"#1f77b4\",\"#d62728\",\"#ffbb78\",\"#aec7e8\",\"#aec7e8\",\"#1f77b4\",\"#d62728\",\"#aec7e8\",\"#1f77b4\",\"#2ca02c\",\"#ffbb78\",\"#9467bd\",\"#aec7e8\",\"#1f77b4\",\"#aec7e8\",\"#9467bd\",\"#ff9896\",\"#d62728\",\"#1f77b4\",\"#ff9896\",\"#ff9896\",\"#2ca02c\",\"#ff9896\",\"#2ca02c\",\"#ff7f0e\",\"#9467bd\",\"#1f77b4\",\"#d62728\",\"#aec7e8\",\"#d62728\",\"#c5b0d5\",\"#2ca02c\",\"#ff9896\",\"#98df8a\",\"#2ca02c\",\"#aec7e8\",\"#1f77b4\",\"#1f77b4\",\"#2ca02c\",\"#aec7e8\",\"#aec7e8\",\"#9467bd\",\"#ff7f0e\",\"#ff9896\",\"#2ca02c\",\"#d62728\",\"#c5b0d5\",\"#ffbb78\",\"#ffbb78\",\"#9467bd\",\"#ff7f0e\",\"#2ca02c\",\"#ff7f0e\",\"#9467bd\",\"#1f77b4\",\"#aec7e8\",\"#2ca02c\",\"#aec7e8\",\"#ff7f0e\",\"#2ca02c\",\"#ff9896\",\"#1f77b4\",\"#d62728\",\"#aec7e8\",\"#ffbb78\",\"#ff7f0e\",\"#d62728\",\"#1f77b4\",\"#c5b0d5\",\"#1f77b4\",\"#2ca02c\",\"#ff7f0e\",\"#ffbb78\",\"#1f77b4\",\"#aec7e8\",\"#ff9896\",\"#1f77b4\",\"#9467bd\",\"#aec7e8\",\"#ff7f0e\",\"#1f77b4\",\"#aec7e8\",\"#d62728\",\"#1f77b4\",\"#98df8a\",\"#1f77b4\",\"#1f77b4\",\"#c5b0d5\",\"#ff7f0e\",\"#aec7e8\",\"#aec7e8\",\"#ff9896\",\"#aec7e8\",\"#d62728\",\"#9467bd\",\"#c5b0d5\",\"#c5b0d5\",\"#d62728\",\"#c5b0d5\",\"#2ca02c\",\"#ff7f0e\",\"#aec7e8\",\"#ff9896\",\"#d62728\",\"#1f77b4\",\"#c5b0d5\",\"#9467bd\",\"#ff9896\",\"#ff9896\",\"#c5b0d5\",\"#1f77b4\",\"#d62728\",\"#d62728\",\"#ffbb78\",\"#2ca02c\",\"#aec7e8\",\"#9467bd\",\"#c5b0d5\",\"#2ca02c\",\"#ffbb78\",\"#98df8a\",\"#98df8a\",\"#aec7e8\",\"#1f77b4\",\"#1f77b4\",\"#ff9896\",\"#c5b0d5\",\"#aec7e8\",\"#1f77b4\",\"#2ca02c\",\"#c5b0d5\",\"#2ca02c\",\"#c5b0d5\",\"#ff7f0e\",\"#ff7f0e\",\"#aec7e8\",\"#aec7e8\",\"#1f77b4\",\"#c5b0d5\",\"#c5b0d5\",\"#98df8a\",\"#ff7f0e\",\"#ff9896\",\"#2ca02c\",\"#aec7e8\",\"#1f77b4\",\"#ffbb78\",\"#c5b0d5\",\"#aec7e8\",\"#1f77b4\",\"#ffbb78\",\"#9467bd\",\"#aec7e8\",\"#d62728\",\"#aec7e8\",\"#aec7e8\",\"#2ca02c\",\"#98df8a\",\"#1f77b4\",\"#c5b0d5\",\"#ff7f0e\",\"#d62728\",\"#ff9896\",\"#ffbb78\",\"#1f77b4\",\"#aec7e8\",\"#1f77b4\",\"#d62728\",\"#1f77b4\",\"#98df8a\",\"#98df8a\",\"#9467bd\",\"#c5b0d5\",\"#1f77b4\",\"#aec7e8\",\"#2ca02c\",\"#c5b0d5\",\"#ffbb78\",\"#aec7e8\",\"#ffbb78\",\"#c5b0d5\",\"#d62728\",\"#c5b0d5\",\"#d62728\",\"#ff7f0e\",\"#1f77b4\",\"#ff9896\",\"#ff7f0e\",\"#9467bd\",\"#98df8a\",\"#ffbb78\",\"#9467bd\",\"#aec7e8\",\"#ff9896\",\"#ff7f0e\",\"#ff9896\",\"#aec7e8\",\"#1f77b4\",\"#ff9896\",\"#9467bd\",\"#98df8a\",\"#ffbb78\",\"#c5b0d5\",\"#ffbb78\",\"#ff9896\",\"#ffbb78\",\"#c5b0d5\",\"#9467bd\",\"#c5b0d5\",\"#ff9896\",\"#2ca02c\",\"#d62728\",\"#d62728\",\"#ffbb78\",\"#1f77b4\",\"#ff9896\",\"#9467bd\",\"#ff7f0e\",\"#aec7e8\",\"#2ca02c\",\"#c5b0d5\",\"#98df8a\",\"#ffbb78\",\"#2ca02c\",\"#d62728\",\"#ff7f0e\",\"#ff9896\",\"#ff7f0e\",\"#c5b0d5\",\"#98df8a\",\"#ff7f0e\",\"#ff7f0e\",\"#ff7f0e\",\"#aec7e8\",\"#aec7e8\",\"#aec7e8\",\"#ff7f0e\",\"#98df8a\",\"#1f77b4\",\"#ff9896\",\"#1f77b4\",\"#c5b0d5\",\"#ff7f0e\",\"#aec7e8\",\"#ffbb78\",\"#aec7e8\",\"#d62728\",\"#ffbb78\",\"#ffbb78\",\"#aec7e8\",\"#ff9896\",\"#98df8a\",\"#2ca02c\",\"#d62728\",\"#c5b0d5\",\"#ff9896\",\"#1f77b4\",\"#9467bd\",\"#ffbb78\",\"#ff7f0e\",\"#ff7f0e\",\"#d62728\",\"#1f77b4\",\"#1f77b4\",\"#1f77b4\",\"#1f77b4\",\"#ff7f0e\",\"#ff9896\",\"#d62728\",\"#aec7e8\",\"#aec7e8\",\"#1f77b4\",\"#ff7f0e\",\"#ff7f0e\",\"#1f77b4\",\"#d62728\",\"#1f77b4\",\"#2ca02c\",\"#aec7e8\",\"#1f77b4\",\"#9467bd\",\"#1f77b4\",\"#98df8a\",\"#d62728\",\"#c5b0d5\",\"#2ca02c\",\"#aec7e8\",\"#c5b0d5\",\"#1f77b4\",\"#c5b0d5\",\"#ff7f0e\",\"#d62728\",\"#aec7e8\",\"#98df8a\",\"#2ca02c\",\"#ffbb78\",\"#d62728\",\"#aec7e8\",\"#c5b0d5\",\"#1f77b4\",\"#aec7e8\",\"#ffbb78\",\"#ff7f0e\",\"#ff7f0e\",\"#ff9896\",\"#2ca02c\",\"#ff7f0e\",\"#ff9896\",\"#ff7f0e\",\"#1f77b4\",\"#2ca02c\",\"#98df8a\",\"#98df8a\",\"#9467bd\",\"#98df8a\",\"#c5b0d5\",\"#1f77b4\",\"#ffbb78\",\"#aec7e8\",\"#ffbb78\",\"#d62728\",\"#9467bd\",\"#aec7e8\",\"#ff7f0e\",\"#c5b0d5\",\"#d62728\",\"#2ca02c\",\"#9467bd\",\"#1f77b4\",\"#ff9896\",\"#9467bd\",\"#aec7e8\",\"#98df8a\",\"#aec7e8\",\"#c5b0d5\",\"#aec7e8\",\"#d62728\",\"#1f77b4\",\"#1f77b4\",\"#1f77b4\",\"#1f77b4\",\"#ff9896\",\"#ff9896\",\"#2ca02c\",\"#98df8a\",\"#1f77b4\",\"#1f77b4\",\"#1f77b4\",\"#1f77b4\",\"#1f77b4\",\"#aec7e8\",\"#ff9896\",\"#d62728\",\"#d62728\",\"#aec7e8\",\"#c5b0d5\",\"#ffbb78\",\"#ff9896\",\"#ff9896\",\"#1f77b4\",\"#2ca02c\",\"#ff7f0e\",\"#aec7e8\",\"#c5b0d5\",\"#c5b0d5\",\"#c5b0d5\",\"#1f77b4\",\"#2ca02c\",\"#2ca02c\",\"#c5b0d5\",\"#ff9896\",\"#1f77b4\",\"#9467bd\",\"#2ca02c\",\"#aec7e8\",\"#d62728\",\"#c5b0d5\",\"#ff7f0e\",\"#c5b0d5\",\"#2ca02c\",\"#2ca02c\",\"#2ca02c\",\"#1f77b4\",\"#2ca02c\",\"#1f77b4\",\"#c5b0d5\",\"#c5b0d5\",\"#ff9896\",\"#2ca02c\",\"#ff7f0e\",\"#c5b0d5\",\"#9467bd\",\"#ff7f0e\",\"#d62728\",\"#1f77b4\",\"#9467bd\",\"#c5b0d5\",\"#aec7e8\",\"#98df8a\",\"#98df8a\",\"#d62728\",\"#2ca02c\",\"#d62728\",\"#ff9896\",\"#ff9896\",\"#ffbb78\",\"#ffbb78\",\"#ff7f0e\",\"#98df8a\",\"#1f77b4\",\"#aec7e8\",\"#2ca02c\",\"#1f77b4\",\"#ffbb78\",\"#9467bd\",\"#c5b0d5\",\"#aec7e8\",\"#ff9896\",\"#9467bd\",\"#9467bd\",\"#1f77b4\",\"#1f77b4\",\"#ffbb78\",\"#1f77b4\",\"#c5b0d5\",\"#aec7e8\",\"#ff7f0e\",\"#1f77b4\",\"#ff9896\",\"#2ca02c\",\"#ff9896\",\"#1f77b4\",\"#9467bd\",\"#98df8a\",\"#aec7e8\",\"#1f77b4\",\"#1f77b4\",\"#aec7e8\",\"#1f77b4\",\"#2ca02c\",\"#ff9896\",\"#1f77b4\",\"#c5b0d5\",\"#2ca02c\",\"#ff9896\",\"#98df8a\",\"#1f77b4\",\"#aec7e8\",\"#d62728\",\"#aec7e8\",\"#aec7e8\",\"#c5b0d5\",\"#98df8a\",\"#1f77b4\",\"#ffbb78\",\"#1f77b4\",\"#9467bd\",\"#1f77b4\",\"#d62728\",\"#aec7e8\",\"#ff9896\",\"#ff7f0e\",\"#9467bd\",\"#aec7e8\",\"#1f77b4\",\"#ff7f0e\",\"#ff7f0e\",\"#1f77b4\",\"#1f77b4\",\"#aec7e8\",\"#d62728\",\"#2ca02c\",\"#aec7e8\",\"#ffbb78\",\"#ff7f0e\",\"#1f77b4\",\"#1f77b4\",\"#2ca02c\",\"#ff7f0e\",\"#aec7e8\",\"#ffbb78\",\"#ffbb78\",\"#2ca02c\",\"#1f77b4\",\"#1f77b4\",\"#2ca02c\",\"#aec7e8\",\"#c5b0d5\",\"#ff9896\",\"#2ca02c\",\"#ff9896\",\"#ff9896\",\"#ff9896\",\"#aec7e8\",\"#2ca02c\",\"#aec7e8\",\"#d62728\",\"#ffbb78\",\"#1f77b4\",\"#1f77b4\",\"#ff7f0e\",\"#ffbb78\",\"#c5b0d5\",\"#9467bd\",\"#1f77b4\",\"#1f77b4\",\"#1f77b4\",\"#ff9896\",\"#2ca02c\",\"#d62728\",\"#ff9896\",\"#2ca02c\",\"#c5b0d5\",\"#aec7e8\",\"#98df8a\",\"#2ca02c\",\"#9467bd\",\"#ff9896\",\"#9467bd\",\"#1f77b4\",\"#ff9896\",\"#d62728\",\"#ffbb78\",\"#ff7f0e\",\"#2ca02c\",\"#c5b0d5\",\"#9467bd\",\"#1f77b4\",\"#1f77b4\",\"#aec7e8\",\"#1f77b4\",\"#ff7f0e\",\"#ff9896\",\"#2ca02c\",\"#98df8a\",\"#2ca02c\",\"#98df8a\",\"#aec7e8\",\"#98df8a\",\"#9467bd\",\"#aec7e8\",\"#aec7e8\",\"#1f77b4\",\"#1f77b4\",\"#c5b0d5\",\"#c5b0d5\",\"#98df8a\",\"#9467bd\",\"#9467bd\",\"#1f77b4\",\"#98df8a\",\"#1f77b4\",\"#1f77b4\",\"#1f77b4\",\"#aec7e8\",\"#1f77b4\",\"#1f77b4\",\"#aec7e8\",\"#d62728\",\"#ff7f0e\",\"#1f77b4\",\"#ffbb78\",\"#aec7e8\",\"#ff9896\",\"#d62728\",\"#ff9896\",\"#ff9896\",\"#1f77b4\",\"#2ca02c\",\"#1f77b4\",\"#aec7e8\",\"#9467bd\",\"#ff9896\",\"#9467bd\",\"#c5b0d5\",\"#ffbb78\",\"#2ca02c\",\"#aec7e8\",\"#1f77b4\",\"#1f77b4\",\"#98df8a\",\"#d62728\",\"#aec7e8\",\"#1f77b4\",\"#98df8a\",\"#9467bd\",\"#d62728\",\"#aec7e8\",\"#ff9896\",\"#1f77b4\",\"#ffbb78\",\"#1f77b4\",\"#ffbb78\",\"#aec7e8\",\"#98df8a\",\"#ff7f0e\",\"#d62728\",\"#aec7e8\",\"#2ca02c\",\"#aec7e8\",\"#d62728\",\"#1f77b4\",\"#1f77b4\",\"#ff7f0e\",\"#c5b0d5\",\"#ffbb78\",\"#ffbb78\",\"#ff7f0e\",\"#1f77b4\",\"#1f77b4\",\"#ffbb78\",\"#aec7e8\",\"#aec7e8\"],\"label\":[\"9\",\"0\",\"8\",\"0\",\"8\",\"1\",\"0\",\"9\",\"8\",\"4\",\"2\",\"0\",\"9\",\"1\",\"9\",\"0\",\"4\",\"6\",\"0\",\"8\",\"7\",\"2\",\"0\",\"1\",\"8\",\"7\",\"0\",\"0\",\"2\",\"7\",\"9\",\"3\",\"0\",\"1\",\"6\",\"2\",\"4\",\"2\",\"2\",\"0\",\"5\",\"9\",\"2\",\"4\",\"8\",\"5\",\"9\",\"4\",\"6\",\"4\",\"0\",\"6\",\"9\",\"2\",\"1\",\"3\",\"1\",\"9\",\"1\",\"2\",\"1\",\"1\",\"9\",\"6\",\"5\",\"5\",\"0\",\"6\",\"0\",\"2\",\"0\",\"0\",\"7\",\"1\",\"2\",\"5\",\"8\",\"7\",\"2\",\"3\",\"5\",\"4\",\"0\",\"9\",\"2\",\"0\",\"1\",\"2\",\"8\",\"8\",\"5\",\"3\",\"1\",\"4\",\"9\",\"3\",\"8\",\"7\",\"8\",\"2\",\"4\",\"4\",\"8\",\"4\",\"3\",\"6\",\"8\",\"8\",\"8\",\"1\",\"0\",\"8\",\"0\",\"1\",\"5\",\"2\",\"6\",\"4\",\"7\",\"2\",\"0\",\"1\",\"0\",\"9\",\"0\",\"1\",\"7\",\"2\",\"9\",\"1\",\"6\",\"0\",\"6\",\"2\",\"0\",\"0\",\"1\",\"1\",\"7\",\"0\",\"0\",\"0\",\"5\",\"1\",\"5\",\"9\",\"4\",\"6\",\"0\",\"7\",\"7\",\"0\",\"2\",\"2\",\"2\",\"5\",\"7\",\"6\",\"1\",\"8\",\"1\",\"4\",\"2\",\"1\",\"3\",\"7\",\"7\",\"2\",\"0\",\"3\",\"8\",\"4\",\"2\",\"2\",\"9\",\"4\",\"2\",\"4\",\"5\",\"2\",\"7\",\"8\",\"4\",\"7\",\"1\",\"4\",\"2\",\"0\",\"6\",\"3\",\"6\",\"2\",\"5\",\"6\",\"8\",\"6\",\"3\",\"1\",\"0\",\"6\",\"1\",\"8\",\"4\",\"1\",\"1\",\"0\",\"7\",\"0\",\"1\",\"5\",\"9\",\"2\",\"7\",\"9\",\"9\",\"6\",\"9\",\"7\",\"0\",\"6\",\"9\",\"0\",\"4\",\"6\",\"4\",\"0\",\"9\",\"7\",\"0\",\"3\",\"0\",\"9\",\"0\",\"0\",\"9\",\"0\",\"9\",\"1\",\"8\",\"3\",\"5\",\"2\",\"4\",\"8\",\"1\",\"4\",\"1\",\"7\",\"4\",\"3\",\"0\",\"3\",\"9\",\"3\",\"1\",\"1\",\"0\",\"1\",\"2\",\"0\",\"2\",\"8\",\"9\",\"4\",\"8\",\"1\",\"9\",\"7\",\"2\",\"4\",\"9\",\"5\",\"3\",\"1\",\"0\",\"0\",\"4\",\"8\",\"1\",\"0\",\"5\",\"8\",\"7\",\"7\",\"3\",\"2\",\"3\",\"7\",\"8\",\"2\",\"0\",\"6\",\"5\",\"7\",\"0\",\"1\",\"1\",\"1\",\"3\",\"0\",\"1\",\"0\",\"8\",\"6\",\"6\",\"8\",\"7\",\"2\",\"9\",\"5\",\"9\",\"4\",\"5\",\"8\",\"2\",\"1\",\"1\",\"3\",\"5\",\"7\",\"0\",\"0\",\"2\",\"2\",\"3\",\"1\",\"1\",\"5\",\"9\",\"9\",\"8\",\"4\",\"0\",\"4\",\"1\",\"0\",\"0\",\"8\",\"9\",\"5\",\"4\",\"4\",\"4\",\"7\",\"2\",\"0\",\"8\",\"4\",\"2\",\"3\",\"1\",\"7\",\"9\",\"8\",\"8\",\"1\",\"7\",\"8\",\"1\",\"2\",\"5\",\"3\",\"1\",\"2\",\"0\",\"3\",\"1\",\"5\",\"1\",\"6\",\"1\",\"4\",\"5\",\"1\",\"3\",\"2\",\"0\",\"0\",\"0\",\"3\",\"2\",\"1\",\"2\",\"3\",\"7\",\"2\",\"3\",\"2\",\"5\",\"7\",\"4\",\"9\",\"6\",\"9\",\"9\",\"7\",\"1\",\"6\",\"4\",\"6\",\"1\",\"2\",\"5\",\"8\",\"4\",\"3\",\"3\",\"2\",\"2\",\"5\",\"4\",\"5\",\"7\",\"5\",\"1\",\"1\",\"9\",\"1\",\"6\",\"4\",\"6\",\"1\",\"1\",\"2\",\"5\",\"1\",\"0\",\"3\",\"4\",\"3\",\"9\",\"3\",\"7\",\"8\",\"9\",\"8\",\"1\",\"1\",\"4\",\"3\",\"9\",\"7\",\"5\",\"7\",\"7\",\"4\",\"2\",\"3\",\"6\",\"0\",\"4\",\"8\",\"4\",\"9\",\"0\",\"9\",\"7\",\"6\",\"8\",\"1\",\"8\",\"2\",\"9\",\"5\",\"3\",\"6\",\"5\",\"3\",\"9\",\"7\",\"6\",\"0\",\"6\",\"5\",\"5\",\"6\",\"9\",\"8\",\"2\",\"0\",\"3\",\"2\",\"2\",\"7\",\"8\",\"8\",\"5\",\"3\",\"9\",\"5\",\"0\",\"2\",\"0\",\"0\",\"0\",\"1\",\"0\",\"8\",\"1\",\"1\",\"0\",\"7\",\"2\",\"8\",\"4\",\"8\",\"1\",\"4\",\"8\",\"9\",\"3\",\"7\",\"0\",\"8\",\"6\",\"1\",\"5\",\"1\",\"8\",\"1\",\"7\",\"6\",\"2\",\"9\",\"1\",\"3\",\"7\",\"1\",\"7\",\"3\",\"7\",\"5\",\"4\",\"0\",\"2\",\"7\",\"1\",\"6\",\"4\",\"2\",\"5\",\"4\",\"4\",\"9\",\"5\",\"4\",\"5\",\"3\",\"8\",\"0\",\"8\",\"0\",\"7\",\"2\",\"0\",\"6\",\"1\",\"0\",\"0\",\"1\",\"2\",\"1\",\"4\",\"2\",\"9\",\"6\",\"0\",\"4\",\"2\",\"7\",\"9\",\"0\",\"2\",\"4\",\"0\",\"9\",\"7\",\"5\",\"7\",\"4\",\"1\",\"0\",\"6\",\"2\",\"2\",\"2\",\"1\",\"1\",\"8\",\"2\",\"3\",\"2\",\"7\",\"2\",\"1\",\"1\",\"1\",\"1\",\"9\",\"5\",\"3\",\"3\",\"9\",\"1\",\"7\",\"4\",\"1\",\"0\",\"9\",\"1\",\"1\",\"1\",\"0\",\"0\",\"2\",\"1\",\"8\",\"3\",\"9\",\"9\",\"5\",\"5\",\"0\",\"9\",\"8\",\"2\",\"3\",\"6\",\"6\",\"2\",\"8\",\"8\",\"0\",\"7\",\"0\",\"8\",\"0\",\"0\",\"8\",\"1\",\"2\",\"5\",\"3\",\"2\",\"6\",\"2\",\"0\",\"7\",\"5\",\"0\",\"2\",\"4\",\"1\",\"7\",\"2\",\"4\",\"6\",\"3\",\"1\",\"0\",\"5\",\"4\",\"5\",\"0\",\"9\",\"0\",\"6\",\"2\",\"5\",\"0\",\"6\",\"0\",\"7\",\"9\",\"2\",\"6\",\"0\",\"6\",\"7\",\"0\",\"1\",\"0\",\"0\",\"9\",\"8\",\"8\",\"3\",\"1\",\"0\",\"9\",\"2\",\"4\",\"5\",\"3\",\"3\",\"5\",\"5\",\"5\",\"0\",\"5\",\"0\",\"4\",\"8\",\"7\",\"5\",\"2\",\"2\",\"8\",\"0\",\"1\",\"9\",\"6\",\"4\",\"9\",\"9\",\"4\",\"9\",\"1\",\"6\",\"3\",\"7\",\"0\",\"0\",\"6\",\"2\",\"2\",\"3\",\"1\",\"9\",\"0\",\"5\",\"1\",\"8\",\"5\",\"0\",\"4\",\"1\",\"9\",\"6\",\"5\",\"2\",\"8\",\"4\",\"1\",\"7\",\"4\",\"6\",\"7\",\"4\",\"6\",\"5\",\"4\",\"1\",\"2\",\"0\",\"2\",\"1\",\"0\",\"3\",\"4\",\"1\",\"7\",\"2\",\"0\",\"2\",\"9\",\"6\",\"0\",\"0\",\"1\",\"8\",\"4\",\"2\",\"3\",\"0\",\"1\",\"6\",\"2\",\"0\",\"0\",\"7\",\"8\",\"4\",\"0\",\"7\",\"0\",\"0\",\"9\",\"0\",\"9\",\"2\",\"2\",\"3\",\"0\",\"9\",\"6\",\"6\",\"3\",\"1\",\"1\",\"4\",\"3\",\"1\",\"2\",\"7\",\"7\",\"6\",\"2\",\"2\",\"6\",\"4\",\"8\",\"8\",\"5\",\"9\",\"6\",\"3\",\"1\",\"0\",\"7\",\"2\",\"3\",\"1\",\"2\",\"6\",\"2\",\"5\",\"7\",\"4\",\"0\",\"1\",\"1\",\"9\",\"0\",\"4\",\"0\",\"9\",\"7\",\"3\",\"8\",\"4\",\"6\",\"2\",\"0\",\"4\",\"7\",\"5\",\"1\",\"0\",\"6\",\"9\",\"9\",\"4\",\"0\",\"3\",\"0\",\"3\",\"5\",\"1\",\"0\",\"1\",\"0\",\"6\",\"9\",\"3\",\"3\",\"0\",\"6\",\"9\",\"5\",\"6\",\"0\",\"1\",\"0\",\"6\",\"5\",\"9\",\"5\",\"8\",\"9\",\"1\",\"1\",\"7\",\"1\",\"1\",\"9\",\"0\",\"0\",\"0\",\"5\",\"5\",\"8\",\"1\",\"1\",\"9\",\"6\",\"2\",\"2\",\"0\",\"7\",\"9\",\"7\",\"5\",\"3\",\"4\",\"5\",\"0\",\"9\",\"0\",\"6\",\"6\",\"9\",\"7\",\"0\",\"0\",\"6\",\"4\",\"6\",\"8\",\"1\",\"6\",\"5\",\"7\",\"0\",\"9\",\"4\",\"5\",\"4\",\"7\",\"7\",\"6\",\"3\",\"4\",\"3\",\"5\",\"7\",\"2\",\"0\",\"7\",\"2\",\"4\",\"0\",\"0\",\"8\",\"6\",\"8\",\"5\",\"6\",\"7\",\"0\",\"2\",\"5\",\"0\",\"3\",\"9\",\"0\",\"5\",\"2\",\"0\",\"5\",\"0\",\"4\",\"4\",\"1\",\"0\",\"9\",\"0\",\"0\",\"0\",\"7\",\"8\",\"6\",\"0\",\"8\",\"6\",\"1\",\"9\",\"9\",\"9\",\"4\",\"2\",\"2\",\"0\",\"0\",\"6\",\"0\",\"7\",\"4\",\"0\",\"0\",\"3\",\"8\",\"0\",\"5\",\"4\",\"0\",\"0\",\"4\",\"8\",\"3\",\"0\",\"2\",\"9\",\"0\",\"8\",\"2\",\"0\",\"5\",\"6\",\"7\",\"3\",\"0\",\"0\",\"6\",\"0\",\"6\",\"3\",\"1\",\"8\",\"6\",\"3\",\"3\",\"0\",\"4\",\"1\",\"0\",\"4\",\"5\",\"3\",\"1\",\"5\",\"3\",\"2\",\"2\",\"0\",\"5\",\"0\",\"9\",\"3\",\"2\",\"2\",\"5\",\"0\",\"0\",\"7\",\"9\",\"9\",\"6\",\"5\",\"2\",\"7\",\"9\",\"7\",\"0\",\"2\",\"3\",\"3\",\"2\",\"2\",\"2\",\"9\",\"0\",\"6\",\"4\",\"6\",\"1\",\"3\",\"6\",\"1\",\"0\",\"1\",\"1\",\"0\",\"1\",\"6\",\"7\",\"4\",\"0\",\"4\",\"7\",\"4\",\"3\",\"2\",\"8\",\"2\",\"1\",\"6\",\"3\",\"8\",\"5\",\"6\",\"2\",\"4\",\"2\",\"3\",\"6\",\"4\",\"4\",\"6\",\"9\",\"2\",\"3\",\"6\",\"7\",\"7\",\"0\",\"1\",\"3\",\"3\",\"3\",\"3\",\"3\",\"3\",\"7\",\"1\",\"9\",\"8\",\"7\",\"0\",\"4\",\"7\",\"4\",\"4\",\"4\",\"0\",\"3\",\"6\",\"5\",\"7\",\"1\",\"3\",\"0\",\"2\",\"2\",\"6\",\"8\",\"9\",\"8\",\"9\",\"1\",\"2\",\"5\",\"5\",\"4\",\"2\",\"9\",\"5\",\"0\",\"3\",\"0\",\"3\",\"3\",\"1\",\"4\",\"2\",\"1\",\"0\",\"7\",\"0\",\"8\",\"1\",\"8\",\"9\",\"1\",\"8\",\"2\",\"6\",\"6\",\"0\",\"9\",\"5\",\"0\",\"0\",\"9\",\"6\",\"3\",\"5\",\"2\",\"2\",\"5\",\"9\",\"6\",\"5\",\"0\",\"5\",\"8\",\"0\",\"0\",\"5\",\"3\",\"3\",\"0\",\"9\",\"1\",\"1\",\"6\",\"6\",\"1\",\"0\",\"4\",\"7\",\"7\",\"4\",\"2\",\"7\",\"5\",\"9\",\"1\",\"8\",\"4\",\"4\",\"4\",\"1\",\"1\",\"5\",\"1\",\"5\",\"1\",\"1\",\"5\",\"3\",\"3\",\"0\",\"0\",\"6\",\"1\",\"5\",\"6\",\"3\",\"4\",\"5\",\"5\",\"3\",\"0\",\"2\",\"0\",\"8\",\"2\",\"0\",\"1\",\"9\",\"6\",\"1\",\"1\",\"8\",\"8\",\"2\",\"0\",\"6\",\"3\",\"1\",\"1\",\"0\",\"6\",\"1\",\"0\",\"4\",\"3\",\"8\",\"1\",\"0\",\"1\",\"8\",\"7\",\"6\",\"0\",\"7\",\"7\",\"4\",\"7\",\"4\",\"2\",\"8\",\"0\",\"6\",\"1\",\"6\",\"9\",\"4\",\"7\",\"5\",\"4\",\"1\",\"0\",\"0\",\"4\",\"1\",\"1\",\"8\",\"2\",\"7\",\"4\",\"6\",\"9\",\"3\",\"3\",\"8\",\"2\",\"4\",\"2\",\"8\",\"0\",\"1\",\"4\",\"1\",\"2\",\"4\",\"7\",\"0\",\"6\",\"1\",\"3\",\"2\",\"6\",\"0\",\"9\",\"0\",\"4\",\"2\",\"3\",\"0\",\"1\",\"7\",\"0\",\"8\",\"1\",\"2\",\"0\",\"1\",\"6\",\"0\",\"5\",\"0\",\"0\",\"9\",\"2\",\"1\",\"1\",\"7\",\"1\",\"6\",\"8\",\"9\",\"9\",\"6\",\"9\",\"4\",\"2\",\"1\",\"7\",\"6\",\"0\",\"9\",\"8\",\"7\",\"7\",\"9\",\"0\",\"6\",\"6\",\"3\",\"4\",\"1\",\"8\",\"9\",\"4\",\"3\",\"5\",\"5\",\"1\",\"0\",\"0\",\"7\",\"9\",\"1\",\"0\",\"4\",\"9\",\"4\",\"9\",\"2\",\"2\",\"1\",\"1\",\"0\",\"9\",\"9\",\"5\",\"2\",\"7\",\"4\",\"1\",\"0\",\"3\",\"9\",\"1\",\"0\",\"3\",\"8\",\"1\",\"6\",\"1\",\"1\",\"4\",\"5\",\"0\",\"9\",\"2\",\"6\",\"7\",\"3\",\"0\",\"1\",\"0\",\"6\",\"0\",\"5\",\"5\",\"8\",\"9\",\"0\",\"1\",\"4\",\"9\",\"3\",\"1\",\"3\",\"9\",\"6\",\"9\",\"6\",\"2\",\"0\",\"7\",\"2\",\"8\",\"5\",\"3\",\"8\",\"1\",\"7\",\"2\",\"7\",\"1\",\"0\",\"7\",\"8\",\"5\",\"3\",\"9\",\"3\",\"7\",\"3\",\"9\",\"8\",\"9\",\"7\",\"4\",\"6\",\"6\",\"3\",\"0\",\"7\",\"8\",\"2\",\"1\",\"4\",\"9\",\"5\",\"3\",\"4\",\"6\",\"2\",\"7\",\"2\",\"9\",\"5\",\"2\",\"2\",\"2\",\"1\",\"1\",\"1\",\"2\",\"5\",\"0\",\"7\",\"0\",\"9\",\"2\",\"1\",\"3\",\"1\",\"6\",\"3\",\"3\",\"1\",\"7\",\"5\",\"4\",\"6\",\"9\",\"7\",\"0\",\"8\",\"3\",\"2\",\"2\",\"6\",\"0\",\"0\",\"0\",\"0\",\"2\",\"7\",\"6\",\"1\",\"1\",\"0\",\"2\",\"2\",\"0\",\"6\",\"0\",\"4\",\"1\",\"0\",\"8\",\"0\",\"5\",\"6\",\"9\",\"4\",\"1\",\"9\",\"0\",\"9\",\"2\",\"6\",\"1\",\"5\",\"4\",\"3\",\"6\",\"1\",\"9\",\"0\",\"1\",\"3\",\"2\",\"2\",\"7\",\"4\",\"2\",\"7\",\"2\",\"0\",\"4\",\"5\",\"5\",\"8\",\"5\",\"9\",\"0\",\"3\",\"1\",\"3\",\"6\",\"8\",\"1\",\"2\",\"9\",\"6\",\"4\",\"8\",\"0\",\"7\",\"8\",\"1\",\"5\",\"1\",\"9\",\"1\",\"6\",\"0\",\"0\",\"0\",\"0\",\"7\",\"7\",\"4\",\"5\",\"0\",\"0\",\"0\",\"0\",\"0\",\"1\",\"7\",\"6\",\"6\",\"1\",\"9\",\"3\",\"7\",\"7\",\"0\",\"4\",\"2\",\"1\",\"9\",\"9\",\"9\",\"0\",\"4\",\"4\",\"9\",\"7\",\"0\",\"8\",\"4\",\"1\",\"6\",\"9\",\"2\",\"9\",\"4\",\"4\",\"4\",\"0\",\"4\",\"0\",\"9\",\"9\",\"7\",\"4\",\"2\",\"9\",\"8\",\"2\",\"6\",\"0\",\"8\",\"9\",\"1\",\"5\",\"5\",\"6\",\"4\",\"6\",\"7\",\"7\",\"3\",\"3\",\"2\",\"5\",\"0\",\"1\",\"4\",\"0\",\"3\",\"8\",\"9\",\"1\",\"7\",\"8\",\"8\",\"0\",\"0\",\"3\",\"0\",\"9\",\"1\",\"2\",\"0\",\"7\",\"4\",\"7\",\"0\",\"8\",\"5\",\"1\",\"0\",\"0\",\"1\",\"0\",\"4\",\"7\",\"0\",\"9\",\"4\",\"7\",\"5\",\"0\",\"1\",\"6\",\"1\",\"1\",\"9\",\"5\",\"0\",\"3\",\"0\",\"8\",\"0\",\"6\",\"1\",\"7\",\"2\",\"8\",\"1\",\"0\",\"2\",\"2\",\"0\",\"0\",\"1\",\"6\",\"4\",\"1\",\"3\",\"2\",\"0\",\"0\",\"4\",\"2\",\"1\",\"3\",\"3\",\"4\",\"0\",\"0\",\"4\",\"1\",\"9\",\"7\",\"4\",\"7\",\"7\",\"7\",\"1\",\"4\",\"1\",\"6\",\"3\",\"0\",\"0\",\"2\",\"3\",\"9\",\"8\",\"0\",\"0\",\"0\",\"7\",\"4\",\"6\",\"7\",\"4\",\"9\",\"1\",\"5\",\"4\",\"8\",\"7\",\"8\",\"0\",\"7\",\"6\",\"3\",\"2\",\"4\",\"9\",\"8\",\"0\",\"0\",\"1\",\"0\",\"2\",\"7\",\"4\",\"5\",\"4\",\"5\",\"1\",\"5\",\"8\",\"1\",\"1\",\"0\",\"0\",\"9\",\"9\",\"5\",\"8\",\"8\",\"0\",\"5\",\"0\",\"0\",\"0\",\"1\",\"0\",\"0\",\"1\",\"6\",\"2\",\"0\",\"3\",\"1\",\"7\",\"6\",\"7\",\"7\",\"0\",\"4\",\"0\",\"1\",\"8\",\"7\",\"8\",\"9\",\"3\",\"4\",\"1\",\"0\",\"0\",\"5\",\"6\",\"1\",\"0\",\"5\",\"8\",\"6\",\"1\",\"7\",\"0\",\"3\",\"0\",\"3\",\"1\",\"5\",\"2\",\"6\",\"1\",\"4\",\"1\",\"6\",\"0\",\"0\",\"2\",\"9\",\"3\",\"3\",\"2\",\"0\",\"0\",\"3\",\"1\",\"1\"],\"x\":{\"__ndarray__\":\"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\",\"dtype\":\"float32\",\"shape\":[1860]},\"y\":{\"__ndarray__\":\"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\",\"dtype\":\"float32\",\"shape\":[1860]}},\"selected\":{\"id\":\"d504981a-9f54-4279-9aa7-24a986be6b07\",\"type\":\"Selection\"},\"selection_policy\":{\"id\":\"0debfd85-5db2-41ae-996b-603da1423abd\",\"type\":\"UnionRenderers\"}},\"id\":\"1656b3ea-be7b-46f6-ad8c-fb12f5881b79\",\"type\":\"ColumnDataSource\"},{\"attributes\":{\"min_border\":1,\"plot_height\":500,\"plot_width\":700,\"renderers\":[{\"id\":\"6f321a26-e3f7-47dd-ac52-6917a25d11e3\",\"type\":\"BoxAnnotation\"},{\"id\":\"f67918b8-ba09-4609-a8a8-89dffec3fcdd\",\"type\":\"Legend\"},{\"id\":\"1efc5d83-a596-4c40-b4b3-8d37b9b76fd8\",\"type\":\"GlyphRenderer\"},{\"id\":\"f67918b8-ba09-4609-a8a8-89dffec3fcdd\",\"type\":\"Legend\"}],\"right\":[{\"id\":\"f67918b8-ba09-4609-a8a8-89dffec3fcdd\",\"type\":\"Legend\"}],\"title\":{\"id\":\"17a70535-6ac8-45c6-bac3-29cec4b6bdb5\",\"type\":\"Title\"},\"toolbar\":{\"id\":\"b29ad53a-7e23-474c-8c1b-3444c07bdebc\",\"type\":\"Toolbar\"},\"x_range\":{\"id\":\"824b0821-0bce-4ba8-bd2c-a1d99006d907\",\"type\":\"DataRange1d\"},\"x_scale\":{\"id\":\"299e4d34-b9eb-4ba0-a463-d7fa0a273799\",\"type\":\"LinearScale\"},\"y_range\":{\"id\":\"5ba5ae9a-8d02-4710-be1c-4810e488908b\",\"type\":\"DataRange1d\"},\"y_scale\":{\"id\":\"822b0597-c73c-4664-b44c-349de84fa1e8\",\"type\":\"LinearScale\"}},\"id\":\"1253e36c-eaac-47eb-8fcc-0d8ef4f201ba\",\"subtype\":\"Figure\",\"type\":\"Plot\"},{\"attributes\":{\"label\":{\"field\":\"label\"},\"renderers\":[{\"id\":\"1efc5d83-a596-4c40-b4b3-8d37b9b76fd8\",\"type\":\"GlyphRenderer\"}]},\"id\":\"ceb9af62-e04d-4e8d-8cdb-ef298e9561d9\",\"type\":\"LegendItem\"},{\"attributes\":{\"plot\":null,\"text\":\"\"},\"id\":\"17a70535-6ac8-45c6-bac3-29cec4b6bdb5\",\"type\":\"Title\"},{\"attributes\":{},\"id\":\"0debfd85-5db2-41ae-996b-603da1423abd\",\"type\":\"UnionRenderers\"},{\"attributes\":{\"source\":{\"id\":\"1656b3ea-be7b-46f6-ad8c-fb12f5881b79\",\"type\":\"ColumnDataSource\"}},\"id\":\"629648ec-20df-4502-891a-fcb3a87bac5c\",\"type\":\"CDSView\"},{\"attributes\":{},\"id\":\"299e4d34-b9eb-4ba0-a463-d7fa0a273799\",\"type\":\"LinearScale\"},{\"attributes\":{},\"id\":\"d504981a-9f54-4279-9aa7-24a986be6b07\",\"type\":\"Selection\"},{\"attributes\":{\"callback\":null},\"id\":\"824b0821-0bce-4ba8-bd2c-a1d99006d907\",\"type\":\"DataRange1d\"},{\"attributes\":{\"fill_color\":{\"field\":\"color\"},\"line_color\":{\"field\":\"color\"},\"x\":{\"field\":\"x\"},\"y\":{\"field\":\"y\"}},\"id\":\"9d439dd6-5553-4d63-a5f5-5e0ded5e0cd4\",\"type\":\"Circle\"},{\"attributes\":{},\"id\":\"742b47bc-84d2-4e0a-a51d-53507bd1bab6\",\"type\":\"WheelZoomTool\"},{\"attributes\":{},\"id\":\"822b0597-c73c-4664-b44c-349de84fa1e8\",\"type\":\"LinearScale\"},{\"attributes\":{\"active_drag\":\"auto\",\"active_inspect\":\"auto\",\"active_multi\":null,\"active_scroll\":\"auto\",\"active_tap\":\"auto\",\"tools\":[{\"id\":\"3f0326f6-2353-41a0-bd33-1e23ba6742e6\",\"type\":\"PanTool\"},{\"id\":\"742b47bc-84d2-4e0a-a51d-53507bd1bab6\",\"type\":\"WheelZoomTool\"},{\"id\":\"13d3bfe8-f964-4c6e-bf37-34ef1041f1d6\",\"type\":\"BoxZoomTool\"},{\"id\":\"fff6f3bb-a913-4e60-93f3-b7cb48b44881\",\"type\":\"ResetTool\"},{\"id\":\"bbd8c758-87d0-4617-8e58-c8ad872e0c21\",\"type\":\"HoverTool\"},{\"id\":\"7e2c0d7e-65f9-4240-a55f-d6dcd16b30a7\",\"type\":\"SaveTool\"}]},\"id\":\"b29ad53a-7e23-474c-8c1b-3444c07bdebc\",\"type\":\"Toolbar\"},{\"attributes\":{},\"id\":\"3f0326f6-2353-41a0-bd33-1e23ba6742e6\",\"type\":\"PanTool\"},{\"attributes\":{\"items\":[{\"id\":\"ceb9af62-e04d-4e8d-8cdb-ef298e9561d9\",\"type\":\"LegendItem\"}],\"label_text_font_size\":{\"value\":\"7pt\"},\"location\":[0,70],\"plot\":{\"id\":\"1253e36c-eaac-47eb-8fcc-0d8ef4f201ba\",\"subtype\":\"Figure\",\"type\":\"Plot\"}},\"id\":\"f67918b8-ba09-4609-a8a8-89dffec3fcdd\",\"type\":\"Legend\"},{\"attributes\":{\"bottom_units\":\"screen\",\"fill_alpha\":{\"value\":0.5},\"fill_color\":{\"value\":\"lightgrey\"},\"left_units\":\"screen\",\"level\":\"overlay\",\"line_alpha\":{\"value\":1.0},\"line_color\":{\"value\":\"black\"},\"line_dash\":[4,4],\"line_width\":{\"value\":2},\"plot\":null,\"render_mode\":\"css\",\"right_units\":\"screen\",\"top_units\":\"screen\"},\"id\":\"6f321a26-e3f7-47dd-ac52-6917a25d11e3\",\"type\":\"BoxAnnotation\"},{\"attributes\":{\"data_source\":{\"id\":\"1656b3ea-be7b-46f6-ad8c-fb12f5881b79\",\"type\":\"ColumnDataSource\"},\"glyph\":{\"id\":\"9d439dd6-5553-4d63-a5f5-5e0ded5e0cd4\",\"type\":\"Circle\"},\"hover_glyph\":null,\"muted_glyph\":null,\"nonselection_glyph\":{\"id\":\"80421baa-a88e-48e6-be3a-17fed62fa45d\",\"type\":\"Circle\"},\"selection_glyph\":null,\"view\":{\"id\":\"629648ec-20df-4502-891a-fcb3a87bac5c\",\"type\":\"CDSView\"}},\"id\":\"1efc5d83-a596-4c40-b4b3-8d37b9b76fd8\",\"type\":\"GlyphRenderer\"},{\"attributes\":{\"fill_alpha\":{\"value\":0.1},\"fill_color\":{\"value\":\"#1f77b4\"},\"line_alpha\":{\"value\":0.1},\"line_color\":{\"value\":\"#1f77b4\"},\"x\":{\"field\":\"x\"},\"y\":{\"field\":\"y\"}},\"id\":\"80421baa-a88e-48e6-be3a-17fed62fa45d\",\"type\":\"Circle\"},{\"attributes\":{\"overlay\":{\"id\":\"6f321a26-e3f7-47dd-ac52-6917a25d11e3\",\"type\":\"BoxAnnotation\"}},\"id\":\"13d3bfe8-f964-4c6e-bf37-34ef1041f1d6\",\"type\":\"BoxZoomTool\"},{\"attributes\":{},\"id\":\"fff6f3bb-a913-4e60-93f3-b7cb48b44881\",\"type\":\"ResetTool\"}],\"root_ids\":[\"1253e36c-eaac-47eb-8fcc-0d8ef4f201ba\"]},\"title\":\"Bokeh Application\",\"version\":\"0.13.0\"}};\n",
       "  var render_items = [{\"docid\":\"1fd02b46-f81c-49dc-b2a6-4e2d487a7d3b\",\"roots\":{\"1253e36c-eaac-47eb-8fcc-0d8ef4f201ba\":\"ba28e2d7-5df8-4d77-89ec-059e32d54dd0\"}}];\n",
       "  root.Bokeh.embed.embed_items_notebook(docs_json, render_items);\n",
       "\n",
       "  }\n",
       "  if (root.Bokeh !== undefined) {\n",
       "    embed_document(root);\n",
       "  } else {\n",
       "    var attempts = 0;\n",
       "    var timer = setInterval(function(root) {\n",
       "      if (root.Bokeh !== undefined) {\n",
       "        embed_document(root);\n",
       "        clearInterval(timer);\n",
       "      }\n",
       "      attempts++;\n",
       "      if (attempts > 100) {\n",
       "        console.log(\"Bokeh: ERROR: Unable to run BokehJS code because BokehJS library is missing\")\n",
       "        clearInterval(timer);\n",
       "      }\n",
       "    }, 10, root)\n",
       "  }\n",
       "})(window);"
      ],
      "application/vnd.bokehjs_exec.v0+json": ""
     },
     "metadata": {
      "application/vnd.bokehjs_exec.v0+json": {
       "id": "1253e36c-eaac-47eb-8fcc-0d8ef4f201ba"
      }
     },
     "output_type": "display_data"
    }
   ],
   "source": [
    "plot_embedding(X_emb, labels, named_labels)"
   ]
  },
  {
   "cell_type": "code",
   "execution_count": null,
   "metadata": {},
   "outputs": [],
   "source": []
  }
 ],
 "metadata": {
  "kernelspec": {
   "display_name": "Python 3",
   "language": "python",
   "name": "python3"
  },
  "language_info": {
   "codemirror_mode": {
    "name": "ipython",
    "version": 3
   },
   "file_extension": ".py",
   "mimetype": "text/x-python",
   "name": "python",
   "nbconvert_exporter": "python",
   "pygments_lexer": "ipython3",
   "version": "3.6.5"
  }
 },
 "nbformat": 4,
 "nbformat_minor": 2
}
