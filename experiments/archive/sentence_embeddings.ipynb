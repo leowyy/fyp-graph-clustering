{
 "cells": [
  {
   "cell_type": "code",
   "execution_count": 1,
   "metadata": {},
   "outputs": [
    {
     "data": {
      "text/plain": [
       "'/Users/signapoop/Desktop/fyp-graph-clustering'"
      ]
     },
     "execution_count": 1,
     "metadata": {},
     "output_type": "execute_result"
    }
   ],
   "source": [
    "import os\n",
    "os.chdir('..')\n",
    "os.getcwd()"
   ]
  },
  {
   "cell_type": "code",
   "execution_count": 2,
   "metadata": {},
   "outputs": [],
   "source": [
    "import numpy as np\n",
    "import pickle"
   ]
  },
  {
   "cell_type": "code",
   "execution_count": 3,
   "metadata": {},
   "outputs": [],
   "source": [
    "parent_dir = os.path.abspath('..')\n",
    "test_file = '/data/sentences/test.pkl'\n",
    "with open(parent_dir+test_file, 'rb') as f:\n",
    "    [text, X_emb] = pickle.load(f)"
   ]
  },
  {
   "cell_type": "code",
   "execution_count": 5,
   "metadata": {},
   "outputs": [
    {
     "name": "stdout",
     "output_type": "stream",
     "text": [
      "1500\n",
      "(1500, 512)\n"
     ]
    }
   ],
   "source": [
    "print(len(text))\n",
    "print(X_emb.shape)"
   ]
  },
  {
   "cell_type": "code",
   "execution_count": 6,
   "metadata": {},
   "outputs": [],
   "source": [
    "from core.DimReduction import DimReduction\n",
    "from util.plot_bokeh_embedding import plot_embedding"
   ]
  },
  {
   "cell_type": "code",
   "execution_count": 17,
   "metadata": {},
   "outputs": [],
   "source": [
    "dim_red = DimReduction(3)\n",
    "X_tsne = dim_red.fit_transform(X_emb, 'tsne')"
   ]
  },
  {
   "cell_type": "code",
   "execution_count": 21,
   "metadata": {},
   "outputs": [],
   "source": [
    "n_plot = 100\n",
    "X_plot = X_tsne[:n_plot]\n",
    "labels_plot = text[:n_plot]"
   ]
  },
  {
   "cell_type": "code",
   "execution_count": 19,
   "metadata": {},
   "outputs": [
    {
     "data": {
      "text/html": [
       "\n",
       "    <div class=\"bk-root\">\n",
       "        <a href=\"https://bokeh.pydata.org\" target=\"_blank\" class=\"bk-logo bk-logo-small bk-logo-notebook\"></a>\n",
       "        <span id=\"612f08b4-f546-495e-ab3e-e64a1eed0f6e\">Loading BokehJS ...</span>\n",
       "    </div>"
      ]
     },
     "metadata": {},
     "output_type": "display_data"
    },
    {
     "data": {
      "application/javascript": [
       "\n",
       "(function(root) {\n",
       "  function now() {\n",
       "    return new Date();\n",
       "  }\n",
       "\n",
       "  var force = true;\n",
       "\n",
       "  if (typeof (root._bokeh_onload_callbacks) === \"undefined\" || force === true) {\n",
       "    root._bokeh_onload_callbacks = [];\n",
       "    root._bokeh_is_loading = undefined;\n",
       "  }\n",
       "\n",
       "  var JS_MIME_TYPE = 'application/javascript';\n",
       "  var HTML_MIME_TYPE = 'text/html';\n",
       "  var EXEC_MIME_TYPE = 'application/vnd.bokehjs_exec.v0+json';\n",
       "  var CLASS_NAME = 'output_bokeh rendered_html';\n",
       "\n",
       "  /**\n",
       "   * Render data to the DOM node\n",
       "   */\n",
       "  function render(props, node) {\n",
       "    var script = document.createElement(\"script\");\n",
       "    node.appendChild(script);\n",
       "  }\n",
       "\n",
       "  /**\n",
       "   * Handle when an output is cleared or removed\n",
       "   */\n",
       "  function handleClearOutput(event, handle) {\n",
       "    var cell = handle.cell;\n",
       "\n",
       "    var id = cell.output_area._bokeh_element_id;\n",
       "    var server_id = cell.output_area._bokeh_server_id;\n",
       "    // Clean up Bokeh references\n",
       "    if (id != null && id in Bokeh.index) {\n",
       "      Bokeh.index[id].model.document.clear();\n",
       "      delete Bokeh.index[id];\n",
       "    }\n",
       "\n",
       "    if (server_id !== undefined) {\n",
       "      // Clean up Bokeh references\n",
       "      var cmd = \"from bokeh.io.state import curstate; print(curstate().uuid_to_server['\" + server_id + \"'].get_sessions()[0].document.roots[0]._id)\";\n",
       "      cell.notebook.kernel.execute(cmd, {\n",
       "        iopub: {\n",
       "          output: function(msg) {\n",
       "            var id = msg.content.text.trim();\n",
       "            if (id in Bokeh.index) {\n",
       "              Bokeh.index[id].model.document.clear();\n",
       "              delete Bokeh.index[id];\n",
       "            }\n",
       "          }\n",
       "        }\n",
       "      });\n",
       "      // Destroy server and session\n",
       "      var cmd = \"import bokeh.io.notebook as ion; ion.destroy_server('\" + server_id + \"')\";\n",
       "      cell.notebook.kernel.execute(cmd);\n",
       "    }\n",
       "  }\n",
       "\n",
       "  /**\n",
       "   * Handle when a new output is added\n",
       "   */\n",
       "  function handleAddOutput(event, handle) {\n",
       "    var output_area = handle.output_area;\n",
       "    var output = handle.output;\n",
       "\n",
       "    // limit handleAddOutput to display_data with EXEC_MIME_TYPE content only\n",
       "    if ((output.output_type != \"display_data\") || (!output.data.hasOwnProperty(EXEC_MIME_TYPE))) {\n",
       "      return\n",
       "    }\n",
       "\n",
       "    var toinsert = output_area.element.find(\".\" + CLASS_NAME.split(' ')[0]);\n",
       "\n",
       "    if (output.metadata[EXEC_MIME_TYPE][\"id\"] !== undefined) {\n",
       "      toinsert[toinsert.length - 1].firstChild.textContent = output.data[JS_MIME_TYPE];\n",
       "      // store reference to embed id on output_area\n",
       "      output_area._bokeh_element_id = output.metadata[EXEC_MIME_TYPE][\"id\"];\n",
       "    }\n",
       "    if (output.metadata[EXEC_MIME_TYPE][\"server_id\"] !== undefined) {\n",
       "      var bk_div = document.createElement(\"div\");\n",
       "      bk_div.innerHTML = output.data[HTML_MIME_TYPE];\n",
       "      var script_attrs = bk_div.children[0].attributes;\n",
       "      for (var i = 0; i < script_attrs.length; i++) {\n",
       "        toinsert[toinsert.length - 1].firstChild.setAttribute(script_attrs[i].name, script_attrs[i].value);\n",
       "      }\n",
       "      // store reference to server id on output_area\n",
       "      output_area._bokeh_server_id = output.metadata[EXEC_MIME_TYPE][\"server_id\"];\n",
       "    }\n",
       "  }\n",
       "\n",
       "  function register_renderer(events, OutputArea) {\n",
       "\n",
       "    function append_mime(data, metadata, element) {\n",
       "      // create a DOM node to render to\n",
       "      var toinsert = this.create_output_subarea(\n",
       "        metadata,\n",
       "        CLASS_NAME,\n",
       "        EXEC_MIME_TYPE\n",
       "      );\n",
       "      this.keyboard_manager.register_events(toinsert);\n",
       "      // Render to node\n",
       "      var props = {data: data, metadata: metadata[EXEC_MIME_TYPE]};\n",
       "      render(props, toinsert[toinsert.length - 1]);\n",
       "      element.append(toinsert);\n",
       "      return toinsert\n",
       "    }\n",
       "\n",
       "    /* Handle when an output is cleared or removed */\n",
       "    events.on('clear_output.CodeCell', handleClearOutput);\n",
       "    events.on('delete.Cell', handleClearOutput);\n",
       "\n",
       "    /* Handle when a new output is added */\n",
       "    events.on('output_added.OutputArea', handleAddOutput);\n",
       "\n",
       "    /**\n",
       "     * Register the mime type and append_mime function with output_area\n",
       "     */\n",
       "    OutputArea.prototype.register_mime_type(EXEC_MIME_TYPE, append_mime, {\n",
       "      /* Is output safe? */\n",
       "      safe: true,\n",
       "      /* Index of renderer in `output_area.display_order` */\n",
       "      index: 0\n",
       "    });\n",
       "  }\n",
       "\n",
       "  // register the mime type if in Jupyter Notebook environment and previously unregistered\n",
       "  if (root.Jupyter !== undefined) {\n",
       "    var events = require('base/js/events');\n",
       "    var OutputArea = require('notebook/js/outputarea').OutputArea;\n",
       "\n",
       "    if (OutputArea.prototype.mime_types().indexOf(EXEC_MIME_TYPE) == -1) {\n",
       "      register_renderer(events, OutputArea);\n",
       "    }\n",
       "  }\n",
       "\n",
       "  \n",
       "  if (typeof (root._bokeh_timeout) === \"undefined\" || force === true) {\n",
       "    root._bokeh_timeout = Date.now() + 5000;\n",
       "    root._bokeh_failed_load = false;\n",
       "  }\n",
       "\n",
       "  var NB_LOAD_WARNING = {'data': {'text/html':\n",
       "     \"<div style='background-color: #fdd'>\\n\"+\n",
       "     \"<p>\\n\"+\n",
       "     \"BokehJS does not appear to have successfully loaded. If loading BokehJS from CDN, this \\n\"+\n",
       "     \"may be due to a slow or bad network connection. Possible fixes:\\n\"+\n",
       "     \"</p>\\n\"+\n",
       "     \"<ul>\\n\"+\n",
       "     \"<li>re-rerun `output_notebook()` to attempt to load from CDN again, or</li>\\n\"+\n",
       "     \"<li>use INLINE resources instead, as so:</li>\\n\"+\n",
       "     \"</ul>\\n\"+\n",
       "     \"<code>\\n\"+\n",
       "     \"from bokeh.resources import INLINE\\n\"+\n",
       "     \"output_notebook(resources=INLINE)\\n\"+\n",
       "     \"</code>\\n\"+\n",
       "     \"</div>\"}};\n",
       "\n",
       "  function display_loaded() {\n",
       "    var el = document.getElementById(\"612f08b4-f546-495e-ab3e-e64a1eed0f6e\");\n",
       "    if (el != null) {\n",
       "      el.textContent = \"BokehJS is loading...\";\n",
       "    }\n",
       "    if (root.Bokeh !== undefined) {\n",
       "      if (el != null) {\n",
       "        el.textContent = \"BokehJS \" + root.Bokeh.version + \" successfully loaded.\";\n",
       "      }\n",
       "    } else if (Date.now() < root._bokeh_timeout) {\n",
       "      setTimeout(display_loaded, 100)\n",
       "    }\n",
       "  }\n",
       "\n",
       "\n",
       "  function run_callbacks() {\n",
       "    try {\n",
       "      root._bokeh_onload_callbacks.forEach(function(callback) { callback() });\n",
       "    }\n",
       "    finally {\n",
       "      delete root._bokeh_onload_callbacks\n",
       "    }\n",
       "    console.info(\"Bokeh: all callbacks have finished\");\n",
       "  }\n",
       "\n",
       "  function load_libs(js_urls, callback) {\n",
       "    root._bokeh_onload_callbacks.push(callback);\n",
       "    if (root._bokeh_is_loading > 0) {\n",
       "      console.log(\"Bokeh: BokehJS is being loaded, scheduling callback at\", now());\n",
       "      return null;\n",
       "    }\n",
       "    if (js_urls == null || js_urls.length === 0) {\n",
       "      run_callbacks();\n",
       "      return null;\n",
       "    }\n",
       "    console.log(\"Bokeh: BokehJS not loaded, scheduling load and callback at\", now());\n",
       "    root._bokeh_is_loading = js_urls.length;\n",
       "    for (var i = 0; i < js_urls.length; i++) {\n",
       "      var url = js_urls[i];\n",
       "      var s = document.createElement('script');\n",
       "      s.src = url;\n",
       "      s.async = false;\n",
       "      s.onreadystatechange = s.onload = function() {\n",
       "        root._bokeh_is_loading--;\n",
       "        if (root._bokeh_is_loading === 0) {\n",
       "          console.log(\"Bokeh: all BokehJS libraries loaded\");\n",
       "          run_callbacks()\n",
       "        }\n",
       "      };\n",
       "      s.onerror = function() {\n",
       "        console.warn(\"failed to load library \" + url);\n",
       "      };\n",
       "      console.log(\"Bokeh: injecting script tag for BokehJS library: \", url);\n",
       "      document.getElementsByTagName(\"head\")[0].appendChild(s);\n",
       "    }\n",
       "  };var element = document.getElementById(\"612f08b4-f546-495e-ab3e-e64a1eed0f6e\");\n",
       "  if (element == null) {\n",
       "    console.log(\"Bokeh: ERROR: autoload.js configured with elementid '612f08b4-f546-495e-ab3e-e64a1eed0f6e' but no matching script tag was found. \")\n",
       "    return false;\n",
       "  }\n",
       "\n",
       "  var js_urls = [\"https://cdn.pydata.org/bokeh/release/bokeh-0.13.0.min.js\", \"https://cdn.pydata.org/bokeh/release/bokeh-widgets-0.13.0.min.js\", \"https://cdn.pydata.org/bokeh/release/bokeh-tables-0.13.0.min.js\", \"https://cdn.pydata.org/bokeh/release/bokeh-gl-0.13.0.min.js\"];\n",
       "\n",
       "  var inline_js = [\n",
       "    function(Bokeh) {\n",
       "      Bokeh.set_log_level(\"info\");\n",
       "    },\n",
       "    \n",
       "    function(Bokeh) {\n",
       "      \n",
       "    },\n",
       "    function(Bokeh) {\n",
       "      console.log(\"Bokeh: injecting CSS: https://cdn.pydata.org/bokeh/release/bokeh-0.13.0.min.css\");\n",
       "      Bokeh.embed.inject_css(\"https://cdn.pydata.org/bokeh/release/bokeh-0.13.0.min.css\");\n",
       "      console.log(\"Bokeh: injecting CSS: https://cdn.pydata.org/bokeh/release/bokeh-widgets-0.13.0.min.css\");\n",
       "      Bokeh.embed.inject_css(\"https://cdn.pydata.org/bokeh/release/bokeh-widgets-0.13.0.min.css\");\n",
       "      console.log(\"Bokeh: injecting CSS: https://cdn.pydata.org/bokeh/release/bokeh-tables-0.13.0.min.css\");\n",
       "      Bokeh.embed.inject_css(\"https://cdn.pydata.org/bokeh/release/bokeh-tables-0.13.0.min.css\");\n",
       "    }\n",
       "  ];\n",
       "\n",
       "  function run_inline_js() {\n",
       "    \n",
       "    if ((root.Bokeh !== undefined) || (force === true)) {\n",
       "      for (var i = 0; i < inline_js.length; i++) {\n",
       "        inline_js[i].call(root, root.Bokeh);\n",
       "      }if (force === true) {\n",
       "        display_loaded();\n",
       "      }} else if (Date.now() < root._bokeh_timeout) {\n",
       "      setTimeout(run_inline_js, 100);\n",
       "    } else if (!root._bokeh_failed_load) {\n",
       "      console.log(\"Bokeh: BokehJS failed to load within specified timeout.\");\n",
       "      root._bokeh_failed_load = true;\n",
       "    } else if (force !== true) {\n",
       "      var cell = $(document.getElementById(\"612f08b4-f546-495e-ab3e-e64a1eed0f6e\")).parents('.cell').data().cell;\n",
       "      cell.output_area.append_execute_result(NB_LOAD_WARNING)\n",
       "    }\n",
       "\n",
       "  }\n",
       "\n",
       "  if (root._bokeh_is_loading === 0) {\n",
       "    console.log(\"Bokeh: BokehJS loaded, going straight to plotting\");\n",
       "    run_inline_js();\n",
       "  } else {\n",
       "    load_libs(js_urls, function() {\n",
       "      console.log(\"Bokeh: BokehJS plotting callback run at\", now());\n",
       "      run_inline_js();\n",
       "    });\n",
       "  }\n",
       "}(window));"
      ],
      "application/vnd.bokehjs_load.v0+json": "\n(function(root) {\n  function now() {\n    return new Date();\n  }\n\n  var force = true;\n\n  if (typeof (root._bokeh_onload_callbacks) === \"undefined\" || force === true) {\n    root._bokeh_onload_callbacks = [];\n    root._bokeh_is_loading = undefined;\n  }\n\n  \n\n  \n  if (typeof (root._bokeh_timeout) === \"undefined\" || force === true) {\n    root._bokeh_timeout = Date.now() + 5000;\n    root._bokeh_failed_load = false;\n  }\n\n  var NB_LOAD_WARNING = {'data': {'text/html':\n     \"<div style='background-color: #fdd'>\\n\"+\n     \"<p>\\n\"+\n     \"BokehJS does not appear to have successfully loaded. If loading BokehJS from CDN, this \\n\"+\n     \"may be due to a slow or bad network connection. Possible fixes:\\n\"+\n     \"</p>\\n\"+\n     \"<ul>\\n\"+\n     \"<li>re-rerun `output_notebook()` to attempt to load from CDN again, or</li>\\n\"+\n     \"<li>use INLINE resources instead, as so:</li>\\n\"+\n     \"</ul>\\n\"+\n     \"<code>\\n\"+\n     \"from bokeh.resources import INLINE\\n\"+\n     \"output_notebook(resources=INLINE)\\n\"+\n     \"</code>\\n\"+\n     \"</div>\"}};\n\n  function display_loaded() {\n    var el = document.getElementById(\"612f08b4-f546-495e-ab3e-e64a1eed0f6e\");\n    if (el != null) {\n      el.textContent = \"BokehJS is loading...\";\n    }\n    if (root.Bokeh !== undefined) {\n      if (el != null) {\n        el.textContent = \"BokehJS \" + root.Bokeh.version + \" successfully loaded.\";\n      }\n    } else if (Date.now() < root._bokeh_timeout) {\n      setTimeout(display_loaded, 100)\n    }\n  }\n\n\n  function run_callbacks() {\n    try {\n      root._bokeh_onload_callbacks.forEach(function(callback) { callback() });\n    }\n    finally {\n      delete root._bokeh_onload_callbacks\n    }\n    console.info(\"Bokeh: all callbacks have finished\");\n  }\n\n  function load_libs(js_urls, callback) {\n    root._bokeh_onload_callbacks.push(callback);\n    if (root._bokeh_is_loading > 0) {\n      console.log(\"Bokeh: BokehJS is being loaded, scheduling callback at\", now());\n      return null;\n    }\n    if (js_urls == null || js_urls.length === 0) {\n      run_callbacks();\n      return null;\n    }\n    console.log(\"Bokeh: BokehJS not loaded, scheduling load and callback at\", now());\n    root._bokeh_is_loading = js_urls.length;\n    for (var i = 0; i < js_urls.length; i++) {\n      var url = js_urls[i];\n      var s = document.createElement('script');\n      s.src = url;\n      s.async = false;\n      s.onreadystatechange = s.onload = function() {\n        root._bokeh_is_loading--;\n        if (root._bokeh_is_loading === 0) {\n          console.log(\"Bokeh: all BokehJS libraries loaded\");\n          run_callbacks()\n        }\n      };\n      s.onerror = function() {\n        console.warn(\"failed to load library \" + url);\n      };\n      console.log(\"Bokeh: injecting script tag for BokehJS library: \", url);\n      document.getElementsByTagName(\"head\")[0].appendChild(s);\n    }\n  };var element = document.getElementById(\"612f08b4-f546-495e-ab3e-e64a1eed0f6e\");\n  if (element == null) {\n    console.log(\"Bokeh: ERROR: autoload.js configured with elementid '612f08b4-f546-495e-ab3e-e64a1eed0f6e' but no matching script tag was found. \")\n    return false;\n  }\n\n  var js_urls = [\"https://cdn.pydata.org/bokeh/release/bokeh-0.13.0.min.js\", \"https://cdn.pydata.org/bokeh/release/bokeh-widgets-0.13.0.min.js\", \"https://cdn.pydata.org/bokeh/release/bokeh-tables-0.13.0.min.js\", \"https://cdn.pydata.org/bokeh/release/bokeh-gl-0.13.0.min.js\"];\n\n  var inline_js = [\n    function(Bokeh) {\n      Bokeh.set_log_level(\"info\");\n    },\n    \n    function(Bokeh) {\n      \n    },\n    function(Bokeh) {\n      console.log(\"Bokeh: injecting CSS: https://cdn.pydata.org/bokeh/release/bokeh-0.13.0.min.css\");\n      Bokeh.embed.inject_css(\"https://cdn.pydata.org/bokeh/release/bokeh-0.13.0.min.css\");\n      console.log(\"Bokeh: injecting CSS: https://cdn.pydata.org/bokeh/release/bokeh-widgets-0.13.0.min.css\");\n      Bokeh.embed.inject_css(\"https://cdn.pydata.org/bokeh/release/bokeh-widgets-0.13.0.min.css\");\n      console.log(\"Bokeh: injecting CSS: https://cdn.pydata.org/bokeh/release/bokeh-tables-0.13.0.min.css\");\n      Bokeh.embed.inject_css(\"https://cdn.pydata.org/bokeh/release/bokeh-tables-0.13.0.min.css\");\n    }\n  ];\n\n  function run_inline_js() {\n    \n    if ((root.Bokeh !== undefined) || (force === true)) {\n      for (var i = 0; i < inline_js.length; i++) {\n        inline_js[i].call(root, root.Bokeh);\n      }if (force === true) {\n        display_loaded();\n      }} else if (Date.now() < root._bokeh_timeout) {\n      setTimeout(run_inline_js, 100);\n    } else if (!root._bokeh_failed_load) {\n      console.log(\"Bokeh: BokehJS failed to load within specified timeout.\");\n      root._bokeh_failed_load = true;\n    } else if (force !== true) {\n      var cell = $(document.getElementById(\"612f08b4-f546-495e-ab3e-e64a1eed0f6e\")).parents('.cell').data().cell;\n      cell.output_area.append_execute_result(NB_LOAD_WARNING)\n    }\n\n  }\n\n  if (root._bokeh_is_loading === 0) {\n    console.log(\"Bokeh: BokehJS loaded, going straight to plotting\");\n    run_inline_js();\n  } else {\n    load_libs(js_urls, function() {\n      console.log(\"Bokeh: BokehJS plotting callback run at\", now());\n      run_inline_js();\n    });\n  }\n}(window));"
     },
     "metadata": {},
     "output_type": "display_data"
    }
   ],
   "source": [
    "import bokeh.plotting as bp\n",
    "from bokeh.plotting import save, show\n",
    "from bokeh.models.glyphs import Text\n",
    "from bokeh.models import HoverTool\n",
    "from bokeh.io import output_notebook\n",
    "from bokeh.transform import linear_cmap\n",
    "\n",
    "\n",
    "output_notebook()"
   ]
  },
  {
   "cell_type": "code",
   "execution_count": 22,
   "metadata": {},
   "outputs": [
    {
     "data": {
      "text/html": [
       "\n",
       "\n",
       "\n",
       "\n",
       "\n",
       "\n",
       "  <div class=\"bk-root\" id=\"c9c80a38-0963-403e-a13d-5653eb9aa86b\"></div>\n"
      ]
     },
     "metadata": {},
     "output_type": "display_data"
    },
    {
     "data": {
      "application/javascript": [
       "(function(root) {\n",
       "  function embed_document(root) {\n",
       "    \n",
       "  var docs_json = {\"834359f8-e7ee-4cbb-a644-c133f0d5c66f\":{\"roots\":{\"references\":[{\"attributes\":{\"callback\":null},\"id\":\"6ac4ca87-0894-465d-af2d-051e0722ecf1\",\"type\":\"DataRange1d\"},{\"attributes\":{},\"id\":\"274cf207-7946-4562-82d3-a7ff5da48f6f\",\"type\":\"Selection\"},{\"attributes\":{\"min_border\":1,\"plot_width\":800,\"renderers\":[{\"id\":\"4a17466c-22c2-46cb-968d-5ff32fe0474c\",\"type\":\"BoxAnnotation\"},{\"id\":\"dc92d853-25cd-497c-98c9-fb2e842d034a\",\"type\":\"GlyphRenderer\"}],\"title\":{\"id\":\"639640be-ee17-4873-9d3e-8eb1953d2a15\",\"type\":\"Title\"},\"toolbar\":{\"id\":\"930bd6c1-8f8d-49a8-b8c3-5dad89349c9e\",\"type\":\"Toolbar\"},\"x_range\":{\"id\":\"6ac4ca87-0894-465d-af2d-051e0722ecf1\",\"type\":\"DataRange1d\"},\"x_scale\":{\"id\":\"8585a697-cf81-4c51-b597-cbb29cacbef9\",\"type\":\"LinearScale\"},\"y_range\":{\"id\":\"4e741391-4e2e-4b3d-b8ef-81353a59e1d2\",\"type\":\"DataRange1d\"},\"y_scale\":{\"id\":\"5c717f0c-5c36-415a-a9ed-ef7312137912\",\"type\":\"LinearScale\"}},\"id\":\"4e0582b2-88cf-44e3-bebc-87d1ada3cb85\",\"subtype\":\"Figure\",\"type\":\"Plot\"},{\"attributes\":{\"data_source\":{\"id\":\"91a5d3a5-3e80-4e57-9bda-85366e2f9339\",\"type\":\"ColumnDataSource\"},\"glyph\":{\"id\":\"176dd8fd-94d5-4256-a054-8eb22f14c6af\",\"type\":\"Text\"},\"hover_glyph\":null,\"muted_glyph\":null,\"nonselection_glyph\":{\"id\":\"8d45dd1a-6dd0-493e-a614-2f5bb05e6785\",\"type\":\"Text\"},\"selection_glyph\":null,\"view\":{\"id\":\"0ac707a1-123e-40be-a780-984896ee525b\",\"type\":\"CDSView\"}},\"id\":\"dc92d853-25cd-497c-98c9-fb2e842d034a\",\"type\":\"GlyphRenderer\"},{\"attributes\":{\"high\":25.54833984375,\"low\":-22.064815521240234,\"palette\":[\"#e41a1c\",\"#377eb8\",\"#4daf4a\",\"#984ea3\",\"#ff7f00\",\"#ffff33\"]},\"id\":\"fe75aa0e-e0b5-4c5e-b0d2-33655998bcc6\",\"type\":\"LinearColorMapper\"},{\"attributes\":{},\"id\":\"5fa43c04-a76a-48ce-bcbb-deca64ec897d\",\"type\":\"PanTool\"},{\"attributes\":{\"bottom_units\":\"screen\",\"fill_alpha\":{\"value\":0.5},\"fill_color\":{\"value\":\"lightgrey\"},\"left_units\":\"screen\",\"level\":\"overlay\",\"line_alpha\":{\"value\":1.0},\"line_color\":{\"value\":\"black\"},\"line_dash\":[4,4],\"line_width\":{\"value\":2},\"plot\":null,\"render_mode\":\"css\",\"right_units\":\"screen\",\"top_units\":\"screen\"},\"id\":\"4a17466c-22c2-46cb-968d-5ff32fe0474c\",\"type\":\"BoxAnnotation\"},{\"attributes\":{},\"id\":\"b16a758c-0ea1-4391-bc6e-34bf25bf60da\",\"type\":\"WheelZoomTool\"},{\"attributes\":{\"overlay\":{\"id\":\"4a17466c-22c2-46cb-968d-5ff32fe0474c\",\"type\":\"BoxAnnotation\"}},\"id\":\"dfcd49cf-d245-44d2-b987-f954ce1302ed\",\"type\":\"BoxZoomTool\"},{\"attributes\":{\"callback\":null,\"data\":{\"colors\":{\"__ndarray__\":\"uHtKwSMZGkG4SEJBf4zCQYxBv0GHaBJByVsLwBZwKEEbn3DBlngGQVC7GL+4U17B0OIBQFckHz+EUpfBIp7rwABjzEFTL/zA1L6cQdGCEMEE/nBB94SFwac61sBcLAjBVpXmwAsbOkGnLbLAdnfFwGzwhkFp+oW9lUlWQd0Ai8EizRRAq3KBwVV+dsE9ckdBO2snwcMGIcEXRFu/rS1owA7pYEHH3pfBTJNBv9yjsUGkw4HBbhItQVQjakFMMrpAPEQmwYiIoT9ATnxB3+DtQML0gUGjSkpBDrFMwQlWSMFeFGrBFk56wL5Ye8GHuSHBvYx+QX5/3sBgMotBx/jDwB3yqUFvTrXA6s1Hwe9VskECy4TB2bdzvxdwkcEdQ1bBLorcPxq3qkD6oANBBVV/v4XQnUGnsxo+V15eQTJDmkEXvWxB5sqMwfCaE8HpLUNBret3Pqsx/b+6fhLBw9yFQKzCP0G+hLDBJdF7QZ1rY0FqjSRB22RFQR4aI8GoYwrB4WBqQToLlUElYclB76AjwA==\",\"dtype\":\"float32\",\"shape\":[100]},\"text\":[\"A man with a hard hat is dancing.\",\"A young child is riding a horse.\",\"A man is feeding a mouse to a snake.\",\"A woman is playing the guitar.\",\"A woman is playing the flute.\",\"A woman is cutting an onion.\",\"A man is erasing a chalk board.\",\"A woman is carrying a boy.\",\"Three men are playing guitars.\",\"A woman peels a potato.\",\"People are playing cricket.\",\"A man is playing a guitar.\",\"The cougar is chasing the bear.\",\"The man cut down a tree with an axe.\",\"The man is playing the guitar.\",\"A man is finding something.\",\"The girl sang into a microphone.\",\"A man is climbing a rope.\",\"Kittens are eating food.\",\"A man is speaking.\",\"A woman is cooking eggs.\",\"A man is playing a guitar.\",\"An animal is chewing on something.\",\"A man is playing a flute.\",\"A man is playing soccer.\",\"A girl is riding a horse.\",\"A man is lifting weights in a garage.\",\"An animal is biting a persons finger.\",\"A woman is reading.\",\"A man is crying.\",\"The lady cracked an egg into a bowl.\",\"A band is performing on a stage.\",\"Elephants are walking down a trail.\",\"A man is playing a guitar.\",\"A man sitting on the floor plays a guitar.\",\"A puppy plays with a plastic container.\",\"A man plays the violin.\",\"A man plays the piano.\",\"A man is eating food.\",\"A man is playing a basketball.\",\"A toddler walks down a hallway.\",\"A plane is landing.\",\"A panda is climbing.\",\"Kids are dancing on stage.\",\"A man plays a guitar.\",\"A woman is slicing a meat.\",\"A woman is taking a picture.\",\"The man is riding a horse.\",\"A man is drilling a hole in a board.\",\"A man is fitting silencer on a pistol.\",\"Two little girls are talking on the phone.\",\"Someone is stirring chili in a kettle.\",\"The woman is cracking eggs into a bowl.\",\"A woman puts flour on a piece of meat.\",\"A man is talking on a phone.\",\"A man is playing an electronic keyboard.\",\"A man is playing a guitar.\",\"A man is jumping into water.\",\"A man is playing a guitar.\",\"A young man is playing the piano.\",\"A woman is mixing ingrediants.\",\"Someone is shredding cabbage leaves with a knife.\",\"A slow lori walks around.\",\"A little boy is vacuuming the floor.\",\"A woman is applying eye liner to her eyelid using an eye pencil.\",\"A man is making a bed.\",\"A man plays a keyboard.\",\"A rabbit is playing with a toy rabbit.\",\"A plane rides on a road.\",\"A man shoots a man.\",\"A man plays the guitar.\",\"A guy is playing hackysack\",\"One man is breaking cement on another man's chest.\",\"A man is talking with other women on the beach.\",\"The woman is dicing onions.\",\"A chef is preparing some food.\",\"The man talked to a girl over the internet camera.\",\"A turtle walks over the ground.\",\"The lady cracked an egg for the mixer.\",\"Five kittens are eating out of five dishes.\",\"A woman is slicing some tuna.\",\"A man playing the guitar.\",\"A man is playing a flute.\",\"A baby rhino is walking around his pen with his mother.\",\"The man used a sword to slice a plastic bottle.\",\"A man is cleaning a fish on a kitchen counter.\",\"A person is chopping coriander leaves.\",\"A man is pressing microwave buttons.\",\"A girl is riding a horse.\",\"Batman and Robin fly a helicopter over water.\",\"A woman pours oil into a skillet from a plastic bottle while she is talking.\",\"A woman is cutting some herbs.\",\"The lady put the skewered shimp in the hot water.\",\"A woman is riding on a horse.\",\"The boy is playing the piano.\",\"The cook is kneading the flour.\",\"A woman is riding a horse along a perimeter.\",\"A woman is putting her baby in a waste bin.\",\"A cat is pouncing on a trampoline.\",\"A man and woman are eating at a table.\"],\"x\":{\"__ndarray__\":\"vEKsQYW7yEG1qPlAVUusQX4MnUFIIAhCJzUWQkmqwEFyMANCsMH6QZtmzEBoZORB/cIiQS1prEGMgu5BoGy1QQlnvUHWd41BpU1TQNs+xkH5SP5BdpnsQejF0EFHzO5BaIPgQKwe0kHJJhNCgSnOQTUjskE+2/9BvgQCQqSmxEEkXKhBxebaQVqOB0I0O+FAjNnaQdbRA0L83PtBCf3bQch5YkHIq5i9+cM5Qepy1EFsWvJBgCALQlb1r0HLB8pBpQWhQW0Y2kFM3pFBwc4HQt2WB0IuyAlCRJXUQRnS+0Eh5fNBxupgQTpG7kGv3AtCRU3kQbETnUEMLKNBFxMMQs381UEzzAVCh9vxQUO0vT+6L7tA6EbuQTpZ+EHKxMpBQSOdQb9WiUEiLhJCM27mQWg+ikEHw7FB85MDQvQ7OUCsPQ9CFioBQl0d/UE75w9BuEe0QRLn6kHbs75BiS/sQXoMxEFcU+u9hcUPQkeK/kE0mABCXALJQdrpEULYJmlBbNbCQQupI0Fe6z5A5uYDQg==\",\"dtype\":\"float32\",\"shape\":[100]},\"y\":{\"__ndarray__\":\"M+gcwaYCHUBIJtPA8+CjwGNiBsE9o0LBn7cfwR1bVMGwvijBibAgwdkgk8FDRh/B3KeGQSzXC8HUcvTANQozPzxq5MBD2R7BqgpIQJXKlL95zFjBuOENwVO1lUDlOTnBazuXwe7UY0A8r2vA8xzDQBl1b8EIGF3BfNSIwe8MTcHOt0tBaE0bwQOr88Cg6gZBnyRGwf+F9cCE6aQ/TClSwV5Uq8D49bPAJUNSQUxPeMCl7NHAb7gVwcayQsELVp1As1flwCjieMGiF+PA8MmcwbFOjcHWMTfBcbMwv46vrcDnPQzBfinjwPFhL8EO0uvA7Eo5wXOWFkEPdJdADHfBwK46UMFUEqfA5D2LwO7gkb9OidbAnzdWwUdwI8EXlQ/BIB8nwUbXZMDaXXrB3CfevjwwecGZRIdBAtOVwVFL0D/eylHB3SADwRP9P8E7YijBFnYlwYQth8BI8ARBvTwwwDGeZUAVugXBqoCKwfYZFcES5o/BUD+ZP7fgNcGD7QRBo8oiQBONWsFpYDQ/uXIZQA==\",\"dtype\":\"float32\",\"shape\":[100]}},\"selected\":{\"id\":\"274cf207-7946-4562-82d3-a7ff5da48f6f\",\"type\":\"Selection\"},\"selection_policy\":{\"id\":\"5776ddd9-649b-4940-8d9a-501921e57d85\",\"type\":\"UnionRenderers\"}},\"id\":\"91a5d3a5-3e80-4e57-9bda-85366e2f9339\",\"type\":\"ColumnDataSource\"},{\"attributes\":{\"text_color\":{\"field\":\"colors\",\"transform\":{\"id\":\"fe75aa0e-e0b5-4c5e-b0d2-33655998bcc6\",\"type\":\"LinearColorMapper\"}},\"text_font_size\":{\"value\":\"10px\"},\"x\":{\"field\":\"x\"},\"y\":{\"field\":\"y\"}},\"id\":\"176dd8fd-94d5-4256-a054-8eb22f14c6af\",\"type\":\"Text\"},{\"attributes\":{},\"id\":\"a71658e1-b996-4143-9029-130ac4b5fbee\",\"type\":\"ResetTool\"},{\"attributes\":{\"text_alpha\":{\"value\":0.1},\"text_color\":{\"value\":\"black\"},\"text_font_size\":{\"value\":\"10px\"},\"x\":{\"field\":\"x\"},\"y\":{\"field\":\"y\"}},\"id\":\"8d45dd1a-6dd0-493e-a614-2f5bb05e6785\",\"type\":\"Text\"},{\"attributes\":{\"active_drag\":\"auto\",\"active_inspect\":\"auto\",\"active_multi\":null,\"active_scroll\":\"auto\",\"active_tap\":\"auto\",\"tools\":[{\"id\":\"5fa43c04-a76a-48ce-bcbb-deca64ec897d\",\"type\":\"PanTool\"},{\"id\":\"b16a758c-0ea1-4391-bc6e-34bf25bf60da\",\"type\":\"WheelZoomTool\"},{\"id\":\"dfcd49cf-d245-44d2-b987-f954ce1302ed\",\"type\":\"BoxZoomTool\"},{\"id\":\"a71658e1-b996-4143-9029-130ac4b5fbee\",\"type\":\"ResetTool\"},{\"id\":\"6bf85598-faf1-4ca0-9980-9d3d653d2c05\",\"type\":\"HoverTool\"},{\"id\":\"f91c7738-9655-48a6-8b65-a1c36a29468f\",\"type\":\"SaveTool\"}]},\"id\":\"930bd6c1-8f8d-49a8-b8c3-5dad89349c9e\",\"type\":\"Toolbar\"},{\"attributes\":{\"callback\":null,\"renderers\":\"auto\"},\"id\":\"6bf85598-faf1-4ca0-9980-9d3d653d2c05\",\"type\":\"HoverTool\"},{\"attributes\":{},\"id\":\"f91c7738-9655-48a6-8b65-a1c36a29468f\",\"type\":\"SaveTool\"},{\"attributes\":{},\"id\":\"5776ddd9-649b-4940-8d9a-501921e57d85\",\"type\":\"UnionRenderers\"},{\"attributes\":{\"plot\":null,\"text\":\"\"},\"id\":\"639640be-ee17-4873-9d3e-8eb1953d2a15\",\"type\":\"Title\"},{\"attributes\":{\"callback\":null},\"id\":\"4e741391-4e2e-4b3d-b8ef-81353a59e1d2\",\"type\":\"DataRange1d\"},{\"attributes\":{},\"id\":\"8585a697-cf81-4c51-b597-cbb29cacbef9\",\"type\":\"LinearScale\"},{\"attributes\":{\"source\":{\"id\":\"91a5d3a5-3e80-4e57-9bda-85366e2f9339\",\"type\":\"ColumnDataSource\"}},\"id\":\"0ac707a1-123e-40be-a780-984896ee525b\",\"type\":\"CDSView\"},{\"attributes\":{},\"id\":\"5c717f0c-5c36-415a-a9ed-ef7312137912\",\"type\":\"LinearScale\"}],\"root_ids\":[\"4e0582b2-88cf-44e3-bebc-87d1ada3cb85\"]},\"title\":\"Bokeh Application\",\"version\":\"0.13.0\"}};\n",
       "  var render_items = [{\"docid\":\"834359f8-e7ee-4cbb-a644-c133f0d5c66f\",\"roots\":{\"4e0582b2-88cf-44e3-bebc-87d1ada3cb85\":\"c9c80a38-0963-403e-a13d-5653eb9aa86b\"}}];\n",
       "  root.Bokeh.embed.embed_items_notebook(docs_json, render_items);\n",
       "\n",
       "  }\n",
       "  if (root.Bokeh !== undefined) {\n",
       "    embed_document(root);\n",
       "  } else {\n",
       "    var attempts = 0;\n",
       "    var timer = setInterval(function(root) {\n",
       "      if (root.Bokeh !== undefined) {\n",
       "        embed_document(root);\n",
       "        clearInterval(timer);\n",
       "      }\n",
       "      attempts++;\n",
       "      if (attempts > 100) {\n",
       "        console.log(\"Bokeh: ERROR: Unable to run BokehJS code because BokehJS library is missing\")\n",
       "        clearInterval(timer);\n",
       "      }\n",
       "    }, 10, root)\n",
       "  }\n",
       "})(window);"
      ],
      "application/vnd.bokehjs_exec.v0+json": ""
     },
     "metadata": {
      "application/vnd.bokehjs_exec.v0+json": {
       "id": "4e0582b2-88cf-44e3-bebc-87d1ada3cb85"
      }
     },
     "output_type": "display_data"
    }
   ],
   "source": [
    "from bokeh.palettes import Set1\n",
    "\n",
    "plot_fig = bp.figure(plot_width=800, plot_height=600,\n",
    "                     tools=\"pan, wheel_zoom, box_zoom, reset, hover, previewsave\",\n",
    "                     x_axis_type=None, y_axis_type=None, min_border=1)\n",
    "\n",
    "# Use the third dimension as the color map\n",
    "if X_plot.shape[1] == 3:\n",
    "    colors = X_plot[:,2]\n",
    "    mapper = linear_cmap(field_name='colors', palette=Set1[6] ,low=min(colors) ,high=max(colors))\n",
    "    source = bp.ColumnDataSource(dict(x=X_plot[:,0], y=X_plot[:,1], text=labels_plot, colors=colors))\n",
    "    plot_fig.text(\"x\", \"y\", text=\"text\", text_font_size='10px', text_color=mapper, source=source)\n",
    "else:\n",
    "    source = bp.ColumnDataSource(dict(x=X_plot[:,0], y=X_plot[:,1], text=labels_plot))\n",
    "    plot_fig.text(\"x\", \"y\", text=\"text\", text_font_size='10px', source=source)\n",
    "\n",
    "show(plot_fig)"
   ]
  },
  {
   "cell_type": "code",
   "execution_count": 27,
   "metadata": {},
   "outputs": [],
   "source": [
    "filename = '/data/sentences/sentence_polarity/rt-polarity.pos'\n",
    "filename = parent_dir + filename\n",
    "pos_sentences = []\n",
    "with open(filename, \"r\") as f:\n",
    "    for line in f:\n",
    "        pos_sentences.append(line)"
   ]
  },
  {
   "cell_type": "code",
   "execution_count": 29,
   "metadata": {},
   "outputs": [
    {
     "data": {
      "text/plain": [
       "5331"
      ]
     },
     "execution_count": 29,
     "metadata": {},
     "output_type": "execute_result"
    }
   ],
   "source": [
    "len(pos_sentences)"
   ]
  },
  {
   "cell_type": "code",
   "execution_count": 30,
   "metadata": {},
   "outputs": [],
   "source": [
    "filename = '/data/sentences/sentence_polarity/rt-polarity.neg'\n",
    "filename = parent_dir + filename\n",
    "neg_sentences = []\n",
    "with open(filename, \"r\") as f:\n",
    "    for line in f:\n",
    "        neg_sentences.append(line)"
   ]
  },
  {
   "cell_type": "code",
   "execution_count": 31,
   "metadata": {},
   "outputs": [
    {
     "data": {
      "text/plain": [
       "5331"
      ]
     },
     "execution_count": 31,
     "metadata": {},
     "output_type": "execute_result"
    }
   ],
   "source": [
    "len(neg_sentences)"
   ]
  },
  {
   "cell_type": "code",
   "execution_count": 32,
   "metadata": {},
   "outputs": [],
   "source": [
    "pos_labels = [1] * len(pos_sentences)\n",
    "neg_labels = [0] * len(neg_sentences)"
   ]
  },
  {
   "cell_type": "code",
   "execution_count": 33,
   "metadata": {},
   "outputs": [],
   "source": [
    "all_sentences = pos_sentences + neg_sentences\n",
    "all_labels = pos_labels + neg_labels"
   ]
  },
  {
   "cell_type": "code",
   "execution_count": 36,
   "metadata": {},
   "outputs": [],
   "source": [
    "import pandas as pd"
   ]
  },
  {
   "cell_type": "code",
   "execution_count": 37,
   "metadata": {},
   "outputs": [],
   "source": [
    "data_dict = {'sentences': all_sentences, 'labels': all_labels}\n",
    "df = pd.DataFrame(data_dict)"
   ]
  },
  {
   "cell_type": "code",
   "execution_count": 39,
   "metadata": {},
   "outputs": [],
   "source": [
    "outfile = parent_dir + '/data/sentences/polarity.csv'\n",
    "df.to_csv(outfile, index=False)"
   ]
  },
  {
   "cell_type": "code",
   "execution_count": 40,
   "metadata": {},
   "outputs": [],
   "source": [
    "parent_dir = os.path.abspath('..')\n",
    "test_file = '/data/sentences/polarity_emb.pkl'\n",
    "with open(parent_dir+test_file, 'rb') as f:\n",
    "    [text, X_emb] = pickle.load(f)"
   ]
  },
  {
   "cell_type": "code",
   "execution_count": 41,
   "metadata": {},
   "outputs": [],
   "source": [
    "dim_red = DimReduction(2)\n",
    "X_tsne_2 = dim_red.fit_transform(X_emb, 'tsne')"
   ]
  },
  {
   "cell_type": "code",
   "execution_count": 42,
   "metadata": {},
   "outputs": [
    {
     "data": {
      "image/png": "[encoded data removed]",
      "text/plain": [
       "<Figure size 432x288 with 1 Axes>"
      ]
     },
     "metadata": {},
     "output_type": "display_data"
    }
   ],
   "source": [
    "%matplotlib inline\n",
    "import matplotlib.pyplot as plt\n",
    "plt.scatter(X_tsne_2[:5331,0], X_tsne_2[:5331,1], marker='x', c='r')\n",
    "plt.scatter(X_tsne_2[5331:,0], X_tsne_2[5331:,1], marker='+', c='b')\n",
    "plt.show()"
   ]
  },
  {
   "cell_type": "code",
   "execution_count": null,
   "metadata": {},
   "outputs": [],
   "source": []
  }
 ],
 "metadata": {
  "kernelspec": {
   "display_name": "Python (py36)",
   "language": "python",
   "name": "py36"
  },
  "language_info": {
   "codemirror_mode": {
    "name": "ipython",
    "version": 3
   },
   "file_extension": ".py",
   "mimetype": "text/x-python",
   "name": "python",
   "nbconvert_exporter": "python",
   "pygments_lexer": "ipython3",
   "version": "3.6.7"
  }
 },
 "nbformat": 4,
 "nbformat_minor": 2
}
