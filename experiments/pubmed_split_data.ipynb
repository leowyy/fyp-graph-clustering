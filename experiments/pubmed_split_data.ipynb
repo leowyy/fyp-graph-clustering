{
 "cells": [
  {
   "cell_type": "code",
   "execution_count": 1,
   "metadata": {},
   "outputs": [
    {
     "data": {
      "text/plain": [
       "'/Users/signapoop/Desktop/fyp-graph-clustering'"
      ]
     },
     "execution_count": 1,
     "metadata": {},
     "output_type": "execute_result"
    }
   ],
   "source": [
    "import os\n",
    "os.chdir('..')\n",
    "os.getcwd()"
   ]
  },
  {
   "cell_type": "code",
   "execution_count": 2,
   "metadata": {},
   "outputs": [],
   "source": [
    "import pickle \n",
    "import numpy as np\n",
    "import torch\n",
    "import os"
   ]
  },
  {
   "cell_type": "code",
   "execution_count": 3,
   "metadata": {},
   "outputs": [],
   "source": [
    "from core.EmbeddingDataSet import EmbeddingDataSet"
   ]
  },
  {
   "cell_type": "code",
   "execution_count": 7,
   "metadata": {},
   "outputs": [
    {
     "name": "stdout",
     "output_type": "stream",
     "text": [
      "Time to create all data (s) = 0.0235\n",
      "Name of dataset = pubmed\n",
      "Input dimension = 500\n",
      "Number of training samples = 19717\n",
      "Training labels = True\n",
      "Graph information = True\n"
     ]
    }
   ],
   "source": [
    "dataset_name = 'pubmed'\n",
    "parent_dir = os.path.abspath('..')\n",
    "input_dir = os.path.join(parent_dir, 'data')\n",
    "dataset = EmbeddingDataSet(dataset_name, input_dir)\n",
    "dataset.create_all_data(n_batches=1, shuffle=True, sampling=False)\n",
    "dataset.summarise()"
   ]
  },
  {
   "cell_type": "code",
   "execution_count": 8,
   "metadata": {},
   "outputs": [],
   "source": [
    "all_indices = np.arange(0, len(dataset.labels))"
   ]
  },
  {
   "cell_type": "code",
   "execution_count": 10,
   "metadata": {},
   "outputs": [
    {
     "name": "stdout",
     "output_type": "stream",
     "text": [
      "19717\n"
     ]
    }
   ],
   "source": [
    "n = len(all_indices)\n",
    "print(n)"
   ]
  },
  {
   "cell_type": "code",
   "execution_count": 12,
   "metadata": {},
   "outputs": [
    {
     "name": "stdout",
     "output_type": "stream",
     "text": [
      "15773 1971\n"
     ]
    }
   ],
   "source": [
    "n_train = int(n * 0.8)\n",
    "n_val = int(n * 0.1)"
   ]
  },
  {
   "cell_type": "code",
   "execution_count": 13,
   "metadata": {},
   "outputs": [
    {
     "name": "stdout",
     "output_type": "stream",
     "text": [
      "15773 1971 1973\n"
     ]
    }
   ],
   "source": [
    "train_mask = all_indices[:n_train]\n",
    "val_mask = all_indices[n_train:n_train+n_val]\n",
    "test_mask = all_indices[n_train+n_val:]\n",
    "print(len(train_mask), len(val_mask), len(test_mask))"
   ]
  },
  {
   "cell_type": "code",
   "execution_count": 14,
   "metadata": {},
   "outputs": [],
   "source": [
    "def apply_mask(inputs, labels, adj, mask):\n",
    "    return inputs[mask], labels[mask], adj[mask,:][:,mask]"
   ]
  },
  {
   "cell_type": "code",
   "execution_count": 19,
   "metadata": {},
   "outputs": [],
   "source": [
    "inputs, labels, adj = apply_mask(dataset.inputs, dataset.labels, dataset.adj_matrix, train_mask)\n",
    "with open('pubmed_train.pkl', 'wb') as f:\n",
    "    pickle.dump([inputs, labels, adj], f)"
   ]
  },
  {
   "cell_type": "code",
   "execution_count": 20,
   "metadata": {},
   "outputs": [],
   "source": [
    "inputs, labels, adj = apply_mask(dataset.inputs, dataset.labels, dataset.adj_matrix, val_mask)\n",
    "with open('pubmed_val.pkl', 'wb') as f:\n",
    "    pickle.dump([inputs, labels, adj], f)"
   ]
  },
  {
   "cell_type": "code",
   "execution_count": 21,
   "metadata": {},
   "outputs": [],
   "source": [
    "inputs, labels, adj = apply_mask(dataset.inputs, dataset.labels, dataset.adj_matrix, test_mask)\n",
    "with open('pubmed_test.pkl', 'wb') as f:\n",
    "    pickle.dump([inputs, labels, adj], f)"
   ]
  },
  {
   "cell_type": "code",
   "execution_count": null,
   "metadata": {},
   "outputs": [],
   "source": []
  }
 ],
 "metadata": {
  "kernelspec": {
   "display_name": "Python (py36)",
   "language": "python",
   "name": "py36"
  },
  "language_info": {
   "codemirror_mode": {
    "name": "ipython",
    "version": 3
   },
   "file_extension": ".py",
   "mimetype": "text/x-python",
   "name": "python",
   "nbconvert_exporter": "python",
   "pygments_lexer": "ipython3",
   "version": "3.6.7"
  }
 },
 "nbformat": 4,
 "nbformat_minor": 2
}
