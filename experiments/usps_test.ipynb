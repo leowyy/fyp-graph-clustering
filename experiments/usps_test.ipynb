{
 "cells": [
  {
   "cell_type": "code",
   "execution_count": 1,
   "metadata": {},
   "outputs": [
    {
     "data": {
      "text/plain": [
       "'/home/leowyaoyang/fyp-graph-clustering'"
      ]
     },
     "execution_count": 1,
     "metadata": {},
     "output_type": "execute_result"
    }
   ],
   "source": [
    "import os\n",
    "os.chdir('..')\n",
    "os.getcwd()"
   ]
  },
  {
   "cell_type": "code",
   "execution_count": 2,
   "metadata": {},
   "outputs": [],
   "source": [
    "%matplotlib inline\n",
    "import matplotlib.pyplot as plt\n",
    "from matplotlib.offsetbox import OffsetImage, AnnotationBbox\n",
    "\n",
    "import pickle \n",
    "import numpy as np\n",
    "import pandas as pd\n",
    "import torch\n",
    "import os\n",
    "from timeit import default_timer as timer"
   ]
  },
  {
   "cell_type": "code",
   "execution_count": 3,
   "metadata": {},
   "outputs": [],
   "source": [
    "from core.GraphConvNet2 import GraphConvNet2\n",
    "from core.SimpleNet import SimpleNet\n",
    "from core.DataEmbeddingGraph import DataEmbeddingGraph"
   ]
  },
  {
   "cell_type": "code",
   "execution_count": 4,
   "metadata": {},
   "outputs": [
    {
     "name": "stdout",
     "output_type": "stream",
     "text": [
      "cuda available\n"
     ]
    }
   ],
   "source": [
    "if torch.cuda.is_available():\n",
    "    print('cuda available')\n",
    "    device = 'cuda'\n",
    "else:\n",
    "    print('cuda not available')\n",
    "    device = 'cpu'"
   ]
  },
  {
   "cell_type": "code",
   "execution_count": 5,
   "metadata": {},
   "outputs": [],
   "source": [
    "parent_dir = os.path.abspath('..')\n",
    "test_file = '/data/usps/usps_test_tsne.pkl'\n",
    "with open(parent_dir+test_file, 'rb') as f:\n",
    "    [inputs, labels, X_emb] = pickle.load(f)"
   ]
  },
  {
   "cell_type": "code",
   "execution_count": 6,
   "metadata": {},
   "outputs": [
    {
     "name": "stdout",
     "output_type": "stream",
     "text": [
      "torch.Size([1860, 1, 28, 28])\n",
      "1860\n",
      "(1860, 2)\n"
     ]
    }
   ],
   "source": [
    "print(inputs.shape)\n",
    "print(len(labels))\n",
    "print(X_emb.shape)"
   ]
  },
  {
   "cell_type": "code",
   "execution_count": 7,
   "metadata": {},
   "outputs": [],
   "source": [
    "G = DataEmbeddingGraph(inputs, [], None)"
   ]
  },
  {
   "cell_type": "code",
   "execution_count": 8,
   "metadata": {},
   "outputs": [],
   "source": [
    "net_parameters = {}\n",
    "net_parameters['n_components'] = 2\n",
    "net_parameters['D'] = 784 # input dimension\n",
    "net_parameters['H'] = 50 # number of hidden units\n",
    "net_parameters['L'] = 10 # number of hidden layers"
   ]
  },
  {
   "cell_type": "code",
   "execution_count": 9,
   "metadata": {},
   "outputs": [],
   "source": [
    "# Graph net\n",
    "net = SimpleNet(net_parameters)\n",
    "if torch.cuda.is_available(): net.cuda()\n",
    "root = 'results/usps_1/'\n",
    "filename = root + 'simple_net_2000.pkl'\n",
    "checkpoint = torch.load(filename, map_location=device)\n",
    "net.load_state_dict(checkpoint['state_dict'])"
   ]
  },
  {
   "cell_type": "code",
   "execution_count": 10,
   "metadata": {},
   "outputs": [],
   "source": [
    "# Net\n",
    "if torch.cuda.is_available():   \n",
    "    y_pred = net.forward(G).cpu().detach().numpy()\n",
    "else:    \n",
    "    y_pred = net.forward(G).detach().numpy()"
   ]
  },
  {
   "cell_type": "code",
   "execution_count": 11,
   "metadata": {},
   "outputs": [],
   "source": [
    "from util.plot_bokeh_embedding import plot_embedding"
   ]
  },
  {
   "cell_type": "code",
   "execution_count": 12,
   "metadata": {},
   "outputs": [],
   "source": [
    "target_names = [str(i) for i in range(10)]\n",
    "named_labels = [target_names[l] for l in labels]"
   ]
  },
  {
   "cell_type": "code",
   "execution_count": 13,
   "metadata": {},
   "outputs": [
    {
     "data": {
      "text/html": [
       "\n",
       "    <div class=\"bk-root\">\n",
       "        <a href=\"https://bokeh.pydata.org\" target=\"_blank\" class=\"bk-logo bk-logo-small bk-logo-notebook\"></a>\n",
       "        <span id=\"9e1d66aa-1b3d-43a0-ba2b-abab8794051a\">Loading BokehJS ...</span>\n",
       "    </div>"
      ]
     },
     "metadata": {},
     "output_type": "display_data"
    },
    {
     "data": {
      "application/javascript": [
       "\n",
       "(function(root) {\n",
       "  function now() {\n",
       "    return new Date();\n",
       "  }\n",
       "\n",
       "  var force = true;\n",
       "\n",
       "  if (typeof (root._bokeh_onload_callbacks) === \"undefined\" || force === true) {\n",
       "    root._bokeh_onload_callbacks = [];\n",
       "    root._bokeh_is_loading = undefined;\n",
       "  }\n",
       "\n",
       "  var JS_MIME_TYPE = 'application/javascript';\n",
       "  var HTML_MIME_TYPE = 'text/html';\n",
       "  var EXEC_MIME_TYPE = 'application/vnd.bokehjs_exec.v0+json';\n",
       "  var CLASS_NAME = 'output_bokeh rendered_html';\n",
       "\n",
       "  /**\n",
       "   * Render data to the DOM node\n",
       "   */\n",
       "  function render(props, node) {\n",
       "    var script = document.createElement(\"script\");\n",
       "    node.appendChild(script);\n",
       "  }\n",
       "\n",
       "  /**\n",
       "   * Handle when an output is cleared or removed\n",
       "   */\n",
       "  function handleClearOutput(event, handle) {\n",
       "    var cell = handle.cell;\n",
       "\n",
       "    var id = cell.output_area._bokeh_element_id;\n",
       "    var server_id = cell.output_area._bokeh_server_id;\n",
       "    // Clean up Bokeh references\n",
       "    if (id != null && id in Bokeh.index) {\n",
       "      Bokeh.index[id].model.document.clear();\n",
       "      delete Bokeh.index[id];\n",
       "    }\n",
       "\n",
       "    if (server_id !== undefined) {\n",
       "      // Clean up Bokeh references\n",
       "      var cmd = \"from bokeh.io.state import curstate; print(curstate().uuid_to_server['\" + server_id + \"'].get_sessions()[0].document.roots[0]._id)\";\n",
       "      cell.notebook.kernel.execute(cmd, {\n",
       "        iopub: {\n",
       "          output: function(msg) {\n",
       "            var id = msg.content.text.trim();\n",
       "            if (id in Bokeh.index) {\n",
       "              Bokeh.index[id].model.document.clear();\n",
       "              delete Bokeh.index[id];\n",
       "            }\n",
       "          }\n",
       "        }\n",
       "      });\n",
       "      // Destroy server and session\n",
       "      var cmd = \"import bokeh.io.notebook as ion; ion.destroy_server('\" + server_id + \"')\";\n",
       "      cell.notebook.kernel.execute(cmd);\n",
       "    }\n",
       "  }\n",
       "\n",
       "  /**\n",
       "   * Handle when a new output is added\n",
       "   */\n",
       "  function handleAddOutput(event, handle) {\n",
       "    var output_area = handle.output_area;\n",
       "    var output = handle.output;\n",
       "\n",
       "    // limit handleAddOutput to display_data with EXEC_MIME_TYPE content only\n",
       "    if ((output.output_type != \"display_data\") || (!output.data.hasOwnProperty(EXEC_MIME_TYPE))) {\n",
       "      return\n",
       "    }\n",
       "\n",
       "    var toinsert = output_area.element.find(\".\" + CLASS_NAME.split(' ')[0]);\n",
       "\n",
       "    if (output.metadata[EXEC_MIME_TYPE][\"id\"] !== undefined) {\n",
       "      toinsert[toinsert.length - 1].firstChild.textContent = output.data[JS_MIME_TYPE];\n",
       "      // store reference to embed id on output_area\n",
       "      output_area._bokeh_element_id = output.metadata[EXEC_MIME_TYPE][\"id\"];\n",
       "    }\n",
       "    if (output.metadata[EXEC_MIME_TYPE][\"server_id\"] !== undefined) {\n",
       "      var bk_div = document.createElement(\"div\");\n",
       "      bk_div.innerHTML = output.data[HTML_MIME_TYPE];\n",
       "      var script_attrs = bk_div.children[0].attributes;\n",
       "      for (var i = 0; i < script_attrs.length; i++) {\n",
       "        toinsert[toinsert.length - 1].firstChild.setAttribute(script_attrs[i].name, script_attrs[i].value);\n",
       "      }\n",
       "      // store reference to server id on output_area\n",
       "      output_area._bokeh_server_id = output.metadata[EXEC_MIME_TYPE][\"server_id\"];\n",
       "    }\n",
       "  }\n",
       "\n",
       "  function register_renderer(events, OutputArea) {\n",
       "\n",
       "    function append_mime(data, metadata, element) {\n",
       "      // create a DOM node to render to\n",
       "      var toinsert = this.create_output_subarea(\n",
       "        metadata,\n",
       "        CLASS_NAME,\n",
       "        EXEC_MIME_TYPE\n",
       "      );\n",
       "      this.keyboard_manager.register_events(toinsert);\n",
       "      // Render to node\n",
       "      var props = {data: data, metadata: metadata[EXEC_MIME_TYPE]};\n",
       "      render(props, toinsert[toinsert.length - 1]);\n",
       "      element.append(toinsert);\n",
       "      return toinsert\n",
       "    }\n",
       "\n",
       "    /* Handle when an output is cleared or removed */\n",
       "    events.on('clear_output.CodeCell', handleClearOutput);\n",
       "    events.on('delete.Cell', handleClearOutput);\n",
       "\n",
       "    /* Handle when a new output is added */\n",
       "    events.on('output_added.OutputArea', handleAddOutput);\n",
       "\n",
       "    /**\n",
       "     * Register the mime type and append_mime function with output_area\n",
       "     */\n",
       "    OutputArea.prototype.register_mime_type(EXEC_MIME_TYPE, append_mime, {\n",
       "      /* Is output safe? */\n",
       "      safe: true,\n",
       "      /* Index of renderer in `output_area.display_order` */\n",
       "      index: 0\n",
       "    });\n",
       "  }\n",
       "\n",
       "  // register the mime type if in Jupyter Notebook environment and previously unregistered\n",
       "  if (root.Jupyter !== undefined) {\n",
       "    var events = require('base/js/events');\n",
       "    var OutputArea = require('notebook/js/outputarea').OutputArea;\n",
       "\n",
       "    if (OutputArea.prototype.mime_types().indexOf(EXEC_MIME_TYPE) == -1) {\n",
       "      register_renderer(events, OutputArea);\n",
       "    }\n",
       "  }\n",
       "\n",
       "  \n",
       "  if (typeof (root._bokeh_timeout) === \"undefined\" || force === true) {\n",
       "    root._bokeh_timeout = Date.now() + 5000;\n",
       "    root._bokeh_failed_load = false;\n",
       "  }\n",
       "\n",
       "  var NB_LOAD_WARNING = {'data': {'text/html':\n",
       "     \"<div style='background-color: #fdd'>\\n\"+\n",
       "     \"<p>\\n\"+\n",
       "     \"BokehJS does not appear to have successfully loaded. If loading BokehJS from CDN, this \\n\"+\n",
       "     \"may be due to a slow or bad network connection. Possible fixes:\\n\"+\n",
       "     \"</p>\\n\"+\n",
       "     \"<ul>\\n\"+\n",
       "     \"<li>re-rerun `output_notebook()` to attempt to load from CDN again, or</li>\\n\"+\n",
       "     \"<li>use INLINE resources instead, as so:</li>\\n\"+\n",
       "     \"</ul>\\n\"+\n",
       "     \"<code>\\n\"+\n",
       "     \"from bokeh.resources import INLINE\\n\"+\n",
       "     \"output_notebook(resources=INLINE)\\n\"+\n",
       "     \"</code>\\n\"+\n",
       "     \"</div>\"}};\n",
       "\n",
       "  function display_loaded() {\n",
       "    var el = document.getElementById(\"9e1d66aa-1b3d-43a0-ba2b-abab8794051a\");\n",
       "    if (el != null) {\n",
       "      el.textContent = \"BokehJS is loading...\";\n",
       "    }\n",
       "    if (root.Bokeh !== undefined) {\n",
       "      if (el != null) {\n",
       "        el.textContent = \"BokehJS \" + root.Bokeh.version + \" successfully loaded.\";\n",
       "      }\n",
       "    } else if (Date.now() < root._bokeh_timeout) {\n",
       "      setTimeout(display_loaded, 100)\n",
       "    }\n",
       "  }\n",
       "\n",
       "\n",
       "  function run_callbacks() {\n",
       "    try {\n",
       "      root._bokeh_onload_callbacks.forEach(function(callback) { callback() });\n",
       "    }\n",
       "    finally {\n",
       "      delete root._bokeh_onload_callbacks\n",
       "    }\n",
       "    console.info(\"Bokeh: all callbacks have finished\");\n",
       "  }\n",
       "\n",
       "  function load_libs(js_urls, callback) {\n",
       "    root._bokeh_onload_callbacks.push(callback);\n",
       "    if (root._bokeh_is_loading > 0) {\n",
       "      console.log(\"Bokeh: BokehJS is being loaded, scheduling callback at\", now());\n",
       "      return null;\n",
       "    }\n",
       "    if (js_urls == null || js_urls.length === 0) {\n",
       "      run_callbacks();\n",
       "      return null;\n",
       "    }\n",
       "    console.log(\"Bokeh: BokehJS not loaded, scheduling load and callback at\", now());\n",
       "    root._bokeh_is_loading = js_urls.length;\n",
       "    for (var i = 0; i < js_urls.length; i++) {\n",
       "      var url = js_urls[i];\n",
       "      var s = document.createElement('script');\n",
       "      s.src = url;\n",
       "      s.async = false;\n",
       "      s.onreadystatechange = s.onload = function() {\n",
       "        root._bokeh_is_loading--;\n",
       "        if (root._bokeh_is_loading === 0) {\n",
       "          console.log(\"Bokeh: all BokehJS libraries loaded\");\n",
       "          run_callbacks()\n",
       "        }\n",
       "      };\n",
       "      s.onerror = function() {\n",
       "        console.warn(\"failed to load library \" + url);\n",
       "      };\n",
       "      console.log(\"Bokeh: injecting script tag for BokehJS library: \", url);\n",
       "      document.getElementsByTagName(\"head\")[0].appendChild(s);\n",
       "    }\n",
       "  };var element = document.getElementById(\"9e1d66aa-1b3d-43a0-ba2b-abab8794051a\");\n",
       "  if (element == null) {\n",
       "    console.log(\"Bokeh: ERROR: autoload.js configured with elementid '9e1d66aa-1b3d-43a0-ba2b-abab8794051a' but no matching script tag was found. \")\n",
       "    return false;\n",
       "  }\n",
       "\n",
       "  var js_urls = [\"https://cdn.pydata.org/bokeh/release/bokeh-0.13.0.min.js\", \"https://cdn.pydata.org/bokeh/release/bokeh-widgets-0.13.0.min.js\", \"https://cdn.pydata.org/bokeh/release/bokeh-tables-0.13.0.min.js\", \"https://cdn.pydata.org/bokeh/release/bokeh-gl-0.13.0.min.js\"];\n",
       "\n",
       "  var inline_js = [\n",
       "    function(Bokeh) {\n",
       "      Bokeh.set_log_level(\"info\");\n",
       "    },\n",
       "    \n",
       "    function(Bokeh) {\n",
       "      \n",
       "    },\n",
       "    function(Bokeh) {\n",
       "      console.log(\"Bokeh: injecting CSS: https://cdn.pydata.org/bokeh/release/bokeh-0.13.0.min.css\");\n",
       "      Bokeh.embed.inject_css(\"https://cdn.pydata.org/bokeh/release/bokeh-0.13.0.min.css\");\n",
       "      console.log(\"Bokeh: injecting CSS: https://cdn.pydata.org/bokeh/release/bokeh-widgets-0.13.0.min.css\");\n",
       "      Bokeh.embed.inject_css(\"https://cdn.pydata.org/bokeh/release/bokeh-widgets-0.13.0.min.css\");\n",
       "      console.log(\"Bokeh: injecting CSS: https://cdn.pydata.org/bokeh/release/bokeh-tables-0.13.0.min.css\");\n",
       "      Bokeh.embed.inject_css(\"https://cdn.pydata.org/bokeh/release/bokeh-tables-0.13.0.min.css\");\n",
       "    }\n",
       "  ];\n",
       "\n",
       "  function run_inline_js() {\n",
       "    \n",
       "    if ((root.Bokeh !== undefined) || (force === true)) {\n",
       "      for (var i = 0; i < inline_js.length; i++) {\n",
       "        inline_js[i].call(root, root.Bokeh);\n",
       "      }if (force === true) {\n",
       "        display_loaded();\n",
       "      }} else if (Date.now() < root._bokeh_timeout) {\n",
       "      setTimeout(run_inline_js, 100);\n",
       "    } else if (!root._bokeh_failed_load) {\n",
       "      console.log(\"Bokeh: BokehJS failed to load within specified timeout.\");\n",
       "      root._bokeh_failed_load = true;\n",
       "    } else if (force !== true) {\n",
       "      var cell = $(document.getElementById(\"9e1d66aa-1b3d-43a0-ba2b-abab8794051a\")).parents('.cell').data().cell;\n",
       "      cell.output_area.append_execute_result(NB_LOAD_WARNING)\n",
       "    }\n",
       "\n",
       "  }\n",
       "\n",
       "  if (root._bokeh_is_loading === 0) {\n",
       "    console.log(\"Bokeh: BokehJS loaded, going straight to plotting\");\n",
       "    run_inline_js();\n",
       "  } else {\n",
       "    load_libs(js_urls, function() {\n",
       "      console.log(\"Bokeh: BokehJS plotting callback run at\", now());\n",
       "      run_inline_js();\n",
       "    });\n",
       "  }\n",
       "}(window));"
      ],
      "application/vnd.bokehjs_load.v0+json": "\n(function(root) {\n  function now() {\n    return new Date();\n  }\n\n  var force = true;\n\n  if (typeof (root._bokeh_onload_callbacks) === \"undefined\" || force === true) {\n    root._bokeh_onload_callbacks = [];\n    root._bokeh_is_loading = undefined;\n  }\n\n  \n\n  \n  if (typeof (root._bokeh_timeout) === \"undefined\" || force === true) {\n    root._bokeh_timeout = Date.now() + 5000;\n    root._bokeh_failed_load = false;\n  }\n\n  var NB_LOAD_WARNING = {'data': {'text/html':\n     \"<div style='background-color: #fdd'>\\n\"+\n     \"<p>\\n\"+\n     \"BokehJS does not appear to have successfully loaded. If loading BokehJS from CDN, this \\n\"+\n     \"may be due to a slow or bad network connection. Possible fixes:\\n\"+\n     \"</p>\\n\"+\n     \"<ul>\\n\"+\n     \"<li>re-rerun `output_notebook()` to attempt to load from CDN again, or</li>\\n\"+\n     \"<li>use INLINE resources instead, as so:</li>\\n\"+\n     \"</ul>\\n\"+\n     \"<code>\\n\"+\n     \"from bokeh.resources import INLINE\\n\"+\n     \"output_notebook(resources=INLINE)\\n\"+\n     \"</code>\\n\"+\n     \"</div>\"}};\n\n  function display_loaded() {\n    var el = document.getElementById(\"9e1d66aa-1b3d-43a0-ba2b-abab8794051a\");\n    if (el != null) {\n      el.textContent = \"BokehJS is loading...\";\n    }\n    if (root.Bokeh !== undefined) {\n      if (el != null) {\n        el.textContent = \"BokehJS \" + root.Bokeh.version + \" successfully loaded.\";\n      }\n    } else if (Date.now() < root._bokeh_timeout) {\n      setTimeout(display_loaded, 100)\n    }\n  }\n\n\n  function run_callbacks() {\n    try {\n      root._bokeh_onload_callbacks.forEach(function(callback) { callback() });\n    }\n    finally {\n      delete root._bokeh_onload_callbacks\n    }\n    console.info(\"Bokeh: all callbacks have finished\");\n  }\n\n  function load_libs(js_urls, callback) {\n    root._bokeh_onload_callbacks.push(callback);\n    if (root._bokeh_is_loading > 0) {\n      console.log(\"Bokeh: BokehJS is being loaded, scheduling callback at\", now());\n      return null;\n    }\n    if (js_urls == null || js_urls.length === 0) {\n      run_callbacks();\n      return null;\n    }\n    console.log(\"Bokeh: BokehJS not loaded, scheduling load and callback at\", now());\n    root._bokeh_is_loading = js_urls.length;\n    for (var i = 0; i < js_urls.length; i++) {\n      var url = js_urls[i];\n      var s = document.createElement('script');\n      s.src = url;\n      s.async = false;\n      s.onreadystatechange = s.onload = function() {\n        root._bokeh_is_loading--;\n        if (root._bokeh_is_loading === 0) {\n          console.log(\"Bokeh: all BokehJS libraries loaded\");\n          run_callbacks()\n        }\n      };\n      s.onerror = function() {\n        console.warn(\"failed to load library \" + url);\n      };\n      console.log(\"Bokeh: injecting script tag for BokehJS library: \", url);\n      document.getElementsByTagName(\"head\")[0].appendChild(s);\n    }\n  };var element = document.getElementById(\"9e1d66aa-1b3d-43a0-ba2b-abab8794051a\");\n  if (element == null) {\n    console.log(\"Bokeh: ERROR: autoload.js configured with elementid '9e1d66aa-1b3d-43a0-ba2b-abab8794051a' but no matching script tag was found. \")\n    return false;\n  }\n\n  var js_urls = [\"https://cdn.pydata.org/bokeh/release/bokeh-0.13.0.min.js\", \"https://cdn.pydata.org/bokeh/release/bokeh-widgets-0.13.0.min.js\", \"https://cdn.pydata.org/bokeh/release/bokeh-tables-0.13.0.min.js\", \"https://cdn.pydata.org/bokeh/release/bokeh-gl-0.13.0.min.js\"];\n\n  var inline_js = [\n    function(Bokeh) {\n      Bokeh.set_log_level(\"info\");\n    },\n    \n    function(Bokeh) {\n      \n    },\n    function(Bokeh) {\n      console.log(\"Bokeh: injecting CSS: https://cdn.pydata.org/bokeh/release/bokeh-0.13.0.min.css\");\n      Bokeh.embed.inject_css(\"https://cdn.pydata.org/bokeh/release/bokeh-0.13.0.min.css\");\n      console.log(\"Bokeh: injecting CSS: https://cdn.pydata.org/bokeh/release/bokeh-widgets-0.13.0.min.css\");\n      Bokeh.embed.inject_css(\"https://cdn.pydata.org/bokeh/release/bokeh-widgets-0.13.0.min.css\");\n      console.log(\"Bokeh: injecting CSS: https://cdn.pydata.org/bokeh/release/bokeh-tables-0.13.0.min.css\");\n      Bokeh.embed.inject_css(\"https://cdn.pydata.org/bokeh/release/bokeh-tables-0.13.0.min.css\");\n    }\n  ];\n\n  function run_inline_js() {\n    \n    if ((root.Bokeh !== undefined) || (force === true)) {\n      for (var i = 0; i < inline_js.length; i++) {\n        inline_js[i].call(root, root.Bokeh);\n      }if (force === true) {\n        display_loaded();\n      }} else if (Date.now() < root._bokeh_timeout) {\n      setTimeout(run_inline_js, 100);\n    } else if (!root._bokeh_failed_load) {\n      console.log(\"Bokeh: BokehJS failed to load within specified timeout.\");\n      root._bokeh_failed_load = true;\n    } else if (force !== true) {\n      var cell = $(document.getElementById(\"9e1d66aa-1b3d-43a0-ba2b-abab8794051a\")).parents('.cell').data().cell;\n      cell.output_area.append_execute_result(NB_LOAD_WARNING)\n    }\n\n  }\n\n  if (root._bokeh_is_loading === 0) {\n    console.log(\"Bokeh: BokehJS loaded, going straight to plotting\");\n    run_inline_js();\n  } else {\n    load_libs(js_urls, function() {\n      console.log(\"Bokeh: BokehJS plotting callback run at\", now());\n      run_inline_js();\n    });\n  }\n}(window));"
     },
     "metadata": {},
     "output_type": "display_data"
    }
   ],
   "source": [
    "from bokeh.io import output_notebook\n",
    "output_notebook()"
   ]
  },
  {
   "cell_type": "code",
   "execution_count": 14,
   "metadata": {},
   "outputs": [
    {
     "data": {
      "text/html": [
       "\n",
       "\n",
       "\n",
       "\n",
       "\n",
       "\n",
       "  <div class=\"bk-root\" id=\"5115d19b-3561-48ac-9b87-214f797a71a8\"></div>\n"
      ]
     },
     "metadata": {},
     "output_type": "display_data"
    },
    {
     "data": {
      "application/javascript": [
       "(function(root) {\n",
       "  function embed_document(root) {\n",
       "    \n",
       "  var docs_json = {\"9cb19145-9bb8-4ec2-a9a6-f41c8c222386\":{\"roots\":{\"references\":[{\"attributes\":{},\"id\":\"71e5e4ca-088f-4480-8e05-f302d894cd32\",\"type\":\"ResetTool\"},{\"attributes\":{\"bottom_units\":\"screen\",\"fill_alpha\":{\"value\":0.5},\"fill_color\":{\"value\":\"lightgrey\"},\"left_units\":\"screen\",\"level\":\"overlay\",\"line_alpha\":{\"value\":1.0},\"line_color\":{\"value\":\"black\"},\"line_dash\":[4,4],\"line_width\":{\"value\":2},\"plot\":null,\"render_mode\":\"css\",\"right_units\":\"screen\",\"top_units\":\"screen\"},\"id\":\"678780dd-80df-4f41-bbd4-06ee2e52f28d\",\"type\":\"BoxAnnotation\"},{\"attributes\":{\"callback\":null,\"renderers\":\"auto\"},\"id\":\"ca753e81-dacc-4a4e-9226-e742e7f93319\",\"type\":\"HoverTool\"},{\"attributes\":{\"callback\":null},\"id\":\"137ea32f-f797-474a-ae87-80f2f9c2923a\",\"type\":\"DataRange1d\"},{\"attributes\":{},\"id\":\"de0830f2-a253-453f-a0a9-e54c36ba9d3c\",\"type\":\"SaveTool\"},{\"attributes\":{},\"id\":\"35b9d007-2a36-4424-81b5-385e7b6cb3e4\",\"type\":\"PanTool\"},{\"attributes\":{\"callback\":null},\"id\":\"699b8663-d113-43fc-975c-3cd99fe66a18\",\"type\":\"DataRange1d\"},{\"attributes\":{\"plot\":null,\"text\":\"\"},\"id\":\"66edce61-29e2-491c-a62a-88018bfc3fae\",\"type\":\"Title\"},{\"attributes\":{\"source\":{\"id\":\"22bf4559-e352-4e75-8bbd-8893a3c86279\",\"type\":\"ColumnDataSource\"}},\"id\":\"16caf7b5-cb8e-4536-ba09-aa29cd2ccfe2\",\"type\":\"CDSView\"},{\"attributes\":{\"fill_color\":{\"field\":\"color\"},\"line_color\":{\"field\":\"color\"},\"x\":{\"field\":\"x\"},\"y\":{\"field\":\"y\"}},\"id\":\"02bc3835-86c3-45cd-b5bb-39bab2880497\",\"type\":\"Circle\"},{\"attributes\":{\"items\":[{\"id\":\"d8b3d936-8072-4086-9225-4c0161b368fc\",\"type\":\"LegendItem\"}],\"label_text_font_size\":{\"value\":\"7pt\"},\"location\":[0,70],\"plot\":{\"id\":\"dd2de252-caf8-4568-8695-9ce018e24232\",\"subtype\":\"Figure\",\"type\":\"Plot\"}},\"id\":\"605d6d61-03da-4fa9-884f-89716ee93e1d\",\"type\":\"Legend\"},{\"attributes\":{\"active_drag\":\"auto\",\"active_inspect\":\"auto\",\"active_multi\":null,\"active_scroll\":\"auto\",\"active_tap\":\"auto\",\"tools\":[{\"id\":\"35b9d007-2a36-4424-81b5-385e7b6cb3e4\",\"type\":\"PanTool\"},{\"id\":\"79a6369e-72ba-402f-a0a6-166d2db8c515\",\"type\":\"WheelZoomTool\"},{\"id\":\"76035084-42cb-4c86-9075-18d7a2ce40c7\",\"type\":\"BoxZoomTool\"},{\"id\":\"71e5e4ca-088f-4480-8e05-f302d894cd32\",\"type\":\"ResetTool\"},{\"id\":\"ca753e81-dacc-4a4e-9226-e742e7f93319\",\"type\":\"HoverTool\"},{\"id\":\"de0830f2-a253-453f-a0a9-e54c36ba9d3c\",\"type\":\"SaveTool\"}]},\"id\":\"22622971-9b22-4658-960c-5bb71304a3a6\",\"type\":\"Toolbar\"},{\"attributes\":{\"label\":{\"field\":\"label\"},\"renderers\":[{\"id\":\"2cc14c89-3f65-4104-ad3a-e82228d48c03\",\"type\":\"GlyphRenderer\"}]},\"id\":\"d8b3d936-8072-4086-9225-4c0161b368fc\",\"type\":\"LegendItem\"},{\"attributes\":{\"min_border\":1,\"plot_height\":500,\"plot_width\":700,\"renderers\":[{\"id\":\"678780dd-80df-4f41-bbd4-06ee2e52f28d\",\"type\":\"BoxAnnotation\"},{\"id\":\"605d6d61-03da-4fa9-884f-89716ee93e1d\",\"type\":\"Legend\"},{\"id\":\"2cc14c89-3f65-4104-ad3a-e82228d48c03\",\"type\":\"GlyphRenderer\"},{\"id\":\"605d6d61-03da-4fa9-884f-89716ee93e1d\",\"type\":\"Legend\"}],\"right\":[{\"id\":\"605d6d61-03da-4fa9-884f-89716ee93e1d\",\"type\":\"Legend\"}],\"title\":{\"id\":\"66edce61-29e2-491c-a62a-88018bfc3fae\",\"type\":\"Title\"},\"toolbar\":{\"id\":\"22622971-9b22-4658-960c-5bb71304a3a6\",\"type\":\"Toolbar\"},\"x_range\":{\"id\":\"699b8663-d113-43fc-975c-3cd99fe66a18\",\"type\":\"DataRange1d\"},\"x_scale\":{\"id\":\"e7340ad5-2259-4964-9d05-0b03e0d458c4\",\"type\":\"LinearScale\"},\"y_range\":{\"id\":\"137ea32f-f797-474a-ae87-80f2f9c2923a\",\"type\":\"DataRange1d\"},\"y_scale\":{\"id\":\"528222f7-2829-4cab-b073-570a3e0eb1b8\",\"type\":\"LinearScale\"}},\"id\":\"dd2de252-caf8-4568-8695-9ce018e24232\",\"subtype\":\"Figure\",\"type\":\"Plot\"},{\"attributes\":{},\"id\":\"e7340ad5-2259-4964-9d05-0b03e0d458c4\",\"type\":\"LinearScale\"},{\"attributes\":{\"callback\":null,\"data\":{\"color\":[\"#9467bd\",\"#9467bd\",\"#aec7e8\",\"#1f77b4\",\"#1f77b4\",\"#aec7e8\",\"#ff7f0e\",\"#d62728\",\"#c5b0d5\",\"#aec7e8\",\"#aec7e8\",\"#1f77b4\",\"#1f77b4\",\"#aec7e8\",\"#c5b0d5\",\"#aec7e8\",\"#ff7f0e\",\"#aec7e8\",\"#9467bd\",\"#aec7e8\",\"#1f77b4\",\"#9467bd\",\"#aec7e8\",\"#d62728\",\"#ff7f0e\",\"#d62728\",\"#ff7f0e\",\"#ffbb78\",\"#c5b0d5\",\"#aec7e8\",\"#1f77b4\",\"#ff7f0e\",\"#ffbb78\",\"#aec7e8\",\"#c5b0d5\",\"#1f77b4\",\"#c5b0d5\",\"#2ca02c\",\"#aec7e8\",\"#9467bd\",\"#ff7f0e\",\"#ffbb78\",\"#9467bd\",\"#98df8a\",\"#ff9896\",\"#2ca02c\",\"#1f77b4\",\"#d62728\",\"#1f77b4\",\"#9467bd\",\"#d62728\",\"#ff9896\",\"#aec7e8\",\"#ff7f0e\",\"#ff7f0e\",\"#9467bd\",\"#ff7f0e\",\"#1f77b4\",\"#98df8a\",\"#1f77b4\",\"#9467bd\",\"#d62728\",\"#aec7e8\",\"#2ca02c\",\"#ff9896\",\"#1f77b4\",\"#ffbb78\",\"#ff7f0e\",\"#aec7e8\",\"#98df8a\",\"#ff7f0e\",\"#ff7f0e\",\"#2ca02c\",\"#c5b0d5\",\"#98df8a\",\"#aec7e8\",\"#1f77b4\",\"#1f77b4\",\"#2ca02c\",\"#ff7f0e\",\"#aec7e8\",\"#1f77b4\",\"#2ca02c\",\"#aec7e8\",\"#1f77b4\",\"#aec7e8\",\"#c5b0d5\",\"#2ca02c\",\"#98df8a\",\"#9467bd\",\"#1f77b4\",\"#ff9896\",\"#98df8a\",\"#2ca02c\",\"#ff7f0e\",\"#1f77b4\",\"#2ca02c\",\"#c5b0d5\",\"#d62728\",\"#1f77b4\",\"#aec7e8\",\"#1f77b4\",\"#aec7e8\",\"#ffbb78\",\"#aec7e8\",\"#1f77b4\",\"#ff7f0e\",\"#2ca02c\",\"#ffbb78\",\"#9467bd\",\"#9467bd\",\"#2ca02c\",\"#ffbb78\",\"#aec7e8\",\"#c5b0d5\",\"#ffbb78\",\"#1f77b4\",\"#aec7e8\",\"#aec7e8\",\"#ff9896\",\"#d62728\",\"#c5b0d5\",\"#1f77b4\",\"#aec7e8\",\"#c5b0d5\",\"#ffbb78\",\"#2ca02c\",\"#c5b0d5\",\"#aec7e8\",\"#98df8a\",\"#d62728\",\"#aec7e8\",\"#ff7f0e\",\"#ffbb78\",\"#98df8a\",\"#98df8a\",\"#1f77b4\",\"#2ca02c\",\"#2ca02c\",\"#ffbb78\",\"#ffbb78\",\"#ffbb78\",\"#aec7e8\",\"#9467bd\",\"#c5b0d5\",\"#2ca02c\",\"#aec7e8\",\"#2ca02c\",\"#98df8a\",\"#2ca02c\",\"#ff7f0e\",\"#2ca02c\",\"#ffbb78\",\"#c5b0d5\",\"#1f77b4\",\"#9467bd\",\"#2ca02c\",\"#ff9896\",\"#ff9896\",\"#ff7f0e\",\"#1f77b4\",\"#1f77b4\",\"#ff9896\",\"#ffbb78\",\"#ffbb78\",\"#ffbb78\",\"#1f77b4\",\"#1f77b4\",\"#ffbb78\",\"#9467bd\",\"#1f77b4\",\"#9467bd\",\"#ffbb78\",\"#aec7e8\",\"#2ca02c\",\"#d62728\",\"#98df8a\",\"#aec7e8\",\"#aec7e8\",\"#d62728\",\"#1f77b4\",\"#ff9896\",\"#1f77b4\",\"#2ca02c\",\"#9467bd\",\"#ff7f0e\",\"#ff9896\",\"#2ca02c\",\"#1f77b4\",\"#ff7f0e\",\"#9467bd\",\"#98df8a\",\"#9467bd\",\"#1f77b4\",\"#ff7f0e\",\"#98df8a\",\"#aec7e8\",\"#c5b0d5\",\"#c5b0d5\",\"#1f77b4\",\"#1f77b4\",\"#ffbb78\",\"#1f77b4\",\"#ffbb78\",\"#aec7e8\",\"#1f77b4\",\"#d62728\",\"#aec7e8\",\"#aec7e8\",\"#1f77b4\",\"#aec7e8\",\"#ff9896\",\"#c5b0d5\",\"#aec7e8\",\"#1f77b4\",\"#1f77b4\",\"#ff9896\",\"#ff7f0e\",\"#9467bd\",\"#98df8a\",\"#aec7e8\",\"#2ca02c\",\"#1f77b4\",\"#9467bd\",\"#1f77b4\",\"#9467bd\",\"#98df8a\",\"#aec7e8\",\"#aec7e8\",\"#1f77b4\",\"#ff9896\",\"#2ca02c\",\"#d62728\",\"#aec7e8\",\"#c5b0d5\",\"#9467bd\",\"#ffbb78\",\"#1f77b4\",\"#ff9896\",\"#2ca02c\",\"#1f77b4\",\"#aec7e8\",\"#c5b0d5\",\"#ff9896\",\"#d62728\",\"#c5b0d5\",\"#d62728\",\"#1f77b4\",\"#98df8a\",\"#aec7e8\",\"#d62728\",\"#ff7f0e\",\"#9467bd\",\"#9467bd\",\"#ffbb78\",\"#9467bd\",\"#1f77b4\",\"#ff9896\",\"#1f77b4\",\"#ff9896\",\"#ff9896\",\"#c5b0d5\",\"#1f77b4\",\"#ff7f0e\",\"#ff9896\",\"#9467bd\",\"#d62728\",\"#ffbb78\",\"#d62728\",\"#d62728\",\"#2ca02c\",\"#1f77b4\",\"#ff7f0e\",\"#9467bd\",\"#98df8a\",\"#2ca02c\",\"#9467bd\",\"#ff9896\",\"#ffbb78\",\"#2ca02c\",\"#98df8a\",\"#1f77b4\",\"#aec7e8\",\"#9467bd\",\"#aec7e8\",\"#ffbb78\",\"#98df8a\",\"#ff9896\",\"#aec7e8\",\"#d62728\",\"#98df8a\",\"#1f77b4\",\"#ffbb78\",\"#2ca02c\",\"#1f77b4\",\"#98df8a\",\"#c5b0d5\",\"#ff9896\",\"#98df8a\",\"#ffbb78\",\"#ff9896\",\"#2ca02c\",\"#2ca02c\",\"#aec7e8\",\"#ff7f0e\",\"#1f77b4\",\"#2ca02c\",\"#ffbb78\",\"#aec7e8\",\"#2ca02c\",\"#ff7f0e\",\"#98df8a\",\"#98df8a\",\"#aec7e8\",\"#9467bd\",\"#9467bd\",\"#ff9896\",\"#2ca02c\",\"#d62728\",\"#c5b0d5\",\"#ff7f0e\",\"#d62728\",\"#ff7f0e\",\"#1f77b4\",\"#ffbb78\",\"#1f77b4\",\"#1f77b4\",\"#9467bd\",\"#1f77b4\",\"#c5b0d5\",\"#aec7e8\",\"#ff7f0e\",\"#c5b0d5\",\"#ffbb78\",\"#d62728\",\"#9467bd\",\"#c5b0d5\",\"#1f77b4\",\"#ffbb78\",\"#98df8a\",\"#2ca02c\",\"#c5b0d5\",\"#1f77b4\",\"#1f77b4\",\"#98df8a\",\"#1f77b4\",\"#1f77b4\",\"#ff9896\",\"#aec7e8\",\"#d62728\",\"#9467bd\",\"#aec7e8\",\"#1f77b4\",\"#1f77b4\",\"#ff7f0e\",\"#98df8a\",\"#ff9896\",\"#aec7e8\",\"#9467bd\",\"#98df8a\",\"#1f77b4\",\"#1f77b4\",\"#1f77b4\",\"#ff7f0e\",\"#aec7e8\",\"#aec7e8\",\"#ff9896\",\"#ffbb78\",\"#d62728\",\"#1f77b4\",\"#98df8a\",\"#ffbb78\",\"#aec7e8\",\"#aec7e8\",\"#ffbb78\",\"#aec7e8\",\"#ff9896\",\"#98df8a\",\"#9467bd\",\"#c5b0d5\",\"#9467bd\",\"#1f77b4\",\"#ffbb78\",\"#ffbb78\",\"#ffbb78\",\"#c5b0d5\",\"#ff9896\",\"#1f77b4\",\"#c5b0d5\",\"#d62728\",\"#ff7f0e\",\"#c5b0d5\",\"#2ca02c\",\"#9467bd\",\"#c5b0d5\",\"#ff9896\",\"#d62728\",\"#aec7e8\",\"#ffbb78\",\"#aec7e8\",\"#ff9896\",\"#98df8a\",\"#1f77b4\",\"#2ca02c\",\"#1f77b4\",\"#c5b0d5\",\"#2ca02c\",\"#ff7f0e\",\"#ffbb78\",\"#1f77b4\",\"#ff9896\",\"#c5b0d5\",\"#1f77b4\",\"#d62728\",\"#ff7f0e\",\"#ffbb78\",\"#c5b0d5\",\"#1f77b4\",\"#ff9896\",\"#98df8a\",\"#9467bd\",\"#98df8a\",\"#d62728\",\"#9467bd\",\"#1f77b4\",\"#c5b0d5\",\"#ff7f0e\",\"#1f77b4\",\"#aec7e8\",\"#ff9896\",\"#9467bd\",\"#ff7f0e\",\"#ff9896\",\"#1f77b4\",\"#aec7e8\",\"#ff9896\",\"#1f77b4\",\"#9467bd\",\"#1f77b4\",\"#d62728\",\"#c5b0d5\",\"#ff7f0e\",\"#aec7e8\",\"#ff9896\",\"#2ca02c\",\"#9467bd\",\"#1f77b4\",\"#1f77b4\",\"#98df8a\",\"#c5b0d5\",\"#98df8a\",\"#ffbb78\",\"#ff9896\",\"#ff9896\",\"#ffbb78\",\"#1f77b4\",\"#ff7f0e\",\"#2ca02c\",\"#98df8a\",\"#ff9896\",\"#ff9896\",\"#c5b0d5\",\"#ff9896\",\"#d62728\",\"#2ca02c\",\"#aec7e8\",\"#2ca02c\",\"#c5b0d5\",\"#aec7e8\",\"#d62728\",\"#ffbb78\",\"#98df8a\",\"#2ca02c\",\"#2ca02c\",\"#1f77b4\",\"#aec7e8\",\"#d62728\",\"#1f77b4\",\"#ffbb78\",\"#ff7f0e\",\"#1f77b4\",\"#1f77b4\",\"#ffbb78\",\"#aec7e8\",\"#1f77b4\",\"#c5b0d5\",\"#1f77b4\",\"#98df8a\",\"#1f77b4\",\"#1f77b4\",\"#ffbb78\",\"#ff7f0e\",\"#ffbb78\",\"#1f77b4\",\"#ffbb78\",\"#d62728\",\"#aec7e8\",\"#2ca02c\",\"#1f77b4\",\"#9467bd\",\"#1f77b4\",\"#aec7e8\",\"#c5b0d5\",\"#c5b0d5\",\"#98df8a\",\"#ff7f0e\",\"#2ca02c\",\"#9467bd\",\"#98df8a\",\"#aec7e8\",\"#9467bd\",\"#d62728\",\"#aec7e8\",\"#aec7e8\",\"#ff7f0e\",\"#d62728\",\"#d62728\",\"#2ca02c\",\"#c5b0d5\",\"#1f77b4\",\"#d62728\",\"#aec7e8\",\"#ff7f0e\",\"#c5b0d5\",\"#c5b0d5\",\"#ffbb78\",\"#2ca02c\",\"#d62728\",\"#ff9896\",\"#ff9896\",\"#2ca02c\",\"#1f77b4\",\"#ff9896\",\"#2ca02c\",\"#ff7f0e\",\"#ffbb78\",\"#ffbb78\",\"#1f77b4\",\"#c5b0d5\",\"#9467bd\",\"#2ca02c\",\"#ff9896\",\"#aec7e8\",\"#9467bd\",\"#ff7f0e\",\"#98df8a\",\"#d62728\",\"#1f77b4\",\"#ffbb78\",\"#1f77b4\",\"#d62728\",\"#aec7e8\",\"#ff9896\",\"#c5b0d5\",\"#98df8a\",\"#1f77b4\",\"#ff7f0e\",\"#aec7e8\",\"#2ca02c\",\"#ff9896\",\"#ff9896\",\"#ff7f0e\",\"#1f77b4\",\"#2ca02c\",\"#2ca02c\",\"#9467bd\",\"#d62728\",\"#aec7e8\",\"#1f77b4\",\"#c5b0d5\",\"#9467bd\",\"#ff9896\",\"#ff9896\",\"#1f77b4\",\"#ffbb78\",\"#c5b0d5\",\"#1f77b4\",\"#ff7f0e\",\"#ffbb78\",\"#d62728\",\"#1f77b4\",\"#ff9896\",\"#d62728\",\"#ff7f0e\",\"#ff7f0e\",\"#1f77b4\",\"#ff7f0e\",\"#aec7e8\",\"#1f77b4\",\"#9467bd\",\"#98df8a\",\"#aec7e8\",\"#c5b0d5\",\"#2ca02c\",\"#1f77b4\",\"#ff9896\",\"#2ca02c\",\"#aec7e8\",\"#2ca02c\",\"#1f77b4\",\"#aec7e8\",\"#1f77b4\",\"#ff9896\",\"#9467bd\",\"#c5b0d5\",\"#ff9896\",\"#c5b0d5\",\"#d62728\",\"#aec7e8\",\"#ff7f0e\",\"#aec7e8\",\"#98df8a\",\"#d62728\",\"#98df8a\",\"#1f77b4\",\"#aec7e8\",\"#2ca02c\",\"#1f77b4\",\"#98df8a\",\"#d62728\",\"#c5b0d5\",\"#d62728\",\"#2ca02c\",\"#c5b0d5\",\"#9467bd\",\"#1f77b4\",\"#2ca02c\",\"#9467bd\",\"#aec7e8\",\"#ff7f0e\",\"#ff7f0e\",\"#d62728\",\"#2ca02c\",\"#1f77b4\",\"#9467bd\",\"#d62728\",\"#2ca02c\",\"#1f77b4\",\"#ff7f0e\",\"#aec7e8\",\"#ff7f0e\",\"#1f77b4\",\"#aec7e8\",\"#aec7e8\",\"#2ca02c\",\"#ffbb78\",\"#1f77b4\",\"#ffbb78\",\"#aec7e8\",\"#ffbb78\",\"#1f77b4\",\"#c5b0d5\",\"#1f77b4\",\"#ff7f0e\",\"#ff7f0e\",\"#aec7e8\",\"#2ca02c\",\"#ffbb78\",\"#aec7e8\",\"#9467bd\",\"#aec7e8\",\"#c5b0d5\",\"#ff7f0e\",\"#ff9896\",\"#2ca02c\",\"#d62728\",\"#98df8a\",\"#d62728\",\"#98df8a\",\"#ff7f0e\",\"#aec7e8\",\"#ffbb78\",\"#ff9896\",\"#aec7e8\",\"#98df8a\",\"#ff9896\",\"#ffbb78\",\"#1f77b4\",\"#ffbb78\",\"#ffbb78\",\"#98df8a\",\"#c5b0d5\",\"#aec7e8\",\"#c5b0d5\",\"#2ca02c\",\"#ff7f0e\",\"#1f77b4\",\"#9467bd\",\"#ffbb78\",\"#d62728\",\"#d62728\",\"#aec7e8\",\"#c5b0d5\",\"#1f77b4\",\"#1f77b4\",\"#ff9896\",\"#ff7f0e\",\"#aec7e8\",\"#ff9896\",\"#ff7f0e\",\"#1f77b4\",\"#c5b0d5\",\"#9467bd\",\"#ff7f0e\",\"#aec7e8\",\"#ff9896\",\"#98df8a\",\"#ff7f0e\",\"#c5b0d5\",\"#ffbb78\",\"#c5b0d5\",\"#98df8a\",\"#ff7f0e\",\"#2ca02c\",\"#ff9896\",\"#1f77b4\",\"#2ca02c\",\"#aec7e8\",\"#c5b0d5\",\"#98df8a\",\"#ffbb78\",\"#98df8a\",\"#d62728\",\"#ff7f0e\",\"#2ca02c\",\"#9467bd\",\"#ff7f0e\",\"#c5b0d5\",\"#1f77b4\",\"#98df8a\",\"#ff7f0e\",\"#9467bd\",\"#98df8a\",\"#98df8a\",\"#1f77b4\",\"#aec7e8\",\"#1f77b4\",\"#1f77b4\",\"#aec7e8\",\"#1f77b4\",\"#1f77b4\",\"#aec7e8\",\"#ff9896\",\"#aec7e8\",\"#ff9896\",\"#1f77b4\",\"#ff7f0e\",\"#d62728\",\"#ffbb78\",\"#aec7e8\",\"#c5b0d5\",\"#98df8a\",\"#aec7e8\",\"#aec7e8\",\"#ffbb78\",\"#ff9896\",\"#ff7f0e\",\"#aec7e8\",\"#aec7e8\",\"#1f77b4\",\"#1f77b4\",\"#ff9896\",\"#1f77b4\",\"#ff7f0e\",\"#d62728\",\"#ffbb78\",\"#aec7e8\",\"#c5b0d5\",\"#c5b0d5\",\"#1f77b4\",\"#9467bd\",\"#c5b0d5\",\"#ff9896\",\"#aec7e8\",\"#ff7f0e\",\"#2ca02c\",\"#98df8a\",\"#9467bd\",\"#ff7f0e\",\"#9467bd\",\"#aec7e8\",\"#1f77b4\",\"#ffbb78\",\"#aec7e8\",\"#1f77b4\",\"#ff7f0e\",\"#1f77b4\",\"#aec7e8\",\"#aec7e8\",\"#ff7f0e\",\"#9467bd\",\"#ffbb78\",\"#2ca02c\",\"#ff7f0e\",\"#1f77b4\",\"#9467bd\",\"#2ca02c\",\"#1f77b4\",\"#ff7f0e\",\"#c5b0d5\",\"#9467bd\",\"#1f77b4\",\"#9467bd\",\"#98df8a\",\"#98df8a\",\"#d62728\",\"#ff9896\",\"#ff9896\",\"#9467bd\",\"#aec7e8\",\"#ff9896\",\"#aec7e8\",\"#aec7e8\",\"#ffbb78\",\"#1f77b4\",\"#d62728\",\"#98df8a\",\"#2ca02c\",\"#aec7e8\",\"#ff9896\",\"#1f77b4\",\"#ffbb78\",\"#c5b0d5\",\"#ff9896\",\"#1f77b4\",\"#1f77b4\",\"#1f77b4\",\"#d62728\",\"#9467bd\",\"#ff7f0e\",\"#1f77b4\",\"#ff7f0e\",\"#d62728\",\"#aec7e8\",\"#ff9896\",\"#98df8a\",\"#aec7e8\",\"#d62728\",\"#98df8a\",\"#ff7f0e\",\"#c5b0d5\",\"#d62728\",\"#ff7f0e\",\"#9467bd\",\"#aec7e8\",\"#c5b0d5\",\"#c5b0d5\",\"#ffbb78\",\"#c5b0d5\",\"#1f77b4\",\"#98df8a\",\"#2ca02c\",\"#ff7f0e\",\"#ffbb78\",\"#d62728\",\"#c5b0d5\",\"#c5b0d5\",\"#aec7e8\",\"#d62728\",\"#2ca02c\",\"#d62728\",\"#2ca02c\",\"#9467bd\",\"#1f77b4\",\"#98df8a\",\"#1f77b4\",\"#1f77b4\",\"#d62728\",\"#d62728\",\"#ff9896\",\"#d62728\",\"#ff7f0e\",\"#aec7e8\",\"#c5b0d5\",\"#c5b0d5\",\"#ff7f0e\",\"#ff9896\",\"#98df8a\",\"#ff7f0e\",\"#1f77b4\",\"#ff9896\",\"#aec7e8\",\"#d62728\",\"#9467bd\",\"#98df8a\",\"#c5b0d5\",\"#ffbb78\",\"#d62728\",\"#1f77b4\",\"#1f77b4\",\"#d62728\",\"#ff9896\",\"#1f77b4\",\"#ff9896\",\"#1f77b4\",\"#ff7f0e\",\"#aec7e8\",\"#ff7f0e\",\"#9467bd\",\"#ff7f0e\",\"#d62728\",\"#1f77b4\",\"#ff7f0e\",\"#98df8a\",\"#aec7e8\",\"#9467bd\",\"#9467bd\",\"#2ca02c\",\"#ff7f0e\",\"#98df8a\",\"#d62728\",\"#1f77b4\",\"#d62728\",\"#1f77b4\",\"#ff7f0e\",\"#c5b0d5\",\"#d62728\",\"#ffbb78\",\"#ff7f0e\",\"#1f77b4\",\"#ff7f0e\",\"#c5b0d5\",\"#ff9896\",\"#aec7e8\",\"#98df8a\",\"#aec7e8\",\"#aec7e8\",\"#c5b0d5\",\"#d62728\",\"#9467bd\",\"#d62728\",\"#98df8a\",\"#1f77b4\",\"#ff7f0e\",\"#1f77b4\",\"#c5b0d5\",\"#98df8a\",\"#9467bd\",\"#1f77b4\",\"#1f77b4\",\"#aec7e8\",\"#98df8a\",\"#1f77b4\",\"#aec7e8\",\"#d62728\",\"#aec7e8\",\"#ff7f0e\",\"#ffbb78\",\"#1f77b4\",\"#1f77b4\",\"#c5b0d5\",\"#aec7e8\",\"#aec7e8\",\"#ffbb78\",\"#2ca02c\",\"#aec7e8\",\"#ff7f0e\",\"#2ca02c\",\"#c5b0d5\",\"#9467bd\",\"#1f77b4\",\"#1f77b4\",\"#ff7f0e\",\"#aec7e8\",\"#1f77b4\",\"#2ca02c\",\"#c5b0d5\",\"#1f77b4\",\"#aec7e8\",\"#98df8a\",\"#aec7e8\",\"#1f77b4\",\"#aec7e8\",\"#d62728\",\"#aec7e8\",\"#98df8a\",\"#1f77b4\",\"#ffbb78\",\"#ffbb78\",\"#9467bd\",\"#98df8a\",\"#d62728\",\"#ff9896\",\"#ff9896\",\"#c5b0d5\",\"#2ca02c\",\"#ff7f0e\",\"#d62728\",\"#ff7f0e\",\"#2ca02c\",\"#9467bd\",\"#ff7f0e\",\"#9467bd\",\"#1f77b4\",\"#d62728\",\"#ffbb78\",\"#ff7f0e\",\"#ff9896\",\"#ff9896\",\"#1f77b4\",\"#1f77b4\",\"#aec7e8\",\"#ffbb78\",\"#ffbb78\",\"#aec7e8\",\"#aec7e8\",\"#d62728\",\"#1f77b4\",\"#2ca02c\",\"#ffbb78\",\"#ff9896\",\"#1f77b4\",\"#ffbb78\",\"#ffbb78\",\"#ff9896\",\"#1f77b4\",\"#2ca02c\",\"#ff7f0e\",\"#1f77b4\",\"#1f77b4\",\"#2ca02c\",\"#2ca02c\",\"#aec7e8\",\"#ff7f0e\",\"#ffbb78\",\"#aec7e8\",\"#ff9896\",\"#ff9896\",\"#9467bd\",\"#c5b0d5\",\"#ff9896\",\"#d62728\",\"#98df8a\",\"#aec7e8\",\"#ff9896\",\"#ff9896\",\"#2ca02c\",\"#ff9896\",\"#1f77b4\",\"#c5b0d5\",\"#98df8a\",\"#ff9896\",\"#1f77b4\",\"#2ca02c\",\"#c5b0d5\",\"#aec7e8\",\"#c5b0d5\",\"#ff7f0e\",\"#c5b0d5\",\"#aec7e8\",\"#aec7e8\",\"#1f77b4\",\"#98df8a\",\"#2ca02c\",\"#ff7f0e\",\"#d62728\",\"#ff7f0e\",\"#1f77b4\",\"#ff7f0e\",\"#ffbb78\",\"#ff9896\",\"#1f77b4\",\"#98df8a\",\"#ff7f0e\",\"#1f77b4\",\"#98df8a\",\"#1f77b4\",\"#1f77b4\",\"#1f77b4\",\"#2ca02c\",\"#ffbb78\",\"#1f77b4\",\"#1f77b4\",\"#d62728\",\"#ffbb78\",\"#98df8a\",\"#1f77b4\",\"#ff7f0e\",\"#aec7e8\",\"#aec7e8\",\"#1f77b4\",\"#ff7f0e\",\"#98df8a\",\"#d62728\",\"#d62728\",\"#ffbb78\",\"#1f77b4\",\"#d62728\",\"#98df8a\",\"#d62728\",\"#2ca02c\",\"#2ca02c\",\"#ffbb78\",\"#9467bd\",\"#1f77b4\",\"#ffbb78\",\"#ff7f0e\",\"#d62728\",\"#98df8a\",\"#d62728\",\"#1f77b4\",\"#ff9896\",\"#9467bd\",\"#ff9896\",\"#1f77b4\",\"#aec7e8\",\"#ffbb78\",\"#ff7f0e\",\"#d62728\",\"#98df8a\",\"#d62728\",\"#1f77b4\",\"#1f77b4\",\"#2ca02c\",\"#ff9896\",\"#aec7e8\",\"#ffbb78\",\"#98df8a\",\"#2ca02c\",\"#98df8a\",\"#1f77b4\",\"#1f77b4\",\"#98df8a\",\"#aec7e8\",\"#2ca02c\",\"#ff7f0e\",\"#aec7e8\",\"#ffbb78\",\"#ff9896\",\"#c5b0d5\",\"#9467bd\",\"#c5b0d5\",\"#aec7e8\",\"#2ca02c\",\"#ffbb78\",\"#d62728\",\"#9467bd\",\"#2ca02c\",\"#ff7f0e\",\"#9467bd\",\"#1f77b4\",\"#c5b0d5\",\"#ffbb78\",\"#2ca02c\",\"#ff7f0e\",\"#9467bd\",\"#aec7e8\",\"#d62728\",\"#c5b0d5\",\"#1f77b4\",\"#98df8a\",\"#aec7e8\",\"#1f77b4\",\"#98df8a\",\"#aec7e8\",\"#1f77b4\",\"#98df8a\",\"#ff7f0e\",\"#1f77b4\",\"#2ca02c\",\"#2ca02c\",\"#1f77b4\",\"#d62728\",\"#aec7e8\",\"#ff7f0e\",\"#c5b0d5\",\"#d62728\",\"#ff7f0e\",\"#1f77b4\",\"#ff9896\",\"#9467bd\",\"#ffbb78\",\"#ff7f0e\",\"#2ca02c\",\"#d62728\",\"#ffbb78\",\"#ff7f0e\",\"#2ca02c\",\"#ff9896\",\"#98df8a\",\"#ffbb78\",\"#98df8a\",\"#aec7e8\",\"#2ca02c\",\"#d62728\",\"#c5b0d5\",\"#9467bd\",\"#c5b0d5\",\"#ff9896\",\"#2ca02c\",\"#c5b0d5\",\"#ffbb78\",\"#1f77b4\",\"#c5b0d5\",\"#1f77b4\",\"#9467bd\",\"#1f77b4\",\"#1f77b4\",\"#ff7f0e\",\"#aec7e8\",\"#1f77b4\",\"#c5b0d5\",\"#2ca02c\",\"#2ca02c\",\"#1f77b4\",\"#c5b0d5\",\"#ff9896\",\"#9467bd\",\"#9467bd\",\"#d62728\",\"#2ca02c\",\"#ffbb78\",\"#ff7f0e\",\"#2ca02c\",\"#aec7e8\",\"#d62728\",\"#aec7e8\",\"#d62728\",\"#d62728\",\"#9467bd\",\"#ff7f0e\",\"#ffbb78\",\"#d62728\",\"#d62728\",\"#c5b0d5\",\"#ff7f0e\",\"#1f77b4\",\"#ff7f0e\",\"#d62728\",\"#aec7e8\",\"#ff9896\",\"#ff9896\",\"#aec7e8\",\"#2ca02c\",\"#98df8a\",\"#2ca02c\",\"#98df8a\",\"#1f77b4\",\"#ff7f0e\",\"#d62728\",\"#98df8a\",\"#9467bd\",\"#9467bd\",\"#98df8a\",\"#9467bd\",\"#d62728\",\"#ff7f0e\",\"#ff9896\",\"#98df8a\",\"#98df8a\",\"#aec7e8\",\"#98df8a\",\"#1f77b4\",\"#ffbb78\",\"#c5b0d5\",\"#aec7e8\",\"#9467bd\",\"#1f77b4\",\"#aec7e8\",\"#aec7e8\",\"#aec7e8\",\"#ff9896\",\"#c5b0d5\",\"#c5b0d5\",\"#ff7f0e\",\"#ff9896\",\"#9467bd\",\"#ff9896\",\"#c5b0d5\",\"#ff9896\",\"#ffbb78\",\"#aec7e8\",\"#c5b0d5\",\"#98df8a\",\"#aec7e8\",\"#d62728\",\"#1f77b4\",\"#1f77b4\",\"#2ca02c\",\"#2ca02c\",\"#1f77b4\",\"#c5b0d5\",\"#1f77b4\",\"#c5b0d5\",\"#2ca02c\",\"#9467bd\",\"#ff7f0e\",\"#aec7e8\",\"#d62728\",\"#ff7f0e\",\"#98df8a\",\"#c5b0d5\",\"#ffbb78\",\"#ff7f0e\",\"#aec7e8\",\"#aec7e8\",\"#ffbb78\",\"#aec7e8\",\"#aec7e8\",\"#c5b0d5\",\"#ff7f0e\",\"#98df8a\",\"#2ca02c\",\"#ffbb78\",\"#1f77b4\",\"#ff9896\",\"#ff9896\",\"#aec7e8\",\"#1f77b4\",\"#1f77b4\",\"#aec7e8\",\"#2ca02c\",\"#ff7f0e\",\"#2ca02c\",\"#c5b0d5\",\"#1f77b4\",\"#ffbb78\",\"#aec7e8\",\"#c5b0d5\",\"#ffbb78\",\"#aec7e8\",\"#aec7e8\",\"#1f77b4\",\"#ff7f0e\",\"#1f77b4\",\"#98df8a\",\"#c5b0d5\",\"#aec7e8\",\"#1f77b4\",\"#2ca02c\",\"#aec7e8\",\"#2ca02c\",\"#2ca02c\",\"#c5b0d5\",\"#1f77b4\",\"#ff7f0e\",\"#9467bd\",\"#ffbb78\",\"#ffbb78\",\"#1f77b4\",\"#c5b0d5\",\"#1f77b4\",\"#aec7e8\",\"#aec7e8\",\"#aec7e8\",\"#2ca02c\",\"#d62728\",\"#1f77b4\",\"#d62728\",\"#ffbb78\",\"#ffbb78\",\"#98df8a\",\"#2ca02c\",\"#ff7f0e\",\"#ff7f0e\",\"#1f77b4\",\"#ff7f0e\",\"#ffbb78\",\"#98df8a\",\"#d62728\",\"#ff7f0e\",\"#ff9896\",\"#9467bd\",\"#1f77b4\",\"#ff9896\",\"#1f77b4\",\"#2ca02c\",\"#1f77b4\",\"#c5b0d5\",\"#98df8a\",\"#ff9896\",\"#d62728\",\"#c5b0d5\",\"#1f77b4\",\"#ffbb78\",\"#1f77b4\",\"#d62728\",\"#ff9896\",\"#aec7e8\",\"#1f77b4\",\"#98df8a\",\"#ff9896\",\"#ff7f0e\",\"#d62728\",\"#c5b0d5\",\"#98df8a\",\"#1f77b4\",\"#ff9896\",\"#ff7f0e\",\"#aec7e8\",\"#ffbb78\",\"#ffbb78\",\"#d62728\",\"#9467bd\",\"#1f77b4\",\"#aec7e8\",\"#aec7e8\",\"#ffbb78\",\"#1f77b4\",\"#2ca02c\",\"#1f77b4\",\"#d62728\",\"#ff9896\",\"#ff7f0e\",\"#9467bd\",\"#2ca02c\",\"#1f77b4\",\"#aec7e8\",\"#aec7e8\",\"#1f77b4\",\"#aec7e8\",\"#9467bd\",\"#2ca02c\",\"#c5b0d5\",\"#ff7f0e\",\"#c5b0d5\",\"#1f77b4\",\"#ffbb78\",\"#9467bd\",\"#98df8a\",\"#aec7e8\",\"#ff7f0e\",\"#2ca02c\",\"#aec7e8\",\"#ff9896\",\"#9467bd\",\"#aec7e8\",\"#2ca02c\",\"#98df8a\",\"#c5b0d5\",\"#ff7f0e\",\"#2ca02c\",\"#ff9896\",\"#9467bd\",\"#ff9896\",\"#c5b0d5\",\"#d62728\",\"#c5b0d5\",\"#ff9896\",\"#1f77b4\",\"#ff7f0e\",\"#2ca02c\",\"#1f77b4\",\"#ffbb78\",\"#ff9896\",\"#1f77b4\",\"#aec7e8\",\"#1f77b4\",\"#9467bd\",\"#aec7e8\",\"#c5b0d5\",\"#c5b0d5\",\"#ff7f0e\",\"#ff9896\",\"#ff9896\",\"#ff7f0e\",\"#c5b0d5\",\"#d62728\",\"#2ca02c\",\"#aec7e8\",\"#9467bd\",\"#1f77b4\",\"#1f77b4\",\"#1f77b4\",\"#1f77b4\",\"#ff7f0e\",\"#ff7f0e\",\"#aec7e8\",\"#2ca02c\",\"#2ca02c\",\"#2ca02c\",\"#2ca02c\",\"#ff9896\",\"#aec7e8\",\"#1f77b4\",\"#ff9896\",\"#ffbb78\",\"#1f77b4\",\"#c5b0d5\",\"#ff9896\",\"#2ca02c\",\"#9467bd\",\"#aec7e8\",\"#aec7e8\",\"#9467bd\",\"#c5b0d5\",\"#2ca02c\",\"#1f77b4\",\"#aec7e8\",\"#aec7e8\",\"#ff7f0e\",\"#9467bd\",\"#98df8a\",\"#ff7f0e\",\"#d62728\",\"#9467bd\",\"#aec7e8\",\"#ff7f0e\",\"#ff7f0e\",\"#aec7e8\",\"#ff9896\",\"#d62728\",\"#c5b0d5\",\"#c5b0d5\",\"#2ca02c\",\"#c5b0d5\",\"#ff9896\",\"#ff7f0e\",\"#ff7f0e\",\"#d62728\",\"#1f77b4\",\"#c5b0d5\",\"#ff7f0e\",\"#9467bd\",\"#ff7f0e\",\"#2ca02c\",\"#aec7e8\",\"#d62728\",\"#d62728\",\"#d62728\",\"#aec7e8\",\"#d62728\",\"#ffbb78\",\"#1f77b4\",\"#ff7f0e\",\"#c5b0d5\",\"#d62728\",\"#ffbb78\",\"#d62728\",\"#ffbb78\",\"#ff9896\",\"#ff7f0e\",\"#d62728\",\"#1f77b4\",\"#ffbb78\",\"#ff9896\",\"#2ca02c\",\"#1f77b4\",\"#1f77b4\",\"#9467bd\",\"#ff7f0e\",\"#ffbb78\",\"#aec7e8\",\"#9467bd\",\"#1f77b4\",\"#9467bd\",\"#2ca02c\",\"#1f77b4\",\"#1f77b4\",\"#aec7e8\",\"#1f77b4\",\"#aec7e8\",\"#ff9896\",\"#1f77b4\",\"#aec7e8\",\"#98df8a\",\"#98df8a\",\"#ff7f0e\",\"#2ca02c\",\"#1f77b4\",\"#ff7f0e\",\"#ff7f0e\",\"#98df8a\",\"#ffbb78\",\"#c5b0d5\",\"#ffbb78\",\"#ffbb78\",\"#d62728\",\"#1f77b4\",\"#1f77b4\",\"#ff7f0e\",\"#ff7f0e\",\"#c5b0d5\",\"#d62728\",\"#ff7f0e\",\"#98df8a\",\"#ff7f0e\",\"#2ca02c\",\"#1f77b4\",\"#98df8a\",\"#98df8a\",\"#1f77b4\",\"#1f77b4\",\"#2ca02c\",\"#d62728\",\"#aec7e8\",\"#ffbb78\",\"#ff9896\",\"#d62728\",\"#d62728\",\"#9467bd\",\"#aec7e8\",\"#c5b0d5\",\"#c5b0d5\",\"#ff9896\",\"#ff9896\",\"#ff9896\",\"#98df8a\",\"#ff7f0e\",\"#1f77b4\",\"#ff9896\",\"#1f77b4\",\"#1f77b4\",\"#1f77b4\",\"#c5b0d5\",\"#9467bd\",\"#c5b0d5\",\"#ff7f0e\",\"#ffbb78\",\"#2ca02c\",\"#2ca02c\",\"#98df8a\",\"#ff9896\",\"#ff7f0e\",\"#c5b0d5\",\"#d62728\",\"#1f77b4\",\"#1f77b4\",\"#1f77b4\",\"#9467bd\",\"#aec7e8\",\"#d62728\",\"#c5b0d5\",\"#aec7e8\",\"#1f77b4\",\"#1f77b4\",\"#1f77b4\",\"#ff7f0e\",\"#ff9896\",\"#ff9896\",\"#c5b0d5\",\"#ffbb78\",\"#ff9896\",\"#ffbb78\",\"#aec7e8\",\"#aec7e8\",\"#d62728\",\"#ff9896\",\"#2ca02c\",\"#9467bd\",\"#98df8a\",\"#1f77b4\",\"#aec7e8\",\"#ffbb78\",\"#2ca02c\",\"#ff7f0e\",\"#ff7f0e\",\"#d62728\",\"#2ca02c\",\"#aec7e8\",\"#1f77b4\",\"#ff9896\",\"#ff7f0e\",\"#98df8a\",\"#98df8a\",\"#ff9896\",\"#2ca02c\",\"#d62728\",\"#9467bd\",\"#d62728\",\"#aec7e8\",\"#ff7f0e\",\"#ffbb78\",\"#2ca02c\",\"#ff7f0e\",\"#aec7e8\",\"#2ca02c\",\"#9467bd\",\"#ff7f0e\",\"#1f77b4\",\"#2ca02c\",\"#aec7e8\",\"#98df8a\",\"#aec7e8\",\"#c5b0d5\",\"#1f77b4\",\"#1f77b4\",\"#ff7f0e\",\"#ff7f0e\",\"#c5b0d5\",\"#98df8a\",\"#1f77b4\",\"#98df8a\",\"#1f77b4\",\"#ff7f0e\",\"#1f77b4\",\"#1f77b4\",\"#1f77b4\",\"#2ca02c\",\"#1f77b4\",\"#2ca02c\",\"#98df8a\",\"#aec7e8\",\"#9467bd\",\"#1f77b4\",\"#ff7f0e\",\"#ff9896\",\"#ffbb78\",\"#98df8a\",\"#aec7e8\",\"#9467bd\",\"#ff7f0e\",\"#ffbb78\",\"#ff9896\",\"#aec7e8\",\"#1f77b4\",\"#ff9896\",\"#d62728\",\"#9467bd\",\"#2ca02c\",\"#ff9896\",\"#c5b0d5\",\"#1f77b4\",\"#aec7e8\",\"#d62728\",\"#1f77b4\",\"#ff7f0e\",\"#ffbb78\",\"#2ca02c\",\"#1f77b4\",\"#aec7e8\",\"#1f77b4\",\"#c5b0d5\",\"#c5b0d5\",\"#ffbb78\",\"#ff9896\",\"#1f77b4\",\"#ff9896\",\"#ffbb78\",\"#ff9896\",\"#ff9896\",\"#1f77b4\",\"#aec7e8\",\"#aec7e8\",\"#aec7e8\",\"#2ca02c\",\"#1f77b4\",\"#ffbb78\",\"#c5b0d5\",\"#1f77b4\",\"#aec7e8\",\"#9467bd\",\"#c5b0d5\",\"#aec7e8\",\"#2ca02c\",\"#98df8a\",\"#c5b0d5\",\"#ff9896\",\"#98df8a\",\"#ff7f0e\",\"#c5b0d5\",\"#1f77b4\",\"#d62728\",\"#9467bd\",\"#d62728\",\"#1f77b4\",\"#aec7e8\",\"#d62728\",\"#2ca02c\",\"#2ca02c\",\"#1f77b4\",\"#ff9896\",\"#98df8a\",\"#aec7e8\",\"#c5b0d5\",\"#ffbb78\",\"#aec7e8\",\"#98df8a\",\"#aec7e8\",\"#ff7f0e\",\"#aec7e8\",\"#ff7f0e\",\"#ff7f0e\",\"#ff9896\",\"#ff7f0e\",\"#c5b0d5\",\"#ff9896\",\"#c5b0d5\",\"#9467bd\",\"#c5b0d5\",\"#1f77b4\",\"#2ca02c\",\"#98df8a\",\"#ff7f0e\",\"#1f77b4\",\"#98df8a\",\"#ffbb78\",\"#c5b0d5\",\"#1f77b4\",\"#ff9896\",\"#ff9896\",\"#c5b0d5\",\"#1f77b4\",\"#d62728\",\"#c5b0d5\",\"#1f77b4\",\"#d62728\",\"#c5b0d5\",\"#9467bd\",\"#9467bd\",\"#d62728\",\"#d62728\",\"#ffbb78\",\"#aec7e8\",\"#2ca02c\",\"#1f77b4\",\"#ff7f0e\",\"#d62728\",\"#2ca02c\",\"#c5b0d5\",\"#aec7e8\",\"#98df8a\",\"#2ca02c\",\"#1f77b4\",\"#2ca02c\",\"#d62728\",\"#c5b0d5\",\"#9467bd\",\"#ff9896\",\"#c5b0d5\",\"#98df8a\",\"#9467bd\",\"#aec7e8\",\"#d62728\",\"#2ca02c\",\"#ff7f0e\",\"#98df8a\",\"#9467bd\",\"#ff7f0e\",\"#1f77b4\",\"#d62728\",\"#c5b0d5\",\"#1f77b4\",\"#ffbb78\",\"#ffbb78\",\"#ff9896\",\"#9467bd\",\"#c5b0d5\",\"#d62728\",\"#2ca02c\",\"#ffbb78\",\"#2ca02c\",\"#aec7e8\",\"#aec7e8\",\"#c5b0d5\",\"#2ca02c\",\"#98df8a\",\"#aec7e8\",\"#c5b0d5\",\"#2ca02c\",\"#2ca02c\",\"#1f77b4\",\"#98df8a\",\"#ff7f0e\",\"#ffbb78\",\"#9467bd\",\"#1f77b4\",\"#98df8a\",\"#2ca02c\",\"#1f77b4\"],\"label\":[\"8\",\"8\",\"1\",\"0\",\"0\",\"1\",\"2\",\"6\",\"9\",\"1\",\"1\",\"0\",\"0\",\"1\",\"9\",\"1\",\"2\",\"1\",\"8\",\"1\",\"0\",\"8\",\"1\",\"6\",\"2\",\"6\",\"2\",\"3\",\"9\",\"1\",\"0\",\"2\",\"3\",\"1\",\"9\",\"0\",\"9\",\"4\",\"1\",\"8\",\"2\",\"3\",\"8\",\"5\",\"7\",\"4\",\"0\",\"6\",\"0\",\"8\",\"6\",\"7\",\"1\",\"2\",\"2\",\"8\",\"2\",\"0\",\"5\",\"0\",\"8\",\"6\",\"1\",\"4\",\"7\",\"0\",\"3\",\"2\",\"1\",\"5\",\"2\",\"2\",\"4\",\"9\",\"5\",\"1\",\"0\",\"0\",\"4\",\"2\",\"1\",\"0\",\"4\",\"1\",\"0\",\"1\",\"9\",\"4\",\"5\",\"8\",\"0\",\"7\",\"5\",\"4\",\"2\",\"0\",\"4\",\"9\",\"6\",\"0\",\"1\",\"0\",\"1\",\"3\",\"1\",\"0\",\"2\",\"4\",\"3\",\"8\",\"8\",\"4\",\"3\",\"1\",\"9\",\"3\",\"0\",\"1\",\"1\",\"7\",\"6\",\"9\",\"0\",\"1\",\"9\",\"3\",\"4\",\"9\",\"1\",\"5\",\"6\",\"1\",\"2\",\"3\",\"5\",\"5\",\"0\",\"4\",\"4\",\"3\",\"3\",\"3\",\"1\",\"8\",\"9\",\"4\",\"1\",\"4\",\"5\",\"4\",\"2\",\"4\",\"3\",\"9\",\"0\",\"8\",\"4\",\"7\",\"7\",\"2\",\"0\",\"0\",\"7\",\"3\",\"3\",\"3\",\"0\",\"0\",\"3\",\"8\",\"0\",\"8\",\"3\",\"1\",\"4\",\"6\",\"5\",\"1\",\"1\",\"6\",\"0\",\"7\",\"0\",\"4\",\"8\",\"2\",\"7\",\"4\",\"0\",\"2\",\"8\",\"5\",\"8\",\"0\",\"2\",\"5\",\"1\",\"9\",\"9\",\"0\",\"0\",\"3\",\"0\",\"3\",\"1\",\"0\",\"6\",\"1\",\"1\",\"0\",\"1\",\"7\",\"9\",\"1\",\"0\",\"0\",\"7\",\"2\",\"8\",\"5\",\"1\",\"4\",\"0\",\"8\",\"0\",\"8\",\"5\",\"1\",\"1\",\"0\",\"7\",\"4\",\"6\",\"1\",\"9\",\"8\",\"3\",\"0\",\"7\",\"4\",\"0\",\"1\",\"9\",\"7\",\"6\",\"9\",\"6\",\"0\",\"5\",\"1\",\"6\",\"2\",\"8\",\"8\",\"3\",\"8\",\"0\",\"7\",\"0\",\"7\",\"7\",\"9\",\"0\",\"2\",\"7\",\"8\",\"6\",\"3\",\"6\",\"6\",\"4\",\"0\",\"2\",\"8\",\"5\",\"4\",\"8\",\"7\",\"3\",\"4\",\"5\",\"0\",\"1\",\"8\",\"1\",\"3\",\"5\",\"7\",\"1\",\"6\",\"5\",\"0\",\"3\",\"4\",\"0\",\"5\",\"9\",\"7\",\"5\",\"3\",\"7\",\"4\",\"4\",\"1\",\"2\",\"0\",\"4\",\"3\",\"1\",\"4\",\"2\",\"5\",\"5\",\"1\",\"8\",\"8\",\"7\",\"4\",\"6\",\"9\",\"2\",\"6\",\"2\",\"0\",\"3\",\"0\",\"0\",\"8\",\"0\",\"9\",\"1\",\"2\",\"9\",\"3\",\"6\",\"8\",\"9\",\"0\",\"3\",\"5\",\"4\",\"9\",\"0\",\"0\",\"5\",\"0\",\"0\",\"7\",\"1\",\"6\",\"8\",\"1\",\"0\",\"0\",\"2\",\"5\",\"7\",\"1\",\"8\",\"5\",\"0\",\"0\",\"0\",\"2\",\"1\",\"1\",\"7\",\"3\",\"6\",\"0\",\"5\",\"3\",\"1\",\"1\",\"3\",\"1\",\"7\",\"5\",\"8\",\"9\",\"8\",\"0\",\"3\",\"3\",\"3\",\"9\",\"7\",\"0\",\"9\",\"6\",\"2\",\"9\",\"4\",\"8\",\"9\",\"7\",\"6\",\"1\",\"3\",\"1\",\"7\",\"5\",\"0\",\"4\",\"0\",\"9\",\"4\",\"2\",\"3\",\"0\",\"7\",\"9\",\"0\",\"6\",\"2\",\"3\",\"9\",\"0\",\"7\",\"5\",\"8\",\"5\",\"6\",\"8\",\"0\",\"9\",\"2\",\"0\",\"1\",\"7\",\"8\",\"2\",\"7\",\"0\",\"1\",\"7\",\"0\",\"8\",\"0\",\"6\",\"9\",\"2\",\"1\",\"7\",\"4\",\"8\",\"0\",\"0\",\"5\",\"9\",\"5\",\"3\",\"7\",\"7\",\"3\",\"0\",\"2\",\"4\",\"5\",\"7\",\"7\",\"9\",\"7\",\"6\",\"4\",\"1\",\"4\",\"9\",\"1\",\"6\",\"3\",\"5\",\"4\",\"4\",\"0\",\"1\",\"6\",\"0\",\"3\",\"2\",\"0\",\"0\",\"3\",\"1\",\"0\",\"9\",\"0\",\"5\",\"0\",\"0\",\"3\",\"2\",\"3\",\"0\",\"3\",\"6\",\"1\",\"4\",\"0\",\"8\",\"0\",\"1\",\"9\",\"9\",\"5\",\"2\",\"4\",\"8\",\"5\",\"1\",\"8\",\"6\",\"1\",\"1\",\"2\",\"6\",\"6\",\"4\",\"9\",\"0\",\"6\",\"1\",\"2\",\"9\",\"9\",\"3\",\"4\",\"6\",\"7\",\"7\",\"4\",\"0\",\"7\",\"4\",\"2\",\"3\",\"3\",\"0\",\"9\",\"8\",\"4\",\"7\",\"1\",\"8\",\"2\",\"5\",\"6\",\"0\",\"3\",\"0\",\"6\",\"1\",\"7\",\"9\",\"5\",\"0\",\"2\",\"1\",\"4\",\"7\",\"7\",\"2\",\"0\",\"4\",\"4\",\"8\",\"6\",\"1\",\"0\",\"9\",\"8\",\"7\",\"7\",\"0\",\"3\",\"9\",\"0\",\"2\",\"3\",\"6\",\"0\",\"7\",\"6\",\"2\",\"2\",\"0\",\"2\",\"1\",\"0\",\"8\",\"5\",\"1\",\"9\",\"4\",\"0\",\"7\",\"4\",\"1\",\"4\",\"0\",\"1\",\"0\",\"7\",\"8\",\"9\",\"7\",\"9\",\"6\",\"1\",\"2\",\"1\",\"5\",\"6\",\"5\",\"0\",\"1\",\"4\",\"0\",\"5\",\"6\",\"9\",\"6\",\"4\",\"9\",\"8\",\"0\",\"4\",\"8\",\"1\",\"2\",\"2\",\"6\",\"4\",\"0\",\"8\",\"6\",\"4\",\"0\",\"2\",\"1\",\"2\",\"0\",\"1\",\"1\",\"4\",\"3\",\"0\",\"3\",\"1\",\"3\",\"0\",\"9\",\"0\",\"2\",\"2\",\"1\",\"4\",\"3\",\"1\",\"8\",\"1\",\"9\",\"2\",\"7\",\"4\",\"6\",\"5\",\"6\",\"5\",\"2\",\"1\",\"3\",\"7\",\"1\",\"5\",\"7\",\"3\",\"0\",\"3\",\"3\",\"5\",\"9\",\"1\",\"9\",\"4\",\"2\",\"0\",\"8\",\"3\",\"6\",\"6\",\"1\",\"9\",\"0\",\"0\",\"7\",\"2\",\"1\",\"7\",\"2\",\"0\",\"9\",\"8\",\"2\",\"1\",\"7\",\"5\",\"2\",\"9\",\"3\",\"9\",\"5\",\"2\",\"4\",\"7\",\"0\",\"4\",\"1\",\"9\",\"5\",\"3\",\"5\",\"6\",\"2\",\"4\",\"8\",\"2\",\"9\",\"0\",\"5\",\"2\",\"8\",\"5\",\"5\",\"0\",\"1\",\"0\",\"0\",\"1\",\"0\",\"0\",\"1\",\"7\",\"1\",\"7\",\"0\",\"2\",\"6\",\"3\",\"1\",\"9\",\"5\",\"1\",\"1\",\"3\",\"7\",\"2\",\"1\",\"1\",\"0\",\"0\",\"7\",\"0\",\"2\",\"6\",\"3\",\"1\",\"9\",\"9\",\"0\",\"8\",\"9\",\"7\",\"1\",\"2\",\"4\",\"5\",\"8\",\"2\",\"8\",\"1\",\"0\",\"3\",\"1\",\"0\",\"2\",\"0\",\"1\",\"1\",\"2\",\"8\",\"3\",\"4\",\"2\",\"0\",\"8\",\"4\",\"0\",\"2\",\"9\",\"8\",\"0\",\"8\",\"5\",\"5\",\"6\",\"7\",\"7\",\"8\",\"1\",\"7\",\"1\",\"1\",\"3\",\"0\",\"6\",\"5\",\"4\",\"1\",\"7\",\"0\",\"3\",\"9\",\"7\",\"0\",\"0\",\"0\",\"6\",\"8\",\"2\",\"0\",\"2\",\"6\",\"1\",\"7\",\"5\",\"1\",\"6\",\"5\",\"2\",\"9\",\"6\",\"2\",\"8\",\"1\",\"9\",\"9\",\"3\",\"9\",\"0\",\"5\",\"4\",\"2\",\"3\",\"6\",\"9\",\"9\",\"1\",\"6\",\"4\",\"6\",\"4\",\"8\",\"0\",\"5\",\"0\",\"0\",\"6\",\"6\",\"7\",\"6\",\"2\",\"1\",\"9\",\"9\",\"2\",\"7\",\"5\",\"2\",\"0\",\"7\",\"1\",\"6\",\"8\",\"5\",\"9\",\"3\",\"6\",\"0\",\"0\",\"6\",\"7\",\"0\",\"7\",\"0\",\"2\",\"1\",\"2\",\"8\",\"2\",\"6\",\"0\",\"2\",\"5\",\"1\",\"8\",\"8\",\"4\",\"2\",\"5\",\"6\",\"0\",\"6\",\"0\",\"2\",\"9\",\"6\",\"3\",\"2\",\"0\",\"2\",\"9\",\"7\",\"1\",\"5\",\"1\",\"1\",\"9\",\"6\",\"8\",\"6\",\"5\",\"0\",\"2\",\"0\",\"9\",\"5\",\"8\",\"0\",\"0\",\"1\",\"5\",\"0\",\"1\",\"6\",\"1\",\"2\",\"3\",\"0\",\"0\",\"9\",\"1\",\"1\",\"3\",\"4\",\"1\",\"2\",\"4\",\"9\",\"8\",\"0\",\"0\",\"2\",\"1\",\"0\",\"4\",\"9\",\"0\",\"1\",\"5\",\"1\",\"0\",\"1\",\"6\",\"1\",\"5\",\"0\",\"3\",\"3\",\"8\",\"5\",\"6\",\"7\",\"7\",\"9\",\"4\",\"2\",\"6\",\"2\",\"4\",\"8\",\"2\",\"8\",\"0\",\"6\",\"3\",\"2\",\"7\",\"7\",\"0\",\"0\",\"1\",\"3\",\"3\",\"1\",\"1\",\"6\",\"0\",\"4\",\"3\",\"7\",\"0\",\"3\",\"3\",\"7\",\"0\",\"4\",\"2\",\"0\",\"0\",\"4\",\"4\",\"1\",\"2\",\"3\",\"1\",\"7\",\"7\",\"8\",\"9\",\"7\",\"6\",\"5\",\"1\",\"7\",\"7\",\"4\",\"7\",\"0\",\"9\",\"5\",\"7\",\"0\",\"4\",\"9\",\"1\",\"9\",\"2\",\"9\",\"1\",\"1\",\"0\",\"5\",\"4\",\"2\",\"6\",\"2\",\"0\",\"2\",\"3\",\"7\",\"0\",\"5\",\"2\",\"0\",\"5\",\"0\",\"0\",\"0\",\"4\",\"3\",\"0\",\"0\",\"6\",\"3\",\"5\",\"0\",\"2\",\"1\",\"1\",\"0\",\"2\",\"5\",\"6\",\"6\",\"3\",\"0\",\"6\",\"5\",\"6\",\"4\",\"4\",\"3\",\"8\",\"0\",\"3\",\"2\",\"6\",\"5\",\"6\",\"0\",\"7\",\"8\",\"7\",\"0\",\"1\",\"3\",\"2\",\"6\",\"5\",\"6\",\"0\",\"0\",\"4\",\"7\",\"1\",\"3\",\"5\",\"4\",\"5\",\"0\",\"0\",\"5\",\"1\",\"4\",\"2\",\"1\",\"3\",\"7\",\"9\",\"8\",\"9\",\"1\",\"4\",\"3\",\"6\",\"8\",\"4\",\"2\",\"8\",\"0\",\"9\",\"3\",\"4\",\"2\",\"8\",\"1\",\"6\",\"9\",\"0\",\"5\",\"1\",\"0\",\"5\",\"1\",\"0\",\"5\",\"2\",\"0\",\"4\",\"4\",\"0\",\"6\",\"1\",\"2\",\"9\",\"6\",\"2\",\"0\",\"7\",\"8\",\"3\",\"2\",\"4\",\"6\",\"3\",\"2\",\"4\",\"7\",\"5\",\"3\",\"5\",\"1\",\"4\",\"6\",\"9\",\"8\",\"9\",\"7\",\"4\",\"9\",\"3\",\"0\",\"9\",\"0\",\"8\",\"0\",\"0\",\"2\",\"1\",\"0\",\"9\",\"4\",\"4\",\"0\",\"9\",\"7\",\"8\",\"8\",\"6\",\"4\",\"3\",\"2\",\"4\",\"1\",\"6\",\"1\",\"6\",\"6\",\"8\",\"2\",\"3\",\"6\",\"6\",\"9\",\"2\",\"0\",\"2\",\"6\",\"1\",\"7\",\"7\",\"1\",\"4\",\"5\",\"4\",\"5\",\"0\",\"2\",\"6\",\"5\",\"8\",\"8\",\"5\",\"8\",\"6\",\"2\",\"7\",\"5\",\"5\",\"1\",\"5\",\"0\",\"3\",\"9\",\"1\",\"8\",\"0\",\"1\",\"1\",\"1\",\"7\",\"9\",\"9\",\"2\",\"7\",\"8\",\"7\",\"9\",\"7\",\"3\",\"1\",\"9\",\"5\",\"1\",\"6\",\"0\",\"0\",\"4\",\"4\",\"0\",\"9\",\"0\",\"9\",\"4\",\"8\",\"2\",\"1\",\"6\",\"2\",\"5\",\"9\",\"3\",\"2\",\"1\",\"1\",\"3\",\"1\",\"1\",\"9\",\"2\",\"5\",\"4\",\"3\",\"0\",\"7\",\"7\",\"1\",\"0\",\"0\",\"1\",\"4\",\"2\",\"4\",\"9\",\"0\",\"3\",\"1\",\"9\",\"3\",\"1\",\"1\",\"0\",\"2\",\"0\",\"5\",\"9\",\"1\",\"0\",\"4\",\"1\",\"4\",\"4\",\"9\",\"0\",\"2\",\"8\",\"3\",\"3\",\"0\",\"9\",\"0\",\"1\",\"1\",\"1\",\"4\",\"6\",\"0\",\"6\",\"3\",\"3\",\"5\",\"4\",\"2\",\"2\",\"0\",\"2\",\"3\",\"5\",\"6\",\"2\",\"7\",\"8\",\"0\",\"7\",\"0\",\"4\",\"0\",\"9\",\"5\",\"7\",\"6\",\"9\",\"0\",\"3\",\"0\",\"6\",\"7\",\"1\",\"0\",\"5\",\"7\",\"2\",\"6\",\"9\",\"5\",\"0\",\"7\",\"2\",\"1\",\"3\",\"3\",\"6\",\"8\",\"0\",\"1\",\"1\",\"3\",\"0\",\"4\",\"0\",\"6\",\"7\",\"2\",\"8\",\"4\",\"0\",\"1\",\"1\",\"0\",\"1\",\"8\",\"4\",\"9\",\"2\",\"9\",\"0\",\"3\",\"8\",\"5\",\"1\",\"2\",\"4\",\"1\",\"7\",\"8\",\"1\",\"4\",\"5\",\"9\",\"2\",\"4\",\"7\",\"8\",\"7\",\"9\",\"6\",\"9\",\"7\",\"0\",\"2\",\"4\",\"0\",\"3\",\"7\",\"0\",\"1\",\"0\",\"8\",\"1\",\"9\",\"9\",\"2\",\"7\",\"7\",\"2\",\"9\",\"6\",\"4\",\"1\",\"8\",\"0\",\"0\",\"0\",\"0\",\"2\",\"2\",\"1\",\"4\",\"4\",\"4\",\"4\",\"7\",\"1\",\"0\",\"7\",\"3\",\"0\",\"9\",\"7\",\"4\",\"8\",\"1\",\"1\",\"8\",\"9\",\"4\",\"0\",\"1\",\"1\",\"2\",\"8\",\"5\",\"2\",\"6\",\"8\",\"1\",\"2\",\"2\",\"1\",\"7\",\"6\",\"9\",\"9\",\"4\",\"9\",\"7\",\"2\",\"2\",\"6\",\"0\",\"9\",\"2\",\"8\",\"2\",\"4\",\"1\",\"6\",\"6\",\"6\",\"1\",\"6\",\"3\",\"0\",\"2\",\"9\",\"6\",\"3\",\"6\",\"3\",\"7\",\"2\",\"6\",\"0\",\"3\",\"7\",\"4\",\"0\",\"0\",\"8\",\"2\",\"3\",\"1\",\"8\",\"0\",\"8\",\"4\",\"0\",\"0\",\"1\",\"0\",\"1\",\"7\",\"0\",\"1\",\"5\",\"5\",\"2\",\"4\",\"0\",\"2\",\"2\",\"5\",\"3\",\"9\",\"3\",\"3\",\"6\",\"0\",\"0\",\"2\",\"2\",\"9\",\"6\",\"2\",\"5\",\"2\",\"4\",\"0\",\"5\",\"5\",\"0\",\"0\",\"4\",\"6\",\"1\",\"3\",\"7\",\"6\",\"6\",\"8\",\"1\",\"9\",\"9\",\"7\",\"7\",\"7\",\"5\",\"2\",\"0\",\"7\",\"0\",\"0\",\"0\",\"9\",\"8\",\"9\",\"2\",\"3\",\"4\",\"4\",\"5\",\"7\",\"2\",\"9\",\"6\",\"0\",\"0\",\"0\",\"8\",\"1\",\"6\",\"9\",\"1\",\"0\",\"0\",\"0\",\"2\",\"7\",\"7\",\"9\",\"3\",\"7\",\"3\",\"1\",\"1\",\"6\",\"7\",\"4\",\"8\",\"5\",\"0\",\"1\",\"3\",\"4\",\"2\",\"2\",\"6\",\"4\",\"1\",\"0\",\"7\",\"2\",\"5\",\"5\",\"7\",\"4\",\"6\",\"8\",\"6\",\"1\",\"2\",\"3\",\"4\",\"2\",\"1\",\"4\",\"8\",\"2\",\"0\",\"4\",\"1\",\"5\",\"1\",\"9\",\"0\",\"0\",\"2\",\"2\",\"9\",\"5\",\"0\",\"5\",\"0\",\"2\",\"0\",\"0\",\"0\",\"4\",\"0\",\"4\",\"5\",\"1\",\"8\",\"0\",\"2\",\"7\",\"3\",\"5\",\"1\",\"8\",\"2\",\"3\",\"7\",\"1\",\"0\",\"7\",\"6\",\"8\",\"4\",\"7\",\"9\",\"0\",\"1\",\"6\",\"0\",\"2\",\"3\",\"4\",\"0\",\"1\",\"0\",\"9\",\"9\",\"3\",\"7\",\"0\",\"7\",\"3\",\"7\",\"7\",\"0\",\"1\",\"1\",\"1\",\"4\",\"0\",\"3\",\"9\",\"0\",\"1\",\"8\",\"9\",\"1\",\"4\",\"5\",\"9\",\"7\",\"5\",\"2\",\"9\",\"0\",\"6\",\"8\",\"6\",\"0\",\"1\",\"6\",\"4\",\"4\",\"0\",\"7\",\"5\",\"1\",\"9\",\"3\",\"1\",\"5\",\"1\",\"2\",\"1\",\"2\",\"2\",\"7\",\"2\",\"9\",\"7\",\"9\",\"8\",\"9\",\"0\",\"4\",\"5\",\"2\",\"0\",\"5\",\"3\",\"9\",\"0\",\"7\",\"7\",\"9\",\"0\",\"6\",\"9\",\"0\",\"6\",\"9\",\"8\",\"8\",\"6\",\"6\",\"3\",\"1\",\"4\",\"0\",\"2\",\"6\",\"4\",\"9\",\"1\",\"5\",\"4\",\"0\",\"4\",\"6\",\"9\",\"8\",\"7\",\"9\",\"5\",\"8\",\"1\",\"6\",\"4\",\"2\",\"5\",\"8\",\"2\",\"0\",\"6\",\"9\",\"0\",\"3\",\"3\",\"7\",\"8\",\"9\",\"6\",\"4\",\"3\",\"4\",\"1\",\"1\",\"9\",\"4\",\"5\",\"1\",\"9\",\"4\",\"4\",\"0\",\"5\",\"2\",\"3\",\"8\",\"0\",\"5\",\"4\",\"0\"],\"x\":{\"__ndarray__\":\"////f////3////9/////f////3////9/////f////3////9/////f////3////9/////f////3////9/////f////3////9/////f////3////9/////f////3////9/////f////3////9/////f////3////9/////f////3////9/////f////3////9/////f////3////9/////f////3////9/////f////3////9/////f////3////9/////f////3////9/////f////3////9/////f////3////9/////f////3////9/////f////3////9/////f////3////9/////f////3////9/////f////3////9/////f////3////9/////f////3////9/////f////3////9/////f////3////9/////f////3////9/////f////3////9/////f////3////9/////f////3////9/////f////3////9/////f////3////9/////f////3////9/////f////3////9/////f////3////9/////f////3////9/////f////3////9/////f////3////9/////f////3////9/////f////3////9/////f////3////9/////f////3////9/////f////3////9/////f////3////9/////f////3////9/////f////3////9/////f////3////9/////f////3////9/////f////3////9/////f////3////9/////f////3////9/////f////3////9/////f////3////9/////f////3////9/////f////3////9/////f////3////9/////f////3////9/////f////3////9/////f////3////9/////f////3////9/////f////3////9/////f////3////9/////f////3////9/////f////3////9/////f////3////9/////f////3////9/////f////3////9/////f////3////9/////f////3////9/////f////3////9/////f////3////9/////f////3////9/////f////3////9/////f////3////9/////f////3////9/////f////3////9/////f////3////9/////f////3////9/////f////3////9/////f////3////9/////f////3////9/////f////3////9/////f////3////9/////f////3////9/////f////3////9/////f////3////9/////f////3////9/////f////3////9/////f////3////9/////f////3////9/////f////3////9/////f////3////9/////f////3////9/////f////3////9/////f////3////9/////f////3////9/////f////3////9/////f////3////9/////f////3////9/////f////3////9/////f////3////9/////f////3////9/////f////3////9/////f////3////9/////f////3////9/////f////3////9/////f////3////9/////f////3////9/////f////3////9/////f////3////9/////f////3////9/////f////3////9/////f////3////9/////f////3////9/////f////3////9/////f////3////9/////f////3////9/////f////3////9/////f////3////9/////f////3////9/////f////3////9/////f////3////9/////f////3////9/////f////3////9/////f////3////9/////f////3////9/////f////3////9/////f////3////9/////f////3////9/////f////3////9/////f////3////9/////f////3////9/////f////3////9/////f////3////9/////f////3////9/////f////3////9/////f////3////9/////f////3////9/////f////3////9/////f////3////9/////f////3////9/////f////3////9/////f////3////9/////f////3////9/////f////3////9/////f////3////9/////f////3////9/////f////3////9/////f////3////9/////f////3////9/////f////3////9/////f////3////9/////f////3////9/////f////3////9/////f////3////9/////f////3////9/////f////3////9/////f////3////9/////f////3////9/////f////3////9/////f////3////9/////f////3////9/////f////3////9/////f////3////9/////f////3////9/////f////3////9/////f////3////9/////f////3////9/////f////3////9/////f////3////9/////f////3////9/////f////3////9/////f////3////9/////f////3////9/////f////3////9/////f////3////9/////f////3////9/////f////3////9/////f////3////9/////f////3////9/////f////3////9/////f////3////9/////f////3////9/////f////3////9/////f////3////9/////f////3////9/////f////3////9/////f////3////9/////f////3////9/////f////3////9/////f////3////9/////f////3////9/////f////3////9/////f////3////9/////f////3////9/////f////3////9/////f////3////9/////f////3////9/////f////3////9/////f////3////9/////f////3////9/////f////3////9/////f////3////9/////f////3////9/////f////3////9/////f////3////9/////f////3////9/////f////3////9/////f////3////9/////f////3////9/////f////3////9/////f////3////9/////f////3////9/////f////3////9/////f////3////9/////f////3////9/////f////3////9/////f////3////9/////f////3////9/////f////3////9/////f////3////9/////f////3////9/////f////3////9/////f////3////9/////f////3////9/////f////3////9/////f////3////9/////f////3////9/////f////3////9/////f////3////9/////f////3////9/////f////3////9/////f////3////9/////f////3////9/////f////3////9/////f////3////9/////f////3////9/////f////3////9/////f////3////9/////f////3////9/////f////3////9/////f////3////9/////f////3////9/////f////3////9/////f////3////9/////f////3////9/////f////3////9/////f////3////9/////f////3////9/////f////3////9/////f////3////9/////f////3////9/////f////3////9/////f////3////9/////f////3////9/////f////3////9/////f////3////9/////f////3////9/////f////3////9/////f////3////9/////f////3////9/////f////3////9/////f////3////9/////f////3////9/////f////3////9/////f////3////9/////f////3////9/////f////3////9/////f////3////9/////f////3////9/////f////3////9/////f////3////9/////f////3////9/////f////3////9/////f////3////9/////f////3////9/////f////3////9/////f////3////9/////f////3////9/////f////3////9/////f////3////9/////f////3////9/////f////3////9/////f////3////9/////f////3////9/////f////3////9/////f////3////9/////f////3////9/////f////3////9/////f////3////9/////f////3////9/////f////3////9/////f////3////9/////f////3////9/////f////3////9/////f////3////9/////f////3////9/////f////3////9/////f////3////9/////f////3////9/////f////3////9/////f////3////9/////f////3////9/////f////3////9/////f////3////9/////f////3////9/////f////3////9/////f////3////9/////f////3////9/////f////3////9/////f////3////9/////f////3////9/////f////3////9/////f////3////9/////f////3////9/////f////3////9/////f////3////9/////f////3////9/////f////3////9/////f////3////9/////f////3////9/////f////3////9/////f////3////9/////f////3////9/////f////3////9/////f////3////9/////f////3////9/////f////3////9/////f////3////9/////f////3////9/////f////3////9/////f////3////9/////f////3////9/////f////3////9/////f////3////9/////f////3////9/////f////3////9/////f////3////9/////f////3////9/////f////3////9/////f////3////9/////f////3////9/////f////3////9/////f////3////9/////f////3////9/////f////3////9/////f////3////9/////f////3////9/////f////3////9/////f////3////9/////f////3////9/////f////3////9/////f////3////9/////f////3////9/////f////3////9/////f////3////9/////f////3////9/////f////3////9/////f////3////9/////f////3////9/////f////3////9/////f////3////9/////f////3////9/////f////3////9/////f////3////9/////f////3////9/////f////3////9/////f////3////9/////f////3////9/////f////3////9/////f////3////9/////f////3////9/////f////3////9/////f////3////9/////f////3////9/////f////3////9/////f////3////9/////f////3////9/////f////3////9/////f////3////9/////f////3////9/////f////3////9/////f////3////9/////f////3////9/////f////3////9/////f////3////9/////f////3////9/////f////3////9/////f////3////9/////f////3////9/////f////3////9/////f////3////9/////f////3////9/////f////3////9/////f////3////9/////f////3////9/////f////3////9/////f////3////9/////f////3////9/////f////3////9/////f////3////9/////f////3////9/////f////3////9/////f////3////9/////f////3////9/////f////3////9/////f////3////9/////f////3////9/////f////3////9/////f////3////9/////f////3////9/////f////3////9/////f////3////9/////f////3////9/////f////3////9/////f////3////9/////f////3////9/////f////3////9/////f////3////9/////f////3////9/////f////3////9/////f////3////9/////f////3////9/////f////3////9/////f////3////9/////f////3////9/////f////3////9/////f////3////9/////f////3////9/////f////3////9/////f////3////9/////f////3////9/////f////3////9/////f////3////9/////f////3////9/////f////3////9/////f////3////9/////f////3////9/////f////3////9/////f////3////9/////f////3////9/////f////3////9/////f////3////9/////f////3////9/////f////3////9/////f////3////9/////f////3////9/////f////3////9/////f////3////9/////f////3////9/////f////3////9/////f////3////9/////f////3////9/////f////3////9/////f////3////9/////f////3////9/////f////3////9/////f////3////9/////f////3////9/////f////3////9/////f////3////9/////f////3////9/////f////3////9/////f////3////9/////f////3////9/////f////3////9/////f////3////9/////f////3////9/////f////3////9/////f////3////9/////f////3////9/////f////3////9/////f////3////9/////f////3////9/////f////3////9/////f////3////9/////f////3////9/////f////3////9/////f////3////9/////f////3////9/////f////3////9/////f////3////9/////f////3////9/////f////3////9/////f////3////9/////f////3////9/////f////3////9/////f////3////9/////f////3////9/////f////3////9/////f////3////9/////f////3////9/////f////3////9/////f////3////9/////f////3////9/////f////3////9/////f////3////9/////f////3////9/////f////3////9/////f////3////9/////f////3////9/////f////3////9/////f////3////9/////f////3////9/////f////3////9/////f////3////9/////f////3////9/////f////3////9/////f////3////9/////f////3////9/////f////3////9/////f////3////9/////f////3////9/////f////3////9/////f////3////9/////f////3////9/////f////3////9/////f////3////9/////f////3////9/////f////3////9/////f////3////9/////f////3////9/////f////3////9/////f////3////9/////f////3////9/////f////3////9/////f////3////9/////f////3////9/////f////3////9/////f////3////9/////f////3////9/////f////3////9/////f////3////9/////f////3////9/////f////3////9/////f////3////9/////f////3////9/////f////3////9/////f////3////9/////f////3////9/////f////3////9/////f////3////9/////f////3////9/////f////3////9/////f////3////9/////f////3////9/////f////3////9/////f////3////9/////f////3////9/////f////3////9/////f////3////9/////f////3////9/////f////3////9/////f////3////9/////f////3////9/////f////3////9/////f////3////9/////f////3////9/////f////3////9/////f////3////9/////f////3////9/////f////3////9/////f////3////9/////f////3////9/////f////3////9/////f////3////9/////f////3////9/////f////3////9/////f////3////9/////f////3////9/////f////3////9/////f////3////9/////f////3////9/////f////3////9/////f////3////9/////f////3////9/////f////3////9/////f////3////9/////f////3////9/////f////3////9/////f////3////9/////f////3////9/////f////3////9/////f////3////9/////f////3////9/////f////3////9/////f////3////9/////f////3////9/////f////3////9/////f////3////9/////f////3////9/////f////3////9/////f////3////9/////f////3////9/////f////3////9/////f////3////9/////f////3////9/////f////3////9/////f////3////9/////f////3////9/////f////3////9/////f////3////9/////f////3////9/////f////3////9/////f////3////9/////f////3////9/////f////3////9/////f////3////9/////f////3////9/////f////3////9/////f////3////9/////f////3////9/////f////3////9/////f////3////9/////f////3////9/////f////3////9/////f////3////9/////f////3////9/\",\"dtype\":\"float32\",\"shape\":[1860]},\"y\":{\"__ndarray__\":\"////f////3////9/////f////3////9/////f////3////9/////f////3////9/////f////3////9/////f////3////9/////f////3////9/////f////3////9/////f////3////9/////f////3////9/////f////3////9/////f////3////9/////f////3////9/////f////3////9/////f////3////9/////f////3////9/////f////3////9/////f////3////9/////f////3////9/////f////3////9/////f////3////9/////f////3////9/////f////3////9/////f////3////9/////f////3////9/////f////3////9/////f////3////9/////f////3////9/////f////3////9/////f////3////9/////f////3////9/////f////3////9/////f////3////9/////f////3////9/////f////3////9/////f////3////9/////f////3////9/////f////3////9/////f////3////9/////f////3////9/////f////3////9/////f////3////9/////f////3////9/////f////3////9/////f////3////9/////f////3////9/////f////3////9/////f////3////9/////f////3////9/////f////3////9/////f////3////9/////f////3////9/////f////3////9/////f////3////9/////f////3////9/////f////3////9/////f////3////9/////f////3////9/////f////3////9/////f////3////9/////f////3////9/////f////3////9/////f////3////9/////f////3////9/////f////3////9/////f////3////9/////f////3////9/////f////3////9/////f////3////9/////f////3////9/////f////3////9/////f////3////9/////f////3////9/////f////3////9/////f////3////9/////f////3////9/////f////3////9/////f////3////9/////f////3////9/////f////3////9/////f////3////9/////f////3////9/////f////3////9/////f////3////9/////f////3////9/////f////3////9/////f////3////9/////f////3////9/////f////3////9/////f////3////9/////f////3////9/////f////3////9/////f////3////9/////f////3////9/////f////3////9/////f////3////9/////f////3////9/////f////3////9/////f////3////9/////f////3////9/////f////3////9/////f////3////9/////f////3////9/////f////3////9/////f////3////9/////f////3////9/////f////3////9/////f////3////9/////f////3////9/////f////3////9/////f////3////9/////f////3////9/////f////3////9/////f////3////9/////f////3////9/////f////3////9/////f////3////9/////f////3////9/////f////3////9/////f////3////9/////f////3////9/////f////3////9/////f////3////9/////f////3////9/////f////3////9/////f////3////9/////f////3////9/////f////3////9/////f////3////9/////f////3////9/////f////3////9/////f////3////9/////f////3////9/////f////3////9/////f////3////9/////f////3////9/////f////3////9/////f////3////9/////f////3////9/////f////3////9/////f////3////9/////f////3////9/////f////3////9/////f////3////9/////f////3////9/////f////3////9/////f////3////9/////f////3////9/////f////3////9/////f////3////9/////f////3////9/////f////3////9/////f////3////9/////f////3////9/////f////3////9/////f////3////9/////f////3////9/////f////3////9/////f////3////9/////f////3////9/////f////3////9/////f////3////9/////f////3////9/////f////3////9/////f////3////9/////f////3////9/////f////3////9/////f////3////9/////f////3////9/////f////3////9/////f////3////9/////f////3////9/////f////3////9/////f////3////9/////f////3////9/////f////3////9/////f////3////9/////f////3////9/////f////3////9/////f////3////9/////f////3////9/////f////3////9/////f////3////9/////f////3////9/////f////3////9/////f////3////9/////f////3////9/////f////3////9/////f////3////9/////f////3////9/////f////3////9/////f////3////9/////f////3////9/////f////3////9/////f////3////9/////f////3////9/////f////3////9/////f////3////9/////f////3////9/////f////3////9/////f////3////9/////f////3////9/////f////3////9/////f////3////9/////f////3////9/////f////3////9/////f////3////9/////f////3////9/////f////3////9/////f////3////9/////f////3////9/////f////3////9/////f////3////9/////f////3////9/////f////3////9/////f////3////9/////f////3////9/////f////3////9/////f////3////9/////f////3////9/////f////3////9/////f////3////9/////f////3////9/////f////3////9/////f////3////9/////f////3////9/////f////3////9/////f////3////9/////f////3////9/////f////3////9/////f////3////9/////f////3////9/////f////3////9/////f////3////9/////f////3////9/////f////3////9/////f////3////9/////f////3////9/////f////3////9/////f////3////9/////f////3////9/////f////3////9/////f////3////9/////f////3////9/////f////3////9/////f////3////9/////f////3////9/////f////3////9/////f////3////9/////f////3////9/////f////3////9/////f////3////9/////f////3////9/////f////3////9/////f////3////9/////f////3////9/////f////3////9/////f////3////9/////f////3////9/////f////3////9/////f////3////9/////f////3////9/////f////3////9/////f////3////9/////f////3////9/////f////3////9/////f////3////9/////f////3////9/////f////3////9/////f////3////9/////f////3////9/////f////3////9/////f////3////9/////f////3////9/////f////3////9/////f////3////9/////f////3////9/////f////3////9/////f////3////9/////f////3////9/////f////3////9/////f////3////9/////f////3////9/////f////3////9/////f////3////9/////f////3////9/////f////3////9/////f////3////9/////f////3////9/////f////3////9/////f////3////9/////f////3////9/////f////3////9/////f////3////9/////f////3////9/////f////3////9/////f////3////9/////f////3////9/////f////3////9/////f////3////9/////f////3////9/////f////3////9/////f////3////9/////f////3////9/////f////3////9/////f////3////9/////f////3////9/////f////3////9/////f////3////9/////f////3////9/////f////3////9/////f////3////9/////f////3////9/////f////3////9/////f////3////9/////f////3////9/////f////3////9/////f////3////9/////f////3////9/////f////3////9/////f////3////9/////f////3////9/////f////3////9/////f////3////9/////f////3////9/////f////3////9/////f////3////9/////f////3////9/////f////3////9/////f////3////9/////f////3////9/////f////3////9/////f////3////9/////f////3////9/////f////3////9/////f////3////9/////f////3////9/////f////3////9/////f////3////9/////f////3////9/////f////3////9/////f////3////9/////f////3////9/////f////3////9/////f////3////9/////f////3////9/////f////3////9/////f////3////9/////f////3////9/////f////3////9/////f////3////9/////f////3////9/////f////3////9/////f////3////9/////f////3////9/////f////3////9/////f////3////9/////f////3////9/////f////3////9/////f////3////9/////f////3////9/////f////3////9/////f////3////9/////f////3////9/////f////3////9/////f////3////9/////f////3////9/////f////3////9/////f////3////9/////f////3////9/////f////3////9/////f////3////9/////f////3////9/////f////3////9/////f////3////9/////f////3////9/////f////3////9/////f////3////9/////f////3////9/////f////3////9/////f////3////9/////f////3////9/////f////3////9/////f////3////9/////f////3////9/////f////3////9/////f////3////9/////f////3////9/////f////3////9/////f////3////9/////f////3////9/////f////3////9/////f////3////9/////f////3////9/////f////3////9/////f////3////9/////f////3////9/////f////3////9/////f////3////9/////f////3////9/////f////3////9/////f////3////9/////f////3////9/////f////3////9/////f////3////9/////f////3////9/////f////3////9/////f////3////9/////f////3////9/////f////3////9/////f////3////9/////f////3////9/////f////3////9/////f////3////9/////f////3////9/////f////3////9/////f////3////9/////f////3////9/////f////3////9/////f////3////9/////f////3////9/////f////3////9/////f////3////9/////f////3////9/////f////3////9/////f////3////9/////f////3////9/////f////3////9/////f////3////9/////f////3////9/////f////3////9/////f////3////9/////f////3////9/////f////3////9/////f////3////9/////f////3////9/////f////3////9/////f////3////9/////f////3////9/////f////3////9/////f////3////9/////f////3////9/////f////3////9/////f////3////9/////f////3////9/////f////3////9/////f////3////9/////f////3////9/////f////3////9/////f////3////9/////f////3////9/////f////3////9/////f////3////9/////f////3////9/////f////3////9/////f////3////9/////f////3////9/////f////3////9/////f////3////9/////f////3////9/////f////3////9/////f////3////9/////f////3////9/////f////3////9/////f////3////9/////f////3////9/////f////3////9/////f////3////9/////f////3////9/////f////3////9/////f////3////9/////f////3////9/////f////3////9/////f////3////9/////f////3////9/////f////3////9/////f////3////9/////f////3////9/////f////3////9/////f////3////9/////f////3////9/////f////3////9/////f////3////9/////f////3////9/////f////3////9/////f////3////9/////f////3////9/////f////3////9/////f////3////9/////f////3////9/////f////3////9/////f////3////9/////f////3////9/////f////3////9/////f////3////9/////f////3////9/////f////3////9/////f////3////9/////f////3////9/////f////3////9/////f////3////9/////f////3////9/////f////3////9/////f////3////9/////f////3////9/////f////3////9/////f////3////9/////f////3////9/////f////3////9/////f////3////9/////f////3////9/////f////3////9/////f////3////9/////f////3////9/////f////3////9/////f////3////9/////f////3////9/////f////3////9/////f////3////9/////f////3////9/////f////3////9/////f////3////9/////f////3////9/////f////3////9/////f////3////9/////f////3////9/////f////3////9/////f////3////9/////f////3////9/////f////3////9/////f////3////9/////f////3////9/////f////3////9/////f////3////9/////f////3////9/////f////3////9/////f////3////9/////f////3////9/////f////3////9/////f////3////9/////f////3////9/////f////3////9/////f////3////9/////f////3////9/////f////3////9/////f////3////9/////f////3////9/////f////3////9/////f////3////9/////f////3////9/////f////3////9/////f////3////9/////f////3////9/////f////3////9/////f////3////9/////f////3////9/////f////3////9/////f////3////9/////f////3////9/////f////3////9/////f////3////9/////f////3////9/////f////3////9/////f////3////9/////f////3////9/////f////3////9/////f////3////9/////f////3////9/////f////3////9/////f////3////9/////f////3////9/////f////3////9/////f////3////9/////f////3////9/////f////3////9/////f////3////9/////f////3////9/////f////3////9/////f////3////9/////f////3////9/////f////3////9/////f////3////9/////f////3////9/////f////3////9/////f////3////9/////f////3////9/////f////3////9/////f////3////9/////f////3////9/////f////3////9/////f////3////9/////f////3////9/////f////3////9/////f////3////9/////f////3////9/////f////3////9/////f////3////9/////f////3////9/////f////3////9/////f////3////9/////f////3////9/////f////3////9/////f////3////9/////f////3////9/////f////3////9/////f////3////9/////f////3////9/////f////3////9/////f////3////9/////f////3////9/////f////3////9/////f////3////9/////f////3////9/////f////3////9/////f////3////9/////f////3////9/////f////3////9/////f////3////9/////f////3////9/////f////3////9/\",\"dtype\":\"float32\",\"shape\":[1860]}},\"selected\":{\"id\":\"67c40266-b8b7-480a-8255-c1d88f340490\",\"type\":\"Selection\"},\"selection_policy\":{\"id\":\"173a8406-f55f-44ac-8888-3cc7dc420bda\",\"type\":\"UnionRenderers\"}},\"id\":\"22bf4559-e352-4e75-8bbd-8893a3c86279\",\"type\":\"ColumnDataSource\"},{\"attributes\":{},\"id\":\"67c40266-b8b7-480a-8255-c1d88f340490\",\"type\":\"Selection\"},{\"attributes\":{\"overlay\":{\"id\":\"678780dd-80df-4f41-bbd4-06ee2e52f28d\",\"type\":\"BoxAnnotation\"}},\"id\":\"76035084-42cb-4c86-9075-18d7a2ce40c7\",\"type\":\"BoxZoomTool\"},{\"attributes\":{\"data_source\":{\"id\":\"22bf4559-e352-4e75-8bbd-8893a3c86279\",\"type\":\"ColumnDataSource\"},\"glyph\":{\"id\":\"02bc3835-86c3-45cd-b5bb-39bab2880497\",\"type\":\"Circle\"},\"hover_glyph\":null,\"muted_glyph\":null,\"nonselection_glyph\":{\"id\":\"3054c165-0e77-405b-883f-906925c5035f\",\"type\":\"Circle\"},\"selection_glyph\":null,\"view\":{\"id\":\"16caf7b5-cb8e-4536-ba09-aa29cd2ccfe2\",\"type\":\"CDSView\"}},\"id\":\"2cc14c89-3f65-4104-ad3a-e82228d48c03\",\"type\":\"GlyphRenderer\"},{\"attributes\":{\"fill_alpha\":{\"value\":0.1},\"fill_color\":{\"value\":\"#1f77b4\"},\"line_alpha\":{\"value\":0.1},\"line_color\":{\"value\":\"#1f77b4\"},\"x\":{\"field\":\"x\"},\"y\":{\"field\":\"y\"}},\"id\":\"3054c165-0e77-405b-883f-906925c5035f\",\"type\":\"Circle\"},{\"attributes\":{},\"id\":\"173a8406-f55f-44ac-8888-3cc7dc420bda\",\"type\":\"UnionRenderers\"},{\"attributes\":{},\"id\":\"528222f7-2829-4cab-b073-570a3e0eb1b8\",\"type\":\"LinearScale\"},{\"attributes\":{},\"id\":\"79a6369e-72ba-402f-a0a6-166d2db8c515\",\"type\":\"WheelZoomTool\"}],\"root_ids\":[\"dd2de252-caf8-4568-8695-9ce018e24232\"]},\"title\":\"Bokeh Application\",\"version\":\"0.13.0\"}};\n",
       "  var render_items = [{\"docid\":\"9cb19145-9bb8-4ec2-a9a6-f41c8c222386\",\"roots\":{\"dd2de252-caf8-4568-8695-9ce018e24232\":\"5115d19b-3561-48ac-9b87-214f797a71a8\"}}];\n",
       "  root.Bokeh.embed.embed_items_notebook(docs_json, render_items);\n",
       "\n",
       "  }\n",
       "  if (root.Bokeh !== undefined) {\n",
       "    embed_document(root);\n",
       "  } else {\n",
       "    var attempts = 0;\n",
       "    var timer = setInterval(function(root) {\n",
       "      if (root.Bokeh !== undefined) {\n",
       "        embed_document(root);\n",
       "        clearInterval(timer);\n",
       "      }\n",
       "      attempts++;\n",
       "      if (attempts > 100) {\n",
       "        console.log(\"Bokeh: ERROR: Unable to run BokehJS code because BokehJS library is missing\")\n",
       "        clearInterval(timer);\n",
       "      }\n",
       "    }, 10, root)\n",
       "  }\n",
       "})(window);"
      ],
      "application/vnd.bokehjs_exec.v0+json": ""
     },
     "metadata": {
      "application/vnd.bokehjs_exec.v0+json": {
       "id": "dd2de252-caf8-4568-8695-9ce018e24232"
      }
     },
     "output_type": "display_data"
    }
   ],
   "source": [
    "plot_embedding(y_pred, labels, named_labels)"
   ]
  },
  {
   "cell_type": "code",
   "execution_count": null,
   "metadata": {},
   "outputs": [],
   "source": []
  }
 ],
 "metadata": {
  "kernelspec": {
   "display_name": "Python 3",
   "language": "python",
   "name": "python3"
  },
  "language_info": {
   "codemirror_mode": {
    "name": "ipython",
    "version": 3
   },
   "file_extension": ".py",
   "mimetype": "text/x-python",
   "name": "python",
   "nbconvert_exporter": "python",
   "pygments_lexer": "ipython3",
   "version": "3.6.6"
  }
 },
 "nbformat": 4,
 "nbformat_minor": 2
}
