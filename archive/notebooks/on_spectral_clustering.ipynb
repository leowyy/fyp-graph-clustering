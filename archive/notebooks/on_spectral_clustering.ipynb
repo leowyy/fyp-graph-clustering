{
 "cells": [
  {
   "cell_type": "markdown",
   "metadata": {},
   "source": [
    "Example taken from:\n",
    "https://www.youtube.com/watch?v=zLuVrqlYKyg&index=1&list=PLHXZdjnADb1Q6ol2UEuPMnXpQY-KzCmBy"
   ]
  },
  {
   "cell_type": "code",
   "execution_count": 1,
   "metadata": {
    "collapsed": true
   },
   "outputs": [],
   "source": [
    "%matplotlib inline\n",
    "import numpy as np\n",
    "import matplotlib.pyplot as plt\n",
    "import networkx as nx"
   ]
  },
  {
   "cell_type": "markdown",
   "metadata": {},
   "source": [
    "## Construct toy problem"
   ]
  },
  {
   "cell_type": "code",
   "execution_count": 19,
   "metadata": {
    "collapsed": true
   },
   "outputs": [],
   "source": [
    "nodelist = [0,1,2,3,4,5,6]\n",
    "labels = {k:k for k in nodelist}  "
   ]
  },
  {
   "cell_type": "code",
   "execution_count": 20,
   "metadata": {
    "collapsed": true
   },
   "outputs": [],
   "source": [
    "def show_graph_with_labels(adjacency_matrix, labeldict):\n",
    "    rows, cols = np.where(adjacency_matrix == 1)\n",
    "    edges = zip(rows.tolist(), cols.tolist())\n",
    "    gr = nx.Graph()\n",
    "    gr.add_edges_from(edges)\n",
    "    nx.draw(gr, node_size=500, labels=labeldict, with_labels=True)\n",
    "    plt.show()"
   ]
  },
  {
   "cell_type": "code",
   "execution_count": 22,
   "metadata": {},
   "outputs": [
    {
     "data": {
      "image/png": "[encoded data removed]",
      "text/plain": [
       "<matplotlib.figure.Figure at 0x10e8604d0>"
      ]
     },
     "metadata": {},
     "output_type": "display_data"
    }
   ],
   "source": [
    "# Define the adjacency matrix A\n",
    "A = np.array([[0,1,1,1,0,0,1],\n",
    "              [1,0,0,0,1,1,0],\n",
    "              [1,0,0,1,0,0,1],\n",
    "              [1,0,1,0,1,0,1],\n",
    "              [0,1,0,1,0,1,0],\n",
    "              [0,1,0,0,1,0,0],\n",
    "              [1,0,1,1,0,0,0]])\n",
    "\n",
    "show_graph_with_labels(A,labels)"
   ]
  },
  {
   "cell_type": "code",
   "execution_count": 23,
   "metadata": {
    "collapsed": true
   },
   "outputs": [],
   "source": [
    "def check_symmetric(A, tol=1e-8):\n",
    "    return np.allclose(A, A.T, atol=tol)"
   ]
  },
  {
   "cell_type": "code",
   "execution_count": 24,
   "metadata": {},
   "outputs": [
    {
     "data": {
      "text/plain": [
       "True"
      ]
     },
     "execution_count": 24,
     "metadata": {},
     "output_type": "execute_result"
    }
   ],
   "source": [
    "check_symmetric(A)"
   ]
  },
  {
   "cell_type": "markdown",
   "metadata": {},
   "source": [
    "## Graph Laplacian"
   ]
  },
  {
   "cell_type": "code",
   "execution_count": 25,
   "metadata": {},
   "outputs": [
    {
     "name": "stdout",
     "output_type": "stream",
     "text": [
      "[[ 4.  0.  0.  0.  0.  0.  0.]\n",
      " [ 0.  3.  0.  0.  0.  0.  0.]\n",
      " [ 0.  0.  3.  0.  0.  0.  0.]\n",
      " [ 0.  0.  0.  4.  0.  0.  0.]\n",
      " [ 0.  0.  0.  0.  3.  0.  0.]\n",
      " [ 0.  0.  0.  0.  0.  2.  0.]\n",
      " [ 0.  0.  0.  0.  0.  0.  3.]]\n"
     ]
    }
   ],
   "source": [
    "# Obtain the diagonal degree matrix D\n",
    "D = np.zeros(A.shape)\n",
    "for i in range(D.shape[0]):\n",
    "    D[i][i] = sum(A[i])\n",
    "\n",
    "print(D)"
   ]
  },
  {
   "cell_type": "code",
   "execution_count": 26,
   "metadata": {},
   "outputs": [
    {
     "name": "stdout",
     "output_type": "stream",
     "text": [
      "[[ 4. -1. -1. -1.  0.  0. -1.]\n",
      " [-1.  3.  0.  0. -1. -1.  0.]\n",
      " [-1.  0.  3. -1.  0.  0. -1.]\n",
      " [-1.  0. -1.  4. -1.  0. -1.]\n",
      " [ 0. -1.  0. -1.  3. -1.  0.]\n",
      " [ 0. -1.  0.  0. -1.  2.  0.]\n",
      " [-1.  0. -1. -1.  0.  0.  3.]]\n"
     ]
    }
   ],
   "source": [
    "# Compute the graph Laplacian\n",
    "L = D - A\n",
    "print(L)"
   ]
  },
  {
   "cell_type": "markdown",
   "metadata": {},
   "source": [
    "## Obtain the fielders vector"
   ]
  },
  {
   "cell_type": "code",
   "execution_count": 27,
   "metadata": {},
   "outputs": [],
   "source": [
    "# Perform eigen-decomposition on the Laplacian\n",
    "w, v = np.linalg.eig(L)\n",
    "\n",
    "# Sort the eigenvalues in ascending order\n",
    "idx = w.argsort()[::1]   \n",
    "w = w[idx]\n",
    "v = v[:,idx]"
   ]
  },
  {
   "cell_type": "code",
   "execution_count": 36,
   "metadata": {},
   "outputs": [
    {
     "name": "stdout",
     "output_type": "stream",
     "text": [
      "0.885092458523\n",
      "[ 0.22498923 -0.33137177  0.4036016   0.22498923 -0.33137177 -0.59443812\n",
      "  0.4036016 ]\n"
     ]
    }
   ],
   "source": [
    "# The fielders vector is the eigenvector corresponding to the second smallest eigenvalue\n",
    "# of the Laplacian L\n",
    "fielders_eigenvalue = w[1]\n",
    "fielders_vector = v[:,1]\n",
    "print(fielders_eigenvalue)\n",
    "print(fielders_vector)"
   ]
  },
  {
   "cell_type": "code",
   "execution_count": 30,
   "metadata": {},
   "outputs": [],
   "source": [
    "# Sort the fielders vector in ascending order\n",
    "idx = fielders_vector.argsort()[::1]"
   ]
  },
  {
   "cell_type": "code",
   "execution_count": 42,
   "metadata": {},
   "outputs": [
    {
     "data": {
      "text/plain": [
       "<matplotlib.collections.LineCollection at 0x10f0f5750>"
      ]
     },
     "execution_count": 42,
     "metadata": {},
     "output_type": "execute_result"
    },
    {
     "data": {
      "image/png": "[encoded data removed]",
      "text/plain": [
       "<matplotlib.figure.Figure at 0x10f0f5b10>"
      ]
     },
     "metadata": {},
     "output_type": "display_data"
    }
   ],
   "source": [
    "plt.plot(nodelist, fielders_vector[idx], '-bx')\n",
    "plt.xlabel('Rank in $x_2$')\n",
    "plt.ylabel('Value of $x_2$')\n",
    "plt.hlines(0, min(nodelist), max(nodelist), linestyles='dashed')"
   ]
  },
  {
   "cell_type": "code",
   "execution_count": 35,
   "metadata": {},
   "outputs": [
    {
     "name": "stdout",
     "output_type": "stream",
     "text": [
      "[5 1 4 3 0 2 6]\n",
      "[-0.59443812 -0.33137177 -0.33137177  0.22498923  0.22498923  0.4036016\n",
      "  0.4036016 ]\n"
     ]
    }
   ],
   "source": [
    "# Notice that we can obtain the clustering by partitioning the indices \n",
    "# according to the fielder's vector\n",
    "print(np.array(nodelist)[idx])\n",
    "print(fielders_vector[idx])"
   ]
  },
  {
   "cell_type": "code",
   "execution_count": null,
   "metadata": {
    "collapsed": true
   },
   "outputs": [],
   "source": [
    "# We may infer the two clusters {1,4,5} and {0,2,3,6}"
   ]
  }
 ],
 "metadata": {
  "kernelspec": {
   "display_name": "Python [conda env:py27]",
   "language": "python",
   "name": "conda-env-py27-py"
  },
  "language_info": {
   "codemirror_mode": {
    "name": "ipython",
    "version": 2
   },
   "file_extension": ".py",
   "mimetype": "text/x-python",
   "name": "python",
   "nbconvert_exporter": "python",
   "pygments_lexer": "ipython2",
   "version": "2.7.14"
  }
 },
 "nbformat": 4,
 "nbformat_minor": 2
}
