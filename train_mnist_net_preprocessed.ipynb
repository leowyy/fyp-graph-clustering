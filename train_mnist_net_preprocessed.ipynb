{
 "cells": [
  {
   "cell_type": "code",
   "execution_count": 1,
   "metadata": {},
   "outputs": [
    {
     "name": "stdout",
     "output_type": "stream",
     "text": [
      "cuda available\n"
     ]
    }
   ],
   "source": [
    "%matplotlib inline\n",
    "import matplotlib.pyplot as plt\n",
    "\n",
    "import os\n",
    "import time\n",
    "from timeit import default_timer as timer\n",
    "import torch\n",
    "from torch.autograd import Variable\n",
    "\n",
    "import numpy as np\n",
    "import pickle\n",
    "import pathlib\n",
    "\n",
    "if torch.cuda.is_available():\n",
    "    print('cuda available')\n",
    "    dtypeFloat = torch.cuda.FloatTensor\n",
    "    dtypeLong = torch.cuda.LongTensor\n",
    "else:\n",
    "    print('cuda not available')\n",
    "    dtypeFloat = torch.FloatTensor\n",
    "    dtypeLong = torch.LongTensor"
   ]
  },
  {
   "cell_type": "code",
   "execution_count": 2,
   "metadata": {},
   "outputs": [],
   "source": [
    "from core.SimpleConvNet import SimpleConvNet\n",
    "from core.GraphConvNet2 import GraphConvNet2\n",
    "from core.DataEmbeddingGraph import DataEmbeddingGraph\n",
    "from util.mnist_data_loader import get_train_set, get_test_set\n",
    "from util.plot_embedding import plot_embedding, plot_embedding_subplot\n",
    "from util.draw_random_subset import draw_random_subset"
   ]
  },
  {
   "cell_type": "code",
   "execution_count": 3,
   "metadata": {},
   "outputs": [],
   "source": [
    "def save_checkpoint(state, filename):\n",
    "    torch.save(state, filename)"
   ]
  },
  {
   "cell_type": "code",
   "execution_count": 4,
   "metadata": {},
   "outputs": [],
   "source": [
    "task_parameters = {}\n",
    "task_parameters['net_type'] = 'graph_net'\n",
    "task_parameters['reduction_method'] = 'preprocessed_tsne'\n",
    "task_parameters['loss_function'] = 'pairwise_loss'\n",
    "task_parameters['n_components'] = 2\n",
    "\n",
    "net_parameters = {}\n",
    "net_parameters['n_components'] = task_parameters['n_components']\n",
    "net_parameters['D'] = 784 # input dimension\n",
    "net_parameters['H'] = 50 # number of hidden units\n",
    "net_parameters['L'] = 10 # number of hidden layers\n",
    "net_parameters['n_channels'] = 1 # for conv net\n",
    "net_parameters['n_units_1'] = net_parameters['n_units_2'] = net_parameters['H'] # for conv net"
   ]
  },
  {
   "cell_type": "code",
   "execution_count": 5,
   "metadata": {},
   "outputs": [
    {
     "name": "stdout",
     "output_type": "stream",
     "text": [
      "GraphConvNet2(\n",
      "  (gnn_cells): ModuleList(\n",
      "    (0): GraphConvNetCell(\n",
      "      (Ui1): Linear(in_features=784, out_features=50, bias=False)\n",
      "      (Uj1): Linear(in_features=784, out_features=50, bias=False)\n",
      "      (Vi1): Linear(in_features=784, out_features=50, bias=False)\n",
      "      (Vj1): Linear(in_features=784, out_features=50, bias=False)\n",
      "      (Ui2): Linear(in_features=50, out_features=50, bias=False)\n",
      "      (Uj2): Linear(in_features=50, out_features=50, bias=False)\n",
      "      (Vi2): Linear(in_features=50, out_features=50, bias=False)\n",
      "      (Vj2): Linear(in_features=50, out_features=50, bias=False)\n",
      "      (bn1): BatchNorm1d(50, eps=1e-05, momentum=0.1, affine=True, track_running_stats=True)\n",
      "      (bn2): BatchNorm1d(50, eps=1e-05, momentum=0.1, affine=True, track_running_stats=True)\n",
      "      (R): Linear(in_features=784, out_features=50, bias=False)\n",
      "    )\n",
      "    (1): GraphConvNetCell(\n",
      "      (Ui1): Linear(in_features=50, out_features=50, bias=False)\n",
      "      (Uj1): Linear(in_features=50, out_features=50, bias=False)\n",
      "      (Vi1): Linear(in_features=50, out_features=50, bias=False)\n",
      "      (Vj1): Linear(in_features=50, out_features=50, bias=False)\n",
      "      (Ui2): Linear(in_features=50, out_features=50, bias=False)\n",
      "      (Uj2): Linear(in_features=50, out_features=50, bias=False)\n",
      "      (Vi2): Linear(in_features=50, out_features=50, bias=False)\n",
      "      (Vj2): Linear(in_features=50, out_features=50, bias=False)\n",
      "      (bn1): BatchNorm1d(50, eps=1e-05, momentum=0.1, affine=True, track_running_stats=True)\n",
      "      (bn2): BatchNorm1d(50, eps=1e-05, momentum=0.1, affine=True, track_running_stats=True)\n",
      "      (R): Linear(in_features=50, out_features=50, bias=False)\n",
      "    )\n",
      "    (2): GraphConvNetCell(\n",
      "      (Ui1): Linear(in_features=50, out_features=50, bias=False)\n",
      "      (Uj1): Linear(in_features=50, out_features=50, bias=False)\n",
      "      (Vi1): Linear(in_features=50, out_features=50, bias=False)\n",
      "      (Vj1): Linear(in_features=50, out_features=50, bias=False)\n",
      "      (Ui2): Linear(in_features=50, out_features=50, bias=False)\n",
      "      (Uj2): Linear(in_features=50, out_features=50, bias=False)\n",
      "      (Vi2): Linear(in_features=50, out_features=50, bias=False)\n",
      "      (Vj2): Linear(in_features=50, out_features=50, bias=False)\n",
      "      (bn1): BatchNorm1d(50, eps=1e-05, momentum=0.1, affine=True, track_running_stats=True)\n",
      "      (bn2): BatchNorm1d(50, eps=1e-05, momentum=0.1, affine=True, track_running_stats=True)\n",
      "      (R): Linear(in_features=50, out_features=50, bias=False)\n",
      "    )\n",
      "    (3): GraphConvNetCell(\n",
      "      (Ui1): Linear(in_features=50, out_features=50, bias=False)\n",
      "      (Uj1): Linear(in_features=50, out_features=50, bias=False)\n",
      "      (Vi1): Linear(in_features=50, out_features=50, bias=False)\n",
      "      (Vj1): Linear(in_features=50, out_features=50, bias=False)\n",
      "      (Ui2): Linear(in_features=50, out_features=50, bias=False)\n",
      "      (Uj2): Linear(in_features=50, out_features=50, bias=False)\n",
      "      (Vi2): Linear(in_features=50, out_features=50, bias=False)\n",
      "      (Vj2): Linear(in_features=50, out_features=50, bias=False)\n",
      "      (bn1): BatchNorm1d(50, eps=1e-05, momentum=0.1, affine=True, track_running_stats=True)\n",
      "      (bn2): BatchNorm1d(50, eps=1e-05, momentum=0.1, affine=True, track_running_stats=True)\n",
      "      (R): Linear(in_features=50, out_features=50, bias=False)\n",
      "    )\n",
      "    (4): GraphConvNetCell(\n",
      "      (Ui1): Linear(in_features=50, out_features=50, bias=False)\n",
      "      (Uj1): Linear(in_features=50, out_features=50, bias=False)\n",
      "      (Vi1): Linear(in_features=50, out_features=50, bias=False)\n",
      "      (Vj1): Linear(in_features=50, out_features=50, bias=False)\n",
      "      (Ui2): Linear(in_features=50, out_features=50, bias=False)\n",
      "      (Uj2): Linear(in_features=50, out_features=50, bias=False)\n",
      "      (Vi2): Linear(in_features=50, out_features=50, bias=False)\n",
      "      (Vj2): Linear(in_features=50, out_features=50, bias=False)\n",
      "      (bn1): BatchNorm1d(50, eps=1e-05, momentum=0.1, affine=True, track_running_stats=True)\n",
      "      (bn2): BatchNorm1d(50, eps=1e-05, momentum=0.1, affine=True, track_running_stats=True)\n",
      "      (R): Linear(in_features=50, out_features=50, bias=False)\n",
      "    )\n",
      "  )\n",
      "  (fc): Linear(in_features=50, out_features=2, bias=True)\n",
      ")\n"
     ]
    }
   ],
   "source": [
    "if task_parameters['net_type'] == 'graph_net':\n",
    "    net = GraphConvNet2(net_parameters)\n",
    "elif task_parameters['net_type'] == 'conv_net':\n",
    "    net = SimpleConvNet(net_parameters)\n",
    "if torch.cuda.is_available():\n",
    "    net.cuda()\n",
    "print(net)"
   ]
  },
  {
   "cell_type": "code",
   "execution_count": 6,
   "metadata": {},
   "outputs": [],
   "source": [
    "# optimization parameters\n",
    "opt_parameters = {}\n",
    "opt_parameters['learning_rate'] = 0.00075   # ADAM\n",
    "opt_parameters['max_iters'] = 200   \n",
    "opt_parameters['batch_iters'] = 10\n",
    "opt_parameters['max_train_size'] = 20000   \n",
    "opt_parameters['save_flag'] = True\n",
    "\n",
    "if 2==1: # fast debugging\n",
    "    opt_parameters['max_iters'] = 25 \n",
    "    opt_parameters['batch_iters'] = 5\n",
    "    opt_parameters['save_flag'] = False\n",
    "\n",
    "opt_parameters['decay_rate'] = 1.25   "
   ]
  },
  {
   "cell_type": "code",
   "execution_count": 7,
   "metadata": {},
   "outputs": [],
   "source": [
    "if opt_parameters['save_flag']: \n",
    "    checkpoint_interval = opt_parameters['max_iters']/5\n",
    "    checkpoint_root = 'results/mnist_' + task_parameters['reduction_method'] + '1/'\n",
    "    pathlib.Path(checkpoint_root).mkdir(exist_ok=True) # create the directory if it doesn't exist"
   ]
  },
  {
   "cell_type": "code",
   "execution_count": 8,
   "metadata": {},
   "outputs": [],
   "source": [
    "# Pre-processed train data\n",
    "parent_dir = os.path.abspath('..')\n",
    "filename = parent_dir + '/data/set_20000_mnist_tsne.pkl'\n",
    "with open(filename, 'rb') as f:\n",
    "    [inputs, labels, X_emb] = pickle.load(f)"
   ]
  },
  {
   "cell_type": "code",
   "execution_count": 9,
   "metadata": {},
   "outputs": [],
   "source": [
    "all_train_data = []\n",
    "num_train_samples = 0\n",
    "while num_train_samples <= opt_parameters['max_train_size']:\n",
    "    # Draw a random training batch of variable size\n",
    "    num_samples = np.random.randint(200, 500)\n",
    "    inputs_subset = inputs[num_train_samples:num_train_samples+num_samples]\n",
    "    labels_subset = labels[num_train_samples:num_train_samples+num_samples]\n",
    "    X_emb_subset = X_emb[num_train_samples:num_train_samples+num_samples]\n",
    "    \n",
    "    # Package into graph block\n",
    "    G = DataEmbeddingGraph(inputs_subset, labels_subset, 'spectral')\n",
    "    G.target = X_emb_subset\n",
    "    \n",
    "    all_train_data.append(G)\n",
    "    num_train_samples += num_samples  "
   ]
  },
  {
   "cell_type": "code",
   "execution_count": 10,
   "metadata": {},
   "outputs": [],
   "source": [
    "all_train_data = all_train_data[:len(all_train_data)-1]"
   ]
  },
  {
   "cell_type": "code",
   "execution_count": 11,
   "metadata": {},
   "outputs": [
    {
     "name": "stdout",
     "output_type": "stream",
     "text": [
      "Dataset sizes = [465, 278, 393, 452, 470, 425, 404, 442, 386, 405, 417, 480, 494, 304, 334, 347, 200, 279, 252, 400, 362, 240, 488, 464, 387, 211, 366, 374, 382, 329, 278, 425, 470, 479, 317, 209, 495, 385, 397, 233, 414, 303, 218, 396, 471, 482, 497, 382, 242, 444, 247, 237, 271, 277]\n",
      "Total number of samples = 19799\n"
     ]
    }
   ],
   "source": [
    "dataset_sizes = [len(G.labels) for G in all_train_data]\n",
    "print(\"Dataset sizes = {}\".format(dataset_sizes))\n",
    "print(\"Total number of samples = {}\".format(sum(dataset_sizes)))"
   ]
  },
  {
   "cell_type": "code",
   "execution_count": 12,
   "metadata": {},
   "outputs": [
    {
     "name": "stderr",
     "output_type": "stream",
     "text": [
      "/home/leowyaoyang/miniconda3/lib/python3.6/site-packages/ipykernel_launcher.py:38: UserWarning: invalid index of a 0-dim tensor. This will be an error in PyTorch 0.5. Use tensor.item() to convert a 0-dim tensor to a Python number\n"
     ]
    },
    {
     "name": "stdout",
     "output_type": "stream",
     "text": [
      "\n",
      "iteration= 0, loss(10iter)= 2225.87451172, lr= 0.00075000, time(10iter)= 14.62\n",
      "\n",
      "iteration= 10, loss(10iter)= 260.56207275, lr= 0.00075000, time(10iter)= 133.71\n",
      "\n",
      "iteration= 20, loss(10iter)= 60.03235245, lr= 0.00075000, time(10iter)= 134.26\n",
      "\n",
      "iteration= 30, loss(10iter)= 33.89888000, lr= 0.00075000, time(10iter)= 134.15\n",
      "\n",
      "iteration= 40, loss(10iter)= 24.02558517, lr= 0.00075000, time(10iter)= 134.74\n",
      "\n",
      "iteration= 50, loss(10iter)= 21.25079536, lr= 0.00075000, time(10iter)= 138.86\n",
      "\n",
      "iteration= 60, loss(10iter)= 19.56133270, lr= 0.00075000, time(10iter)= 139.35\n",
      "\n",
      "iteration= 70, loss(10iter)= 12.43511009, lr= 0.00075000, time(10iter)= 139.35\n",
      "\n",
      "iteration= 80, loss(10iter)= 16.04421234, lr= 0.00060000, time(10iter)= 139.06\n",
      "\n",
      "iteration= 90, loss(10iter)= 11.13127613, lr= 0.00060000, time(10iter)= 139.41\n",
      "\n",
      "iteration= 100, loss(10iter)= 8.27100945, lr= 0.00060000, time(10iter)= 139.23\n",
      "\n",
      "iteration= 110, loss(10iter)= 8.26477814, lr= 0.00048000, time(10iter)= 139.82\n",
      "\n",
      "iteration= 120, loss(10iter)= 11.90534401, lr= 0.00038400, time(10iter)= 139.48\n",
      "\n",
      "iteration= 130, loss(10iter)= 6.01379633, lr= 0.00038400, time(10iter)= 139.73\n",
      "\n",
      "iteration= 140, loss(10iter)= 4.72714520, lr= 0.00038400, time(10iter)= 139.81\n",
      "\n",
      "iteration= 150, loss(10iter)= 4.65806389, lr= 0.00038400, time(10iter)= 140.09\n",
      "\n",
      "iteration= 160, loss(10iter)= 4.11909294, lr= 0.00038400, time(10iter)= 139.84\n",
      "\n",
      "iteration= 170, loss(10iter)= 4.17695045, lr= 0.00030720, time(10iter)= 139.60\n",
      "\n",
      "iteration= 180, loss(10iter)= 3.57651806, lr= 0.00030720, time(10iter)= 139.92\n",
      "\n",
      "iteration= 190, loss(10iter)= 4.75339508, lr= 0.00024576, time(10iter)= 139.33\n"
     ]
    }
   ],
   "source": [
    "# Optimization parameters\n",
    "learning_rate = opt_parameters['learning_rate']\n",
    "max_iters = opt_parameters['max_iters']\n",
    "batch_iters = opt_parameters['batch_iters']\n",
    "decay_rate = opt_parameters['decay_rate']\n",
    "\n",
    "# Optimizer\n",
    "global_lr = learning_rate\n",
    "global_step = 0\n",
    "lr = learning_rate\n",
    "optimizer = net.update(lr) \n",
    "\n",
    "# Statistics\n",
    "t_start = time.time()\n",
    "t_start_total = time.time()\n",
    "average_loss_old = 1e10\n",
    "running_loss = 0.0\n",
    "running_total = 0\n",
    "    \n",
    "for iteration in range(max_iters):\n",
    "    \n",
    "    for G in all_train_data:\n",
    "        # Forward pass\n",
    "        y_pred = net.forward(G)\n",
    "\n",
    "        # Target embedding matrix\n",
    "        y_true = G.target\n",
    "        y_true = Variable(torch.FloatTensor(y_true).type(dtypeFloat) , requires_grad=False) \n",
    "\n",
    "        # Compute overall loss \n",
    "        if task_parameters['loss_function'] == 'pairwise_loss':\n",
    "            loss = net.pairwise_loss(y_pred, y_true, G.adj_matrix)\n",
    "        elif task_parameters['loss_function'] == 'composite_loss':\n",
    "            loss1 = net.loss(y_pred, y_true)\n",
    "            loss2 = net.pairwise_loss(y_pred, y_true, G.adj_matrix)\n",
    "            loss = 0.5*loss1 + 0.5*loss2\n",
    "            \n",
    "        loss_train = loss.data[0]\n",
    "        running_loss += loss_train\n",
    "        running_total += 1\n",
    "\n",
    "        # Backprop\n",
    "        loss.backward()\n",
    "        optimizer.step()\n",
    "        optimizer.zero_grad()\n",
    "\n",
    "    # learning rate, print results\n",
    "    if not iteration%batch_iters:\n",
    "\n",
    "        # time\n",
    "        t_stop = time.time() - t_start\n",
    "        t_start = time.time()\n",
    "\n",
    "        # update learning rate \n",
    "        average_loss = running_loss/ running_total\n",
    "        if average_loss > 0.99* average_loss_old:\n",
    "            lr /= decay_rate\n",
    "        average_loss_old = average_loss\n",
    "        optimizer = net.update_learning_rate(optimizer, lr)\n",
    "        running_loss = 0.0\n",
    "        running_total = 0\n",
    "\n",
    "        # print results\n",
    "        print('\\niteration= %d, loss(%diter)= %.8f, lr= %.8f, time(%diter)= %.2f' %\n",
    "              (iteration, batch_iters, average_loss, lr, batch_iters, t_stop))\n",
    "            \n",
    "        # validate on test set\n",
    "        #######################\n",
    "    \n",
    "    if opt_parameters['save_flag'] and not (iteration+1)%checkpoint_interval:\n",
    "        filename = checkpoint_root + task_parameters['net_type'] + str(int((iteration+1)/checkpoint_interval)) + '.pkl'\n",
    "        save_checkpoint({\n",
    "            'state_dict': net.state_dict(),\n",
    "            'optimizer' : optimizer.state_dict(),\n",
    "        }, filename)"
   ]
  },
  {
   "cell_type": "markdown",
   "metadata": {},
   "source": [
    "## On test data"
   ]
  },
  {
   "cell_type": "code",
   "execution_count": 13,
   "metadata": {},
   "outputs": [
    {
     "ename": "NameError",
     "evalue": "name 'test_data' is not defined",
     "output_type": "error",
     "traceback": [
      "\u001b[0;31m---------------------------------------------------------------------------\u001b[0m",
      "\u001b[0;31mNameError\u001b[0m                                 Traceback (most recent call last)",
      "\u001b[0;32m<ipython-input-13-a3cbc45c61ad>\u001b[0m in \u001b[0;36m<module>\u001b[0;34m()\u001b[0m\n\u001b[0;32m----> 1\u001b[0;31m \u001b[0minputs\u001b[0m\u001b[0;34m,\u001b[0m \u001b[0mlabels\u001b[0m \u001b[0;34m=\u001b[0m \u001b[0mdraw_random_subset\u001b[0m\u001b[0;34m(\u001b[0m\u001b[0mtest_data\u001b[0m\u001b[0;34m,\u001b[0m \u001b[0mnum_samples\u001b[0m\u001b[0;34m=\u001b[0m\u001b[0;36m500\u001b[0m\u001b[0;34m)\u001b[0m\u001b[0;34m\u001b[0m\u001b[0m\n\u001b[0m\u001b[1;32m      2\u001b[0m \u001b[0mG\u001b[0m \u001b[0;34m=\u001b[0m \u001b[0mDataEmbeddingGraph\u001b[0m\u001b[0;34m(\u001b[0m\u001b[0minputs\u001b[0m\u001b[0;34m,\u001b[0m \u001b[0mlabels\u001b[0m\u001b[0;34m,\u001b[0m \u001b[0mtask_parameters\u001b[0m\u001b[0;34m[\u001b[0m\u001b[0;34m'reduction_method'\u001b[0m\u001b[0;34m]\u001b[0m\u001b[0;34m)\u001b[0m\u001b[0;34m\u001b[0m\u001b[0m\n\u001b[1;32m      3\u001b[0m \u001b[0mnet_time_start\u001b[0m \u001b[0;34m=\u001b[0m \u001b[0mtimer\u001b[0m\u001b[0;34m(\u001b[0m\u001b[0;34m)\u001b[0m\u001b[0;34m\u001b[0m\u001b[0m\n\u001b[1;32m      4\u001b[0m \u001b[0;32mif\u001b[0m \u001b[0mtorch\u001b[0m\u001b[0;34m.\u001b[0m\u001b[0mcuda\u001b[0m\u001b[0;34m.\u001b[0m\u001b[0mis_available\u001b[0m\u001b[0;34m(\u001b[0m\u001b[0;34m)\u001b[0m\u001b[0;34m:\u001b[0m\u001b[0;34m\u001b[0m\u001b[0m\n\u001b[1;32m      5\u001b[0m     \u001b[0my_pred\u001b[0m \u001b[0;34m=\u001b[0m \u001b[0mnet\u001b[0m\u001b[0;34m.\u001b[0m\u001b[0mforward\u001b[0m\u001b[0;34m(\u001b[0m\u001b[0mG\u001b[0m\u001b[0;34m)\u001b[0m\u001b[0;34m.\u001b[0m\u001b[0mcpu\u001b[0m\u001b[0;34m(\u001b[0m\u001b[0;34m)\u001b[0m\u001b[0;34m.\u001b[0m\u001b[0mdetach\u001b[0m\u001b[0;34m(\u001b[0m\u001b[0;34m)\u001b[0m\u001b[0;34m.\u001b[0m\u001b[0mnumpy\u001b[0m\u001b[0;34m(\u001b[0m\u001b[0;34m)\u001b[0m\u001b[0;34m\u001b[0m\u001b[0m\n",
      "\u001b[0;31mNameError\u001b[0m: name 'test_data' is not defined"
     ]
    }
   ],
   "source": [
    "inputs, labels = draw_random_subset(test_data, num_samples=500)\n",
    "G = DataEmbeddingGraph(inputs, labels, task_parameters['reduction_method'])\n",
    "net_time_start = timer()\n",
    "if torch.cuda.is_available():   \n",
    "    y_pred = net.forward(G).cpu().detach().numpy()\n",
    "else:    \n",
    "    y_pred = net.forward(G).detach().numpy()\n",
    "net_time_end = timer()\n",
    "\n",
    "f, axarr = plt.subplots(1, 2, sharex='col', sharey='row', figsize=(10, 3), dpi=150)\n",
    "reduction_title = task_parameters['reduction_method'] + \"\\n time elapsed = {:.2f}s\".format(G.time_to_compute) \n",
    "cnn_title = \"Graph CNN\" + \"\\n time elapsed = {:.2f}s\".format(net_time_end - net_time_start) \n",
    "plot_embedding_subplot(axarr[0], G.target, G.labels.numpy(), reduction_title)\n",
    "plot_embedding_subplot(axarr[1], y_pred, G.labels.numpy(), cnn_title)"
   ]
  },
  {
   "cell_type": "code",
   "execution_count": 14,
   "metadata": {},
   "outputs": [],
   "source": [
    "if opt_parameters['save_flag']:\n",
    "    metadata_filename = checkpoint_root + \"experiment_metadata.txt\"\n",
    "    with open(metadata_filename, 'w') as f:\n",
    "        f.write('-----------------------\\n')\n",
    "        f.write('\\n'.join([\"%s = %s\" % (k,v) for k,v in task_parameters.items()]))\n",
    "        \n",
    "        f.write('\\n-----------------------\\n')\n",
    "        f.write('\\n'.join([\"%s = %s\" % (k,v) for k,v in net_parameters.items()]))\n",
    "        \n",
    "        f.write('\\n-----------------------\\n')\n",
    "        f.write('\\n'.join([\"%s = %s\" % (k,v) for k,v in opt_parameters.items()]))"
   ]
  },
  {
   "cell_type": "code",
   "execution_count": null,
   "metadata": {},
   "outputs": [],
   "source": []
  }
 ],
 "metadata": {
  "kernelspec": {
   "display_name": "Python 3",
   "language": "python",
   "name": "python3"
  },
  "language_info": {
   "codemirror_mode": {
    "name": "ipython",
    "version": 3
   },
   "file_extension": ".py",
   "mimetype": "text/x-python",
   "name": "python",
   "nbconvert_exporter": "python",
   "pygments_lexer": "ipython3",
   "version": "3.6.6"
  }
 },
 "nbformat": 4,
 "nbformat_minor": 2
}
