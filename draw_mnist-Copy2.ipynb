{
 "cells": [
  {
   "cell_type": "code",
   "execution_count": 2,
   "metadata": {},
   "outputs": [
    {
     "name": "stdout",
     "output_type": "stream",
     "text": [
      "cuda not available\n"
     ]
    }
   ],
   "source": [
    "%matplotlib inline\n",
    "import matplotlib.pyplot as plt\n",
    "\n",
    "import time\n",
    "import torch\n",
    "from torch.autograd import Variable\n",
    "\n",
    "import numpy as np\n",
    "from sklearn import manifold, datasets\n",
    "import scipy.sparse as sp\n",
    "import pickle\n",
    "\n",
    "if torch.cuda.is_available():\n",
    "    print('cuda available')\n",
    "    dtypeFloat = torch.cuda.FloatTensor\n",
    "    dtypeLong = torch.cuda.LongTensor\n",
    "    #torch.cuda.manual_seed(1)\n",
    "else:\n",
    "    print('cuda not available')\n",
    "    dtypeFloat = torch.FloatTensor\n",
    "    dtypeLong = torch.LongTensor\n",
    "    #torch.manual_seed(1)\n",
    "    \n",
    "from core.DimReduction import DimReduction\n",
    "from core.GraphConvNet2 import GraphConvNet2\n",
    "from util.mnist_data_loader import get_train_set, get_test_set\n",
    "from util.plot_embedding import plot_embedding"
   ]
  },
  {
   "cell_type": "code",
   "execution_count": 3,
   "metadata": {},
   "outputs": [],
   "source": [
    "dim_reduction = DimReduction(n_components=2)"
   ]
  },
  {
   "cell_type": "code",
   "execution_count": 4,
   "metadata": {},
   "outputs": [],
   "source": [
    "task_parameters = {}\n",
    "task_parameters['flag_task'] = 'clustering'\n",
    "\n",
    "net_parameters = {}\n",
    "net_parameters['D'] = 784\n",
    "net_parameters['n_components'] = 2\n",
    "net_parameters['H'] = 50\n",
    "net_parameters['L'] = 10"
   ]
  },
  {
   "cell_type": "code",
   "execution_count": 5,
   "metadata": {},
   "outputs": [
    {
     "name": "stdout",
     "output_type": "stream",
     "text": [
      "\n",
      "nb of hidden layers= 10\n",
      "dim of layers (w/ embed dim)= [784, 50, 50, 50, 50, 50, 50, 50, 50, 50, 50]\n",
      "\n",
      "\n",
      "GraphConvNet2(\n",
      "  (gnn_cells): ModuleList(\n",
      "    (0): GraphConvNetcell(\n",
      "      (Ui1): Linear(in_features=784, out_features=50, bias=False)\n",
      "      (Uj1): Linear(in_features=784, out_features=50, bias=False)\n",
      "      (Vi1): Linear(in_features=784, out_features=50, bias=False)\n",
      "      (Vj1): Linear(in_features=784, out_features=50, bias=False)\n",
      "      (Ui2): Linear(in_features=50, out_features=50, bias=False)\n",
      "      (Uj2): Linear(in_features=50, out_features=50, bias=False)\n",
      "      (Vi2): Linear(in_features=50, out_features=50, bias=False)\n",
      "      (Vj2): Linear(in_features=50, out_features=50, bias=False)\n",
      "      (bn1): BatchNorm1d(50, eps=1e-05, momentum=0.1, affine=True, track_running_stats=True)\n",
      "      (bn2): BatchNorm1d(50, eps=1e-05, momentum=0.1, affine=True, track_running_stats=True)\n",
      "      (R): Linear(in_features=784, out_features=50, bias=False)\n",
      "    )\n",
      "    (1): GraphConvNetcell(\n",
      "      (Ui1): Linear(in_features=50, out_features=50, bias=False)\n",
      "      (Uj1): Linear(in_features=50, out_features=50, bias=False)\n",
      "      (Vi1): Linear(in_features=50, out_features=50, bias=False)\n",
      "      (Vj1): Linear(in_features=50, out_features=50, bias=False)\n",
      "      (Ui2): Linear(in_features=50, out_features=50, bias=False)\n",
      "      (Uj2): Linear(in_features=50, out_features=50, bias=False)\n",
      "      (Vi2): Linear(in_features=50, out_features=50, bias=False)\n",
      "      (Vj2): Linear(in_features=50, out_features=50, bias=False)\n",
      "      (bn1): BatchNorm1d(50, eps=1e-05, momentum=0.1, affine=True, track_running_stats=True)\n",
      "      (bn2): BatchNorm1d(50, eps=1e-05, momentum=0.1, affine=True, track_running_stats=True)\n",
      "      (R): Linear(in_features=50, out_features=50, bias=False)\n",
      "    )\n",
      "    (2): GraphConvNetcell(\n",
      "      (Ui1): Linear(in_features=50, out_features=50, bias=False)\n",
      "      (Uj1): Linear(in_features=50, out_features=50, bias=False)\n",
      "      (Vi1): Linear(in_features=50, out_features=50, bias=False)\n",
      "      (Vj1): Linear(in_features=50, out_features=50, bias=False)\n",
      "      (Ui2): Linear(in_features=50, out_features=50, bias=False)\n",
      "      (Uj2): Linear(in_features=50, out_features=50, bias=False)\n",
      "      (Vi2): Linear(in_features=50, out_features=50, bias=False)\n",
      "      (Vj2): Linear(in_features=50, out_features=50, bias=False)\n",
      "      (bn1): BatchNorm1d(50, eps=1e-05, momentum=0.1, affine=True, track_running_stats=True)\n",
      "      (bn2): BatchNorm1d(50, eps=1e-05, momentum=0.1, affine=True, track_running_stats=True)\n",
      "      (R): Linear(in_features=50, out_features=50, bias=False)\n",
      "    )\n",
      "    (3): GraphConvNetcell(\n",
      "      (Ui1): Linear(in_features=50, out_features=50, bias=False)\n",
      "      (Uj1): Linear(in_features=50, out_features=50, bias=False)\n",
      "      (Vi1): Linear(in_features=50, out_features=50, bias=False)\n",
      "      (Vj1): Linear(in_features=50, out_features=50, bias=False)\n",
      "      (Ui2): Linear(in_features=50, out_features=50, bias=False)\n",
      "      (Uj2): Linear(in_features=50, out_features=50, bias=False)\n",
      "      (Vi2): Linear(in_features=50, out_features=50, bias=False)\n",
      "      (Vj2): Linear(in_features=50, out_features=50, bias=False)\n",
      "      (bn1): BatchNorm1d(50, eps=1e-05, momentum=0.1, affine=True, track_running_stats=True)\n",
      "      (bn2): BatchNorm1d(50, eps=1e-05, momentum=0.1, affine=True, track_running_stats=True)\n",
      "      (R): Linear(in_features=50, out_features=50, bias=False)\n",
      "    )\n",
      "    (4): GraphConvNetcell(\n",
      "      (Ui1): Linear(in_features=50, out_features=50, bias=False)\n",
      "      (Uj1): Linear(in_features=50, out_features=50, bias=False)\n",
      "      (Vi1): Linear(in_features=50, out_features=50, bias=False)\n",
      "      (Vj1): Linear(in_features=50, out_features=50, bias=False)\n",
      "      (Ui2): Linear(in_features=50, out_features=50, bias=False)\n",
      "      (Uj2): Linear(in_features=50, out_features=50, bias=False)\n",
      "      (Vi2): Linear(in_features=50, out_features=50, bias=False)\n",
      "      (Vj2): Linear(in_features=50, out_features=50, bias=False)\n",
      "      (bn1): BatchNorm1d(50, eps=1e-05, momentum=0.1, affine=True, track_running_stats=True)\n",
      "      (bn2): BatchNorm1d(50, eps=1e-05, momentum=0.1, affine=True, track_running_stats=True)\n",
      "      (R): Linear(in_features=50, out_features=50, bias=False)\n",
      "    )\n",
      "  )\n",
      "  (fc): Linear(in_features=50, out_features=2, bias=True)\n",
      ")\n"
     ]
    }
   ],
   "source": [
    "net = GraphConvNet2(net_parameters, task_parameters)\n",
    "print(net)"
   ]
  },
  {
   "cell_type": "code",
   "execution_count": 6,
   "metadata": {},
   "outputs": [],
   "source": [
    "class graph_block(object):\n",
    "    def __init__(self, X, y, labels, W, E_start, E_end):\n",
    "        self.signal = X\n",
    "        self.target = y\n",
    "        self.labels = labels\n",
    "        self.adj_matrix = W\n",
    "        self.edge_to_starting_vertex = E_start\n",
    "        self.edge_to_ending_vertex = E_end"
   ]
  },
  {
   "cell_type": "code",
   "execution_count": 7,
   "metadata": {},
   "outputs": [],
   "source": [
    "def get_graph_block(X, labels):\n",
    "    embedder = manifold.SpectralEmbedding(n_components=2, random_state=0,\n",
    "                                      eigen_solver=\"arpack\")\n",
    "    y = embedder.fit_transform(X)\n",
    "    W = embedder.affinity_matrix_\n",
    "    W = sp.coo_matrix(W)\n",
    "    \n",
    "    nb_edges = W.nnz\n",
    "    nb_vertices = W.shape[0]\n",
    "    edge_to_starting_vertex = sp.coo_matrix((np.ones(nb_edges) ,(np.arange(nb_edges), W.row)),\n",
    "                                            shape=(nb_edges, nb_vertices))\n",
    "    edge_to_ending_vertex = sp.coo_matrix((np.ones(nb_edges) ,(np.arange(nb_edges), W.col)),\n",
    "                                          shape=(nb_edges, nb_vertices))\n",
    "    \n",
    "    return graph_block(X, y, labels, W, edge_to_starting_vertex, edge_to_ending_vertex)"
   ]
  },
  {
   "cell_type": "code",
   "execution_count": 8,
   "metadata": {},
   "outputs": [],
   "source": [
    "# optimization parameters\n",
    "opt_parameters = {}\n",
    "opt_parameters['learning_rate'] = 0.00075   # ADAM\n",
    "opt_parameters['max_iters'] = 5000   \n",
    "opt_parameters['batch_iters'] = 100\n",
    "\n",
    "if 1==1: # fast debugging\n",
    "    opt_parameters['max_iters'] = 20 \n",
    "    opt_parameters['batch_iters'] = 10\n",
    "opt_parameters['decay_rate'] = 1.25   "
   ]
  },
  {
   "cell_type": "code",
   "execution_count": 9,
   "metadata": {},
   "outputs": [],
   "source": [
    "# Load Mnist dataset\n",
    "data_dir = 'data/mnist'\n",
    "train_data = get_train_set(data_dir)\n",
    "test_data = get_test_set(data_dir)"
   ]
  },
  {
   "cell_type": "code",
   "execution_count": 10,
   "metadata": {},
   "outputs": [
    {
     "data": {
      "text/plain": [
       "Dataset MNIST\n",
       "    Number of datapoints: 60000\n",
       "    Split: train\n",
       "    Root Location: data/mnist\n",
       "    Transforms (if any): Compose(\n",
       "                             ToTensor()\n",
       "                             Normalize(mean=(0.1307,), std=(0.3081,))\n",
       "                         )\n",
       "    Target Transforms (if any): None"
      ]
     },
     "execution_count": 10,
     "metadata": {},
     "output_type": "execute_result"
    }
   ],
   "source": [
    "train_data"
   ]
  },
  {
   "cell_type": "code",
   "execution_count": 11,
   "metadata": {},
   "outputs": [],
   "source": [
    "# Initialise train_loader based on batch size\n",
    "batch_size = 250\n",
    "\n",
    "train_loader = torch.utils.data.DataLoader(train_data, batch_size=batch_size,\n",
    "                                           num_workers=2, pin_memory=False)\n",
    "test_loader = torch.utils.data.DataLoader(test_data, batch_size=200, shuffle=True,\n",
    "                                          num_workers=2, pin_memory=False)"
   ]
  },
  {
   "cell_type": "code",
   "execution_count": 12,
   "metadata": {},
   "outputs": [
    {
     "name": "stderr",
     "output_type": "stream",
     "text": [
      "/Users/signapoop/anaconda3/envs/py36/lib/python3.6/site-packages/torch/nn/functional.py:1006: UserWarning: nn.functional.sigmoid is deprecated. Use torch.sigmoid instead.\n",
      "  warnings.warn(\"nn.functional.sigmoid is deprecated. Use torch.sigmoid instead.\")\n",
      "/Users/signapoop/anaconda3/envs/py36/lib/python3.6/site-packages/ipykernel_launcher.py:38: UserWarning: invalid index of a 0-dim tensor. This will be an error in PyTorch 0.5. Use tensor.item() to convert a 0-dim tensor to a Python number\n"
     ]
    },
    {
     "name": "stdout",
     "output_type": "stream",
     "text": [
      "\n",
      "iteration= 0, loss(10iter)= 0.212, lr= 0.00075000, time(10iter)= 3.07\n",
      "\n",
      "iteration= 10, loss(10iter)= 0.042, lr= 0.00075000, time(10iter)= 25.46\n"
     ]
    }
   ],
   "source": [
    "# optimization parameters\n",
    "max_samples = 1000\n",
    "learning_rate = opt_parameters['learning_rate']\n",
    "max_iters = opt_parameters['max_iters']\n",
    "batch_iters = opt_parameters['batch_iters']\n",
    "decay_rate = opt_parameters['decay_rate']\n",
    "\n",
    "\n",
    "# Optimizer\n",
    "global_lr = learning_rate\n",
    "global_step = 0\n",
    "lr = learning_rate\n",
    "optimizer = net.update(lr) \n",
    "    \n",
    "t_start = time.time()\n",
    "t_start_total = time.time()\n",
    "average_loss_old = 1e10\n",
    "running_loss = 0.0\n",
    "running_total = 0\n",
    "    \n",
    "for iteration in range(0, max_iters):\n",
    "    for batch_idx, (inputs, labels) in enumerate(train_loader, start=1):\n",
    "        if batch_idx * batch_size > max_samples: break\n",
    "            \n",
    "        n_samples = inputs.shape[0]\n",
    "        X_train = inputs.view(n_samples,-1)\n",
    "        X_train = X_train.numpy()\n",
    "        G = get_graph_block(X_train, labels)\n",
    "\n",
    "        # Forward pass\n",
    "        y_pred = net.forward(G)\n",
    "        \n",
    "        y_true = G.target\n",
    "        y_true = Variable( torch.FloatTensor(y_true).type(dtypeFloat) , requires_grad=False) \n",
    "        \n",
    "        # Compute L2 loss\n",
    "        loss = net.loss(y_pred, y_true)\n",
    "        loss_train = loss.data[0]\n",
    "        running_loss += loss_train\n",
    "        running_total += 1\n",
    "\n",
    "        # Backprop\n",
    "        loss.backward()\n",
    "        optimizer.step()\n",
    "        optimizer.zero_grad()\n",
    "\n",
    "    # learning rate, print results\n",
    "    if not iteration%batch_iters:\n",
    "\n",
    "        # time\n",
    "        t_stop = time.time() - t_start\n",
    "        t_start = time.time()\n",
    "\n",
    "        # update learning rate \n",
    "        average_loss = running_loss/ running_total\n",
    "        if average_loss > 0.99* average_loss_old:\n",
    "            lr /= decay_rate\n",
    "        average_loss_old = average_loss\n",
    "        optimizer = net.update_learning_rate(optimizer, lr)\n",
    "        running_loss = 0.0\n",
    "        running_total = 0\n",
    "\n",
    "        # print results\n",
    "        if 1==1:\n",
    "            print('\\niteration= %d, loss(%diter)= %.3f, lr= %.8f, time(%diter)= %.2f' % \n",
    "                  (iteration, batch_iters, average_loss, lr, batch_iters, t_stop))"
   ]
  },
  {
   "cell_type": "code",
   "execution_count": 13,
   "metadata": {},
   "outputs": [
    {
     "data": {
      "image/png": "[encoded data removed]",
      "text/plain": [
       "<Figure size 432x288 with 1 Axes>"
      ]
     },
     "metadata": {},
     "output_type": "display_data"
    }
   ],
   "source": [
    "plot_embedding(y_true.numpy(), G.labels.numpy())"
   ]
  },
  {
   "cell_type": "code",
   "execution_count": 14,
   "metadata": {},
   "outputs": [
    {
     "data": {
      "image/png": "[encoded data removed]",
      "text/plain": [
       "<Figure size 432x288 with 1 Axes>"
      ]
     },
     "metadata": {},
     "output_type": "display_data"
    }
   ],
   "source": [
    "plot_embedding(y_pred.detach().numpy(), G.labels.numpy())"
   ]
  },
  {
   "cell_type": "code",
   "execution_count": 15,
   "metadata": {},
   "outputs": [
    {
     "name": "stderr",
     "output_type": "stream",
     "text": [
      "/Users/signapoop/anaconda3/envs/py36/lib/python3.6/site-packages/torch/nn/functional.py:1006: UserWarning: nn.functional.sigmoid is deprecated. Use torch.sigmoid instead.\n",
      "  warnings.warn(\"nn.functional.sigmoid is deprecated. Use torch.sigmoid instead.\")\n",
      "/Users/signapoop/anaconda3/envs/py36/lib/python3.6/site-packages/ipykernel_launcher.py:17: UserWarning: invalid index of a 0-dim tensor. This will be an error in PyTorch 0.5. Use tensor.item() to convert a 0-dim tensor to a Python number\n"
     ]
    }
   ],
   "source": [
    "for batch_idx, (inputs, labels) in enumerate(test_loader, start=1):\n",
    "    if batch_idx > 2: break\n",
    "\n",
    "    n_samples = inputs.shape[0]\n",
    "    X_test = inputs.view(n_samples,-1)\n",
    "    X_test = X_test.numpy()\n",
    "    G_test = get_graph_block(X_test, labels)\n",
    "\n",
    "    # Forward pass\n",
    "    y_pred = net.forward(G_test)\n",
    "\n",
    "    y_true = G_test.target\n",
    "    y_true = Variable( torch.FloatTensor(y_true).type(dtypeFloat) , requires_grad=False) \n",
    "\n",
    "    # Compute L2 loss\n",
    "    loss = net.loss(y_pred, y_true)\n",
    "    loss_test = loss.data[0]"
   ]
  },
  {
   "cell_type": "code",
   "execution_count": 16,
   "metadata": {},
   "outputs": [
    {
     "name": "stdout",
     "output_type": "stream",
     "text": [
      "tensor(0.2396)\n"
     ]
    }
   ],
   "source": [
    "print(loss_test)"
   ]
  },
  {
   "cell_type": "code",
   "execution_count": 17,
   "metadata": {},
   "outputs": [
    {
     "data": {
      "image/png": "[encoded data removed]",
      "text/plain": [
       "<Figure size 432x288 with 1 Axes>"
      ]
     },
     "metadata": {},
     "output_type": "display_data"
    }
   ],
   "source": [
    "plot_embedding(y_true.numpy(), G_test.labels.numpy())"
   ]
  },
  {
   "cell_type": "code",
   "execution_count": 18,
   "metadata": {},
   "outputs": [
    {
     "data": {
      "image/png": "[encoded data removed]",
      "text/plain": [
       "<Figure size 432x288 with 1 Axes>"
      ]
     },
     "metadata": {},
     "output_type": "display_data"
    }
   ],
   "source": [
    "plot_embedding(y_pred.detach().numpy(), G_test.labels.numpy())"
   ]
  },
  {
   "cell_type": "code",
   "execution_count": null,
   "metadata": {},
   "outputs": [],
   "source": []
  },
  {
   "cell_type": "code",
   "execution_count": null,
   "metadata": {},
   "outputs": [],
   "source": []
  },
  {
   "cell_type": "code",
   "execution_count": null,
   "metadata": {},
   "outputs": [],
   "source": []
  }
 ],
 "metadata": {
  "kernelspec": {
   "display_name": "Python (py36)",
   "language": "python",
   "name": "py36"
  },
  "language_info": {
   "codemirror_mode": {
    "name": "ipython",
    "version": 3
   },
   "file_extension": ".py",
   "mimetype": "text/x-python",
   "name": "python",
   "nbconvert_exporter": "python",
   "pygments_lexer": "ipython3",
   "version": "3.6.6"
  }
 },
 "nbformat": 4,
 "nbformat_minor": 2
}
