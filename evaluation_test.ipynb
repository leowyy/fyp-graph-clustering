{
 "cells": [
  {
   "cell_type": "code",
   "execution_count": 7,
   "metadata": {},
   "outputs": [],
   "source": [
    "import pickle \n",
    "import numpy as np\n",
    "import torch\n",
    "from sklearn.manifold.t_sne import trustworthiness"
   ]
  },
  {
   "cell_type": "code",
   "execution_count": 2,
   "metadata": {},
   "outputs": [
    {
     "name": "stdout",
     "output_type": "stream",
     "text": [
      "cuda not available\n"
     ]
    }
   ],
   "source": [
    "from core.GraphConvNet2 import GraphConvNet2\n",
    "from core.DataEmbeddingGraph import DataEmbeddingGraph\n",
    "from util.plot_embedding import plot_embedding, plot_embedding_subplot"
   ]
  },
  {
   "cell_type": "code",
   "execution_count": 3,
   "metadata": {},
   "outputs": [],
   "source": [
    "task_parameters = {}\n",
    "task_parameters['flag_task'] = 'clustering'\n",
    "task_parameters['reduction_method'] = 'spectral'\n",
    "task_parameters['n_components'] = 2\n",
    "\n",
    "net_parameters = {}\n",
    "net_parameters['D'] = 784\n",
    "net_parameters['n_components'] = task_parameters['n_components']\n",
    "net_parameters['H'] = 50\n",
    "net_parameters['L'] = 10"
   ]
  },
  {
   "cell_type": "code",
   "execution_count": 9,
   "metadata": {},
   "outputs": [],
   "source": [
    "filename = 'data/set_100_mnist_spectral_size_200_500.pkl'\n",
    "with open(filename, 'rb') as f:\n",
    "    [all_test_data] = pickle.load(f)"
   ]
  },
  {
   "cell_type": "code",
   "execution_count": 13,
   "metadata": {},
   "outputs": [],
   "source": [
    "# Loss functions\n",
    "def l2_norm(v):\n",
    "    return np.sqrt(np.sum(np.square(v), axis=1, dtype=np.float64))\n",
    "\n",
    "def pairwise_loss_function_1(y_true, y_pred, W):\n",
    "    pairwise_loss_1 = mean_squared_error(y_true[W.row,:], y_true[W.col,:])\n",
    "    pairwise_loss_2 = mean_squared_error(y_pred[W.row,:], y_pred[W.col,:])\n",
    "    return np.square(pairwise_loss_1 - pairwise_loss_2)\n",
    "\n",
    "def pairwise_loss_function_2(y_true, y_pred, W):\n",
    "    pairwise_loss_1 = l2_norm(y_true[W.row,:] - y_true[W.col,:])\n",
    "    pairwise_loss_2 = l2_norm(y_pred[W.row,:] - y_pred[W.col,:])\n",
    "    return np.average(np.square(pairwise_loss_1 - pairwise_loss_2))"
   ]
  },
  {
   "cell_type": "code",
   "execution_count": 21,
   "metadata": {},
   "outputs": [],
   "source": [
    "def evaluate_net(net, all_test_data):\n",
    "    n_test = len(all_test_data)\n",
    "    similarity_tracker = np.zeros((n_test, 1))\n",
    "    trust_tracker = np.zeros((n_test, 2))\n",
    "    \n",
    "    for i in range(n_test):\n",
    "        G = all_test_data[i]\n",
    "        y_pred = net.forward(G).detach().numpy()\n",
    "        similarity_tracker[i,0] =  pairwise_loss_function_2(G.target, y_pred, G.adj_matrix)\n",
    "        trust_tracker[i,0] = trustworthiness(G.signal, G.target, n_neighbors=5)\n",
    "        trust_tracker[i,1] = trustworthiness(G.signal, y_pred, n_neighbors=5)\n",
    "    return similarity_tracker, trust_tracker"
   ]
  },
  {
   "cell_type": "code",
   "execution_count": 22,
   "metadata": {},
   "outputs": [],
   "source": [
    "# Load trained net\n",
    "net = GraphConvNet2(net_parameters, task_parameters)\n",
    "root = 'results/mnist_spectral2/'\n",
    "filename = root + 'net5.pkl'\n",
    "checkpoint = torch.load(filename)\n",
    "net.load_state_dict(checkpoint['state_dict'])x\n",
    "\n",
    "similarity_tracker, trust_tracker = evaluate_net(net, all_test_data)"
   ]
  },
  {
   "cell_type": "code",
   "execution_count": 24,
   "metadata": {},
   "outputs": [
    {
     "name": "stdout",
     "output_type": "stream",
     "text": [
      "[0.05158281]\n",
      "[0.7597092  0.70382048]\n"
     ]
    }
   ],
   "source": [
    "print(np.average(similarity_tracker, axis=0))\n",
    "print(np.average(trust_tracker, axis=0))"
   ]
  },
  {
   "cell_type": "code",
   "execution_count": 27,
   "metadata": {},
   "outputs": [
    {
     "name": "stdout",
     "output_type": "stream",
     "text": [
      "\n",
      "nb of hidden layers= 10\n",
      "dim of layers (w/ embed dim)= [784, 50, 50, 50, 50, 50, 50, 50, 50, 50, 50]\n",
      "\n",
      "\n"
     ]
    }
   ],
   "source": [
    "# Load trained net\n",
    "net = GraphConvNet2(net_parameters, task_parameters)\n",
    "root = 'results/mnist_spectral2/'\n",
    "filename = root + 'net1.pkl'\n",
    "checkpoint = torch.load(filename)\n",
    "net.load_state_dict(checkpoint['state_dict'])\n",
    "\n",
    "similarity_tracker2, trust_tracker2 = evaluate_net(net, all_test_data)"
   ]
  },
  {
   "cell_type": "code",
   "execution_count": 28,
   "metadata": {},
   "outputs": [
    {
     "name": "stdout",
     "output_type": "stream",
     "text": [
      "[0.06258942]\n",
      "[0.7597092  0.69042917]\n"
     ]
    }
   ],
   "source": [
    "print(np.average(similarity_tracker2, axis=0))\n",
    "print(np.average(trust_tracker2, axis=0))"
   ]
  },
  {
   "cell_type": "code",
   "execution_count": null,
   "metadata": {},
   "outputs": [],
   "source": []
  }
 ],
 "metadata": {
  "kernelspec": {
   "display_name": "Python (py36)",
   "language": "python",
   "name": "py36"
  },
  "language_info": {
   "codemirror_mode": {
    "name": "ipython",
    "version": 3
   },
   "file_extension": ".py",
   "mimetype": "text/x-python",
   "name": "python",
   "nbconvert_exporter": "python",
   "pygments_lexer": "ipython3",
   "version": "3.6.6"
  }
 },
 "nbformat": 4,
 "nbformat_minor": 2
}
