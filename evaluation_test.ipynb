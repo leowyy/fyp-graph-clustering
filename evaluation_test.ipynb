{
 "cells": [
  {
   "cell_type": "code",
   "execution_count": 1,
   "metadata": {},
   "outputs": [],
   "source": [
    "%matplotlib inline\n",
    "import matplotlib.pyplot as plt\n",
    "\n",
    "import pickle \n",
    "import numpy as np\n",
    "import torch\n",
    "import os\n",
    "from timeit import default_timer as timer\n",
    "\n",
    "from sklearn import manifold\n",
    "from sklearn.manifold.t_sne import trustworthiness\n",
    "from sklearn.model_selection import KFold\n",
    "from sklearn import neighbors\n",
    "from sklearn.metrics import accuracy_score"
   ]
  },
  {
   "cell_type": "code",
   "execution_count": 2,
   "metadata": {},
   "outputs": [],
   "source": [
    "from core.SimpleConvNet import SimpleConvNet\n",
    "from core.GraphConvNet2 import GraphConvNet2\n",
    "from core.DataEmbeddingGraph import DataEmbeddingGraph\n",
    "from util.plot_embedding import plot_embedding, plot_embedding_subplot\n",
    "from util.mnist_data_loader import get_train_set, get_test_set\n"
   ]
  },
  {
   "cell_type": "code",
   "execution_count": 3,
   "metadata": {},
   "outputs": [
    {
     "name": "stdout",
     "output_type": "stream",
     "text": [
      "cuda available\n"
     ]
    }
   ],
   "source": [
    "if torch.cuda.is_available():\n",
    "    print('cuda available')\n",
    "    device = 'gpu'\n",
    "else:\n",
    "    print('cuda not available')\n",
    "    device = 'cpu'"
   ]
  },
  {
   "cell_type": "code",
   "execution_count": 16,
   "metadata": {},
   "outputs": [],
   "source": [
    "task_parameters = {}\n",
    "task_parameters['reduction_method'] = 'spectral'\n",
    "task_parameters['n_components'] = 2\n",
    "\n",
    "net_parameters = {}\n",
    "net_parameters['n_components'] = task_parameters['n_components']\n",
    "net_parameters['D'] = 784 # input dimension\n",
    "net_parameters['H'] = 50 # number of hidden units\n",
    "net_parameters['L'] = 10 # number of hidden layers\n",
    "net_parameters['n_channels'] = 1\n",
    "net_parameters['n_units_1'] = net_parameters['n_units_2'] = 50"
   ]
  },
  {
   "cell_type": "code",
   "execution_count": 5,
   "metadata": {},
   "outputs": [
    {
     "ename": "FileNotFoundError",
     "evalue": "[Errno 2] No such file or directory: 'data/set_100_mnist_spectral_size_200_500.pkl'",
     "output_type": "error",
     "traceback": [
      "\u001b[0;31m---------------------------------------------------------------------------\u001b[0m",
      "\u001b[0;31mFileNotFoundError\u001b[0m                         Traceback (most recent call last)",
      "\u001b[0;32m<ipython-input-5-fa73a38b0420>\u001b[0m in \u001b[0;36m<module>\u001b[0;34m()\u001b[0m\n\u001b[1;32m      1\u001b[0m \u001b[0mfilename\u001b[0m \u001b[0;34m=\u001b[0m \u001b[0;34m'data/set_100_mnist_spectral_size_200_500.pkl'\u001b[0m\u001b[0;34m\u001b[0m\u001b[0m\n\u001b[0;32m----> 2\u001b[0;31m \u001b[0;32mwith\u001b[0m \u001b[0mopen\u001b[0m\u001b[0;34m(\u001b[0m\u001b[0mfilename\u001b[0m\u001b[0;34m,\u001b[0m \u001b[0;34m'rb'\u001b[0m\u001b[0;34m)\u001b[0m \u001b[0;32mas\u001b[0m \u001b[0mf\u001b[0m\u001b[0;34m:\u001b[0m\u001b[0;34m\u001b[0m\u001b[0m\n\u001b[0m\u001b[1;32m      3\u001b[0m     \u001b[0;34m[\u001b[0m\u001b[0mall_test_data\u001b[0m\u001b[0;34m]\u001b[0m \u001b[0;34m=\u001b[0m \u001b[0mpickle\u001b[0m\u001b[0;34m.\u001b[0m\u001b[0mload\u001b[0m\u001b[0;34m(\u001b[0m\u001b[0mf\u001b[0m\u001b[0;34m)\u001b[0m\u001b[0;34m\u001b[0m\u001b[0m\n",
      "\u001b[0;31mFileNotFoundError\u001b[0m: [Errno 2] No such file or directory: 'data/set_100_mnist_spectral_size_200_500.pkl'"
     ]
    }
   ],
   "source": [
    "filename = 'data/set_100_mnist_spectral_size_200_500.pkl'\n",
    "with open(filename, 'rb') as f:\n",
    "    [all_test_data] = pickle.load(f)"
   ]
  },
  {
   "cell_type": "code",
   "execution_count": 5,
   "metadata": {},
   "outputs": [],
   "source": [
    "# Loss functions\n",
    "def l2_norm(v):\n",
    "    return np.sqrt(np.sum(np.square(v), axis=1, dtype=np.float64))\n",
    "\n",
    "def pairwise_loss_function_1(y_true, y_pred, W):\n",
    "    pairwise_loss_1 = mean_squared_error(y_true[W.row,:], y_true[W.col,:])\n",
    "    pairwise_loss_2 = mean_squared_error(y_pred[W.row,:], y_pred[W.col,:])\n",
    "    return np.square(pairwise_loss_1 - pairwise_loss_2)\n",
    "\n",
    "def pairwise_loss_function_2(y_true, y_pred, W):\n",
    "    pairwise_loss_1 = l2_norm(y_true[W.row,:] - y_true[W.col,:])\n",
    "    pairwise_loss_2 = l2_norm(y_pred[W.row,:] - y_pred[W.col,:])\n",
    "    return np.average(np.square(pairwise_loss_1 - pairwise_loss_2))"
   ]
  },
  {
   "cell_type": "code",
   "execution_count": 87,
   "metadata": {},
   "outputs": [],
   "source": [
    "def one_nearest_neighbours_generalisation_error(X, y):\n",
    "    kf = KFold(n_splits=10)\n",
    "    kf.get_n_splits(X)\n",
    "    errors = []\n",
    "    for train_index, test_index in kf.split(X):\n",
    "        X_train, X_test = X[train_index], X[test_index]\n",
    "        y_train, y_test = y[train_index], y[test_index]\n",
    "        clf = neighbors.KNeighborsClassifier(n_neighbors=1)\n",
    "        clf.fit(X_train, y_train)\n",
    "        y_pred = clf.predict(X_test)\n",
    "        errors.append(1- accuracy_score(y_test, y_pred))\n",
    "    return np.average(errors)"
   ]
  },
  {
   "cell_type": "code",
   "execution_count": 110,
   "metadata": {},
   "outputs": [],
   "source": [
    "def evaluate_net(net, all_test_data):\n",
    "    n_test = len(all_test_data)\n",
    "    similarity_tracker = np.zeros((n_test, ))\n",
    "    trust_tracker = np.zeros((n_test, ))\n",
    "    one_nn_tracker = np.zeros((n_test, ))\n",
    "    time_tracker = np.zeros((n_test, ))\n",
    "    \n",
    "    for i in range(n_test):\n",
    "        G = all_test_data[i]\n",
    "        time_start = timer()\n",
    "        y_pred = net.forward(G).detach().numpy()\n",
    "        time_end = timer()\n",
    "        time_tracker[i] = time_end - time_start\n",
    "        \n",
    "        similarity_tracker[i] =  pairwise_loss_function_2(G.target, y_pred, G.adj_matrix)\n",
    "        X = G.data.view(G.data.shape[0], -1).numpy()\n",
    "        trust_tracker[i] = trustworthiness(X, y_pred, n_neighbors=5)\n",
    "        one_nn_tracker[i] = one_nearest_neighbours_generalisation_error(y_pred, G.labels.numpy())\n",
    "    return similarity_tracker, trust_tracker, one_nn_tracker, time_tracker"
   ]
  },
  {
   "cell_type": "code",
   "execution_count": 111,
   "metadata": {},
   "outputs": [],
   "source": [
    "def evaluate_original_embedding(all_test_data):\n",
    "    n_test = len(all_test_data)\n",
    "    trust_tracker = np.zeros((n_test, ))\n",
    "    one_nn_tracker = np.zeros((n_test, ))\n",
    "    time_tracker = np.zeros((n_test, )) \n",
    "    \n",
    "    for i in range(n_test):\n",
    "        G = all_test_data[i]\n",
    "        X = G.data.view(G.data.shape[0], -1).numpy()\n",
    "        time_start = timer()\n",
    "        embedder = manifold.SpectralEmbedding(n_components=2, random_state=0,\n",
    "                                              eigen_solver=\"arpack\")\n",
    "        X_spectral = embedder.fit_transform(X)\n",
    "        time_end = timer()\n",
    "        time_tracker[i] = time_end - time_start\n",
    "        \n",
    "        trust_tracker[i] = trustworthiness(X, X_spectral, n_neighbors=5)\n",
    "        one_nn_tracker[i] = one_nearest_neighbours_generalisation_error(X_spectral, G.labels.numpy())\n",
    "    return trust_tracker, one_nn_tracker, time_tracker"
   ]
  },
  {
   "cell_type": "code",
   "execution_count": 112,
   "metadata": {},
   "outputs": [],
   "source": [
    "def evaluate_tsne_embedding(all_test_data):\n",
    "    n_test = len(all_test_data)\n",
    "    trust_tracker = np.zeros((n_test, ))\n",
    "    one_nn_tracker = np.zeros((n_test, ))\n",
    "    time_tracker = np.zeros((n_test, ))\n",
    "    \n",
    "    for i in range(n_test):\n",
    "        G = all_test_data[i]\n",
    "        X = G.data.view(G.data.shape[0], -1).numpy()\n",
    "        time_start = timer()\n",
    "        embedder = manifold.TSNE(n_components=2, init='pca', random_state=0)\n",
    "        X_tsne = embedder.fit_transform(X)\n",
    "        time_end = timer()\n",
    "        time_tracker[i] = time_end - time_start\n",
    "        \n",
    "        trust_tracker[i] = trustworthiness(X, X_tsne, n_neighbors=5)\n",
    "        one_nn_tracker[i] = one_nearest_neighbours_generalisation_error(X_tsne, G.labels.numpy())\n",
    "    return trust_tracker, one_nn_tracker, time_tracker"
   ]
  },
  {
   "cell_type": "code",
   "execution_count": 113,
   "metadata": {},
   "outputs": [
    {
     "name": "stdout",
     "output_type": "stream",
     "text": [
      "Trustworthy score = 0.7582520548568904\n",
      "1-NN generalisation error = 0.5524332002099447\n",
      "Average time to compute (s) = 0.17640546113987512\n"
     ]
    }
   ],
   "source": [
    "# Spectral embeddings\n",
    "trust_tracker, one_nn_tracker, time_tracker = evaluate_original_embedding(all_test_data)\n",
    "print(\"Trustworthy score = {}\".format(np.average(trust_tracker)))\n",
    "print(\"1-NN generalisation error = {}\".format(np.average(one_nn_tracker)))\n",
    "print(\"Average time to compute (s) = {}\".format(np.average(time_tracker)))"
   ]
  },
  {
   "cell_type": "code",
   "execution_count": 116,
   "metadata": {},
   "outputs": [
    {
     "name": "stdout",
     "output_type": "stream",
     "text": [
      "Trustworthy score = 0.955044333450673\n",
      "1-NN generalisation error = 0.18022943449431011\n",
      "Average time to compute (s) = 5.86404038087021\n"
     ]
    }
   ],
   "source": [
    "# t-SNE embeddings\n",
    "trust_tracker, one_nn_tracker, time_tracker = evaluate_tsne_embedding(all_test_data)\n",
    "print(\"Trustworthy score = {}\".format(np.average(trust_tracker)))\n",
    "print(\"1-NN generalisation error = {}\".format(np.average(one_nn_tracker)))\n",
    "print(\"Average time to compute (s) = {}\".format(np.average(time_tracker)))"
   ]
  },
  {
   "cell_type": "code",
   "execution_count": 114,
   "metadata": {},
   "outputs": [
    {
     "name": "stdout",
     "output_type": "stream",
     "text": [
      "Similarity loss = 0.0709895799395694\n",
      "Trustworthy score = 0.5501872305425336\n",
      "1-NN generalisation error = 0.8476193517441856\n",
      "Average time to compute (s) = 0.7939383930801704\n"
     ]
    }
   ],
   "source": [
    "# Simple conv net\n",
    "net = SimpleConvNet(net_parameters)\n",
    "root = 'results/mnist_spectral1/'\n",
    "filename = root + 'conv_net5.pkl'\n",
    "checkpoint = torch.load(filename, map_location=device)\n",
    "net.load_state_dict(checkpoint['state_dict'])\n",
    "\n",
    "similarity_tracker, trust_tracker, one_nn_tracker, time_tracker = evaluate_net(net, all_test_data)\n",
    "print(\"Similarity loss = {}\".format(np.average(similarity_tracker)))\n",
    "print(\"Trustworthy score = {}\".format(np.average(trust_tracker)))\n",
    "print(\"1-NN generalisation error = {}\".format(np.average(one_nn_tracker)))\n",
    "print(\"Average time to compute (s) = {}\".format(np.average(time_tracker)))"
   ]
  },
  {
   "cell_type": "code",
   "execution_count": 115,
   "metadata": {},
   "outputs": [
    {
     "name": "stdout",
     "output_type": "stream",
     "text": [
      "\n",
      "nb of hidden layers= 10\n",
      "dim of layers (w/ embed dim)= [784, 50, 50, 50, 50, 50, 50, 50, 50, 50, 50]\n",
      "\n",
      "\n",
      "Similarity loss = 0.02278103170456813\n",
      "Trustworthy score = 0.7234139254958396\n",
      "1-NN generalisation error = 0.6269990045456791\n",
      "Average time to compute (s) = 0.3408213357401837\n"
     ]
    }
   ],
   "source": [
    "# Graph net\n",
    "net = GraphConvNet2(net_parameters)\n",
    "root = 'results/mnist_spectral1/'\n",
    "filename = root + 'graph_net5.pkl'\n",
    "checkpoint = torch.load(filename, map_location=device)\n",
    "net.load_state_dict(checkpoint['state_dict'])\n",
    "\n",
    "similarity_tracker, trust_tracker, one_nn_tracker, time_tracker = evaluate_net(net, all_test_data)\n",
    "print(\"Similarity loss = {}\".format(np.average(similarity_tracker)))\n",
    "print(\"Trustworthy score = {}\".format(np.average(trust_tracker)))\n",
    "print(\"1-NN generalisation error = {}\".format(np.average(one_nn_tracker)))\n",
    "print(\"Average time to compute (s) = {}\".format(np.average(time_tracker)))"
   ]
  },
  {
   "cell_type": "code",
   "execution_count": 10,
   "metadata": {},
   "outputs": [],
   "source": [
    "def count_parameters(model):\n",
    "    return sum(p.numel() for p in model.parameters() if p.requires_grad)"
   ]
  },
  {
   "cell_type": "code",
   "execution_count": 17,
   "metadata": {},
   "outputs": [
    {
     "data": {
      "text/plain": [
       "68952"
      ]
     },
     "execution_count": 17,
     "metadata": {},
     "output_type": "execute_result"
    }
   ],
   "source": [
    "# Simple conv net\n",
    "net = SimpleConvNet(net_parameters)   \n",
    "count_parameters(net)"
   ]
  },
  {
   "cell_type": "code",
   "execution_count": 13,
   "metadata": {},
   "outputs": [
    {
     "data": {
      "text/plain": [
       "298102"
      ]
     },
     "execution_count": 13,
     "metadata": {},
     "output_type": "execute_result"
    }
   ],
   "source": [
    "# Graph net\n",
    "net = GraphConvNet2(net_parameters)   \n",
    "count_parameters(net)"
   ]
  },
  {
   "cell_type": "code",
   "execution_count": 14,
   "metadata": {},
   "outputs": [
    {
     "data": {
      "text/plain": [
       "110658"
      ]
     },
     "execution_count": 14,
     "metadata": {},
     "output_type": "execute_result"
    }
   ],
   "source": [
    "net = SimpleConvNet(net_parameters)   \n",
    "count_parameters(net)"
   ]
  },
  {
   "cell_type": "code",
   "execution_count": 15,
   "metadata": {},
   "outputs": [
    {
     "data": {
      "text/plain": [
       "<bound method SimpleConvNet.nb_param of SimpleConvNet(\n",
       "  (conv1): Conv2d(1, 64, kernel_size=(5, 5), stride=(1, 1), padding=(2, 2))\n",
       "  (conv2): Conv2d(64, 64, kernel_size=(5, 5), stride=(1, 1), padding=(2, 2))\n",
       "  (norm1): BatchNorm2d(64, eps=1e-05, momentum=0.1, affine=True, track_running_stats=True)\n",
       "  (norm2): BatchNorm2d(64, eps=1e-05, momentum=0.1, affine=True, track_running_stats=True)\n",
       "  (fc): Linear(in_features=3136, out_features=2, bias=True)\n",
       ")>"
      ]
     },
     "execution_count": 15,
     "metadata": {},
     "output_type": "execute_result"
    }
   ],
   "source": [
    "net.nb_param"
   ]
  },
  {
   "cell_type": "code",
   "execution_count": null,
   "metadata": {},
   "outputs": [],
   "source": []
  }
 ],
 "metadata": {
  "kernelspec": {
   "display_name": "Python 3",
   "language": "python",
   "name": "python3"
  },
  "language_info": {
   "codemirror_mode": {
    "name": "ipython",
    "version": 3
   },
   "file_extension": ".py",
   "mimetype": "text/x-python",
   "name": "python",
   "nbconvert_exporter": "python",
   "pygments_lexer": "ipython3",
   "version": "3.6.6"
  }
 },
 "nbformat": 4,
 "nbformat_minor": 2
}
